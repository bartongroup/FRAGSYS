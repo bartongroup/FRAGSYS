{
 "cells": [
  {
   "cell_type": "markdown",
   "metadata": {},
   "source": [
    "# EXPLORING THE DIFFERENCES BETWEEN KNOWN FUNCTIONAL AND UNKNOWN LIGAND BINDING SITES"
   ]
  },
  {
   "cell_type": "markdown",
   "metadata": {},
   "source": [
    "## IMPORTING NECESSARY PACKAGES"
   ]
  },
  {
   "cell_type": "code",
   "execution_count": 1,
   "metadata": {},
   "outputs": [],
   "source": [
    "from fragsys_analysis import *"
   ]
  },
  {
   "cell_type": "markdown",
   "metadata": {},
   "source": [
    "## READING INPUT DATA"
   ]
  },
  {
   "cell_type": "code",
   "execution_count": 2,
   "metadata": {},
   "outputs": [],
   "source": [
    "main_dir = \"/Users/2394007/Documents/PHD/LOCAL/FRAGSYS_DEF/\"\n",
    "results_dir = os.path.join(main_dir, \"results\")\n",
    "all_bs_ress = pd.read_csv(os.path.join(results_dir, \"all_binding_site_residues_wgroup.csv\"))\n",
    "all_bss = pd.read_csv(os.path.join(results_dir, \"all_binding_sites.csv\"))\n",
    "all_bs_ress[\"RSA\"] = all_bs_ress[\"RSA\"].apply(lambda x: x if x <= 100 else 100)"
   ]
  },
  {
   "cell_type": "code",
   "execution_count": 3,
   "metadata": {},
   "outputs": [],
   "source": [
    "func_df = load_pickle(os.path.join(results_dir, \"prot_func_dict_auto_man_comb.pkl\"))"
   ]
  },
  {
   "cell_type": "code",
   "execution_count": 4,
   "metadata": {},
   "outputs": [
    {
     "data": {
      "text/html": [
       "<div>\n",
       "<style scoped>\n",
       "    .dataframe tbody tr th:only-of-type {\n",
       "        vertical-align: middle;\n",
       "    }\n",
       "\n",
       "    .dataframe tbody tr th {\n",
       "        vertical-align: top;\n",
       "    }\n",
       "\n",
       "    .dataframe thead th {\n",
       "        text-align: right;\n",
       "    }\n",
       "</style>\n",
       "<table border=\"1\" class=\"dataframe\">\n",
       "  <thead>\n",
       "    <tr style=\"text-align: right;\">\n",
       "      <th></th>\n",
       "      <th>bs_id</th>\n",
       "      <th>auto</th>\n",
       "      <th>manual</th>\n",
       "      <th>comb</th>\n",
       "    </tr>\n",
       "  </thead>\n",
       "  <tbody>\n",
       "    <tr>\n",
       "      <th>0</th>\n",
       "      <td>H0Y4R8_0_BS0</td>\n",
       "      <td>UF</td>\n",
       "      <td>UF</td>\n",
       "      <td>UF</td>\n",
       "    </tr>\n",
       "    <tr>\n",
       "      <th>1</th>\n",
       "      <td>O15178_0_BS0</td>\n",
       "      <td>UF</td>\n",
       "      <td>UF</td>\n",
       "      <td>UF</td>\n",
       "    </tr>\n",
       "    <tr>\n",
       "      <th>2</th>\n",
       "      <td>O15178_0_BS1</td>\n",
       "      <td>UF</td>\n",
       "      <td>UF</td>\n",
       "      <td>UF</td>\n",
       "    </tr>\n",
       "  </tbody>\n",
       "</table>\n",
       "</div>"
      ],
      "text/plain": [
       "          bs_id auto manual comb\n",
       "0  H0Y4R8_0_BS0   UF     UF   UF\n",
       "1  O15178_0_BS0   UF     UF   UF\n",
       "2  O15178_0_BS1   UF     UF   UF"
      ]
     },
     "execution_count": 4,
     "metadata": {},
     "output_type": "execute_result"
    }
   ],
   "source": [
    "func_df.head(3)"
   ]
  },
  {
   "cell_type": "code",
   "execution_count": 39,
   "metadata": {
    "jupyter": {
     "source_hidden": true
    },
    "tags": []
   },
   "outputs": [],
   "source": [
    "def f(row):\n",
    "    if row['auto'] == \"UF\" and row['manual'] == \"KF\":\n",
    "        val = \"KF\"\n",
    "    else:\n",
    "        val = row['auto']\n",
    "    return val"
   ]
  },
  {
   "cell_type": "code",
   "execution_count": 47,
   "metadata": {
    "jupyter": {
     "source_hidden": true
    },
    "tags": []
   },
   "outputs": [],
   "source": [
    "func_df['comb'] = func_df.apply(f, axis=1)"
   ]
  },
  {
   "cell_type": "code",
   "execution_count": 5,
   "metadata": {},
   "outputs": [],
   "source": [
    "func_dict = {}\n",
    "for _, row in func_df.iterrows():\n",
    "    prot, group, bs = row.bs_id.split(\"_\")\n",
    "    func_dict[(prot, group, bs)] = row.comb # combination of automated feature extraction and manual one"
   ]
  },
  {
   "cell_type": "code",
   "execution_count": 6,
   "metadata": {},
   "outputs": [
    {
     "data": {
      "text/plain": [
       "UF    249\n",
       "KF     44\n",
       "Name: comb, dtype: int64"
      ]
     },
     "execution_count": 6,
     "metadata": {},
     "output_type": "execute_result"
    }
   ],
   "source": [
    "func_df.comb.value_counts()"
   ]
  },
  {
   "cell_type": "code",
   "execution_count": 7,
   "metadata": {
    "tags": []
   },
   "outputs": [],
   "source": [
    "active = []\n",
    "non_active = []\n",
    "for k, v in func_dict.items():\n",
    "    prot = k[0]\n",
    "    group = k[1]\n",
    "    bs_id = k[2]\n",
    "    sel_rows = all_bs_ress[(all_bs_ress.protein == prot)&(all_bs_ress.group == int(group))&(all_bs_ress[bs_id] == 1)]\n",
    "    if v == \"KF\":\n",
    "        active.append(sel_rows)\n",
    "    elif v == \"UF\":\n",
    "        non_active.append(sel_rows)\n",
    "active_df = pd.concat(active)\n",
    "non_active_df = pd.concat(non_active)"
   ]
  },
  {
   "cell_type": "code",
   "execution_count": 32,
   "metadata": {},
   "outputs": [],
   "source": [
    "active_df = pd.read_csv(os.path.join(main_dir, \"results\", \"active_site_ress.csv\"))\n",
    "non_active_df = pd.read_csv(os.path.join(main_dir, \"results\", \"non_active_site_ress.csv\"))"
   ]
  },
  {
   "cell_type": "code",
   "execution_count": 8,
   "metadata": {},
   "outputs": [
    {
     "name": "stdout",
     "output_type": "stream",
     "text": [
      "5767\n",
      "8456\n"
     ]
    }
   ],
   "source": [
    "print(len(active_df))\n",
    "print(len(non_active_df))"
   ]
  },
  {
   "cell_type": "code",
   "execution_count": 9,
   "metadata": {},
   "outputs": [],
   "source": [
    "active_df = active_df.drop_duplicates([\"protein\", \"UniProt_ResNum\", \"UniProt_ResName\"])\n",
    "non_active_df = non_active_df.drop_duplicates([\"protein\", \"UniProt_ResNum\", \"UniProt_ResName\"])"
   ]
  },
  {
   "cell_type": "code",
   "execution_count": 10,
   "metadata": {},
   "outputs": [
    {
     "name": "stdout",
     "output_type": "stream",
     "text": [
      "691\n",
      "2050\n"
     ]
    }
   ],
   "source": [
    "print(len(active_df))\n",
    "print(len(non_active_df))"
   ]
  },
  {
   "cell_type": "markdown",
   "metadata": {},
   "source": [
    "### RSA, MES, AND SHENKIN DO NOT FOLLOW A NORMAL DISTRIBUTION"
   ]
  },
  {
   "cell_type": "code",
   "execution_count": 11,
   "metadata": {},
   "outputs": [],
   "source": [
    "active_df.index = range(0, len(active_df))\n",
    "non_active_df.index = range(0, len(non_active_df))"
   ]
  },
  {
   "cell_type": "code",
   "execution_count": 12,
   "metadata": {},
   "outputs": [
    {
     "name": "stdout",
     "output_type": "stream",
     "text": [
      "NormaltestResult(statistic=27.074347971485764, pvalue=1.3209307109831062e-06)\n",
      "NormaltestResult(statistic=64.17466730550996, pvalue=1.1605077781952751e-14)\n"
     ]
    }
   ],
   "source": [
    "print(scipy.stats.normaltest(active_df.log_oddsratio.tolist()))\n",
    "print(scipy.stats.normaltest(non_active_df.log_oddsratio.tolist()))"
   ]
  },
  {
   "cell_type": "code",
   "execution_count": 13,
   "metadata": {},
   "outputs": [
    {
     "name": "stdout",
     "output_type": "stream",
     "text": [
      "NormaltestResult(statistic=78.14182283023712, pvalue=1.0757683664834876e-17)\n",
      "NormaltestResult(statistic=215.75923969318006, pvalue=1.4075907065836751e-47)\n"
     ]
    }
   ],
   "source": [
    "print(scipy.stats.normaltest(active_df.shenkin.tolist()))\n",
    "print(scipy.stats.normaltest(non_active_df.shenkin.tolist()))"
   ]
  },
  {
   "cell_type": "code",
   "execution_count": 14,
   "metadata": {},
   "outputs": [
    {
     "name": "stdout",
     "output_type": "stream",
     "text": [
      "NormaltestResult(statistic=99.0439945451912, pvalue=3.1107839652197576e-22)\n",
      "NormaltestResult(statistic=161.0769102332018, pvalue=1.053400116004148e-35)\n"
     ]
    }
   ],
   "source": [
    "print(scipy.stats.normaltest(active_df.RSA.tolist()))\n",
    "print(scipy.stats.normaltest(non_active_df.RSA.tolist()))"
   ]
  },
  {
   "cell_type": "markdown",
   "metadata": {},
   "source": [
    "## FUNCTIONAL VS UNKNOWN: RSA"
   ]
  },
  {
   "cell_type": "code",
   "execution_count": 15,
   "metadata": {
    "tags": []
   },
   "outputs": [
    {
     "name": "stdout",
     "output_type": "stream",
     "text": [
      "691\n",
      "2050\n"
     ]
    }
   ],
   "source": [
    "print(len(active_df))\n",
    "print(len(non_active_df))"
   ]
  },
  {
   "cell_type": "code",
   "execution_count": 16,
   "metadata": {},
   "outputs": [
    {
     "name": "stdout",
     "output_type": "stream",
     "text": [
      "691 2050\n"
     ]
    },
    {
     "data": {
      "image/png": "[encoded data removed]",
      "text/plain": [
       "<Figure size 500x500 with 1 Axes>"
      ]
     },
     "metadata": {},
     "output_type": "display_data"
    }
   ],
   "source": [
    "fig = plt.figure(figsize = (5, 5), dpi = 100)\n",
    "RSA_bns = np.linspace(0, 100, 40)\n",
    "a = active_df.query('RSA <= 100').RSA\n",
    "b = non_active_df.query('RSA <= 100').RSA\n",
    "print(len(a), len(b))\n",
    "sns.histplot(a, label = \"Functional\", fill = True, color = \"#0C7BDC\", stat = \"proportion\", element = \"step\", bins = RSA_bns)\n",
    "sns.histplot(b, label = \"Unknown\", fill = True, color = \"#FFC20A\", stat = \"proportion\", element = \"step\", bins = RSA_bns)\n",
    "plt.ylabel(\"p\")\n",
    "plt.xlabel(\"RSA\")\n",
    "plt.legend(edgecolor = \"k\")\n",
    "#plt.savefig(os.path.join(main_dir, \"func_vs_unk_rsa.png\"))\n",
    "plt.show()"
   ]
  },
  {
   "cell_type": "code",
   "execution_count": 17,
   "metadata": {},
   "outputs": [
    {
     "name": "stderr",
     "output_type": "stream",
     "text": [
      "/var/folders/3s/nxmgkht57nz3bb6jhzrp5fhh0000gq/T/ipykernel_9858/1911421443.py:1: UserWarning: p-value floored: true value smaller than 0.001\n",
      "  scipy.stats.anderson_ksamp([active_df.query('RSA <= 100').RSA, non_active_df.query('RSA <= 100').RSA])\n"
     ]
    },
    {
     "data": {
      "text/plain": [
       "Anderson_ksampResult(statistic=42.72297518369387, critical_values=array([0.325, 1.226, 1.961, 2.718, 3.752, 4.592, 6.546]), pvalue=0.001)"
      ]
     },
     "execution_count": 17,
     "metadata": {},
     "output_type": "execute_result"
    }
   ],
   "source": [
    "scipy.stats.anderson_ksamp([active_df.query('RSA <= 100').RSA, non_active_df.query('RSA <= 100').RSA])"
   ]
  },
  {
   "cell_type": "code",
   "execution_count": 18,
   "metadata": {},
   "outputs": [
    {
     "name": "stdout",
     "output_type": "stream",
     "text": [
      "RSA average (ALL residues) =  25.4\n",
      "RSA average (BS residues) =  34.1\n",
      "Kolmogorov-Smirnov two sample test result:\n",
      "KS statistic = 0.17\tp = 0.0\n",
      "\n",
      "Mann-Whitney U rank test result:\n",
      "U = 561780.5\tp = 0.0\n",
      "\n",
      "T-test result:\n",
      "T = -7.85\tp = 0.0\n"
     ]
    }
   ],
   "source": [
    "print(\"RSA average (ALL residues) = \", round(statistics.mean(active_df.RSA),1))\n",
    "print(\"RSA average (BS residues) = \", round(statistics.mean(non_active_df.RSA),1))\n",
    "\n",
    "s, p = scipy.stats.ks_2samp(active_df.RSA, non_active_df.RSA, alternative=\"two-sided\")\n",
    "print(\"Kolmogorov-Smirnov two sample test result:\\nKS statistic = {}\\tp = {}\\n\".format(round(s,2), round(p,2)))\n",
    "\n",
    "s, p = scipy.stats.mannwhitneyu(active_df.RSA, non_active_df.RSA, alternative=\"two-sided\")\n",
    "print(\"Mann-Whitney U rank test result:\\nU = {}\\tp = {}\\n\".format(round(s,2), round(p,2)))\n",
    "\n",
    "s, p = scipy.stats.ttest_ind(active_df.RSA, non_active_df.RSA)\n",
    "print(\"T-test result:\\nT = {}\\tp = {}\".format(round(s,2), round(p,2)))"
   ]
  },
  {
   "cell_type": "markdown",
   "metadata": {},
   "source": [
    "## FUNCTIONAL VS UNKNOWN: DIVERGENCE"
   ]
  },
  {
   "cell_type": "code",
   "execution_count": 19,
   "metadata": {},
   "outputs": [
    {
     "name": "stdout",
     "output_type": "stream",
     "text": [
      "468 1197\n"
     ]
    },
    {
     "data": {
      "image/png": "[encoded data removed]",
      "text/plain": [
       "<Figure size 500x500 with 1 Axes>"
      ]
     },
     "metadata": {},
     "output_type": "display_data"
    }
   ],
   "source": [
    "fig = plt.figure(figsize = (5, 5), dpi = 100)\n",
    "shenk_bns = np.linspace(0, 100, 50)\n",
    "a = active_df.query('occ >= 25 and occ_pct >= 0.50').abs_norm_shenkin\n",
    "b = non_active_df.query('occ >= 25 and occ_pct >= 0.50').abs_norm_shenkin\n",
    "print(len(a), len(b))\n",
    "sns.histplot(a, label = \"Functional\", fill = True, color = \"#0C7BDC\", stat = \"proportion\", element = \"step\", bins = shenk_bns)\n",
    "sns.histplot(b, label = \"Unknown\", fill = True, color = \"#FFC20A\", stat = \"proportion\", element = \"step\", bins = shenk_bns)\n",
    "plt.ylabel(\"p\")\n",
    "plt.xlabel(\"NShenk\")\n",
    "plt.legend(edgecolor = \"k\")\n",
    "#plt.savefig(os.path.join(main_dir, \"func_vs_unk_shenk.png\"))\n",
    "plt.show()"
   ]
  },
  {
   "cell_type": "code",
   "execution_count": 20,
   "metadata": {},
   "outputs": [
    {
     "name": "stderr",
     "output_type": "stream",
     "text": [
      "/var/folders/3s/nxmgkht57nz3bb6jhzrp5fhh0000gq/T/ipykernel_9858/623812957.py:1: UserWarning: p-value floored: true value smaller than 0.001\n",
      "  scipy.stats.anderson_ksamp(\n"
     ]
    },
    {
     "data": {
      "text/plain": [
       "Anderson_ksampResult(statistic=104.75819493187241, critical_values=array([0.325, 1.226, 1.961, 2.718, 3.752, 4.592, 6.546]), pvalue=0.001)"
      ]
     },
     "execution_count": 20,
     "metadata": {},
     "output_type": "execute_result"
    }
   ],
   "source": [
    "scipy.stats.anderson_ksamp(\n",
    "    [\n",
    "        active_df.query('occ >= 25 and occ_pct >= 0.50').abs_norm_shenkin,\n",
    "        non_active_df.query('occ >= 25 and occ_pct >= 0.50').abs_norm_shenkin\n",
    "    ]\n",
    ")"
   ]
  },
  {
   "cell_type": "code",
   "execution_count": 21,
   "metadata": {},
   "outputs": [
    {
     "name": "stdout",
     "output_type": "stream",
     "text": [
      "Shenkin average (FUNCTIONAL residues) =  26.0\n",
      "Shenkin average (UNKNOWN residues) =  39.0\n",
      "Kolmogorov-Smirnov two sample test result:\n",
      "KS statistic = 0.27\tp = 0.0\n",
      "\n",
      "Mann-Whitney U rank test result:\n",
      "U = 459677.0\tp = 0.0\n",
      "\n",
      "T-test result:\n",
      "T = -13.77\tp = 0.0\n"
     ]
    }
   ],
   "source": [
    "print(\"Shenkin average (FUNCTIONAL residues) = \", round(statistics.mean(active_df.shenkin),0))\n",
    "print(\"Shenkin average (UNKNOWN residues) = \", round(statistics.mean(non_active_df.shenkin),0))\n",
    "\n",
    "s, p = scipy.stats.ks_2samp(active_df.abs_norm_shenkin, non_active_df.abs_norm_shenkin, alternative=\"two-sided\")\n",
    "print(\"Kolmogorov-Smirnov two sample test result:\\nKS statistic = {}\\tp = {}\\n\".format(round(s,2), round(p,2)))\n",
    "\n",
    "s, p = scipy.stats.mannwhitneyu(active_df.abs_norm_shenkin, non_active_df.abs_norm_shenkin, alternative=\"two-sided\")\n",
    "print(\"Mann-Whitney U rank test result:\\nU = {}\\tp = {}\\n\".format(round(s,2), round(p,2)))\n",
    "\n",
    "s, p = scipy.stats.ttest_ind(active_df.abs_norm_shenkin, non_active_df.abs_norm_shenkin)\n",
    "print(\"T-test result:\\nT = {}\\tp = {}\".format(round(s,2), round(p,2)))"
   ]
  },
  {
   "cell_type": "markdown",
   "metadata": {},
   "source": [
    "## FUNCTIONAL VS UNKNOWN: MES"
   ]
  },
  {
   "cell_type": "code",
   "execution_count": 22,
   "metadata": {},
   "outputs": [
    {
     "name": "stdout",
     "output_type": "stream",
     "text": [
      "372 857\n"
     ]
    },
    {
     "data": {
      "image/png": "[encoded data removed]",
      "text/plain": [
       "<Figure size 500x500 with 1 Axes>"
      ]
     },
     "metadata": {},
     "output_type": "display_data"
    }
   ],
   "source": [
    "fig = plt.figure(figsize = (5, 5), dpi = 100)\n",
    "mes_bns = np.linspace(-1.5, 1.5, 40)\n",
    "a = active_df.query('occ >= 25 and occ_pct >= 0.50 & human_occ > 10 & human_occ_pct > 0.50 & variants >= 2').log_oddsratio\n",
    "b = non_active_df.query('occ >= 25 and occ_pct >= 0.50 & human_occ > 10 & human_occ_pct > 0.50 & variants >= 2').log_oddsratio\n",
    "print(len(a), len(b))\n",
    "sns.histplot(a, label = \"Functional\", fill = True, color = \"#0C7BDC\", stat = \"proportion\", element = \"step\", bins = mes_bns)\n",
    "sns.histplot(b, label = \"Unknown\", fill = True, color = \"#FFC20A\", stat = \"proportion\", element = \"step\", bins = mes_bns)\n",
    "plt.ylabel(\"p\")\n",
    "plt.xlabel(\"MES\")\n",
    "plt.legend(edgecolor = \"k\")\n",
    "#plt.savefig(os.path.join(main_dir, \"func_vs_unk_MES.png\"))\n",
    "plt.show()"
   ]
  },
  {
   "cell_type": "code",
   "execution_count": 23,
   "metadata": {},
   "outputs": [
    {
     "name": "stderr",
     "output_type": "stream",
     "text": [
      "/var/folders/3s/nxmgkht57nz3bb6jhzrp5fhh0000gq/T/ipykernel_9858/2120013606.py:1: UserWarning: p-value floored: true value smaller than 0.001\n",
      "  scipy.stats.anderson_ksamp(\n"
     ]
    },
    {
     "data": {
      "text/plain": [
       "Anderson_ksampResult(statistic=45.72428785837081, critical_values=array([0.325, 1.226, 1.961, 2.718, 3.752, 4.592, 6.546]), pvalue=0.001)"
      ]
     },
     "execution_count": 23,
     "metadata": {},
     "output_type": "execute_result"
    }
   ],
   "source": [
    "scipy.stats.anderson_ksamp(\n",
    "    [\n",
    "        active_df.query('occ >= 25 and occ_pct >= 0.50 & human_occ > 10 & human_occ_pct > 0.50 & variants >= 2').log_oddsratio,\n",
    "        non_active_df.query('occ >= 25 and occ_pct >= 0.50 & human_occ > 10 & human_occ_pct > 0.50 & variants >= 2').log_oddsratio\n",
    "    ]\n",
    ")"
   ]
  },
  {
   "cell_type": "code",
   "execution_count": 24,
   "metadata": {},
   "outputs": [
    {
     "name": "stdout",
     "output_type": "stream",
     "text": [
      "MES average (FUNCIONAL residues) =  -0.2\n",
      "MES average (UNKNOWN residues) =  -0.0\n",
      "Kolmogorov-Smirnov two sample test result:\n",
      "KS statistic = 0.19\tp = 0.0\n",
      "\n",
      "Mann-Whitney U rank test result:\n",
      "U = 554609.0\tp = 0.0\n",
      "\n",
      "T-test result:\n",
      "T = -8.29\tp = 0.0\n"
     ]
    }
   ],
   "source": [
    "print(\"MES average (FUNCIONAL residues) = \", round(statistics.mean(active_df.log_oddsratio),1))\n",
    "print(\"MES average (UNKNOWN residues) = \", round(statistics.mean(non_active_df.log_oddsratio),1))\n",
    "\n",
    "s, p = scipy.stats.ks_2samp(active_df.log_oddsratio, non_active_df.log_oddsratio, alternative=\"two-sided\")\n",
    "print(\"Kolmogorov-Smirnov two sample test result:\\nKS statistic = {}\\tp = {}\\n\".format(round(s,2), round(p,2)))\n",
    "\n",
    "s, p = scipy.stats.mannwhitneyu(active_df.log_oddsratio, non_active_df.log_oddsratio, alternative=\"two-sided\")\n",
    "print(\"Mann-Whitney U rank test result:\\nU = {}\\tp = {}\\n\".format(round(s,2), round(p,2)))\n",
    "\n",
    "s, p = scipy.stats.ttest_ind(active_df.log_oddsratio, non_active_df.log_oddsratio)\n",
    "print(\"T-test result:\\nT = {}\\tp = {}\".format(round(s,2), round(p,2)))"
   ]
  }
 ],
 "metadata": {
  "kernelspec": {
   "display_name": "Python [conda env:myenv2]",
   "language": "python",
   "name": "conda-env-myenv2-py"
  },
  "language_info": {
   "codemirror_mode": {
    "name": "ipython",
    "version": 3
   },
   "file_extension": ".py",
   "mimetype": "text/x-python",
   "name": "python",
   "nbconvert_exporter": "python",
   "pygments_lexer": "ipython3",
   "version": "3.10.0"
  }
 },
 "nbformat": 4,
 "nbformat_minor": 4
}
