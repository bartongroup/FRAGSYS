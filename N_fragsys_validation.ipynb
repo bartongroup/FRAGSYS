{
 "cells": [
  {
   "cell_type": "markdown",
   "id": "4620e371-9646-4b90-a8c8-d7e4d277dd21",
   "metadata": {},
   "source": [
    "### IMPORTING NECESSARY PACKAGES"
   ]
  },
  {
   "cell_type": "code",
   "execution_count": 53,
   "id": "fd1908dd-2c17-41f7-a17b-9143a82b9997",
   "metadata": {},
   "outputs": [],
   "source": [
    "import os\n",
    "import statistics\n",
    "import numpy as np\n",
    "import pandas as pd\n",
    "import seaborn as sns\n",
    "import matplotlib.pyplot as plt"
   ]
  },
  {
   "cell_type": "markdown",
   "id": "8903065c-df47-40ea-b79d-b8aa2c8051f9",
   "metadata": {},
   "source": [
    "### SOME FUNCTIONS"
   ]
  },
  {
   "cell_type": "code",
   "execution_count": 111,
   "id": "76f060e3-26bd-4ce4-8a6f-2f03b6b3302c",
   "metadata": {},
   "outputs": [],
   "source": [
    "def plot_hist(data, feat_name, bns, col, show = True, out = None, dpi = 100, figsize = (5, 5), yticks = None, et = None):\n",
    "    \"\"\"\n",
    "    \"\"\"\n",
    "    if type(data) != list:\n",
    "        data = data.tolist()\n",
    "    st_median = round(statistics.median(data), 2)\n",
    "    st_mean = round(statistics.mean(data), 2)\n",
    "    st_max = round(max(data),2)\n",
    "    st_min = round(min(data), 2)\n",
    "    print(\"\\tMIN = {}\\tMEAN = {}\\tMEDIAN = {}\\tMAX = {}\".format(st_min, st_mean, st_median, st_max))\n",
    "    \n",
    "    fig = plt.figure(figsize = figsize, dpi = dpi)\n",
    "    sns.histplot(data, fill = True, color = col, stat = \"count\", element = \"step\", bins = bns, log_scale = (False, 10))\n",
    "    plt.ylabel(\"log(count)\")\n",
    "    plt.xlabel(feat_name)\n",
    "    plt.axvline(x = st_median, linewidth = 1, color = \"k\", linestyle = \"--\")\n",
    "    if et != None:\n",
    "        plt.axvline(x = et, linewidth = 2, color = \"r\", linestyle = \"--\")\n",
    "    \n",
    "    if yticks != None:\n",
    "        plt.yticks(yticks)\n",
    "    #plt.legend(edgecolor = \"k\")\n",
    "    if out != None:\n",
    "        plt.savefig(out)\n",
    "    if show == False:\n",
    "        plt.close()"
   ]
  },
  {
   "cell_type": "markdown",
   "id": "a16d6002-d25a-4f01-80ef-172f1ca5e69f",
   "metadata": {},
   "source": [
    "### READING INPUT DATA"
   ]
  },
  {
   "cell_type": "code",
   "execution_count": 52,
   "id": "55877d0a-920d-43ce-bae3-9ba6707f9744",
   "metadata": {},
   "outputs": [],
   "source": [
    "main_dir = \"/Users/2394007/Documents/PHD/LOCAL/FRAGSYS_DEF/\"\n",
    "val_d = pd.read_pickle(os.path.join(main_dir, \"results\", \"validation_data.pkl\"))"
   ]
  },
  {
   "cell_type": "code",
   "execution_count": 5,
   "id": "14ecc090-9b15-4465-b923-011ae1517135",
   "metadata": {},
   "outputs": [
    {
     "data": {
      "text/plain": [
       "(1121927, 34)"
      ]
     },
     "execution_count": 5,
     "metadata": {},
     "output_type": "execute_result"
    }
   ],
   "source": [
    "val_d.shape"
   ]
  },
  {
   "cell_type": "code",
   "execution_count": 6,
   "id": "18502ea6-927f-40ee-ab21-41686aca1b5d",
   "metadata": {},
   "outputs": [
    {
     "name": "stdout",
     "output_type": "stream",
     "text": [
      "['pdb_id', 'validation_NatomsEDS', 'validation_altcode', 'validation_avgoccu', 'validation_chain', 'validation_cis_peptide', 'validation_ent', 'validation_flippable-sidechain', 'validation_icode', 'validation_ligand_chirality_outlier', 'validation_ligand_clashes_outlier', 'validation_ligand_geometry_outlier', 'validation_ligand_num_clashes', 'validation_ligand_num_symm_clashes', 'validation_model', 'validation_mogul-ignore', 'validation_mogul_angles_rmsz', 'validation_mogul_bonds_rmsz', 'validation_mogul_rmsz_numangles', 'validation_mogul_rmsz_numbonds', 'validation_num-H-reduce', 'validation_owab', 'validation_phi', 'validation_psi', 'validation_rama', 'validation_resname', 'validation_resnum', 'validation_resnum_full', 'validation_rota', 'validation_rscc', 'validation_rsr', 'validation_rsrz', 'validation_said', 'validation_seq']\n"
     ]
    }
   ],
   "source": [
    "print(val_d.columns.tolist())"
   ]
  },
  {
   "cell_type": "code",
   "execution_count": 134,
   "id": "9126bfb3-98c4-4a34-83ef-af8f1481c015",
   "metadata": {},
   "outputs": [],
   "source": [
    "cs = [\n",
    "    \"pdb_id\", \"validation_chain\",\n",
    "    #'validation_ligand_chirality_outlier', 'validation_ligand_clashes_outlier', 'validation_ligand_geometry_outlier',\n",
    "    #'validation_ligand_num_clashes', 'validation_ligand_num_symm_clashes',\n",
    "    'validation_resname', 'validation_resnum', #'validation_resnum_full',\n",
    "    'validation_rsr', 'validation_rscc', 'validation_rsrz',\n",
    "    #'validation_said', 'validation_seq'\n",
    "]"
   ]
  },
  {
   "cell_type": "code",
   "execution_count": 21,
   "id": "af831c6b-fcd2-444c-a378-1aa486a420a9",
   "metadata": {},
   "outputs": [
    {
     "name": "stdout",
     "output_type": "stream",
     "text": [
      "['MET', 'LEU', 'LYS', 'GLN', 'THR', 'VAL', 'ASP', 'HIS', 'PRO', 'GLY', 'ALA', 'ARG', 'GLU', 'ILE', 'TYR', 'ASN', 'SER', 'CYS', 'PHE', 'TRP', 'EDO', 'PO4', 'NY7', 'HOH']\n"
     ]
    }
   ],
   "source": [
    "print(sub.validation_resname.unique().tolist())"
   ]
  },
  {
   "cell_type": "markdown",
   "id": "7b4572b2-38c3-4a89-b6d8-47260ac94b07",
   "metadata": {},
   "source": [
    "### VALIDATION ANALYSIS FOR ALL RESIDUES"
   ]
  },
  {
   "cell_type": "code",
   "execution_count": 108,
   "id": "9105002e-7af0-407a-a6c9-0d5f59a25ec8",
   "metadata": {
    "collapsed": true,
    "jupyter": {
     "outputs_hidden": true
    },
    "tags": []
   },
   "outputs": [
    {
     "name": "stdout",
     "output_type": "stream",
     "text": [
      "1111797\n",
      "\tMIN = 0.01\tMEAN = 0.14\tMEDIAN = 0.11\tMAX = 4.27\n"
     ]
    },
    {
     "data": {
      "image/png": "[encoded data removed]",
      "text/plain": [
       "<Figure size 500x500 with 1 Axes>"
      ]
     },
     "metadata": {},
     "output_type": "display_data"
    }
   ],
   "source": [
    "d_rsr = val_d.query('validation_rsr == validation_rsr')\n",
    "print(len(d_rsr))\n",
    "bns_rsr = np.linspace(0, 4.5, 50)\n",
    "plot_hist(d_rsr.validation_rsr, \"RSR\", bns_rsr, \"firebrick\")"
   ]
  },
  {
   "cell_type": "code",
   "execution_count": 97,
   "id": "3f5a6fab-980e-44ba-a56c-0482dbde284d",
   "metadata": {},
   "outputs": [
    {
     "name": "stdout",
     "output_type": "stream",
     "text": [
      "1111797\t933518\t83.96%\n",
      "\tMIN = -0.76\tMEAN = 0.91\tMEDIAN = 0.94\tMAX = 1.0\n"
     ]
    },
    {
     "data": {
      "image/png": "[encoded data removed]",
      "text/plain": [
       "<Figure size 500x500 with 1 Axes>"
      ]
     },
     "metadata": {},
     "output_type": "display_data"
    }
   ],
   "source": [
    "d_rscc = val_d.query('validation_rscc == validation_rscc')\n",
    "rscc_len = len(d_rscc)\n",
    "rscc_t_len = len(d_rscc.query('validation_rscc > 0.85'))\n",
    "print(\"{}\\t{}\\t{}%\".format(rscc_len, rscc_t_len, round(100*(rscc_t_len/rscc_len),2)))\n",
    "bns_rscc = np.linspace(-0.75, 1.0, 50)\n",
    "plot_hist(d_rscc.validation_rscc, \"RSCC\", bns_rscc, \"gold\", et = 0.85)"
   ]
  },
  {
   "cell_type": "code",
   "execution_count": 109,
   "id": "abb48a23-2ae0-4b76-b430-8930504cc42b",
   "metadata": {},
   "outputs": [
    {
     "name": "stdout",
     "output_type": "stream",
     "text": [
      "643193\t590313\t91.78%\n",
      "\tMIN = -1.74\tMEAN = 0.38\tMEDIAN = -0.06\tMAX = 38.63\n"
     ]
    },
    {
     "data": {
      "image/png": "[encoded data removed]",
      "text/plain": [
       "<Figure size 500x500 with 1 Axes>"
      ]
     },
     "metadata": {},
     "output_type": "display_data"
    }
   ],
   "source": [
    "d_rsrz = val_d.query('validation_rsrz == validation_rsrz')\n",
    "rsrz_len = len(d_rsrz)\n",
    "rsrz_t_len = len(d_rsrz.query('validation_rsrz < 2'))\n",
    "print(\"{}\\t{}\\t{}%\".format(rsrz_len, rsrz_t_len, round(100*(rsrz_t_len/rsrz_len),2)))\n",
    "bns_rsrz = np.linspace(-2, 40, 75)\n",
    "plot_hist(d_rsrz.validation_rsrz, \"RSRZ\", bns_rsrz, \"cornflowerblue\", et = 2)"
   ]
  },
  {
   "cell_type": "markdown",
   "id": "3cd56a61-a3b6-455c-b921-c7761fa5ba74",
   "metadata": {},
   "source": [
    "### APPLY FILTERS"
   ]
  },
  {
   "cell_type": "code",
   "execution_count": 100,
   "id": "7c20f7e8-7034-4300-8075-d19b915a5956",
   "metadata": {},
   "outputs": [],
   "source": [
    "q = 'validation_rsr == validation_rsr & validation_rscc == validation_rscc & validation_rsrz == validation_rsrz & validation_rscc > 0.85 & validation_rsrz < 2'\n",
    "val_d_filt = val_d.copy().query(q)"
   ]
  },
  {
   "cell_type": "code",
   "execution_count": 106,
   "id": "b8f17a26-58e6-4ace-9a6e-ca99a724fdfb",
   "metadata": {},
   "outputs": [
    {
     "name": "stdout",
     "output_type": "stream",
     "text": [
      "\tMIN = 0.85\tMEAN = 0.95\tMEDIAN = 0.95\tMAX = 1.0\n"
     ]
    },
    {
     "data": {
      "image/png": "[encoded data removed]",
      "text/plain": [
       "<Figure size 500x500 with 1 Axes>"
      ]
     },
     "metadata": {},
     "output_type": "display_data"
    }
   ],
   "source": [
    "#bns_rscc = np.linspace(-0.75, 1.0, 50)\n",
    "plot_hist(val_d_filt.validation_rscc, \"RSCC\", 50, \"gold\", et = 0.85)"
   ]
  },
  {
   "cell_type": "code",
   "execution_count": 110,
   "id": "8508ef20-f8c5-40de-9503-815857d3bdcf",
   "metadata": {},
   "outputs": [
    {
     "name": "stdout",
     "output_type": "stream",
     "text": [
      "\tMIN = -1.74\tMEAN = -0.05\tMEDIAN = -0.16\tMAX = 2.0\n"
     ]
    },
    {
     "data": {
      "image/png": "[encoded data removed]",
      "text/plain": [
       "<Figure size 500x500 with 1 Axes>"
      ]
     },
     "metadata": {},
     "output_type": "display_data"
    }
   ],
   "source": [
    "#bns_rscc = np.linspace(-0.75, 1.0, 50)\n",
    "plot_hist(val_d_filt.validation_rsrz, \"RSRZ\", 50, \"cornflowerblue\", et = 2)"
   ]
  },
  {
   "cell_type": "markdown",
   "id": "b45f82e7-1adb-4a63-a8c7-b63355214598",
   "metadata": {},
   "source": [
    "### LOOKING AT QUALITY OF LIGANDS"
   ]
  },
  {
   "cell_type": "code",
   "execution_count": 117,
   "id": "cb821338-8f05-43a8-99ce-e56b6ec7409a",
   "metadata": {},
   "outputs": [],
   "source": [
    "pdb_resnames = [\n",
    "    \"ALA\", \"CYS\", \"ASP\", \"GLU\", \"PHE\", \"GLY\", \"HIS\", \"ILE\", \"LYS\", \"LEU\",\n",
    "    \"MET\", \"ASN\", \"PRO\", \"GLN\", \"ARG\", \"SER\", \"THR\", \"VAL\", \"TRP\", \"TYR\"\n",
    "]\n",
    "\n",
    "simple_ions = [\n",
    "    \"ZN\", \"MN\", \"CL\", \"MG\", \"CD\", \"NI\", \"NA\", \"IOD\", \"CA\", \"BR\", \"XE\", \"TB\", #FE, K, CO, NO3, AZI, R\n",
    "]\n",
    "\n",
    "acidic_ions = [\n",
    "    \"PO4\", \"ACT\", \"SO4\", \"MLI\", \"CIT\", \"ACY\", \"VO4\", \"WO4\"\n",
    "]\n",
    "\n",
    "non_relevant_ligs_manual = [\n",
    "    \"DMS\", \"EDO\", \"HOH\", \"TRS\", \"GOL\", \"OGA\", \"FMN\", \"PG4\", \"PGR\",\n",
    "    \"MPD\", \"TPP\", \"MES\", \"PLP\", \"HYP\", \"CSO\", \"UNX\", \"EPE\", \"PEG\",\n",
    "    \"PGE\", \"DOD\", \"SUI\", \"BEN\", \"BOG\"\n",
    "]\n",
    "\n",
    "non_relevant = non_relevant_ligs_manual + simple_ions + acidic_ions\n",
    "\n"
   ]
  },
  {
   "cell_type": "code",
   "execution_count": 118,
   "id": "7c4be0de-ee41-4e9d-bcee-ce315e6f7100",
   "metadata": {},
   "outputs": [],
   "source": [
    "val_d_lig = val_d.query('validation_resname not in @pdb_resnames & validation_resname not in @non_relevant')"
   ]
  },
  {
   "cell_type": "code",
   "execution_count": 119,
   "id": "df9ecb60-cb2b-40b1-a6db-0719b8049139",
   "metadata": {},
   "outputs": [
    {
     "data": {
      "text/plain": [
       "(2189, 34)"
      ]
     },
     "execution_count": 119,
     "metadata": {},
     "output_type": "execute_result"
    }
   ],
   "source": [
    "val_d_lig.shape"
   ]
  },
  {
   "cell_type": "code",
   "execution_count": 120,
   "id": "2a4f2d4b-4f5f-4a25-8d33-ac0f09a0e1a4",
   "metadata": {
    "collapsed": true,
    "jupyter": {
     "outputs_hidden": true
    },
    "tags": []
   },
   "outputs": [
    {
     "data": {
      "text/plain": [
       "K0G    14\n",
       "JOV    11\n",
       "SY4    11\n",
       "GV1    11\n",
       "JMM    10\n",
       "       ..\n",
       "T67     1\n",
       "UPD     1\n",
       "T5V     1\n",
       "UPJ     1\n",
       "5ZE     1\n",
       "Name: validation_resname, Length: 1126, dtype: int64"
      ]
     },
     "execution_count": 120,
     "metadata": {},
     "output_type": "execute_result"
    }
   ],
   "source": [
    "val_d_lig.validation_resname.value_counts()"
   ]
  },
  {
   "cell_type": "code",
   "execution_count": 121,
   "id": "13a8c31e-af33-410c-87e6-d3f4dd75f6c7",
   "metadata": {},
   "outputs": [
    {
     "name": "stdout",
     "output_type": "stream",
     "text": [
      "2133\t632\t29.63%\n",
      "\tMIN = -0.18\tMEAN = 0.71\tMEDIAN = 0.76\tMAX = 1.0\n"
     ]
    },
    {
     "data": {
      "image/png": "[encoded data removed]",
      "text/plain": [
       "<Figure size 500x500 with 1 Axes>"
      ]
     },
     "metadata": {},
     "output_type": "display_data"
    }
   ],
   "source": [
    "d_rscc_lig = val_d_lig.query('validation_rscc == validation_rscc')\n",
    "rscc_len = len(d_rscc_lig)\n",
    "rscc_t_len = len(d_rscc_lig.query('validation_rscc > 0.85'))\n",
    "print(\"{}\\t{}\\t{}%\".format(rscc_len, rscc_t_len, round(100*(rscc_t_len/rscc_len),2)))\n",
    "bns_rscc = np.linspace(-0.75, 1.0, 50)\n",
    "plot_hist(d_rscc_lig.validation_rscc, \"RSCC\", bns_rscc, \"gold\", et = 0.85)"
   ]
  },
  {
   "cell_type": "markdown",
   "id": "3142f0dc-6513-45b4-9cc6-01f6b736d075",
   "metadata": {},
   "source": [
    "### SOME EXAMPLES"
   ]
  },
  {
   "cell_type": "code",
   "execution_count": 128,
   "id": "84648801-1198-448a-acb2-a4830ff3abe6",
   "metadata": {},
   "outputs": [],
   "source": [
    "sub = val_d.query('pdb_id == \"5rhg\"')"
   ]
  },
  {
   "cell_type": "code",
   "execution_count": 136,
   "id": "b36ff853-e80a-4f61-a9b7-b7bc15a82aed",
   "metadata": {},
   "outputs": [
    {
     "data": {
      "text/html": [
       "<div>\n",
       "<style scoped>\n",
       "    .dataframe tbody tr th:only-of-type {\n",
       "        vertical-align: middle;\n",
       "    }\n",
       "\n",
       "    .dataframe tbody tr th {\n",
       "        vertical-align: top;\n",
       "    }\n",
       "\n",
       "    .dataframe thead th {\n",
       "        text-align: right;\n",
       "    }\n",
       "</style>\n",
       "<table border=\"1\" class=\"dataframe\">\n",
       "  <thead>\n",
       "    <tr style=\"text-align: right;\">\n",
       "      <th></th>\n",
       "      <th>pdb_id</th>\n",
       "      <th>validation_chain</th>\n",
       "      <th>validation_resname</th>\n",
       "      <th>validation_resnum</th>\n",
       "      <th>validation_rsr</th>\n",
       "      <th>validation_rscc</th>\n",
       "      <th>validation_rsrz</th>\n",
       "    </tr>\n",
       "  </thead>\n",
       "  <tbody>\n",
       "    <tr>\n",
       "      <th>442</th>\n",
       "      <td>5rhg</td>\n",
       "      <td>A</td>\n",
       "      <td>NY7</td>\n",
       "      <td>704</td>\n",
       "      <td>0.217</td>\n",
       "      <td>0.665</td>\n",
       "      <td>NaN</td>\n",
       "    </tr>\n",
       "    <tr>\n",
       "      <th>443</th>\n",
       "      <td>5rhg</td>\n",
       "      <td>A</td>\n",
       "      <td>NY7</td>\n",
       "      <td>705</td>\n",
       "      <td>0.166</td>\n",
       "      <td>0.823</td>\n",
       "      <td>NaN</td>\n",
       "    </tr>\n",
       "  </tbody>\n",
       "</table>\n",
       "</div>"
      ],
      "text/plain": [
       "    pdb_id validation_chain validation_resname  validation_resnum  \\\n",
       "442   5rhg                A                NY7                704   \n",
       "443   5rhg                A                NY7                705   \n",
       "\n",
       "     validation_rsr  validation_rscc  validation_rsrz  \n",
       "442           0.217            0.665              NaN  \n",
       "443           0.166            0.823              NaN  "
      ]
     },
     "execution_count": 136,
     "metadata": {},
     "output_type": "execute_result"
    }
   ],
   "source": [
    "sub.query('validation_resname == \"NY7\"')[cs]"
   ]
  },
  {
   "cell_type": "code",
   "execution_count": 130,
   "id": "1c9fd42c-ca72-4e7a-ac14-2c0574b0fe43",
   "metadata": {},
   "outputs": [],
   "source": [
    "BS0 = [264, 265, 267, 268, 271, 293, 493, 536, 537, 540]"
   ]
  },
  {
   "cell_type": "code",
   "execution_count": 135,
   "id": "452b50c8-220d-4fdd-a591-2d921a5c2096",
   "metadata": {},
   "outputs": [
    {
     "data": {
      "text/html": [
       "<div>\n",
       "<style scoped>\n",
       "    .dataframe tbody tr th:only-of-type {\n",
       "        vertical-align: middle;\n",
       "    }\n",
       "\n",
       "    .dataframe tbody tr th {\n",
       "        vertical-align: top;\n",
       "    }\n",
       "\n",
       "    .dataframe thead th {\n",
       "        text-align: right;\n",
       "    }\n",
       "</style>\n",
       "<table border=\"1\" class=\"dataframe\">\n",
       "  <thead>\n",
       "    <tr style=\"text-align: right;\">\n",
       "      <th></th>\n",
       "      <th>pdb_id</th>\n",
       "      <th>validation_chain</th>\n",
       "      <th>validation_resname</th>\n",
       "      <th>validation_resnum</th>\n",
       "      <th>validation_rsr</th>\n",
       "      <th>validation_rscc</th>\n",
       "      <th>validation_rsrz</th>\n",
       "    </tr>\n",
       "  </thead>\n",
       "  <tbody>\n",
       "    <tr>\n",
       "      <th>82</th>\n",
       "      <td>5rhg</td>\n",
       "      <td>A</td>\n",
       "      <td>ALA</td>\n",
       "      <td>264</td>\n",
       "      <td>0.066</td>\n",
       "      <td>0.966</td>\n",
       "      <td>-0.400</td>\n",
       "    </tr>\n",
       "    <tr>\n",
       "      <th>83</th>\n",
       "      <td>5rhg</td>\n",
       "      <td>A</td>\n",
       "      <td>THR</td>\n",
       "      <td>265</td>\n",
       "      <td>0.058</td>\n",
       "      <td>0.971</td>\n",
       "      <td>-0.612</td>\n",
       "    </tr>\n",
       "    <tr>\n",
       "      <th>85</th>\n",
       "      <td>5rhg</td>\n",
       "      <td>A</td>\n",
       "      <td>THR</td>\n",
       "      <td>267</td>\n",
       "      <td>0.053</td>\n",
       "      <td>0.977</td>\n",
       "      <td>-0.731</td>\n",
       "    </tr>\n",
       "    <tr>\n",
       "      <th>86</th>\n",
       "      <td>5rhg</td>\n",
       "      <td>A</td>\n",
       "      <td>SER</td>\n",
       "      <td>268</td>\n",
       "      <td>0.043</td>\n",
       "      <td>0.978</td>\n",
       "      <td>-0.904</td>\n",
       "    </tr>\n",
       "    <tr>\n",
       "      <th>89</th>\n",
       "      <td>5rhg</td>\n",
       "      <td>A</td>\n",
       "      <td>LEU</td>\n",
       "      <td>271</td>\n",
       "      <td>0.088</td>\n",
       "      <td>0.917</td>\n",
       "      <td>-0.027</td>\n",
       "    </tr>\n",
       "    <tr>\n",
       "      <th>111</th>\n",
       "      <td>5rhg</td>\n",
       "      <td>A</td>\n",
       "      <td>SER</td>\n",
       "      <td>293</td>\n",
       "      <td>0.053</td>\n",
       "      <td>0.980</td>\n",
       "      <td>-0.703</td>\n",
       "    </tr>\n",
       "    <tr>\n",
       "      <th>313</th>\n",
       "      <td>5rhg</td>\n",
       "      <td>A</td>\n",
       "      <td>LEU</td>\n",
       "      <td>493</td>\n",
       "      <td>0.066</td>\n",
       "      <td>0.959</td>\n",
       "      <td>-0.690</td>\n",
       "    </tr>\n",
       "    <tr>\n",
       "      <th>356</th>\n",
       "      <td>5rhg</td>\n",
       "      <td>A</td>\n",
       "      <td>MET</td>\n",
       "      <td>536</td>\n",
       "      <td>0.065</td>\n",
       "      <td>0.981</td>\n",
       "      <td>-0.531</td>\n",
       "    </tr>\n",
       "    <tr>\n",
       "      <th>357</th>\n",
       "      <td>5rhg</td>\n",
       "      <td>A</td>\n",
       "      <td>LYS</td>\n",
       "      <td>537</td>\n",
       "      <td>0.213</td>\n",
       "      <td>0.865</td>\n",
       "      <td>1.554</td>\n",
       "    </tr>\n",
       "    <tr>\n",
       "      <th>360</th>\n",
       "      <td>5rhg</td>\n",
       "      <td>A</td>\n",
       "      <td>ASP</td>\n",
       "      <td>540</td>\n",
       "      <td>0.071</td>\n",
       "      <td>0.952</td>\n",
       "      <td>-0.466</td>\n",
       "    </tr>\n",
       "  </tbody>\n",
       "</table>\n",
       "</div>"
      ],
      "text/plain": [
       "    pdb_id validation_chain validation_resname  validation_resnum  \\\n",
       "82    5rhg                A                ALA                264   \n",
       "83    5rhg                A                THR                265   \n",
       "85    5rhg                A                THR                267   \n",
       "86    5rhg                A                SER                268   \n",
       "89    5rhg                A                LEU                271   \n",
       "111   5rhg                A                SER                293   \n",
       "313   5rhg                A                LEU                493   \n",
       "356   5rhg                A                MET                536   \n",
       "357   5rhg                A                LYS                537   \n",
       "360   5rhg                A                ASP                540   \n",
       "\n",
       "     validation_rsr  validation_rscc  validation_rsrz  \n",
       "82            0.066            0.966           -0.400  \n",
       "83            0.058            0.971           -0.612  \n",
       "85            0.053            0.977           -0.731  \n",
       "86            0.043            0.978           -0.904  \n",
       "89            0.088            0.917           -0.027  \n",
       "111           0.053            0.980           -0.703  \n",
       "313           0.066            0.959           -0.690  \n",
       "356           0.065            0.981           -0.531  \n",
       "357           0.213            0.865            1.554  \n",
       "360           0.071            0.952           -0.466  "
      ]
     },
     "execution_count": 135,
     "metadata": {},
     "output_type": "execute_result"
    }
   ],
   "source": [
    "sub.query('validation_resnum in @BS0')[cs]"
   ]
  }
 ],
 "metadata": {
  "kernelspec": {
   "display_name": "Python [conda env:myenv2]",
   "language": "python",
   "name": "conda-env-myenv2-py"
  },
  "language_info": {
   "codemirror_mode": {
    "name": "ipython",
    "version": 3
   },
   "file_extension": ".py",
   "mimetype": "text/x-python",
   "name": "python",
   "nbconvert_exporter": "python",
   "pygments_lexer": "ipython3",
   "version": "3.10.0"
  }
 },
 "nbformat": 4,
 "nbformat_minor": 5
}
