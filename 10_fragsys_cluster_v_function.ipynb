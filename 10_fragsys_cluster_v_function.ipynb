{
 "cells": [
  {
   "cell_type": "markdown",
   "metadata": {},
   "source": [
    "# EXTRACTING UNIPROT FEATURE ANNOTATIONS TO CLASSIFY SITES BASED ON FUNCTION"
   ]
  },
  {
   "cell_type": "markdown",
   "metadata": {},
   "source": [
    "### IMPORTING NECESSARY PACKAGES"
   ]
  },
  {
   "cell_type": "code",
   "execution_count": 1,
   "metadata": {},
   "outputs": [],
   "source": [
    "from fragsys_analysis import *"
   ]
  },
  {
   "cell_type": "markdown",
   "metadata": {},
   "source": [
    "## READING INPUT DATA"
   ]
  },
  {
   "cell_type": "code",
   "execution_count": 6,
   "metadata": {},
   "outputs": [],
   "source": [
    "main_dir = \".\"\n",
    "results_dir = os.path.join(main_dir, \"results/new\")\n",
    "figs_dir = os.path.join(main_dir, \"figs\")"
   ]
  },
  {
   "cell_type": "code",
   "execution_count": 7,
   "metadata": {},
   "outputs": [],
   "source": [
    "func_df = load_pickle(os.path.join(results_dir, \"prot_func_dict_comb.pkl\"))\n",
    "rsa_cluster_dict = load_pickle(os.path.join(results_dir, \"rsa_cluster_dict.pkl\"))"
   ]
  },
  {
   "cell_type": "code",
   "execution_count": 8,
   "metadata": {},
   "outputs": [
    {
     "name": "stdout",
     "output_type": "stream",
     "text": [
      "293\n",
      "293\n"
     ]
    }
   ],
   "source": [
    "print(len(func_df))\n",
    "print(len(rsa_cluster_dict))"
   ]
  },
  {
   "cell_type": "code",
   "execution_count": 9,
   "metadata": {},
   "outputs": [
    {
     "data": {
      "text/html": [
       "<div>\n",
       "<style scoped>\n",
       "    .dataframe tbody tr th:only-of-type {\n",
       "        vertical-align: middle;\n",
       "    }\n",
       "\n",
       "    .dataframe tbody tr th {\n",
       "        vertical-align: top;\n",
       "    }\n",
       "\n",
       "    .dataframe thead th {\n",
       "        text-align: right;\n",
       "    }\n",
       "</style>\n",
       "<table border=\"1\" class=\"dataframe\">\n",
       "  <thead>\n",
       "    <tr style=\"text-align: right;\">\n",
       "      <th></th>\n",
       "      <th>bs_id</th>\n",
       "      <th>auto</th>\n",
       "      <th>manual</th>\n",
       "      <th>comb</th>\n",
       "    </tr>\n",
       "  </thead>\n",
       "  <tbody>\n",
       "    <tr>\n",
       "      <th>0</th>\n",
       "      <td>H0Y4R8_0_BS0</td>\n",
       "      <td>UF</td>\n",
       "      <td>UF</td>\n",
       "      <td>UF</td>\n",
       "    </tr>\n",
       "    <tr>\n",
       "      <th>1</th>\n",
       "      <td>O15178_0_BS0</td>\n",
       "      <td>UF</td>\n",
       "      <td>UF</td>\n",
       "      <td>UF</td>\n",
       "    </tr>\n",
       "    <tr>\n",
       "      <th>2</th>\n",
       "      <td>O15178_0_BS1</td>\n",
       "      <td>UF</td>\n",
       "      <td>UF</td>\n",
       "      <td>UF</td>\n",
       "    </tr>\n",
       "  </tbody>\n",
       "</table>\n",
       "</div>"
      ],
      "text/plain": [
       "          bs_id auto manual comb\n",
       "0  H0Y4R8_0_BS0   UF     UF   UF\n",
       "1  O15178_0_BS0   UF     UF   UF\n",
       "2  O15178_0_BS1   UF     UF   UF"
      ]
     },
     "execution_count": 9,
     "metadata": {},
     "output_type": "execute_result"
    }
   ],
   "source": [
    "func_df.head(3)"
   ]
  },
  {
   "cell_type": "code",
   "execution_count": 10,
   "metadata": {},
   "outputs": [],
   "source": [
    "func_df[\"rsa_cluster\"] = func_df.bs_id.map(rsa_cluster_dict)\n",
    "func_df = func_df.query('rsa_cluster == rsa_cluster').reset_index(drop = True)\n",
    "func_df.rsa_cluster = func_df.rsa_cluster.astype(int)"
   ]
  },
  {
   "cell_type": "code",
   "execution_count": 11,
   "metadata": {},
   "outputs": [
    {
     "data": {
      "text/html": [
       "<div>\n",
       "<style scoped>\n",
       "    .dataframe tbody tr th:only-of-type {\n",
       "        vertical-align: middle;\n",
       "    }\n",
       "\n",
       "    .dataframe tbody tr th {\n",
       "        vertical-align: top;\n",
       "    }\n",
       "\n",
       "    .dataframe thead th {\n",
       "        text-align: right;\n",
       "    }\n",
       "</style>\n",
       "<table border=\"1\" class=\"dataframe\">\n",
       "  <thead>\n",
       "    <tr style=\"text-align: right;\">\n",
       "      <th></th>\n",
       "      <th>bs_id</th>\n",
       "      <th>auto</th>\n",
       "      <th>manual</th>\n",
       "      <th>comb</th>\n",
       "      <th>rsa_cluster</th>\n",
       "    </tr>\n",
       "  </thead>\n",
       "  <tbody>\n",
       "    <tr>\n",
       "      <th>0</th>\n",
       "      <td>H0Y4R8_0_BS0</td>\n",
       "      <td>UF</td>\n",
       "      <td>UF</td>\n",
       "      <td>UF</td>\n",
       "      <td>3</td>\n",
       "    </tr>\n",
       "    <tr>\n",
       "      <th>1</th>\n",
       "      <td>O15178_0_BS0</td>\n",
       "      <td>UF</td>\n",
       "      <td>UF</td>\n",
       "      <td>UF</td>\n",
       "      <td>1</td>\n",
       "    </tr>\n",
       "    <tr>\n",
       "      <th>2</th>\n",
       "      <td>O15178_0_BS1</td>\n",
       "      <td>UF</td>\n",
       "      <td>UF</td>\n",
       "      <td>UF</td>\n",
       "      <td>2</td>\n",
       "    </tr>\n",
       "    <tr>\n",
       "      <th>3</th>\n",
       "      <td>O15178_0_BS10</td>\n",
       "      <td>UF</td>\n",
       "      <td>KF</td>\n",
       "      <td>KF</td>\n",
       "      <td>1</td>\n",
       "    </tr>\n",
       "    <tr>\n",
       "      <th>4</th>\n",
       "      <td>O15178_0_BS2</td>\n",
       "      <td>UF</td>\n",
       "      <td>UF</td>\n",
       "      <td>UF</td>\n",
       "      <td>2</td>\n",
       "    </tr>\n",
       "    <tr>\n",
       "      <th>...</th>\n",
       "      <td>...</td>\n",
       "      <td>...</td>\n",
       "      <td>...</td>\n",
       "      <td>...</td>\n",
       "      <td>...</td>\n",
       "    </tr>\n",
       "    <tr>\n",
       "      <th>288</th>\n",
       "      <td>Q9Y2J2_0_BS5</td>\n",
       "      <td>UF</td>\n",
       "      <td>UF</td>\n",
       "      <td>UF</td>\n",
       "      <td>1</td>\n",
       "    </tr>\n",
       "    <tr>\n",
       "      <th>289</th>\n",
       "      <td>Q9Y2J2_0_BS6</td>\n",
       "      <td>UF</td>\n",
       "      <td>UF</td>\n",
       "      <td>UF</td>\n",
       "      <td>1</td>\n",
       "    </tr>\n",
       "    <tr>\n",
       "      <th>290</th>\n",
       "      <td>Q9Y2J2_0_BS7</td>\n",
       "      <td>UF</td>\n",
       "      <td>UF</td>\n",
       "      <td>UF</td>\n",
       "      <td>0</td>\n",
       "    </tr>\n",
       "    <tr>\n",
       "      <th>291</th>\n",
       "      <td>Q9Y2J2_0_BS8</td>\n",
       "      <td>UF</td>\n",
       "      <td>UF</td>\n",
       "      <td>UF</td>\n",
       "      <td>2</td>\n",
       "    </tr>\n",
       "    <tr>\n",
       "      <th>292</th>\n",
       "      <td>Q9Y2J2_0_BS9</td>\n",
       "      <td>UF</td>\n",
       "      <td>UF</td>\n",
       "      <td>UF</td>\n",
       "      <td>1</td>\n",
       "    </tr>\n",
       "  </tbody>\n",
       "</table>\n",
       "<p>293 rows × 5 columns</p>\n",
       "</div>"
      ],
      "text/plain": [
       "             bs_id auto manual comb  rsa_cluster\n",
       "0     H0Y4R8_0_BS0   UF     UF   UF            3\n",
       "1     O15178_0_BS0   UF     UF   UF            1\n",
       "2     O15178_0_BS1   UF     UF   UF            2\n",
       "3    O15178_0_BS10   UF     KF   KF            1\n",
       "4     O15178_0_BS2   UF     UF   UF            2\n",
       "..             ...  ...    ...  ...          ...\n",
       "288   Q9Y2J2_0_BS5   UF     UF   UF            1\n",
       "289   Q9Y2J2_0_BS6   UF     UF   UF            1\n",
       "290   Q9Y2J2_0_BS7   UF     UF   UF            0\n",
       "291   Q9Y2J2_0_BS8   UF     UF   UF            2\n",
       "292   Q9Y2J2_0_BS9   UF     UF   UF            1\n",
       "\n",
       "[293 rows x 5 columns]"
      ]
     },
     "execution_count": 11,
     "metadata": {},
     "output_type": "execute_result"
    }
   ],
   "source": [
    "func_df"
   ]
  },
  {
   "cell_type": "markdown",
   "metadata": {},
   "source": [
    "### CALCULATING ENRICHMENT IN FUNCTION WITHIN CLUSTERS"
   ]
  },
  {
   "cell_type": "code",
   "execution_count": 12,
   "metadata": {},
   "outputs": [],
   "source": [
    "c_labs = sorted(func_df.rsa_cluster.unique().tolist())\n",
    "kf, uf = [[], []]\n",
    "for c in c_labs:\n",
    "    kf.append(len(func_df.query('rsa_cluster == @c and comb == \"KF\"')))\n",
    "    uf.append(len(func_df.query('rsa_cluster == @c and comb == \"UF\"')))\n",
    "cont_tab = pd.DataFrame(list(zip(kf, uf)), columns = [\"kf\", \"uf\"])\n",
    "cont_tab.index = c_labs\n",
    "cont_tab = cont_tab + 1\n",
    "cont_tab[\"tot\"] = cont_tab.kf + cont_tab.uf"
   ]
  },
  {
   "cell_type": "code",
   "execution_count": 13,
   "metadata": {},
   "outputs": [
    {
     "data": {
      "text/html": [
       "<div>\n",
       "<style scoped>\n",
       "    .dataframe tbody tr th:only-of-type {\n",
       "        vertical-align: middle;\n",
       "    }\n",
       "\n",
       "    .dataframe tbody tr th {\n",
       "        vertical-align: top;\n",
       "    }\n",
       "\n",
       "    .dataframe thead th {\n",
       "        text-align: right;\n",
       "    }\n",
       "</style>\n",
       "<table border=\"1\" class=\"dataframe\">\n",
       "  <thead>\n",
       "    <tr style=\"text-align: right;\">\n",
       "      <th></th>\n",
       "      <th>kf</th>\n",
       "      <th>uf</th>\n",
       "      <th>tot</th>\n",
       "    </tr>\n",
       "  </thead>\n",
       "  <tbody>\n",
       "    <tr>\n",
       "      <th>0</th>\n",
       "      <td>18</td>\n",
       "      <td>30</td>\n",
       "      <td>48</td>\n",
       "    </tr>\n",
       "    <tr>\n",
       "      <th>1</th>\n",
       "      <td>22</td>\n",
       "      <td>107</td>\n",
       "      <td>129</td>\n",
       "    </tr>\n",
       "    <tr>\n",
       "      <th>2</th>\n",
       "      <td>7</td>\n",
       "      <td>86</td>\n",
       "      <td>93</td>\n",
       "    </tr>\n",
       "    <tr>\n",
       "      <th>3</th>\n",
       "      <td>1</td>\n",
       "      <td>30</td>\n",
       "      <td>31</td>\n",
       "    </tr>\n",
       "  </tbody>\n",
       "</table>\n",
       "</div>"
      ],
      "text/plain": [
       "   kf   uf  tot\n",
       "0  18   30   48\n",
       "1  22  107  129\n",
       "2   7   86   93\n",
       "3   1   30   31"
      ]
     },
     "execution_count": 13,
     "metadata": {},
     "output_type": "execute_result"
    }
   ],
   "source": [
    "cont_tab"
   ]
  },
  {
   "cell_type": "code",
   "execution_count": 14,
   "metadata": {},
   "outputs": [
    {
     "name": "stdout",
     "output_type": "stream",
     "text": [
      "0 [18, 30, 48, 253]\n",
      "1 [22, 26, 129, 172]\n",
      "2 [7, 41, 93, 208]\n",
      "3 [1, 47, 31, 270]\n"
     ]
    }
   ],
   "source": [
    "cont_tab_or = get_OR(cont_tab, c_labs, \"tot\")"
   ]
  },
  {
   "cell_type": "code",
   "execution_count": 15,
   "metadata": {},
   "outputs": [
    {
     "data": {
      "text/html": [
       "<div>\n",
       "<style scoped>\n",
       "    .dataframe tbody tr th:only-of-type {\n",
       "        vertical-align: middle;\n",
       "    }\n",
       "\n",
       "    .dataframe tbody tr th {\n",
       "        vertical-align: top;\n",
       "    }\n",
       "\n",
       "    .dataframe thead th {\n",
       "        text-align: right;\n",
       "    }\n",
       "</style>\n",
       "<table border=\"1\" class=\"dataframe\">\n",
       "  <thead>\n",
       "    <tr style=\"text-align: right;\">\n",
       "      <th></th>\n",
       "      <th>kf</th>\n",
       "      <th>uf</th>\n",
       "      <th>tot</th>\n",
       "      <th>oddsratio</th>\n",
       "      <th>log_oddsratio</th>\n",
       "      <th>pvalue</th>\n",
       "      <th>ci_dist</th>\n",
       "    </tr>\n",
       "  </thead>\n",
       "  <tbody>\n",
       "    <tr>\n",
       "      <th>0</th>\n",
       "      <td>18</td>\n",
       "      <td>30</td>\n",
       "      <td>48</td>\n",
       "      <td>3.16</td>\n",
       "      <td>1.15</td>\n",
       "      <td>0.00</td>\n",
       "      <td>0.66</td>\n",
       "    </tr>\n",
       "    <tr>\n",
       "      <th>1</th>\n",
       "      <td>22</td>\n",
       "      <td>107</td>\n",
       "      <td>129</td>\n",
       "      <td>1.13</td>\n",
       "      <td>0.12</td>\n",
       "      <td>0.75</td>\n",
       "      <td>0.61</td>\n",
       "    </tr>\n",
       "    <tr>\n",
       "      <th>2</th>\n",
       "      <td>7</td>\n",
       "      <td>86</td>\n",
       "      <td>93</td>\n",
       "      <td>0.38</td>\n",
       "      <td>-0.96</td>\n",
       "      <td>0.02</td>\n",
       "      <td>0.84</td>\n",
       "    </tr>\n",
       "    <tr>\n",
       "      <th>3</th>\n",
       "      <td>1</td>\n",
       "      <td>30</td>\n",
       "      <td>31</td>\n",
       "      <td>0.19</td>\n",
       "      <td>-1.69</td>\n",
       "      <td>0.10</td>\n",
       "      <td>2.02</td>\n",
       "    </tr>\n",
       "  </tbody>\n",
       "</table>\n",
       "</div>"
      ],
      "text/plain": [
       "   kf   uf  tot  oddsratio  log_oddsratio  pvalue  ci_dist\n",
       "0  18   30   48       3.16           1.15    0.00     0.66\n",
       "1  22  107  129       1.13           0.12    0.75     0.61\n",
       "2   7   86   93       0.38          -0.96    0.02     0.84\n",
       "3   1   30   31       0.19          -1.69    0.10     2.02"
      ]
     },
     "execution_count": 15,
     "metadata": {},
     "output_type": "execute_result"
    }
   ],
   "source": [
    "cont_tab_or"
   ]
  },
  {
   "cell_type": "code",
   "execution_count": 16,
   "metadata": {},
   "outputs": [
    {
     "name": "stdout",
     "output_type": "stream",
     "text": [
      "2.8\n",
      "8.32\n",
      "16.63\n"
     ]
    }
   ],
   "source": [
    "print(round(3.16/1.13,2))\n",
    "print(round(3.16/0.38,2))\n",
    "print(round(3.16/0.19,2))"
   ]
  },
  {
   "cell_type": "code",
   "execution_count": 17,
   "metadata": {},
   "outputs": [],
   "source": [
    "colss = sample_colors[:4]"
   ]
  },
  {
   "cell_type": "code",
   "execution_count": 23,
   "metadata": {},
   "outputs": [
    {
     "data": {
      "image/png": "[encoded data removed]",
      "text/plain": [
       "<Figure size 750x750 with 1 Axes>"
      ]
     },
     "metadata": {},
     "output_type": "display_data"
    }
   ],
   "source": [
    "fig = plt.figure(figsize = (7.5, 7.5), dpi = 100)\n",
    "for i, idx in enumerate(cont_tab_or.index.tolist()):\n",
    "    plt.errorbar(\n",
    "        c_labs[i], cont_tab_or.loc[idx, \"log_oddsratio\"], yerr = cont_tab_or.loc[idx, \"ci_dist\"],\n",
    "        ecolor = colss[i], elinewidth = 1.5, capsize = 3, capthick = 1.5, fmt = \"o\", c = colss[i], ls = 'None'\n",
    "    )\n",
    "plt.ylim(-4, 4)\n",
    "plt.axhline(y = 0, linestyle = \"--\", linewidth = 1, c = \"black\")\n",
    "plt.xticks([0, 1, 2, 3], [\"C0\", \"C1\", \"C2\", \"C3\"])\n",
    "#plt.savefig(os.path.join(figs_dir, \"RSA_clusters_func.png\"))\n",
    "plt.show()"
   ]
  }
 ],
 "metadata": {
  "kernelspec": {
   "display_name": "Python [conda env:myenv2]",
   "language": "python",
   "name": "conda-env-myenv2-py"
  },
  "language_info": {
   "codemirror_mode": {
    "name": "ipython",
    "version": 3
   },
   "file_extension": ".py",
   "mimetype": "text/x-python",
   "name": "python",
   "nbconvert_exporter": "python",
   "pygments_lexer": "ipython3",
   "version": "3.11.0"
  }
 },
 "nbformat": 4,
 "nbformat_minor": 5
}
