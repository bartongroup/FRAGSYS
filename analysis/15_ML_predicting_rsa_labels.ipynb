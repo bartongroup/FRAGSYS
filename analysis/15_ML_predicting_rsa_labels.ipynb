{
 "cells": [
  {
   "cell_type": "markdown",
   "metadata": {},
   "source": [
    "# PREDICTING RSA CLUSTER LABELS FOR ANY SITE"
   ]
  },
  {
   "cell_type": "markdown",
   "metadata": {},
   "source": [
    "## IMPORTING NECESSARY PACKAGES"
   ]
  },
  {
   "cell_type": "code",
   "execution_count": 1,
   "metadata": {},
   "outputs": [
    {
     "name": "stderr",
     "output_type": "stream",
     "text": [
      "2024-01-31 11:27:25.835114: I tensorflow/core/platform/cpu_feature_guard.cc:193] This TensorFlow binary is optimized with oneAPI Deep Neural Network Library (oneDNN) to use the following CPU instructions in performance-critical operations:  SSE4.1 SSE4.2\n",
      "To enable them in other operations, rebuild TensorFlow with the appropriate compiler flags.\n"
     ]
    }
   ],
   "source": [
    "from fragsys_ml import *"
   ]
  },
  {
   "cell_type": "markdown",
   "metadata": {},
   "source": [
    "## FUNCTIONS"
   ]
  },
  {
   "cell_type": "code",
   "execution_count": 2,
   "metadata": {},
   "outputs": [],
   "source": [
    "def generate_rsa_vectors(rsa_profs, max_len = None):\n",
    "    \"\"\"\n",
    "    From an RSA profile dict, generates suitable RSA\n",
    "    feature vectors to use as input for the MLP. If max_len\n",
    "    is not provided, it will take the value of the longest site\n",
    "    of the rsa_profs dict.\n",
    "    \"\"\"\n",
    "    if max_len == None:\n",
    "        max_len = max([len(v) for v in rsa_profs.values()])\n",
    "    bs_vectors = []\n",
    "    bs_vectors_dict = {}\n",
    "    for bs_id, rsa_sig in rsa_profs.items():\n",
    "        rsa_sig_len = len(rsa_sig)\n",
    "        rsa_range_prop = [0 for i in range(10)] # now let us change to 10\n",
    "        for rsa in rsa_sig:\n",
    "            prop_i = int(rsa/10) # 10 RSA BINS: b1 = [0,10), b2 = [10, 20), ... b10 = [90, MAX)\n",
    "            if prop_i > 9: # if greater than 100, put in 10th bin\n",
    "                prop_i = 9\n",
    "            #print(prop_i)\n",
    "            rsa_range_prop[prop_i] += 1\n",
    "        rsa_range_prop = [round(i/rsa_sig_len, 3) for i in rsa_range_prop]\n",
    "        rsa_range_prop.insert(0, rsa_sig_len/max_len) # ADDING BINDING SITE SIZE RELATIVE TO MAX SITE SIZE (IN THIS CASE 40)\n",
    "        bs_vectors.append(rsa_range_prop)\n",
    "        bs_vectors_dict[bs_id] = rsa_range_prop\n",
    "\n",
    "    vector_df = pd.DataFrame(bs_vectors, index = list(rsa_profs.keys())) # obtaining RSA vectors, which are the 11-element features used for the machine learning\n",
    "    return vector_df"
   ]
  },
  {
   "cell_type": "markdown",
   "metadata": {},
   "source": [
    "## INPUT DATA"
   ]
  },
  {
   "cell_type": "code",
   "execution_count": 3,
   "metadata": {},
   "outputs": [],
   "source": [
    "main_dir = \"./../\"\n",
    "\n",
    "results_dir = os.path.join(main_dir, \"results\")\n",
    "\n",
    "rsa_profs = load_pickle(os.path.join(results_dir, \"rsa_profs.pkl\")) # using this as an example, but could be any {site_id: [site RSA profile], ... } dict"
   ]
  },
  {
   "cell_type": "code",
   "execution_count": 4,
   "metadata": {},
   "outputs": [
    {
     "name": "stdout",
     "output_type": "stream",
     "text": [
      "H0Y4R8_0_BS0 : [22.4, 39.2, 41.4, 46.5, 63.0, 77.7]\n",
      "\n",
      "O43809_0_BS0 : [0.7, 0.7, 0.7, 1.5, 3.0, 4.9, 5.5, 6.8, 8.5, 11.2, 14.4, 15.3, 17.9, 19.4, 19.6, 25.0, 29.9, 30.2, 30.4, 33.0, 33.9, 44.9, 52.1, 78.4]\n",
      "\n",
      "O43809_0_BS1 : [0.4, 7.1, 8.9, 15.8, 20.7, 21.3, 27.4, 37.5, 47.8, 52.8, 63.2, 76.2, 78.9]\n",
      "\n",
      "O43809_0_BS2 : [18.9, 21.0, 25.0, 33.5, 60.1, 63.4, 70.7, 72.7]\n",
      "\n",
      "O43809_0_BS3 : [0.8, 5.9, 12.2, 15.7, 25.0, 33.5, 38.3, 39.7, 43.4, 63.2]\n",
      "\n"
     ]
    }
   ],
   "source": [
    "for i, (k, v) in enumerate(rsa_profs.items()):\n",
    "    if i < 5:\n",
    "        print(\"{} : {}\\n\".format(k, v))\n",
    "    else:\n",
    "        break"
   ]
  },
  {
   "cell_type": "markdown",
   "metadata": {},
   "source": [
    "## GENERATING RSA FEATURE VECTORS DATAFRAME"
   ]
  },
  {
   "cell_type": "code",
   "execution_count": 5,
   "metadata": {},
   "outputs": [],
   "source": [
    "vector_df = generate_rsa_vectors(rsa_profs)"
   ]
  },
  {
   "cell_type": "code",
   "execution_count": 6,
   "metadata": {},
   "outputs": [],
   "source": [
    "X = vector_df.sort_index() # here, X is still a dataframe. Thus, we maintain binding site IDs\n",
    "\n",
    "labels = X.index.tolist()"
   ]
  },
  {
   "cell_type": "markdown",
   "metadata": {},
   "source": [
    "## RUNNING MODEL ON TEST DATA"
   ]
  },
  {
   "cell_type": "code",
   "execution_count": 7,
   "metadata": {},
   "outputs": [
    {
     "name": "stderr",
     "output_type": "stream",
     "text": [
      "2024-01-31 11:29:58.592985: I tensorflow/core/platform/cpu_feature_guard.cc:193] This TensorFlow binary is optimized with oneAPI Deep Neural Network Library (oneDNN) to use the following CPU instructions in performance-critical operations:  SSE4.1 SSE4.2\n",
      "To enable them in other operations, rebuild TensorFlow with the appropriate compiler flags.\n"
     ]
    }
   ],
   "source": [
    "model_path = \"./../results/79619_2_model_epoch_49_train_acc_0.96.h5\" # this is the name of the MLP model\n",
    "final_model = keras.models.load_model(model_path)\n",
    "final_preds = final_model.predict(x = X, batch_size = 27, verbose = 0)\n",
    "rounded_predictions = np.argmax(final_preds, axis = -1)"
   ]
  },
  {
   "cell_type": "markdown",
   "metadata": {},
   "source": [
    "## READ RSA CLUSTER LABELS"
   ]
  },
  {
   "cell_type": "code",
   "execution_count": 8,
   "metadata": {},
   "outputs": [],
   "source": [
    "predicted_labels_dict = {labels[i]: rounded_predictions[i] for i in range(len(labels))}"
   ]
  },
  {
   "cell_type": "code",
   "execution_count": 9,
   "metadata": {},
   "outputs": [
    {
     "name": "stdout",
     "output_type": "stream",
     "text": [
      "H0Y4R8_0_BS0 : 3\n",
      "\n",
      "O15178_0_BS0 : 1\n",
      "\n",
      "O15178_0_BS1 : 2\n",
      "\n",
      "O15178_0_BS10 : 1\n",
      "\n",
      "O15178_0_BS2 : 2\n",
      "\n"
     ]
    }
   ],
   "source": [
    "for i, (k, v) in enumerate(predicted_labels_dict.items()):\n",
    "    if i < 5:\n",
    "        print(\"{} : {}\\n\".format(k, v))\n",
    "    else:\n",
    "        break"
   ]
  }
 ],
 "metadata": {
  "kernelspec": {
   "display_name": "Python [conda env:deep_learning]",
   "language": "python",
   "name": "conda-env-deep_learning-py"
  },
  "language_info": {
   "codemirror_mode": {
    "name": "ipython",
    "version": 3
   },
   "file_extension": ".py",
   "mimetype": "text/x-python",
   "name": "python",
   "nbconvert_exporter": "python",
   "pygments_lexer": "ipython3",
   "version": "3.10.8"
  }
 },
 "nbformat": 4,
 "nbformat_minor": 4
}
