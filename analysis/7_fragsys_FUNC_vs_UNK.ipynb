{
 "cells": [
  {
   "cell_type": "markdown",
   "metadata": {},
   "source": [
    "# EXPLORING THE DIFFERENCES BETWEEN KNOWN FUNCTIONAL AND UNKNOWN LIGAND BINDING SITES"
   ]
  },
  {
   "cell_type": "markdown",
   "metadata": {},
   "source": [
    "In this notebook we compare the residues found in binding sites overlapping with functional annotations, or known functional (KF) sites, with those found in unknown functional (UF) sites."
   ]
  },
  {
   "cell_type": "markdown",
   "metadata": {},
   "source": [
    "## IMPORTING NECESSARY PACKAGES"
   ]
  },
  {
   "cell_type": "code",
   "execution_count": 1,
   "metadata": {},
   "outputs": [],
   "source": [
    "from fragsys_analysis import *"
   ]
  },
  {
   "cell_type": "markdown",
   "metadata": {},
   "source": [
    "## READING INPUT DATA"
   ]
  },
  {
   "cell_type": "code",
   "execution_count": 2,
   "metadata": {},
   "outputs": [],
   "source": [
    "main_dir = \"./../\"\n",
    "results_dir = os.path.join(main_dir, \"results\")\n",
    "figs_dir = os.path.join(main_dir, \"figs\")"
   ]
  },
  {
   "cell_type": "code",
   "execution_count": 3,
   "metadata": {},
   "outputs": [],
   "source": [
    "all_bs_ress = pd.read_pickle(os.path.join(results_dir, \"all_bs_ress.pkl\"))\n",
    "all_bss = pd.read_pickle(os.path.join(results_dir, \"all_bss.pkl\"))\n",
    "all_bs_ress[\"RSA\"] = all_bs_ress[\"RSA\"].apply(lambda x: x if x <= 100 else 100)\n",
    "func_df = load_pickle(os.path.join(results_dir, \"prot_func_dict_comb.pkl\"))"
   ]
  },
  {
   "cell_type": "code",
   "execution_count": 4,
   "metadata": {},
   "outputs": [
    {
     "data": {
      "text/html": [
       "<div>\n",
       "<style scoped>\n",
       "    .dataframe tbody tr th:only-of-type {\n",
       "        vertical-align: middle;\n",
       "    }\n",
       "\n",
       "    .dataframe tbody tr th {\n",
       "        vertical-align: top;\n",
       "    }\n",
       "\n",
       "    .dataframe thead th {\n",
       "        text-align: right;\n",
       "    }\n",
       "</style>\n",
       "<table border=\"1\" class=\"dataframe\">\n",
       "  <thead>\n",
       "    <tr style=\"text-align: right;\">\n",
       "      <th></th>\n",
       "      <th>bs_id</th>\n",
       "      <th>auto</th>\n",
       "      <th>manual</th>\n",
       "      <th>comb</th>\n",
       "    </tr>\n",
       "  </thead>\n",
       "  <tbody>\n",
       "    <tr>\n",
       "      <th>0</th>\n",
       "      <td>H0Y4R8_0_BS0</td>\n",
       "      <td>UF</td>\n",
       "      <td>UF</td>\n",
       "      <td>UF</td>\n",
       "    </tr>\n",
       "    <tr>\n",
       "      <th>1</th>\n",
       "      <td>O15178_0_BS0</td>\n",
       "      <td>UF</td>\n",
       "      <td>UF</td>\n",
       "      <td>UF</td>\n",
       "    </tr>\n",
       "    <tr>\n",
       "      <th>2</th>\n",
       "      <td>O15178_0_BS1</td>\n",
       "      <td>UF</td>\n",
       "      <td>UF</td>\n",
       "      <td>UF</td>\n",
       "    </tr>\n",
       "  </tbody>\n",
       "</table>\n",
       "</div>"
      ],
      "text/plain": [
       "          bs_id auto manual comb\n",
       "0  H0Y4R8_0_BS0   UF     UF   UF\n",
       "1  O15178_0_BS0   UF     UF   UF\n",
       "2  O15178_0_BS1   UF     UF   UF"
      ]
     },
     "execution_count": 4,
     "metadata": {},
     "output_type": "execute_result"
    }
   ],
   "source": [
    "func_df.head(3)"
   ]
  },
  {
   "cell_type": "code",
   "execution_count": 1,
   "metadata": {},
   "outputs": [],
   "source": [
    "#func_df[func_df.bs_id.str.contains(\"Q5T0W9\")]"
   ]
  },
  {
   "cell_type": "code",
   "execution_count": 5,
   "metadata": {},
   "outputs": [
    {
     "data": {
      "text/plain": [
       "UF    249\n",
       "KF     44\n",
       "Name: comb, dtype: int64"
      ]
     },
     "execution_count": 5,
     "metadata": {},
     "output_type": "execute_result"
    }
   ],
   "source": [
    "func_df.comb.value_counts()"
   ]
  },
  {
   "cell_type": "code",
   "execution_count": 6,
   "metadata": {},
   "outputs": [],
   "source": [
    "func_dict = {}\n",
    "for _, row in func_df.iterrows():\n",
    "    prot, group, bs = row.bs_id.split(\"_\")\n",
    "    func_dict[(prot, group, bs)] = row.comb # combination of automated feature extraction and manual one"
   ]
  },
  {
   "cell_type": "code",
   "execution_count": 7,
   "metadata": {
    "tags": []
   },
   "outputs": [],
   "source": [
    "func = []\n",
    "unk = []\n",
    "for k, v in func_dict.items():\n",
    "    prot = k[0]\n",
    "    group = k[1]\n",
    "    bs_id = k[2]\n",
    "    sel_rows = all_bs_ress[(all_bs_ress.protein == prot)&(all_bs_ress.group == group)&(all_bs_ress[bs_id] == 1)]\n",
    "    if v == \"KF\":\n",
    "        func.append(sel_rows)\n",
    "    elif v == \"UF\":\n",
    "        unk.append(sel_rows)\n",
    "func_df = pd.concat(func)\n",
    "unk_df = pd.concat(unk)"
   ]
  },
  {
   "cell_type": "code",
   "execution_count": 8,
   "metadata": {},
   "outputs": [
    {
     "name": "stdout",
     "output_type": "stream",
     "text": [
      "5767\n",
      "8456\n"
     ]
    }
   ],
   "source": [
    "print(len(func_df))\n",
    "print(len(unk_df))"
   ]
  },
  {
   "cell_type": "code",
   "execution_count": 9,
   "metadata": {},
   "outputs": [],
   "source": [
    "func_df = func_df.drop_duplicates([\"protein\", \"UniProt_ResNum\", \"UniProt_ResName\"]).reset_index(drop = True)\n",
    "unk_df = unk_df.drop_duplicates([\"protein\", \"UniProt_ResNum\", \"UniProt_ResName\"]).reset_index(drop = True)"
   ]
  },
  {
   "cell_type": "code",
   "execution_count": 10,
   "metadata": {},
   "outputs": [
    {
     "name": "stdout",
     "output_type": "stream",
     "text": [
      "691\n",
      "2050\n"
     ]
    }
   ],
   "source": [
    "print(len(func_df))\n",
    "print(len(unk_df))"
   ]
  },
  {
   "cell_type": "markdown",
   "metadata": {},
   "source": [
    "### RSA, MES, AND SHENKIN DO NOT FOLLOW A NORMAL DISTRIBUTION"
   ]
  },
  {
   "cell_type": "code",
   "execution_count": 12,
   "metadata": {},
   "outputs": [
    {
     "name": "stdout",
     "output_type": "stream",
     "text": [
      "NormaltestResult(statistic=27.074347971485764, pvalue=1.3209307109831062e-06)\n",
      "NormaltestResult(statistic=64.17466730550996, pvalue=1.1605077781952751e-14)\n"
     ]
    }
   ],
   "source": [
    "print(scipy.stats.normaltest(func_df.log_oddsratio.tolist()))\n",
    "print(scipy.stats.normaltest(unk_df.log_oddsratio.tolist()))"
   ]
  },
  {
   "cell_type": "code",
   "execution_count": 13,
   "metadata": {},
   "outputs": [
    {
     "name": "stdout",
     "output_type": "stream",
     "text": [
      "NormaltestResult(statistic=78.14182283023712, pvalue=1.0757683664834876e-17)\n",
      "NormaltestResult(statistic=215.75923969317964, pvalue=1.4075907065839778e-47)\n"
     ]
    }
   ],
   "source": [
    "print(scipy.stats.normaltest(func_df.shenkin.tolist()))\n",
    "print(scipy.stats.normaltest(unk_df.shenkin.tolist()))"
   ]
  },
  {
   "cell_type": "code",
   "execution_count": 14,
   "metadata": {},
   "outputs": [
    {
     "name": "stdout",
     "output_type": "stream",
     "text": [
      "NormaltestResult(statistic=99.0439945451912, pvalue=3.1107839652197576e-22)\n",
      "NormaltestResult(statistic=161.07691023320209, pvalue=1.0534001160039963e-35)\n"
     ]
    }
   ],
   "source": [
    "print(scipy.stats.normaltest(func_df.RSA.tolist()))\n",
    "print(scipy.stats.normaltest(unk_df.RSA.tolist()))"
   ]
  },
  {
   "cell_type": "markdown",
   "metadata": {},
   "source": [
    "## FUNCTIONAL VS UNKNOWN: RSA"
   ]
  },
  {
   "cell_type": "code",
   "execution_count": 15,
   "metadata": {},
   "outputs": [
    {
     "name": "stdout",
     "output_type": "stream",
     "text": [
      "691 2050\n"
     ]
    },
    {
     "data": {
      "image/png": "[encoded data removed]",
      "text/plain": [
       "<Figure size 500x500 with 1 Axes>"
      ]
     },
     "metadata": {},
     "output_type": "display_data"
    }
   ],
   "source": [
    "fig = plt.figure(figsize = (5, 5), dpi = 100)\n",
    "RSA_bns = np.linspace(0, 100, 40)\n",
    "a = func_df.query('RSA == RSA').RSA\n",
    "b = unk_df.query('RSA == RSA').RSA\n",
    "print(len(a), len(b))\n",
    "sns.histplot(a, label = \"Functional\", fill = True, color = \"#0C7BDC\", stat = \"proportion\", element = \"step\", bins = RSA_bns)\n",
    "sns.histplot(b, label = \"Unknown\", fill = True, color = \"#FFC20A\", stat = \"proportion\", element = \"step\", bins = RSA_bns)\n",
    "plt.ylabel(\"p\")\n",
    "plt.xlabel(\"RSA %\")\n",
    "plt.legend(edgecolor = \"k\")\n",
    "#plt.savefig(os.path.join(figs_dir, \"FUNC_vs_UNK_rsa.png\"))\n",
    "plt.show()"
   ]
  },
  {
   "cell_type": "code",
   "execution_count": 16,
   "metadata": {},
   "outputs": [
    {
     "name": "stderr",
     "output_type": "stream",
     "text": [
      "/tmp/1211748.1.all.q/ipykernel_24921/3228072165.py:1: UserWarning: p-value floored: true value smaller than 0.001\n",
      "  scipy.stats.anderson_ksamp([a, b])\n"
     ]
    },
    {
     "data": {
      "text/plain": [
       "Anderson_ksampResult(statistic=42.72297518369387, critical_values=array([0.325, 1.226, 1.961, 2.718, 3.752, 4.592, 6.546]), pvalue=0.001)"
      ]
     },
     "execution_count": 16,
     "metadata": {},
     "output_type": "execute_result"
    }
   ],
   "source": [
    "scipy.stats.anderson_ksamp([a, b])"
   ]
  },
  {
   "cell_type": "code",
   "execution_count": 17,
   "metadata": {},
   "outputs": [
    {
     "name": "stdout",
     "output_type": "stream",
     "text": [
      "RSA average (ALL residues) =  25.4\n",
      "RSA average (BS residues) =  34.1\n",
      "Kolmogorov-Smirnov two sample test result:\n",
      "KS statistic = 0.17\tp = 0.0\n",
      "\n",
      "Mann-Whitney U rank test result:\n",
      "U = 561780.5\tp = 0.0\n",
      "\n",
      "T-test result:\n",
      "T = -7.85\tp = 0.0\n"
     ]
    }
   ],
   "source": [
    "print(\"RSA average (ALL residues) = \", round(statistics.mean(a),1))\n",
    "print(\"RSA average (BS residues) = \", round(statistics.mean(b),1))\n",
    "\n",
    "s, p = scipy.stats.ks_2samp(a, b, alternative=\"two-sided\")\n",
    "print(\"Kolmogorov-Smirnov two sample test result:\\nKS statistic = {}\\tp = {}\\n\".format(round(s,2), round(p,2)))\n",
    "\n",
    "s, p = scipy.stats.mannwhitneyu(a, b, alternative=\"two-sided\")\n",
    "print(\"Mann-Whitney U rank test result:\\nU = {}\\tp = {}\\n\".format(round(s,2), round(p,2)))\n",
    "\n",
    "s, p = scipy.stats.ttest_ind(a, b)\n",
    "print(\"T-test result:\\nT = {}\\tp = {}\".format(round(s,2), round(p,2)))"
   ]
  },
  {
   "cell_type": "markdown",
   "metadata": {},
   "source": [
    "## FUNCTIONAL VS UNKNOWN: DIVERGENCE"
   ]
  },
  {
   "cell_type": "code",
   "execution_count": 18,
   "metadata": {},
   "outputs": [
    {
     "name": "stdout",
     "output_type": "stream",
     "text": [
      "468 1197\n"
     ]
    },
    {
     "data": {
      "image/png": "[encoded data removed]",
      "text/plain": [
       "<Figure size 500x500 with 1 Axes>"
      ]
     },
     "metadata": {},
     "output_type": "display_data"
    }
   ],
   "source": [
    "fig = plt.figure(figsize = (5, 5), dpi = 100)\n",
    "shenk_bns = np.linspace(0, 100, 50)\n",
    "a = func_df.query('occ >= 25 and occ_pct >= 0.50').abs_norm_shenkin\n",
    "b = unk_df.query('occ >= 25 and occ_pct >= 0.50').abs_norm_shenkin\n",
    "print(len(a), len(b))\n",
    "sns.histplot(a, label = \"Functional\", fill = True, color = \"#0C7BDC\", stat = \"proportion\", element = \"step\", bins = shenk_bns)\n",
    "sns.histplot(b, label = \"Unknown\", fill = True, color = \"#FFC20A\", stat = \"proportion\", element = \"step\", bins = shenk_bns)\n",
    "plt.ylabel(\"p\")\n",
    "plt.xlabel(\"NShenk\")\n",
    "plt.legend(edgecolor = \"k\")\n",
    "#plt.savefig(os.path.join(figs_dir, \"FUNC_vs_UNK_shenk.png\"))\n",
    "plt.show()"
   ]
  },
  {
   "cell_type": "code",
   "execution_count": 19,
   "metadata": {},
   "outputs": [
    {
     "name": "stderr",
     "output_type": "stream",
     "text": [
      "/tmp/1211748.1.all.q/ipykernel_24921/3228072165.py:1: UserWarning: p-value floored: true value smaller than 0.001\n",
      "  scipy.stats.anderson_ksamp([a, b])\n"
     ]
    },
    {
     "data": {
      "text/plain": [
       "Anderson_ksampResult(statistic=104.75819493187241, critical_values=array([0.325, 1.226, 1.961, 2.718, 3.752, 4.592, 6.546]), pvalue=0.001)"
      ]
     },
     "execution_count": 19,
     "metadata": {},
     "output_type": "execute_result"
    }
   ],
   "source": [
    "scipy.stats.anderson_ksamp([a, b])"
   ]
  },
  {
   "cell_type": "code",
   "execution_count": 20,
   "metadata": {},
   "outputs": [
    {
     "name": "stdout",
     "output_type": "stream",
     "text": [
      "Shenkin average (FUNCTIONAL residues) =  20.0\n",
      "Shenkin average (UNKNOWN residues) =  32.0\n",
      "Kolmogorov-Smirnov two sample test result:\n",
      "KS statistic = 0.32\tp = 0.0\n",
      "\n",
      "Mann-Whitney U rank test result:\n",
      "U = 169182.0\tp = 0.0\n",
      "\n",
      "T-test result:\n",
      "T = -12.91\tp = 0.0\n"
     ]
    }
   ],
   "source": [
    "print(\"Shenkin average (FUNCTIONAL residues) = \", round(statistics.mean(a),0))\n",
    "print(\"Shenkin average (UNKNOWN residues) = \", round(statistics.mean(b),0))\n",
    "\n",
    "s, p = scipy.stats.ks_2samp(a, b, alternative=\"two-sided\")\n",
    "print(\"Kolmogorov-Smirnov two sample test result:\\nKS statistic = {}\\tp = {}\\n\".format(round(s,2), round(p,2)))\n",
    "\n",
    "s, p = scipy.stats.mannwhitneyu(a, b, alternative=\"two-sided\")\n",
    "print(\"Mann-Whitney U rank test result:\\nU = {}\\tp = {}\\n\".format(round(s,2), round(p,2)))\n",
    "\n",
    "s, p = scipy.stats.ttest_ind(a,b)\n",
    "print(\"T-test result:\\nT = {}\\tp = {}\".format(round(s,2), round(p,2)))"
   ]
  },
  {
   "cell_type": "markdown",
   "metadata": {},
   "source": [
    "## FUNCTIONAL VS UNKNOWN: MES"
   ]
  },
  {
   "cell_type": "code",
   "execution_count": 21,
   "metadata": {},
   "outputs": [
    {
     "name": "stdout",
     "output_type": "stream",
     "text": [
      "372 857\n"
     ]
    },
    {
     "data": {
      "image/png": "[encoded data removed]",
      "text/plain": [
       "<Figure size 500x500 with 1 Axes>"
      ]
     },
     "metadata": {},
     "output_type": "display_data"
    }
   ],
   "source": [
    "fig = plt.figure(figsize = (5, 5), dpi = 100)\n",
    "mes_bns = np.linspace(-1.5, 1.5, 40)\n",
    "a = func_df.query('occ >= 25 and occ_pct >= 0.50 & human_occ > 10 & human_occ_pct > 0.50 & variants >= 2').log_oddsratio\n",
    "b = unk_df.query('occ >= 25 and occ_pct >= 0.50 & human_occ > 10 & human_occ_pct > 0.50 & variants >= 2').log_oddsratio\n",
    "print(len(a), len(b))\n",
    "sns.histplot(a, label = \"Functional\", fill = True, color = \"#0C7BDC\", stat = \"proportion\", element = \"step\", bins = mes_bns)\n",
    "sns.histplot(b, label = \"Unknown\", fill = True, color = \"#FFC20A\", stat = \"proportion\", element = \"step\", bins = mes_bns)\n",
    "plt.ylabel(\"p\")\n",
    "plt.xlabel(\"MES\")\n",
    "plt.legend(edgecolor = \"k\")\n",
    "#plt.savefig(os.path.join(figs_dir, \"FUNC_vs_UNK_MES.png\"))\n",
    "plt.show()"
   ]
  },
  {
   "cell_type": "code",
   "execution_count": 22,
   "metadata": {},
   "outputs": [
    {
     "name": "stderr",
     "output_type": "stream",
     "text": [
      "/tmp/1211748.1.all.q/ipykernel_24921/3228072165.py:1: UserWarning: p-value floored: true value smaller than 0.001\n",
      "  scipy.stats.anderson_ksamp([a, b])\n"
     ]
    },
    {
     "data": {
      "text/plain": [
       "Anderson_ksampResult(statistic=45.72428785837081, critical_values=array([0.325, 1.226, 1.961, 2.718, 3.752, 4.592, 6.546]), pvalue=0.001)"
      ]
     },
     "execution_count": 22,
     "metadata": {},
     "output_type": "execute_result"
    }
   ],
   "source": [
    "scipy.stats.anderson_ksamp([a, b])"
   ]
  },
  {
   "cell_type": "code",
   "execution_count": 23,
   "metadata": {},
   "outputs": [
    {
     "name": "stdout",
     "output_type": "stream",
     "text": [
      "MES average (FUNCIONAL residues) =  -0.2\n",
      "MES average (UNKNOWN residues) =  -0.0\n",
      "Kolmogorov-Smirnov two sample test result:\n",
      "KS statistic = 0.26\tp = 0.0\n",
      "\n",
      "Mann-Whitney U rank test result:\n",
      "U = 111507.0\tp = 0.0\n",
      "\n",
      "T-test result:\n",
      "T = -8.35\tp = 0.0\n"
     ]
    }
   ],
   "source": [
    "print(\"MES average (FUNCIONAL residues) = \", round(statistics.mean(a),1))\n",
    "print(\"MES average (UNKNOWN residues) = \", round(statistics.mean(b),1))\n",
    "\n",
    "s, p = scipy.stats.ks_2samp(a, b, alternative=\"two-sided\")\n",
    "print(\"Kolmogorov-Smirnov two sample test result:\\nKS statistic = {}\\tp = {}\\n\".format(round(s,2), round(p,2)))\n",
    "\n",
    "s, p = scipy.stats.mannwhitneyu(a, b, alternative=\"two-sided\")\n",
    "print(\"Mann-Whitney U rank test result:\\nU = {}\\tp = {}\\n\".format(round(s,2), round(p,2)))\n",
    "\n",
    "s, p = scipy.stats.ttest_ind(a, b)\n",
    "print(\"T-test result:\\nT = {}\\tp = {}\".format(round(s,2), round(p,2)))"
   ]
  }
 ],
 "metadata": {
  "kernelspec": {
   "display_name": "Python [conda env:myenv2]",
   "language": "python",
   "name": "conda-env-myenv2-py"
  },
  "language_info": {
   "codemirror_mode": {
    "name": "ipython",
    "version": 3
   },
   "file_extension": ".py",
   "mimetype": "text/x-python",
   "name": "python",
   "nbconvert_exporter": "python",
   "pygments_lexer": "ipython3",
   "version": "3.11.0"
  }
 },
 "nbformat": 4,
 "nbformat_minor": 4
}
