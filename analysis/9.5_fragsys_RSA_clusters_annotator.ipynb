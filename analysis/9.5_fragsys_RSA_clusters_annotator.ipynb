{
 "cells": [
  {
   "cell_type": "markdown",
   "metadata": {},
   "source": [
    "# ANNOTATING BOXPLOTS"
   ]
  },
  {
   "cell_type": "markdown",
   "metadata": {},
   "source": [
    "## IMPORTING NECESSARY PACKAGES"
   ]
  },
  {
   "cell_type": "code",
   "execution_count": 1,
   "metadata": {},
   "outputs": [],
   "source": [
    "import os\n",
    "import colorsys\n",
    "import itertools\n",
    "import pandas as pd\n",
    "import seaborn as sns\n",
    "from fractions import Fraction\n",
    "import matplotlib.pyplot as plt\n",
    "from typing import Iterable, Tuple\n",
    "from statannotations.Annotator import Annotator"
   ]
  },
  {
   "cell_type": "markdown",
   "metadata": {},
   "source": [
    "## SOME FUNCTIONS"
   ]
  },
  {
   "cell_type": "code",
   "execution_count": 2,
   "metadata": {},
   "outputs": [],
   "source": [
    "### COLOURS ###\n",
    "\n",
    "# This code I did not write, I grabbed it from the following URL:\n",
    "\n",
    "# https://stackoverflow.com/questions/470690/how-to-automatically-generate-n-distinct-colors\n",
    "\n",
    "def zenos_dichotomy() -> Iterable[Fraction]:\n",
    "    \"\"\"\n",
    "    http://en.wikipedia.org/wiki/1/2_%2B_1/4_%2B_1/8_%2B_1/16_%2B_%C2%B7_%C2%B7_%C2%B7\n",
    "    \"\"\"\n",
    "    for k in itertools.count():\n",
    "        yield Fraction(1,2**k)\n",
    "\n",
    "def fracs() -> Iterable[Fraction]:\n",
    "    \"\"\"\n",
    "    [Fraction(0, 1), Fraction(1, 2), Fraction(1, 4), Fraction(3, 4), Fraction(1, 8), Fraction(3, 8), Fraction(5, 8), Fraction(7, 8), Fraction(1, 16), Fraction(3, 16), ...]\n",
    "    [0.0, 0.5, 0.25, 0.75, 0.125, 0.375, 0.625, 0.875, 0.0625, 0.1875, ...]\n",
    "    \"\"\"\n",
    "    yield Fraction(0)\n",
    "    for k in zenos_dichotomy():\n",
    "        i = k.denominator # [1,2,4,8,16,...]\n",
    "        for j in range(1,i,2):\n",
    "            yield Fraction(j,i)\n",
    "\n",
    "# can be used for the v in hsv to map linear values 0..1 to something that looks equidistant\n",
    "# bias = lambda x: (math.sqrt(x/3)/Fraction(2,3)+Fraction(1,3))/Fraction(6,5)\n",
    "\n",
    "HSVTuple = Tuple[Fraction, Fraction, Fraction]\n",
    "RGBTuple = Tuple[float, float, float]\n",
    "\n",
    "def hue_to_tones(h: Fraction) -> Iterable[HSVTuple]:\n",
    "    for s in [Fraction(6,10)]: # optionally use range\n",
    "        for v in [Fraction(8,10),Fraction(5,10)]: # could use range too\n",
    "            yield (h, s, v) # use bias for v here if you use range\n",
    "\n",
    "def hsv_to_rgb(x: HSVTuple) -> RGBTuple:\n",
    "    return colorsys.hsv_to_rgb(*map(float, x))\n",
    "\n",
    "flatten = itertools.chain.from_iterable\n",
    "\n",
    "def hsvs() -> Iterable[HSVTuple]:\n",
    "    return flatten(map(hue_to_tones, fracs()))\n",
    "\n",
    "def rgbs() -> Iterable[RGBTuple]:\n",
    "    return map(hsv_to_rgb, hsvs())\n",
    "\n",
    "def plot_boxes(df, x, y, order, pairs, col_palette, flierprops, fsize = (5, 5), dpi = 100, annotate = False, ann_loc = \"inside\", ylab = None, out = None, show = True):\n",
    "    \"\"\"\n",
    "    customised boxplot plotting function\n",
    "    \"\"\"\n",
    "    plt.figure(figsize = fsize, dpi = dpi)\n",
    "    \n",
    "    ax = sns.boxplot(data = df, x = x, y = y, order = order, palette = col_palette, flierprops = flierprops)\n",
    "    if ylab != None:\n",
    "        plt.ylabel(ylab)\n",
    "    if annotate == True:\n",
    "        annotator = Annotator(ax, pairs, data = df, x = x, y = y, order = order)\n",
    "        annotator.configure(test = \"Mann-Whitney\", text_format = \"star\", loc = ann_loc)\n",
    "        annotator.apply_and_annotate()\n",
    "        \n",
    "    if show == False:\n",
    "        plt.close()\n",
    "        \n",
    "    if out != None:\n",
    "        plt.savefig(out)"
   ]
  },
  {
   "cell_type": "markdown",
   "metadata": {},
   "source": [
    "## READING INPUT DATA"
   ]
  },
  {
   "cell_type": "code",
   "execution_count": 4,
   "metadata": {},
   "outputs": [],
   "source": [
    "main_dir = \"./../\"\n",
    "results_dir = os.path.join(main_dir, \"results\")\n",
    "figs_dir = os.path.join(main_dir, \"figs\")"
   ]
  },
  {
   "cell_type": "code",
   "execution_count": 5,
   "metadata": {},
   "outputs": [],
   "source": [
    "rsa_df = pd.read_pickle(os.path.join(results_dir, \"clusters_rsa.pkl\"))\n",
    "shenk_df = pd.read_pickle(os.path.join(results_dir, \"clusters_shenkin.pkl\"))\n",
    "mess_df = pd.read_pickle(os.path.join(results_dir, \"clusters_mes.pkl\"))\n",
    "burial_df = pd.read_pickle(os.path.join(results_dir, \"clusters_burial_size.pkl\"))"
   ]
  },
  {
   "cell_type": "code",
   "execution_count": 6,
   "metadata": {},
   "outputs": [],
   "source": [
    "order = [1, 2, 3, 4]\n",
    "pairs = [(1, 2),(1, 3), (1, 4), (2, 3), (2, 4), (3, 4)]\n",
    "flierprops = dict(marker = \"o\", markerfacecolor = \"black\", markersize = 4,\n",
    "                  markeredgecolor = \"none\")\n",
    "sample_colors = list(itertools.islice(rgbs(), 200)) # list of colours\n",
    "my_pal = {i: sample_colors[i-1] for i in order}"
   ]
  },
  {
   "cell_type": "markdown",
   "metadata": {},
   "source": [
    "## CHARACTERISING RSA-BASED CLUSTERS: RSA"
   ]
  },
  {
   "cell_type": "code",
   "execution_count": 7,
   "metadata": {},
   "outputs": [
    {
     "data": {
      "text/html": [
       "<div>\n",
       "<style scoped>\n",
       "    .dataframe tbody tr th:only-of-type {\n",
       "        vertical-align: middle;\n",
       "    }\n",
       "\n",
       "    .dataframe tbody tr th {\n",
       "        vertical-align: top;\n",
       "    }\n",
       "\n",
       "    .dataframe thead th {\n",
       "        text-align: right;\n",
       "    }\n",
       "</style>\n",
       "<table border=\"1\" class=\"dataframe\">\n",
       "  <thead>\n",
       "    <tr style=\"text-align: right;\">\n",
       "      <th></th>\n",
       "      <th>RSA</th>\n",
       "      <th>Cluster</th>\n",
       "    </tr>\n",
       "  </thead>\n",
       "  <tbody>\n",
       "    <tr>\n",
       "      <th>0</th>\n",
       "      <td>29.878</td>\n",
       "      <td>1</td>\n",
       "    </tr>\n",
       "    <tr>\n",
       "      <th>1</th>\n",
       "      <td>78.378</td>\n",
       "      <td>1</td>\n",
       "    </tr>\n",
       "    <tr>\n",
       "      <th>2</th>\n",
       "      <td>32.990</td>\n",
       "      <td>1</td>\n",
       "    </tr>\n",
       "  </tbody>\n",
       "</table>\n",
       "</div>"
      ],
      "text/plain": [
       "      RSA  Cluster\n",
       "0  29.878        1\n",
       "1  78.378        1\n",
       "2  32.990        1"
      ]
     },
     "execution_count": 7,
     "metadata": {},
     "output_type": "execute_result"
    }
   ],
   "source": [
    "rsa_df.head(3)"
   ]
  },
  {
   "cell_type": "code",
   "execution_count": 12,
   "metadata": {},
   "outputs": [
    {
     "name": "stdout",
     "output_type": "stream",
     "text": [
      "p-value annotation legend:\n",
      "      ns: p <= 1.00e+00\n",
      "       *: 1.00e-02 < p <= 5.00e-02\n",
      "      **: 1.00e-03 < p <= 1.00e-02\n",
      "     ***: 1.00e-04 < p <= 1.00e-03\n",
      "    ****: p <= 1.00e-04\n",
      "\n",
      "1 vs. 2: Mann-Whitney-Wilcoxon test two-sided, P_val:5.288e-28 U_stat=3.725e+05\n",
      "2 vs. 3: Mann-Whitney-Wilcoxon test two-sided, P_val:4.524e-19 U_stat=4.365e+05\n",
      "3 vs. 4: Mann-Whitney-Wilcoxon test two-sided, P_val:1.302e-09 U_stat=3.842e+04\n",
      "1 vs. 3: Mann-Whitney-Wilcoxon test two-sided, P_val:1.741e-62 U_stat=1.396e+05\n",
      "2 vs. 4: Mann-Whitney-Wilcoxon test two-sided, P_val:7.928e-26 U_stat=4.988e+04\n",
      "1 vs. 4: Mann-Whitney-Wilcoxon test two-sided, P_val:2.371e-46 U_stat=1.292e+04\n"
     ]
    },
    {
     "data": {
      "image/png": "[encoded data removed]",
      "text/plain": [
       "<Figure size 500x500 with 1 Axes>"
      ]
     },
     "metadata": {},
     "output_type": "display_data"
    }
   ],
   "source": [
    "plot_boxes(\n",
    "    rsa_df, \"Cluster\", \"RSA\", order, pairs, my_pal, flierprops,\n",
    "    fsize = (5, 5), dpi = 100, annotate = True, ann_loc = \"inside\", ylab = \"RSA %\",\n",
    "    #out = os.path.join(figs_dir, \"RSA_clusters_size.png\"),\n",
    "    show = True\n",
    ")"
   ]
  },
  {
   "cell_type": "markdown",
   "metadata": {},
   "source": [
    "## CHARACTERISING RSA-BASED CLUSTERS: SHENKIN"
   ]
  },
  {
   "cell_type": "code",
   "execution_count": 13,
   "metadata": {},
   "outputs": [
    {
     "data": {
      "text/html": [
       "<div>\n",
       "<style scoped>\n",
       "    .dataframe tbody tr th:only-of-type {\n",
       "        vertical-align: middle;\n",
       "    }\n",
       "\n",
       "    .dataframe tbody tr th {\n",
       "        vertical-align: top;\n",
       "    }\n",
       "\n",
       "    .dataframe thead th {\n",
       "        text-align: right;\n",
       "    }\n",
       "</style>\n",
       "<table border=\"1\" class=\"dataframe\">\n",
       "  <thead>\n",
       "    <tr style=\"text-align: right;\">\n",
       "      <th></th>\n",
       "      <th>Shenkin</th>\n",
       "      <th>Cluster</th>\n",
       "    </tr>\n",
       "  </thead>\n",
       "  <tbody>\n",
       "    <tr>\n",
       "      <th>0</th>\n",
       "      <td>30.120869</td>\n",
       "      <td>1</td>\n",
       "    </tr>\n",
       "    <tr>\n",
       "      <th>1</th>\n",
       "      <td>1.157336</td>\n",
       "      <td>1</td>\n",
       "    </tr>\n",
       "    <tr>\n",
       "      <th>2</th>\n",
       "      <td>18.244813</td>\n",
       "      <td>1</td>\n",
       "    </tr>\n",
       "  </tbody>\n",
       "</table>\n",
       "</div>"
      ],
      "text/plain": [
       "     Shenkin  Cluster\n",
       "0  30.120869        1\n",
       "1   1.157336        1\n",
       "2  18.244813        1"
      ]
     },
     "execution_count": 13,
     "metadata": {},
     "output_type": "execute_result"
    }
   ],
   "source": [
    "shenk_df.head(3)"
   ]
  },
  {
   "cell_type": "code",
   "execution_count": 17,
   "metadata": {},
   "outputs": [
    {
     "name": "stdout",
     "output_type": "stream",
     "text": [
      "p-value annotation legend:\n",
      "      ns: p <= 1.00e+00\n",
      "       *: 1.00e-02 < p <= 5.00e-02\n",
      "      **: 1.00e-03 < p <= 1.00e-02\n",
      "     ***: 1.00e-04 < p <= 1.00e-03\n",
      "    ****: p <= 1.00e-04\n",
      "\n",
      "1 vs. 2: Mann-Whitney-Wilcoxon test two-sided, P_val:9.249e-13 U_stat=1.550e+05\n",
      "2 vs. 3: Mann-Whitney-Wilcoxon test two-sided, P_val:2.794e-06 U_stat=1.713e+05\n",
      "3 vs. 4: Mann-Whitney-Wilcoxon test two-sided, P_val:5.934e-01 U_stat=1.595e+04\n",
      "1 vs. 3: Mann-Whitney-Wilcoxon test two-sided, P_val:7.938e-24 U_stat=6.249e+04\n",
      "2 vs. 4: Mann-Whitney-Wilcoxon test two-sided, P_val:5.003e-02 U_stat=2.624e+04\n",
      "1 vs. 4: Mann-Whitney-Wilcoxon test two-sided, P_val:1.202e-07 U_stat=9.253e+03\n"
     ]
    },
    {
     "data": {
      "image/png": "[encoded data removed]",
      "text/plain": [
       "<Figure size 500x500 with 1 Axes>"
      ]
     },
     "metadata": {},
     "output_type": "display_data"
    }
   ],
   "source": [
    "plot_boxes(\n",
    "    shenk_df, \"Cluster\", \"Shenkin\", order, pairs, my_pal, flierprops,\n",
    "    fsize = (5, 5), dpi = 100, annotate = True, ann_loc = \"inside\", ylab = \"NShenkin\",\n",
    "    #out = os.path.join(figs_dir, \"RSA_clusters_size.png\"),\n",
    "    show = True\n",
    ")"
   ]
  },
  {
   "cell_type": "markdown",
   "metadata": {},
   "source": [
    "## CHARACTERISING RSA-BASED CLUSTERS: MES"
   ]
  },
  {
   "cell_type": "code",
   "execution_count": 18,
   "metadata": {},
   "outputs": [
    {
     "data": {
      "text/html": [
       "<div>\n",
       "<style scoped>\n",
       "    .dataframe tbody tr th:only-of-type {\n",
       "        vertical-align: middle;\n",
       "    }\n",
       "\n",
       "    .dataframe tbody tr th {\n",
       "        vertical-align: top;\n",
       "    }\n",
       "\n",
       "    .dataframe thead th {\n",
       "        text-align: right;\n",
       "    }\n",
       "</style>\n",
       "<table border=\"1\" class=\"dataframe\">\n",
       "  <thead>\n",
       "    <tr style=\"text-align: right;\">\n",
       "      <th></th>\n",
       "      <th>MES</th>\n",
       "      <th>Cluster</th>\n",
       "    </tr>\n",
       "  </thead>\n",
       "  <tbody>\n",
       "    <tr>\n",
       "      <th>0</th>\n",
       "      <td>-0.750113</td>\n",
       "      <td>1</td>\n",
       "    </tr>\n",
       "    <tr>\n",
       "      <th>1</th>\n",
       "      <td>-0.277961</td>\n",
       "      <td>1</td>\n",
       "    </tr>\n",
       "    <tr>\n",
       "      <th>2</th>\n",
       "      <td>-0.567075</td>\n",
       "      <td>1</td>\n",
       "    </tr>\n",
       "  </tbody>\n",
       "</table>\n",
       "</div>"
      ],
      "text/plain": [
       "        MES  Cluster\n",
       "0 -0.750113        1\n",
       "1 -0.277961        1\n",
       "2 -0.567075        1"
      ]
     },
     "execution_count": 18,
     "metadata": {},
     "output_type": "execute_result"
    }
   ],
   "source": [
    "mess_df.head(3)"
   ]
  },
  {
   "cell_type": "code",
   "execution_count": 20,
   "metadata": {},
   "outputs": [
    {
     "name": "stdout",
     "output_type": "stream",
     "text": [
      "p-value annotation legend:\n",
      "      ns: p <= 1.00e+00\n",
      "       *: 1.00e-02 < p <= 5.00e-02\n",
      "      **: 1.00e-03 < p <= 1.00e-02\n",
      "     ***: 1.00e-04 < p <= 1.00e-03\n",
      "    ****: p <= 1.00e-04\n",
      "\n",
      "1 vs. 2: Mann-Whitney-Wilcoxon test two-sided, P_val:4.733e-04 U_stat=8.297e+04\n",
      "2 vs. 3: Mann-Whitney-Wilcoxon test two-sided, P_val:6.473e-02 U_stat=1.174e+05\n",
      "3 vs. 4: Mann-Whitney-Wilcoxon test two-sided, P_val:8.577e-02 U_stat=8.740e+03\n",
      "1 vs. 3: Mann-Whitney-Wilcoxon test two-sided, P_val:8.987e-07 U_stat=4.460e+04\n",
      "2 vs. 4: Mann-Whitney-Wilcoxon test two-sided, P_val:1.560e-02 U_stat=1.385e+04\n",
      "1 vs. 4: Mann-Whitney-Wilcoxon test two-sided, P_val:4.412e-05 U_stat=5.080e+03\n"
     ]
    },
    {
     "data": {
      "image/png": "[encoded data removed]",
      "text/plain": [
       "<Figure size 500x500 with 1 Axes>"
      ]
     },
     "metadata": {},
     "output_type": "display_data"
    }
   ],
   "source": [
    "plot_boxes(\n",
    "    mess_df, \"Cluster\", \"MES\", order, pairs, my_pal, flierprops,\n",
    "    fsize = (5, 5), dpi = 100, annotate = True, ann_loc = \"inside\",\n",
    "    #out = os.path.join(figs_dir, \"RSA_clusters_size.png\"),\n",
    "    show = True\n",
    ")"
   ]
  },
  {
   "cell_type": "markdown",
   "metadata": {},
   "source": [
    "## CHARACTERISING RSA-BASED CLUSTERS: SITE SIZE"
   ]
  },
  {
   "cell_type": "code",
   "execution_count": 21,
   "metadata": {},
   "outputs": [
    {
     "data": {
      "text/html": [
       "<div>\n",
       "<style scoped>\n",
       "    .dataframe tbody tr th:only-of-type {\n",
       "        vertical-align: middle;\n",
       "    }\n",
       "\n",
       "    .dataframe tbody tr th {\n",
       "        vertical-align: top;\n",
       "    }\n",
       "\n",
       "    .dataframe thead th {\n",
       "        text-align: right;\n",
       "    }\n",
       "</style>\n",
       "<table border=\"1\" class=\"dataframe\">\n",
       "  <thead>\n",
       "    <tr style=\"text-align: right;\">\n",
       "      <th></th>\n",
       "      <th>cluster_id</th>\n",
       "      <th>prop_burial</th>\n",
       "      <th>bs_size</th>\n",
       "    </tr>\n",
       "  </thead>\n",
       "  <tbody>\n",
       "    <tr>\n",
       "      <th>0</th>\n",
       "      <td>1</td>\n",
       "      <td>0.666667</td>\n",
       "      <td>24</td>\n",
       "    </tr>\n",
       "    <tr>\n",
       "      <th>1</th>\n",
       "      <td>1</td>\n",
       "      <td>1.000000</td>\n",
       "      <td>6</td>\n",
       "    </tr>\n",
       "    <tr>\n",
       "      <th>2</th>\n",
       "      <td>1</td>\n",
       "      <td>0.666667</td>\n",
       "      <td>12</td>\n",
       "    </tr>\n",
       "  </tbody>\n",
       "</table>\n",
       "</div>"
      ],
      "text/plain": [
       "   cluster_id  prop_burial  bs_size\n",
       "0           1     0.666667       24\n",
       "1           1     1.000000        6\n",
       "2           1     0.666667       12"
      ]
     },
     "execution_count": 21,
     "metadata": {},
     "output_type": "execute_result"
    }
   ],
   "source": [
    "burial_df.head(3)"
   ]
  },
  {
   "cell_type": "code",
   "execution_count": 25,
   "metadata": {},
   "outputs": [
    {
     "name": "stdout",
     "output_type": "stream",
     "text": [
      "p-value annotation legend:\n",
      "      ns: p <= 1.00e+00\n",
      "       *: 1.00e-02 < p <= 5.00e-02\n",
      "      **: 1.00e-03 < p <= 1.00e-02\n",
      "     ***: 1.00e-04 < p <= 1.00e-03\n",
      "    ****: p <= 1.00e-04\n",
      "\n",
      "1 vs. 2: Mann-Whitney-Wilcoxon test two-sided, P_val:2.111e-04 U_stat=3.997e+03\n",
      "2 vs. 3: Mann-Whitney-Wilcoxon test two-sided, P_val:3.288e-07 U_stat=8.114e+03\n",
      "3 vs. 4: Mann-Whitney-Wilcoxon test two-sided, P_val:1.826e-07 U_stat=2.165e+03\n",
      "1 vs. 3: Mann-Whitney-Wilcoxon test two-sided, P_val:1.344e-09 U_stat=3.419e+03\n",
      "2 vs. 4: Mann-Whitney-Wilcoxon test two-sided, P_val:2.547e-13 U_stat=3.443e+03\n",
      "1 vs. 4: Mann-Whitney-Wilcoxon test two-sided, P_val:4.910e-11 U_stat=1.270e+03\n"
     ]
    },
    {
     "data": {
      "image/png": "[encoded data removed]",
      "text/plain": [
       "<Figure size 500x500 with 1 Axes>"
      ]
     },
     "metadata": {},
     "output_type": "display_data"
    }
   ],
   "source": [
    "plot_boxes(\n",
    "    burial_df, \"cluster_id\", \"bs_size\", order, pairs, my_pal, flierprops,\n",
    "    fsize = (5, 5), dpi = 100, annotate = True, ann_loc = \"inside\", ylab = \"Binding site size\",\n",
    "    #out = os.path.join(figs_dir, \"RSA_clusters_size.png\"),\n",
    "    show = True\n",
    ")"
   ]
  },
  {
   "cell_type": "markdown",
   "metadata": {},
   "source": [
    "## CHARACTERISING RSA-BASED CLUSTERS: BURIAL"
   ]
  },
  {
   "cell_type": "code",
   "execution_count": 26,
   "metadata": {},
   "outputs": [
    {
     "data": {
      "text/html": [
       "<div>\n",
       "<style scoped>\n",
       "    .dataframe tbody tr th:only-of-type {\n",
       "        vertical-align: middle;\n",
       "    }\n",
       "\n",
       "    .dataframe tbody tr th {\n",
       "        vertical-align: top;\n",
       "    }\n",
       "\n",
       "    .dataframe thead th {\n",
       "        text-align: right;\n",
       "    }\n",
       "</style>\n",
       "<table border=\"1\" class=\"dataframe\">\n",
       "  <thead>\n",
       "    <tr style=\"text-align: right;\">\n",
       "      <th></th>\n",
       "      <th>cluster_id</th>\n",
       "      <th>prop_burial</th>\n",
       "      <th>bs_size</th>\n",
       "    </tr>\n",
       "  </thead>\n",
       "  <tbody>\n",
       "    <tr>\n",
       "      <th>0</th>\n",
       "      <td>1</td>\n",
       "      <td>0.666667</td>\n",
       "      <td>24</td>\n",
       "    </tr>\n",
       "    <tr>\n",
       "      <th>1</th>\n",
       "      <td>1</td>\n",
       "      <td>1.000000</td>\n",
       "      <td>6</td>\n",
       "    </tr>\n",
       "    <tr>\n",
       "      <th>2</th>\n",
       "      <td>1</td>\n",
       "      <td>0.666667</td>\n",
       "      <td>12</td>\n",
       "    </tr>\n",
       "  </tbody>\n",
       "</table>\n",
       "</div>"
      ],
      "text/plain": [
       "   cluster_id  prop_burial  bs_size\n",
       "0           1     0.666667       24\n",
       "1           1     1.000000        6\n",
       "2           1     0.666667       12"
      ]
     },
     "execution_count": 26,
     "metadata": {},
     "output_type": "execute_result"
    }
   ],
   "source": [
    "burial_df.head(3)"
   ]
  },
  {
   "cell_type": "code",
   "execution_count": 29,
   "metadata": {},
   "outputs": [
    {
     "name": "stdout",
     "output_type": "stream",
     "text": [
      "p-value annotation legend:\n",
      "      ns: p <= 1.00e+00\n",
      "       *: 1.00e-02 < p <= 5.00e-02\n",
      "      **: 1.00e-03 < p <= 1.00e-02\n",
      "     ***: 1.00e-04 < p <= 1.00e-03\n",
      "    ****: p <= 1.00e-04\n",
      "\n",
      "1 vs. 2: Mann-Whitney-Wilcoxon test two-sided, P_val:7.213e-17 U_stat=5.344e+03\n",
      "2 vs. 3: Mann-Whitney-Wilcoxon test two-sided, P_val:1.139e-22 U_stat=1.027e+04\n",
      "3 vs. 4: Mann-Whitney-Wilcoxon test two-sided, P_val:1.095e-10 U_stat=2.368e+03\n",
      "1 vs. 3: Mann-Whitney-Wilcoxon test two-sided, P_val:4.278e-21 U_stat=4.158e+03\n",
      "2 vs. 4: Mann-Whitney-Wilcoxon test two-sided, P_val:8.333e-17 U_stat=3.664e+03\n",
      "1 vs. 4: Mann-Whitney-Wilcoxon test two-sided, P_val:3.237e-13 U_stat=1.334e+03\n"
     ]
    },
    {
     "data": {
      "image/png": "[encoded data removed]",
      "text/plain": [
       "<Figure size 500x500 with 1 Axes>"
      ]
     },
     "metadata": {},
     "output_type": "display_data"
    }
   ],
   "source": [
    "plot_boxes(\n",
    "    burial_df, \"cluster_id\", \"prop_burial\", order, pairs, my_pal, flierprops,\n",
    "    fsize = (5, 5), dpi = 100, annotate = True, ann_loc = \"inside\", ylab = \"Proportion RSA<25%\",\n",
    "    #out = os.path.join(figs_dir, \"RSA_clusters_prop_burial.png\"),\n",
    "    show = True\n",
    ")"
   ]
  }
 ],
 "metadata": {
  "kernelspec": {
   "display_name": "Python [conda env:stats]",
   "language": "python",
   "name": "conda-env-stats-py"
  },
  "language_info": {
   "codemirror_mode": {
    "name": "ipython",
    "version": 3
   },
   "file_extension": ".py",
   "mimetype": "text/x-python",
   "name": "python",
   "nbconvert_exporter": "python",
   "pygments_lexer": "ipython3",
   "version": "3.8.16"
  }
 },
 "nbformat": 4,
 "nbformat_minor": 4
}
