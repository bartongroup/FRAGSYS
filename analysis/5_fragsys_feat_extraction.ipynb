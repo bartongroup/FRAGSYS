{
 "cells": [
  {
   "cell_type": "markdown",
   "metadata": {},
   "source": [
    "# EXTRACTING UNIPROT FEATURE ANNOTATIONS TO CLASSIFY SITES BASED ON FUNCTION"
   ]
  },
  {
   "cell_type": "markdown",
   "metadata": {},
   "source": [
    "In this notebook we automatically extract UniProt feature annotations via UniProt Proteins API."
   ]
  },
  {
   "cell_type": "markdown",
   "metadata": {},
   "source": [
    "### IMPORTING NECESSARY PACKAGES"
   ]
  },
  {
   "cell_type": "code",
   "execution_count": 1,
   "metadata": {},
   "outputs": [],
   "source": [
    "from fragsys_analysis import *"
   ]
  },
  {
   "cell_type": "markdown",
   "metadata": {},
   "source": [
    "### READING INPUT DATA"
   ]
  },
  {
   "cell_type": "code",
   "execution_count": 2,
   "metadata": {},
   "outputs": [],
   "source": [
    "main_dir = \"./../\"\n",
    "results_dir = os.path.join(main_dir, \"results\")"
   ]
  },
  {
   "cell_type": "code",
   "execution_count": 3,
   "metadata": {},
   "outputs": [],
   "source": [
    "prots_df = pd.read_pickle(os.path.join(results_dir, \"all_prots.pkl\"))\n",
    "all_bs_ress = pd.read_pickle(os.path.join(results_dir, \"all_bs_ress.pkl\"))"
   ]
  },
  {
   "cell_type": "code",
   "execution_count": 7,
   "metadata": {},
   "outputs": [
    {
     "data": {
      "text/html": [
       "<div>\n",
       "<style scoped>\n",
       "    .dataframe tbody tr th:only-of-type {\n",
       "        vertical-align: middle;\n",
       "    }\n",
       "\n",
       "    .dataframe tbody tr th {\n",
       "        vertical-align: top;\n",
       "    }\n",
       "\n",
       "    .dataframe thead th {\n",
       "        text-align: right;\n",
       "    }\n",
       "</style>\n",
       "<table border=\"1\" class=\"dataframe\">\n",
       "  <thead>\n",
       "    <tr style=\"text-align: right;\">\n",
       "      <th></th>\n",
       "      <th>acc</th>\n",
       "      <th>group</th>\n",
       "      <th>n_strucs</th>\n",
       "      <th>n_ligs</th>\n",
       "      <th>n_un_ligs</th>\n",
       "      <th>n_bs</th>\n",
       "      <th>n_seqs</th>\n",
       "      <th>n_human_seqs</th>\n",
       "      <th>n_var_seqs</th>\n",
       "      <th>n_vars</th>\n",
       "      <th>n_human_res</th>\n",
       "      <th>vars_per_seq</th>\n",
       "      <th>vars_per_res</th>\n",
       "    </tr>\n",
       "  </thead>\n",
       "  <tbody>\n",
       "    <tr>\n",
       "      <th>0</th>\n",
       "      <td>H0Y4R8</td>\n",
       "      <td>0</td>\n",
       "      <td>1</td>\n",
       "      <td>1</td>\n",
       "      <td>1</td>\n",
       "      <td>1</td>\n",
       "      <td>596</td>\n",
       "      <td>143</td>\n",
       "      <td>138</td>\n",
       "      <td>3566</td>\n",
       "      <td>10864</td>\n",
       "      <td>24.94</td>\n",
       "      <td>0.33</td>\n",
       "    </tr>\n",
       "    <tr>\n",
       "      <th>1</th>\n",
       "      <td>O43809</td>\n",
       "      <td>0</td>\n",
       "      <td>10</td>\n",
       "      <td>19</td>\n",
       "      <td>10</td>\n",
       "      <td>4</td>\n",
       "      <td>10</td>\n",
       "      <td>1</td>\n",
       "      <td>1</td>\n",
       "      <td>206</td>\n",
       "      <td>390</td>\n",
       "      <td>206.00</td>\n",
       "      <td>0.53</td>\n",
       "    </tr>\n",
       "    <tr>\n",
       "      <th>2</th>\n",
       "      <td>Q5T0W9</td>\n",
       "      <td>0</td>\n",
       "      <td>11</td>\n",
       "      <td>24</td>\n",
       "      <td>10</td>\n",
       "      <td>6</td>\n",
       "      <td>415</td>\n",
       "      <td>16</td>\n",
       "      <td>16</td>\n",
       "      <td>1398</td>\n",
       "      <td>2254</td>\n",
       "      <td>87.38</td>\n",
       "      <td>0.62</td>\n",
       "    </tr>\n",
       "    <tr>\n",
       "      <th>3</th>\n",
       "      <td>Q460N5</td>\n",
       "      <td>0</td>\n",
       "      <td>18</td>\n",
       "      <td>18</td>\n",
       "      <td>18</td>\n",
       "      <td>1</td>\n",
       "      <td>223</td>\n",
       "      <td>12</td>\n",
       "      <td>10</td>\n",
       "      <td>837</td>\n",
       "      <td>1821</td>\n",
       "      <td>69.75</td>\n",
       "      <td>0.46</td>\n",
       "    </tr>\n",
       "    <tr>\n",
       "      <th>4</th>\n",
       "      <td>Q12830</td>\n",
       "      <td>0</td>\n",
       "      <td>8</td>\n",
       "      <td>8</td>\n",
       "      <td>8</td>\n",
       "      <td>1</td>\n",
       "      <td>225</td>\n",
       "      <td>57</td>\n",
       "      <td>53</td>\n",
       "      <td>1711</td>\n",
       "      <td>5221</td>\n",
       "      <td>30.02</td>\n",
       "      <td>0.33</td>\n",
       "    </tr>\n",
       "  </tbody>\n",
       "</table>\n",
       "</div>"
      ],
      "text/plain": [
       "      acc  group  n_strucs  n_ligs  n_un_ligs  n_bs  n_seqs  n_human_seqs  \\\n",
       "0  H0Y4R8      0         1       1          1     1     596           143   \n",
       "1  O43809      0        10      19         10     4      10             1   \n",
       "2  Q5T0W9      0        11      24         10     6     415            16   \n",
       "3  Q460N5      0        18      18         18     1     223            12   \n",
       "4  Q12830      0         8       8          8     1     225            57   \n",
       "\n",
       "   n_var_seqs  n_vars  n_human_res  vars_per_seq  vars_per_res  \n",
       "0         138    3566        10864         24.94          0.33  \n",
       "1           1     206          390        206.00          0.53  \n",
       "2          16    1398         2254         87.38          0.62  \n",
       "3          10     837         1821         69.75          0.46  \n",
       "4          53    1711         5221         30.02          0.33  "
      ]
     },
     "execution_count": 7,
     "metadata": {},
     "output_type": "execute_result"
    }
   ],
   "source": [
    "prots_df.head(5)"
   ]
  },
  {
   "cell_type": "code",
   "execution_count": 5,
   "metadata": {},
   "outputs": [
    {
     "name": "stdout",
     "output_type": "stream",
     "text": [
      "(14172, 62)\n"
     ]
    }
   ],
   "source": [
    "print(all_bs_ress.shape)"
   ]
  },
  {
   "cell_type": "code",
   "execution_count": 6,
   "metadata": {},
   "outputs": [
    {
     "name": "stdout",
     "output_type": "stream",
     "text": [
      "35\n"
     ]
    }
   ],
   "source": [
    "accs = prots_df.acc.unique().tolist()\n",
    "print(len(accs))"
   ]
  },
  {
   "cell_type": "code",
   "execution_count": 6,
   "metadata": {},
   "outputs": [],
   "source": [
    "acc_feat_dfs = []\n",
    "for acc in accs:\n",
    "    acc_feat_df = pd.read_json(\"https://www.ebi.ac.uk/proteins/api/features/{}?categories=DOMAINS_AND_SITES\".format(acc))\n",
    "    acc_feat_dfs.append(acc_feat_df)"
   ]
  },
  {
   "cell_type": "code",
   "execution_count": 7,
   "metadata": {},
   "outputs": [],
   "source": [
    "feats_df = pd.concat(acc_feat_dfs).reset_index(drop = True)"
   ]
  },
  {
   "cell_type": "code",
   "execution_count": 8,
   "metadata": {},
   "outputs": [
    {
     "data": {
      "text/html": [
       "<div>\n",
       "<style scoped>\n",
       "    .dataframe tbody tr th:only-of-type {\n",
       "        vertical-align: middle;\n",
       "    }\n",
       "\n",
       "    .dataframe tbody tr th {\n",
       "        vertical-align: top;\n",
       "    }\n",
       "\n",
       "    .dataframe thead th {\n",
       "        text-align: right;\n",
       "    }\n",
       "</style>\n",
       "<table border=\"1\" class=\"dataframe\">\n",
       "  <thead>\n",
       "    <tr style=\"text-align: right;\">\n",
       "      <th></th>\n",
       "      <th>accession</th>\n",
       "      <th>entryName</th>\n",
       "      <th>sequence</th>\n",
       "      <th>sequenceChecksum</th>\n",
       "      <th>taxid</th>\n",
       "      <th>features</th>\n",
       "    </tr>\n",
       "  </thead>\n",
       "  <tbody>\n",
       "    <tr>\n",
       "      <th>0</th>\n",
       "      <td>H0Y4R8</td>\n",
       "      <td>H0Y4R8_HUMAN</td>\n",
       "      <td>XTLYKERFKQGTSKKCIQSEDKKWFTPREFEIEGDRGASKNWKLSI...</td>\n",
       "      <td>99E406A0DA7ECC75</td>\n",
       "      <td>9606</td>\n",
       "      <td>{'type': 'DOMAIN', 'category': 'DOMAINS_AND_SI...</td>\n",
       "    </tr>\n",
       "    <tr>\n",
       "      <th>1</th>\n",
       "      <td>H0Y4R8</td>\n",
       "      <td>H0Y4R8_HUMAN</td>\n",
       "      <td>XTLYKERFKQGTSKKCIQSEDKKWFTPREFEIEGDRGASKNWKLSI...</td>\n",
       "      <td>99E406A0DA7ECC75</td>\n",
       "      <td>9606</td>\n",
       "      <td>{'type': 'DOMAIN', 'category': 'DOMAINS_AND_SI...</td>\n",
       "    </tr>\n",
       "    <tr>\n",
       "      <th>2</th>\n",
       "      <td>H0Y4R8</td>\n",
       "      <td>H0Y4R8_HUMAN</td>\n",
       "      <td>XTLYKERFKQGTSKKCIQSEDKKWFTPREFEIEGDRGASKNWKLSI...</td>\n",
       "      <td>99E406A0DA7ECC75</td>\n",
       "      <td>9606</td>\n",
       "      <td>{'type': 'BINDING', 'category': 'DOMAINS_AND_S...</td>\n",
       "    </tr>\n",
       "    <tr>\n",
       "      <th>3</th>\n",
       "      <td>H0Y4R8</td>\n",
       "      <td>H0Y4R8_HUMAN</td>\n",
       "      <td>XTLYKERFKQGTSKKCIQSEDKKWFTPREFEIEGDRGASKNWKLSI...</td>\n",
       "      <td>99E406A0DA7ECC75</td>\n",
       "      <td>9606</td>\n",
       "      <td>{'type': 'BINDING', 'category': 'DOMAINS_AND_S...</td>\n",
       "    </tr>\n",
       "    <tr>\n",
       "      <th>4</th>\n",
       "      <td>H0Y4R8</td>\n",
       "      <td>H0Y4R8_HUMAN</td>\n",
       "      <td>XTLYKERFKQGTSKKCIQSEDKKWFTPREFEIEGDRGASKNWKLSI...</td>\n",
       "      <td>99E406A0DA7ECC75</td>\n",
       "      <td>9606</td>\n",
       "      <td>{'type': 'BINDING', 'category': 'DOMAINS_AND_S...</td>\n",
       "    </tr>\n",
       "  </tbody>\n",
       "</table>\n",
       "</div>"
      ],
      "text/plain": [
       "  accession     entryName                                           sequence  \\\n",
       "0    H0Y4R8  H0Y4R8_HUMAN  XTLYKERFKQGTSKKCIQSEDKKWFTPREFEIEGDRGASKNWKLSI...   \n",
       "1    H0Y4R8  H0Y4R8_HUMAN  XTLYKERFKQGTSKKCIQSEDKKWFTPREFEIEGDRGASKNWKLSI...   \n",
       "2    H0Y4R8  H0Y4R8_HUMAN  XTLYKERFKQGTSKKCIQSEDKKWFTPREFEIEGDRGASKNWKLSI...   \n",
       "3    H0Y4R8  H0Y4R8_HUMAN  XTLYKERFKQGTSKKCIQSEDKKWFTPREFEIEGDRGASKNWKLSI...   \n",
       "4    H0Y4R8  H0Y4R8_HUMAN  XTLYKERFKQGTSKKCIQSEDKKWFTPREFEIEGDRGASKNWKLSI...   \n",
       "\n",
       "   sequenceChecksum  taxid                                           features  \n",
       "0  99E406A0DA7ECC75   9606  {'type': 'DOMAIN', 'category': 'DOMAINS_AND_SI...  \n",
       "1  99E406A0DA7ECC75   9606  {'type': 'DOMAIN', 'category': 'DOMAINS_AND_SI...  \n",
       "2  99E406A0DA7ECC75   9606  {'type': 'BINDING', 'category': 'DOMAINS_AND_S...  \n",
       "3  99E406A0DA7ECC75   9606  {'type': 'BINDING', 'category': 'DOMAINS_AND_S...  \n",
       "4  99E406A0DA7ECC75   9606  {'type': 'BINDING', 'category': 'DOMAINS_AND_S...  "
      ]
     },
     "execution_count": 8,
     "metadata": {},
     "output_type": "execute_result"
    }
   ],
   "source": [
    "feats_df.head(5)"
   ]
  },
  {
   "cell_type": "code",
   "execution_count": 9,
   "metadata": {},
   "outputs": [
    {
     "data": {
      "text/plain": [
       "(607, 6)"
      ]
     },
     "execution_count": 9,
     "metadata": {},
     "output_type": "execute_result"
    }
   ],
   "source": [
    "feats_df.shape"
   ]
  },
  {
   "cell_type": "code",
   "execution_count": 10,
   "metadata": {},
   "outputs": [],
   "source": [
    "dump_pickle(feats_df, os.path.join(results_dir, \"up_func_anns.pkl\"))"
   ]
  },
  {
   "cell_type": "code",
   "execution_count": 11,
   "metadata": {},
   "outputs": [],
   "source": [
    "accs_in_df = feats_df.accession.unique().tolist()"
   ]
  },
  {
   "cell_type": "code",
   "execution_count": 12,
   "metadata": {},
   "outputs": [
    {
     "data": {
      "text/plain": [
       "['Q8WS26']"
      ]
     },
     "execution_count": 12,
     "metadata": {},
     "output_type": "execute_result"
    }
   ],
   "source": [
    "[acc for acc in accs if acc not in accs_in_df] # not in data frame as it is unreviewed"
   ]
  },
  {
   "cell_type": "code",
   "execution_count": 13,
   "metadata": {},
   "outputs": [],
   "source": [
    "feats_df = feats_df.join(feats_df.features.apply(lambda x: pd.Series(x))).drop(columns = \"features\")"
   ]
  },
  {
   "cell_type": "code",
   "execution_count": 14,
   "metadata": {},
   "outputs": [],
   "source": [
    "cc = [\"accession\", \"type\", \"description\", \"begin\", \"end\", \"molecule\", \"evidences\", \"ligand\", \"ligandPart\"]"
   ]
  },
  {
   "cell_type": "code",
   "execution_count": 15,
   "metadata": {},
   "outputs": [
    {
     "data": {
      "text/html": [
       "<div>\n",
       "<style scoped>\n",
       "    .dataframe tbody tr th:only-of-type {\n",
       "        vertical-align: middle;\n",
       "    }\n",
       "\n",
       "    .dataframe tbody tr th {\n",
       "        vertical-align: top;\n",
       "    }\n",
       "\n",
       "    .dataframe thead th {\n",
       "        text-align: right;\n",
       "    }\n",
       "</style>\n",
       "<table border=\"1\" class=\"dataframe\">\n",
       "  <thead>\n",
       "    <tr style=\"text-align: right;\">\n",
       "      <th></th>\n",
       "      <th>accession</th>\n",
       "      <th>type</th>\n",
       "      <th>description</th>\n",
       "      <th>begin</th>\n",
       "      <th>end</th>\n",
       "      <th>molecule</th>\n",
       "      <th>evidences</th>\n",
       "      <th>ligand</th>\n",
       "      <th>ligandPart</th>\n",
       "    </tr>\n",
       "  </thead>\n",
       "  <tbody>\n",
       "    <tr>\n",
       "      <th>0</th>\n",
       "      <td>H0Y4R8</td>\n",
       "      <td>DOMAIN</td>\n",
       "      <td>SAND</td>\n",
       "      <td>1</td>\n",
       "      <td>58</td>\n",
       "      <td></td>\n",
       "      <td>[{'code': 'ECO:0000259', 'source': {'name': 'P...</td>\n",
       "      <td>NaN</td>\n",
       "      <td>NaN</td>\n",
       "    </tr>\n",
       "    <tr>\n",
       "      <th>1</th>\n",
       "      <td>H0Y4R8</td>\n",
       "      <td>DOMAIN</td>\n",
       "      <td>PHD-type</td>\n",
       "      <td>76</td>\n",
       "      <td>122</td>\n",
       "      <td></td>\n",
       "      <td>[{'code': 'ECO:0000259', 'source': {'name': 'P...</td>\n",
       "      <td>NaN</td>\n",
       "      <td>NaN</td>\n",
       "    </tr>\n",
       "    <tr>\n",
       "      <th>2</th>\n",
       "      <td>H0Y4R8</td>\n",
       "      <td>BINDING</td>\n",
       "      <td></td>\n",
       "      <td>79</td>\n",
       "      <td>79</td>\n",
       "      <td></td>\n",
       "      <td>[{'code': 'ECO:0007829', 'source': {'name': 'P...</td>\n",
       "      <td>{'name': 'Zn(2+)', 'dbReference': {'name': 'Ch...</td>\n",
       "      <td>NaN</td>\n",
       "    </tr>\n",
       "  </tbody>\n",
       "</table>\n",
       "</div>"
      ],
      "text/plain": [
       "  accession     type description begin  end molecule  \\\n",
       "0    H0Y4R8   DOMAIN        SAND     1   58            \n",
       "1    H0Y4R8   DOMAIN    PHD-type    76  122            \n",
       "2    H0Y4R8  BINDING                79   79            \n",
       "\n",
       "                                           evidences  \\\n",
       "0  [{'code': 'ECO:0000259', 'source': {'name': 'P...   \n",
       "1  [{'code': 'ECO:0000259', 'source': {'name': 'P...   \n",
       "2  [{'code': 'ECO:0007829', 'source': {'name': 'P...   \n",
       "\n",
       "                                              ligand ligandPart  \n",
       "0                                                NaN        NaN  \n",
       "1                                                NaN        NaN  \n",
       "2  {'name': 'Zn(2+)', 'dbReference': {'name': 'Ch...        NaN  "
      ]
     },
     "execution_count": 15,
     "metadata": {},
     "output_type": "execute_result"
    }
   ],
   "source": [
    "feats_df[cc].head(3)"
   ]
  },
  {
   "cell_type": "code",
   "execution_count": 16,
   "metadata": {},
   "outputs": [
    {
     "data": {
      "text/plain": [
       "BINDING     227\n",
       "REGION      123\n",
       "DOMAIN      114\n",
       "SITE         49\n",
       "ACT_SITE     36\n",
       "MOTIF        17\n",
       "REPEAT       17\n",
       "ZN_FING      13\n",
       "COILED       10\n",
       "DNA_BIND      1\n",
       "Name: type, dtype: int64"
      ]
     },
     "execution_count": 16,
     "metadata": {},
     "output_type": "execute_result"
    }
   ],
   "source": [
    "feats_df.type.value_counts()"
   ]
  },
  {
   "cell_type": "code",
   "execution_count": 17,
   "metadata": {},
   "outputs": [],
   "source": [
    "int_feats = [\"BINDING\", \"SITE\", \"ACT_SITE\"] # NOT: REGION, DOMAIN, MOTIF, REPEAT, ZN_FING, COILED, DNA_BIND"
   ]
  },
  {
   "cell_type": "code",
   "execution_count": 18,
   "metadata": {
    "tags": []
   },
   "outputs": [
    {
     "data": {
      "text/plain": [
       "BINDING     227\n",
       "SITE         49\n",
       "ACT_SITE     36\n",
       "Name: type, dtype: int64"
      ]
     },
     "execution_count": 18,
     "metadata": {},
     "output_type": "execute_result"
    }
   ],
   "source": [
    "feats_df_filt = feats_df.query('type in @int_feats').copy().reset_index(drop = True)\n",
    "feats_df_filt.type.value_counts()"
   ]
  },
  {
   "cell_type": "code",
   "execution_count": 19,
   "metadata": {
    "tags": []
   },
   "outputs": [],
   "source": [
    "feats_df_filt.end = feats_df_filt.end.astype(int)\n",
    "feats_df_filt.begin = feats_df_filt.begin.astype(int)"
   ]
  },
  {
   "cell_type": "markdown",
   "metadata": {},
   "source": [
    "## GETTING FUNCTIONAL RESIDUES FOR EACH PROTEIN"
   ]
  },
  {
   "cell_type": "code",
   "execution_count": 20,
   "metadata": {},
   "outputs": [],
   "source": [
    "func_ress = {}\n",
    "for acc, acc_df in feats_df_filt.groupby(\"accession\"):\n",
    "    func_ress[acc] = []\n",
    "    for i, row in acc_df.iterrows():\n",
    "        beg = row.begin\n",
    "        end = row.end\n",
    "        if beg == end:\n",
    "            func_ress[acc].append(beg)\n",
    "        else:\n",
    "            func_ress[acc].extend(list(range(beg, end+1)))\n",
    "            \n",
    "func_ress = {k: sorted(list(set(v))) for k, v in func_ress.items()}"
   ]
  },
  {
   "cell_type": "code",
   "execution_count": 21,
   "metadata": {},
   "outputs": [
    {
     "name": "stdout",
     "output_type": "stream",
     "text": [
      "24\n"
     ]
    }
   ],
   "source": [
    "print(len(func_ress)) # 24/35 proteins have functional feature annotations"
   ]
  },
  {
   "cell_type": "code",
   "execution_count": 22,
   "metadata": {
    "tags": []
   },
   "outputs": [],
   "source": [
    "bs_cols = [\n",
    "    \"BS0\", \"BS1\", \"BS2\", \"BS3\", \"BS4\",\n",
    "    \"BS5\", \"BS6\", \"BS7\", \"BS8\", \"BS9\",\n",
    "    \"BS10\", \"BS11\", \"BS12\", \"BS13\", \"BS14\",\n",
    "    \"BS15\", \"BS16\", \"BS17\", \"BS18\", \"BS19\",\n",
    "    \"BS20\", \"BS21\", \"BS22\", \"BS23\"\n",
    "]"
   ]
  },
  {
   "cell_type": "markdown",
   "metadata": {},
   "source": [
    "## CLASSIFYING EACH SITE AS KF (OVERLAP WITH FUNCTIONAL RESIDUES) OR UF"
   ]
  },
  {
   "cell_type": "code",
   "execution_count": 23,
   "metadata": {
    "tags": []
   },
   "outputs": [],
   "source": [
    "bs_ress_membership = {}\n",
    "binding_site_func_dict = {}\n",
    "for prot, prot_rows in all_bs_ress.groupby(\"protein\"):\n",
    "    for grp, grp_rows in prot_rows.groupby(\"group\"):\n",
    "        for bs_col in bs_cols:\n",
    "            bs_id = \"{}_{}_{}\".format(prot, str(grp), bs_col)\n",
    "            bs_rows = grp_rows[grp_rows[bs_col] == 1]\n",
    "            if len(bs_rows) == 0:\n",
    "                continue\n",
    "            else:\n",
    "                bs_ress = bs_rows.UniProt_ResNum.unique().tolist()\n",
    "                bs_ress_membership[bs_id] = bs_ress\n",
    "                if prot not in func_ress:\n",
    "                    binding_site_func_dict[bs_id] = \"UF\"\n",
    "                else:\n",
    "                    intersect = set(bs_ress).intersection(set(func_ress[prot]))\n",
    "                    if len(intersect) > 0:\n",
    "                        binding_site_func_dict[bs_id] = \"KF\"\n",
    "                    else:\n",
    "                        binding_site_func_dict[bs_id] = \"UF\"\n"
   ]
  },
  {
   "cell_type": "code",
   "execution_count": 24,
   "metadata": {},
   "outputs": [
    {
     "name": "stdout",
     "output_type": "stream",
     "text": [
      "29\n"
     ]
    }
   ],
   "source": [
    "print(len({k: v for k, v in binding_site_func_dict.items() if v == \"KF\"})) # 29 KF sites"
   ]
  },
  {
   "cell_type": "code",
   "execution_count": 25,
   "metadata": {
    "tags": []
   },
   "outputs": [
    {
     "name": "stdout",
     "output_type": "stream",
     "text": [
      "H0Y4R8_0_BS0 UF\n",
      "O15178_0_BS0 UF\n",
      "O15178_0_BS1 UF\n",
      "O15178_0_BS2 UF\n",
      "O15178_0_BS3 UF\n"
     ]
    }
   ],
   "source": [
    "for k in list(binding_site_func_dict.keys())[:5]:\n",
    "    print(k, binding_site_func_dict[k])"
   ]
  },
  {
   "cell_type": "code",
   "execution_count": 26,
   "metadata": {},
   "outputs": [],
   "source": [
    "dump_pickle(binding_site_func_dict, os.path.join(results_dir, \"prot_func_dict_auto.pkl\")) "
   ]
  }
 ],
 "metadata": {
  "kernelspec": {
   "display_name": "Python [conda env:myenv2]",
   "language": "python",
   "name": "conda-env-myenv2-py"
  },
  "language_info": {
   "codemirror_mode": {
    "name": "ipython",
    "version": 3
   },
   "file_extension": ".py",
   "mimetype": "text/x-python",
   "name": "python",
   "nbconvert_exporter": "python",
   "pygments_lexer": "ipython3",
   "version": "3.11.0"
  }
 },
 "nbformat": 4,
 "nbformat_minor": 5
}
