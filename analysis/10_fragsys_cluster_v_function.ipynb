{
 "cells": [
  {
   "cell_type": "markdown",
   "id": "31e50193",
   "metadata": {},
   "source": [
    "# EXTRACTING UNIPROT FEATURE ANNOTATIONS TO CLASSIFY SITES BASED ON FUNCTION"
   ]
  },
  {
   "cell_type": "markdown",
   "id": "c5947ed9",
   "metadata": {},
   "source": [
    "### IMPORTING NECESSARY PACKAGES"
   ]
  },
  {
   "cell_type": "code",
   "execution_count": 1,
   "id": "bbea149d",
   "metadata": {},
   "outputs": [],
   "source": [
    "from fragsys_analysis import *"
   ]
  },
  {
   "cell_type": "markdown",
   "id": "7f30c8ce",
   "metadata": {},
   "source": [
    "## READING INPUT DATA"
   ]
  },
  {
   "cell_type": "code",
   "execution_count": 2,
   "id": "9fff0cb5",
   "metadata": {},
   "outputs": [],
   "source": [
    "main_dir = \"./../\"\n",
    "results_dir = os.path.join(main_dir, \"results\")\n",
    "figs_dir = os.path.join(main_dir, \"figs\")"
   ]
  },
  {
   "cell_type": "code",
   "execution_count": 3,
   "id": "bc4d3d6f",
   "metadata": {},
   "outputs": [],
   "source": [
    "func_df = load_pickle(os.path.join(results_dir, \"prot_func_dict_comb.pkl\"))\n",
    "rsa_cluster_dict = load_pickle(os.path.join(results_dir, \"rsa_cluster_dict.pkl\"))"
   ]
  },
  {
   "cell_type": "code",
   "execution_count": 4,
   "id": "a819ea28",
   "metadata": {},
   "outputs": [
    {
     "name": "stdout",
     "output_type": "stream",
     "text": [
      "293\n",
      "293\n"
     ]
    }
   ],
   "source": [
    "print(len(func_df))\n",
    "print(len(rsa_cluster_dict))"
   ]
  },
  {
   "cell_type": "code",
   "execution_count": 5,
   "id": "bde4d5f7",
   "metadata": {},
   "outputs": [
    {
     "data": {
      "text/html": [
       "<div>\n",
       "<style scoped>\n",
       "    .dataframe tbody tr th:only-of-type {\n",
       "        vertical-align: middle;\n",
       "    }\n",
       "\n",
       "    .dataframe tbody tr th {\n",
       "        vertical-align: top;\n",
       "    }\n",
       "\n",
       "    .dataframe thead th {\n",
       "        text-align: right;\n",
       "    }\n",
       "</style>\n",
       "<table border=\"1\" class=\"dataframe\">\n",
       "  <thead>\n",
       "    <tr style=\"text-align: right;\">\n",
       "      <th></th>\n",
       "      <th>bs_id</th>\n",
       "      <th>auto</th>\n",
       "      <th>manual</th>\n",
       "      <th>comb</th>\n",
       "    </tr>\n",
       "  </thead>\n",
       "  <tbody>\n",
       "    <tr>\n",
       "      <th>0</th>\n",
       "      <td>H0Y4R8_0_BS0</td>\n",
       "      <td>UF</td>\n",
       "      <td>UF</td>\n",
       "      <td>UF</td>\n",
       "    </tr>\n",
       "    <tr>\n",
       "      <th>1</th>\n",
       "      <td>O15178_0_BS0</td>\n",
       "      <td>UF</td>\n",
       "      <td>UF</td>\n",
       "      <td>UF</td>\n",
       "    </tr>\n",
       "    <tr>\n",
       "      <th>2</th>\n",
       "      <td>O15178_0_BS1</td>\n",
       "      <td>UF</td>\n",
       "      <td>UF</td>\n",
       "      <td>UF</td>\n",
       "    </tr>\n",
       "  </tbody>\n",
       "</table>\n",
       "</div>"
      ],
      "text/plain": [
       "          bs_id auto manual comb\n",
       "0  H0Y4R8_0_BS0   UF     UF   UF\n",
       "1  O15178_0_BS0   UF     UF   UF\n",
       "2  O15178_0_BS1   UF     UF   UF"
      ]
     },
     "execution_count": 5,
     "metadata": {},
     "output_type": "execute_result"
    }
   ],
   "source": [
    "func_df.head(3)"
   ]
  },
  {
   "cell_type": "code",
   "execution_count": 6,
   "id": "577ce162",
   "metadata": {},
   "outputs": [],
   "source": [
    "func_df[\"rsa_cluster\"] = func_df.bs_id.map(rsa_cluster_dict)\n",
    "func_df = func_df.query('rsa_cluster == rsa_cluster').reset_index(drop = True)\n",
    "func_df.rsa_cluster = func_df.rsa_cluster.astype(int)"
   ]
  },
  {
   "cell_type": "code",
   "execution_count": 7,
   "id": "7572cf64",
   "metadata": {},
   "outputs": [
    {
     "data": {
      "text/html": [
       "<div>\n",
       "<style scoped>\n",
       "    .dataframe tbody tr th:only-of-type {\n",
       "        vertical-align: middle;\n",
       "    }\n",
       "\n",
       "    .dataframe tbody tr th {\n",
       "        vertical-align: top;\n",
       "    }\n",
       "\n",
       "    .dataframe thead th {\n",
       "        text-align: right;\n",
       "    }\n",
       "</style>\n",
       "<table border=\"1\" class=\"dataframe\">\n",
       "  <thead>\n",
       "    <tr style=\"text-align: right;\">\n",
       "      <th></th>\n",
       "      <th>bs_id</th>\n",
       "      <th>auto</th>\n",
       "      <th>manual</th>\n",
       "      <th>comb</th>\n",
       "      <th>rsa_cluster</th>\n",
       "    </tr>\n",
       "  </thead>\n",
       "  <tbody>\n",
       "    <tr>\n",
       "      <th>220</th>\n",
       "      <td>Q8WS26_0_BS4</td>\n",
       "      <td>UF</td>\n",
       "      <td>KF</td>\n",
       "      <td>KF</td>\n",
       "      <td>1</td>\n",
       "    </tr>\n",
       "  </tbody>\n",
       "</table>\n",
       "</div>"
      ],
      "text/plain": [
       "            bs_id auto manual comb  rsa_cluster\n",
       "220  Q8WS26_0_BS4   UF     KF   KF            1"
      ]
     },
     "execution_count": 7,
     "metadata": {},
     "output_type": "execute_result"
    }
   ],
   "source": [
    "func_df.query('bs_id == \"Q8WS26_0_BS4\"')"
   ]
  },
  {
   "cell_type": "code",
   "execution_count": 9,
   "id": "63adedc3",
   "metadata": {},
   "outputs": [
    {
     "data": {
      "text/plain": [
       "46"
      ]
     },
     "execution_count": 9,
     "metadata": {},
     "output_type": "execute_result"
    }
   ],
   "source": [
    "len(func_df.query('rsa_cluster == 1'))"
   ]
  },
  {
   "cell_type": "code",
   "execution_count": 10,
   "id": "faff3184",
   "metadata": {},
   "outputs": [
    {
     "data": {
      "text/plain": [
       "17"
      ]
     },
     "execution_count": 10,
     "metadata": {},
     "output_type": "execute_result"
    }
   ],
   "source": [
    "len(func_df.query('rsa_cluster == 1 & comb == \"KF\"'))"
   ]
  },
  {
   "cell_type": "code",
   "execution_count": 11,
   "id": "ed8fea7e",
   "metadata": {},
   "outputs": [
    {
     "data": {
      "text/plain": [
       "29"
      ]
     },
     "execution_count": 11,
     "metadata": {},
     "output_type": "execute_result"
    }
   ],
   "source": [
    "len(func_df.query('rsa_cluster == 1 & comb == \"UF\"'))"
   ]
  },
  {
   "cell_type": "markdown",
   "id": "68233e3d",
   "metadata": {},
   "source": [
    "### CALCULATING ENRICHMENT IN FUNCTION WITHIN CLUSTERS"
   ]
  },
  {
   "cell_type": "code",
   "execution_count": 12,
   "id": "76dc7a9b",
   "metadata": {},
   "outputs": [
    {
     "data": {
      "text/html": [
       "<div>\n",
       "<style scoped>\n",
       "    .dataframe tbody tr th:only-of-type {\n",
       "        vertical-align: middle;\n",
       "    }\n",
       "\n",
       "    .dataframe tbody tr th {\n",
       "        vertical-align: top;\n",
       "    }\n",
       "\n",
       "    .dataframe thead th {\n",
       "        text-align: right;\n",
       "    }\n",
       "</style>\n",
       "<table border=\"1\" class=\"dataframe\">\n",
       "  <thead>\n",
       "    <tr style=\"text-align: right;\">\n",
       "      <th></th>\n",
       "      <th>kf</th>\n",
       "      <th>uf</th>\n",
       "    </tr>\n",
       "  </thead>\n",
       "  <tbody>\n",
       "    <tr>\n",
       "      <th>1</th>\n",
       "      <td>17</td>\n",
       "      <td>29</td>\n",
       "    </tr>\n",
       "    <tr>\n",
       "      <th>2</th>\n",
       "      <td>21</td>\n",
       "      <td>106</td>\n",
       "    </tr>\n",
       "    <tr>\n",
       "      <th>3</th>\n",
       "      <td>6</td>\n",
       "      <td>85</td>\n",
       "    </tr>\n",
       "    <tr>\n",
       "      <th>4</th>\n",
       "      <td>0</td>\n",
       "      <td>29</td>\n",
       "    </tr>\n",
       "  </tbody>\n",
       "</table>\n",
       "</div>"
      ],
      "text/plain": [
       "   kf   uf\n",
       "1  17   29\n",
       "2  21  106\n",
       "3   6   85\n",
       "4   0   29"
      ]
     },
     "execution_count": 12,
     "metadata": {},
     "output_type": "execute_result"
    }
   ],
   "source": [
    "c_labs = sorted(func_df.rsa_cluster.unique().tolist())\n",
    "kf, uf = [[], []]\n",
    "for c in c_labs:\n",
    "    kf.append(len(func_df.query('rsa_cluster == @c and comb == \"KF\"')))\n",
    "    uf.append(len(func_df.query('rsa_cluster == @c and comb == \"UF\"')))\n",
    "cont_tab = pd.DataFrame(list(zip(kf, uf)), columns = [\"kf\", \"uf\"])\n",
    "cont_tab.index = c_labs\n",
    "cont_tab"
   ]
  },
  {
   "cell_type": "code",
   "execution_count": 13,
   "id": "6b5ad18c",
   "metadata": {},
   "outputs": [
    {
     "data": {
      "text/plain": [
       "1     46\n",
       "2    127\n",
       "3     91\n",
       "4     29\n",
       "dtype: int64"
      ]
     },
     "execution_count": 13,
     "metadata": {},
     "output_type": "execute_result"
    }
   ],
   "source": [
    "cont_tab.kf + cont_tab.uf"
   ]
  },
  {
   "cell_type": "code",
   "execution_count": 14,
   "id": "0367ad10",
   "metadata": {},
   "outputs": [],
   "source": [
    "cont_tab = cont_tab + 1\n",
    "cont_tab[\"tot\"] = cont_tab.kf + cont_tab.uf"
   ]
  },
  {
   "cell_type": "code",
   "execution_count": 15,
   "id": "77602f94",
   "metadata": {},
   "outputs": [
    {
     "data": {
      "text/html": [
       "<div>\n",
       "<style scoped>\n",
       "    .dataframe tbody tr th:only-of-type {\n",
       "        vertical-align: middle;\n",
       "    }\n",
       "\n",
       "    .dataframe tbody tr th {\n",
       "        vertical-align: top;\n",
       "    }\n",
       "\n",
       "    .dataframe thead th {\n",
       "        text-align: right;\n",
       "    }\n",
       "</style>\n",
       "<table border=\"1\" class=\"dataframe\">\n",
       "  <thead>\n",
       "    <tr style=\"text-align: right;\">\n",
       "      <th></th>\n",
       "      <th>kf</th>\n",
       "      <th>uf</th>\n",
       "      <th>tot</th>\n",
       "    </tr>\n",
       "  </thead>\n",
       "  <tbody>\n",
       "    <tr>\n",
       "      <th>1</th>\n",
       "      <td>18</td>\n",
       "      <td>30</td>\n",
       "      <td>48</td>\n",
       "    </tr>\n",
       "    <tr>\n",
       "      <th>2</th>\n",
       "      <td>22</td>\n",
       "      <td>107</td>\n",
       "      <td>129</td>\n",
       "    </tr>\n",
       "    <tr>\n",
       "      <th>3</th>\n",
       "      <td>7</td>\n",
       "      <td>86</td>\n",
       "      <td>93</td>\n",
       "    </tr>\n",
       "    <tr>\n",
       "      <th>4</th>\n",
       "      <td>1</td>\n",
       "      <td>30</td>\n",
       "      <td>31</td>\n",
       "    </tr>\n",
       "  </tbody>\n",
       "</table>\n",
       "</div>"
      ],
      "text/plain": [
       "   kf   uf  tot\n",
       "1  18   30   48\n",
       "2  22  107  129\n",
       "3   7   86   93\n",
       "4   1   30   31"
      ]
     },
     "execution_count": 15,
     "metadata": {},
     "output_type": "execute_result"
    }
   ],
   "source": [
    "cont_tab"
   ]
  },
  {
   "cell_type": "code",
   "execution_count": 16,
   "id": "8782f246",
   "metadata": {},
   "outputs": [
    {
     "name": "stdout",
     "output_type": "stream",
     "text": [
      "1 [18, 30, 48, 253]\n",
      "2 [22, 26, 129, 172]\n",
      "3 [7, 41, 93, 208]\n",
      "4 [1, 47, 31, 270]\n"
     ]
    }
   ],
   "source": [
    "cont_tab_or = get_OR(cont_tab, c_labs, \"tot\")"
   ]
  },
  {
   "cell_type": "code",
   "execution_count": 17,
   "id": "64d88c73",
   "metadata": {},
   "outputs": [
    {
     "data": {
      "text/html": [
       "<div>\n",
       "<style scoped>\n",
       "    .dataframe tbody tr th:only-of-type {\n",
       "        vertical-align: middle;\n",
       "    }\n",
       "\n",
       "    .dataframe tbody tr th {\n",
       "        vertical-align: top;\n",
       "    }\n",
       "\n",
       "    .dataframe thead th {\n",
       "        text-align: right;\n",
       "    }\n",
       "</style>\n",
       "<table border=\"1\" class=\"dataframe\">\n",
       "  <thead>\n",
       "    <tr style=\"text-align: right;\">\n",
       "      <th></th>\n",
       "      <th>kf</th>\n",
       "      <th>uf</th>\n",
       "      <th>tot</th>\n",
       "      <th>oddsratio</th>\n",
       "      <th>log_oddsratio</th>\n",
       "      <th>pvalue</th>\n",
       "      <th>ci_dist</th>\n",
       "    </tr>\n",
       "  </thead>\n",
       "  <tbody>\n",
       "    <tr>\n",
       "      <th>1</th>\n",
       "      <td>18</td>\n",
       "      <td>30</td>\n",
       "      <td>48</td>\n",
       "      <td>3.16</td>\n",
       "      <td>1.15</td>\n",
       "      <td>0.00</td>\n",
       "      <td>0.66</td>\n",
       "    </tr>\n",
       "    <tr>\n",
       "      <th>2</th>\n",
       "      <td>22</td>\n",
       "      <td>107</td>\n",
       "      <td>129</td>\n",
       "      <td>1.13</td>\n",
       "      <td>0.12</td>\n",
       "      <td>0.75</td>\n",
       "      <td>0.61</td>\n",
       "    </tr>\n",
       "    <tr>\n",
       "      <th>3</th>\n",
       "      <td>7</td>\n",
       "      <td>86</td>\n",
       "      <td>93</td>\n",
       "      <td>0.38</td>\n",
       "      <td>-0.96</td>\n",
       "      <td>0.02</td>\n",
       "      <td>0.84</td>\n",
       "    </tr>\n",
       "    <tr>\n",
       "      <th>4</th>\n",
       "      <td>1</td>\n",
       "      <td>30</td>\n",
       "      <td>31</td>\n",
       "      <td>0.19</td>\n",
       "      <td>-1.69</td>\n",
       "      <td>0.10</td>\n",
       "      <td>2.02</td>\n",
       "    </tr>\n",
       "  </tbody>\n",
       "</table>\n",
       "</div>"
      ],
      "text/plain": [
       "   kf   uf  tot  oddsratio  log_oddsratio  pvalue  ci_dist\n",
       "1  18   30   48       3.16           1.15    0.00     0.66\n",
       "2  22  107  129       1.13           0.12    0.75     0.61\n",
       "3   7   86   93       0.38          -0.96    0.02     0.84\n",
       "4   1   30   31       0.19          -1.69    0.10     2.02"
      ]
     },
     "execution_count": 17,
     "metadata": {},
     "output_type": "execute_result"
    }
   ],
   "source": [
    "cont_tab_or"
   ]
  },
  {
   "cell_type": "code",
   "execution_count": 13,
   "id": "ed501d5c",
   "metadata": {},
   "outputs": [
    {
     "name": "stdout",
     "output_type": "stream",
     "text": [
      "2.8\n",
      "8.32\n",
      "16.63\n"
     ]
    }
   ],
   "source": [
    "print(round(3.16/1.13,2))\n",
    "print(round(3.16/0.38,2))\n",
    "print(round(3.16/0.19,2))"
   ]
  },
  {
   "cell_type": "code",
   "execution_count": 1,
   "id": "fcbc603f",
   "metadata": {},
   "outputs": [
    {
     "data": {
      "text/plain": [
       "9.233333333333334"
      ]
     },
     "execution_count": 1,
     "metadata": {},
     "output_type": "execute_result"
    }
   ],
   "source": [
    "(2.8+8.3+16.6)/3"
   ]
  },
  {
   "cell_type": "code",
   "execution_count": 18,
   "id": "a51af4a8",
   "metadata": {},
   "outputs": [],
   "source": [
    "colss = sample_colors[:4]"
   ]
  },
  {
   "cell_type": "code",
   "execution_count": 22,
   "id": "2c92ed48",
   "metadata": {},
   "outputs": [
    {
     "data": {
      "image/png": "[encoded data removed]",
      "text/plain": [
       "<Figure size 500x500 with 1 Axes>"
      ]
     },
     "metadata": {},
     "output_type": "display_data"
    }
   ],
   "source": [
    "fig = plt.figure(figsize = (5, 5), dpi = 100)\n",
    "for i, idx in enumerate(cont_tab_or.index.tolist()):\n",
    "    plt.errorbar(\n",
    "        c_labs[i], cont_tab_or.loc[idx, \"log_oddsratio\"], yerr = cont_tab_or.loc[idx, \"ci_dist\"],\n",
    "        ecolor = colss[i], elinewidth = 1.5, capsize = 3, capthick = 1.5, fmt = \"o\", c = colss[i], ls = 'None'\n",
    "    )\n",
    "plt.ylim(-4, 4)\n",
    "plt.axhline(y = 0, linestyle = \"--\", linewidth = 1, c = \"black\")\n",
    "plt.xticks([1, 2, 3, 4], [\"C1\", \"C2\", \"C3\", \"C4\"])\n",
    "#plt.savefig(os.path.join(figs_dir, \"RSA_clusters_func.png\"))\n",
    "plt.show()"
   ]
  }
 ],
 "metadata": {
  "kernelspec": {
   "display_name": "Python [conda env:myenv2]",
   "language": "python",
   "name": "conda-env-myenv2-py"
  },
  "language_info": {
   "codemirror_mode": {
    "name": "ipython",
    "version": 3
   },
   "file_extension": ".py",
   "mimetype": "text/x-python",
   "name": "python",
   "nbconvert_exporter": "python",
   "pygments_lexer": "ipython3",
   "version": "3.10.0"
  }
 },
 "nbformat": 4,
 "nbformat_minor": 5
}
