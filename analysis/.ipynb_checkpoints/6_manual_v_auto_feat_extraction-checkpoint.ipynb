{
 "cells": [
  {
   "cell_type": "markdown",
   "metadata": {},
   "source": [
    "# AUTOMATIC V MANUAL FUNCTIONAL ANNOTATION AND THEIR COMBINATION"
   ]
  },
  {
   "cell_type": "markdown",
   "metadata": {},
   "source": [
    "In this notebook we compare automatically extracted function annotations from UniProt using the Proteins API with a manually curated annotation performed by JSU and combine both results."
   ]
  },
  {
   "cell_type": "markdown",
   "metadata": {},
   "source": [
    "### IMPORTING NECESSARY PACKAGES"
   ]
  },
  {
   "cell_type": "code",
   "execution_count": 2,
   "metadata": {},
   "outputs": [],
   "source": [
    "from fragsys_analysis import *"
   ]
  },
  {
   "cell_type": "code",
   "execution_count": 3,
   "metadata": {},
   "outputs": [],
   "source": [
    "main_dir = \"./../\"\n",
    "results_dir = os.path.join(main_dir, \"results/new\")"
   ]
  },
  {
   "cell_type": "code",
   "execution_count": 4,
   "metadata": {},
   "outputs": [],
   "source": [
    "bs_func_AUTO = load_pickle(os.path.join(results_dir, \"prot_func_dict_auto.pkl\"))\n",
    "bs_func_MANUAL = load_pickle(os.path.join(results_dir, \"prot_func_dict_manual.pkl\"))"
   ]
  },
  {
   "cell_type": "code",
   "execution_count": 5,
   "metadata": {},
   "outputs": [],
   "source": [
    "bs_func_MANUAL2 = {}\n",
    "for k, v in bs_func_MANUAL.items():\n",
    "    nk = \"{}_{}_{}\".format(k[0], k[1], k[2])\n",
    "    if v == \"non_active\":\n",
    "        nv = \"UF\"\n",
    "    elif v == \"active\":\n",
    "        nv = \"KF\"\n",
    "        \n",
    "    else:\n",
    "        print(k)\n",
    "        continue\n",
    "    bs_func_MANUAL2[nk] = nv"
   ]
  },
  {
   "cell_type": "code",
   "execution_count": 6,
   "metadata": {},
   "outputs": [],
   "source": [
    "fdf = pd.DataFrame(sorted(bs_func_AUTO.items()))"
   ]
  },
  {
   "cell_type": "code",
   "execution_count": 7,
   "metadata": {},
   "outputs": [],
   "source": [
    "fdf[2] = fdf[0].map(bs_func_MANUAL2)"
   ]
  },
  {
   "cell_type": "code",
   "execution_count": 8,
   "metadata": {},
   "outputs": [],
   "source": [
    "fdf.columns = [\"bs_id\", \"auto\", \"manual\"]"
   ]
  },
  {
   "cell_type": "code",
   "execution_count": 9,
   "metadata": {},
   "outputs": [
    {
     "data": {
      "text/html": [
       "<div>\n",
       "<style scoped>\n",
       "    .dataframe tbody tr th:only-of-type {\n",
       "        vertical-align: middle;\n",
       "    }\n",
       "\n",
       "    .dataframe tbody tr th {\n",
       "        vertical-align: top;\n",
       "    }\n",
       "\n",
       "    .dataframe thead th {\n",
       "        text-align: right;\n",
       "    }\n",
       "</style>\n",
       "<table border=\"1\" class=\"dataframe\">\n",
       "  <thead>\n",
       "    <tr style=\"text-align: right;\">\n",
       "      <th></th>\n",
       "      <th>bs_id</th>\n",
       "      <th>auto</th>\n",
       "      <th>manual</th>\n",
       "    </tr>\n",
       "  </thead>\n",
       "  <tbody>\n",
       "    <tr>\n",
       "      <th>0</th>\n",
       "      <td>H0Y4R8_0_BS0</td>\n",
       "      <td>UF</td>\n",
       "      <td>UF</td>\n",
       "    </tr>\n",
       "    <tr>\n",
       "      <th>1</th>\n",
       "      <td>O15178_0_BS0</td>\n",
       "      <td>UF</td>\n",
       "      <td>UF</td>\n",
       "    </tr>\n",
       "    <tr>\n",
       "      <th>2</th>\n",
       "      <td>O15178_0_BS1</td>\n",
       "      <td>UF</td>\n",
       "      <td>UF</td>\n",
       "    </tr>\n",
       "    <tr>\n",
       "      <th>3</th>\n",
       "      <td>O15178_0_BS10</td>\n",
       "      <td>UF</td>\n",
       "      <td>KF</td>\n",
       "    </tr>\n",
       "    <tr>\n",
       "      <th>4</th>\n",
       "      <td>O15178_0_BS2</td>\n",
       "      <td>UF</td>\n",
       "      <td>UF</td>\n",
       "    </tr>\n",
       "  </tbody>\n",
       "</table>\n",
       "</div>"
      ],
      "text/plain": [
       "           bs_id auto manual\n",
       "0   H0Y4R8_0_BS0   UF     UF\n",
       "1   O15178_0_BS0   UF     UF\n",
       "2   O15178_0_BS1   UF     UF\n",
       "3  O15178_0_BS10   UF     KF\n",
       "4   O15178_0_BS2   UF     UF"
      ]
     },
     "execution_count": 9,
     "metadata": {},
     "output_type": "execute_result"
    }
   ],
   "source": [
    "fdf.head(5)"
   ]
  },
  {
   "cell_type": "code",
   "execution_count": 10,
   "metadata": {},
   "outputs": [
    {
     "data": {
      "text/plain": [
       "27"
      ]
     },
     "execution_count": 10,
     "metadata": {},
     "output_type": "execute_result"
    }
   ],
   "source": [
    "len(fdf.query('auto != manual').sort_values(by = [\"bs_id\"]))"
   ]
  },
  {
   "cell_type": "code",
   "execution_count": 11,
   "metadata": {
    "collapsed": true,
    "jupyter": {
     "outputs_hidden": true
    }
   },
   "outputs": [
    {
     "data": {
      "text/html": [
       "<div>\n",
       "<style scoped>\n",
       "    .dataframe tbody tr th:only-of-type {\n",
       "        vertical-align: middle;\n",
       "    }\n",
       "\n",
       "    .dataframe tbody tr th {\n",
       "        vertical-align: top;\n",
       "    }\n",
       "\n",
       "    .dataframe thead th {\n",
       "        text-align: right;\n",
       "    }\n",
       "</style>\n",
       "<table border=\"1\" class=\"dataframe\">\n",
       "  <thead>\n",
       "    <tr style=\"text-align: right;\">\n",
       "      <th></th>\n",
       "      <th>bs_id</th>\n",
       "      <th>auto</th>\n",
       "      <th>manual</th>\n",
       "    </tr>\n",
       "  </thead>\n",
       "  <tbody>\n",
       "    <tr>\n",
       "      <th>3</th>\n",
       "      <td>O15178_0_BS10</td>\n",
       "      <td>UF</td>\n",
       "      <td>KF</td>\n",
       "    </tr>\n",
       "    <tr>\n",
       "      <th>11</th>\n",
       "      <td>O15178_0_BS9</td>\n",
       "      <td>UF</td>\n",
       "      <td>KF</td>\n",
       "    </tr>\n",
       "    <tr>\n",
       "      <th>15</th>\n",
       "      <td>O43809_0_BS3</td>\n",
       "      <td>KF</td>\n",
       "      <td>UF</td>\n",
       "    </tr>\n",
       "    <tr>\n",
       "      <th>16</th>\n",
       "      <td>O95696_0_BS0</td>\n",
       "      <td>UF</td>\n",
       "      <td>KF</td>\n",
       "    </tr>\n",
       "    <tr>\n",
       "      <th>19</th>\n",
       "      <td>P01584_0_BS0</td>\n",
       "      <td>KF</td>\n",
       "      <td>UF</td>\n",
       "    </tr>\n",
       "    <tr>\n",
       "      <th>21</th>\n",
       "      <td>P01584_0_BS2</td>\n",
       "      <td>KF</td>\n",
       "      <td>UF</td>\n",
       "    </tr>\n",
       "    <tr>\n",
       "      <th>27</th>\n",
       "      <td>P06873_0_BS3</td>\n",
       "      <td>KF</td>\n",
       "      <td>UF</td>\n",
       "    </tr>\n",
       "    <tr>\n",
       "      <th>32</th>\n",
       "      <td>P06873_0_BS8</td>\n",
       "      <td>KF</td>\n",
       "      <td>UF</td>\n",
       "    </tr>\n",
       "    <tr>\n",
       "      <th>37</th>\n",
       "      <td>P0DTD1_0_BS0</td>\n",
       "      <td>KF</td>\n",
       "      <td>UF</td>\n",
       "    </tr>\n",
       "    <tr>\n",
       "      <th>42</th>\n",
       "      <td>P0DTD1_0_BS13</td>\n",
       "      <td>KF</td>\n",
       "      <td>UF</td>\n",
       "    </tr>\n",
       "    <tr>\n",
       "      <th>116</th>\n",
       "      <td>P22557_0_BS3</td>\n",
       "      <td>KF</td>\n",
       "      <td>UF</td>\n",
       "    </tr>\n",
       "    <tr>\n",
       "      <th>137</th>\n",
       "      <td>Q12830_0_BS0</td>\n",
       "      <td>UF</td>\n",
       "      <td>KF</td>\n",
       "    </tr>\n",
       "    <tr>\n",
       "      <th>153</th>\n",
       "      <td>Q5T0W9_0_BS2</td>\n",
       "      <td>UF</td>\n",
       "      <td>KF</td>\n",
       "    </tr>\n",
       "    <tr>\n",
       "      <th>158</th>\n",
       "      <td>Q6B0I6_0_BS1</td>\n",
       "      <td>KF</td>\n",
       "      <td>UF</td>\n",
       "    </tr>\n",
       "    <tr>\n",
       "      <th>164</th>\n",
       "      <td>Q6B0I6_0_BS15</td>\n",
       "      <td>UF</td>\n",
       "      <td>KF</td>\n",
       "    </tr>\n",
       "    <tr>\n",
       "      <th>191</th>\n",
       "      <td>Q6PL18_0_BS2</td>\n",
       "      <td>UF</td>\n",
       "      <td>KF</td>\n",
       "    </tr>\n",
       "    <tr>\n",
       "      <th>192</th>\n",
       "      <td>Q6PL18_0_BS3</td>\n",
       "      <td>UF</td>\n",
       "      <td>KF</td>\n",
       "    </tr>\n",
       "    <tr>\n",
       "      <th>194</th>\n",
       "      <td>Q6PL18_0_BS5</td>\n",
       "      <td>UF</td>\n",
       "      <td>KF</td>\n",
       "    </tr>\n",
       "    <tr>\n",
       "      <th>205</th>\n",
       "      <td>Q7LBC6_0_BS9</td>\n",
       "      <td>KF</td>\n",
       "      <td>UF</td>\n",
       "    </tr>\n",
       "    <tr>\n",
       "      <th>207</th>\n",
       "      <td>Q8IU60_0_BS1</td>\n",
       "      <td>KF</td>\n",
       "      <td>UF</td>\n",
       "    </tr>\n",
       "    <tr>\n",
       "      <th>212</th>\n",
       "      <td>Q8WS26_0_BS1</td>\n",
       "      <td>UF</td>\n",
       "      <td>KF</td>\n",
       "    </tr>\n",
       "    <tr>\n",
       "      <th>220</th>\n",
       "      <td>Q8WS26_0_BS4</td>\n",
       "      <td>UF</td>\n",
       "      <td>KF</td>\n",
       "    </tr>\n",
       "    <tr>\n",
       "      <th>236</th>\n",
       "      <td>Q8WWQ0_0_BS0</td>\n",
       "      <td>UF</td>\n",
       "      <td>KF</td>\n",
       "    </tr>\n",
       "    <tr>\n",
       "      <th>264</th>\n",
       "      <td>Q9BRQ3_0_BS4</td>\n",
       "      <td>UF</td>\n",
       "      <td>KF</td>\n",
       "    </tr>\n",
       "    <tr>\n",
       "      <th>272</th>\n",
       "      <td>Q9UIF8_0_BS0</td>\n",
       "      <td>UF</td>\n",
       "      <td>KF</td>\n",
       "    </tr>\n",
       "    <tr>\n",
       "      <th>274</th>\n",
       "      <td>Q9UJM8_0_BS1</td>\n",
       "      <td>KF</td>\n",
       "      <td>UF</td>\n",
       "    </tr>\n",
       "    <tr>\n",
       "      <th>285</th>\n",
       "      <td>Q9Y2J2_0_BS2</td>\n",
       "      <td>UF</td>\n",
       "      <td>KF</td>\n",
       "    </tr>\n",
       "  </tbody>\n",
       "</table>\n",
       "</div>"
      ],
      "text/plain": [
       "             bs_id auto manual\n",
       "3    O15178_0_BS10   UF     KF\n",
       "11    O15178_0_BS9   UF     KF\n",
       "15    O43809_0_BS3   KF     UF\n",
       "16    O95696_0_BS0   UF     KF\n",
       "19    P01584_0_BS0   KF     UF\n",
       "21    P01584_0_BS2   KF     UF\n",
       "27    P06873_0_BS3   KF     UF\n",
       "32    P06873_0_BS8   KF     UF\n",
       "37    P0DTD1_0_BS0   KF     UF\n",
       "42   P0DTD1_0_BS13   KF     UF\n",
       "116   P22557_0_BS3   KF     UF\n",
       "137   Q12830_0_BS0   UF     KF\n",
       "153   Q5T0W9_0_BS2   UF     KF\n",
       "158   Q6B0I6_0_BS1   KF     UF\n",
       "164  Q6B0I6_0_BS15   UF     KF\n",
       "191   Q6PL18_0_BS2   UF     KF\n",
       "192   Q6PL18_0_BS3   UF     KF\n",
       "194   Q6PL18_0_BS5   UF     KF\n",
       "205   Q7LBC6_0_BS9   KF     UF\n",
       "207   Q8IU60_0_BS1   KF     UF\n",
       "212   Q8WS26_0_BS1   UF     KF\n",
       "220   Q8WS26_0_BS4   UF     KF\n",
       "236   Q8WWQ0_0_BS0   UF     KF\n",
       "264   Q9BRQ3_0_BS4   UF     KF\n",
       "272   Q9UIF8_0_BS0   UF     KF\n",
       "274   Q9UJM8_0_BS1   KF     UF\n",
       "285   Q9Y2J2_0_BS2   UF     KF"
      ]
     },
     "execution_count": 11,
     "metadata": {},
     "output_type": "execute_result"
    }
   ],
   "source": [
    "fdf.query('auto != manual').sort_values(by = [\"bs_id\"])"
   ]
  },
  {
   "cell_type": "code",
   "execution_count": 12,
   "metadata": {},
   "outputs": [],
   "source": [
    "def f(row):\n",
    "    if row['auto'] == \"UF\" and row['manual'] == \"KF\":\n",
    "        val = \"KF\"\n",
    "    else:\n",
    "        val = row['auto']\n",
    "    return val"
   ]
  },
  {
   "cell_type": "code",
   "execution_count": 13,
   "metadata": {},
   "outputs": [],
   "source": [
    "fdf['comb'] = fdf.apply(f, axis=1)"
   ]
  },
  {
   "cell_type": "code",
   "execution_count": 14,
   "metadata": {},
   "outputs": [
    {
     "data": {
      "text/plain": [
       "UF    264\n",
       "KF     29\n",
       "Name: auto, dtype: int64"
      ]
     },
     "execution_count": 14,
     "metadata": {},
     "output_type": "execute_result"
    }
   ],
   "source": [
    "fdf.auto.value_counts()"
   ]
  },
  {
   "cell_type": "code",
   "execution_count": 17,
   "metadata": {},
   "outputs": [
    {
     "data": {
      "text/plain": [
       "17"
      ]
     },
     "execution_count": 17,
     "metadata": {},
     "output_type": "execute_result"
    }
   ],
   "source": [
    "len(list(set([el.split(\"_\")[0] for el in fdf.query('auto == \"KF\"').bs_id.unique().tolist()])))"
   ]
  },
  {
   "cell_type": "code",
   "execution_count": 14,
   "metadata": {},
   "outputs": [
    {
     "data": {
      "text/plain": [
       "UF    261\n",
       "KF     32\n",
       "Name: manual, dtype: int64"
      ]
     },
     "execution_count": 14,
     "metadata": {},
     "output_type": "execute_result"
    }
   ],
   "source": [
    "fdf.manual.value_counts()"
   ]
  },
  {
   "cell_type": "code",
   "execution_count": 18,
   "metadata": {},
   "outputs": [
    {
     "data": {
      "text/plain": [
       "22"
      ]
     },
     "execution_count": 18,
     "metadata": {},
     "output_type": "execute_result"
    }
   ],
   "source": [
    "len(list(set([el.split(\"_\")[0] for el in fdf.query('manual == \"KF\"').bs_id.unique().tolist()])))"
   ]
  },
  {
   "cell_type": "code",
   "execution_count": 15,
   "metadata": {},
   "outputs": [
    {
     "data": {
      "text/plain": [
       "UF    249\n",
       "KF     44\n",
       "Name: comb, dtype: int64"
      ]
     },
     "execution_count": 15,
     "metadata": {},
     "output_type": "execute_result"
    }
   ],
   "source": [
    "fdf.comb.value_counts()"
   ]
  },
  {
   "cell_type": "code",
   "execution_count": 19,
   "metadata": {},
   "outputs": [
    {
     "data": {
      "text/plain": [
       "26"
      ]
     },
     "execution_count": 19,
     "metadata": {},
     "output_type": "execute_result"
    }
   ],
   "source": [
    "len(list(set([el.split(\"_\")[0] for el in fdf.query('comb == \"KF\"').bs_id.unique().tolist()])))"
   ]
  },
  {
   "cell_type": "code",
   "execution_count": 16,
   "metadata": {},
   "outputs": [],
   "source": [
    "dump_pickle(fdf, os.path.join(results_dir, \"prot_func_dict_comb.pkl\"))"
   ]
  }
 ],
 "metadata": {
  "kernelspec": {
   "display_name": "Python [conda env:myenv2]",
   "language": "python",
   "name": "conda-env-myenv2-py"
  },
  "language_info": {
   "codemirror_mode": {
    "name": "ipython",
    "version": 3
   },
   "file_extension": ".py",
   "mimetype": "text/x-python",
   "name": "python",
   "nbconvert_exporter": "python",
   "pygments_lexer": "ipython3",
   "version": "3.11.0"
  }
 },
 "nbformat": 4,
 "nbformat_minor": 5
}
