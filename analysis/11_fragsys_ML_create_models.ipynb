{
 "cells": [
  {
   "cell_type": "markdown",
   "metadata": {},
   "source": [
    "# PREDICTING RSA CLUSTER LABELS"
   ]
  },
  {
   "cell_type": "markdown",
   "metadata": {},
   "source": [
    "This notebook uses ANN and KNN to predict RSA cluster labels. In here, we try 50 models from 10 different seeds and chose the best according to validation accuracy and loss. Moreover, we perform 10 repeat 10-fold cross validation to ensure the model works well across a range of different training data folds."
   ]
  },
  {
   "cell_type": "markdown",
   "metadata": {},
   "source": [
    "## IMPORTING NECESSARY PACKAGES"
   ]
  },
  {
   "cell_type": "code",
   "execution_count": 1,
   "metadata": {},
   "outputs": [
    {
     "name": "stderr",
     "output_type": "stream",
     "text": [
      "2023-05-04 18:06:42.580271: I tensorflow/core/platform/cpu_feature_guard.cc:193] This TensorFlow binary is optimized with oneAPI Deep Neural Network Library (oneDNN) to use the following CPU instructions in performance-critical operations:  SSE4.1 SSE4.2 AVX AVX2 AVX512F AVX512_VNNI FMA\n",
      "To enable them in other operations, rebuild TensorFlow with the appropriate compiler flags.\n",
      "2023-05-04 18:06:42.870681: I tensorflow/core/util/util.cc:169] oneDNN custom operations are on. You may see slightly different numerical results due to floating-point round-off errors from different computation orders. To turn them off, set the environment variable `TF_ENABLE_ONEDNN_OPTS=0`.\n"
     ]
    }
   ],
   "source": [
    "from fragsys_ml import *"
   ]
  },
  {
   "cell_type": "markdown",
   "metadata": {},
   "source": [
    "## READING INPUT DATA"
   ]
  },
  {
   "cell_type": "code",
   "execution_count": 2,
   "metadata": {},
   "outputs": [],
   "source": [
    "main_dir = \"./../\"\n",
    "results_dir = os.path.join(main_dir, \"results\")\n",
    "figs_dir = os.path.join(main_dir, \"figs\")"
   ]
  },
  {
   "cell_type": "code",
   "execution_count": 3,
   "metadata": {},
   "outputs": [],
   "source": [
    "rsa_cluster_dict = load_pickle(os.path.join(results_dir, \"rsa_cluster_dict.pkl\"))\n",
    "cluster_membership = load_pickle(os.path.join(results_dir, \"rsa_cluster_membership.pkl\"))\n",
    "rsa_profs = load_pickle(os.path.join(results_dir, \"rsa_profs.pkl\"))\n",
    "ud_mat = pd.read_pickle(os.path.join(results_dir, \"UD_df.pkl\"))"
   ]
  },
  {
   "cell_type": "markdown",
   "metadata": {},
   "source": [
    "## CREATING FEATURE DATAFRAME"
   ]
  },
  {
   "cell_type": "code",
   "execution_count": 4,
   "metadata": {},
   "outputs": [],
   "source": [
    "max_len = max([len(v) for v in rsa_profs.values()])\n",
    "bs_vectors = []\n",
    "bs_vectors_dict = {}\n",
    "for bs_id, rsa_sig in rsa_profs.items():\n",
    "    rsa_sig_len = len(rsa_sig)\n",
    "    rsa_range_prop = [0 for i in range(10)] # now let us change to 10\n",
    "    for rsa in rsa_sig:\n",
    "        prop_i = int(rsa/10) # 10 RSA BINS: b1 = [0,10), b2 = [10, 20), ... b10 = [90, MAX)\n",
    "        if prop_i > 9: # if greater than 100, put in 10th bin\n",
    "            prop_i = 9\n",
    "        #print(prop_i)\n",
    "        rsa_range_prop[prop_i] += 1\n",
    "    rsa_range_prop = [round(i/rsa_sig_len, 3) for i in rsa_range_prop]\n",
    "    rsa_range_prop.insert(0, rsa_sig_len/max_len) # ADDING BINDING SITE SIZE RELATIVE TO MAX SITE SIZE (IN THIS CASE 40)\n",
    "    bs_vectors.append(rsa_range_prop)\n",
    "    bs_vectors_dict[bs_id] = rsa_range_prop\n",
    "    \n",
    "vector_df = pd.DataFrame(bs_vectors, index = list(rsa_profs.keys())) # obtaining RSA vectors, which are the 11-element features used for the machine learning"
   ]
  },
  {
   "cell_type": "code",
   "execution_count": 5,
   "metadata": {},
   "outputs": [
    {
     "data": {
      "text/html": [
       "<div>\n",
       "<style scoped>\n",
       "    .dataframe tbody tr th:only-of-type {\n",
       "        vertical-align: middle;\n",
       "    }\n",
       "\n",
       "    .dataframe tbody tr th {\n",
       "        vertical-align: top;\n",
       "    }\n",
       "\n",
       "    .dataframe thead th {\n",
       "        text-align: right;\n",
       "    }\n",
       "</style>\n",
       "<table border=\"1\" class=\"dataframe\">\n",
       "  <thead>\n",
       "    <tr style=\"text-align: right;\">\n",
       "      <th></th>\n",
       "      <th>0</th>\n",
       "      <th>1</th>\n",
       "      <th>2</th>\n",
       "      <th>3</th>\n",
       "      <th>4</th>\n",
       "      <th>5</th>\n",
       "      <th>6</th>\n",
       "      <th>7</th>\n",
       "      <th>8</th>\n",
       "      <th>9</th>\n",
       "      <th>10</th>\n",
       "    </tr>\n",
       "  </thead>\n",
       "  <tbody>\n",
       "    <tr>\n",
       "      <th>H0Y4R8_0_BS0</th>\n",
       "      <td>0.150</td>\n",
       "      <td>0.000</td>\n",
       "      <td>0.000</td>\n",
       "      <td>0.167</td>\n",
       "      <td>0.167</td>\n",
       "      <td>0.333</td>\n",
       "      <td>0.000</td>\n",
       "      <td>0.167</td>\n",
       "      <td>0.167</td>\n",
       "      <td>0.0</td>\n",
       "      <td>0.0</td>\n",
       "    </tr>\n",
       "    <tr>\n",
       "      <th>O43809_0_BS0</th>\n",
       "      <td>0.600</td>\n",
       "      <td>0.375</td>\n",
       "      <td>0.250</td>\n",
       "      <td>0.083</td>\n",
       "      <td>0.167</td>\n",
       "      <td>0.042</td>\n",
       "      <td>0.042</td>\n",
       "      <td>0.000</td>\n",
       "      <td>0.042</td>\n",
       "      <td>0.0</td>\n",
       "      <td>0.0</td>\n",
       "    </tr>\n",
       "    <tr>\n",
       "      <th>O43809_0_BS1</th>\n",
       "      <td>0.325</td>\n",
       "      <td>0.231</td>\n",
       "      <td>0.077</td>\n",
       "      <td>0.231</td>\n",
       "      <td>0.077</td>\n",
       "      <td>0.077</td>\n",
       "      <td>0.077</td>\n",
       "      <td>0.077</td>\n",
       "      <td>0.154</td>\n",
       "      <td>0.0</td>\n",
       "      <td>0.0</td>\n",
       "    </tr>\n",
       "  </tbody>\n",
       "</table>\n",
       "</div>"
      ],
      "text/plain": [
       "                 0      1      2      3      4      5      6      7      8   \\\n",
       "H0Y4R8_0_BS0  0.150  0.000  0.000  0.167  0.167  0.333  0.000  0.167  0.167   \n",
       "O43809_0_BS0  0.600  0.375  0.250  0.083  0.167  0.042  0.042  0.000  0.042   \n",
       "O43809_0_BS1  0.325  0.231  0.077  0.231  0.077  0.077  0.077  0.077  0.154   \n",
       "\n",
       "               9    10  \n",
       "H0Y4R8_0_BS0  0.0  0.0  \n",
       "O43809_0_BS0  0.0  0.0  \n",
       "O43809_0_BS1  0.0  0.0  "
      ]
     },
     "execution_count": 5,
     "metadata": {},
     "output_type": "execute_result"
    }
   ],
   "source": [
    "vector_df.head(3)"
   ]
  },
  {
   "cell_type": "code",
   "execution_count": 6,
   "metadata": {},
   "outputs": [
    {
     "data": {
      "text/plain": [
       "(293, 11)"
      ]
     },
     "execution_count": 6,
     "metadata": {},
     "output_type": "execute_result"
    }
   ],
   "source": [
    "vector_df.shape"
   ]
  },
  {
   "cell_type": "code",
   "execution_count": 8,
   "metadata": {},
   "outputs": [],
   "source": [
    "vector_df.to_pickle(os.path.join(results_dir, \"rsa_vectors.pkl\"))"
   ]
  },
  {
   "cell_type": "code",
   "execution_count": 7,
   "metadata": {},
   "outputs": [],
   "source": [
    "label_df = pd.DataFrame.from_dict(rsa_cluster_dict, orient = \"index\", columns = [\"label\"])"
   ]
  },
  {
   "cell_type": "code",
   "execution_count": 8,
   "metadata": {},
   "outputs": [
    {
     "data": {
      "text/plain": [
       "0    0.16\n",
       "1    0.43\n",
       "2    0.31\n",
       "3    0.10\n",
       "Name: label, dtype: float64"
      ]
     },
     "execution_count": 8,
     "metadata": {},
     "output_type": "execute_result"
    }
   ],
   "source": [
    "round(label_df.label.value_counts().sort_index()/len(label_df),2)"
   ]
  },
  {
   "cell_type": "code",
   "execution_count": 9,
   "metadata": {},
   "outputs": [
    {
     "data": {
      "text/html": [
       "<div>\n",
       "<style scoped>\n",
       "    .dataframe tbody tr th:only-of-type {\n",
       "        vertical-align: middle;\n",
       "    }\n",
       "\n",
       "    .dataframe tbody tr th {\n",
       "        vertical-align: top;\n",
       "    }\n",
       "\n",
       "    .dataframe thead th {\n",
       "        text-align: right;\n",
       "    }\n",
       "</style>\n",
       "<table border=\"1\" class=\"dataframe\">\n",
       "  <thead>\n",
       "    <tr style=\"text-align: right;\">\n",
       "      <th></th>\n",
       "      <th>label</th>\n",
       "    </tr>\n",
       "  </thead>\n",
       "  <tbody>\n",
       "    <tr>\n",
       "      <th>H0Y4R8_0_BS0</th>\n",
       "      <td>3</td>\n",
       "    </tr>\n",
       "    <tr>\n",
       "      <th>O43809_0_BS0</th>\n",
       "      <td>0</td>\n",
       "    </tr>\n",
       "    <tr>\n",
       "      <th>O43809_0_BS1</th>\n",
       "      <td>1</td>\n",
       "    </tr>\n",
       "  </tbody>\n",
       "</table>\n",
       "</div>"
      ],
      "text/plain": [
       "              label\n",
       "H0Y4R8_0_BS0      3\n",
       "O43809_0_BS0      0\n",
       "O43809_0_BS1      1"
      ]
     },
     "execution_count": 9,
     "metadata": {},
     "output_type": "execute_result"
    }
   ],
   "source": [
    "label_df.head(3)"
   ]
  },
  {
   "cell_type": "code",
   "execution_count": 10,
   "metadata": {},
   "outputs": [
    {
     "data": {
      "text/plain": [
       "(293, 1)"
      ]
     },
     "execution_count": 10,
     "metadata": {},
     "output_type": "execute_result"
    }
   ],
   "source": [
    "label_df.shape"
   ]
  },
  {
   "cell_type": "markdown",
   "metadata": {},
   "source": [
    "## CREATE MODEL"
   ]
  },
  {
   "cell_type": "code",
   "execution_count": 11,
   "metadata": {},
   "outputs": [],
   "source": [
    "X = vector_df.sort_index() # here, X is still a dataframe. Thus, we maintain binding site IDs\n",
    "y = label_df.sort_index()    # here, y is still a list"
   ]
  },
  {
   "cell_type": "markdown",
   "metadata": {},
   "source": [
    "#### DATA SPLIT IN MODEL (10/11) (USED FOR TRAINING) AND BLIND (USED FOR FINAL TESTING) (1/11) STRATIFYING BY CLUSTER LABEL, SO THEY ARE BALANCED"
   ]
  },
  {
   "cell_type": "code",
   "execution_count": 12,
   "metadata": {},
   "outputs": [],
   "source": [
    "X_model, X_blind, y_model, y_blind = train_test_split(X, y, test_size = 0.091, random_state = 12345, shuffle = True, stratify = y) ### X_blind and y_blind will be the blind test at the end"
   ]
  },
  {
   "cell_type": "code",
   "execution_count": 13,
   "metadata": {},
   "outputs": [
    {
     "data": {
      "text/html": [
       "<div>\n",
       "<style scoped>\n",
       "    .dataframe tbody tr th:only-of-type {\n",
       "        vertical-align: middle;\n",
       "    }\n",
       "\n",
       "    .dataframe tbody tr th {\n",
       "        vertical-align: top;\n",
       "    }\n",
       "\n",
       "    .dataframe thead th {\n",
       "        text-align: right;\n",
       "    }\n",
       "</style>\n",
       "<table border=\"1\" class=\"dataframe\">\n",
       "  <thead>\n",
       "    <tr style=\"text-align: right;\">\n",
       "      <th></th>\n",
       "      <th>label</th>\n",
       "    </tr>\n",
       "  </thead>\n",
       "  <tbody>\n",
       "    <tr>\n",
       "      <th>P47811_0_BS1</th>\n",
       "      <td>1</td>\n",
       "    </tr>\n",
       "    <tr>\n",
       "      <th>P0DTD1_0_BS23</th>\n",
       "      <td>1</td>\n",
       "    </tr>\n",
       "    <tr>\n",
       "      <th>Q96HY7_0_BS0</th>\n",
       "      <td>1</td>\n",
       "    </tr>\n",
       "  </tbody>\n",
       "</table>\n",
       "</div>"
      ],
      "text/plain": [
       "               label\n",
       "P47811_0_BS1       1\n",
       "P0DTD1_0_BS23      1\n",
       "Q96HY7_0_BS0       1"
      ]
     },
     "execution_count": 13,
     "metadata": {},
     "output_type": "execute_result"
    }
   ],
   "source": [
    "y_model.head(3)"
   ]
  },
  {
   "cell_type": "markdown",
   "metadata": {},
   "source": [
    "#### CLASSES ARE IMBALANCED DUE TO OUR TRAINING DATASET, BUT BOTH TRAINING AND TEST DATA HAVE THE SAME PROPORTION FOR EACH CLASS"
   ]
  },
  {
   "cell_type": "code",
   "execution_count": 41,
   "metadata": {},
   "outputs": [
    {
     "name": "stdout",
     "output_type": "stream",
     "text": [
      "266\n",
      "27\n",
      "266\n",
      "27\n",
      "0 0.16\n",
      "1 0.43\n",
      "2 0.31\n",
      "3 0.1\n",
      "0 0.15\n",
      "1 0.44\n",
      "2 0.3\n",
      "3 0.11\n"
     ]
    }
   ],
   "source": [
    "print(len(X_model))\n",
    "print(len(X_blind))\n",
    "print(len(y_model))\n",
    "print(len(y_blind))\n",
    "for el in [0,1,2,3]:\n",
    "    print(el, round(y_model.label.tolist().count(el)/len(y_model),2))\n",
    "for el in [0,1,2,3]:\n",
    "    print(el, round(y_blind.label.tolist().count(el)/len(y_blind),2))"
   ]
  },
  {
   "cell_type": "markdown",
   "metadata": {},
   "source": [
    "#### CALLBACK TO GET BEST MODEL DURING TRAINING"
   ]
  },
  {
   "cell_type": "code",
   "execution_count": 15,
   "metadata": {},
   "outputs": [],
   "source": [
    "callback = tf.keras.callbacks.EarlyStopping(monitor = 'val_accuracy', min_delta = 0.01, patience = 100, verbose = 1, mode = 'max', restore_best_weights = True)"
   ]
  },
  {
   "cell_type": "markdown",
   "metadata": {},
   "source": [
    "#### OBTAINING CLASS WEIGHTS TO MINIMISE EFFECT OF CLASS IMBALANCE IN TRAINING DATASET"
   ]
  },
  {
   "cell_type": "code",
   "execution_count": 16,
   "metadata": {},
   "outputs": [],
   "source": [
    "class_weights = class_weight.compute_class_weight(class_weight = 'balanced',\n",
    "                                                 classes = np.unique(y_model.label.tolist()),\n",
    "                                                 y = np.array(y_model.label))\n",
    "class_weights_dict = {i: class_weights[i] for i in np.unique(y_model)}"
   ]
  },
  {
   "cell_type": "markdown",
   "metadata": {},
   "source": [
    "#### THE WEIGHT FOR EACH CLASS IS INVERSELY PROPORTIONAL TO THEIR FREQUENCY IN THE DATA SET"
   ]
  },
  {
   "cell_type": "code",
   "execution_count": 17,
   "metadata": {},
   "outputs": [
    {
     "name": "stdout",
     "output_type": "stream",
     "text": [
      "0 1.58\n",
      "1 0.58\n",
      "2 0.8\n",
      "3 2.56\n"
     ]
    }
   ],
   "source": [
    "for k, v in class_weights_dict.items():\n",
    "    print(k, round(v, 2))"
   ]
  },
  {
   "cell_type": "markdown",
   "metadata": {},
   "source": [
    "#### DATA SPLIT IN MODEL_TRAIN (0.8) (USED FOR MODEL TRAINING) AND MODEL_VAL (0.2) (USED FOR MODEL VALIDATION DURING TRAINING) STRATIFYING BY CLUSTER LABEL, SO THEY ARE BALANCED"
   ]
  },
  {
   "cell_type": "code",
   "execution_count": 18,
   "metadata": {},
   "outputs": [],
   "source": [
    "X_model_train, X_model_val, y_model_train, y_model_val = train_test_split(X_model, y_model, test_size = 0.2, random_state = 12345, shuffle = True, stratify = y_model)"
   ]
  },
  {
   "cell_type": "code",
   "execution_count": 19,
   "metadata": {},
   "outputs": [
    {
     "data": {
      "text/plain": [
       "1.0"
      ]
     },
     "execution_count": 19,
     "metadata": {},
     "output_type": "execute_result"
    }
   ],
   "source": [
    "len(set(X_model_train.index.tolist()).intersection(set(y_model_train.index.tolist())))/len(y_model_train)"
   ]
  },
  {
   "cell_type": "code",
   "execution_count": 20,
   "metadata": {},
   "outputs": [
    {
     "data": {
      "text/plain": [
       "1.0"
      ]
     },
     "execution_count": 20,
     "metadata": {},
     "output_type": "execute_result"
    }
   ],
   "source": [
    "len(set(X_model_val.index.tolist()).intersection(set(y_model_val.index.tolist())))/len(y_model_val)"
   ]
  },
  {
   "cell_type": "markdown",
   "metadata": {},
   "source": [
    "#### TRAINING AND VALIDATION DATA HAVE THE SAME PROPORTION FOR EACH CLASS"
   ]
  },
  {
   "cell_type": "code",
   "execution_count": 21,
   "metadata": {},
   "outputs": [
    {
     "name": "stdout",
     "output_type": "stream",
     "text": [
      "212\n",
      "54\n",
      "212\n",
      "54\n",
      "0 0.16\n",
      "1 0.43\n",
      "2 0.31\n",
      "3 0.1\n",
      "0 0.17\n",
      "1 0.43\n",
      "2 0.31\n",
      "3 0.09\n"
     ]
    }
   ],
   "source": [
    "print(len(X_model_train))\n",
    "print(len(X_model_val))\n",
    "print(len(y_model_train))\n",
    "print(len(y_model_val))\n",
    "for el in [0,1,2,3]:\n",
    "    print(el, round(y_model_train.label.tolist().count(el)/len(y_model_train),2))\n",
    "for el in [0,1,2,3]:\n",
    "    print(el, round(y_model_val.label.tolist().count(el)/len(y_model_val),2))"
   ]
  },
  {
   "cell_type": "markdown",
   "metadata": {},
   "source": [
    "# TRAINING"
   ]
  },
  {
   "cell_type": "code",
   "execution_count": 24,
   "metadata": {},
   "outputs": [],
   "source": [
    "random.seed(1)"
   ]
  },
  {
   "cell_type": "code",
   "execution_count": 25,
   "metadata": {},
   "outputs": [],
   "source": [
    "seeds = [random.randint(1, 100000) for i in range(10)] # [90015, 88091, 30338, 35897, 58161, 3551, 97160, 85734, 92233, 99814]"
   ]
  },
  {
   "cell_type": "code",
   "execution_count": 26,
   "metadata": {},
   "outputs": [
    {
     "name": "stdout",
     "output_type": "stream",
     "text": [
      "[17612, 74607, 8272, 33433, 15456, 64938, 99741, 58916, 61899, 85406]\n"
     ]
    }
   ],
   "source": [
    "print(seeds) #[17612, 74607, 8272, 33433, 15456, 64938, 99741, 58916, 61899, 85406]"
   ]
  },
  {
   "cell_type": "code",
   "execution_count": null,
   "metadata": {},
   "outputs": [],
   "source": [
    "seeds = [17612, 74607, 8272, 33433, 15456, 64938, 99741, 58916, 61899, 85406]"
   ]
  },
  {
   "cell_type": "code",
   "execution_count": 27,
   "metadata": {},
   "outputs": [],
   "source": [
    "initializer = tf.keras.initializers.GlorotUniform(seed = 3551)"
   ]
  },
  {
   "cell_type": "code",
   "execution_count": 28,
   "metadata": {},
   "outputs": [
    {
     "data": {
      "text/html": [
       "<div>\n",
       "<style scoped>\n",
       "    .dataframe tbody tr th:only-of-type {\n",
       "        vertical-align: middle;\n",
       "    }\n",
       "\n",
       "    .dataframe tbody tr th {\n",
       "        vertical-align: top;\n",
       "    }\n",
       "\n",
       "    .dataframe thead th {\n",
       "        text-align: right;\n",
       "    }\n",
       "</style>\n",
       "<table border=\"1\" class=\"dataframe\">\n",
       "  <thead>\n",
       "    <tr style=\"text-align: right;\">\n",
       "      <th></th>\n",
       "      <th>0</th>\n",
       "      <th>1</th>\n",
       "      <th>2</th>\n",
       "      <th>3</th>\n",
       "      <th>4</th>\n",
       "      <th>5</th>\n",
       "      <th>6</th>\n",
       "      <th>7</th>\n",
       "      <th>8</th>\n",
       "      <th>9</th>\n",
       "      <th>10</th>\n",
       "    </tr>\n",
       "  </thead>\n",
       "  <tbody>\n",
       "    <tr>\n",
       "      <th>P18031_0_BS13</th>\n",
       "      <td>0.225</td>\n",
       "      <td>0.333</td>\n",
       "      <td>0.0</td>\n",
       "      <td>0.222</td>\n",
       "      <td>0.111</td>\n",
       "      <td>0.111</td>\n",
       "      <td>0.222</td>\n",
       "      <td>0.000</td>\n",
       "      <td>0.000</td>\n",
       "      <td>0.0</td>\n",
       "      <td>0.000</td>\n",
       "    </tr>\n",
       "    <tr>\n",
       "      <th>Q8IU60_0_BS0</th>\n",
       "      <td>0.300</td>\n",
       "      <td>0.333</td>\n",
       "      <td>0.0</td>\n",
       "      <td>0.167</td>\n",
       "      <td>0.250</td>\n",
       "      <td>0.083</td>\n",
       "      <td>0.083</td>\n",
       "      <td>0.000</td>\n",
       "      <td>0.000</td>\n",
       "      <td>0.0</td>\n",
       "      <td>0.083</td>\n",
       "    </tr>\n",
       "    <tr>\n",
       "      <th>Q8WVM7_1_BS1</th>\n",
       "      <td>0.225</td>\n",
       "      <td>0.444</td>\n",
       "      <td>0.0</td>\n",
       "      <td>0.000</td>\n",
       "      <td>0.000</td>\n",
       "      <td>0.111</td>\n",
       "      <td>0.222</td>\n",
       "      <td>0.111</td>\n",
       "      <td>0.111</td>\n",
       "      <td>0.0</td>\n",
       "      <td>0.000</td>\n",
       "    </tr>\n",
       "  </tbody>\n",
       "</table>\n",
       "</div>"
      ],
      "text/plain": [
       "                  0      1    2      3      4      5      6      7      8   \\\n",
       "P18031_0_BS13  0.225  0.333  0.0  0.222  0.111  0.111  0.222  0.000  0.000   \n",
       "Q8IU60_0_BS0   0.300  0.333  0.0  0.167  0.250  0.083  0.083  0.000  0.000   \n",
       "Q8WVM7_1_BS1   0.225  0.444  0.0  0.000  0.000  0.111  0.222  0.111  0.111   \n",
       "\n",
       "                9      10  \n",
       "P18031_0_BS13  0.0  0.000  \n",
       "Q8IU60_0_BS0   0.0  0.083  \n",
       "Q8WVM7_1_BS1   0.0  0.000  "
      ]
     },
     "execution_count": 28,
     "metadata": {},
     "output_type": "execute_result"
    }
   ],
   "source": [
    "X_model_train.head(3)"
   ]
  },
  {
   "cell_type": "markdown",
   "metadata": {},
   "source": [
    "### USING 10 DIFFERENT SEEDS, AND 50 MODELS WITHIN EACH SEED TO SELECT BEST MODEL"
   ]
  },
  {
   "cell_type": "code",
   "execution_count": 31,
   "metadata": {
    "collapsed": true,
    "jupyter": {
     "outputs_hidden": true
    }
   },
   "outputs": [
    {
     "name": "stdout",
     "output_type": "stream",
     "text": [
      "STARTING SEED 17612\n",
      "1\n"
     ]
    },
    {
     "name": "stderr",
     "output_type": "stream",
     "text": [
      "2023-05-04 11:32:15.359949: I tensorflow/core/platform/cpu_feature_guard.cc:193] This TensorFlow binary is optimized with oneAPI Deep Neural Network Library (oneDNN) to use the following CPU instructions in performance-critical operations:  SSE4.1 SSE4.2 AVX AVX2 AVX512F AVX512_VNNI FMA\n",
      "To enable them in other operations, rebuild TensorFlow with the appropriate compiler flags.\n"
     ]
    },
    {
     "name": "stdout",
     "output_type": "stream",
     "text": [
      "Restoring model weights from the end of the best epoch: 111.\n",
      "Epoch 211: early stopping\n",
      "2\n",
      "Restoring model weights from the end of the best epoch: 87.\n",
      "Epoch 187: early stopping\n",
      "3\n",
      "Restoring model weights from the end of the best epoch: 86.\n",
      "Epoch 186: early stopping\n",
      "4\n",
      "Restoring model weights from the end of the best epoch: 83.\n",
      "Epoch 183: early stopping\n",
      "5\n",
      "Restoring model weights from the end of the best epoch: 76.\n",
      "Epoch 176: early stopping\n",
      "6\n",
      "Restoring model weights from the end of the best epoch: 91.\n",
      "Epoch 191: early stopping\n",
      "7\n",
      "Restoring model weights from the end of the best epoch: 101.\n",
      "Epoch 201: early stopping\n",
      "8\n",
      "Restoring model weights from the end of the best epoch: 99.\n",
      "Epoch 199: early stopping\n",
      "9\n",
      "Restoring model weights from the end of the best epoch: 96.\n",
      "Epoch 196: early stopping\n",
      "10\n",
      "Restoring model weights from the end of the best epoch: 101.\n",
      "Epoch 201: early stopping\n",
      "11\n",
      "Restoring model weights from the end of the best epoch: 122.\n",
      "Epoch 222: early stopping\n",
      "12\n",
      "Restoring model weights from the end of the best epoch: 86.\n",
      "Epoch 186: early stopping\n",
      "13\n",
      "Restoring model weights from the end of the best epoch: 117.\n",
      "Epoch 217: early stopping\n",
      "14\n",
      "Restoring model weights from the end of the best epoch: 121.\n",
      "Epoch 221: early stopping\n",
      "15\n",
      "Restoring model weights from the end of the best epoch: 94.\n",
      "Epoch 194: early stopping\n",
      "16\n",
      "Restoring model weights from the end of the best epoch: 92.\n",
      "Epoch 192: early stopping\n",
      "17\n",
      "Restoring model weights from the end of the best epoch: 108.\n",
      "Epoch 208: early stopping\n",
      "18\n",
      "Restoring model weights from the end of the best epoch: 83.\n",
      "Epoch 183: early stopping\n",
      "19\n",
      "Restoring model weights from the end of the best epoch: 129.\n",
      "Epoch 229: early stopping\n",
      "20\n",
      "Restoring model weights from the end of the best epoch: 93.\n",
      "Epoch 193: early stopping\n",
      "21\n",
      "Restoring model weights from the end of the best epoch: 87.\n",
      "Epoch 187: early stopping\n",
      "22\n",
      "Restoring model weights from the end of the best epoch: 93.\n",
      "Epoch 193: early stopping\n",
      "23\n",
      "Restoring model weights from the end of the best epoch: 91.\n",
      "Epoch 191: early stopping\n",
      "24\n",
      "Restoring model weights from the end of the best epoch: 101.\n",
      "Epoch 201: early stopping\n",
      "25\n",
      "Restoring model weights from the end of the best epoch: 93.\n",
      "Epoch 193: early stopping\n",
      "26\n",
      "Restoring model weights from the end of the best epoch: 103.\n",
      "Epoch 203: early stopping\n",
      "27\n",
      "Restoring model weights from the end of the best epoch: 88.\n",
      "Epoch 188: early stopping\n",
      "28\n",
      "Restoring model weights from the end of the best epoch: 99.\n",
      "Epoch 199: early stopping\n",
      "29\n",
      "Restoring model weights from the end of the best epoch: 107.\n",
      "Epoch 207: early stopping\n",
      "30\n",
      "Restoring model weights from the end of the best epoch: 114.\n",
      "Epoch 214: early stopping\n",
      "31\n",
      "Restoring model weights from the end of the best epoch: 85.\n",
      "Epoch 185: early stopping\n",
      "32\n",
      "Restoring model weights from the end of the best epoch: 89.\n",
      "Epoch 189: early stopping\n",
      "33\n",
      "Restoring model weights from the end of the best epoch: 107.\n",
      "Epoch 207: early stopping\n",
      "34\n",
      "Restoring model weights from the end of the best epoch: 104.\n",
      "Epoch 204: early stopping\n",
      "35\n",
      "Restoring model weights from the end of the best epoch: 91.\n",
      "Epoch 191: early stopping\n",
      "36\n",
      "Restoring model weights from the end of the best epoch: 101.\n",
      "Epoch 201: early stopping\n",
      "37\n",
      "Restoring model weights from the end of the best epoch: 115.\n",
      "Epoch 215: early stopping\n",
      "38\n",
      "Restoring model weights from the end of the best epoch: 98.\n",
      "Epoch 198: early stopping\n",
      "39\n",
      "Restoring model weights from the end of the best epoch: 125.\n",
      "Epoch 225: early stopping\n",
      "40\n",
      "Restoring model weights from the end of the best epoch: 105.\n",
      "Epoch 205: early stopping\n",
      "41\n",
      "Restoring model weights from the end of the best epoch: 92.\n",
      "Epoch 192: early stopping\n",
      "42\n",
      "Restoring model weights from the end of the best epoch: 95.\n",
      "Epoch 195: early stopping\n",
      "43\n",
      "Restoring model weights from the end of the best epoch: 88.\n",
      "Epoch 188: early stopping\n",
      "44\n",
      "Restoring model weights from the end of the best epoch: 83.\n",
      "Epoch 183: early stopping\n",
      "45\n",
      "Restoring model weights from the end of the best epoch: 119.\n",
      "Epoch 219: early stopping\n",
      "46\n",
      "Restoring model weights from the end of the best epoch: 96.\n",
      "Epoch 196: early stopping\n",
      "47\n",
      "Restoring model weights from the end of the best epoch: 88.\n",
      "Epoch 188: early stopping\n",
      "48\n",
      "Restoring model weights from the end of the best epoch: 86.\n",
      "Epoch 186: early stopping\n",
      "49\n",
      "Restoring model weights from the end of the best epoch: 143.\n",
      "Epoch 243: early stopping\n",
      "50\n",
      "Restoring model weights from the end of the best epoch: 105.\n",
      "Epoch 205: early stopping\n",
      "STARTING SEED 74607\n",
      "1\n",
      "Restoring model weights from the end of the best epoch: 61.\n",
      "Epoch 161: early stopping\n",
      "2\n",
      "Restoring model weights from the end of the best epoch: 52.\n",
      "Epoch 152: early stopping\n",
      "3\n",
      "Restoring model weights from the end of the best epoch: 70.\n",
      "Epoch 170: early stopping\n",
      "4\n",
      "Restoring model weights from the end of the best epoch: 127.\n",
      "Epoch 227: early stopping\n",
      "5\n",
      "Restoring model weights from the end of the best epoch: 74.\n",
      "Epoch 174: early stopping\n",
      "6\n",
      "Restoring model weights from the end of the best epoch: 103.\n",
      "Epoch 203: early stopping\n",
      "7\n",
      "Restoring model weights from the end of the best epoch: 111.\n",
      "Epoch 211: early stopping\n",
      "8\n",
      "Restoring model weights from the end of the best epoch: 53.\n",
      "Epoch 153: early stopping\n",
      "9\n",
      "Restoring model weights from the end of the best epoch: 120.\n",
      "Epoch 220: early stopping\n",
      "10\n",
      "Restoring model weights from the end of the best epoch: 57.\n",
      "Epoch 157: early stopping\n",
      "11\n",
      "Restoring model weights from the end of the best epoch: 42.\n",
      "Epoch 142: early stopping\n",
      "12\n",
      "Restoring model weights from the end of the best epoch: 76.\n",
      "Epoch 176: early stopping\n",
      "13\n",
      "Restoring model weights from the end of the best epoch: 68.\n",
      "Epoch 168: early stopping\n",
      "14\n",
      "Restoring model weights from the end of the best epoch: 78.\n",
      "Epoch 178: early stopping\n",
      "15\n",
      "Restoring model weights from the end of the best epoch: 44.\n",
      "Epoch 144: early stopping\n",
      "16\n",
      "Restoring model weights from the end of the best epoch: 57.\n",
      "Epoch 157: early stopping\n",
      "17\n",
      "Restoring model weights from the end of the best epoch: 43.\n",
      "Epoch 143: early stopping\n",
      "18\n",
      "Restoring model weights from the end of the best epoch: 56.\n",
      "Epoch 156: early stopping\n",
      "19\n",
      "Restoring model weights from the end of the best epoch: 33.\n",
      "Epoch 133: early stopping\n",
      "20\n",
      "Restoring model weights from the end of the best epoch: 109.\n",
      "Epoch 209: early stopping\n",
      "21\n",
      "Restoring model weights from the end of the best epoch: 36.\n",
      "Epoch 136: early stopping\n",
      "22\n",
      "Restoring model weights from the end of the best epoch: 69.\n",
      "Epoch 169: early stopping\n",
      "23\n",
      "Restoring model weights from the end of the best epoch: 70.\n",
      "Epoch 170: early stopping\n",
      "24\n",
      "Restoring model weights from the end of the best epoch: 85.\n",
      "Epoch 185: early stopping\n",
      "25\n",
      "Restoring model weights from the end of the best epoch: 59.\n",
      "Epoch 159: early stopping\n",
      "26\n",
      "Restoring model weights from the end of the best epoch: 39.\n",
      "Epoch 139: early stopping\n",
      "27\n",
      "Restoring model weights from the end of the best epoch: 56.\n",
      "Epoch 156: early stopping\n",
      "28\n",
      "Restoring model weights from the end of the best epoch: 85.\n",
      "Epoch 185: early stopping\n",
      "29\n",
      "Restoring model weights from the end of the best epoch: 73.\n",
      "Epoch 173: early stopping\n",
      "30\n",
      "Restoring model weights from the end of the best epoch: 89.\n",
      "Epoch 189: early stopping\n",
      "31\n",
      "Restoring model weights from the end of the best epoch: 112.\n",
      "Epoch 212: early stopping\n",
      "32\n",
      "Restoring model weights from the end of the best epoch: 87.\n",
      "Epoch 187: early stopping\n",
      "33\n",
      "Restoring model weights from the end of the best epoch: 111.\n",
      "Epoch 211: early stopping\n",
      "34\n",
      "Restoring model weights from the end of the best epoch: 49.\n",
      "Epoch 149: early stopping\n",
      "35\n",
      "Restoring model weights from the end of the best epoch: 39.\n",
      "Epoch 139: early stopping\n",
      "36\n",
      "Restoring model weights from the end of the best epoch: 92.\n",
      "Epoch 192: early stopping\n",
      "37\n",
      "Restoring model weights from the end of the best epoch: 44.\n",
      "Epoch 144: early stopping\n",
      "38\n",
      "Restoring model weights from the end of the best epoch: 98.\n",
      "Epoch 198: early stopping\n",
      "39\n",
      "Restoring model weights from the end of the best epoch: 64.\n",
      "Epoch 164: early stopping\n",
      "40\n",
      "Restoring model weights from the end of the best epoch: 81.\n",
      "Epoch 181: early stopping\n",
      "41\n",
      "Restoring model weights from the end of the best epoch: 114.\n",
      "Epoch 214: early stopping\n",
      "42\n",
      "Restoring model weights from the end of the best epoch: 38.\n",
      "Epoch 138: early stopping\n",
      "43\n",
      "Restoring model weights from the end of the best epoch: 87.\n",
      "Epoch 187: early stopping\n",
      "44\n",
      "Restoring model weights from the end of the best epoch: 67.\n",
      "Epoch 167: early stopping\n",
      "45\n",
      "Restoring model weights from the end of the best epoch: 128.\n",
      "Epoch 228: early stopping\n",
      "46\n",
      "Restoring model weights from the end of the best epoch: 48.\n",
      "Epoch 148: early stopping\n",
      "47\n",
      "Restoring model weights from the end of the best epoch: 43.\n",
      "Epoch 143: early stopping\n",
      "48\n",
      "Restoring model weights from the end of the best epoch: 57.\n",
      "Epoch 157: early stopping\n",
      "49\n",
      "Restoring model weights from the end of the best epoch: 104.\n",
      "Epoch 204: early stopping\n",
      "50\n",
      "Restoring model weights from the end of the best epoch: 43.\n",
      "Epoch 143: early stopping\n",
      "STARTING SEED 8272\n",
      "1\n",
      "Restoring model weights from the end of the best epoch: 98.\n",
      "Epoch 198: early stopping\n",
      "2\n",
      "Restoring model weights from the end of the best epoch: 55.\n",
      "Epoch 155: early stopping\n",
      "3\n",
      "Restoring model weights from the end of the best epoch: 86.\n",
      "Epoch 186: early stopping\n",
      "4\n",
      "Restoring model weights from the end of the best epoch: 109.\n",
      "Epoch 209: early stopping\n",
      "5\n",
      "Restoring model weights from the end of the best epoch: 100.\n",
      "Epoch 200: early stopping\n",
      "6\n",
      "Restoring model weights from the end of the best epoch: 158.\n",
      "Epoch 258: early stopping\n",
      "7\n",
      "Restoring model weights from the end of the best epoch: 56.\n",
      "Epoch 156: early stopping\n",
      "8\n",
      "Restoring model weights from the end of the best epoch: 61.\n",
      "Epoch 161: early stopping\n",
      "9\n",
      "Restoring model weights from the end of the best epoch: 53.\n",
      "Epoch 153: early stopping\n",
      "10\n",
      "Restoring model weights from the end of the best epoch: 59.\n",
      "Epoch 159: early stopping\n",
      "11\n",
      "Restoring model weights from the end of the best epoch: 81.\n",
      "Epoch 181: early stopping\n",
      "12\n",
      "Restoring model weights from the end of the best epoch: 75.\n",
      "Epoch 175: early stopping\n",
      "13\n",
      "Restoring model weights from the end of the best epoch: 72.\n",
      "Epoch 172: early stopping\n",
      "14\n",
      "Restoring model weights from the end of the best epoch: 78.\n",
      "Epoch 178: early stopping\n",
      "15\n",
      "Restoring model weights from the end of the best epoch: 92.\n",
      "Epoch 192: early stopping\n",
      "16\n",
      "Restoring model weights from the end of the best epoch: 66.\n",
      "Epoch 166: early stopping\n",
      "17\n",
      "Restoring model weights from the end of the best epoch: 90.\n",
      "Epoch 190: early stopping\n",
      "18\n",
      "Restoring model weights from the end of the best epoch: 89.\n",
      "Epoch 189: early stopping\n",
      "19\n",
      "Restoring model weights from the end of the best epoch: 76.\n",
      "Epoch 176: early stopping\n",
      "20\n",
      "Restoring model weights from the end of the best epoch: 81.\n",
      "Epoch 181: early stopping\n",
      "21\n",
      "Restoring model weights from the end of the best epoch: 54.\n",
      "Epoch 154: early stopping\n",
      "22\n",
      "Restoring model weights from the end of the best epoch: 62.\n",
      "Epoch 162: early stopping\n",
      "23\n",
      "Restoring model weights from the end of the best epoch: 60.\n",
      "Epoch 160: early stopping\n",
      "24\n",
      "Restoring model weights from the end of the best epoch: 64.\n",
      "Epoch 164: early stopping\n",
      "25\n",
      "Restoring model weights from the end of the best epoch: 52.\n",
      "Epoch 152: early stopping\n",
      "26\n",
      "Restoring model weights from the end of the best epoch: 120.\n",
      "Epoch 220: early stopping\n",
      "27\n",
      "Restoring model weights from the end of the best epoch: 81.\n",
      "Epoch 181: early stopping\n",
      "28\n",
      "Restoring model weights from the end of the best epoch: 82.\n",
      "Epoch 182: early stopping\n",
      "29\n",
      "Restoring model weights from the end of the best epoch: 79.\n",
      "Epoch 179: early stopping\n",
      "30\n",
      "Restoring model weights from the end of the best epoch: 64.\n",
      "Epoch 164: early stopping\n",
      "31\n",
      "Restoring model weights from the end of the best epoch: 63.\n",
      "Epoch 163: early stopping\n",
      "32\n",
      "Restoring model weights from the end of the best epoch: 67.\n",
      "Epoch 167: early stopping\n",
      "33\n",
      "Restoring model weights from the end of the best epoch: 123.\n",
      "Epoch 223: early stopping\n",
      "34\n",
      "Restoring model weights from the end of the best epoch: 79.\n",
      "Epoch 179: early stopping\n",
      "35\n",
      "Restoring model weights from the end of the best epoch: 122.\n",
      "Epoch 222: early stopping\n",
      "36\n",
      "Restoring model weights from the end of the best epoch: 65.\n",
      "Epoch 165: early stopping\n",
      "37\n",
      "Restoring model weights from the end of the best epoch: 90.\n",
      "Epoch 190: early stopping\n",
      "38\n",
      "Restoring model weights from the end of the best epoch: 91.\n",
      "Epoch 191: early stopping\n",
      "39\n",
      "Restoring model weights from the end of the best epoch: 77.\n",
      "Epoch 177: early stopping\n",
      "40\n",
      "Restoring model weights from the end of the best epoch: 76.\n",
      "Epoch 176: early stopping\n",
      "41\n",
      "Restoring model weights from the end of the best epoch: 87.\n",
      "Epoch 187: early stopping\n",
      "42\n",
      "Restoring model weights from the end of the best epoch: 55.\n",
      "Epoch 155: early stopping\n",
      "43\n",
      "Restoring model weights from the end of the best epoch: 87.\n",
      "Epoch 187: early stopping\n",
      "44\n",
      "Restoring model weights from the end of the best epoch: 72.\n",
      "Epoch 172: early stopping\n",
      "45\n",
      "Restoring model weights from the end of the best epoch: 84.\n",
      "Epoch 184: early stopping\n",
      "46\n",
      "Restoring model weights from the end of the best epoch: 56.\n",
      "Epoch 156: early stopping\n",
      "47\n",
      "Restoring model weights from the end of the best epoch: 92.\n",
      "Epoch 192: early stopping\n",
      "48\n",
      "Restoring model weights from the end of the best epoch: 71.\n",
      "Epoch 171: early stopping\n",
      "49\n",
      "Restoring model weights from the end of the best epoch: 79.\n",
      "Epoch 179: early stopping\n",
      "50\n",
      "Restoring model weights from the end of the best epoch: 110.\n",
      "Epoch 210: early stopping\n",
      "STARTING SEED 33433\n",
      "1\n",
      "Restoring model weights from the end of the best epoch: 48.\n",
      "Epoch 148: early stopping\n",
      "2\n",
      "Restoring model weights from the end of the best epoch: 45.\n",
      "Epoch 145: early stopping\n",
      "3\n",
      "Restoring model weights from the end of the best epoch: 120.\n",
      "Epoch 220: early stopping\n",
      "4\n",
      "Restoring model weights from the end of the best epoch: 47.\n",
      "Epoch 147: early stopping\n",
      "5\n",
      "Restoring model weights from the end of the best epoch: 75.\n",
      "Epoch 175: early stopping\n",
      "6\n",
      "Restoring model weights from the end of the best epoch: 74.\n",
      "Epoch 174: early stopping\n",
      "7\n",
      "Restoring model weights from the end of the best epoch: 61.\n",
      "Epoch 161: early stopping\n",
      "8\n",
      "Restoring model weights from the end of the best epoch: 36.\n",
      "Epoch 136: early stopping\n",
      "9\n",
      "Restoring model weights from the end of the best epoch: 50.\n",
      "Epoch 150: early stopping\n",
      "10\n",
      "Restoring model weights from the end of the best epoch: 44.\n",
      "Epoch 144: early stopping\n",
      "11\n",
      "Restoring model weights from the end of the best epoch: 49.\n",
      "Epoch 149: early stopping\n",
      "12\n",
      "Restoring model weights from the end of the best epoch: 56.\n",
      "Epoch 156: early stopping\n",
      "13\n",
      "Restoring model weights from the end of the best epoch: 50.\n",
      "Epoch 150: early stopping\n",
      "14\n",
      "Restoring model weights from the end of the best epoch: 43.\n",
      "Epoch 143: early stopping\n",
      "15\n",
      "Restoring model weights from the end of the best epoch: 37.\n",
      "Epoch 137: early stopping\n",
      "16\n",
      "Restoring model weights from the end of the best epoch: 72.\n",
      "Epoch 172: early stopping\n",
      "17\n",
      "Restoring model weights from the end of the best epoch: 47.\n",
      "Epoch 147: early stopping\n",
      "18\n",
      "Restoring model weights from the end of the best epoch: 54.\n",
      "Epoch 154: early stopping\n",
      "19\n",
      "Restoring model weights from the end of the best epoch: 38.\n",
      "Epoch 138: early stopping\n",
      "20\n",
      "Restoring model weights from the end of the best epoch: 23.\n",
      "Epoch 123: early stopping\n",
      "21\n",
      "Restoring model weights from the end of the best epoch: 44.\n",
      "Epoch 144: early stopping\n",
      "22\n",
      "Restoring model weights from the end of the best epoch: 49.\n",
      "Epoch 149: early stopping\n",
      "23\n",
      "Restoring model weights from the end of the best epoch: 54.\n",
      "Epoch 154: early stopping\n",
      "24\n",
      "Restoring model weights from the end of the best epoch: 47.\n",
      "Epoch 147: early stopping\n",
      "25\n",
      "Restoring model weights from the end of the best epoch: 48.\n",
      "Epoch 148: early stopping\n",
      "26\n",
      "Restoring model weights from the end of the best epoch: 44.\n",
      "Epoch 144: early stopping\n",
      "27\n",
      "Restoring model weights from the end of the best epoch: 67.\n",
      "Epoch 167: early stopping\n",
      "28\n",
      "Restoring model weights from the end of the best epoch: 44.\n",
      "Epoch 144: early stopping\n",
      "29\n",
      "Restoring model weights from the end of the best epoch: 45.\n",
      "Epoch 145: early stopping\n",
      "30\n",
      "Restoring model weights from the end of the best epoch: 42.\n",
      "Epoch 142: early stopping\n",
      "31\n",
      "Restoring model weights from the end of the best epoch: 45.\n",
      "Epoch 145: early stopping\n",
      "32\n",
      "Restoring model weights from the end of the best epoch: 65.\n",
      "Epoch 165: early stopping\n",
      "33\n",
      "Restoring model weights from the end of the best epoch: 41.\n",
      "Epoch 141: early stopping\n",
      "34\n",
      "Restoring model weights from the end of the best epoch: 97.\n",
      "Epoch 197: early stopping\n",
      "35\n",
      "Restoring model weights from the end of the best epoch: 44.\n",
      "Epoch 144: early stopping\n",
      "36\n",
      "Restoring model weights from the end of the best epoch: 145.\n",
      "Epoch 245: early stopping\n",
      "37\n",
      "Restoring model weights from the end of the best epoch: 56.\n",
      "Epoch 156: early stopping\n",
      "38\n",
      "Restoring model weights from the end of the best epoch: 83.\n",
      "Epoch 183: early stopping\n",
      "39\n",
      "Restoring model weights from the end of the best epoch: 40.\n",
      "Epoch 140: early stopping\n",
      "40\n",
      "Restoring model weights from the end of the best epoch: 41.\n",
      "Epoch 141: early stopping\n",
      "41\n",
      "Restoring model weights from the end of the best epoch: 45.\n",
      "Epoch 145: early stopping\n",
      "42\n",
      "Restoring model weights from the end of the best epoch: 99.\n",
      "Epoch 199: early stopping\n",
      "43\n",
      "Restoring model weights from the end of the best epoch: 55.\n",
      "Epoch 155: early stopping\n",
      "44\n",
      "Restoring model weights from the end of the best epoch: 61.\n",
      "Epoch 161: early stopping\n",
      "45\n",
      "Restoring model weights from the end of the best epoch: 44.\n",
      "Epoch 144: early stopping\n",
      "46\n",
      "Restoring model weights from the end of the best epoch: 63.\n",
      "Epoch 163: early stopping\n",
      "47\n",
      "Restoring model weights from the end of the best epoch: 126.\n",
      "Epoch 226: early stopping\n",
      "48\n",
      "Restoring model weights from the end of the best epoch: 46.\n",
      "Epoch 146: early stopping\n",
      "49\n",
      "Restoring model weights from the end of the best epoch: 48.\n",
      "Epoch 148: early stopping\n",
      "50\n",
      "Restoring model weights from the end of the best epoch: 44.\n",
      "Epoch 144: early stopping\n",
      "STARTING SEED 15456\n",
      "1\n",
      "Restoring model weights from the end of the best epoch: 62.\n",
      "Epoch 162: early stopping\n",
      "2\n",
      "Restoring model weights from the end of the best epoch: 137.\n",
      "Epoch 237: early stopping\n",
      "3\n",
      "Restoring model weights from the end of the best epoch: 114.\n",
      "Epoch 214: early stopping\n",
      "4\n",
      "Restoring model weights from the end of the best epoch: 131.\n",
      "Epoch 231: early stopping\n",
      "5\n",
      "Restoring model weights from the end of the best epoch: 78.\n",
      "Epoch 178: early stopping\n",
      "6\n",
      "Restoring model weights from the end of the best epoch: 115.\n",
      "Epoch 215: early stopping\n",
      "7\n",
      "Restoring model weights from the end of the best epoch: 156.\n",
      "Epoch 256: early stopping\n",
      "8\n",
      "Restoring model weights from the end of the best epoch: 120.\n",
      "Epoch 220: early stopping\n",
      "9\n",
      "Restoring model weights from the end of the best epoch: 81.\n",
      "Epoch 181: early stopping\n",
      "10\n",
      "Restoring model weights from the end of the best epoch: 58.\n",
      "Epoch 158: early stopping\n",
      "11\n",
      "Restoring model weights from the end of the best epoch: 130.\n",
      "Epoch 230: early stopping\n",
      "12\n",
      "Restoring model weights from the end of the best epoch: 103.\n",
      "Epoch 203: early stopping\n",
      "13\n",
      "Restoring model weights from the end of the best epoch: 88.\n",
      "Epoch 188: early stopping\n",
      "14\n",
      "Restoring model weights from the end of the best epoch: 76.\n",
      "Epoch 176: early stopping\n",
      "15\n",
      "Restoring model weights from the end of the best epoch: 53.\n",
      "Epoch 153: early stopping\n",
      "16\n",
      "Restoring model weights from the end of the best epoch: 123.\n",
      "Epoch 223: early stopping\n",
      "17\n",
      "Restoring model weights from the end of the best epoch: 103.\n",
      "Epoch 203: early stopping\n",
      "18\n",
      "Restoring model weights from the end of the best epoch: 62.\n",
      "Epoch 162: early stopping\n",
      "19\n",
      "Restoring model weights from the end of the best epoch: 83.\n",
      "Epoch 183: early stopping\n",
      "20\n",
      "Restoring model weights from the end of the best epoch: 107.\n",
      "Epoch 207: early stopping\n",
      "21\n",
      "Restoring model weights from the end of the best epoch: 59.\n",
      "Epoch 159: early stopping\n",
      "22\n",
      "Restoring model weights from the end of the best epoch: 108.\n",
      "Epoch 208: early stopping\n",
      "23\n",
      "Restoring model weights from the end of the best epoch: 119.\n",
      "Epoch 219: early stopping\n",
      "24\n",
      "Restoring model weights from the end of the best epoch: 88.\n",
      "Epoch 188: early stopping\n",
      "25\n",
      "Restoring model weights from the end of the best epoch: 64.\n",
      "Epoch 164: early stopping\n",
      "26\n",
      "Restoring model weights from the end of the best epoch: 95.\n",
      "Epoch 195: early stopping\n",
      "27\n",
      "Restoring model weights from the end of the best epoch: 129.\n",
      "Epoch 229: early stopping\n",
      "28\n",
      "Restoring model weights from the end of the best epoch: 77.\n",
      "Epoch 177: early stopping\n",
      "29\n",
      "Restoring model weights from the end of the best epoch: 62.\n",
      "Epoch 162: early stopping\n",
      "30\n",
      "Restoring model weights from the end of the best epoch: 56.\n",
      "Epoch 156: early stopping\n",
      "31\n",
      "Restoring model weights from the end of the best epoch: 102.\n",
      "Epoch 202: early stopping\n",
      "32\n",
      "Restoring model weights from the end of the best epoch: 94.\n",
      "Epoch 194: early stopping\n",
      "33\n",
      "Restoring model weights from the end of the best epoch: 141.\n",
      "Epoch 241: early stopping\n",
      "34\n",
      "Restoring model weights from the end of the best epoch: 121.\n",
      "Epoch 221: early stopping\n",
      "35\n",
      "Restoring model weights from the end of the best epoch: 108.\n",
      "Epoch 208: early stopping\n",
      "36\n",
      "Restoring model weights from the end of the best epoch: 135.\n",
      "Epoch 235: early stopping\n",
      "37\n",
      "Restoring model weights from the end of the best epoch: 48.\n",
      "Epoch 148: early stopping\n",
      "38\n",
      "Restoring model weights from the end of the best epoch: 119.\n",
      "Epoch 219: early stopping\n",
      "39\n",
      "Restoring model weights from the end of the best epoch: 93.\n",
      "Epoch 193: early stopping\n",
      "40\n",
      "Restoring model weights from the end of the best epoch: 129.\n",
      "Epoch 229: early stopping\n",
      "41\n",
      "Restoring model weights from the end of the best epoch: 57.\n",
      "Epoch 157: early stopping\n",
      "42\n",
      "Restoring model weights from the end of the best epoch: 82.\n",
      "Epoch 182: early stopping\n",
      "43\n",
      "Restoring model weights from the end of the best epoch: 87.\n",
      "Epoch 187: early stopping\n",
      "44\n",
      "Restoring model weights from the end of the best epoch: 119.\n",
      "Epoch 219: early stopping\n",
      "45\n",
      "Restoring model weights from the end of the best epoch: 120.\n",
      "Epoch 220: early stopping\n",
      "46\n",
      "Restoring model weights from the end of the best epoch: 110.\n",
      "Epoch 210: early stopping\n",
      "47\n",
      "Restoring model weights from the end of the best epoch: 79.\n",
      "Epoch 179: early stopping\n",
      "48\n",
      "Restoring model weights from the end of the best epoch: 84.\n",
      "Epoch 184: early stopping\n",
      "49\n",
      "Restoring model weights from the end of the best epoch: 56.\n",
      "Epoch 156: early stopping\n",
      "50\n",
      "Restoring model weights from the end of the best epoch: 108.\n",
      "Epoch 208: early stopping\n",
      "STARTING SEED 64938\n",
      "1\n",
      "Restoring model weights from the end of the best epoch: 162.\n",
      "Epoch 262: early stopping\n",
      "2\n",
      "Restoring model weights from the end of the best epoch: 99.\n",
      "Epoch 199: early stopping\n",
      "3\n",
      "Restoring model weights from the end of the best epoch: 96.\n",
      "Epoch 196: early stopping\n",
      "4\n",
      "Restoring model weights from the end of the best epoch: 106.\n",
      "Epoch 206: early stopping\n",
      "5\n",
      "Restoring model weights from the end of the best epoch: 94.\n",
      "Epoch 194: early stopping\n",
      "6\n",
      "Restoring model weights from the end of the best epoch: 93.\n",
      "Epoch 193: early stopping\n",
      "7\n",
      "Restoring model weights from the end of the best epoch: 57.\n",
      "Epoch 157: early stopping\n",
      "8\n",
      "Restoring model weights from the end of the best epoch: 54.\n",
      "Epoch 154: early stopping\n",
      "9\n",
      "Restoring model weights from the end of the best epoch: 56.\n",
      "Epoch 156: early stopping\n",
      "10\n",
      "Restoring model weights from the end of the best epoch: 106.\n",
      "Epoch 206: early stopping\n",
      "11\n",
      "Restoring model weights from the end of the best epoch: 106.\n",
      "Epoch 206: early stopping\n",
      "12\n",
      "Restoring model weights from the end of the best epoch: 123.\n",
      "Epoch 223: early stopping\n",
      "13\n",
      "Restoring model weights from the end of the best epoch: 111.\n",
      "Epoch 211: early stopping\n",
      "14\n",
      "Restoring model weights from the end of the best epoch: 120.\n",
      "Epoch 220: early stopping\n",
      "15\n",
      "Restoring model weights from the end of the best epoch: 113.\n",
      "Epoch 213: early stopping\n",
      "16\n",
      "Restoring model weights from the end of the best epoch: 123.\n",
      "Epoch 223: early stopping\n",
      "17\n",
      "Restoring model weights from the end of the best epoch: 169.\n",
      "Epoch 269: early stopping\n",
      "18\n",
      "Restoring model weights from the end of the best epoch: 51.\n",
      "Epoch 151: early stopping\n",
      "19\n",
      "Restoring model weights from the end of the best epoch: 150.\n",
      "Epoch 250: early stopping\n",
      "20\n",
      "Restoring model weights from the end of the best epoch: 98.\n",
      "Epoch 198: early stopping\n",
      "21\n",
      "Restoring model weights from the end of the best epoch: 103.\n",
      "Epoch 203: early stopping\n",
      "22\n",
      "Restoring model weights from the end of the best epoch: 107.\n",
      "Epoch 207: early stopping\n",
      "23\n",
      "Restoring model weights from the end of the best epoch: 110.\n",
      "Epoch 210: early stopping\n",
      "24\n",
      "Restoring model weights from the end of the best epoch: 109.\n",
      "Epoch 209: early stopping\n",
      "25\n",
      "Restoring model weights from the end of the best epoch: 112.\n",
      "Epoch 212: early stopping\n",
      "26\n",
      "Restoring model weights from the end of the best epoch: 93.\n",
      "Epoch 193: early stopping\n",
      "27\n",
      "Restoring model weights from the end of the best epoch: 105.\n",
      "Epoch 205: early stopping\n",
      "28\n",
      "Restoring model weights from the end of the best epoch: 144.\n",
      "Epoch 244: early stopping\n",
      "29\n",
      "Restoring model weights from the end of the best epoch: 151.\n",
      "Epoch 251: early stopping\n",
      "30\n",
      "Restoring model weights from the end of the best epoch: 136.\n",
      "Epoch 236: early stopping\n",
      "31\n",
      "Restoring model weights from the end of the best epoch: 159.\n",
      "Epoch 259: early stopping\n",
      "32\n",
      "Restoring model weights from the end of the best epoch: 100.\n",
      "Epoch 200: early stopping\n",
      "33\n",
      "Restoring model weights from the end of the best epoch: 54.\n",
      "Epoch 154: early stopping\n",
      "34\n",
      "Restoring model weights from the end of the best epoch: 109.\n",
      "Epoch 209: early stopping\n",
      "35\n",
      "Restoring model weights from the end of the best epoch: 110.\n",
      "Epoch 210: early stopping\n",
      "36\n",
      "Restoring model weights from the end of the best epoch: 110.\n",
      "Epoch 210: early stopping\n",
      "37\n",
      "Restoring model weights from the end of the best epoch: 98.\n",
      "Epoch 198: early stopping\n",
      "38\n",
      "Restoring model weights from the end of the best epoch: 99.\n",
      "Epoch 199: early stopping\n",
      "39\n",
      "Restoring model weights from the end of the best epoch: 139.\n",
      "Epoch 239: early stopping\n",
      "40\n",
      "Restoring model weights from the end of the best epoch: 105.\n",
      "Epoch 205: early stopping\n",
      "41\n",
      "Restoring model weights from the end of the best epoch: 133.\n",
      "Epoch 233: early stopping\n",
      "42\n",
      "Restoring model weights from the end of the best epoch: 119.\n",
      "Epoch 219: early stopping\n",
      "43\n",
      "Restoring model weights from the end of the best epoch: 89.\n",
      "Epoch 189: early stopping\n",
      "44\n",
      "Restoring model weights from the end of the best epoch: 103.\n",
      "Epoch 203: early stopping\n",
      "45\n",
      "Restoring model weights from the end of the best epoch: 145.\n",
      "Epoch 245: early stopping\n",
      "46\n",
      "Restoring model weights from the end of the best epoch: 114.\n",
      "Epoch 214: early stopping\n",
      "47\n",
      "Restoring model weights from the end of the best epoch: 112.\n",
      "Epoch 212: early stopping\n",
      "48\n",
      "Restoring model weights from the end of the best epoch: 96.\n",
      "Epoch 196: early stopping\n",
      "49\n",
      "Restoring model weights from the end of the best epoch: 136.\n",
      "Epoch 236: early stopping\n",
      "50\n",
      "Restoring model weights from the end of the best epoch: 134.\n",
      "Epoch 234: early stopping\n",
      "STARTING SEED 99741\n",
      "1\n",
      "Restoring model weights from the end of the best epoch: 86.\n",
      "Epoch 186: early stopping\n",
      "2\n",
      "Restoring model weights from the end of the best epoch: 69.\n",
      "Epoch 169: early stopping\n",
      "3\n",
      "Restoring model weights from the end of the best epoch: 149.\n",
      "Epoch 249: early stopping\n",
      "4\n",
      "Restoring model weights from the end of the best epoch: 66.\n",
      "Epoch 166: early stopping\n",
      "5\n",
      "Restoring model weights from the end of the best epoch: 83.\n",
      "Epoch 183: early stopping\n",
      "6\n",
      "Restoring model weights from the end of the best epoch: 77.\n",
      "Epoch 177: early stopping\n",
      "7\n",
      "Restoring model weights from the end of the best epoch: 77.\n",
      "Epoch 177: early stopping\n",
      "8\n",
      "Restoring model weights from the end of the best epoch: 89.\n",
      "Epoch 189: early stopping\n",
      "9\n",
      "Restoring model weights from the end of the best epoch: 108.\n",
      "Epoch 208: early stopping\n",
      "10\n",
      "Restoring model weights from the end of the best epoch: 122.\n",
      "Epoch 222: early stopping\n",
      "11\n",
      "Restoring model weights from the end of the best epoch: 70.\n",
      "Epoch 170: early stopping\n",
      "12\n",
      "Restoring model weights from the end of the best epoch: 107.\n",
      "Epoch 207: early stopping\n",
      "13\n",
      "Restoring model weights from the end of the best epoch: 149.\n",
      "Epoch 249: early stopping\n",
      "14\n",
      "Restoring model weights from the end of the best epoch: 97.\n",
      "Epoch 197: early stopping\n",
      "15\n",
      "Restoring model weights from the end of the best epoch: 92.\n",
      "Epoch 192: early stopping\n",
      "16\n",
      "Restoring model weights from the end of the best epoch: 115.\n",
      "Epoch 215: early stopping\n",
      "17\n",
      "Restoring model weights from the end of the best epoch: 98.\n",
      "Epoch 198: early stopping\n",
      "18\n",
      "Restoring model weights from the end of the best epoch: 109.\n",
      "Epoch 209: early stopping\n",
      "19\n",
      "Restoring model weights from the end of the best epoch: 82.\n",
      "Epoch 182: early stopping\n",
      "20\n",
      "Restoring model weights from the end of the best epoch: 101.\n",
      "Epoch 201: early stopping\n",
      "21\n",
      "Restoring model weights from the end of the best epoch: 96.\n",
      "Epoch 196: early stopping\n",
      "22\n",
      "Restoring model weights from the end of the best epoch: 74.\n",
      "Epoch 174: early stopping\n",
      "23\n",
      "Restoring model weights from the end of the best epoch: 128.\n",
      "Epoch 228: early stopping\n",
      "24\n",
      "Restoring model weights from the end of the best epoch: 70.\n",
      "Epoch 170: early stopping\n",
      "25\n",
      "Restoring model weights from the end of the best epoch: 111.\n",
      "Epoch 211: early stopping\n",
      "26\n",
      "Restoring model weights from the end of the best epoch: 76.\n",
      "Epoch 176: early stopping\n",
      "27\n",
      "Restoring model weights from the end of the best epoch: 131.\n",
      "Epoch 231: early stopping\n",
      "28\n",
      "Restoring model weights from the end of the best epoch: 100.\n",
      "Epoch 200: early stopping\n",
      "29\n",
      "Restoring model weights from the end of the best epoch: 84.\n",
      "Epoch 184: early stopping\n",
      "30\n",
      "Restoring model weights from the end of the best epoch: 86.\n",
      "Epoch 186: early stopping\n",
      "31\n",
      "Restoring model weights from the end of the best epoch: 69.\n",
      "Epoch 169: early stopping\n",
      "32\n",
      "Restoring model weights from the end of the best epoch: 99.\n",
      "Epoch 199: early stopping\n",
      "33\n",
      "Restoring model weights from the end of the best epoch: 101.\n",
      "Epoch 201: early stopping\n",
      "34\n",
      "Restoring model weights from the end of the best epoch: 68.\n",
      "Epoch 168: early stopping\n",
      "35\n",
      "Restoring model weights from the end of the best epoch: 96.\n",
      "Epoch 196: early stopping\n",
      "36\n",
      "Restoring model weights from the end of the best epoch: 76.\n",
      "Epoch 176: early stopping\n",
      "37\n",
      "Restoring model weights from the end of the best epoch: 86.\n",
      "Epoch 186: early stopping\n",
      "38\n",
      "Restoring model weights from the end of the best epoch: 102.\n",
      "Epoch 202: early stopping\n",
      "39\n",
      "Restoring model weights from the end of the best epoch: 70.\n",
      "Epoch 170: early stopping\n",
      "40\n",
      "Restoring model weights from the end of the best epoch: 82.\n",
      "Epoch 182: early stopping\n",
      "41\n",
      "Restoring model weights from the end of the best epoch: 79.\n",
      "Epoch 179: early stopping\n",
      "42\n",
      "Restoring model weights from the end of the best epoch: 74.\n",
      "Epoch 174: early stopping\n",
      "43\n",
      "Restoring model weights from the end of the best epoch: 120.\n",
      "Epoch 220: early stopping\n",
      "44\n",
      "Restoring model weights from the end of the best epoch: 117.\n",
      "Epoch 217: early stopping\n",
      "45\n",
      "Restoring model weights from the end of the best epoch: 91.\n",
      "Epoch 191: early stopping\n",
      "46\n",
      "Restoring model weights from the end of the best epoch: 97.\n",
      "Epoch 197: early stopping\n",
      "47\n",
      "Restoring model weights from the end of the best epoch: 84.\n",
      "Epoch 184: early stopping\n",
      "48\n",
      "Restoring model weights from the end of the best epoch: 128.\n",
      "Epoch 228: early stopping\n",
      "49\n",
      "Restoring model weights from the end of the best epoch: 76.\n",
      "Epoch 176: early stopping\n",
      "50\n",
      "Restoring model weights from the end of the best epoch: 120.\n",
      "Epoch 220: early stopping\n",
      "STARTING SEED 58916\n",
      "1\n",
      "Restoring model weights from the end of the best epoch: 55.\n",
      "Epoch 155: early stopping\n",
      "2\n",
      "Restoring model weights from the end of the best epoch: 73.\n",
      "Epoch 173: early stopping\n",
      "3\n",
      "Restoring model weights from the end of the best epoch: 52.\n",
      "Epoch 152: early stopping\n",
      "4\n",
      "Restoring model weights from the end of the best epoch: 74.\n",
      "Epoch 174: early stopping\n",
      "5\n",
      "Restoring model weights from the end of the best epoch: 91.\n",
      "Epoch 191: early stopping\n",
      "6\n",
      "Restoring model weights from the end of the best epoch: 147.\n",
      "Epoch 247: early stopping\n",
      "7\n",
      "Restoring model weights from the end of the best epoch: 70.\n",
      "Epoch 170: early stopping\n",
      "8\n",
      "Restoring model weights from the end of the best epoch: 81.\n",
      "Epoch 181: early stopping\n",
      "9\n",
      "Restoring model weights from the end of the best epoch: 129.\n",
      "Epoch 229: early stopping\n",
      "10\n",
      "Restoring model weights from the end of the best epoch: 62.\n",
      "Epoch 162: early stopping\n",
      "11\n",
      "Restoring model weights from the end of the best epoch: 97.\n",
      "Epoch 197: early stopping\n",
      "12\n",
      "Restoring model weights from the end of the best epoch: 97.\n",
      "Epoch 197: early stopping\n",
      "13\n",
      "Restoring model weights from the end of the best epoch: 57.\n",
      "Epoch 157: early stopping\n",
      "14\n",
      "Restoring model weights from the end of the best epoch: 78.\n",
      "Epoch 178: early stopping\n",
      "15\n",
      "Restoring model weights from the end of the best epoch: 125.\n",
      "Epoch 225: early stopping\n",
      "16\n",
      "Restoring model weights from the end of the best epoch: 66.\n",
      "Epoch 166: early stopping\n",
      "17\n",
      "Restoring model weights from the end of the best epoch: 47.\n",
      "Epoch 147: early stopping\n",
      "18\n",
      "Restoring model weights from the end of the best epoch: 88.\n",
      "Epoch 188: early stopping\n",
      "19\n",
      "Restoring model weights from the end of the best epoch: 55.\n",
      "Epoch 155: early stopping\n",
      "20\n",
      "Restoring model weights from the end of the best epoch: 50.\n",
      "Epoch 150: early stopping\n",
      "21\n",
      "Restoring model weights from the end of the best epoch: 112.\n",
      "Epoch 212: early stopping\n",
      "22\n",
      "Restoring model weights from the end of the best epoch: 63.\n",
      "Epoch 163: early stopping\n",
      "23\n",
      "Restoring model weights from the end of the best epoch: 99.\n",
      "Epoch 199: early stopping\n",
      "24\n",
      "Restoring model weights from the end of the best epoch: 71.\n",
      "Epoch 171: early stopping\n",
      "25\n",
      "Restoring model weights from the end of the best epoch: 131.\n",
      "Epoch 231: early stopping\n",
      "26\n",
      "Restoring model weights from the end of the best epoch: 54.\n",
      "Epoch 154: early stopping\n",
      "27\n",
      "Restoring model weights from the end of the best epoch: 142.\n",
      "Epoch 242: early stopping\n",
      "28\n",
      "Restoring model weights from the end of the best epoch: 54.\n",
      "Epoch 154: early stopping\n",
      "29\n",
      "Restoring model weights from the end of the best epoch: 121.\n",
      "Epoch 221: early stopping\n",
      "30\n",
      "Restoring model weights from the end of the best epoch: 154.\n",
      "Epoch 254: early stopping\n",
      "31\n",
      "Restoring model weights from the end of the best epoch: 132.\n",
      "Epoch 232: early stopping\n",
      "32\n",
      "Restoring model weights from the end of the best epoch: 90.\n",
      "Epoch 190: early stopping\n",
      "33\n",
      "Restoring model weights from the end of the best epoch: 101.\n",
      "Epoch 201: early stopping\n",
      "34\n",
      "Restoring model weights from the end of the best epoch: 75.\n",
      "Epoch 175: early stopping\n",
      "35\n",
      "Restoring model weights from the end of the best epoch: 46.\n",
      "Epoch 146: early stopping\n",
      "36\n",
      "Restoring model weights from the end of the best epoch: 144.\n",
      "Epoch 244: early stopping\n",
      "37\n",
      "Restoring model weights from the end of the best epoch: 102.\n",
      "Epoch 202: early stopping\n",
      "38\n",
      "Restoring model weights from the end of the best epoch: 59.\n",
      "Epoch 159: early stopping\n",
      "39\n",
      "Restoring model weights from the end of the best epoch: 63.\n",
      "Epoch 163: early stopping\n",
      "40\n",
      "Restoring model weights from the end of the best epoch: 40.\n",
      "Epoch 140: early stopping\n",
      "41\n",
      "Restoring model weights from the end of the best epoch: 130.\n",
      "Epoch 230: early stopping\n",
      "42\n",
      "Restoring model weights from the end of the best epoch: 63.\n",
      "Epoch 163: early stopping\n",
      "43\n",
      "Restoring model weights from the end of the best epoch: 84.\n",
      "Epoch 184: early stopping\n",
      "44\n",
      "Restoring model weights from the end of the best epoch: 170.\n",
      "Epoch 270: early stopping\n",
      "45\n",
      "Restoring model weights from the end of the best epoch: 99.\n",
      "Epoch 199: early stopping\n",
      "46\n",
      "Restoring model weights from the end of the best epoch: 100.\n",
      "Epoch 200: early stopping\n",
      "47\n",
      "Restoring model weights from the end of the best epoch: 76.\n",
      "Epoch 176: early stopping\n",
      "48\n",
      "Restoring model weights from the end of the best epoch: 162.\n",
      "Epoch 262: early stopping\n",
      "49\n",
      "Restoring model weights from the end of the best epoch: 117.\n",
      "Epoch 217: early stopping\n",
      "50\n",
      "Restoring model weights from the end of the best epoch: 148.\n",
      "Epoch 248: early stopping\n",
      "STARTING SEED 61899\n",
      "1\n",
      "Restoring model weights from the end of the best epoch: 78.\n",
      "Epoch 178: early stopping\n",
      "2\n",
      "Restoring model weights from the end of the best epoch: 79.\n",
      "Epoch 179: early stopping\n",
      "3\n",
      "Restoring model weights from the end of the best epoch: 72.\n",
      "Epoch 172: early stopping\n",
      "4\n",
      "Restoring model weights from the end of the best epoch: 36.\n",
      "Epoch 136: early stopping\n",
      "5\n",
      "Restoring model weights from the end of the best epoch: 94.\n",
      "Epoch 194: early stopping\n",
      "6\n",
      "Restoring model weights from the end of the best epoch: 40.\n",
      "Epoch 140: early stopping\n",
      "7\n",
      "Restoring model weights from the end of the best epoch: 122.\n",
      "Epoch 222: early stopping\n",
      "8\n",
      "Restoring model weights from the end of the best epoch: 85.\n",
      "Epoch 185: early stopping\n",
      "9\n",
      "Restoring model weights from the end of the best epoch: 98.\n",
      "Epoch 198: early stopping\n",
      "10\n",
      "Restoring model weights from the end of the best epoch: 41.\n",
      "Epoch 141: early stopping\n",
      "11\n",
      "Restoring model weights from the end of the best epoch: 93.\n",
      "Epoch 193: early stopping\n",
      "12\n",
      "Restoring model weights from the end of the best epoch: 33.\n",
      "Epoch 133: early stopping\n",
      "13\n",
      "Restoring model weights from the end of the best epoch: 79.\n",
      "Epoch 179: early stopping\n",
      "14\n",
      "Restoring model weights from the end of the best epoch: 65.\n",
      "Epoch 165: early stopping\n",
      "15\n",
      "Restoring model weights from the end of the best epoch: 40.\n",
      "Epoch 140: early stopping\n",
      "16\n",
      "Restoring model weights from the end of the best epoch: 78.\n",
      "Epoch 178: early stopping\n",
      "17\n",
      "Restoring model weights from the end of the best epoch: 99.\n",
      "Epoch 199: early stopping\n",
      "18\n",
      "Restoring model weights from the end of the best epoch: 38.\n",
      "Epoch 138: early stopping\n",
      "19\n",
      "Restoring model weights from the end of the best epoch: 36.\n",
      "Epoch 136: early stopping\n",
      "20\n",
      "Restoring model weights from the end of the best epoch: 35.\n",
      "Epoch 135: early stopping\n",
      "21\n",
      "Restoring model weights from the end of the best epoch: 38.\n",
      "Epoch 138: early stopping\n",
      "22\n",
      "Restoring model weights from the end of the best epoch: 93.\n",
      "Epoch 193: early stopping\n",
      "23\n",
      "Restoring model weights from the end of the best epoch: 114.\n",
      "Epoch 214: early stopping\n",
      "24\n",
      "Restoring model weights from the end of the best epoch: 40.\n",
      "Epoch 140: early stopping\n",
      "25\n",
      "Restoring model weights from the end of the best epoch: 32.\n",
      "Epoch 132: early stopping\n",
      "26\n",
      "Restoring model weights from the end of the best epoch: 92.\n",
      "Epoch 192: early stopping\n",
      "27\n",
      "Restoring model weights from the end of the best epoch: 42.\n",
      "Epoch 142: early stopping\n",
      "28\n",
      "Restoring model weights from the end of the best epoch: 74.\n",
      "Epoch 174: early stopping\n",
      "29\n",
      "Restoring model weights from the end of the best epoch: 34.\n",
      "Epoch 134: early stopping\n",
      "30\n",
      "Restoring model weights from the end of the best epoch: 90.\n",
      "Epoch 190: early stopping\n",
      "31\n",
      "Restoring model weights from the end of the best epoch: 32.\n",
      "Epoch 132: early stopping\n",
      "32\n",
      "Restoring model weights from the end of the best epoch: 38.\n",
      "Epoch 138: early stopping\n",
      "33\n",
      "Restoring model weights from the end of the best epoch: 37.\n",
      "Epoch 137: early stopping\n",
      "34\n",
      "Restoring model weights from the end of the best epoch: 119.\n",
      "Epoch 219: early stopping\n",
      "35\n",
      "Restoring model weights from the end of the best epoch: 41.\n",
      "Epoch 141: early stopping\n",
      "36\n",
      "Restoring model weights from the end of the best epoch: 38.\n",
      "Epoch 138: early stopping\n",
      "37\n",
      "Restoring model weights from the end of the best epoch: 35.\n",
      "Epoch 135: early stopping\n",
      "38\n",
      "Restoring model weights from the end of the best epoch: 39.\n",
      "Epoch 139: early stopping\n",
      "39\n",
      "Restoring model weights from the end of the best epoch: 36.\n",
      "Epoch 136: early stopping\n",
      "40\n",
      "Restoring model weights from the end of the best epoch: 69.\n",
      "Epoch 169: early stopping\n",
      "41\n",
      "Restoring model weights from the end of the best epoch: 35.\n",
      "Epoch 135: early stopping\n",
      "42\n",
      "Restoring model weights from the end of the best epoch: 100.\n",
      "Epoch 200: early stopping\n",
      "43\n",
      "Restoring model weights from the end of the best epoch: 35.\n",
      "Epoch 135: early stopping\n",
      "44\n",
      "Restoring model weights from the end of the best epoch: 98.\n",
      "Epoch 198: early stopping\n",
      "45\n",
      "Restoring model weights from the end of the best epoch: 35.\n",
      "Epoch 135: early stopping\n",
      "46\n",
      "Restoring model weights from the end of the best epoch: 117.\n",
      "Epoch 217: early stopping\n",
      "47\n",
      "Restoring model weights from the end of the best epoch: 36.\n",
      "Epoch 136: early stopping\n",
      "48\n",
      "Restoring model weights from the end of the best epoch: 35.\n",
      "Epoch 135: early stopping\n",
      "49\n",
      "Restoring model weights from the end of the best epoch: 39.\n",
      "Epoch 139: early stopping\n",
      "50\n",
      "Restoring model weights from the end of the best epoch: 97.\n",
      "Epoch 197: early stopping\n",
      "STARTING SEED 85406\n",
      "1\n",
      "Restoring model weights from the end of the best epoch: 103.\n",
      "Epoch 203: early stopping\n",
      "2\n",
      "Restoring model weights from the end of the best epoch: 140.\n",
      "Epoch 240: early stopping\n",
      "3\n",
      "Restoring model weights from the end of the best epoch: 85.\n",
      "Epoch 185: early stopping\n",
      "4\n",
      "Restoring model weights from the end of the best epoch: 95.\n",
      "Epoch 195: early stopping\n",
      "5\n",
      "Restoring model weights from the end of the best epoch: 104.\n",
      "Epoch 204: early stopping\n",
      "6\n",
      "Restoring model weights from the end of the best epoch: 99.\n",
      "Epoch 199: early stopping\n",
      "7\n",
      "Restoring model weights from the end of the best epoch: 94.\n",
      "Epoch 194: early stopping\n",
      "8\n",
      "Restoring model weights from the end of the best epoch: 92.\n",
      "Epoch 192: early stopping\n",
      "9\n",
      "Restoring model weights from the end of the best epoch: 102.\n",
      "Epoch 202: early stopping\n",
      "10\n",
      "Restoring model weights from the end of the best epoch: 82.\n",
      "Epoch 182: early stopping\n",
      "11\n",
      "Restoring model weights from the end of the best epoch: 80.\n",
      "Epoch 180: early stopping\n",
      "12\n",
      "Restoring model weights from the end of the best epoch: 108.\n",
      "Epoch 208: early stopping\n",
      "13\n",
      "Restoring model weights from the end of the best epoch: 117.\n",
      "Epoch 217: early stopping\n",
      "14\n",
      "Restoring model weights from the end of the best epoch: 90.\n",
      "Epoch 190: early stopping\n",
      "15\n",
      "Restoring model weights from the end of the best epoch: 90.\n",
      "Epoch 190: early stopping\n",
      "16\n",
      "Restoring model weights from the end of the best epoch: 83.\n",
      "Epoch 183: early stopping\n",
      "17\n",
      "Restoring model weights from the end of the best epoch: 98.\n",
      "Epoch 198: early stopping\n",
      "18\n",
      "Restoring model weights from the end of the best epoch: 145.\n",
      "Epoch 245: early stopping\n",
      "19\n",
      "Restoring model weights from the end of the best epoch: 76.\n",
      "Epoch 176: early stopping\n",
      "20\n",
      "Restoring model weights from the end of the best epoch: 78.\n",
      "Epoch 178: early stopping\n",
      "21\n",
      "Restoring model weights from the end of the best epoch: 103.\n",
      "Epoch 203: early stopping\n",
      "22\n",
      "Restoring model weights from the end of the best epoch: 86.\n",
      "Epoch 186: early stopping\n",
      "23\n",
      "Restoring model weights from the end of the best epoch: 167.\n",
      "Epoch 267: early stopping\n",
      "24\n",
      "Restoring model weights from the end of the best epoch: 137.\n",
      "Epoch 237: early stopping\n",
      "25\n",
      "Restoring model weights from the end of the best epoch: 76.\n",
      "Epoch 176: early stopping\n",
      "26\n",
      "Restoring model weights from the end of the best epoch: 54.\n",
      "Epoch 154: early stopping\n",
      "27\n",
      "Restoring model weights from the end of the best epoch: 81.\n",
      "Epoch 181: early stopping\n",
      "28\n",
      "Restoring model weights from the end of the best epoch: 85.\n",
      "Epoch 185: early stopping\n",
      "29\n",
      "Restoring model weights from the end of the best epoch: 115.\n",
      "Epoch 215: early stopping\n",
      "30\n",
      "Restoring model weights from the end of the best epoch: 82.\n",
      "Epoch 182: early stopping\n",
      "31\n",
      "Restoring model weights from the end of the best epoch: 105.\n",
      "Epoch 205: early stopping\n",
      "32\n",
      "Restoring model weights from the end of the best epoch: 83.\n",
      "Epoch 183: early stopping\n",
      "33\n",
      "Restoring model weights from the end of the best epoch: 137.\n",
      "Epoch 237: early stopping\n",
      "34\n",
      "Restoring model weights from the end of the best epoch: 94.\n",
      "Epoch 194: early stopping\n",
      "35\n",
      "Restoring model weights from the end of the best epoch: 125.\n",
      "Epoch 225: early stopping\n",
      "36\n",
      "Restoring model weights from the end of the best epoch: 92.\n",
      "Epoch 192: early stopping\n",
      "37\n",
      "Restoring model weights from the end of the best epoch: 102.\n",
      "Epoch 202: early stopping\n",
      "38\n",
      "Restoring model weights from the end of the best epoch: 85.\n",
      "Epoch 185: early stopping\n",
      "39\n",
      "Restoring model weights from the end of the best epoch: 78.\n",
      "Epoch 178: early stopping\n",
      "40\n",
      "Restoring model weights from the end of the best epoch: 92.\n",
      "Epoch 192: early stopping\n",
      "41\n",
      "Restoring model weights from the end of the best epoch: 87.\n",
      "Epoch 187: early stopping\n",
      "42\n",
      "Restoring model weights from the end of the best epoch: 97.\n",
      "Epoch 197: early stopping\n",
      "43\n",
      "Restoring model weights from the end of the best epoch: 84.\n",
      "Epoch 184: early stopping\n",
      "44\n",
      "Restoring model weights from the end of the best epoch: 75.\n",
      "Epoch 175: early stopping\n",
      "45\n",
      "Restoring model weights from the end of the best epoch: 86.\n",
      "Epoch 186: early stopping\n",
      "46\n",
      "Restoring model weights from the end of the best epoch: 89.\n",
      "Epoch 189: early stopping\n",
      "47\n",
      "Restoring model weights from the end of the best epoch: 106.\n",
      "Epoch 206: early stopping\n",
      "48\n",
      "Restoring model weights from the end of the best epoch: 93.\n",
      "Epoch 193: early stopping\n",
      "49\n",
      "Restoring model weights from the end of the best epoch: 111.\n",
      "Epoch 211: early stopping\n",
      "50\n",
      "Restoring model weights from the end of the best epoch: 129.\n",
      "Epoch 229: early stopping\n"
     ]
    }
   ],
   "source": [
    "wd = os.path.join(main_dir, \"/ANN_results/diff_seeds\") # diff_seeds will be ward now\n",
    "os.mkdir(wd)\n",
    "for seed in seeds:\n",
    "    print(\"STARTING SEED {}\".format(seed))\n",
    "    seed_dir = os.path.join(wd, str(seed))\n",
    "    mods_dir = os.path.join(seed_dir, \"models\")\n",
    "    hist_dir = os.path.join(seed_dir, \"hists\")\n",
    "    os.mkdir(seed_dir)\n",
    "    os.mkdir(mods_dir)\n",
    "    os.mkdir(hist_dir)\n",
    "    \n",
    "    initializer_seed = tf.keras.initializers.GlorotUniform(seed = seed)\n",
    "    for i in range(50):\n",
    "        print(i+1)\n",
    "        \n",
    "        model_i = Sequential([\n",
    "            Dense(units = 10, input_shape=(11,), activation = \"relu\", kernel_initializer = initializer_seed), # THIS IS THE MODEL\n",
    "            Dense(units = 4, activation = \"softmax\", kernel_initializer = initializer_seed)\n",
    "        ])\n",
    "        \n",
    "        model_i.compile(optimizer=Adam(learning_rate=0.01), loss = \"sparse_categorical_crossentropy\", metrics = [\"accuracy\"]) # COMPILE MODEL\n",
    "        \n",
    "        hist_i = model_i.fit(\n",
    "            x = X_model_train, y = y_model_train, batch_size = 32,\n",
    "            callbacks = [callback], validation_data = (X_model_val, y_model_val),\n",
    "            epochs = 300, shuffle = True, verbose = 0, class_weight =  class_weights_dict # TRAIN MODEL\n",
    "        )\n",
    "        final_epoch = callback.stopped_epoch-100\n",
    "        if final_epoch == -100:\n",
    "            final_epoch = 299\n",
    "        final_acc = round(hist_i.history[\"val_accuracy\"][final_epoch],2)\n",
    "        \n",
    "        model_i.save(os.path.join(mods_dir, \"{}_{}_model_epoch_{}_train_acc_{}.h5\".format(seed, i, final_epoch, round(final_acc, 2)))) # SAVING MODEL\n",
    "        \n",
    "        pd.DataFrame(hist_i.history).to_csv(os.path.join(hist_dir, \"{}_{}_hist_epoch_{}_train_acc_{}.csv\".format(seed, i, final_epoch, round(final_acc, 2))), index = False) # SAVING TRAINING DF"
   ]
  },
  {
   "cell_type": "markdown",
   "metadata": {},
   "source": [
    "## REPEATED STRATIFIED K-FOLD CROSS-VALIDATION"
   ]
  },
  {
   "cell_type": "code",
   "execution_count": 43,
   "metadata": {},
   "outputs": [],
   "source": [
    "rskf = RepeatedStratifiedKFold(n_splits = 10, n_repeats = 10, random_state = 312) #sets are one after other. 0-10, is one 10-fold CV, 10-20, and so on"
   ]
  },
  {
   "cell_type": "code",
   "execution_count": 33,
   "metadata": {
    "collapsed": true,
    "jupyter": {
     "outputs_hidden": true
    }
   },
   "outputs": [
    {
     "name": "stdout",
     "output_type": "stream",
     "text": [
      "407608742 846885254\n",
      "Restoring model weights from the end of the best epoch: 55.\n",
      "Epoch 155: early stopping\n",
      "Restoring model weights from the end of the best epoch: 5.\n",
      "Epoch 105: early stopping\n"
     ]
    },
    {
     "name": "stderr",
     "output_type": "stream",
     "text": [
      "/cluster/gjb_lab/2394007/miniconda/envs/deep_learning/lib/python3.10/site-packages/sklearn/neighbors/_classification.py:207: DataConversionWarning: A column-vector y was passed when a 1d array was expected. Please change the shape of y to (n_samples,), for example using ravel().\n",
      "  return self._fit(X, y)\n",
      "/cluster/gjb_lab/2394007/miniconda/envs/deep_learning/lib/python3.10/site-packages/sklearn/neighbors/_classification.py:207: DataConversionWarning: A column-vector y was passed when a 1d array was expected. Please change the shape of y to (n_samples,), for example using ravel().\n",
      "  return self._fit(X, y)\n"
     ]
    },
    {
     "name": "stdout",
     "output_type": "stream",
     "text": [
      "183701140 349994786\n",
      "Restoring model weights from the end of the best epoch: 116.\n",
      "Epoch 216: early stopping\n",
      "Restoring model weights from the end of the best epoch: 2.\n",
      "Epoch 102: early stopping\n"
     ]
    },
    {
     "name": "stderr",
     "output_type": "stream",
     "text": [
      "/cluster/gjb_lab/2394007/miniconda/envs/deep_learning/lib/python3.10/site-packages/sklearn/neighbors/_classification.py:207: DataConversionWarning: A column-vector y was passed when a 1d array was expected. Please change the shape of y to (n_samples,), for example using ravel().\n",
      "  return self._fit(X, y)\n",
      "/cluster/gjb_lab/2394007/miniconda/envs/deep_learning/lib/python3.10/site-packages/sklearn/neighbors/_classification.py:207: DataConversionWarning: A column-vector y was passed when a 1d array was expected. Please change the shape of y to (n_samples,), for example using ravel().\n",
      "  return self._fit(X, y)\n"
     ]
    },
    {
     "name": "stdout",
     "output_type": "stream",
     "text": [
      "908039949 885569339\n",
      "Restoring model weights from the end of the best epoch: 98.\n",
      "Epoch 198: early stopping\n",
      "WARNING:tensorflow:5 out of the last 5 calls to <function Model.make_predict_function.<locals>.predict_function at 0x2ac1909ea710> triggered tf.function retracing. Tracing is expensive and the excessive number of tracings could be due to (1) creating @tf.function repeatedly in a loop, (2) passing tensors with different shapes, (3) passing Python objects instead of tensors. For (1), please define your @tf.function outside of the loop. For (2), @tf.function has reduce_retracing=True option that can avoid unnecessary retracing. For (3), please refer to https://www.tensorflow.org/guide/function#controlling_retracing and https://www.tensorflow.org/api_docs/python/tf/function for  more details.\n",
      "Restoring model weights from the end of the best epoch: 9.\n",
      "Epoch 109: early stopping\n",
      "WARNING:tensorflow:6 out of the last 6 calls to <function Model.make_predict_function.<locals>.predict_function at 0x2abec9a80d30> triggered tf.function retracing. Tracing is expensive and the excessive number of tracings could be due to (1) creating @tf.function repeatedly in a loop, (2) passing tensors with different shapes, (3) passing Python objects instead of tensors. For (1), please define your @tf.function outside of the loop. For (2), @tf.function has reduce_retracing=True option that can avoid unnecessary retracing. For (3), please refer to https://www.tensorflow.org/guide/function#controlling_retracing and https://www.tensorflow.org/api_docs/python/tf/function for  more details.\n",
      "282018763 845638329\n"
     ]
    },
    {
     "name": "stderr",
     "output_type": "stream",
     "text": [
      "/cluster/gjb_lab/2394007/miniconda/envs/deep_learning/lib/python3.10/site-packages/sklearn/neighbors/_classification.py:207: DataConversionWarning: A column-vector y was passed when a 1d array was expected. Please change the shape of y to (n_samples,), for example using ravel().\n",
      "  return self._fit(X, y)\n",
      "/cluster/gjb_lab/2394007/miniconda/envs/deep_learning/lib/python3.10/site-packages/sklearn/neighbors/_classification.py:207: DataConversionWarning: A column-vector y was passed when a 1d array was expected. Please change the shape of y to (n_samples,), for example using ravel().\n",
      "  return self._fit(X, y)\n"
     ]
    },
    {
     "name": "stdout",
     "output_type": "stream",
     "text": [
      "Restoring model weights from the end of the best epoch: 102.\n",
      "Epoch 202: early stopping\n",
      "Restoring model weights from the end of the best epoch: 125.\n",
      "Epoch 225: early stopping\n"
     ]
    },
    {
     "name": "stderr",
     "output_type": "stream",
     "text": [
      "/cluster/gjb_lab/2394007/miniconda/envs/deep_learning/lib/python3.10/site-packages/sklearn/neighbors/_classification.py:207: DataConversionWarning: A column-vector y was passed when a 1d array was expected. Please change the shape of y to (n_samples,), for example using ravel().\n",
      "  return self._fit(X, y)\n",
      "/cluster/gjb_lab/2394007/miniconda/envs/deep_learning/lib/python3.10/site-packages/sklearn/neighbors/_classification.py:207: DataConversionWarning: A column-vector y was passed when a 1d array was expected. Please change the shape of y to (n_samples,), for example using ravel().\n",
      "  return self._fit(X, y)\n"
     ]
    },
    {
     "name": "stdout",
     "output_type": "stream",
     "text": [
      "563996155 917752611\n",
      "Restoring model weights from the end of the best epoch: 45.\n",
      "Epoch 145: early stopping\n",
      "Restoring model weights from the end of the best epoch: 1.\n",
      "Epoch 101: early stopping\n"
     ]
    },
    {
     "name": "stderr",
     "output_type": "stream",
     "text": [
      "/cluster/gjb_lab/2394007/miniconda/envs/deep_learning/lib/python3.10/site-packages/sklearn/neighbors/_classification.py:207: DataConversionWarning: A column-vector y was passed when a 1d array was expected. Please change the shape of y to (n_samples,), for example using ravel().\n",
      "  return self._fit(X, y)\n",
      "/cluster/gjb_lab/2394007/miniconda/envs/deep_learning/lib/python3.10/site-packages/sklearn/neighbors/_classification.py:207: DataConversionWarning: A column-vector y was passed when a 1d array was expected. Please change the shape of y to (n_samples,), for example using ravel().\n",
      "  return self._fit(X, y)\n"
     ]
    },
    {
     "name": "stdout",
     "output_type": "stream",
     "text": [
      "68695501 175890095\n",
      "Restoring model weights from the end of the best epoch: 87.\n",
      "Epoch 187: early stopping\n",
      "Restoring model weights from the end of the best epoch: 3.\n",
      "Epoch 103: early stopping\n"
     ]
    },
    {
     "name": "stderr",
     "output_type": "stream",
     "text": [
      "/cluster/gjb_lab/2394007/miniconda/envs/deep_learning/lib/python3.10/site-packages/sklearn/neighbors/_classification.py:207: DataConversionWarning: A column-vector y was passed when a 1d array was expected. Please change the shape of y to (n_samples,), for example using ravel().\n",
      "  return self._fit(X, y)\n",
      "/cluster/gjb_lab/2394007/miniconda/envs/deep_learning/lib/python3.10/site-packages/sklearn/neighbors/_classification.py:207: DataConversionWarning: A column-vector y was passed when a 1d array was expected. Please change the shape of y to (n_samples,), for example using ravel().\n",
      "  return self._fit(X, y)\n"
     ]
    },
    {
     "name": "stdout",
     "output_type": "stream",
     "text": [
      "49681948 569342736\n",
      "Restoring model weights from the end of the best epoch: 57.\n",
      "Epoch 157: early stopping\n",
      "Restoring model weights from the end of the best epoch: 2.\n",
      "Epoch 102: early stopping\n"
     ]
    },
    {
     "name": "stderr",
     "output_type": "stream",
     "text": [
      "/cluster/gjb_lab/2394007/miniconda/envs/deep_learning/lib/python3.10/site-packages/sklearn/neighbors/_classification.py:207: DataConversionWarning: A column-vector y was passed when a 1d array was expected. Please change the shape of y to (n_samples,), for example using ravel().\n",
      "  return self._fit(X, y)\n",
      "/cluster/gjb_lab/2394007/miniconda/envs/deep_learning/lib/python3.10/site-packages/sklearn/neighbors/_classification.py:207: DataConversionWarning: A column-vector y was passed when a 1d array was expected. Please change the shape of y to (n_samples,), for example using ravel().\n",
      "  return self._fit(X, y)\n"
     ]
    },
    {
     "name": "stdout",
     "output_type": "stream",
     "text": [
      "354604014 565155716\n",
      "Restoring model weights from the end of the best epoch: 18.\n",
      "Epoch 118: early stopping\n",
      "Restoring model weights from the end of the best epoch: 25.\n",
      "Epoch 125: early stopping\n"
     ]
    },
    {
     "name": "stderr",
     "output_type": "stream",
     "text": [
      "/cluster/gjb_lab/2394007/miniconda/envs/deep_learning/lib/python3.10/site-packages/sklearn/neighbors/_classification.py:207: DataConversionWarning: A column-vector y was passed when a 1d array was expected. Please change the shape of y to (n_samples,), for example using ravel().\n",
      "  return self._fit(X, y)\n",
      "/cluster/gjb_lab/2394007/miniconda/envs/deep_learning/lib/python3.10/site-packages/sklearn/neighbors/_classification.py:207: DataConversionWarning: A column-vector y was passed when a 1d array was expected. Please change the shape of y to (n_samples,), for example using ravel().\n",
      "  return self._fit(X, y)\n"
     ]
    },
    {
     "name": "stdout",
     "output_type": "stream",
     "text": [
      "664514255 433810804\n",
      "Restoring model weights from the end of the best epoch: 89.\n",
      "Epoch 189: early stopping\n",
      "Restoring model weights from the end of the best epoch: 5.\n",
      "Epoch 105: early stopping\n"
     ]
    },
    {
     "name": "stderr",
     "output_type": "stream",
     "text": [
      "/cluster/gjb_lab/2394007/miniconda/envs/deep_learning/lib/python3.10/site-packages/sklearn/neighbors/_classification.py:207: DataConversionWarning: A column-vector y was passed when a 1d array was expected. Please change the shape of y to (n_samples,), for example using ravel().\n",
      "  return self._fit(X, y)\n",
      "/cluster/gjb_lab/2394007/miniconda/envs/deep_learning/lib/python3.10/site-packages/sklearn/neighbors/_classification.py:207: DataConversionWarning: A column-vector y was passed when a 1d array was expected. Please change the shape of y to (n_samples,), for example using ravel().\n",
      "  return self._fit(X, y)\n"
     ]
    },
    {
     "name": "stdout",
     "output_type": "stream",
     "text": [
      "688457249 702267265\n",
      "Restoring model weights from the end of the best epoch: 37.\n",
      "Epoch 137: early stopping\n",
      "Restoring model weights from the end of the best epoch: 18.\n",
      "Epoch 118: early stopping\n"
     ]
    },
    {
     "name": "stderr",
     "output_type": "stream",
     "text": [
      "/cluster/gjb_lab/2394007/miniconda/envs/deep_learning/lib/python3.10/site-packages/sklearn/neighbors/_classification.py:207: DataConversionWarning: A column-vector y was passed when a 1d array was expected. Please change the shape of y to (n_samples,), for example using ravel().\n",
      "  return self._fit(X, y)\n",
      "/cluster/gjb_lab/2394007/miniconda/envs/deep_learning/lib/python3.10/site-packages/sklearn/neighbors/_classification.py:207: DataConversionWarning: A column-vector y was passed when a 1d array was expected. Please change the shape of y to (n_samples,), for example using ravel().\n",
      "  return self._fit(X, y)\n"
     ]
    },
    {
     "name": "stdout",
     "output_type": "stream",
     "text": [
      "854912041 195077705\n",
      "Restoring model weights from the end of the best epoch: 89.\n",
      "Epoch 189: early stopping\n",
      "Restoring model weights from the end of the best epoch: 183.\n",
      "Epoch 283: early stopping\n"
     ]
    },
    {
     "name": "stderr",
     "output_type": "stream",
     "text": [
      "/cluster/gjb_lab/2394007/miniconda/envs/deep_learning/lib/python3.10/site-packages/sklearn/neighbors/_classification.py:207: DataConversionWarning: A column-vector y was passed when a 1d array was expected. Please change the shape of y to (n_samples,), for example using ravel().\n",
      "  return self._fit(X, y)\n",
      "/cluster/gjb_lab/2394007/miniconda/envs/deep_learning/lib/python3.10/site-packages/sklearn/neighbors/_classification.py:207: DataConversionWarning: A column-vector y was passed when a 1d array was expected. Please change the shape of y to (n_samples,), for example using ravel().\n",
      "  return self._fit(X, y)\n"
     ]
    },
    {
     "name": "stdout",
     "output_type": "stream",
     "text": [
      "17679896 228810485\n",
      "Restoring model weights from the end of the best epoch: 52.\n",
      "Epoch 152: early stopping\n",
      "Restoring model weights from the end of the best epoch: 1.\n",
      "Epoch 101: early stopping\n"
     ]
    },
    {
     "name": "stderr",
     "output_type": "stream",
     "text": [
      "/cluster/gjb_lab/2394007/miniconda/envs/deep_learning/lib/python3.10/site-packages/sklearn/neighbors/_classification.py:207: DataConversionWarning: A column-vector y was passed when a 1d array was expected. Please change the shape of y to (n_samples,), for example using ravel().\n",
      "  return self._fit(X, y)\n",
      "/cluster/gjb_lab/2394007/miniconda/envs/deep_learning/lib/python3.10/site-packages/sklearn/neighbors/_classification.py:207: DataConversionWarning: A column-vector y was passed when a 1d array was expected. Please change the shape of y to (n_samples,), for example using ravel().\n",
      "  return self._fit(X, y)\n"
     ]
    },
    {
     "name": "stdout",
     "output_type": "stream",
     "text": [
      "742827526 961371674\n",
      "Restoring model weights from the end of the best epoch: 29.\n",
      "Epoch 129: early stopping\n",
      "Restoring model weights from the end of the best epoch: 69.\n",
      "Epoch 169: early stopping\n"
     ]
    },
    {
     "name": "stderr",
     "output_type": "stream",
     "text": [
      "/cluster/gjb_lab/2394007/miniconda/envs/deep_learning/lib/python3.10/site-packages/sklearn/neighbors/_classification.py:207: DataConversionWarning: A column-vector y was passed when a 1d array was expected. Please change the shape of y to (n_samples,), for example using ravel().\n",
      "  return self._fit(X, y)\n",
      "/cluster/gjb_lab/2394007/miniconda/envs/deep_learning/lib/python3.10/site-packages/sklearn/neighbors/_classification.py:207: DataConversionWarning: A column-vector y was passed when a 1d array was expected. Please change the shape of y to (n_samples,), for example using ravel().\n",
      "  return self._fit(X, y)\n"
     ]
    },
    {
     "name": "stdout",
     "output_type": "stream",
     "text": [
      "670278442 35874491\n",
      "Restoring model weights from the end of the best epoch: 75.\n",
      "Epoch 175: early stopping\n",
      "Restoring model weights from the end of the best epoch: 86.\n",
      "Epoch 186: early stopping\n"
     ]
    },
    {
     "name": "stderr",
     "output_type": "stream",
     "text": [
      "/cluster/gjb_lab/2394007/miniconda/envs/deep_learning/lib/python3.10/site-packages/sklearn/neighbors/_classification.py:207: DataConversionWarning: A column-vector y was passed when a 1d array was expected. Please change the shape of y to (n_samples,), for example using ravel().\n",
      "  return self._fit(X, y)\n",
      "/cluster/gjb_lab/2394007/miniconda/envs/deep_learning/lib/python3.10/site-packages/sklearn/neighbors/_classification.py:207: DataConversionWarning: A column-vector y was passed when a 1d array was expected. Please change the shape of y to (n_samples,), for example using ravel().\n",
      "  return self._fit(X, y)\n"
     ]
    },
    {
     "name": "stdout",
     "output_type": "stream",
     "text": [
      "633135123 652010711\n",
      "Restoring model weights from the end of the best epoch: 43.\n",
      "Epoch 143: early stopping\n",
      "Restoring model weights from the end of the best epoch: 1.\n",
      "Epoch 101: early stopping\n"
     ]
    },
    {
     "name": "stderr",
     "output_type": "stream",
     "text": [
      "/cluster/gjb_lab/2394007/miniconda/envs/deep_learning/lib/python3.10/site-packages/sklearn/neighbors/_classification.py:207: DataConversionWarning: A column-vector y was passed when a 1d array was expected. Please change the shape of y to (n_samples,), for example using ravel().\n",
      "  return self._fit(X, y)\n",
      "/cluster/gjb_lab/2394007/miniconda/envs/deep_learning/lib/python3.10/site-packages/sklearn/neighbors/_classification.py:207: DataConversionWarning: A column-vector y was passed when a 1d array was expected. Please change the shape of y to (n_samples,), for example using ravel().\n",
      "  return self._fit(X, y)\n"
     ]
    },
    {
     "name": "stdout",
     "output_type": "stream",
     "text": [
      "450170541 584435019\n",
      "Restoring model weights from the end of the best epoch: 58.\n",
      "Epoch 158: early stopping\n",
      "Restoring model weights from the end of the best epoch: 2.\n",
      "Epoch 102: early stopping\n"
     ]
    },
    {
     "name": "stderr",
     "output_type": "stream",
     "text": [
      "/cluster/gjb_lab/2394007/miniconda/envs/deep_learning/lib/python3.10/site-packages/sklearn/neighbors/_classification.py:207: DataConversionWarning: A column-vector y was passed when a 1d array was expected. Please change the shape of y to (n_samples,), for example using ravel().\n",
      "  return self._fit(X, y)\n",
      "/cluster/gjb_lab/2394007/miniconda/envs/deep_learning/lib/python3.10/site-packages/sklearn/neighbors/_classification.py:207: DataConversionWarning: A column-vector y was passed when a 1d array was expected. Please change the shape of y to (n_samples,), for example using ravel().\n",
      "  return self._fit(X, y)\n"
     ]
    },
    {
     "name": "stdout",
     "output_type": "stream",
     "text": [
      "751893203 140951099\n",
      "Restoring model weights from the end of the best epoch: 121.\n",
      "Epoch 221: early stopping\n",
      "Restoring model weights from the end of the best epoch: 45.\n",
      "Epoch 145: early stopping\n"
     ]
    },
    {
     "name": "stderr",
     "output_type": "stream",
     "text": [
      "/cluster/gjb_lab/2394007/miniconda/envs/deep_learning/lib/python3.10/site-packages/sklearn/neighbors/_classification.py:207: DataConversionWarning: A column-vector y was passed when a 1d array was expected. Please change the shape of y to (n_samples,), for example using ravel().\n",
      "  return self._fit(X, y)\n",
      "/cluster/gjb_lab/2394007/miniconda/envs/deep_learning/lib/python3.10/site-packages/sklearn/neighbors/_classification.py:207: DataConversionWarning: A column-vector y was passed when a 1d array was expected. Please change the shape of y to (n_samples,), for example using ravel().\n",
      "  return self._fit(X, y)\n"
     ]
    },
    {
     "name": "stdout",
     "output_type": "stream",
     "text": [
      "841883367 46166933\n",
      "Restoring model weights from the end of the best epoch: 80.\n",
      "Epoch 180: early stopping\n",
      "Restoring model weights from the end of the best epoch: 32.\n",
      "Epoch 132: early stopping\n"
     ]
    },
    {
     "name": "stderr",
     "output_type": "stream",
     "text": [
      "/cluster/gjb_lab/2394007/miniconda/envs/deep_learning/lib/python3.10/site-packages/sklearn/neighbors/_classification.py:207: DataConversionWarning: A column-vector y was passed when a 1d array was expected. Please change the shape of y to (n_samples,), for example using ravel().\n",
      "  return self._fit(X, y)\n",
      "/cluster/gjb_lab/2394007/miniconda/envs/deep_learning/lib/python3.10/site-packages/sklearn/neighbors/_classification.py:207: DataConversionWarning: A column-vector y was passed when a 1d array was expected. Please change the shape of y to (n_samples,), for example using ravel().\n",
      "  return self._fit(X, y)\n"
     ]
    },
    {
     "name": "stdout",
     "output_type": "stream",
     "text": [
      "252796019 779059939\n",
      "Restoring model weights from the end of the best epoch: 57.\n",
      "Epoch 157: early stopping\n",
      "Restoring model weights from the end of the best epoch: 41.\n",
      "Epoch 141: early stopping\n"
     ]
    },
    {
     "name": "stderr",
     "output_type": "stream",
     "text": [
      "/cluster/gjb_lab/2394007/miniconda/envs/deep_learning/lib/python3.10/site-packages/sklearn/neighbors/_classification.py:207: DataConversionWarning: A column-vector y was passed when a 1d array was expected. Please change the shape of y to (n_samples,), for example using ravel().\n",
      "  return self._fit(X, y)\n",
      "/cluster/gjb_lab/2394007/miniconda/envs/deep_learning/lib/python3.10/site-packages/sklearn/neighbors/_classification.py:207: DataConversionWarning: A column-vector y was passed when a 1d array was expected. Please change the shape of y to (n_samples,), for example using ravel().\n",
      "  return self._fit(X, y)\n"
     ]
    },
    {
     "name": "stdout",
     "output_type": "stream",
     "text": [
      "992641751 580601684\n",
      "Restoring model weights from the end of the best epoch: 44.\n",
      "Epoch 144: early stopping\n",
      "Restoring model weights from the end of the best epoch: 2.\n",
      "Epoch 102: early stopping\n"
     ]
    },
    {
     "name": "stderr",
     "output_type": "stream",
     "text": [
      "/cluster/gjb_lab/2394007/miniconda/envs/deep_learning/lib/python3.10/site-packages/sklearn/neighbors/_classification.py:207: DataConversionWarning: A column-vector y was passed when a 1d array was expected. Please change the shape of y to (n_samples,), for example using ravel().\n",
      "  return self._fit(X, y)\n",
      "/cluster/gjb_lab/2394007/miniconda/envs/deep_learning/lib/python3.10/site-packages/sklearn/neighbors/_classification.py:207: DataConversionWarning: A column-vector y was passed when a 1d array was expected. Please change the shape of y to (n_samples,), for example using ravel().\n",
      "  return self._fit(X, y)\n"
     ]
    },
    {
     "name": "stdout",
     "output_type": "stream",
     "text": [
      "89266177 965280829\n",
      "Restoring model weights from the end of the best epoch: 26.\n",
      "Epoch 126: early stopping\n",
      "Restoring model weights from the end of the best epoch: 81.\n",
      "Epoch 181: early stopping\n"
     ]
    },
    {
     "name": "stderr",
     "output_type": "stream",
     "text": [
      "/cluster/gjb_lab/2394007/miniconda/envs/deep_learning/lib/python3.10/site-packages/sklearn/neighbors/_classification.py:207: DataConversionWarning: A column-vector y was passed when a 1d array was expected. Please change the shape of y to (n_samples,), for example using ravel().\n",
      "  return self._fit(X, y)\n",
      "/cluster/gjb_lab/2394007/miniconda/envs/deep_learning/lib/python3.10/site-packages/sklearn/neighbors/_classification.py:207: DataConversionWarning: A column-vector y was passed when a 1d array was expected. Please change the shape of y to (n_samples,), for example using ravel().\n",
      "  return self._fit(X, y)\n"
     ]
    },
    {
     "name": "stdout",
     "output_type": "stream",
     "text": [
      "109602386 585942742\n",
      "Restoring model weights from the end of the best epoch: 177.\n",
      "Epoch 277: early stopping\n",
      "Restoring model weights from the end of the best epoch: 1.\n",
      "Epoch 101: early stopping\n"
     ]
    },
    {
     "name": "stderr",
     "output_type": "stream",
     "text": [
      "/cluster/gjb_lab/2394007/miniconda/envs/deep_learning/lib/python3.10/site-packages/sklearn/neighbors/_classification.py:207: DataConversionWarning: A column-vector y was passed when a 1d array was expected. Please change the shape of y to (n_samples,), for example using ravel().\n",
      "  return self._fit(X, y)\n",
      "/cluster/gjb_lab/2394007/miniconda/envs/deep_learning/lib/python3.10/site-packages/sklearn/neighbors/_classification.py:207: DataConversionWarning: A column-vector y was passed when a 1d array was expected. Please change the shape of y to (n_samples,), for example using ravel().\n",
      "  return self._fit(X, y)\n"
     ]
    },
    {
     "name": "stdout",
     "output_type": "stream",
     "text": [
      "206255673 818138888\n",
      "Restoring model weights from the end of the best epoch: 199.\n",
      "Epoch 299: early stopping\n",
      "Restoring model weights from the end of the best epoch: 1.\n",
      "Epoch 101: early stopping\n"
     ]
    },
    {
     "name": "stderr",
     "output_type": "stream",
     "text": [
      "/cluster/gjb_lab/2394007/miniconda/envs/deep_learning/lib/python3.10/site-packages/sklearn/neighbors/_classification.py:207: DataConversionWarning: A column-vector y was passed when a 1d array was expected. Please change the shape of y to (n_samples,), for example using ravel().\n",
      "  return self._fit(X, y)\n",
      "/cluster/gjb_lab/2394007/miniconda/envs/deep_learning/lib/python3.10/site-packages/sklearn/neighbors/_classification.py:207: DataConversionWarning: A column-vector y was passed when a 1d array was expected. Please change the shape of y to (n_samples,), for example using ravel().\n",
      "  return self._fit(X, y)\n"
     ]
    },
    {
     "name": "stdout",
     "output_type": "stream",
     "text": [
      "523171552 953089310\n",
      "Restoring model weights from the end of the best epoch: 52.\n",
      "Epoch 152: early stopping\n",
      "Restoring model weights from the end of the best epoch: 115.\n",
      "Epoch 215: early stopping\n"
     ]
    },
    {
     "name": "stderr",
     "output_type": "stream",
     "text": [
      "/cluster/gjb_lab/2394007/miniconda/envs/deep_learning/lib/python3.10/site-packages/sklearn/neighbors/_classification.py:207: DataConversionWarning: A column-vector y was passed when a 1d array was expected. Please change the shape of y to (n_samples,), for example using ravel().\n",
      "  return self._fit(X, y)\n",
      "/cluster/gjb_lab/2394007/miniconda/envs/deep_learning/lib/python3.10/site-packages/sklearn/neighbors/_classification.py:207: DataConversionWarning: A column-vector y was passed when a 1d array was expected. Please change the shape of y to (n_samples,), for example using ravel().\n",
      "  return self._fit(X, y)\n"
     ]
    },
    {
     "name": "stdout",
     "output_type": "stream",
     "text": [
      "631970593 559626635\n",
      "Restoring model weights from the end of the best epoch: 83.\n",
      "Epoch 183: early stopping\n",
      "Restoring model weights from the end of the best epoch: 15.\n",
      "Epoch 115: early stopping\n"
     ]
    },
    {
     "name": "stderr",
     "output_type": "stream",
     "text": [
      "/cluster/gjb_lab/2394007/miniconda/envs/deep_learning/lib/python3.10/site-packages/sklearn/neighbors/_classification.py:207: DataConversionWarning: A column-vector y was passed when a 1d array was expected. Please change the shape of y to (n_samples,), for example using ravel().\n",
      "  return self._fit(X, y)\n",
      "/cluster/gjb_lab/2394007/miniconda/envs/deep_learning/lib/python3.10/site-packages/sklearn/neighbors/_classification.py:207: DataConversionWarning: A column-vector y was passed when a 1d array was expected. Please change the shape of y to (n_samples,), for example using ravel().\n",
      "  return self._fit(X, y)\n"
     ]
    },
    {
     "name": "stdout",
     "output_type": "stream",
     "text": [
      "390146467 61063090\n",
      "Restoring model weights from the end of the best epoch: 62.\n",
      "Epoch 162: early stopping\n",
      "Restoring model weights from the end of the best epoch: 3.\n",
      "Epoch 103: early stopping\n"
     ]
    },
    {
     "name": "stderr",
     "output_type": "stream",
     "text": [
      "/cluster/gjb_lab/2394007/miniconda/envs/deep_learning/lib/python3.10/site-packages/sklearn/neighbors/_classification.py:207: DataConversionWarning: A column-vector y was passed when a 1d array was expected. Please change the shape of y to (n_samples,), for example using ravel().\n",
      "  return self._fit(X, y)\n",
      "/cluster/gjb_lab/2394007/miniconda/envs/deep_learning/lib/python3.10/site-packages/sklearn/neighbors/_classification.py:207: DataConversionWarning: A column-vector y was passed when a 1d array was expected. Please change the shape of y to (n_samples,), for example using ravel().\n",
      "  return self._fit(X, y)\n"
     ]
    },
    {
     "name": "stdout",
     "output_type": "stream",
     "text": [
      "735749473 629257394\n",
      "Restoring model weights from the end of the best epoch: 173.\n",
      "Epoch 273: early stopping\n",
      "Restoring model weights from the end of the best epoch: 59.\n",
      "Epoch 159: early stopping\n"
     ]
    },
    {
     "name": "stderr",
     "output_type": "stream",
     "text": [
      "/cluster/gjb_lab/2394007/miniconda/envs/deep_learning/lib/python3.10/site-packages/sklearn/neighbors/_classification.py:207: DataConversionWarning: A column-vector y was passed when a 1d array was expected. Please change the shape of y to (n_samples,), for example using ravel().\n",
      "  return self._fit(X, y)\n",
      "/cluster/gjb_lab/2394007/miniconda/envs/deep_learning/lib/python3.10/site-packages/sklearn/neighbors/_classification.py:207: DataConversionWarning: A column-vector y was passed when a 1d array was expected. Please change the shape of y to (n_samples,), for example using ravel().\n",
      "  return self._fit(X, y)\n"
     ]
    },
    {
     "name": "stdout",
     "output_type": "stream",
     "text": [
      "738545213 488941273\n",
      "Restoring model weights from the end of the best epoch: 23.\n",
      "Epoch 123: early stopping\n",
      "Restoring model weights from the end of the best epoch: 84.\n",
      "Epoch 184: early stopping\n"
     ]
    },
    {
     "name": "stderr",
     "output_type": "stream",
     "text": [
      "/cluster/gjb_lab/2394007/miniconda/envs/deep_learning/lib/python3.10/site-packages/sklearn/neighbors/_classification.py:207: DataConversionWarning: A column-vector y was passed when a 1d array was expected. Please change the shape of y to (n_samples,), for example using ravel().\n",
      "  return self._fit(X, y)\n",
      "/cluster/gjb_lab/2394007/miniconda/envs/deep_learning/lib/python3.10/site-packages/sklearn/neighbors/_classification.py:207: DataConversionWarning: A column-vector y was passed when a 1d array was expected. Please change the shape of y to (n_samples,), for example using ravel().\n",
      "  return self._fit(X, y)\n"
     ]
    },
    {
     "name": "stdout",
     "output_type": "stream",
     "text": [
      "101540424 520394506\n",
      "Restoring model weights from the end of the best epoch: 121.\n",
      "Epoch 221: early stopping\n",
      "Restoring model weights from the end of the best epoch: 5.\n",
      "Epoch 105: early stopping\n"
     ]
    },
    {
     "name": "stderr",
     "output_type": "stream",
     "text": [
      "/cluster/gjb_lab/2394007/miniconda/envs/deep_learning/lib/python3.10/site-packages/sklearn/neighbors/_classification.py:207: DataConversionWarning: A column-vector y was passed when a 1d array was expected. Please change the shape of y to (n_samples,), for example using ravel().\n",
      "  return self._fit(X, y)\n",
      "/cluster/gjb_lab/2394007/miniconda/envs/deep_learning/lib/python3.10/site-packages/sklearn/neighbors/_classification.py:207: DataConversionWarning: A column-vector y was passed when a 1d array was expected. Please change the shape of y to (n_samples,), for example using ravel().\n",
      "  return self._fit(X, y)\n"
     ]
    },
    {
     "name": "stdout",
     "output_type": "stream",
     "text": [
      "974973459 354562266\n",
      "Restoring model weights from the end of the best epoch: 50.\n",
      "Epoch 150: early stopping\n",
      "Restoring model weights from the end of the best epoch: 22.\n",
      "Epoch 122: early stopping\n"
     ]
    },
    {
     "name": "stderr",
     "output_type": "stream",
     "text": [
      "/cluster/gjb_lab/2394007/miniconda/envs/deep_learning/lib/python3.10/site-packages/sklearn/neighbors/_classification.py:207: DataConversionWarning: A column-vector y was passed when a 1d array was expected. Please change the shape of y to (n_samples,), for example using ravel().\n",
      "  return self._fit(X, y)\n",
      "/cluster/gjb_lab/2394007/miniconda/envs/deep_learning/lib/python3.10/site-packages/sklearn/neighbors/_classification.py:207: DataConversionWarning: A column-vector y was passed when a 1d array was expected. Please change the shape of y to (n_samples,), for example using ravel().\n",
      "  return self._fit(X, y)\n"
     ]
    },
    {
     "name": "stdout",
     "output_type": "stream",
     "text": [
      "883005844 186886115\n",
      "Restoring model weights from the end of the best epoch: 28.\n",
      "Epoch 128: early stopping\n",
      "Restoring model weights from the end of the best epoch: 7.\n",
      "Epoch 107: early stopping\n"
     ]
    },
    {
     "name": "stderr",
     "output_type": "stream",
     "text": [
      "/cluster/gjb_lab/2394007/miniconda/envs/deep_learning/lib/python3.10/site-packages/sklearn/neighbors/_classification.py:207: DataConversionWarning: A column-vector y was passed when a 1d array was expected. Please change the shape of y to (n_samples,), for example using ravel().\n",
      "  return self._fit(X, y)\n",
      "/cluster/gjb_lab/2394007/miniconda/envs/deep_learning/lib/python3.10/site-packages/sklearn/neighbors/_classification.py:207: DataConversionWarning: A column-vector y was passed when a 1d array was expected. Please change the shape of y to (n_samples,), for example using ravel().\n",
      "  return self._fit(X, y)\n"
     ]
    },
    {
     "name": "stdout",
     "output_type": "stream",
     "text": [
      "484503997 386486896\n",
      "Restoring model weights from the end of the best epoch: 76.\n",
      "Epoch 176: early stopping\n",
      "Restoring model weights from the end of the best epoch: 3.\n",
      "Epoch 103: early stopping\n"
     ]
    },
    {
     "name": "stderr",
     "output_type": "stream",
     "text": [
      "/cluster/gjb_lab/2394007/miniconda/envs/deep_learning/lib/python3.10/site-packages/sklearn/neighbors/_classification.py:207: DataConversionWarning: A column-vector y was passed when a 1d array was expected. Please change the shape of y to (n_samples,), for example using ravel().\n",
      "  return self._fit(X, y)\n",
      "/cluster/gjb_lab/2394007/miniconda/envs/deep_learning/lib/python3.10/site-packages/sklearn/neighbors/_classification.py:207: DataConversionWarning: A column-vector y was passed when a 1d array was expected. Please change the shape of y to (n_samples,), for example using ravel().\n",
      "  return self._fit(X, y)\n"
     ]
    },
    {
     "name": "stdout",
     "output_type": "stream",
     "text": [
      "610434092 446924464\n",
      "Restoring model weights from the end of the best epoch: 68.\n",
      "Epoch 168: early stopping\n",
      "Restoring model weights from the end of the best epoch: 47.\n",
      "Epoch 147: early stopping\n"
     ]
    },
    {
     "name": "stderr",
     "output_type": "stream",
     "text": [
      "/cluster/gjb_lab/2394007/miniconda/envs/deep_learning/lib/python3.10/site-packages/sklearn/neighbors/_classification.py:207: DataConversionWarning: A column-vector y was passed when a 1d array was expected. Please change the shape of y to (n_samples,), for example using ravel().\n",
      "  return self._fit(X, y)\n",
      "/cluster/gjb_lab/2394007/miniconda/envs/deep_learning/lib/python3.10/site-packages/sklearn/neighbors/_classification.py:207: DataConversionWarning: A column-vector y was passed when a 1d array was expected. Please change the shape of y to (n_samples,), for example using ravel().\n",
      "  return self._fit(X, y)\n"
     ]
    },
    {
     "name": "stdout",
     "output_type": "stream",
     "text": [
      "587727316 890889307\n",
      "Restoring model weights from the end of the best epoch: 83.\n",
      "Epoch 183: early stopping\n",
      "Restoring model weights from the end of the best epoch: 24.\n",
      "Epoch 124: early stopping\n"
     ]
    },
    {
     "name": "stderr",
     "output_type": "stream",
     "text": [
      "/cluster/gjb_lab/2394007/miniconda/envs/deep_learning/lib/python3.10/site-packages/sklearn/neighbors/_classification.py:207: DataConversionWarning: A column-vector y was passed when a 1d array was expected. Please change the shape of y to (n_samples,), for example using ravel().\n",
      "  return self._fit(X, y)\n",
      "/cluster/gjb_lab/2394007/miniconda/envs/deep_learning/lib/python3.10/site-packages/sklearn/neighbors/_classification.py:207: DataConversionWarning: A column-vector y was passed when a 1d array was expected. Please change the shape of y to (n_samples,), for example using ravel().\n",
      "  return self._fit(X, y)\n"
     ]
    },
    {
     "name": "stdout",
     "output_type": "stream",
     "text": [
      "549070142 187317422\n",
      "Restoring model weights from the end of the best epoch: 100.\n",
      "Epoch 200: early stopping\n",
      "Restoring model weights from the end of the best epoch: 3.\n",
      "Epoch 103: early stopping\n"
     ]
    },
    {
     "name": "stderr",
     "output_type": "stream",
     "text": [
      "/cluster/gjb_lab/2394007/miniconda/envs/deep_learning/lib/python3.10/site-packages/sklearn/neighbors/_classification.py:207: DataConversionWarning: A column-vector y was passed when a 1d array was expected. Please change the shape of y to (n_samples,), for example using ravel().\n",
      "  return self._fit(X, y)\n",
      "/cluster/gjb_lab/2394007/miniconda/envs/deep_learning/lib/python3.10/site-packages/sklearn/neighbors/_classification.py:207: DataConversionWarning: A column-vector y was passed when a 1d array was expected. Please change the shape of y to (n_samples,), for example using ravel().\n",
      "  return self._fit(X, y)\n"
     ]
    },
    {
     "name": "stdout",
     "output_type": "stream",
     "text": [
      "429311612 883743910\n",
      "Restoring model weights from the end of the best epoch: 46.\n",
      "Epoch 146: early stopping\n",
      "Restoring model weights from the end of the best epoch: 3.\n",
      "Epoch 103: early stopping\n"
     ]
    },
    {
     "name": "stderr",
     "output_type": "stream",
     "text": [
      "/cluster/gjb_lab/2394007/miniconda/envs/deep_learning/lib/python3.10/site-packages/sklearn/neighbors/_classification.py:207: DataConversionWarning: A column-vector y was passed when a 1d array was expected. Please change the shape of y to (n_samples,), for example using ravel().\n",
      "  return self._fit(X, y)\n",
      "/cluster/gjb_lab/2394007/miniconda/envs/deep_learning/lib/python3.10/site-packages/sklearn/neighbors/_classification.py:207: DataConversionWarning: A column-vector y was passed when a 1d array was expected. Please change the shape of y to (n_samples,), for example using ravel().\n",
      "  return self._fit(X, y)\n"
     ]
    },
    {
     "name": "stdout",
     "output_type": "stream",
     "text": [
      "948100736 460771\n",
      "Restoring model weights from the end of the best epoch: 80.\n",
      "Epoch 180: early stopping\n",
      "Restoring model weights from the end of the best epoch: 131.\n",
      "Epoch 231: early stopping\n"
     ]
    },
    {
     "name": "stderr",
     "output_type": "stream",
     "text": [
      "/cluster/gjb_lab/2394007/miniconda/envs/deep_learning/lib/python3.10/site-packages/sklearn/neighbors/_classification.py:207: DataConversionWarning: A column-vector y was passed when a 1d array was expected. Please change the shape of y to (n_samples,), for example using ravel().\n",
      "  return self._fit(X, y)\n",
      "/cluster/gjb_lab/2394007/miniconda/envs/deep_learning/lib/python3.10/site-packages/sklearn/neighbors/_classification.py:207: DataConversionWarning: A column-vector y was passed when a 1d array was expected. Please change the shape of y to (n_samples,), for example using ravel().\n",
      "  return self._fit(X, y)\n"
     ]
    },
    {
     "name": "stdout",
     "output_type": "stream",
     "text": [
      "395401385 710527062\n",
      "Restoring model weights from the end of the best epoch: 68.\n",
      "Epoch 168: early stopping\n",
      "Restoring model weights from the end of the best epoch: 21.\n",
      "Epoch 121: early stopping\n"
     ]
    },
    {
     "name": "stderr",
     "output_type": "stream",
     "text": [
      "/cluster/gjb_lab/2394007/miniconda/envs/deep_learning/lib/python3.10/site-packages/sklearn/neighbors/_classification.py:207: DataConversionWarning: A column-vector y was passed when a 1d array was expected. Please change the shape of y to (n_samples,), for example using ravel().\n",
      "  return self._fit(X, y)\n",
      "/cluster/gjb_lab/2394007/miniconda/envs/deep_learning/lib/python3.10/site-packages/sklearn/neighbors/_classification.py:207: DataConversionWarning: A column-vector y was passed when a 1d array was expected. Please change the shape of y to (n_samples,), for example using ravel().\n",
      "  return self._fit(X, y)\n"
     ]
    },
    {
     "name": "stdout",
     "output_type": "stream",
     "text": [
      "502551167 454342498\n",
      "Restoring model weights from the end of the best epoch: 116.\n",
      "Epoch 216: early stopping\n",
      "Restoring model weights from the end of the best epoch: 20.\n",
      "Epoch 120: early stopping\n"
     ]
    },
    {
     "name": "stderr",
     "output_type": "stream",
     "text": [
      "/cluster/gjb_lab/2394007/miniconda/envs/deep_learning/lib/python3.10/site-packages/sklearn/neighbors/_classification.py:207: DataConversionWarning: A column-vector y was passed when a 1d array was expected. Please change the shape of y to (n_samples,), for example using ravel().\n",
      "  return self._fit(X, y)\n",
      "/cluster/gjb_lab/2394007/miniconda/envs/deep_learning/lib/python3.10/site-packages/sklearn/neighbors/_classification.py:207: DataConversionWarning: A column-vector y was passed when a 1d array was expected. Please change the shape of y to (n_samples,), for example using ravel().\n",
      "  return self._fit(X, y)\n"
     ]
    },
    {
     "name": "stdout",
     "output_type": "stream",
     "text": [
      "981128662 998954465\n",
      "Restoring model weights from the end of the best epoch: 65.\n",
      "Epoch 165: early stopping\n",
      "Restoring model weights from the end of the best epoch: 55.\n",
      "Epoch 155: early stopping\n"
     ]
    },
    {
     "name": "stderr",
     "output_type": "stream",
     "text": [
      "/cluster/gjb_lab/2394007/miniconda/envs/deep_learning/lib/python3.10/site-packages/sklearn/neighbors/_classification.py:207: DataConversionWarning: A column-vector y was passed when a 1d array was expected. Please change the shape of y to (n_samples,), for example using ravel().\n",
      "  return self._fit(X, y)\n",
      "/cluster/gjb_lab/2394007/miniconda/envs/deep_learning/lib/python3.10/site-packages/sklearn/neighbors/_classification.py:207: DataConversionWarning: A column-vector y was passed when a 1d array was expected. Please change the shape of y to (n_samples,), for example using ravel().\n",
      "  return self._fit(X, y)\n"
     ]
    },
    {
     "name": "stdout",
     "output_type": "stream",
     "text": [
      "607048393 968295627\n",
      "Restoring model weights from the end of the best epoch: 70.\n",
      "Epoch 170: early stopping\n",
      "Restoring model weights from the end of the best epoch: 6.\n",
      "Epoch 106: early stopping\n"
     ]
    },
    {
     "name": "stderr",
     "output_type": "stream",
     "text": [
      "/cluster/gjb_lab/2394007/miniconda/envs/deep_learning/lib/python3.10/site-packages/sklearn/neighbors/_classification.py:207: DataConversionWarning: A column-vector y was passed when a 1d array was expected. Please change the shape of y to (n_samples,), for example using ravel().\n",
      "  return self._fit(X, y)\n",
      "/cluster/gjb_lab/2394007/miniconda/envs/deep_learning/lib/python3.10/site-packages/sklearn/neighbors/_classification.py:207: DataConversionWarning: A column-vector y was passed when a 1d array was expected. Please change the shape of y to (n_samples,), for example using ravel().\n",
      "  return self._fit(X, y)\n"
     ]
    },
    {
     "name": "stdout",
     "output_type": "stream",
     "text": [
      "508417272 861343587\n",
      "Restoring model weights from the end of the best epoch: 42.\n",
      "Epoch 142: early stopping\n",
      "Restoring model weights from the end of the best epoch: 11.\n",
      "Epoch 111: early stopping\n"
     ]
    },
    {
     "name": "stderr",
     "output_type": "stream",
     "text": [
      "/cluster/gjb_lab/2394007/miniconda/envs/deep_learning/lib/python3.10/site-packages/sklearn/neighbors/_classification.py:207: DataConversionWarning: A column-vector y was passed when a 1d array was expected. Please change the shape of y to (n_samples,), for example using ravel().\n",
      "  return self._fit(X, y)\n",
      "/cluster/gjb_lab/2394007/miniconda/envs/deep_learning/lib/python3.10/site-packages/sklearn/neighbors/_classification.py:207: DataConversionWarning: A column-vector y was passed when a 1d array was expected. Please change the shape of y to (n_samples,), for example using ravel().\n",
      "  return self._fit(X, y)\n"
     ]
    },
    {
     "name": "stdout",
     "output_type": "stream",
     "text": [
      "568592548 813795908\n",
      "Restoring model weights from the end of the best epoch: 97.\n",
      "Epoch 197: early stopping\n",
      "Restoring model weights from the end of the best epoch: 117.\n",
      "Epoch 217: early stopping\n"
     ]
    },
    {
     "name": "stderr",
     "output_type": "stream",
     "text": [
      "/cluster/gjb_lab/2394007/miniconda/envs/deep_learning/lib/python3.10/site-packages/sklearn/neighbors/_classification.py:207: DataConversionWarning: A column-vector y was passed when a 1d array was expected. Please change the shape of y to (n_samples,), for example using ravel().\n",
      "  return self._fit(X, y)\n",
      "/cluster/gjb_lab/2394007/miniconda/envs/deep_learning/lib/python3.10/site-packages/sklearn/neighbors/_classification.py:207: DataConversionWarning: A column-vector y was passed when a 1d array was expected. Please change the shape of y to (n_samples,), for example using ravel().\n",
      "  return self._fit(X, y)\n"
     ]
    },
    {
     "name": "stdout",
     "output_type": "stream",
     "text": [
      "639027793 215615208\n",
      "Restoring model weights from the end of the best epoch: 161.\n",
      "Epoch 261: early stopping\n",
      "Restoring model weights from the end of the best epoch: 2.\n",
      "Epoch 102: early stopping\n"
     ]
    },
    {
     "name": "stderr",
     "output_type": "stream",
     "text": [
      "/cluster/gjb_lab/2394007/miniconda/envs/deep_learning/lib/python3.10/site-packages/sklearn/neighbors/_classification.py:207: DataConversionWarning: A column-vector y was passed when a 1d array was expected. Please change the shape of y to (n_samples,), for example using ravel().\n",
      "  return self._fit(X, y)\n",
      "/cluster/gjb_lab/2394007/miniconda/envs/deep_learning/lib/python3.10/site-packages/sklearn/neighbors/_classification.py:207: DataConversionWarning: A column-vector y was passed when a 1d array was expected. Please change the shape of y to (n_samples,), for example using ravel().\n",
      "  return self._fit(X, y)\n"
     ]
    },
    {
     "name": "stdout",
     "output_type": "stream",
     "text": [
      "579852931 993292572\n",
      "Restoring model weights from the end of the best epoch: 34.\n",
      "Epoch 134: early stopping\n",
      "Restoring model weights from the end of the best epoch: 22.\n",
      "Epoch 122: early stopping\n"
     ]
    },
    {
     "name": "stderr",
     "output_type": "stream",
     "text": [
      "/cluster/gjb_lab/2394007/miniconda/envs/deep_learning/lib/python3.10/site-packages/sklearn/neighbors/_classification.py:207: DataConversionWarning: A column-vector y was passed when a 1d array was expected. Please change the shape of y to (n_samples,), for example using ravel().\n",
      "  return self._fit(X, y)\n",
      "/cluster/gjb_lab/2394007/miniconda/envs/deep_learning/lib/python3.10/site-packages/sklearn/neighbors/_classification.py:207: DataConversionWarning: A column-vector y was passed when a 1d array was expected. Please change the shape of y to (n_samples,), for example using ravel().\n",
      "  return self._fit(X, y)\n"
     ]
    },
    {
     "name": "stdout",
     "output_type": "stream",
     "text": [
      "622695651 602332857\n",
      "Restoring model weights from the end of the best epoch: 60.\n",
      "Epoch 160: early stopping\n",
      "Restoring model weights from the end of the best epoch: 3.\n",
      "Epoch 103: early stopping\n"
     ]
    },
    {
     "name": "stderr",
     "output_type": "stream",
     "text": [
      "/cluster/gjb_lab/2394007/miniconda/envs/deep_learning/lib/python3.10/site-packages/sklearn/neighbors/_classification.py:207: DataConversionWarning: A column-vector y was passed when a 1d array was expected. Please change the shape of y to (n_samples,), for example using ravel().\n",
      "  return self._fit(X, y)\n",
      "/cluster/gjb_lab/2394007/miniconda/envs/deep_learning/lib/python3.10/site-packages/sklearn/neighbors/_classification.py:207: DataConversionWarning: A column-vector y was passed when a 1d array was expected. Please change the shape of y to (n_samples,), for example using ravel().\n",
      "  return self._fit(X, y)\n"
     ]
    },
    {
     "name": "stdout",
     "output_type": "stream",
     "text": [
      "908765602 630038878\n",
      "Restoring model weights from the end of the best epoch: 163.\n",
      "Epoch 263: early stopping\n",
      "Restoring model weights from the end of the best epoch: 1.\n",
      "Epoch 101: early stopping\n"
     ]
    },
    {
     "name": "stderr",
     "output_type": "stream",
     "text": [
      "/cluster/gjb_lab/2394007/miniconda/envs/deep_learning/lib/python3.10/site-packages/sklearn/neighbors/_classification.py:207: DataConversionWarning: A column-vector y was passed when a 1d array was expected. Please change the shape of y to (n_samples,), for example using ravel().\n",
      "  return self._fit(X, y)\n",
      "/cluster/gjb_lab/2394007/miniconda/envs/deep_learning/lib/python3.10/site-packages/sklearn/neighbors/_classification.py:207: DataConversionWarning: A column-vector y was passed when a 1d array was expected. Please change the shape of y to (n_samples,), for example using ravel().\n",
      "  return self._fit(X, y)\n"
     ]
    },
    {
     "name": "stdout",
     "output_type": "stream",
     "text": [
      "352636678 903162768\n",
      "Restoring model weights from the end of the best epoch: 90.\n",
      "Epoch 190: early stopping\n",
      "Restoring model weights from the end of the best epoch: 118.\n",
      "Epoch 218: early stopping\n"
     ]
    },
    {
     "name": "stderr",
     "output_type": "stream",
     "text": [
      "/cluster/gjb_lab/2394007/miniconda/envs/deep_learning/lib/python3.10/site-packages/sklearn/neighbors/_classification.py:207: DataConversionWarning: A column-vector y was passed when a 1d array was expected. Please change the shape of y to (n_samples,), for example using ravel().\n",
      "  return self._fit(X, y)\n",
      "/cluster/gjb_lab/2394007/miniconda/envs/deep_learning/lib/python3.10/site-packages/sklearn/neighbors/_classification.py:207: DataConversionWarning: A column-vector y was passed when a 1d array was expected. Please change the shape of y to (n_samples,), for example using ravel().\n",
      "  return self._fit(X, y)\n"
     ]
    },
    {
     "name": "stdout",
     "output_type": "stream",
     "text": [
      "822177140 943670640\n",
      "Restoring model weights from the end of the best epoch: 85.\n",
      "Epoch 185: early stopping\n",
      "Restoring model weights from the end of the best epoch: 8.\n",
      "Epoch 108: early stopping\n"
     ]
    },
    {
     "name": "stderr",
     "output_type": "stream",
     "text": [
      "/cluster/gjb_lab/2394007/miniconda/envs/deep_learning/lib/python3.10/site-packages/sklearn/neighbors/_classification.py:207: DataConversionWarning: A column-vector y was passed when a 1d array was expected. Please change the shape of y to (n_samples,), for example using ravel().\n",
      "  return self._fit(X, y)\n",
      "/cluster/gjb_lab/2394007/miniconda/envs/deep_learning/lib/python3.10/site-packages/sklearn/neighbors/_classification.py:207: DataConversionWarning: A column-vector y was passed when a 1d array was expected. Please change the shape of y to (n_samples,), for example using ravel().\n",
      "  return self._fit(X, y)\n"
     ]
    },
    {
     "name": "stdout",
     "output_type": "stream",
     "text": [
      "663432513 730934710\n",
      "Restoring model weights from the end of the best epoch: 119.\n",
      "Epoch 219: early stopping\n",
      "Restoring model weights from the end of the best epoch: 5.\n",
      "Epoch 105: early stopping\n"
     ]
    },
    {
     "name": "stderr",
     "output_type": "stream",
     "text": [
      "/cluster/gjb_lab/2394007/miniconda/envs/deep_learning/lib/python3.10/site-packages/sklearn/neighbors/_classification.py:207: DataConversionWarning: A column-vector y was passed when a 1d array was expected. Please change the shape of y to (n_samples,), for example using ravel().\n",
      "  return self._fit(X, y)\n",
      "/cluster/gjb_lab/2394007/miniconda/envs/deep_learning/lib/python3.10/site-packages/sklearn/neighbors/_classification.py:207: DataConversionWarning: A column-vector y was passed when a 1d array was expected. Please change the shape of y to (n_samples,), for example using ravel().\n",
      "  return self._fit(X, y)\n"
     ]
    },
    {
     "name": "stdout",
     "output_type": "stream",
     "text": [
      "589468421 476728924\n",
      "Restoring model weights from the end of the best epoch: 33.\n",
      "Epoch 133: early stopping\n",
      "Restoring model weights from the end of the best epoch: 2.\n",
      "Epoch 102: early stopping\n"
     ]
    },
    {
     "name": "stderr",
     "output_type": "stream",
     "text": [
      "/cluster/gjb_lab/2394007/miniconda/envs/deep_learning/lib/python3.10/site-packages/sklearn/neighbors/_classification.py:207: DataConversionWarning: A column-vector y was passed when a 1d array was expected. Please change the shape of y to (n_samples,), for example using ravel().\n",
      "  return self._fit(X, y)\n",
      "/cluster/gjb_lab/2394007/miniconda/envs/deep_learning/lib/python3.10/site-packages/sklearn/neighbors/_classification.py:207: DataConversionWarning: A column-vector y was passed when a 1d array was expected. Please change the shape of y to (n_samples,), for example using ravel().\n",
      "  return self._fit(X, y)\n"
     ]
    },
    {
     "name": "stdout",
     "output_type": "stream",
     "text": [
      "349123635 332050498\n",
      "Restoring model weights from the end of the best epoch: 84.\n",
      "Epoch 184: early stopping\n",
      "Restoring model weights from the end of the best epoch: 3.\n",
      "Epoch 103: early stopping\n"
     ]
    },
    {
     "name": "stderr",
     "output_type": "stream",
     "text": [
      "/cluster/gjb_lab/2394007/miniconda/envs/deep_learning/lib/python3.10/site-packages/sklearn/neighbors/_classification.py:207: DataConversionWarning: A column-vector y was passed when a 1d array was expected. Please change the shape of y to (n_samples,), for example using ravel().\n",
      "  return self._fit(X, y)\n",
      "/cluster/gjb_lab/2394007/miniconda/envs/deep_learning/lib/python3.10/site-packages/sklearn/neighbors/_classification.py:207: DataConversionWarning: A column-vector y was passed when a 1d array was expected. Please change the shape of y to (n_samples,), for example using ravel().\n",
      "  return self._fit(X, y)\n"
     ]
    },
    {
     "name": "stdout",
     "output_type": "stream",
     "text": [
      "439274144 726366381\n",
      "Restoring model weights from the end of the best epoch: 88.\n",
      "Epoch 188: early stopping\n",
      "Restoring model weights from the end of the best epoch: 8.\n",
      "Epoch 108: early stopping\n"
     ]
    },
    {
     "name": "stderr",
     "output_type": "stream",
     "text": [
      "/cluster/gjb_lab/2394007/miniconda/envs/deep_learning/lib/python3.10/site-packages/sklearn/neighbors/_classification.py:207: DataConversionWarning: A column-vector y was passed when a 1d array was expected. Please change the shape of y to (n_samples,), for example using ravel().\n",
      "  return self._fit(X, y)\n",
      "/cluster/gjb_lab/2394007/miniconda/envs/deep_learning/lib/python3.10/site-packages/sklearn/neighbors/_classification.py:207: DataConversionWarning: A column-vector y was passed when a 1d array was expected. Please change the shape of y to (n_samples,), for example using ravel().\n",
      "  return self._fit(X, y)\n"
     ]
    },
    {
     "name": "stdout",
     "output_type": "stream",
     "text": [
      "86374155 289752917\n",
      "Restoring model weights from the end of the best epoch: 173.\n",
      "Epoch 273: early stopping\n",
      "Restoring model weights from the end of the best epoch: 72.\n",
      "Epoch 172: early stopping\n"
     ]
    },
    {
     "name": "stderr",
     "output_type": "stream",
     "text": [
      "/cluster/gjb_lab/2394007/miniconda/envs/deep_learning/lib/python3.10/site-packages/sklearn/neighbors/_classification.py:207: DataConversionWarning: A column-vector y was passed when a 1d array was expected. Please change the shape of y to (n_samples,), for example using ravel().\n",
      "  return self._fit(X, y)\n",
      "/cluster/gjb_lab/2394007/miniconda/envs/deep_learning/lib/python3.10/site-packages/sklearn/neighbors/_classification.py:207: DataConversionWarning: A column-vector y was passed when a 1d array was expected. Please change the shape of y to (n_samples,), for example using ravel().\n",
      "  return self._fit(X, y)\n"
     ]
    },
    {
     "name": "stdout",
     "output_type": "stream",
     "text": [
      "781585331 603685681\n",
      "Restoring model weights from the end of the best epoch: 35.\n",
      "Epoch 135: early stopping\n",
      "Restoring model weights from the end of the best epoch: 98.\n",
      "Epoch 198: early stopping\n"
     ]
    },
    {
     "name": "stderr",
     "output_type": "stream",
     "text": [
      "/cluster/gjb_lab/2394007/miniconda/envs/deep_learning/lib/python3.10/site-packages/sklearn/neighbors/_classification.py:207: DataConversionWarning: A column-vector y was passed when a 1d array was expected. Please change the shape of y to (n_samples,), for example using ravel().\n",
      "  return self._fit(X, y)\n",
      "/cluster/gjb_lab/2394007/miniconda/envs/deep_learning/lib/python3.10/site-packages/sklearn/neighbors/_classification.py:207: DataConversionWarning: A column-vector y was passed when a 1d array was expected. Please change the shape of y to (n_samples,), for example using ravel().\n",
      "  return self._fit(X, y)\n"
     ]
    },
    {
     "name": "stdout",
     "output_type": "stream",
     "text": [
      "769086484 680489811\n",
      "Restoring model weights from the end of the best epoch: 121.\n",
      "Epoch 221: early stopping\n",
      "Restoring model weights from the end of the best epoch: 3.\n",
      "Epoch 103: early stopping\n"
     ]
    },
    {
     "name": "stderr",
     "output_type": "stream",
     "text": [
      "/cluster/gjb_lab/2394007/miniconda/envs/deep_learning/lib/python3.10/site-packages/sklearn/neighbors/_classification.py:207: DataConversionWarning: A column-vector y was passed when a 1d array was expected. Please change the shape of y to (n_samples,), for example using ravel().\n",
      "  return self._fit(X, y)\n",
      "/cluster/gjb_lab/2394007/miniconda/envs/deep_learning/lib/python3.10/site-packages/sklearn/neighbors/_classification.py:207: DataConversionWarning: A column-vector y was passed when a 1d array was expected. Please change the shape of y to (n_samples,), for example using ravel().\n",
      "  return self._fit(X, y)\n"
     ]
    },
    {
     "name": "stdout",
     "output_type": "stream",
     "text": [
      "396702087 161262102\n",
      "Restoring model weights from the end of the best epoch: 104.\n",
      "Epoch 204: early stopping\n",
      "Restoring model weights from the end of the best epoch: 4.\n",
      "Epoch 104: early stopping\n"
     ]
    },
    {
     "name": "stderr",
     "output_type": "stream",
     "text": [
      "/cluster/gjb_lab/2394007/miniconda/envs/deep_learning/lib/python3.10/site-packages/sklearn/neighbors/_classification.py:207: DataConversionWarning: A column-vector y was passed when a 1d array was expected. Please change the shape of y to (n_samples,), for example using ravel().\n",
      "  return self._fit(X, y)\n",
      "/cluster/gjb_lab/2394007/miniconda/envs/deep_learning/lib/python3.10/site-packages/sklearn/neighbors/_classification.py:207: DataConversionWarning: A column-vector y was passed when a 1d array was expected. Please change the shape of y to (n_samples,), for example using ravel().\n",
      "  return self._fit(X, y)\n"
     ]
    },
    {
     "name": "stdout",
     "output_type": "stream",
     "text": [
      "132852798 370963958\n",
      "Restoring model weights from the end of the best epoch: 33.\n",
      "Epoch 133: early stopping\n",
      "Restoring model weights from the end of the best epoch: 5.\n",
      "Epoch 105: early stopping\n"
     ]
    },
    {
     "name": "stderr",
     "output_type": "stream",
     "text": [
      "/cluster/gjb_lab/2394007/miniconda/envs/deep_learning/lib/python3.10/site-packages/sklearn/neighbors/_classification.py:207: DataConversionWarning: A column-vector y was passed when a 1d array was expected. Please change the shape of y to (n_samples,), for example using ravel().\n",
      "  return self._fit(X, y)\n",
      "/cluster/gjb_lab/2394007/miniconda/envs/deep_learning/lib/python3.10/site-packages/sklearn/neighbors/_classification.py:207: DataConversionWarning: A column-vector y was passed when a 1d array was expected. Please change the shape of y to (n_samples,), for example using ravel().\n",
      "  return self._fit(X, y)\n"
     ]
    },
    {
     "name": "stdout",
     "output_type": "stream",
     "text": [
      "550790803 869278599\n",
      "Restoring model weights from the end of the best epoch: 49.\n",
      "Epoch 149: early stopping\n",
      "Restoring model weights from the end of the best epoch: 61.\n",
      "Epoch 161: early stopping\n"
     ]
    },
    {
     "name": "stderr",
     "output_type": "stream",
     "text": [
      "/cluster/gjb_lab/2394007/miniconda/envs/deep_learning/lib/python3.10/site-packages/sklearn/neighbors/_classification.py:207: DataConversionWarning: A column-vector y was passed when a 1d array was expected. Please change the shape of y to (n_samples,), for example using ravel().\n",
      "  return self._fit(X, y)\n",
      "/cluster/gjb_lab/2394007/miniconda/envs/deep_learning/lib/python3.10/site-packages/sklearn/neighbors/_classification.py:207: DataConversionWarning: A column-vector y was passed when a 1d array was expected. Please change the shape of y to (n_samples,), for example using ravel().\n",
      "  return self._fit(X, y)\n"
     ]
    },
    {
     "name": "stdout",
     "output_type": "stream",
     "text": [
      "21130878 863933266\n",
      "Restoring model weights from the end of the best epoch: 78.\n",
      "Epoch 178: early stopping\n",
      "Restoring model weights from the end of the best epoch: 1.\n",
      "Epoch 101: early stopping\n"
     ]
    },
    {
     "name": "stderr",
     "output_type": "stream",
     "text": [
      "/cluster/gjb_lab/2394007/miniconda/envs/deep_learning/lib/python3.10/site-packages/sklearn/neighbors/_classification.py:207: DataConversionWarning: A column-vector y was passed when a 1d array was expected. Please change the shape of y to (n_samples,), for example using ravel().\n",
      "  return self._fit(X, y)\n",
      "/cluster/gjb_lab/2394007/miniconda/envs/deep_learning/lib/python3.10/site-packages/sklearn/neighbors/_classification.py:207: DataConversionWarning: A column-vector y was passed when a 1d array was expected. Please change the shape of y to (n_samples,), for example using ravel().\n",
      "  return self._fit(X, y)\n"
     ]
    },
    {
     "name": "stdout",
     "output_type": "stream",
     "text": [
      "539142270 564663340\n",
      "Restoring model weights from the end of the best epoch: 103.\n",
      "Epoch 203: early stopping\n",
      "Restoring model weights from the end of the best epoch: 30.\n",
      "Epoch 130: early stopping\n"
     ]
    },
    {
     "name": "stderr",
     "output_type": "stream",
     "text": [
      "/cluster/gjb_lab/2394007/miniconda/envs/deep_learning/lib/python3.10/site-packages/sklearn/neighbors/_classification.py:207: DataConversionWarning: A column-vector y was passed when a 1d array was expected. Please change the shape of y to (n_samples,), for example using ravel().\n",
      "  return self._fit(X, y)\n",
      "/cluster/gjb_lab/2394007/miniconda/envs/deep_learning/lib/python3.10/site-packages/sklearn/neighbors/_classification.py:207: DataConversionWarning: A column-vector y was passed when a 1d array was expected. Please change the shape of y to (n_samples,), for example using ravel().\n",
      "  return self._fit(X, y)\n"
     ]
    },
    {
     "name": "stdout",
     "output_type": "stream",
     "text": [
      "866932337 62649478\n",
      "Restoring model weights from the end of the best epoch: 94.\n",
      "Epoch 194: early stopping\n",
      "Restoring model weights from the end of the best epoch: 127.\n",
      "Epoch 227: early stopping\n"
     ]
    },
    {
     "name": "stderr",
     "output_type": "stream",
     "text": [
      "/cluster/gjb_lab/2394007/miniconda/envs/deep_learning/lib/python3.10/site-packages/sklearn/neighbors/_classification.py:207: DataConversionWarning: A column-vector y was passed when a 1d array was expected. Please change the shape of y to (n_samples,), for example using ravel().\n",
      "  return self._fit(X, y)\n",
      "/cluster/gjb_lab/2394007/miniconda/envs/deep_learning/lib/python3.10/site-packages/sklearn/neighbors/_classification.py:207: DataConversionWarning: A column-vector y was passed when a 1d array was expected. Please change the shape of y to (n_samples,), for example using ravel().\n",
      "  return self._fit(X, y)\n"
     ]
    },
    {
     "name": "stdout",
     "output_type": "stream",
     "text": [
      "674940257 280709802\n",
      "Restoring model weights from the end of the best epoch: 123.\n",
      "Epoch 223: early stopping\n",
      "Restoring model weights from the end of the best epoch: 16.\n",
      "Epoch 116: early stopping\n"
     ]
    },
    {
     "name": "stderr",
     "output_type": "stream",
     "text": [
      "/cluster/gjb_lab/2394007/miniconda/envs/deep_learning/lib/python3.10/site-packages/sklearn/neighbors/_classification.py:207: DataConversionWarning: A column-vector y was passed when a 1d array was expected. Please change the shape of y to (n_samples,), for example using ravel().\n",
      "  return self._fit(X, y)\n",
      "/cluster/gjb_lab/2394007/miniconda/envs/deep_learning/lib/python3.10/site-packages/sklearn/neighbors/_classification.py:207: DataConversionWarning: A column-vector y was passed when a 1d array was expected. Please change the shape of y to (n_samples,), for example using ravel().\n",
      "  return self._fit(X, y)\n"
     ]
    },
    {
     "name": "stdout",
     "output_type": "stream",
     "text": [
      "496042818 925934020\n",
      "Restoring model weights from the end of the best epoch: 4.\n",
      "Epoch 104: early stopping\n"
     ]
    },
    {
     "name": "stderr",
     "output_type": "stream",
     "text": [
      "/cluster/gjb_lab/2394007/miniconda/envs/deep_learning/lib/python3.10/site-packages/sklearn/neighbors/_classification.py:207: DataConversionWarning: A column-vector y was passed when a 1d array was expected. Please change the shape of y to (n_samples,), for example using ravel().\n",
      "  return self._fit(X, y)\n",
      "/cluster/gjb_lab/2394007/miniconda/envs/deep_learning/lib/python3.10/site-packages/sklearn/neighbors/_classification.py:207: DataConversionWarning: A column-vector y was passed when a 1d array was expected. Please change the shape of y to (n_samples,), for example using ravel().\n",
      "  return self._fit(X, y)\n"
     ]
    },
    {
     "name": "stdout",
     "output_type": "stream",
     "text": [
      "349076223 185661442\n",
      "Restoring model weights from the end of the best epoch: 33.\n",
      "Epoch 133: early stopping\n",
      "Restoring model weights from the end of the best epoch: 26.\n",
      "Epoch 126: early stopping\n"
     ]
    },
    {
     "name": "stderr",
     "output_type": "stream",
     "text": [
      "/cluster/gjb_lab/2394007/miniconda/envs/deep_learning/lib/python3.10/site-packages/sklearn/neighbors/_classification.py:207: DataConversionWarning: A column-vector y was passed when a 1d array was expected. Please change the shape of y to (n_samples,), for example using ravel().\n",
      "  return self._fit(X, y)\n",
      "/cluster/gjb_lab/2394007/miniconda/envs/deep_learning/lib/python3.10/site-packages/sklearn/neighbors/_classification.py:207: DataConversionWarning: A column-vector y was passed when a 1d array was expected. Please change the shape of y to (n_samples,), for example using ravel().\n",
      "  return self._fit(X, y)\n"
     ]
    },
    {
     "name": "stdout",
     "output_type": "stream",
     "text": [
      "29223132 370207204\n",
      "Restoring model weights from the end of the best epoch: 66.\n",
      "Epoch 166: early stopping\n",
      "Restoring model weights from the end of the best epoch: 49.\n",
      "Epoch 149: early stopping\n"
     ]
    },
    {
     "name": "stderr",
     "output_type": "stream",
     "text": [
      "/cluster/gjb_lab/2394007/miniconda/envs/deep_learning/lib/python3.10/site-packages/sklearn/neighbors/_classification.py:207: DataConversionWarning: A column-vector y was passed when a 1d array was expected. Please change the shape of y to (n_samples,), for example using ravel().\n",
      "  return self._fit(X, y)\n",
      "/cluster/gjb_lab/2394007/miniconda/envs/deep_learning/lib/python3.10/site-packages/sklearn/neighbors/_classification.py:207: DataConversionWarning: A column-vector y was passed when a 1d array was expected. Please change the shape of y to (n_samples,), for example using ravel().\n",
      "  return self._fit(X, y)\n"
     ]
    },
    {
     "name": "stdout",
     "output_type": "stream",
     "text": [
      "311219788 519198252\n",
      "Restoring model weights from the end of the best epoch: 112.\n",
      "Epoch 212: early stopping\n",
      "Restoring model weights from the end of the best epoch: 3.\n",
      "Epoch 103: early stopping\n"
     ]
    },
    {
     "name": "stderr",
     "output_type": "stream",
     "text": [
      "/cluster/gjb_lab/2394007/miniconda/envs/deep_learning/lib/python3.10/site-packages/sklearn/neighbors/_classification.py:207: DataConversionWarning: A column-vector y was passed when a 1d array was expected. Please change the shape of y to (n_samples,), for example using ravel().\n",
      "  return self._fit(X, y)\n",
      "/cluster/gjb_lab/2394007/miniconda/envs/deep_learning/lib/python3.10/site-packages/sklearn/neighbors/_classification.py:207: DataConversionWarning: A column-vector y was passed when a 1d array was expected. Please change the shape of y to (n_samples,), for example using ravel().\n",
      "  return self._fit(X, y)\n"
     ]
    },
    {
     "name": "stdout",
     "output_type": "stream",
     "text": [
      "948283665 511030943\n",
      "Restoring model weights from the end of the best epoch: 73.\n",
      "Epoch 173: early stopping\n",
      "Restoring model weights from the end of the best epoch: 19.\n",
      "Epoch 119: early stopping\n"
     ]
    },
    {
     "name": "stderr",
     "output_type": "stream",
     "text": [
      "/cluster/gjb_lab/2394007/miniconda/envs/deep_learning/lib/python3.10/site-packages/sklearn/neighbors/_classification.py:207: DataConversionWarning: A column-vector y was passed when a 1d array was expected. Please change the shape of y to (n_samples,), for example using ravel().\n",
      "  return self._fit(X, y)\n",
      "/cluster/gjb_lab/2394007/miniconda/envs/deep_learning/lib/python3.10/site-packages/sklearn/neighbors/_classification.py:207: DataConversionWarning: A column-vector y was passed when a 1d array was expected. Please change the shape of y to (n_samples,), for example using ravel().\n",
      "  return self._fit(X, y)\n"
     ]
    },
    {
     "name": "stdout",
     "output_type": "stream",
     "text": [
      "968633931 321295420\n",
      "Restoring model weights from the end of the best epoch: 38.\n",
      "Epoch 138: early stopping\n",
      "Restoring model weights from the end of the best epoch: 3.\n",
      "Epoch 103: early stopping\n"
     ]
    },
    {
     "name": "stderr",
     "output_type": "stream",
     "text": [
      "/cluster/gjb_lab/2394007/miniconda/envs/deep_learning/lib/python3.10/site-packages/sklearn/neighbors/_classification.py:207: DataConversionWarning: A column-vector y was passed when a 1d array was expected. Please change the shape of y to (n_samples,), for example using ravel().\n",
      "  return self._fit(X, y)\n",
      "/cluster/gjb_lab/2394007/miniconda/envs/deep_learning/lib/python3.10/site-packages/sklearn/neighbors/_classification.py:207: DataConversionWarning: A column-vector y was passed when a 1d array was expected. Please change the shape of y to (n_samples,), for example using ravel().\n",
      "  return self._fit(X, y)\n"
     ]
    },
    {
     "name": "stdout",
     "output_type": "stream",
     "text": [
      "840900816 752295881\n",
      "Restoring model weights from the end of the best epoch: 25.\n",
      "Epoch 125: early stopping\n",
      "Restoring model weights from the end of the best epoch: 34.\n",
      "Epoch 134: early stopping\n"
     ]
    },
    {
     "name": "stderr",
     "output_type": "stream",
     "text": [
      "/cluster/gjb_lab/2394007/miniconda/envs/deep_learning/lib/python3.10/site-packages/sklearn/neighbors/_classification.py:207: DataConversionWarning: A column-vector y was passed when a 1d array was expected. Please change the shape of y to (n_samples,), for example using ravel().\n",
      "  return self._fit(X, y)\n",
      "/cluster/gjb_lab/2394007/miniconda/envs/deep_learning/lib/python3.10/site-packages/sklearn/neighbors/_classification.py:207: DataConversionWarning: A column-vector y was passed when a 1d array was expected. Please change the shape of y to (n_samples,), for example using ravel().\n",
      "  return self._fit(X, y)\n"
     ]
    },
    {
     "name": "stdout",
     "output_type": "stream",
     "text": [
      "864239962 29567246\n",
      "Restoring model weights from the end of the best epoch: 111.\n",
      "Epoch 211: early stopping\n",
      "Restoring model weights from the end of the best epoch: 19.\n",
      "Epoch 119: early stopping\n"
     ]
    },
    {
     "name": "stderr",
     "output_type": "stream",
     "text": [
      "/cluster/gjb_lab/2394007/miniconda/envs/deep_learning/lib/python3.10/site-packages/sklearn/neighbors/_classification.py:207: DataConversionWarning: A column-vector y was passed when a 1d array was expected. Please change the shape of y to (n_samples,), for example using ravel().\n",
      "  return self._fit(X, y)\n",
      "/cluster/gjb_lab/2394007/miniconda/envs/deep_learning/lib/python3.10/site-packages/sklearn/neighbors/_classification.py:207: DataConversionWarning: A column-vector y was passed when a 1d array was expected. Please change the shape of y to (n_samples,), for example using ravel().\n",
      "  return self._fit(X, y)\n"
     ]
    },
    {
     "name": "stdout",
     "output_type": "stream",
     "text": [
      "491366947 893472967\n",
      "Restoring model weights from the end of the best epoch: 38.\n",
      "Epoch 138: early stopping\n",
      "Restoring model weights from the end of the best epoch: 66.\n",
      "Epoch 166: early stopping\n"
     ]
    },
    {
     "name": "stderr",
     "output_type": "stream",
     "text": [
      "/cluster/gjb_lab/2394007/miniconda/envs/deep_learning/lib/python3.10/site-packages/sklearn/neighbors/_classification.py:207: DataConversionWarning: A column-vector y was passed when a 1d array was expected. Please change the shape of y to (n_samples,), for example using ravel().\n",
      "  return self._fit(X, y)\n",
      "/cluster/gjb_lab/2394007/miniconda/envs/deep_learning/lib/python3.10/site-packages/sklearn/neighbors/_classification.py:207: DataConversionWarning: A column-vector y was passed when a 1d array was expected. Please change the shape of y to (n_samples,), for example using ravel().\n",
      "  return self._fit(X, y)\n"
     ]
    },
    {
     "name": "stdout",
     "output_type": "stream",
     "text": [
      "788791699 432987958\n",
      "Restoring model weights from the end of the best epoch: 107.\n",
      "Epoch 207: early stopping\n",
      "Restoring model weights from the end of the best epoch: 2.\n",
      "Epoch 102: early stopping\n"
     ]
    },
    {
     "name": "stderr",
     "output_type": "stream",
     "text": [
      "/cluster/gjb_lab/2394007/miniconda/envs/deep_learning/lib/python3.10/site-packages/sklearn/neighbors/_classification.py:207: DataConversionWarning: A column-vector y was passed when a 1d array was expected. Please change the shape of y to (n_samples,), for example using ravel().\n",
      "  return self._fit(X, y)\n",
      "/cluster/gjb_lab/2394007/miniconda/envs/deep_learning/lib/python3.10/site-packages/sklearn/neighbors/_classification.py:207: DataConversionWarning: A column-vector y was passed when a 1d array was expected. Please change the shape of y to (n_samples,), for example using ravel().\n",
      "  return self._fit(X, y)\n"
     ]
    },
    {
     "name": "stdout",
     "output_type": "stream",
     "text": [
      "91793918 320717270\n",
      "Restoring model weights from the end of the best epoch: 70.\n",
      "Epoch 170: early stopping\n",
      "Restoring model weights from the end of the best epoch: 8.\n",
      "Epoch 108: early stopping\n"
     ]
    },
    {
     "name": "stderr",
     "output_type": "stream",
     "text": [
      "/cluster/gjb_lab/2394007/miniconda/envs/deep_learning/lib/python3.10/site-packages/sklearn/neighbors/_classification.py:207: DataConversionWarning: A column-vector y was passed when a 1d array was expected. Please change the shape of y to (n_samples,), for example using ravel().\n",
      "  return self._fit(X, y)\n",
      "/cluster/gjb_lab/2394007/miniconda/envs/deep_learning/lib/python3.10/site-packages/sklearn/neighbors/_classification.py:207: DataConversionWarning: A column-vector y was passed when a 1d array was expected. Please change the shape of y to (n_samples,), for example using ravel().\n",
      "  return self._fit(X, y)\n"
     ]
    },
    {
     "name": "stdout",
     "output_type": "stream",
     "text": [
      "575069389 321729365\n",
      "Restoring model weights from the end of the best epoch: 60.\n",
      "Epoch 160: early stopping\n",
      "Restoring model weights from the end of the best epoch: 5.\n",
      "Epoch 105: early stopping\n"
     ]
    },
    {
     "name": "stderr",
     "output_type": "stream",
     "text": [
      "/cluster/gjb_lab/2394007/miniconda/envs/deep_learning/lib/python3.10/site-packages/sklearn/neighbors/_classification.py:207: DataConversionWarning: A column-vector y was passed when a 1d array was expected. Please change the shape of y to (n_samples,), for example using ravel().\n",
      "  return self._fit(X, y)\n",
      "/cluster/gjb_lab/2394007/miniconda/envs/deep_learning/lib/python3.10/site-packages/sklearn/neighbors/_classification.py:207: DataConversionWarning: A column-vector y was passed when a 1d array was expected. Please change the shape of y to (n_samples,), for example using ravel().\n",
      "  return self._fit(X, y)\n"
     ]
    },
    {
     "name": "stdout",
     "output_type": "stream",
     "text": [
      "224246543 292204982\n",
      "Restoring model weights from the end of the best epoch: 78.\n",
      "Epoch 178: early stopping\n"
     ]
    },
    {
     "name": "stderr",
     "output_type": "stream",
     "text": [
      "/cluster/gjb_lab/2394007/miniconda/envs/deep_learning/lib/python3.10/site-packages/sklearn/neighbors/_classification.py:207: DataConversionWarning: A column-vector y was passed when a 1d array was expected. Please change the shape of y to (n_samples,), for example using ravel().\n",
      "  return self._fit(X, y)\n",
      "/cluster/gjb_lab/2394007/miniconda/envs/deep_learning/lib/python3.10/site-packages/sklearn/neighbors/_classification.py:207: DataConversionWarning: A column-vector y was passed when a 1d array was expected. Please change the shape of y to (n_samples,), for example using ravel().\n",
      "  return self._fit(X, y)\n"
     ]
    },
    {
     "name": "stdout",
     "output_type": "stream",
     "text": [
      "843068497 861752175\n",
      "Restoring model weights from the end of the best epoch: 61.\n",
      "Epoch 161: early stopping\n",
      "Restoring model weights from the end of the best epoch: 38.\n",
      "Epoch 138: early stopping\n"
     ]
    },
    {
     "name": "stderr",
     "output_type": "stream",
     "text": [
      "/cluster/gjb_lab/2394007/miniconda/envs/deep_learning/lib/python3.10/site-packages/sklearn/neighbors/_classification.py:207: DataConversionWarning: A column-vector y was passed when a 1d array was expected. Please change the shape of y to (n_samples,), for example using ravel().\n",
      "  return self._fit(X, y)\n",
      "/cluster/gjb_lab/2394007/miniconda/envs/deep_learning/lib/python3.10/site-packages/sklearn/neighbors/_classification.py:207: DataConversionWarning: A column-vector y was passed when a 1d array was expected. Please change the shape of y to (n_samples,), for example using ravel().\n",
      "  return self._fit(X, y)\n"
     ]
    },
    {
     "name": "stdout",
     "output_type": "stream",
     "text": [
      "855275381 189617827\n",
      "Restoring model weights from the end of the best epoch: 43.\n",
      "Epoch 143: early stopping\n",
      "Restoring model weights from the end of the best epoch: 2.\n",
      "Epoch 102: early stopping\n"
     ]
    },
    {
     "name": "stderr",
     "output_type": "stream",
     "text": [
      "/cluster/gjb_lab/2394007/miniconda/envs/deep_learning/lib/python3.10/site-packages/sklearn/neighbors/_classification.py:207: DataConversionWarning: A column-vector y was passed when a 1d array was expected. Please change the shape of y to (n_samples,), for example using ravel().\n",
      "  return self._fit(X, y)\n",
      "/cluster/gjb_lab/2394007/miniconda/envs/deep_learning/lib/python3.10/site-packages/sklearn/neighbors/_classification.py:207: DataConversionWarning: A column-vector y was passed when a 1d array was expected. Please change the shape of y to (n_samples,), for example using ravel().\n",
      "  return self._fit(X, y)\n"
     ]
    },
    {
     "name": "stdout",
     "output_type": "stream",
     "text": [
      "998290746 715730228\n",
      "Restoring model weights from the end of the best epoch: 29.\n",
      "Epoch 129: early stopping\n",
      "Restoring model weights from the end of the best epoch: 48.\n",
      "Epoch 148: early stopping\n"
     ]
    },
    {
     "name": "stderr",
     "output_type": "stream",
     "text": [
      "/cluster/gjb_lab/2394007/miniconda/envs/deep_learning/lib/python3.10/site-packages/sklearn/neighbors/_classification.py:207: DataConversionWarning: A column-vector y was passed when a 1d array was expected. Please change the shape of y to (n_samples,), for example using ravel().\n",
      "  return self._fit(X, y)\n",
      "/cluster/gjb_lab/2394007/miniconda/envs/deep_learning/lib/python3.10/site-packages/sklearn/neighbors/_classification.py:207: DataConversionWarning: A column-vector y was passed when a 1d array was expected. Please change the shape of y to (n_samples,), for example using ravel().\n",
      "  return self._fit(X, y)\n"
     ]
    },
    {
     "name": "stdout",
     "output_type": "stream",
     "text": [
      "211921106 459406505\n",
      "Restoring model weights from the end of the best epoch: 54.\n",
      "Epoch 154: early stopping\n",
      "Restoring model weights from the end of the best epoch: 3.\n",
      "Epoch 103: early stopping\n"
     ]
    },
    {
     "name": "stderr",
     "output_type": "stream",
     "text": [
      "/cluster/gjb_lab/2394007/miniconda/envs/deep_learning/lib/python3.10/site-packages/sklearn/neighbors/_classification.py:207: DataConversionWarning: A column-vector y was passed when a 1d array was expected. Please change the shape of y to (n_samples,), for example using ravel().\n",
      "  return self._fit(X, y)\n",
      "/cluster/gjb_lab/2394007/miniconda/envs/deep_learning/lib/python3.10/site-packages/sklearn/neighbors/_classification.py:207: DataConversionWarning: A column-vector y was passed when a 1d array was expected. Please change the shape of y to (n_samples,), for example using ravel().\n",
      "  return self._fit(X, y)\n"
     ]
    },
    {
     "name": "stdout",
     "output_type": "stream",
     "text": [
      "935005515 715384610\n",
      "Restoring model weights from the end of the best epoch: 58.\n",
      "Epoch 158: early stopping\n",
      "Restoring model weights from the end of the best epoch: 5.\n",
      "Epoch 105: early stopping\n"
     ]
    },
    {
     "name": "stderr",
     "output_type": "stream",
     "text": [
      "/cluster/gjb_lab/2394007/miniconda/envs/deep_learning/lib/python3.10/site-packages/sklearn/neighbors/_classification.py:207: DataConversionWarning: A column-vector y was passed when a 1d array was expected. Please change the shape of y to (n_samples,), for example using ravel().\n",
      "  return self._fit(X, y)\n",
      "/cluster/gjb_lab/2394007/miniconda/envs/deep_learning/lib/python3.10/site-packages/sklearn/neighbors/_classification.py:207: DataConversionWarning: A column-vector y was passed when a 1d array was expected. Please change the shape of y to (n_samples,), for example using ravel().\n",
      "  return self._fit(X, y)\n"
     ]
    },
    {
     "name": "stdout",
     "output_type": "stream",
     "text": [
      "960345191 820225877\n",
      "Restoring model weights from the end of the best epoch: 22.\n",
      "Epoch 122: early stopping\n",
      "Restoring model weights from the end of the best epoch: 10.\n",
      "Epoch 110: early stopping\n"
     ]
    },
    {
     "name": "stderr",
     "output_type": "stream",
     "text": [
      "/cluster/gjb_lab/2394007/miniconda/envs/deep_learning/lib/python3.10/site-packages/sklearn/neighbors/_classification.py:207: DataConversionWarning: A column-vector y was passed when a 1d array was expected. Please change the shape of y to (n_samples,), for example using ravel().\n",
      "  return self._fit(X, y)\n",
      "/cluster/gjb_lab/2394007/miniconda/envs/deep_learning/lib/python3.10/site-packages/sklearn/neighbors/_classification.py:207: DataConversionWarning: A column-vector y was passed when a 1d array was expected. Please change the shape of y to (n_samples,), for example using ravel().\n",
      "  return self._fit(X, y)\n"
     ]
    },
    {
     "name": "stdout",
     "output_type": "stream",
     "text": [
      "241607355 131881365\n",
      "Restoring model weights from the end of the best epoch: 100.\n",
      "Epoch 200: early stopping\n",
      "Restoring model weights from the end of the best epoch: 1.\n",
      "Epoch 101: early stopping\n"
     ]
    },
    {
     "name": "stderr",
     "output_type": "stream",
     "text": [
      "/cluster/gjb_lab/2394007/miniconda/envs/deep_learning/lib/python3.10/site-packages/sklearn/neighbors/_classification.py:207: DataConversionWarning: A column-vector y was passed when a 1d array was expected. Please change the shape of y to (n_samples,), for example using ravel().\n",
      "  return self._fit(X, y)\n",
      "/cluster/gjb_lab/2394007/miniconda/envs/deep_learning/lib/python3.10/site-packages/sklearn/neighbors/_classification.py:207: DataConversionWarning: A column-vector y was passed when a 1d array was expected. Please change the shape of y to (n_samples,), for example using ravel().\n",
      "  return self._fit(X, y)\n"
     ]
    },
    {
     "name": "stdout",
     "output_type": "stream",
     "text": [
      "367664062 186355225\n",
      "Restoring model weights from the end of the best epoch: 185.\n",
      "Epoch 285: early stopping\n",
      "Restoring model weights from the end of the best epoch: 18.\n",
      "Epoch 118: early stopping\n"
     ]
    },
    {
     "name": "stderr",
     "output_type": "stream",
     "text": [
      "/cluster/gjb_lab/2394007/miniconda/envs/deep_learning/lib/python3.10/site-packages/sklearn/neighbors/_classification.py:207: DataConversionWarning: A column-vector y was passed when a 1d array was expected. Please change the shape of y to (n_samples,), for example using ravel().\n",
      "  return self._fit(X, y)\n",
      "/cluster/gjb_lab/2394007/miniconda/envs/deep_learning/lib/python3.10/site-packages/sklearn/neighbors/_classification.py:207: DataConversionWarning: A column-vector y was passed when a 1d array was expected. Please change the shape of y to (n_samples,), for example using ravel().\n",
      "  return self._fit(X, y)\n"
     ]
    },
    {
     "name": "stdout",
     "output_type": "stream",
     "text": [
      "316556474 159671628\n",
      "Restoring model weights from the end of the best epoch: 122.\n",
      "Epoch 222: early stopping\n",
      "Restoring model weights from the end of the best epoch: 2.\n",
      "Epoch 102: early stopping\n"
     ]
    },
    {
     "name": "stderr",
     "output_type": "stream",
     "text": [
      "/cluster/gjb_lab/2394007/miniconda/envs/deep_learning/lib/python3.10/site-packages/sklearn/neighbors/_classification.py:207: DataConversionWarning: A column-vector y was passed when a 1d array was expected. Please change the shape of y to (n_samples,), for example using ravel().\n",
      "  return self._fit(X, y)\n",
      "/cluster/gjb_lab/2394007/miniconda/envs/deep_learning/lib/python3.10/site-packages/sklearn/neighbors/_classification.py:207: DataConversionWarning: A column-vector y was passed when a 1d array was expected. Please change the shape of y to (n_samples,), for example using ravel().\n",
      "  return self._fit(X, y)\n"
     ]
    },
    {
     "name": "stdout",
     "output_type": "stream",
     "text": [
      "942584530 375751675\n",
      "Restoring model weights from the end of the best epoch: 34.\n",
      "Epoch 134: early stopping\n",
      "Restoring model weights from the end of the best epoch: 62.\n",
      "Epoch 162: early stopping\n"
     ]
    },
    {
     "name": "stderr",
     "output_type": "stream",
     "text": [
      "/cluster/gjb_lab/2394007/miniconda/envs/deep_learning/lib/python3.10/site-packages/sklearn/neighbors/_classification.py:207: DataConversionWarning: A column-vector y was passed when a 1d array was expected. Please change the shape of y to (n_samples,), for example using ravel().\n",
      "  return self._fit(X, y)\n",
      "/cluster/gjb_lab/2394007/miniconda/envs/deep_learning/lib/python3.10/site-packages/sklearn/neighbors/_classification.py:207: DataConversionWarning: A column-vector y was passed when a 1d array was expected. Please change the shape of y to (n_samples,), for example using ravel().\n",
      "  return self._fit(X, y)\n"
     ]
    },
    {
     "name": "stdout",
     "output_type": "stream",
     "text": [
      "799775892 146308714\n",
      "Restoring model weights from the end of the best epoch: 43.\n",
      "Epoch 143: early stopping\n",
      "Restoring model weights from the end of the best epoch: 1.\n",
      "Epoch 101: early stopping\n"
     ]
    },
    {
     "name": "stderr",
     "output_type": "stream",
     "text": [
      "/cluster/gjb_lab/2394007/miniconda/envs/deep_learning/lib/python3.10/site-packages/sklearn/neighbors/_classification.py:207: DataConversionWarning: A column-vector y was passed when a 1d array was expected. Please change the shape of y to (n_samples,), for example using ravel().\n",
      "  return self._fit(X, y)\n",
      "/cluster/gjb_lab/2394007/miniconda/envs/deep_learning/lib/python3.10/site-packages/sklearn/neighbors/_classification.py:207: DataConversionWarning: A column-vector y was passed when a 1d array was expected. Please change the shape of y to (n_samples,), for example using ravel().\n",
      "  return self._fit(X, y)\n"
     ]
    },
    {
     "name": "stdout",
     "output_type": "stream",
     "text": [
      "669912629 786788262\n",
      "Restoring model weights from the end of the best epoch: 91.\n",
      "Epoch 191: early stopping\n",
      "Restoring model weights from the end of the best epoch: 2.\n",
      "Epoch 102: early stopping\n"
     ]
    },
    {
     "name": "stderr",
     "output_type": "stream",
     "text": [
      "/cluster/gjb_lab/2394007/miniconda/envs/deep_learning/lib/python3.10/site-packages/sklearn/neighbors/_classification.py:207: DataConversionWarning: A column-vector y was passed when a 1d array was expected. Please change the shape of y to (n_samples,), for example using ravel().\n",
      "  return self._fit(X, y)\n",
      "/cluster/gjb_lab/2394007/miniconda/envs/deep_learning/lib/python3.10/site-packages/sklearn/neighbors/_classification.py:207: DataConversionWarning: A column-vector y was passed when a 1d array was expected. Please change the shape of y to (n_samples,), for example using ravel().\n",
      "  return self._fit(X, y)\n"
     ]
    },
    {
     "name": "stdout",
     "output_type": "stream",
     "text": [
      "667314760 3984726\n",
      "Restoring model weights from the end of the best epoch: 52.\n",
      "Epoch 152: early stopping\n",
      "Restoring model weights from the end of the best epoch: 2.\n",
      "Epoch 102: early stopping\n"
     ]
    },
    {
     "name": "stderr",
     "output_type": "stream",
     "text": [
      "/cluster/gjb_lab/2394007/miniconda/envs/deep_learning/lib/python3.10/site-packages/sklearn/neighbors/_classification.py:207: DataConversionWarning: A column-vector y was passed when a 1d array was expected. Please change the shape of y to (n_samples,), for example using ravel().\n",
      "  return self._fit(X, y)\n",
      "/cluster/gjb_lab/2394007/miniconda/envs/deep_learning/lib/python3.10/site-packages/sklearn/neighbors/_classification.py:207: DataConversionWarning: A column-vector y was passed when a 1d array was expected. Please change the shape of y to (n_samples,), for example using ravel().\n",
      "  return self._fit(X, y)\n"
     ]
    },
    {
     "name": "stdout",
     "output_type": "stream",
     "text": [
      "238708286 79314428\n",
      "Restoring model weights from the end of the best epoch: 52.\n",
      "Epoch 152: early stopping\n",
      "Restoring model weights from the end of the best epoch: 10.\n",
      "Epoch 110: early stopping\n"
     ]
    },
    {
     "name": "stderr",
     "output_type": "stream",
     "text": [
      "/cluster/gjb_lab/2394007/miniconda/envs/deep_learning/lib/python3.10/site-packages/sklearn/neighbors/_classification.py:207: DataConversionWarning: A column-vector y was passed when a 1d array was expected. Please change the shape of y to (n_samples,), for example using ravel().\n",
      "  return self._fit(X, y)\n",
      "/cluster/gjb_lab/2394007/miniconda/envs/deep_learning/lib/python3.10/site-packages/sklearn/neighbors/_classification.py:207: DataConversionWarning: A column-vector y was passed when a 1d array was expected. Please change the shape of y to (n_samples,), for example using ravel().\n",
      "  return self._fit(X, y)\n"
     ]
    },
    {
     "name": "stdout",
     "output_type": "stream",
     "text": [
      "743560711 628762378\n",
      "Restoring model weights from the end of the best epoch: 78.\n",
      "Epoch 178: early stopping\n",
      "Restoring model weights from the end of the best epoch: 6.\n",
      "Epoch 106: early stopping\n"
     ]
    },
    {
     "name": "stderr",
     "output_type": "stream",
     "text": [
      "/cluster/gjb_lab/2394007/miniconda/envs/deep_learning/lib/python3.10/site-packages/sklearn/neighbors/_classification.py:207: DataConversionWarning: A column-vector y was passed when a 1d array was expected. Please change the shape of y to (n_samples,), for example using ravel().\n",
      "  return self._fit(X, y)\n",
      "/cluster/gjb_lab/2394007/miniconda/envs/deep_learning/lib/python3.10/site-packages/sklearn/neighbors/_classification.py:207: DataConversionWarning: A column-vector y was passed when a 1d array was expected. Please change the shape of y to (n_samples,), for example using ravel().\n",
      "  return self._fit(X, y)\n"
     ]
    },
    {
     "name": "stdout",
     "output_type": "stream",
     "text": [
      "595787225 564857751\n",
      "Restoring model weights from the end of the best epoch: 48.\n",
      "Epoch 148: early stopping\n",
      "Restoring model weights from the end of the best epoch: 3.\n",
      "Epoch 103: early stopping\n"
     ]
    },
    {
     "name": "stderr",
     "output_type": "stream",
     "text": [
      "/cluster/gjb_lab/2394007/miniconda/envs/deep_learning/lib/python3.10/site-packages/sklearn/neighbors/_classification.py:207: DataConversionWarning: A column-vector y was passed when a 1d array was expected. Please change the shape of y to (n_samples,), for example using ravel().\n",
      "  return self._fit(X, y)\n",
      "/cluster/gjb_lab/2394007/miniconda/envs/deep_learning/lib/python3.10/site-packages/sklearn/neighbors/_classification.py:207: DataConversionWarning: A column-vector y was passed when a 1d array was expected. Please change the shape of y to (n_samples,), for example using ravel().\n",
      "  return self._fit(X, y)\n"
     ]
    },
    {
     "name": "stdout",
     "output_type": "stream",
     "text": [
      "399969524 774108247\n",
      "Restoring model weights from the end of the best epoch: 68.\n",
      "Epoch 168: early stopping\n",
      "Restoring model weights from the end of the best epoch: 3.\n",
      "Epoch 103: early stopping\n"
     ]
    },
    {
     "name": "stderr",
     "output_type": "stream",
     "text": [
      "/cluster/gjb_lab/2394007/miniconda/envs/deep_learning/lib/python3.10/site-packages/sklearn/neighbors/_classification.py:207: DataConversionWarning: A column-vector y was passed when a 1d array was expected. Please change the shape of y to (n_samples,), for example using ravel().\n",
      "  return self._fit(X, y)\n",
      "/cluster/gjb_lab/2394007/miniconda/envs/deep_learning/lib/python3.10/site-packages/sklearn/neighbors/_classification.py:207: DataConversionWarning: A column-vector y was passed when a 1d array was expected. Please change the shape of y to (n_samples,), for example using ravel().\n",
      "  return self._fit(X, y)\n"
     ]
    },
    {
     "name": "stdout",
     "output_type": "stream",
     "text": [
      "394122716 897140262\n",
      "Restoring model weights from the end of the best epoch: 68.\n",
      "Epoch 168: early stopping\n",
      "Restoring model weights from the end of the best epoch: 2.\n",
      "Epoch 102: early stopping\n"
     ]
    },
    {
     "name": "stderr",
     "output_type": "stream",
     "text": [
      "/cluster/gjb_lab/2394007/miniconda/envs/deep_learning/lib/python3.10/site-packages/sklearn/neighbors/_classification.py:207: DataConversionWarning: A column-vector y was passed when a 1d array was expected. Please change the shape of y to (n_samples,), for example using ravel().\n",
      "  return self._fit(X, y)\n",
      "/cluster/gjb_lab/2394007/miniconda/envs/deep_learning/lib/python3.10/site-packages/sklearn/neighbors/_classification.py:207: DataConversionWarning: A column-vector y was passed when a 1d array was expected. Please change the shape of y to (n_samples,), for example using ravel().\n",
      "  return self._fit(X, y)\n"
     ]
    },
    {
     "name": "stdout",
     "output_type": "stream",
     "text": [
      "90046103 135601694\n",
      "Restoring model weights from the end of the best epoch: 69.\n",
      "Epoch 169: early stopping\n",
      "Restoring model weights from the end of the best epoch: 2.\n",
      "Epoch 102: early stopping\n"
     ]
    },
    {
     "name": "stderr",
     "output_type": "stream",
     "text": [
      "/cluster/gjb_lab/2394007/miniconda/envs/deep_learning/lib/python3.10/site-packages/sklearn/neighbors/_classification.py:207: DataConversionWarning: A column-vector y was passed when a 1d array was expected. Please change the shape of y to (n_samples,), for example using ravel().\n",
      "  return self._fit(X, y)\n",
      "/cluster/gjb_lab/2394007/miniconda/envs/deep_learning/lib/python3.10/site-packages/sklearn/neighbors/_classification.py:207: DataConversionWarning: A column-vector y was passed when a 1d array was expected. Please change the shape of y to (n_samples,), for example using ravel().\n",
      "  return self._fit(X, y)\n"
     ]
    },
    {
     "name": "stdout",
     "output_type": "stream",
     "text": [
      "750557520 42284989\n",
      "Restoring model weights from the end of the best epoch: 37.\n",
      "Epoch 137: early stopping\n",
      "Restoring model weights from the end of the best epoch: 3.\n",
      "Epoch 103: early stopping\n"
     ]
    },
    {
     "name": "stderr",
     "output_type": "stream",
     "text": [
      "/cluster/gjb_lab/2394007/miniconda/envs/deep_learning/lib/python3.10/site-packages/sklearn/neighbors/_classification.py:207: DataConversionWarning: A column-vector y was passed when a 1d array was expected. Please change the shape of y to (n_samples,), for example using ravel().\n",
      "  return self._fit(X, y)\n",
      "/cluster/gjb_lab/2394007/miniconda/envs/deep_learning/lib/python3.10/site-packages/sklearn/neighbors/_classification.py:207: DataConversionWarning: A column-vector y was passed when a 1d array was expected. Please change the shape of y to (n_samples,), for example using ravel().\n",
      "  return self._fit(X, y)\n"
     ]
    },
    {
     "name": "stdout",
     "output_type": "stream",
     "text": [
      "549186711 378720085\n",
      "Restoring model weights from the end of the best epoch: 61.\n",
      "Epoch 161: early stopping\n",
      "Restoring model weights from the end of the best epoch: 1.\n",
      "Epoch 101: early stopping\n"
     ]
    },
    {
     "name": "stderr",
     "output_type": "stream",
     "text": [
      "/cluster/gjb_lab/2394007/miniconda/envs/deep_learning/lib/python3.10/site-packages/sklearn/neighbors/_classification.py:207: DataConversionWarning: A column-vector y was passed when a 1d array was expected. Please change the shape of y to (n_samples,), for example using ravel().\n",
      "  return self._fit(X, y)\n",
      "/cluster/gjb_lab/2394007/miniconda/envs/deep_learning/lib/python3.10/site-packages/sklearn/neighbors/_classification.py:207: DataConversionWarning: A column-vector y was passed when a 1d array was expected. Please change the shape of y to (n_samples,), for example using ravel().\n",
      "  return self._fit(X, y)\n"
     ]
    },
    {
     "name": "stdout",
     "output_type": "stream",
     "text": [
      "496503543 342042721\n",
      "Restoring model weights from the end of the best epoch: 137.\n",
      "Epoch 237: early stopping\n",
      "Restoring model weights from the end of the best epoch: 17.\n",
      "Epoch 117: early stopping\n"
     ]
    },
    {
     "name": "stderr",
     "output_type": "stream",
     "text": [
      "/cluster/gjb_lab/2394007/miniconda/envs/deep_learning/lib/python3.10/site-packages/sklearn/neighbors/_classification.py:207: DataConversionWarning: A column-vector y was passed when a 1d array was expected. Please change the shape of y to (n_samples,), for example using ravel().\n",
      "  return self._fit(X, y)\n",
      "/cluster/gjb_lab/2394007/miniconda/envs/deep_learning/lib/python3.10/site-packages/sklearn/neighbors/_classification.py:207: DataConversionWarning: A column-vector y was passed when a 1d array was expected. Please change the shape of y to (n_samples,), for example using ravel().\n",
      "  return self._fit(X, y)\n"
     ]
    },
    {
     "name": "stdout",
     "output_type": "stream",
     "text": [
      "23682970 954904678\n",
      "Restoring model weights from the end of the best epoch: 26.\n",
      "Epoch 126: early stopping\n",
      "Restoring model weights from the end of the best epoch: 3.\n",
      "Epoch 103: early stopping\n"
     ]
    },
    {
     "name": "stderr",
     "output_type": "stream",
     "text": [
      "/cluster/gjb_lab/2394007/miniconda/envs/deep_learning/lib/python3.10/site-packages/sklearn/neighbors/_classification.py:207: DataConversionWarning: A column-vector y was passed when a 1d array was expected. Please change the shape of y to (n_samples,), for example using ravel().\n",
      "  return self._fit(X, y)\n",
      "/cluster/gjb_lab/2394007/miniconda/envs/deep_learning/lib/python3.10/site-packages/sklearn/neighbors/_classification.py:207: DataConversionWarning: A column-vector y was passed when a 1d array was expected. Please change the shape of y to (n_samples,), for example using ravel().\n",
      "  return self._fit(X, y)\n"
     ]
    },
    {
     "name": "stdout",
     "output_type": "stream",
     "text": [
      "660083294 132411452\n",
      "Restoring model weights from the end of the best epoch: 70.\n",
      "Epoch 170: early stopping\n",
      "Restoring model weights from the end of the best epoch: 98.\n",
      "Epoch 198: early stopping\n"
     ]
    },
    {
     "name": "stderr",
     "output_type": "stream",
     "text": [
      "/cluster/gjb_lab/2394007/miniconda/envs/deep_learning/lib/python3.10/site-packages/sklearn/neighbors/_classification.py:207: DataConversionWarning: A column-vector y was passed when a 1d array was expected. Please change the shape of y to (n_samples,), for example using ravel().\n",
      "  return self._fit(X, y)\n",
      "/cluster/gjb_lab/2394007/miniconda/envs/deep_learning/lib/python3.10/site-packages/sklearn/neighbors/_classification.py:207: DataConversionWarning: A column-vector y was passed when a 1d array was expected. Please change the shape of y to (n_samples,), for example using ravel().\n",
      "  return self._fit(X, y)\n"
     ]
    }
   ],
   "source": [
    "accs_pred_ANN = [] # prediction accuracies by ANN\n",
    "accs_pred_KNN = [] # prediction accuracies by KNN\n",
    "\n",
    "accs_rand = [] # prediction accuracies at random (randomly assigning a cluster label p=0.25 each)\n",
    "\n",
    "accs_pred_ANN_rand = [] # prediction accuracies of randomly trained ANN\n",
    "accs_pred_KNN_rand = [] # prediction accuracies of randomly trained KNN\n",
    "\n",
    "knn = KNeighborsClassifier(n_neighbors=3) # starting KNN classifier\n",
    "\n",
    "ann_good_preds = [] # predictions by ANN\n",
    "ann_good_preds_round = [] # rounded predictions by ANN\n",
    "ann_real_vals = [] # real labels\n",
    "ann_rand_preds = [] # predictions by randomly trained ANN\n",
    "ann_rand_preds_round = [] # rounded predictions of randomly trained ANN\n",
    "#ann_\n",
    "\n",
    "\n",
    "cv_dir = \"./results/ANN_results/cv\" # this will be ward now\n",
    "os.mkdir(cv_dir)\n",
    "cv_good_dir = os.path.join(cv_dir, \"good\")\n",
    "cv_rand_dir = os.path.join(cv_dir, \"rand\")\n",
    "os.mkdir(cv_good_dir)\n",
    "os.mkdir(cv_rand_dir)\n",
    "os.mkdir(os.path.join(cv_good_dir, \"hists\"))\n",
    "os.mkdir(os.path.join(cv_good_dir, \"mods\"))\n",
    "os.mkdir(os.path.join(cv_rand_dir, \"hists\"))\n",
    "os.mkdir(os.path.join(cv_rand_dir, \"mods\"))\n",
    "\n",
    "for i, (train_idx, val_idx) in enumerate(rskf.split(X_model, y_model)):\n",
    "    \n",
    "    seed = 3551\n",
    "    seed1 = random.randint(1, 1000000000)\n",
    "    seed2 = random.randint(1, 1000000000)\n",
    "    #seed1 = 426359796\n",
    "    #seed2 = 44036644\n",
    "    print(seed1, seed2)\n",
    "    \n",
    "    bs_ids_train = X_model.index[train_idx].tolist() # THESE IDS WILL SUBSET BOTH DATASETS IN THE SAME WAY (INPUT FOR KNN AND INPUT FOR ANN)\n",
    "    bs_ids_val = X_model.index[val_idx].tolist() # THESE IDS WILL SUBSET BOTH DATASETS IN THE SAME WAY (INPUT FOR KNN AND INPUT FOR ANN)\n",
    "    \n",
    "    X_train_ANN = X_model.loc[bs_ids_train, :]\n",
    "    y_train_ANN = y_model.loc[bs_ids_train, :]\n",
    "    \n",
    "    X_train_ANN_rand = randomise(X_train_ANN, seed1)     # THIS WILL BE USED TO TRAIN ANN WITH RANDOMLY SHUFFLED TRAINING DATA\n",
    "    y_train_ANN_rand = randomise(y_train_ANN, seed2)     # THIS WILL BE USED TO TRAIN ANN WITH RANDOMLY SHUFFLED TRAINING DATA\n",
    "    \n",
    "    X_val_ANN = X_model.loc[bs_ids_val, :]\n",
    "    y_val_ANN = y_model.loc[bs_ids_val, :]\n",
    "    \n",
    "    X_train_KNN = ud_mat.loc[bs_ids_train, bs_ids_train]\n",
    "    y_train_KNN = y_model.loc[bs_ids_train, :]\n",
    "    \n",
    "    X_train_KNN_rand = randomise(X_train_KNN, seed1)     # THIS WILL BE USED TO TRAIN KNN WITH RANDOMLY SHUFFLED TRAINING DATA\n",
    "    y_train_KNN_rand = randomise(y_train_KNN, seed2)     # THIS WILL BE USED TO TRAIN KNN WITH RANDOMLY SHUFFLED TRAINING DATA\n",
    "    \n",
    "    X_val_KNN = ud_mat.loc[bs_ids_val, bs_ids_train]\n",
    "    y_val_KNN = y_model.loc[bs_ids_val, :]\n",
    "    \n",
    "    #break\n",
    "    \n",
    "    ### PREDICTING WITH ANN ### well trained model\n",
    "    \n",
    "    X_model_train_ANN, X_model_val_ANN, y_model_train_ANN, y_model_val_ANN = train_test_split(\n",
    "        X_train_ANN, y_train_ANN, test_size = 0.2, random_state = 12345,\n",
    "        shuffle = True, stratify = y_train_ANN\n",
    "    )\n",
    "    \n",
    "    class_weights = class_weight.compute_class_weight(class_weight = 'balanced',\n",
    "                                                 classes = np.unique(y_train_ANN.label.tolist()),\n",
    "                                                 y = np.array(y_train_ANN.label))\n",
    "    \n",
    "    class_weights_dict = {i: class_weights[i] for i in np.unique(y_train_ANN.label.tolist())}\n",
    "    \n",
    "    cv_model = Sequential([\n",
    "        Dense(units = 10, input_shape=(11,), activation = \"relu\", kernel_initializer = initializer),\n",
    "        Dense(units = 4, activation = \"softmax\", kernel_initializer = initializer)\n",
    "    ])\n",
    "    \n",
    "    cv_model.compile(optimizer=Adam(learning_rate=0.01), loss = \"sparse_categorical_crossentropy\", metrics = [\"accuracy\"])\n",
    "    \n",
    "    hist_cv_model = cv_model.fit(\n",
    "        x = X_model_train_ANN, y = y_model_train_ANN, batch_size = 32,\n",
    "        callbacks=[callback], validation_data = (X_model_val_ANN, y_model_val_ANN),\n",
    "        epochs = 300, shuffle = True, verbose = 0, class_weight =  class_weights_dict\n",
    "    )\n",
    "    \n",
    "    predictions = cv_model.predict(x = X_val_ANN, batch_size = 32, verbose = 0)\n",
    "    rounded_predictions = np.argmax(predictions, axis = -1)\n",
    "    CalculatedAccuracy = sum(rounded_predictions == y_val_ANN.label.tolist())/len(rounded_predictions)\n",
    "    accs_pred_ANN.append(CalculatedAccuracy)\n",
    "    ann_good_preds.append(predictions)\n",
    "    ann_good_preds_round.append(rounded_predictions)\n",
    "    ann_real_vals.append(y_val_ANN)\n",
    "    \n",
    "    final_epoch_good = callback.stopped_epoch-100\n",
    "    if final_epoch_good == -100:\n",
    "        final_epoch_good = 299\n",
    "    final_acc_good = round(hist_cv_model.history[\"val_accuracy\"][final_epoch_good],2)\n",
    "        \n",
    "\n",
    "    cv_model.save(os.path.join(cv_dir, \"good\", \"mods\", \"{}_{}_good_model_epoch_{}_train_acc_{}.h5\".format(seed, i, final_epoch_good, round(final_acc_good, 2))))\n",
    "        \n",
    "    pd.DataFrame(hist_cv_model.history).to_csv(os.path.join(cv_dir, \"good\", \"hists\", \"{}_{}_good_hist_epoch_{}_train_acc_{}.csv\".format(seed, i, final_epoch_good, round(final_acc_good, 2))), index = False)\n",
    "        \n",
    "        \n",
    "        \n",
    "    ### PREDICTING WITH ANN ### RANDOMLY trained model\n",
    "    \n",
    "    X_model_train_ANN_rand, X_model_val_ANN_rand, y_model_train_ANN_rand, y_model_val_ANN_rand = train_test_split(\n",
    "        X_train_ANN_rand, y_train_ANN_rand, test_size = 0.2, random_state = 12345,\n",
    "        shuffle = True, stratify = y_train_ANN_rand\n",
    "    )\n",
    "    \n",
    "    class_weights_rand = class_weight.compute_class_weight(class_weight = 'balanced',\n",
    "                                                 classes = np.unique(y_train_ANN_rand.label.tolist()),\n",
    "                                                 y = np.array(y_train_ANN_rand.label))\n",
    "    \n",
    "    class_weights_dict_rand = {i: class_weights_rand[i] for i in np.unique(y_train_ANN_rand.label.tolist())}\n",
    "    \n",
    "    cv_model_rand = Sequential([\n",
    "        Dense(units = 10, input_shape=(11,), activation = \"relu\", kernel_initializer = initializer),\n",
    "        Dense(units = 4, activation = \"softmax\", kernel_initializer = initializer)\n",
    "    ])\n",
    "    \n",
    "    cv_model_rand.compile(optimizer=Adam(learning_rate=0.01), loss = \"sparse_categorical_crossentropy\", metrics = [\"accuracy\"])\n",
    "    \n",
    "    hist_cv_model_rand = cv_model_rand.fit(\n",
    "        x = X_model_train_ANN_rand, y = y_model_train_ANN_rand, batch_size = 32,\n",
    "        callbacks=[callback], validation_data = (X_model_val_ANN_rand, y_model_val_ANN_rand),\n",
    "        epochs = 300, shuffle = True, verbose = 0, class_weight =  class_weights_dict_rand\n",
    "    )\n",
    "    \n",
    "    predictions_rand = cv_model_rand.predict(x = X_val_ANN, batch_size = 32, verbose = 0)\n",
    "    rounded_predictions_rand = np.argmax(predictions_rand, axis = -1)\n",
    "    CalculatedAccuracy_rand = sum(rounded_predictions_rand == y_val_ANN.label.tolist())/len(rounded_predictions_rand)\n",
    "    accs_pred_ANN_rand.append(CalculatedAccuracy_rand)\n",
    "    ann_rand_preds.append(predictions_rand)\n",
    "    ann_rand_preds_round.append(rounded_predictions_rand)\n",
    "    \n",
    "    final_epoch_rand = callback.stopped_epoch-100\n",
    "    if final_epoch_rand == -100:\n",
    "        final_epoch_rand = 299\n",
    "    final_acc_rand = round(hist_cv_model_rand.history[\"val_accuracy\"][final_epoch_rand],2)\n",
    "        \n",
    "\n",
    "    cv_model_rand.save(os.path.join(cv_dir, \"rand\", \"mods\", \"{}_{}_rand_model_epoch_{}_train_acc_{}.h5\".format(seed, i, final_epoch_rand, round(final_acc_rand, 2))))\n",
    "        \n",
    "    pd.DataFrame(hist_cv_model_rand.history).to_csv(os.path.join(cv_dir, \"rand\", \"hists\", \"{}_{}_rand_hist_epoch_{}_train_acc_{}.csv\".format(seed, i, final_epoch_rand, round(final_acc_rand, 2))), index = False)\n",
    "    \n",
    "    \n",
    "    ### PREDICTING WITH KNN ### with well trained model\n",
    "    \n",
    "    knn.fit(X_train_KNN, y_train_KNN) # train the model using the real training set\n",
    "\n",
    "    y_pred_KNN = knn.predict(X_val_KNN) # predict the response for test dataset\n",
    "\n",
    "    acc_pred = metrics.accuracy_score(y_val_KNN, y_pred_KNN) # accuracies of well trained KNN prediction\n",
    "\n",
    "    accs_pred_KNN.append(acc_pred)\n",
    "    \n",
    "    ### PREDICTING WITH KNN ### with RANDOMLY trained model\n",
    "\n",
    "    knn.fit(X_train_KNN_rand, y_train_KNN_rand) # train the model using the randomised training set\n",
    "\n",
    "    y_pred_KNN_rand = knn.predict(X_val_KNN) # predict the response for test dataset\n",
    "    \n",
    "    acc_pred_rand = metrics.accuracy_score(y_val_KNN, y_pred_KNN_rand) # accuracies of randomly trained KNN prediction\n",
    "    \n",
    "    accs_pred_KNN_rand.append(acc_pred_rand)\n",
    "    \n",
    "    ### COMPLETELY RANDOM BASELINE PREDICTION ### \n",
    "    \n",
    "    y_rand = [random.randint(0, 3) for i in range(len(y_val_KNN))] # assigning random cluster labels p=0.25\n",
    "    \n",
    "    acc_rand = metrics.accuracy_score(y_val_KNN, y_rand)\n",
    "    \n",
    "    accs_rand.append(acc_rand)\n",
    "    \n",
    "    #break"
   ]
  },
  {
   "cell_type": "code",
   "execution_count": 34,
   "metadata": {},
   "outputs": [],
   "source": [
    "k_fold_n = [i for i in range(1, 11) for o in range(10)]\n",
    "rskf_df = pd.DataFrame(list(zip(k_fold_n, accs_pred_ANN, accs_pred_KNN, accs_pred_ANN_rand, accs_pred_KNN_rand, accs_rand)), columns = [\"repeat_fold\", \"ANN_pred_acc\", \"KNN_pred_acc\", \"ANN_pred_acc_rand\", \"KNN_pred_acc_rand\", \"rand_acc\"])"
   ]
  },
  {
   "cell_type": "code",
   "execution_count": 35,
   "metadata": {},
   "outputs": [],
   "source": [
    "rskf_df.to_pickle(os.path.join(results_dir, \"rskf_cv.pkl\"))"
   ]
  },
  {
   "cell_type": "code",
   "execution_count": 22,
   "metadata": {},
   "outputs": [],
   "source": [
    "rskf_df = pd.read_pickle(os.path.join(results_dir, \"rskf_cv.pkl\"))"
   ]
  },
  {
   "cell_type": "markdown",
   "metadata": {},
   "source": [
    "### ASSESSING ANNS CROSS-VALIDATION PERFORMANCE"
   ]
  },
  {
   "cell_type": "code",
   "execution_count": 28,
   "metadata": {},
   "outputs": [],
   "source": [
    "conf1_f = os.path.join(results_dir, \"good_confidence_data.pkl\")\n",
    "conf2_f = os.path.join(results_dir, \"good_confidence_data_sum.pkl\")\n",
    "if os.path.isfile(conf1_f) and os.path.isfile(conf2_f):\n",
    "    conf_good_df1 = pd.read_pickle(conf1_f)\n",
    "    conf_good_df2 = pd.read_pickle(conf2_f)\n",
    "else:\n",
    "    conf_good_df1, conf_good_df2 = get_confidences_df(ann_good_preds, ann_good_preds_round, ann_real_vals)"
   ]
  },
  {
   "cell_type": "markdown",
   "metadata": {},
   "source": [
    "#### ACCURACY AND AVERAGE CONFIDENCE FOR EACH CLUSTER LABEL"
   ]
  },
  {
   "cell_type": "code",
   "execution_count": 29,
   "metadata": {},
   "outputs": [
    {
     "name": "stdout",
     "output_type": "stream",
     "text": [
      "0 0.938 7.34\n",
      "1 0.897 6.28\n",
      "2 0.876 6.83\n",
      "3 0.958 7.89\n"
     ]
    }
   ],
   "source": [
    "for i in range(0,4):\n",
    "    df_i = conf_good_df1[conf_good_df1.val == i]\n",
    "    df_i_corr = df_i[df_i.val == df_i.pred]\n",
    "    print(i, round(len(df_i_corr)/len(df_i),3), round(df_i_corr.conf.mean(),2))"
   ]
  },
  {
   "cell_type": "code",
   "execution_count": 30,
   "metadata": {},
   "outputs": [
    {
     "data": {
      "text/plain": [
       "(2660, 4)"
      ]
     },
     "execution_count": 30,
     "metadata": {},
     "output_type": "execute_result"
    }
   ],
   "source": [
    "conf_good_df1.shape"
   ]
  },
  {
   "cell_type": "code",
   "execution_count": 31,
   "metadata": {},
   "outputs": [
    {
     "data": {
      "text/html": [
       "<div>\n",
       "<style scoped>\n",
       "    .dataframe tbody tr th:only-of-type {\n",
       "        vertical-align: middle;\n",
       "    }\n",
       "\n",
       "    .dataframe tbody tr th {\n",
       "        vertical-align: top;\n",
       "    }\n",
       "\n",
       "    .dataframe thead th {\n",
       "        text-align: right;\n",
       "    }\n",
       "</style>\n",
       "<table border=\"1\" class=\"dataframe\">\n",
       "  <thead>\n",
       "    <tr style=\"text-align: right;\">\n",
       "      <th></th>\n",
       "      <th>id</th>\n",
       "      <th>conf</th>\n",
       "      <th>val</th>\n",
       "      <th>pred</th>\n",
       "    </tr>\n",
       "  </thead>\n",
       "  <tbody>\n",
       "    <tr>\n",
       "      <th>0</th>\n",
       "      <td>Q96HY7_0_BS0</td>\n",
       "      <td>4</td>\n",
       "      <td>1</td>\n",
       "      <td>1</td>\n",
       "    </tr>\n",
       "    <tr>\n",
       "      <th>1</th>\n",
       "      <td>P11838_0_BS8</td>\n",
       "      <td>2</td>\n",
       "      <td>1</td>\n",
       "      <td>1</td>\n",
       "    </tr>\n",
       "    <tr>\n",
       "      <th>2</th>\n",
       "      <td>P47811_0_BS7</td>\n",
       "      <td>9</td>\n",
       "      <td>2</td>\n",
       "      <td>2</td>\n",
       "    </tr>\n",
       "  </tbody>\n",
       "</table>\n",
       "</div>"
      ],
      "text/plain": [
       "             id  conf  val  pred\n",
       "0  Q96HY7_0_BS0     4    1     1\n",
       "1  P11838_0_BS8     2    1     1\n",
       "2  P47811_0_BS7     9    2     2"
      ]
     },
     "execution_count": 31,
     "metadata": {},
     "output_type": "execute_result"
    }
   ],
   "source": [
    "conf_good_df1.head(3)"
   ]
  },
  {
   "cell_type": "code",
   "execution_count": 32,
   "metadata": {},
   "outputs": [
    {
     "data": {
      "text/html": [
       "<div>\n",
       "<style scoped>\n",
       "    .dataframe tbody tr th:only-of-type {\n",
       "        vertical-align: middle;\n",
       "    }\n",
       "\n",
       "    .dataframe tbody tr th {\n",
       "        vertical-align: top;\n",
       "    }\n",
       "\n",
       "    .dataframe thead th {\n",
       "        text-align: right;\n",
       "    }\n",
       "</style>\n",
       "<table border=\"1\" class=\"dataframe\">\n",
       "  <thead>\n",
       "    <tr style=\"text-align: right;\">\n",
       "      <th></th>\n",
       "      <th>conf</th>\n",
       "      <th>cov</th>\n",
       "      <th>acc</th>\n",
       "    </tr>\n",
       "  </thead>\n",
       "  <tbody>\n",
       "    <tr>\n",
       "      <th>5</th>\n",
       "      <td>5</td>\n",
       "      <td>0.750376</td>\n",
       "      <td>0.965932</td>\n",
       "    </tr>\n",
       "  </tbody>\n",
       "</table>\n",
       "</div>"
      ],
      "text/plain": [
       "   conf       cov       acc\n",
       "5     5  0.750376  0.965932"
      ]
     },
     "execution_count": 32,
     "metadata": {},
     "output_type": "execute_result"
    }
   ],
   "source": [
    "conf_good_df2.query('conf == 5')"
   ]
  },
  {
   "cell_type": "code",
   "execution_count": 33,
   "metadata": {},
   "outputs": [
    {
     "data": {
      "text/html": [
       "<div>\n",
       "<style scoped>\n",
       "    .dataframe tbody tr th:only-of-type {\n",
       "        vertical-align: middle;\n",
       "    }\n",
       "\n",
       "    .dataframe tbody tr th {\n",
       "        vertical-align: top;\n",
       "    }\n",
       "\n",
       "    .dataframe thead th {\n",
       "        text-align: right;\n",
       "    }\n",
       "</style>\n",
       "<table border=\"1\" class=\"dataframe\">\n",
       "  <thead>\n",
       "    <tr style=\"text-align: right;\">\n",
       "      <th></th>\n",
       "      <th>conf</th>\n",
       "      <th>cov</th>\n",
       "      <th>acc</th>\n",
       "    </tr>\n",
       "  </thead>\n",
       "  <tbody>\n",
       "    <tr>\n",
       "      <th>0</th>\n",
       "      <td>0</td>\n",
       "      <td>1.00000</td>\n",
       "      <td>0.902632</td>\n",
       "    </tr>\n",
       "    <tr>\n",
       "      <th>9</th>\n",
       "      <td>9</td>\n",
       "      <td>0.35188</td>\n",
       "      <td>0.994658</td>\n",
       "    </tr>\n",
       "  </tbody>\n",
       "</table>\n",
       "</div>"
      ],
      "text/plain": [
       "   conf      cov       acc\n",
       "0     0  1.00000  0.902632\n",
       "9     9  0.35188  0.994658"
      ]
     },
     "execution_count": 33,
     "metadata": {},
     "output_type": "execute_result"
    }
   ],
   "source": [
    "conf_good_df2.loc[[0,9], :]"
   ]
  },
  {
   "cell_type": "code",
   "execution_count": 34,
   "metadata": {},
   "outputs": [
    {
     "data": {
      "image/png": "[encoded data removed]",
      "text/plain": [
       "<Figure size 500x500 with 2 Axes>"
      ]
     },
     "metadata": {},
     "output_type": "display_data"
    }
   ],
   "source": [
    "plot_conf_acc_cov(\n",
    "    conf_good_df2,\n",
    "    #f_size = (7.5, 7.5),\n",
    "    #dpi = 300, out = os.path.join(figs_dir, \"ML_conf_cov_acc_good.png\")\n",
    ")"
   ]
  },
  {
   "cell_type": "code",
   "execution_count": 43,
   "metadata": {},
   "outputs": [],
   "source": [
    "conf_good_df1.to_pickle(os.path.join(results_dir, \"good_confidence_data.pkl\"))\n",
    "conf_good_df2.to_pickle(os.path.join(results_dir, \"good_confidence_data_sum.pkl\"))"
   ]
  },
  {
   "cell_type": "code",
   "execution_count": 35,
   "metadata": {},
   "outputs": [],
   "source": [
    "conf1_rand_f = os.path.join(results_dir, \"rand_confidence_data.pkl\")\n",
    "conf2_rand_f = os.path.join(results_dir, \"rand_confidence_data_sum.pkl\")\n",
    "if os.path.isfile(conf1_rand_f) and os.path.isfile(conf2_rand_f):\n",
    "    conf_rand_df1 = pd.read_pickle(conf1_rand_f)\n",
    "    conf_rand_df2 = pd.read_pickle(conf2_rand_f)\n",
    "else:\n",
    "    conf_rand_df1, conf_rand_df2 = get_confidences_df(ann_rand_preds, ann_rand_preds_round, ann_real_vals)"
   ]
  },
  {
   "cell_type": "code",
   "execution_count": 36,
   "metadata": {},
   "outputs": [
    {
     "data": {
      "image/png": "[encoded data removed]",
      "text/plain": [
       "<Figure size 500x500 with 2 Axes>"
      ]
     },
     "metadata": {},
     "output_type": "display_data"
    }
   ],
   "source": [
    "plot_conf_acc_cov(\n",
    "    conf_rand_df2,\n",
    "    #f_size = (7.5, 7.5),\n",
    "    #dpi = 300, out = os.path.join(figs_dir, \"ML_conf_cov_acc_rand.png\")\n",
    ")"
   ]
  },
  {
   "cell_type": "code",
   "execution_count": null,
   "metadata": {},
   "outputs": [],
   "source": [
    "conf_rand_df1.to_pickle(os.path.join(results_dir, \"rand_confidence_data.pkl\"))\n",
    "conf_rand_df2.to_pickle(os.path.join(results_dir, \"rand_confidence_data_sum.pkl\"))"
   ]
  },
  {
   "cell_type": "markdown",
   "metadata": {},
   "source": [
    "## COMPARING CV ACCURACIES ACROSS METHODS AND BASELINES"
   ]
  },
  {
   "cell_type": "code",
   "execution_count": 37,
   "metadata": {},
   "outputs": [
    {
     "name": "stdout",
     "output_type": "stream",
     "text": [
      "Average 10-repeat 10-fold cross validation for KNN prediction = 98.12%\n",
      "Average 10-repeat 10-fold cross validation for KNN random prediction = 32.65%\n",
      "Average 10-repeat 10-fold cross validation for ANN prediction = 90.27%\n",
      "Average 10-repeat 10-fold cross validation for ANN random prediction = 30.73%\n",
      "Average 10-repeat 10-fold cross validation for random prediction = 24.27%\n"
     ]
    }
   ],
   "source": [
    "print(\"Average 10-repeat 10-fold cross validation for KNN prediction = {}%\".format(round(rskf_df.KNN_pred_acc.mean()*100,2)))\n",
    "\n",
    "print(\"Average 10-repeat 10-fold cross validation for KNN random prediction = {}%\".format(round(rskf_df.KNN_pred_acc_rand.mean()*100,2)))\n",
    "\n",
    "print(\"Average 10-repeat 10-fold cross validation for ANN prediction = {}%\".format(round(rskf_df.ANN_pred_acc.mean()*100,2)))\n",
    "\n",
    "print(\"Average 10-repeat 10-fold cross validation for ANN random prediction = {}%\".format(round(rskf_df.ANN_pred_acc_rand.mean()*100,2)))\n",
    "\n",
    "print(\"Average 10-repeat 10-fold cross validation for random prediction = {}%\".format(round(rskf_df.rand_acc.mean()*100,2)))"
   ]
  },
  {
   "cell_type": "code",
   "execution_count": 38,
   "metadata": {},
   "outputs": [],
   "source": [
    "ANN_pred_acc_mean = rskf_df.ANN_pred_acc.mean()\n",
    "KNN_pred_acc_mean = rskf_df.KNN_pred_acc.mean()\n",
    "ANN_pred_acc_rand_mean = rskf_df.ANN_pred_acc_rand.mean()\n",
    "KNN_pred_acc_rand_mean = rskf_df.KNN_pred_acc_rand.mean()\n",
    "rand_acc_mean = rskf_df.rand_acc.mean()\n",
    "\n",
    "ANN_pred_acc_sem = scipy.stats.sem(rskf_df.ANN_pred_acc)\n",
    "KNN_pred_acc_sem = scipy.stats.sem(rskf_df.KNN_pred_acc)\n",
    "ANN_pred_acc_rand_sem = scipy.stats.sem(rskf_df.ANN_pred_acc_rand)\n",
    "KNN_pred_acc_rand_sem = scipy.stats.sem(rskf_df.KNN_pred_acc_rand)\n",
    "rand_acc_sem = scipy.stats.sem(rskf_df.rand_acc)"
   ]
  },
  {
   "cell_type": "code",
   "execution_count": 39,
   "metadata": {},
   "outputs": [
    {
     "name": "stdout",
     "output_type": "stream",
     "text": [
      "ANN  90.27 0.6 (89.67, 90.87)\n",
      "KNN  98.12 0.28 (97.85, 98.4)\n",
      "ANN_rand  30.73 1.08 (29.65, 31.81)\n",
      "KNN_rand  32.65 0.94 (31.71, 33.59)\n",
      "random  24.27 0.93 (23.34, 25.2)\n"
     ]
    }
   ],
   "source": [
    "print(\"ANN \", round(ANN_pred_acc_mean*100, 2), round(ANN_pred_acc_sem*100, 2), (round((ANN_pred_acc_mean-ANN_pred_acc_sem)*100, 2), round((ANN_pred_acc_mean+ANN_pred_acc_sem)*100, 2)))\n",
    "\n",
    "print(\"KNN \", round(KNN_pred_acc_mean*100, 2), round(KNN_pred_acc_sem*100, 2), (round((KNN_pred_acc_mean-KNN_pred_acc_sem)*100, 2), round((KNN_pred_acc_mean+KNN_pred_acc_sem)*100, 2)))\n",
    "\n",
    "print(\"ANN_rand \", round(ANN_pred_acc_rand_mean*100, 2), round(ANN_pred_acc_rand_sem*100, 2), (round((ANN_pred_acc_rand_mean-ANN_pred_acc_rand_sem)*100, 2), round((ANN_pred_acc_rand_mean+ANN_pred_acc_rand_sem)*100, 2)))\n",
    "KNN_pred_acc_rand_mean\n",
    "print(\"KNN_rand \", round(KNN_pred_acc_rand_mean*100, 2), round(KNN_pred_acc_rand_sem*100, 2), (round((KNN_pred_acc_rand_mean-KNN_pred_acc_rand_sem)*100, 2), round((KNN_pred_acc_rand_mean+KNN_pred_acc_rand_sem)*100, 2)))\n",
    "\n",
    "print(\"random \", round(rand_acc_mean*100, 2), round(rand_acc_sem*100, 2), (round((rand_acc_mean-rand_acc_sem)*100, 2), round((rand_acc_mean+rand_acc_sem)*100, 2)))"
   ]
  },
  {
   "cell_type": "code",
   "execution_count": 40,
   "metadata": {},
   "outputs": [
    {
     "data": {
      "image/png": "[encoded data removed]",
      "text/plain": [
       "<Figure size 750x750 with 1 Axes>"
      ]
     },
     "metadata": {},
     "output_type": "display_data"
    }
   ],
   "source": [
    "plt.figure(figsize = (7.5, 7.5), dpi = 100)\n",
    "plt.ylim(-0.05, 1.05)\n",
    "ax1 = sns.boxplot(y = \"KNN_pred_acc\", x = \"repeat_fold\", data = rskf_df, color = \"firebrick\", **PROPS_pred_KNN, flierprops=flierprops_pred_KNN, saturation = 0.5)\n",
    "sns.boxplot(y = \"ANN_pred_acc\", x = \"repeat_fold\", data = rskf_df, color = \"royalblue\", **PROPS_pred_ANN, flierprops=flierprops_pred_ANN, saturation = 0.5, ax = ax1)\n",
    "sns.boxplot(y = \"KNN_pred_acc_rand\", x = \"repeat_fold\", data = rskf_df, color = \"tomato\", **PROPS_rand_KNN, flierprops=flierprops_rand_KNN, saturation = 0.5, ax = ax1)\n",
    "sns.boxplot(y = \"ANN_pred_acc_rand\", x = \"repeat_fold\", data = rskf_df, color = \"cornflowerblue\", **PROPS_rand_ANN, flierprops=flierprops_rand_ANN, saturation = 0.5, ax = ax1)\n",
    "#sns.boxplot(y = \"rand_acc\", x = \"repeat_fold\", data = rskf_df, color = \"gold\", **PROPS_rand, flierprops=flierprops_rand)\n",
    "\n",
    "plt.ylabel(\"CROSS-VALIDATION ACCURACY\")\n",
    "plt.xlabel(\"REPEAT FOLD\")\n",
    "#plt.savefig(os.path.join(figs_dir, \"ML_CV.png\"))\n",
    "plt.show()"
   ]
  }
 ],
 "metadata": {
  "kernelspec": {
   "display_name": "Python [conda env:deep_learning]",
   "language": "python",
   "name": "conda-env-deep_learning-py"
  },
  "language_info": {
   "codemirror_mode": {
    "name": "ipython",
    "version": 3
   },
   "file_extension": ".py",
   "mimetype": "text/x-python",
   "name": "python",
   "nbconvert_exporter": "python",
   "pygments_lexer": "ipython3",
   "version": "3.10.8"
  }
 },
 "nbformat": 4,
 "nbformat_minor": 4
}
