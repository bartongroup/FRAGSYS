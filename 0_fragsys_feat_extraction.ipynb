{
 "cells": [
  {
   "cell_type": "markdown",
   "metadata": {},
   "source": [
    "# EXTRACTING UNIPROT FEATURE ANNOTATIONS TO CLASSIFY SITES BASED ON FUNCTION"
   ]
  },
  {
   "cell_type": "markdown",
   "metadata": {},
   "source": [
    "### IMPORTING NECESSARY PACKAGES"
   ]
  },
  {
   "cell_type": "code",
   "execution_count": 2,
   "metadata": {},
   "outputs": [],
   "source": [
    "from fragsys_analysis import *"
   ]
  },
  {
   "cell_type": "markdown",
   "metadata": {},
   "source": [
    "### READING INPUT DATA"
   ]
  },
  {
   "cell_type": "code",
   "execution_count": 3,
   "metadata": {},
   "outputs": [],
   "source": [
    "main_dir = \"/Users/2394007/Documents/PHD/LOCAL/FRAGSYS_DEF/\"\n",
    "results_dir = os.path.join(main_dir, \"results\")\n",
    "prots_df = pd.read_csv(os.path.join(results_dir, \"all_proteins.csv\"))\n",
    "binding_ress = pd.read_csv(os.path.join(results_dir, \"all_binding_site_residues_wgroup.csv\"))"
   ]
  },
  {
   "cell_type": "code",
   "execution_count": 4,
   "metadata": {},
   "outputs": [
    {
     "name": "stdout",
     "output_type": "stream",
     "text": [
      "(14172, 62)\n"
     ]
    }
   ],
   "source": [
    "print(binding_ress.shape)"
   ]
  },
  {
   "cell_type": "code",
   "execution_count": 5,
   "metadata": {},
   "outputs": [
    {
     "name": "stdout",
     "output_type": "stream",
     "text": [
      "35\n"
     ]
    }
   ],
   "source": [
    "accs = prots_df.acc.unique().tolist()\n",
    "print(len(accs))"
   ]
  },
  {
   "cell_type": "code",
   "execution_count": 6,
   "metadata": {},
   "outputs": [],
   "source": [
    "acc_feat_dfs = []\n",
    "for acc in accs:\n",
    "    acc_feat_df = pd.read_json(\"https://www.ebi.ac.uk/proteins/api/features/{}?categories=DOMAINS_AND_SITES\".format(acc))\n",
    "    acc_feat_dfs.append(acc_feat_df)"
   ]
  },
  {
   "cell_type": "code",
   "execution_count": 7,
   "metadata": {},
   "outputs": [],
   "source": [
    "feats_df = pd.concat(acc_feat_dfs).reset_index(drop=True)"
   ]
  },
  {
   "cell_type": "code",
   "execution_count": 8,
   "metadata": {},
   "outputs": [
    {
     "data": {
      "text/html": [
       "<div>\n",
       "<style scoped>\n",
       "    .dataframe tbody tr th:only-of-type {\n",
       "        vertical-align: middle;\n",
       "    }\n",
       "\n",
       "    .dataframe tbody tr th {\n",
       "        vertical-align: top;\n",
       "    }\n",
       "\n",
       "    .dataframe thead th {\n",
       "        text-align: right;\n",
       "    }\n",
       "</style>\n",
       "<table border=\"1\" class=\"dataframe\">\n",
       "  <thead>\n",
       "    <tr style=\"text-align: right;\">\n",
       "      <th></th>\n",
       "      <th>accession</th>\n",
       "      <th>entryName</th>\n",
       "      <th>sequence</th>\n",
       "      <th>sequenceChecksum</th>\n",
       "      <th>taxid</th>\n",
       "      <th>features</th>\n",
       "    </tr>\n",
       "  </thead>\n",
       "  <tbody>\n",
       "    <tr>\n",
       "      <th>0</th>\n",
       "      <td>Q9UGL1</td>\n",
       "      <td>KDM5B_HUMAN</td>\n",
       "      <td>MEAATTLHPGPRPALPLGGPGPLGEFLPPPECPVFEPSWEEFADPF...</td>\n",
       "      <td>70A0738D9A709F61</td>\n",
       "      <td>9606</td>\n",
       "      <td>{'type': 'DOMAIN', 'category': 'DOMAINS_AND_SI...</td>\n",
       "    </tr>\n",
       "    <tr>\n",
       "      <th>1</th>\n",
       "      <td>Q9UGL1</td>\n",
       "      <td>KDM5B_HUMAN</td>\n",
       "      <td>MEAATTLHPGPRPALPLGGPGPLGEFLPPPECPVFEPSWEEFADPF...</td>\n",
       "      <td>70A0738D9A709F61</td>\n",
       "      <td>9606</td>\n",
       "      <td>{'type': 'DOMAIN', 'category': 'DOMAINS_AND_SI...</td>\n",
       "    </tr>\n",
       "    <tr>\n",
       "      <th>2</th>\n",
       "      <td>Q9UGL1</td>\n",
       "      <td>KDM5B_HUMAN</td>\n",
       "      <td>MEAATTLHPGPRPALPLGGPGPLGEFLPPPECPVFEPSWEEFADPF...</td>\n",
       "      <td>70A0738D9A709F61</td>\n",
       "      <td>9606</td>\n",
       "      <td>{'type': 'DOMAIN', 'category': 'DOMAINS_AND_SI...</td>\n",
       "    </tr>\n",
       "    <tr>\n",
       "      <th>3</th>\n",
       "      <td>Q9UGL1</td>\n",
       "      <td>KDM5B_HUMAN</td>\n",
       "      <td>MEAATTLHPGPRPALPLGGPGPLGEFLPPPECPVFEPSWEEFADPF...</td>\n",
       "      <td>70A0738D9A709F61</td>\n",
       "      <td>9606</td>\n",
       "      <td>{'type': 'ZN_FING', 'category': 'DOMAINS_AND_S...</td>\n",
       "    </tr>\n",
       "    <tr>\n",
       "      <th>4</th>\n",
       "      <td>Q9UGL1</td>\n",
       "      <td>KDM5B_HUMAN</td>\n",
       "      <td>MEAATTLHPGPRPALPLGGPGPLGEFLPPPECPVFEPSWEEFADPF...</td>\n",
       "      <td>70A0738D9A709F61</td>\n",
       "      <td>9606</td>\n",
       "      <td>{'type': 'ZN_FING', 'category': 'DOMAINS_AND_S...</td>\n",
       "    </tr>\n",
       "  </tbody>\n",
       "</table>\n",
       "</div>"
      ],
      "text/plain": [
       "  accession    entryName                                           sequence  \\\n",
       "0    Q9UGL1  KDM5B_HUMAN  MEAATTLHPGPRPALPLGGPGPLGEFLPPPECPVFEPSWEEFADPF...   \n",
       "1    Q9UGL1  KDM5B_HUMAN  MEAATTLHPGPRPALPLGGPGPLGEFLPPPECPVFEPSWEEFADPF...   \n",
       "2    Q9UGL1  KDM5B_HUMAN  MEAATTLHPGPRPALPLGGPGPLGEFLPPPECPVFEPSWEEFADPF...   \n",
       "3    Q9UGL1  KDM5B_HUMAN  MEAATTLHPGPRPALPLGGPGPLGEFLPPPECPVFEPSWEEFADPF...   \n",
       "4    Q9UGL1  KDM5B_HUMAN  MEAATTLHPGPRPALPLGGPGPLGEFLPPPECPVFEPSWEEFADPF...   \n",
       "\n",
       "   sequenceChecksum  taxid                                           features  \n",
       "0  70A0738D9A709F61   9606  {'type': 'DOMAIN', 'category': 'DOMAINS_AND_SI...  \n",
       "1  70A0738D9A709F61   9606  {'type': 'DOMAIN', 'category': 'DOMAINS_AND_SI...  \n",
       "2  70A0738D9A709F61   9606  {'type': 'DOMAIN', 'category': 'DOMAINS_AND_SI...  \n",
       "3  70A0738D9A709F61   9606  {'type': 'ZN_FING', 'category': 'DOMAINS_AND_S...  \n",
       "4  70A0738D9A709F61   9606  {'type': 'ZN_FING', 'category': 'DOMAINS_AND_S...  "
      ]
     },
     "execution_count": 8,
     "metadata": {},
     "output_type": "execute_result"
    }
   ],
   "source": [
    "feats_df.head(5)"
   ]
  },
  {
   "cell_type": "code",
   "execution_count": 9,
   "metadata": {},
   "outputs": [
    {
     "data": {
      "text/plain": [
       "(607, 6)"
      ]
     },
     "execution_count": 9,
     "metadata": {},
     "output_type": "execute_result"
    }
   ],
   "source": [
    "feats_df.shape"
   ]
  },
  {
   "cell_type": "code",
   "execution_count": 10,
   "metadata": {},
   "outputs": [],
   "source": [
    "dump_pickle(feats_df, os.path.join(results_dir, \"uniprot_func_anns.pkl\"))"
   ]
  },
  {
   "cell_type": "code",
   "execution_count": 11,
   "metadata": {},
   "outputs": [],
   "source": [
    "accs_in_df = feats_df.accession.unique().tolist()"
   ]
  },
  {
   "cell_type": "code",
   "execution_count": 12,
   "metadata": {},
   "outputs": [
    {
     "data": {
      "text/plain": [
       "['Q8WS26']"
      ]
     },
     "execution_count": 12,
     "metadata": {},
     "output_type": "execute_result"
    }
   ],
   "source": [
    "[acc for acc in accs if acc not in accs_in_df] # not in data frame as it is unreviewed"
   ]
  },
  {
   "cell_type": "code",
   "execution_count": 13,
   "metadata": {},
   "outputs": [],
   "source": [
    "feats_df = feats_df.join(feats_df.features.apply(lambda x: pd.Series(x))).drop(columns = \"features\")"
   ]
  },
  {
   "cell_type": "code",
   "execution_count": 14,
   "metadata": {},
   "outputs": [],
   "source": [
    "cc = [\"accession\", \"type\", \"description\", \"begin\", \"end\", \"molecule\", \"evidences\", \"ligand\", \"ligandPart\"]"
   ]
  },
  {
   "cell_type": "code",
   "execution_count": 15,
   "metadata": {},
   "outputs": [
    {
     "data": {
      "text/html": [
       "<div>\n",
       "<style scoped>\n",
       "    .dataframe tbody tr th:only-of-type {\n",
       "        vertical-align: middle;\n",
       "    }\n",
       "\n",
       "    .dataframe tbody tr th {\n",
       "        vertical-align: top;\n",
       "    }\n",
       "\n",
       "    .dataframe thead th {\n",
       "        text-align: right;\n",
       "    }\n",
       "</style>\n",
       "<table border=\"1\" class=\"dataframe\">\n",
       "  <thead>\n",
       "    <tr style=\"text-align: right;\">\n",
       "      <th></th>\n",
       "      <th>accession</th>\n",
       "      <th>type</th>\n",
       "      <th>description</th>\n",
       "      <th>begin</th>\n",
       "      <th>end</th>\n",
       "      <th>molecule</th>\n",
       "      <th>evidences</th>\n",
       "      <th>ligand</th>\n",
       "      <th>ligandPart</th>\n",
       "    </tr>\n",
       "  </thead>\n",
       "  <tbody>\n",
       "    <tr>\n",
       "      <th>0</th>\n",
       "      <td>Q9UGL1</td>\n",
       "      <td>DOMAIN</td>\n",
       "      <td>JmjN</td>\n",
       "      <td>32</td>\n",
       "      <td>73</td>\n",
       "      <td></td>\n",
       "      <td>[{'code': 'ECO:0000255', 'source': {'name': 'P...</td>\n",
       "      <td>NaN</td>\n",
       "      <td>NaN</td>\n",
       "    </tr>\n",
       "    <tr>\n",
       "      <th>1</th>\n",
       "      <td>Q9UGL1</td>\n",
       "      <td>DOMAIN</td>\n",
       "      <td>ARID</td>\n",
       "      <td>97</td>\n",
       "      <td>187</td>\n",
       "      <td></td>\n",
       "      <td>[{'code': 'ECO:0000255', 'source': {'name': 'P...</td>\n",
       "      <td>NaN</td>\n",
       "      <td>NaN</td>\n",
       "    </tr>\n",
       "    <tr>\n",
       "      <th>2</th>\n",
       "      <td>Q9UGL1</td>\n",
       "      <td>DOMAIN</td>\n",
       "      <td>JmjC</td>\n",
       "      <td>453</td>\n",
       "      <td>619</td>\n",
       "      <td></td>\n",
       "      <td>[{'code': 'ECO:0000255', 'source': {'name': 'P...</td>\n",
       "      <td>NaN</td>\n",
       "      <td>NaN</td>\n",
       "    </tr>\n",
       "  </tbody>\n",
       "</table>\n",
       "</div>"
      ],
      "text/plain": [
       "  accession    type description begin  end molecule  \\\n",
       "0    Q9UGL1  DOMAIN        JmjN    32   73            \n",
       "1    Q9UGL1  DOMAIN        ARID    97  187            \n",
       "2    Q9UGL1  DOMAIN        JmjC   453  619            \n",
       "\n",
       "                                           evidences ligand ligandPart  \n",
       "0  [{'code': 'ECO:0000255', 'source': {'name': 'P...    NaN        NaN  \n",
       "1  [{'code': 'ECO:0000255', 'source': {'name': 'P...    NaN        NaN  \n",
       "2  [{'code': 'ECO:0000255', 'source': {'name': 'P...    NaN        NaN  "
      ]
     },
     "execution_count": 15,
     "metadata": {},
     "output_type": "execute_result"
    }
   ],
   "source": [
    "feats_df[cc].head(3)"
   ]
  },
  {
   "cell_type": "code",
   "execution_count": 16,
   "metadata": {},
   "outputs": [
    {
     "data": {
      "text/plain": [
       "BINDING     227\n",
       "REGION      123\n",
       "DOMAIN      114\n",
       "SITE         49\n",
       "ACT_SITE     36\n",
       "MOTIF        17\n",
       "REPEAT       17\n",
       "ZN_FING      13\n",
       "COILED       10\n",
       "DNA_BIND      1\n",
       "Name: type, dtype: int64"
      ]
     },
     "execution_count": 16,
     "metadata": {},
     "output_type": "execute_result"
    }
   ],
   "source": [
    "feats_df.type.value_counts()"
   ]
  },
  {
   "cell_type": "code",
   "execution_count": 17,
   "metadata": {},
   "outputs": [],
   "source": [
    "int_feats = [\"BINDING\", \"SITE\", \"ACT_SITE\"] # NOT: REGION, DOMAIN, MOTIF, REPEAT, ZN_FING, COILED, DNA_BIND"
   ]
  },
  {
   "cell_type": "code",
   "execution_count": 18,
   "metadata": {
    "tags": []
   },
   "outputs": [
    {
     "data": {
      "text/plain": [
       "BINDING     227\n",
       "SITE         49\n",
       "ACT_SITE     36\n",
       "Name: type, dtype: int64"
      ]
     },
     "execution_count": 18,
     "metadata": {},
     "output_type": "execute_result"
    }
   ],
   "source": [
    "feats_df_filt = feats_df.query('type in @int_feats').copy().reset_index(drop = True)\n",
    "feats_df_filt.type.value_counts()"
   ]
  },
  {
   "cell_type": "code",
   "execution_count": 19,
   "metadata": {
    "tags": []
   },
   "outputs": [],
   "source": [
    "feats_df_filt.end = feats_df_filt.end.astype(int)\n",
    "feats_df_filt.begin = feats_df_filt.begin.astype(int)"
   ]
  },
  {
   "cell_type": "markdown",
   "metadata": {},
   "source": [
    "## GETTING FUNCTIONAL RESIDUES FOR EACH PROTEIN"
   ]
  },
  {
   "cell_type": "code",
   "execution_count": 20,
   "metadata": {},
   "outputs": [],
   "source": [
    "func_ress = {}\n",
    "for acc, acc_df in feats_df_filt.groupby(\"accession\"):\n",
    "    func_ress[acc] = []\n",
    "    for i, row in acc_df.iterrows():\n",
    "        beg = row.begin\n",
    "        end = row.end\n",
    "        if beg == end:\n",
    "            func_ress[acc].append(beg)\n",
    "        else:\n",
    "            func_ress[acc].extend(list(range(beg, end+1)))\n",
    "            \n",
    "func_ress = {k: sorted(list(set(v))) for k, v in func_ress.items()}"
   ]
  },
  {
   "cell_type": "code",
   "execution_count": 21,
   "metadata": {},
   "outputs": [
    {
     "name": "stdout",
     "output_type": "stream",
     "text": [
      "24\n"
     ]
    }
   ],
   "source": [
    "print(len(func_ress)) # 24/35 proteins have functional feature annotations"
   ]
  },
  {
   "cell_type": "code",
   "execution_count": 22,
   "metadata": {
    "collapsed": true,
    "jupyter": {
     "outputs_hidden": true
    },
    "tags": []
   },
   "outputs": [
    {
     "name": "stdout",
     "output_type": "stream",
     "text": [
      "1 H0Y4R8 8\n",
      "2 O43809 2\n",
      "3 P01584 10\n",
      "4 P06873 8\n",
      "5 P0C024 3\n",
      "6 P0DTD1 130\n",
      "7 P11838 2\n",
      "8 P15379 4\n",
      "9 P18031 9\n",
      "10 P22557 12\n",
      "11 P47811 11\n",
      "12 Q12830 4\n",
      "13 Q15047 21\n",
      "14 Q32ZE1 78\n",
      "15 Q460N5 34\n",
      "16 Q6B0I6 11\n",
      "17 Q6PJP8 4\n",
      "18 Q6PL18 8\n",
      "19 Q7LBC6 3\n",
      "20 Q8IU60 2\n",
      "21 Q9BRQ3 10\n",
      "22 Q9UGL1 7\n",
      "23 Q9UJM8 20\n",
      "24 Q9UKK9 11\n"
     ]
    }
   ],
   "source": [
    "for i, k in enumerate(list(func_ress.keys())):\n",
    "    print(i+1, k, len(func_ress[k]))"
   ]
  },
  {
   "cell_type": "code",
   "execution_count": 23,
   "metadata": {
    "tags": []
   },
   "outputs": [],
   "source": [
    "bs_cols = [\n",
    "    \"BS0\", \"BS1\", \"BS2\", \"BS3\", \"BS4\",\n",
    "    \"BS5\", \"BS6\", \"BS7\", \"BS8\", \"BS9\",\n",
    "    \"BS10\", \"BS11\", \"BS12\", \"BS13\", \"BS14\",\n",
    "    \"BS15\", \"BS16\", \"BS17\", \"BS18\", \"BS19\",\n",
    "    \"BS20\", \"BS21\", \"BS22\", \"BS23\"\n",
    "]"
   ]
  },
  {
   "cell_type": "markdown",
   "metadata": {},
   "source": [
    "## CLASSIFYING EACH SITE AS KF (OVERLAP WITH FUNCTIONAL RESIDUES) OR UF"
   ]
  },
  {
   "cell_type": "code",
   "execution_count": 24,
   "metadata": {
    "tags": []
   },
   "outputs": [],
   "source": [
    "bs_ress_membership = {}\n",
    "binding_site_func_dict = {}\n",
    "for prot, prot_rows in binding_ress.groupby(\"protein\"):\n",
    "    for grp, grp_rows in prot_rows.groupby(\"group\"):\n",
    "        for bs_col in bs_cols:\n",
    "            bs_id = \"{}_{}_{}\".format(prot, str(grp), bs_col)\n",
    "            bs_rows = grp_rows[grp_rows[bs_col] == 1]\n",
    "            if len(bs_rows) == 0:\n",
    "                continue\n",
    "            else:\n",
    "                bs_ress = bs_rows.UniProt_ResNum.unique().tolist()\n",
    "                bs_ress_membership[bs_id] = bs_ress\n",
    "                if prot not in func_ress:\n",
    "                    binding_site_func_dict[bs_id] = \"UF\"\n",
    "                else:\n",
    "                    intersect = set(bs_ress).intersection(set(func_ress[prot]))\n",
    "                    if len(intersect) > 0:\n",
    "                        binding_site_func_dict[bs_id] = \"KF\"\n",
    "                    else:\n",
    "                        binding_site_func_dict[bs_id] = \"UF\"\n"
   ]
  },
  {
   "cell_type": "code",
   "execution_count": 25,
   "metadata": {},
   "outputs": [
    {
     "name": "stdout",
     "output_type": "stream",
     "text": [
      "29\n"
     ]
    }
   ],
   "source": [
    "print(len({k: v for k, v in binding_site_func_dict.items() if v == \"KF\"})) # 29 KF sites"
   ]
  },
  {
   "cell_type": "code",
   "execution_count": 26,
   "metadata": {
    "tags": []
   },
   "outputs": [
    {
     "name": "stdout",
     "output_type": "stream",
     "text": [
      "H0Y4R8_0_BS0 UF\n",
      "O15178_0_BS0 UF\n",
      "O15178_0_BS1 UF\n",
      "O15178_0_BS2 UF\n",
      "O15178_0_BS3 UF\n"
     ]
    }
   ],
   "source": [
    "for k in list(binding_site_func_dict.keys())[:5]:\n",
    "    print(k, binding_site_func_dict[k])"
   ]
  },
  {
   "cell_type": "code",
   "execution_count": 27,
   "metadata": {},
   "outputs": [],
   "source": [
    "dump_pickle(binding_site_func_dict, os.path.join(results_dir, \"prot_func_dict_auto.pkl\")) "
   ]
  }
 ],
 "metadata": {
  "kernelspec": {
   "display_name": "Python [conda env:myenv2]",
   "language": "python",
   "name": "conda-env-myenv2-py"
  },
  "language_info": {
   "codemirror_mode": {
    "name": "ipython",
    "version": 3
   },
   "file_extension": ".py",
   "mimetype": "text/x-python",
   "name": "python",
   "nbconvert_exporter": "python",
   "pygments_lexer": "ipython3",
   "version": "3.11.0"
  }
 },
 "nbformat": 4,
 "nbformat_minor": 5
}
