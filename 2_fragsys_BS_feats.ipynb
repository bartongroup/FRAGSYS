{
 "cells": [
  {
   "cell_type": "markdown",
   "id": "3e950479-ec4b-43c3-837d-3500b9b29dfd",
   "metadata": {},
   "source": [
    "# EXPLORING GENERAL PROPERTIES OF LIGAND BINDING SITES"
   ]
  },
  {
   "cell_type": "markdown",
   "id": "a3b6d174-f4fe-4826-883f-36be7b147ca8",
   "metadata": {},
   "source": [
    "### IMPORTING NECESSARY PACKAGES"
   ]
  },
  {
   "cell_type": "code",
   "execution_count": 1,
   "id": "98bf3d1a-195d-4bea-a845-eb1dcabe834a",
   "metadata": {},
   "outputs": [],
   "source": [
    "from fragsys_analysis import *"
   ]
  },
  {
   "cell_type": "markdown",
   "id": "a4211e8c-8956-400b-93c5-eb9de03373a2",
   "metadata": {},
   "source": [
    "### READING INPUT DATA"
   ]
  },
  {
   "cell_type": "code",
   "execution_count": 2,
   "id": "54d96937-60a3-41fa-8d91-0d4e86645a61",
   "metadata": {},
   "outputs": [],
   "source": [
    "main_dir = \"/Users/2394007/Documents/PHD/LOCAL/FRAGSYS_DEF/\" #\"/cluster/gjb_lab/2394007/pandda_analysis/phase4\"\n",
    "results_dir = os.path.join(main_dir, \"results/new\")"
   ]
  },
  {
   "cell_type": "code",
   "execution_count": 3,
   "id": "ddcd9c2f-08d9-46be-a88b-54c99dc3ad49",
   "metadata": {},
   "outputs": [],
   "source": [
    "all_bss = pd.read_pickle(os.path.join(results_dir, \"all_bss.pkl\"))\n",
    "all_bs_ress = pd.read_pickle(os.path.join(results_dir, \"all_bs_ress.pkl\"))"
   ]
  },
  {
   "cell_type": "code",
   "execution_count": 5,
   "id": "4373117e-402c-4042-b7fe-570bf35b7690",
   "metadata": {},
   "outputs": [
    {
     "name": "stdout",
     "output_type": "stream",
     "text": [
      "293\n"
     ]
    }
   ],
   "source": [
    "print(len(all_bss))"
   ]
  },
  {
   "cell_type": "code",
   "execution_count": 6,
   "id": "adaefaae-f236-4a4d-a7fe-6b871d5aa6a3",
   "metadata": {},
   "outputs": [
    {
     "data": {
      "text/html": [
       "<div>\n",
       "<style scoped>\n",
       "    .dataframe tbody tr th:only-of-type {\n",
       "        vertical-align: middle;\n",
       "    }\n",
       "\n",
       "    .dataframe tbody tr th {\n",
       "        vertical-align: top;\n",
       "    }\n",
       "\n",
       "    .dataframe thead th {\n",
       "        text-align: right;\n",
       "    }\n",
       "</style>\n",
       "<table border=\"1\" class=\"dataframe\">\n",
       "  <thead>\n",
       "    <tr style=\"text-align: right;\">\n",
       "      <th></th>\n",
       "      <th>bs_id</th>\n",
       "      <th>vars</th>\n",
       "      <th>occ</th>\n",
       "      <th>vars_per_occ</th>\n",
       "      <th>MES</th>\n",
       "      <th>p</th>\n",
       "      <th>norm_shenkin_rel</th>\n",
       "      <th>shenkin_ci</th>\n",
       "      <th>MES_ci</th>\n",
       "      <th>number_bs_res</th>\n",
       "      <th>number_ligs</th>\n",
       "      <th>prop_ligs</th>\n",
       "      <th>protein</th>\n",
       "      <th>group</th>\n",
       "    </tr>\n",
       "  </thead>\n",
       "  <tbody>\n",
       "    <tr>\n",
       "      <th>0</th>\n",
       "      <td>BS0</td>\n",
       "      <td>168</td>\n",
       "      <td>420</td>\n",
       "      <td>0.4</td>\n",
       "      <td>0.2065</td>\n",
       "      <td>0.0281</td>\n",
       "      <td>54.0885</td>\n",
       "      <td>10.6309</td>\n",
       "      <td>0.1831</td>\n",
       "      <td>6</td>\n",
       "      <td>1</td>\n",
       "      <td>1.0000</td>\n",
       "      <td>H0Y4R8</td>\n",
       "      <td>0</td>\n",
       "    </tr>\n",
       "    <tr>\n",
       "      <th>1</th>\n",
       "      <td>BS0</td>\n",
       "      <td>24</td>\n",
       "      <td>48</td>\n",
       "      <td>0.5</td>\n",
       "      <td>-0.0623</td>\n",
       "      <td>0.8951</td>\n",
       "      <td>20.8011</td>\n",
       "      <td>9.8766</td>\n",
       "      <td>0.5220</td>\n",
       "      <td>24</td>\n",
       "      <td>14</td>\n",
       "      <td>0.7368</td>\n",
       "      <td>O43809</td>\n",
       "      <td>0</td>\n",
       "    </tr>\n",
       "    <tr>\n",
       "      <th>2</th>\n",
       "      <td>BS1</td>\n",
       "      <td>13</td>\n",
       "      <td>26</td>\n",
       "      <td>0.5</td>\n",
       "      <td>-0.0587</td>\n",
       "      <td>1.0000</td>\n",
       "      <td>28.6694</td>\n",
       "      <td>12.4626</td>\n",
       "      <td>0.6883</td>\n",
       "      <td>13</td>\n",
       "      <td>2</td>\n",
       "      <td>0.1053</td>\n",
       "      <td>O43809</td>\n",
       "      <td>0</td>\n",
       "    </tr>\n",
       "  </tbody>\n",
       "</table>\n",
       "</div>"
      ],
      "text/plain": [
       "  bs_id  vars  occ  vars_per_occ     MES       p  norm_shenkin_rel  \\\n",
       "0   BS0   168  420           0.4  0.2065  0.0281           54.0885   \n",
       "1   BS0    24   48           0.5 -0.0623  0.8951           20.8011   \n",
       "2   BS1    13   26           0.5 -0.0587  1.0000           28.6694   \n",
       "\n",
       "   shenkin_ci  MES_ci  number_bs_res  number_ligs  prop_ligs protein group  \n",
       "0     10.6309  0.1831              6            1     1.0000  H0Y4R8     0  \n",
       "1      9.8766  0.5220             24           14     0.7368  O43809     0  \n",
       "2     12.4626  0.6883             13            2     0.1053  O43809     0  "
      ]
     },
     "execution_count": 6,
     "metadata": {},
     "output_type": "execute_result"
    }
   ],
   "source": [
    "all_bss.head(3)"
   ]
  },
  {
   "cell_type": "markdown",
   "id": "e98be1e6-e2fb-41cf-a411-ca864248f96e",
   "metadata": {},
   "source": [
    "## LIGAND BINDING SITE SIZE"
   ]
  },
  {
   "cell_type": "code",
   "execution_count": 8,
   "id": "a09d6855-3f35-4775-9304-c0bee7ce1e38",
   "metadata": {},
   "outputs": [
    {
     "name": "stdout",
     "output_type": "stream",
     "text": [
      "293\n",
      "\tMIN = 2\tMEAN = 10.57\tMEDIAN = 9\tMAX = 40\n"
     ]
    },
    {
     "data": {
      "image/png": "[encoded data removed]",
      "text/plain": [
       "<Figure size 500x500 with 1 Axes>"
      ]
     },
     "metadata": {},
     "output_type": "display_data"
    }
   ],
   "source": [
    "D = all_bss.number_bs_res\n",
    "print(len(D))\n",
    "\n",
    "bns_size = np.linspace(0, 50, 50)\n",
    "plot_hist(\n",
    "    D, \"Site size\", bns_size, \"cornflowerblue\", dpi = 100,\n",
    "    figsize = (5, 5)#, out = os.path.join(main_dir, \"BSS_size_300.png\")\n",
    ")"
   ]
  },
  {
   "cell_type": "markdown",
   "id": "016e8b35-7ba7-48ff-a19f-c384ea4184de",
   "metadata": {},
   "source": [
    "## LIGAND BINDING SITE AVERAGE DIVERGENCE"
   ]
  },
  {
   "cell_type": "code",
   "execution_count": 9,
   "id": "7a3d5cad-a96a-4dc7-8252-c9ebdb04de23",
   "metadata": {},
   "outputs": [
    {
     "name": "stdout",
     "output_type": "stream",
     "text": [
      "293\n",
      "\tMIN = 0.0\tMEAN = 40.93\tMEDIAN = 39.8\tMAX = 80.9\n"
     ]
    },
    {
     "data": {
      "image/png": "[encoded data removed]",
      "text/plain": [
       "<Figure size 500x500 with 1 Axes>"
      ]
     },
     "metadata": {},
     "output_type": "display_data"
    }
   ],
   "source": [
    "D = all_bss.norm_shenkin_rel\n",
    "print(len(D))\n",
    "\n",
    "bns_shenk = np.linspace(0, 90, 45)\n",
    "plot_hist(\n",
    "    D, \"NShenkin\", bns_shenk, \"lightgreen\", dpi = 100,\n",
    "    yticks = list(np.linspace(0,15,4)), figsize = (5, 5)#, out = os.path.join(main_dir, \"BSS_shenk_300.png\")\n",
    ")"
   ]
  },
  {
   "cell_type": "markdown",
   "id": "ddd2288e-8f78-4cb8-9adf-24a54fc53daf",
   "metadata": {},
   "source": [
    "## LIGAND BINDING SITE AVERAGE MISSENSE ENRICHMENT"
   ]
  },
  {
   "cell_type": "code",
   "execution_count": 10,
   "id": "d35ec566-d8a0-4a95-8abc-cb7b03758916",
   "metadata": {},
   "outputs": [
    {
     "name": "stdout",
     "output_type": "stream",
     "text": [
      "293\n",
      "\tMIN = -0.71\tMEAN = 0.03\tMEDIAN = 0.01\tMAX = 1.04\n"
     ]
    },
    {
     "data": {
      "image/png": "[encoded data removed]",
      "text/plain": [
       "<Figure size 500x500 with 1 Axes>"
      ]
     },
     "metadata": {},
     "output_type": "display_data"
    }
   ],
   "source": [
    "D = all_bss.MES\n",
    "print(len(D))\n",
    "\n",
    "bns_mes = np.linspace(-0.75, 1.00, 50)\n",
    "plot_hist(D, \"MES\", bns_mes, \"khaki\", dpi = 100,\n",
    "         figsize = (5, 5)#, out = os.path.join(main_dir, \"BSS_MES_300.png\")\n",
    ")"
   ]
  },
  {
   "cell_type": "markdown",
   "id": "658f4bce-04b1-47c2-8754-0bde24dd653c",
   "metadata": {},
   "source": [
    "## LIGAND BINDING SITE AVERAGE RELATIVE SOLVENT ACCESSIBILITY"
   ]
  },
  {
   "cell_type": "code",
   "execution_count": 11,
   "id": "8860b8d9-1f0a-45f3-b0f2-a86a718deaad",
   "metadata": {},
   "outputs": [],
   "source": [
    "def get_rsa_profiles_LOC(bss_df, ress_df):\n",
    "    \"\"\"\n",
    "    Returns a dictionary containint the binding site IDs as keys,\n",
    "    and the site RSA profile as value. This is a list containing\n",
    "    the RSA values of the residues forming the site.\n",
    "    \"\"\"\n",
    "    prots = bss_df.protein.unique().tolist()\n",
    "    rsa_profs = {}\n",
    "    #rsa_profs_lens = []\n",
    "    for prot in prots:\n",
    "        prot_groups = sorted(bss_df.query('protein == @prot').group.unique().tolist())\n",
    "        for group in prot_groups:\n",
    "            prot_group_ress = ress_df.query('protein == @prot & group == @group')\n",
    "            if len(prot_group_ress) == 0:\n",
    "                print(\"Group {} of {} has 0 residues. Skipping!\".format(group, prot))\n",
    "                continue\n",
    "            prot_bs_ids = sorted(bss_df.query('protein == @prot & group == @group').bs_id.unique().tolist())\n",
    "            for prot_bs_id in prot_bs_ids:\n",
    "                prot_bs_ress = prot_group_ress[prot_group_ress[prot_bs_id] == 1]\n",
    "                prot_bs_ress = prot_bs_ress.drop_duplicates([\"protein\", \"UniProt_ResNum\", \"UniProt_ResName\"])\n",
    "                #rsa_profs_lens.append(len(prot_bs_ress))\n",
    "                if len(prot_bs_ress) == 0:\n",
    "                    print(\"0 res at {} of group {} of {}\".format(prot_bs_id, group, prot))\n",
    "                    continue\n",
    "                bs_rsas = prot_bs_ress.RSA.tolist()\n",
    "                dk = \"{}_{}_{}\".format(prot, group, prot_bs_id)\n",
    "                rsa_profs[dk] = sorted([round(el, 1) for el in bs_rsas])\n",
    "    return rsa_profs#, rsa_profs_lens"
   ]
  },
  {
   "cell_type": "code",
   "execution_count": 12,
   "id": "add476b4-e76d-4fad-b4d2-78eb2adb874f",
   "metadata": {},
   "outputs": [
    {
     "data": {
      "text/plain": [
       "(14172, 62)"
      ]
     },
     "execution_count": 12,
     "metadata": {},
     "output_type": "execute_result"
    }
   ],
   "source": [
    "all_bs_ress.shape"
   ]
  },
  {
   "cell_type": "code",
   "execution_count": 13,
   "id": "3370fb82-3a66-4aa4-8a76-81b9b181f5c6",
   "metadata": {},
   "outputs": [],
   "source": [
    "all_bs_ress_filt = all_bs_ress.drop_duplicates([\"protein\", \"UniProt_ResNum\", \"UniProt_ResName\"])"
   ]
  },
  {
   "cell_type": "code",
   "execution_count": 14,
   "id": "2b669d57-d4a1-4c08-b9a5-bdb7bf3e2091",
   "metadata": {},
   "outputs": [
    {
     "data": {
      "text/plain": [
       "(2664, 62)"
      ]
     },
     "execution_count": 14,
     "metadata": {},
     "output_type": "execute_result"
    }
   ],
   "source": [
    "all_bs_ress_filt.shape"
   ]
  },
  {
   "cell_type": "code",
   "execution_count": 18,
   "id": "802dbff7-381a-4c8f-b1a4-c208dbef4353",
   "metadata": {},
   "outputs": [],
   "source": [
    "rsa_profs = get_rsa_profiles_LOC(all_bss, all_bs_ress)\n",
    "average_rsas = [statistics.median(v) for v in rsa_profs.values()]"
   ]
  },
  {
   "cell_type": "code",
   "execution_count": 20,
   "id": "1a113a09-b27f-4ff3-8510-a787ca292197",
   "metadata": {},
   "outputs": [
    {
     "name": "stdout",
     "output_type": "stream",
     "text": [
      "293\n",
      "\tMIN = 4.3\tMEAN = 32.07\tMEDIAN = 31.1\tMAX = 81.7\n"
     ]
    },
    {
     "data": {
      "image/png": "[encoded data removed]",
      "text/plain": [
       "<Figure size 500x500 with 1 Axes>"
      ]
     },
     "metadata": {},
     "output_type": "display_data"
    }
   ],
   "source": [
    "D_un = average_rsas\n",
    "print(len(D))\n",
    "\n",
    "bns_RSA = np.linspace(0, 100, 50)\n",
    "plot_hist(D_un, \"RSA\", bns_RSA, \"tomato\", dpi = 100,\n",
    "         figsize = (5, 5)#, out = os.path.join(main_dir, \"BSS_RSA_300.png\")\n",
    ")"
   ]
  }
 ],
 "metadata": {
  "kernelspec": {
   "display_name": "Python [conda env:myenv2]",
   "language": "python",
   "name": "conda-env-myenv2-py"
  },
  "language_info": {
   "codemirror_mode": {
    "name": "ipython",
    "version": 3
   },
   "file_extension": ".py",
   "mimetype": "text/x-python",
   "name": "python",
   "nbconvert_exporter": "python",
   "pygments_lexer": "ipython3",
   "version": "3.10.0"
  }
 },
 "nbformat": 4,
 "nbformat_minor": 5
}
