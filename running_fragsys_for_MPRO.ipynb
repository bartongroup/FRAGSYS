{
 "cells": [
  {
   "cell_type": "markdown",
   "metadata": {},
   "source": [
    "# Running FRAGSYS for SARS-CoV-2 main protease MPro"
   ]
  },
  {
   "cell_type": "markdown",
   "metadata": {},
   "source": [
    "## Package imports"
   ]
  },
  {
   "cell_type": "code",
   "execution_count": 23,
   "metadata": {},
   "outputs": [],
   "source": [
    "from fragsys_main import *"
   ]
  },
  {
   "cell_type": "markdown",
   "metadata": {},
   "source": [
    "## Retrieve superposition data from PDBe GRAPH API"
   ]
  },
  {
   "cell_type": "code",
   "execution_count": 2,
   "metadata": {},
   "outputs": [],
   "source": [
    "df = pd.read_json(\"https://www.ebi.ac.uk/pdbe/graph-api/uniprot/superposition/P0DTD1\")"
   ]
  },
  {
   "cell_type": "code",
   "execution_count": 24,
   "metadata": {},
   "outputs": [
    {
     "data": {
      "text/html": [
       "<div>\n",
       "<style>\n",
       "    .dataframe thead tr:only-child th {\n",
       "        text-align: right;\n",
       "    }\n",
       "\n",
       "    .dataframe thead th {\n",
       "        text-align: left;\n",
       "    }\n",
       "\n",
       "    .dataframe tbody tr th {\n",
       "        vertical-align: top;\n",
       "    }\n",
       "</style>\n",
       "<table border=\"1\" class=\"dataframe\">\n",
       "  <thead>\n",
       "    <tr style=\"text-align: right;\">\n",
       "      <th></th>\n",
       "      <th>P0DTD1</th>\n",
       "    </tr>\n",
       "  </thead>\n",
       "  <tbody>\n",
       "    <tr>\n",
       "      <th>0</th>\n",
       "      <td>{'segment_start': 1, 'segment_end': 180, 'clus...</td>\n",
       "    </tr>\n",
       "    <tr>\n",
       "      <th>1</th>\n",
       "      <td>{'segment_start': 145, 'segment_end': 180, 'cl...</td>\n",
       "    </tr>\n",
       "    <tr>\n",
       "      <th>2</th>\n",
       "      <td>{'segment_start': 181, 'segment_end': 818, 'cl...</td>\n",
       "    </tr>\n",
       "    <tr>\n",
       "      <th>3</th>\n",
       "      <td>{'segment_start': 818, 'segment_end': 929, 'cl...</td>\n",
       "    </tr>\n",
       "    <tr>\n",
       "      <th>4</th>\n",
       "      <td>{'segment_start': 1023, 'segment_end': 1197, '...</td>\n",
       "    </tr>\n",
       "  </tbody>\n",
       "</table>\n",
       "</div>"
      ],
      "text/plain": [
       "                                              P0DTD1\n",
       "0  {'segment_start': 1, 'segment_end': 180, 'clus...\n",
       "1  {'segment_start': 145, 'segment_end': 180, 'cl...\n",
       "2  {'segment_start': 181, 'segment_end': 818, 'cl...\n",
       "3  {'segment_start': 818, 'segment_end': 929, 'cl...\n",
       "4  {'segment_start': 1023, 'segment_end': 1197, '..."
      ]
     },
     "execution_count": 24,
     "metadata": {},
     "output_type": "execute_result"
    }
   ],
   "source": [
    "df.head(5)"
   ]
  },
  {
   "cell_type": "markdown",
   "metadata": {},
   "source": [
    "## Segment 12 of P0DTD1 corresponds to MPro"
   ]
  },
  {
   "cell_type": "code",
   "execution_count": 5,
   "metadata": {},
   "outputs": [],
   "source": [
    "seg12 = df.loc[11, \"P0DTD1\"] # segment 12 corresponds to MPro"
   ]
  },
  {
   "cell_type": "code",
   "execution_count": 8,
   "metadata": {},
   "outputs": [
    {
     "name": "stdout",
     "output_type": "stream",
     "text": [
      "3258 3569\n"
     ]
    }
   ],
   "source": [
    "print(seg12['segment_start'], seg12['segment_end'])"
   ]
  },
  {
   "cell_type": "markdown",
   "metadata": {},
   "source": [
    "## Segment 12 presents two structural clusters"
   ]
  },
  {
   "cell_type": "code",
   "execution_count": 11,
   "metadata": {},
   "outputs": [
    {
     "data": {
      "text/plain": [
       "2"
      ]
     },
     "execution_count": 11,
     "metadata": {},
     "output_type": "execute_result"
    }
   ],
   "source": [
    "len(seg12['clusters']) # 2 structural clusters"
   ]
  },
  {
   "cell_type": "code",
   "execution_count": 18,
   "metadata": {},
   "outputs": [
    {
     "data": {
      "text/plain": [
       "[{'pdb_id': '7vfb',\n",
       "  'auth_asym_id': 'A',\n",
       "  'struct_asym_id': 'B',\n",
       "  'entity_id': 2,\n",
       "  'is_representative': True},\n",
       " {'pdb_id': '7uj9',\n",
       "  'auth_asym_id': 'C',\n",
       "  'struct_asym_id': 'B',\n",
       "  'entity_id': 1,\n",
       "  'is_representative': False},\n",
       " {'pdb_id': '7uj9',\n",
       "  'auth_asym_id': 'A',\n",
       "  'struct_asym_id': 'A',\n",
       "  'entity_id': 1,\n",
       "  'is_representative': False}]"
      ]
     },
     "execution_count": 18,
     "metadata": {},
     "output_type": "execute_result"
    }
   ],
   "source": [
    "seg12['clusters'][0]"
   ]
  },
  {
   "cell_type": "code",
   "execution_count": 15,
   "metadata": {},
   "outputs": [],
   "source": [
    "cluster1_pdbs = list(set([el['pdb_id'] for el in seg12['clusters'][0]]))"
   ]
  },
  {
   "cell_type": "code",
   "execution_count": 16,
   "metadata": {},
   "outputs": [],
   "source": [
    "cluster2_pdbs = list(set([el['pdb_id'] for el in seg12['clusters'][1]]))"
   ]
  },
  {
   "cell_type": "code",
   "execution_count": 17,
   "metadata": {},
   "outputs": [
    {
     "name": "stdout",
     "output_type": "stream",
     "text": [
      "2 719\n"
     ]
    }
   ],
   "source": [
    "print(len(cluster1_pdbs), len(cluster2_pdbs))"
   ]
  },
  {
   "cell_type": "code",
   "execution_count": 19,
   "metadata": {},
   "outputs": [],
   "source": [
    "all_pdbs = sorted(list(set(cluster1_pdbs + cluster2_pdbs)))"
   ]
  },
  {
   "cell_type": "markdown",
   "metadata": {},
   "source": [
    "## MPro presents 721 unique PDB structures"
   ]
  },
  {
   "cell_type": "code",
   "execution_count": 20,
   "metadata": {},
   "outputs": [
    {
     "data": {
      "text/plain": [
       "721"
      ]
     },
     "execution_count": 20,
     "metadata": {},
     "output_type": "execute_result"
    }
   ],
   "source": [
    "len(all_pdbs)"
   ]
  },
  {
   "cell_type": "code",
   "execution_count": 32,
   "metadata": {},
   "outputs": [],
   "source": [
    "main_dir = \"/cluster/gjb_lab/2394007/pandda_analysis/MPro/\""
   ]
  },
  {
   "cell_type": "code",
   "execution_count": 28,
   "metadata": {},
   "outputs": [],
   "source": [
    "up_ids = [\"MPro\" ]* len(all_pdbs)"
   ]
  },
  {
   "cell_type": "code",
   "execution_count": 44,
   "metadata": {},
   "outputs": [],
   "source": [
    "input_df = pd.DataFrame(list(zip(all_pdbs, up_ids)),\n",
    "              columns=['pdb_id','entry_uniprot_accession'])"
   ]
  },
  {
   "cell_type": "markdown",
   "metadata": {},
   "source": [
    "## Generate input dataframe for FRAGSYS"
   ]
  },
  {
   "cell_type": "code",
   "execution_count": 125,
   "metadata": {},
   "outputs": [
    {
     "data": {
      "text/html": [
       "<div>\n",
       "<style>\n",
       "    .dataframe thead tr:only-child th {\n",
       "        text-align: right;\n",
       "    }\n",
       "\n",
       "    .dataframe thead th {\n",
       "        text-align: left;\n",
       "    }\n",
       "\n",
       "    .dataframe tbody tr th {\n",
       "        vertical-align: top;\n",
       "    }\n",
       "</style>\n",
       "<table border=\"1\" class=\"dataframe\">\n",
       "  <thead>\n",
       "    <tr style=\"text-align: right;\">\n",
       "      <th></th>\n",
       "      <th>pdb_id</th>\n",
       "      <th>entry_uniprot_accession</th>\n",
       "    </tr>\n",
       "  </thead>\n",
       "  <tbody>\n",
       "    <tr>\n",
       "      <th>716</th>\n",
       "      <td>8okl</td>\n",
       "      <td>MPro</td>\n",
       "    </tr>\n",
       "    <tr>\n",
       "      <th>717</th>\n",
       "      <td>8okm</td>\n",
       "      <td>MPro</td>\n",
       "    </tr>\n",
       "    <tr>\n",
       "      <th>718</th>\n",
       "      <td>8okn</td>\n",
       "      <td>MPro</td>\n",
       "    </tr>\n",
       "    <tr>\n",
       "      <th>719</th>\n",
       "      <td>8sk4</td>\n",
       "      <td>MPro</td>\n",
       "    </tr>\n",
       "    <tr>\n",
       "      <th>720</th>\n",
       "      <td>8skh</td>\n",
       "      <td>MPro</td>\n",
       "    </tr>\n",
       "  </tbody>\n",
       "</table>\n",
       "</div>"
      ],
      "text/plain": [
       "    pdb_id entry_uniprot_accession\n",
       "716   8okl                    MPro\n",
       "717   8okm                    MPro\n",
       "718   8okn                    MPro\n",
       "719   8sk4                    MPro\n",
       "720   8skh                    MPro"
      ]
     },
     "execution_count": 125,
     "metadata": {},
     "output_type": "execute_result"
    }
   ],
   "source": [
    "input_df.tail(5)"
   ]
  },
  {
   "cell_type": "code",
   "execution_count": 260,
   "metadata": {},
   "outputs": [],
   "source": [
    "import importlib\n",
    "import fragsys_main\n",
    "importlib.reload(fragsys_main)\n",
    "from fragsys_main import *"
   ]
  },
  {
   "cell_type": "markdown",
   "metadata": {},
   "source": [
    "### Remove 43 structures as their assemblies can't currently be downloaded from PDBe"
   ]
  },
  {
   "cell_type": "code",
   "execution_count": 216,
   "metadata": {},
   "outputs": [],
   "source": [
    "errors = [\n",
    "    \"5sml\", \"5smm\", \"5smn\", \"7sh7\", \"7sh8\",\n",
    "    \"7sh9\", \"8d4p\", \"8dib\", \"8dic\", \"8did\",\n",
    "    \"8die\", \"8dif\", \"8dig\", \"8dih\", \"8dii\",\n",
    "    \"8djj\", \"8dk8\", \"8dkh\", \"8dkk\", \"8dkl\",\n",
    "    \"8dkz\", \"8dl9\", \"8dlb\", \"8dmd\", \"8dmn\",\n",
    "    \"8dzb\", \"8dzc\", \"8eir\", \"8ej7\", \"8ej9\",\n",
    "    \"8eke\", \"8gfk\", \"8gfn\", \"8gfo\", \"8gfr\",\n",
    "    \"8gfu\", \"8hef\", \"8okk\", \"8okl\", \"8okm\",\n",
    "    \"8okn\", \"8sk4\", \"8skh\"\n",
    "] # for these 43 structures, biological assemblies could now be downloaded, seems to be a problem with PDBe."
   ]
  },
  {
   "cell_type": "markdown",
   "metadata": {},
   "source": [
    "### Remove some other structures as they are to dissimilar in structure/sequence"
   ]
  },
  {
   "cell_type": "code",
   "execution_count": 217,
   "metadata": {},
   "outputs": [],
   "source": [
    "to_remove = [\"7uj9\", \"7whc\", \"7uju\", \"7ujg\", \"7vfb\", \"7vfa\"]"
   ]
  },
  {
   "cell_type": "code",
   "execution_count": 218,
   "metadata": {},
   "outputs": [],
   "source": [
    "unconsidered = errors + to_remove"
   ]
  },
  {
   "cell_type": "code",
   "execution_count": 220,
   "metadata": {},
   "outputs": [
    {
     "name": "stdout",
     "output_type": "stream",
     "text": [
      "43\n",
      "6\n",
      "49\n"
     ]
    }
   ],
   "source": [
    "print(len(errors))\n",
    "print(len(to_remove))\n",
    "print(len(unconsidered))"
   ]
  },
  {
   "cell_type": "code",
   "execution_count": null,
   "metadata": {},
   "outputs": [],
   "source": [
    "#672 go through ( + 49 = 721 OG structures)"
   ]
  },
  {
   "cell_type": "markdown",
   "metadata": {},
   "source": [
    "## Run FRAGSYS"
   ]
  },
  {
   "cell_type": "code",
   "execution_count": 221,
   "metadata": {},
   "outputs": [],
   "source": [
    "input_df = input_df.query('pdb_id not in @unconsidered')"
   ]
  },
  {
   "cell_type": "code",
   "execution_count": null,
   "metadata": {},
   "outputs": [],
   "source": [
    "# Arpeggio crashed for 7m00, 8czx, 7m03, 7m01, 7lzw, 8e68, 7m02, 7m04, 7lzv, 7lzu. This was happening because it could not find neighbouring atoms in the calculation of halogen bond fingerprint."
   ]
  },
  {
   "cell_type": "code",
   "execution_count": 229,
   "metadata": {},
   "outputs": [],
   "source": [
    "# Arpeggio crashed for 7tdu, 7n8c, 7lb7. This was happening because the deuterium atoms were not being cleaned out and were not recognised by OpenBabel"
   ]
  },
  {
   "cell_type": "markdown",
   "metadata": {},
   "source": [
    "/cluster/gjb_lab/2394007/miniconda/envs/arpeggio/bin/python /homes/2394007/SM_VarAlign/arpeggio/arpeggio.py /cluster/gjb_lab/2394007/pandda_analysis/MPro/MPro/clean_pdbs/0/7tdu_bio.clean.pdb -s RESNAME:I1W -i 5 -v\n",
    "    \n",
    "/cluster/gjb_lab/2394007/miniconda/envs/arpeggio/bin/python /homes/2394007/SM_VarAlign/arpeggio/arpeggio.py /cluster/gjb_lab/2394007/pandda_analysis/MPro/MPro/clean_pdbs/0/7n8c_bio.clean.pdb -s RESNAME:YD1 -i 5 -v\n",
    "\n",
    "/cluster/gjb_lab/2394007/miniconda/envs/arpeggio/bin/python /homes/2394007/SM_VarAlign/arpeggio/arpeggio.py /cluster/gjb_lab/2394007/pandda_analysis/MPro/MPro/clean_pdbs/0/7lb7_bio.clean.pdb -s RESNAME:SV6 -i 5 -v"
   ]
  },
  {
   "cell_type": "code",
   "execution_count": 239,
   "metadata": {
    "collapsed": true,
    "jupyter": {
     "outputs_hidden": true
    }
   },
   "outputs": [
    {
     "name": "stdout",
     "output_type": "stream",
     "text": [
      "Starting to process MPro\n",
      "Starting to process group 0 of ['0'] in MPro\n",
      "Starting CIF to PDB conversion section!\n",
      "Starting STAMP section!\n",
      "Starting UNIPROT-PDB mapping section!\n",
      "Starting ARPEGGIO section!\n",
      "No LOIs in 7tbt, so skipping!\n",
      "No LOIs in 7dvy, so skipping!\n",
      "No LOIs in 7mhn, so skipping!\n",
      "No LOIs in 5r8t, so skipping!\n",
      "No LOIs in 8drr, so skipping!\n",
      "No LOIs in 7vk3, so skipping!\n",
      "No LOIs in 7mho, so skipping!\n",
      "No LOIs in 6y2e, so skipping!\n",
      "No LOIs in 6xoa, so skipping!\n",
      "No LOIs in 7pxz, so skipping!\n",
      "No LOIs in 8ds2, so skipping!\n",
      "No LOIs in 8dry, so skipping!\n",
      "No LOIs in 7vjy, so skipping!\n",
      "No LOIs in 7ar5, so skipping!\n",
      "No LOIs in 7t9y, so skipping!\n",
      "No LOIs in 7lmc, so skipping!\n",
      "No LOIs in 7jpy, so skipping!\n",
      "No LOIs in 8ehm, so skipping!\n",
      "No LOIs in 7dvw, so skipping!\n",
      "No LOIs in 7mhh, so skipping!\n",
      "No LOIs in 7mhf, so skipping!\n",
      "No LOIs in 8ds1, so skipping!\n",
      "No LOIs in 7t2t, so skipping!\n",
      "No LOIs in 7jst, so skipping!\n"
     ]
    },
    {
     "name": "stderr",
     "output_type": "stream",
     "text": [
      "2023-11-29 13:45:09,740 prointvar    INFO     Parsing PDB atoms from lines...\n"
     ]
    },
    {
     "name": "stdout",
     "output_type": "stream",
     "text": [
      "No LOIs in 8d35, so skipping!\n",
      "No LOIs in 7z2k, so skipping!\n",
      "No LOIs in 8d4n, so skipping!\n",
      "No LOIs in 7c2y, so skipping!\n",
      "No LOIs in 7s82, so skipping!\n"
     ]
    },
    {
     "name": "stderr",
     "output_type": "stream",
     "text": [
      "2023-11-29 13:45:09,949 prointvar    INFO     PDBx removed existing hydrogens...\n",
      "2023-11-29 13:45:09,952 prointvar    INFO     PDBx reset atom numbers...\n",
      "2023-11-29 13:45:10,040 prointvar    INFO     Parsing PDB atoms from lines...\n"
     ]
    },
    {
     "name": "stdout",
     "output_type": "stream",
     "text": [
      "Arpeggio processing failed for 8czx_bio.pdb\n"
     ]
    },
    {
     "name": "stderr",
     "output_type": "stream",
     "text": [
      "2023-11-29 13:45:10,258 prointvar    INFO     PDBx removed existing hydrogens...\n",
      "2023-11-29 13:45:10,261 prointvar    INFO     PDBx reset atom numbers...\n",
      "2023-11-29 13:45:11,405 prointvar    INFO     Parsing PDB atoms from lines...\n",
      "2023-11-29 13:45:11,625 prointvar    INFO     PDBx removed existing hydrogens...\n",
      "2023-11-29 13:45:11,628 prointvar    INFO     PDBx reset atom numbers...\n",
      "2023-11-29 13:45:12,748 prointvar    INFO     Parsing PDB atoms from lines...\n",
      "2023-11-29 13:45:12,857 prointvar    INFO     PDBx removed existing hydrogens...\n",
      "2023-11-29 13:45:12,860 prointvar    INFO     PDBx reset atom numbers...\n"
     ]
    },
    {
     "name": "stdout",
     "output_type": "stream",
     "text": [
      "WARNING!!! -2 residues lacked mapping from PDB to UniProt at arpeggio_lig_cons for 7cb7\n",
      "WARNING!!! -2 residues lacked mapping from PDB to UniProt at lig_cons_split for 7cb7\n",
      "Arpeggio output being processed for 7cb7!\n"
     ]
    },
    {
     "name": "stderr",
     "output_type": "stream",
     "text": [
      "2023-11-29 13:45:12,969 prointvar    INFO     Parsing PDB atoms from lines...\n"
     ]
    },
    {
     "name": "stdout",
     "output_type": "stream",
     "text": [
      "Arpeggio output being processed for 8acl!\n"
     ]
    },
    {
     "name": "stderr",
     "output_type": "stream",
     "text": [
      "2023-11-29 13:45:13,184 prointvar    INFO     PDBx removed existing hydrogens...\n",
      "2023-11-29 13:45:13,186 prointvar    INFO     PDBx reset atom numbers...\n",
      "2023-11-29 13:45:13,330 prointvar    INFO     Parsing PDB atoms from lines...\n"
     ]
    },
    {
     "name": "stdout",
     "output_type": "stream",
     "text": [
      "WARNING!!! -21 residues lacked mapping from PDB to UniProt at arpeggio_lig_cons for 7tvs\n",
      "WARNING!!! -310 residues lacked mapping from PDB to UniProt at lig_cons_split for 7tvs\n",
      "Arpeggio output being processed for 7tvs!\n",
      "No LOIs in 7nwx, so skipping!\n"
     ]
    },
    {
     "name": "stderr",
     "output_type": "stream",
     "text": [
      "2023-11-29 13:45:13,536 prointvar    INFO     PDBx removed existing hydrogens...\n",
      "2023-11-29 13:45:13,539 prointvar    INFO     PDBx reset atom numbers...\n",
      "2023-11-29 13:45:13,770 prointvar    INFO     Parsing PDB atoms from lines...\n"
     ]
    },
    {
     "name": "stdout",
     "output_type": "stream",
     "text": [
      "Arpeggio output being processed for 7k0f!\n"
     ]
    },
    {
     "name": "stderr",
     "output_type": "stream",
     "text": [
      "2023-11-29 13:45:13,985 prointvar    INFO     PDBx removed existing hydrogens...\n",
      "2023-11-29 13:45:13,988 prointvar    INFO     PDBx reset atom numbers...\n",
      "2023-11-29 13:45:15,007 prointvar    INFO     Parsing PDB atoms from lines...\n"
     ]
    },
    {
     "name": "stdout",
     "output_type": "stream",
     "text": [
      "WARNING!!! -10 residues lacked mapping from PDB to UniProt at arpeggio_lig_cons for 5rg3\n",
      "WARNING!!! -164 residues lacked mapping from PDB to UniProt at lig_cons_split for 5rg3\n",
      "Arpeggio output being processed for 5rg3!\n"
     ]
    },
    {
     "name": "stderr",
     "output_type": "stream",
     "text": [
      "2023-11-29 13:45:15,227 prointvar    INFO     PDBx removed existing hydrogens...\n",
      "2023-11-29 13:45:15,230 prointvar    INFO     PDBx reset atom numbers...\n",
      "2023-11-29 13:45:15,367 prointvar    INFO     Parsing PDB atoms from lines...\n"
     ]
    },
    {
     "name": "stdout",
     "output_type": "stream",
     "text": [
      "WARNING!!! -25 residues lacked mapping from PDB to UniProt at arpeggio_lig_cons for 7k40\n",
      "WARNING!!! -346 residues lacked mapping from PDB to UniProt at lig_cons_split for 7k40\n",
      "Arpeggio output being processed for 7k40!\n"
     ]
    },
    {
     "name": "stderr",
     "output_type": "stream",
     "text": [
      "2023-11-29 13:45:15,582 prointvar    INFO     PDBx removed existing hydrogens...\n",
      "2023-11-29 13:45:15,584 prointvar    INFO     PDBx reset atom numbers...\n",
      "2023-11-29 13:45:15,670 prointvar    INFO     Parsing PDB atoms from lines...\n",
      "2023-11-29 13:45:15,887 prointvar    INFO     PDBx removed existing hydrogens...\n",
      "2023-11-29 13:45:15,890 prointvar    INFO     PDBx reset atom numbers...\n",
      "2023-11-29 13:45:16,024 prointvar    INFO     Parsing PDB atoms from lines...\n"
     ]
    },
    {
     "name": "stdout",
     "output_type": "stream",
     "text": [
      "WARNING!!! -27 residues lacked mapping from PDB to UniProt at arpeggio_lig_cons for 6xa4\n",
      "WARNING!!! -251 residues lacked mapping from PDB to UniProt at lig_cons_split for 6xa4\n",
      "Arpeggio output being processed for 6xa4!\n"
     ]
    },
    {
     "name": "stderr",
     "output_type": "stream",
     "text": [
      "2023-11-29 13:45:16,243 prointvar    INFO     PDBx removed existing hydrogens...\n",
      "2023-11-29 13:45:16,246 prointvar    INFO     PDBx reset atom numbers...\n",
      "2023-11-29 13:45:16,342 prointvar    INFO     Parsing PDB atoms from lines...\n",
      "2023-11-29 13:45:16,560 prointvar    INFO     PDBx removed existing hydrogens...\n",
      "2023-11-29 13:45:16,563 prointvar    INFO     PDBx reset atom numbers...\n",
      "2023-11-29 13:45:17,262 prointvar    INFO     Parsing PDB atoms from lines...\n"
     ]
    },
    {
     "name": "stdout",
     "output_type": "stream",
     "text": [
      "Arpeggio output being processed for 7jw8!\n"
     ]
    },
    {
     "name": "stderr",
     "output_type": "stream",
     "text": [
      "2023-11-29 13:45:17,475 prointvar    INFO     PDBx removed existing hydrogens...\n",
      "2023-11-29 13:45:17,478 prointvar    INFO     PDBx reset atom numbers...\n",
      "2023-11-29 13:45:17,616 prointvar    INFO     Parsing PDB atoms from lines...\n"
     ]
    },
    {
     "name": "stdout",
     "output_type": "stream",
     "text": [
      "WARNING!!! -25 residues lacked mapping from PDB to UniProt at arpeggio_lig_cons for 7tvx\n",
      "WARNING!!! -363 residues lacked mapping from PDB to UniProt at lig_cons_split for 7tvx\n",
      "Arpeggio output being processed for 7tvx!\n"
     ]
    },
    {
     "name": "stderr",
     "output_type": "stream",
     "text": [
      "2023-11-29 13:45:17,831 prointvar    INFO     PDBx removed existing hydrogens...\n",
      "2023-11-29 13:45:17,834 prointvar    INFO     PDBx reset atom numbers...\n",
      "2023-11-29 13:45:17,970 prointvar    INFO     Parsing PDB atoms from lines...\n"
     ]
    },
    {
     "name": "stdout",
     "output_type": "stream",
     "text": [
      "WARNING!!! -18 residues lacked mapping from PDB to UniProt at arpeggio_lig_cons for 5rgw\n",
      "WARNING!!! -277 residues lacked mapping from PDB to UniProt at lig_cons_split for 5rgw\n",
      "Arpeggio output being processed for 5rgw!\n"
     ]
    },
    {
     "name": "stderr",
     "output_type": "stream",
     "text": [
      "2023-11-29 13:45:18,188 prointvar    INFO     PDBx removed existing hydrogens...\n",
      "2023-11-29 13:45:18,191 prointvar    INFO     PDBx reset atom numbers...\n",
      "2023-11-29 13:45:18,327 prointvar    INFO     Parsing PDB atoms from lines...\n"
     ]
    },
    {
     "name": "stdout",
     "output_type": "stream",
     "text": [
      "WARNING!!! -19 residues lacked mapping from PDB to UniProt at arpeggio_lig_cons for 7qka\n",
      "WARNING!!! -345 residues lacked mapping from PDB to UniProt at lig_cons_split for 7qka\n",
      "Arpeggio output being processed for 7qka!\n"
     ]
    },
    {
     "name": "stderr",
     "output_type": "stream",
     "text": [
      "2023-11-29 13:45:18,546 prointvar    INFO     PDBx removed existing hydrogens...\n",
      "2023-11-29 13:45:18,548 prointvar    INFO     PDBx reset atom numbers...\n",
      "2023-11-29 13:45:18,679 prointvar    INFO     Parsing PDB atoms from lines...\n"
     ]
    },
    {
     "name": "stdout",
     "output_type": "stream",
     "text": [
      "WARNING!!! -15 residues lacked mapping from PDB to UniProt at arpeggio_lig_cons for 5rfr\n",
      "WARNING!!! -181 residues lacked mapping from PDB to UniProt at lig_cons_split for 5rfr\n",
      "Arpeggio output being processed for 5rfr!\n"
     ]
    },
    {
     "name": "stderr",
     "output_type": "stream",
     "text": [
      "2023-11-29 13:45:18,894 prointvar    INFO     PDBx removed existing hydrogens...\n",
      "2023-11-29 13:45:18,897 prointvar    INFO     PDBx reset atom numbers...\n",
      "2023-11-29 13:45:19,029 prointvar    INFO     Parsing PDB atoms from lines...\n"
     ]
    },
    {
     "name": "stdout",
     "output_type": "stream",
     "text": [
      "WARNING!!! -13 residues lacked mapping from PDB to UniProt at arpeggio_lig_cons for 6ynq\n",
      "WARNING!!! -159 residues lacked mapping from PDB to UniProt at lig_cons_split for 6ynq\n",
      "Arpeggio output being processed for 6ynq!\n"
     ]
    },
    {
     "name": "stderr",
     "output_type": "stream",
     "text": [
      "2023-11-29 13:45:19,243 prointvar    INFO     PDBx removed existing hydrogens...\n",
      "2023-11-29 13:45:19,246 prointvar    INFO     PDBx reset atom numbers...\n",
      "2023-11-29 13:45:19,395 prointvar    INFO     Parsing PDB atoms from lines...\n"
     ]
    },
    {
     "name": "stdout",
     "output_type": "stream",
     "text": [
      "WARNING!!! -29 residues lacked mapping from PDB to UniProt at arpeggio_lig_cons for 8dpr\n",
      "WARNING!!! -453 residues lacked mapping from PDB to UniProt at lig_cons_split for 8dpr\n",
      "Arpeggio output being processed for 8dpr!\n"
     ]
    },
    {
     "name": "stderr",
     "output_type": "stream",
     "text": [
      "2023-11-29 13:45:19,611 prointvar    INFO     PDBx removed existing hydrogens...\n",
      "2023-11-29 13:45:19,614 prointvar    INFO     PDBx reset atom numbers...\n",
      "2023-11-29 13:45:20,386 prointvar    INFO     Parsing PDB atoms from lines...\n"
     ]
    },
    {
     "name": "stdout",
     "output_type": "stream",
     "text": [
      "Arpeggio output being processed for 7sgh!\n"
     ]
    },
    {
     "name": "stderr",
     "output_type": "stream",
     "text": [
      "2023-11-29 13:45:20,600 prointvar    INFO     PDBx removed existing hydrogens...\n",
      "2023-11-29 13:45:20,602 prointvar    INFO     PDBx reset atom numbers...\n",
      "2023-11-29 13:45:20,727 prointvar    INFO     Parsing PDB atoms from lines...\n"
     ]
    },
    {
     "name": "stdout",
     "output_type": "stream",
     "text": [
      "WARNING!!! -15 residues lacked mapping from PDB to UniProt at arpeggio_lig_cons for 5rgm\n",
      "WARNING!!! -172 residues lacked mapping from PDB to UniProt at lig_cons_split for 5rgm\n",
      "Arpeggio output being processed for 5rgm!\n"
     ]
    },
    {
     "name": "stderr",
     "output_type": "stream",
     "text": [
      "2023-11-29 13:45:20,935 prointvar    INFO     PDBx removed existing hydrogens...\n",
      "2023-11-29 13:45:20,937 prointvar    INFO     PDBx reset atom numbers...\n",
      "2023-11-29 13:45:21,018 prointvar    INFO     Parsing PDB atoms from lines...\n"
     ]
    },
    {
     "name": "stdout",
     "output_type": "stream",
     "text": [
      "Arpeggio processing failed for 7m03_bio.pdb\n"
     ]
    },
    {
     "name": "stderr",
     "output_type": "stream",
     "text": [
      "2023-11-29 13:45:21,225 prointvar    INFO     PDBx removed existing hydrogens...\n",
      "2023-11-29 13:45:21,228 prointvar    INFO     PDBx reset atom numbers...\n",
      "2023-11-29 13:45:21,384 prointvar    INFO     Parsing PDB atoms from lines...\n"
     ]
    },
    {
     "name": "stdout",
     "output_type": "stream",
     "text": [
      "Arpeggio output being processed for 7m8o!\n",
      "No LOIs in 7mhj, so skipping!\n"
     ]
    },
    {
     "name": "stderr",
     "output_type": "stream",
     "text": [
      "2023-11-29 13:45:21,601 prointvar    INFO     PDBx removed existing hydrogens...\n",
      "2023-11-29 13:45:21,604 prointvar    INFO     PDBx reset atom numbers...\n",
      "2023-11-29 13:45:21,766 prointvar    INFO     Parsing PDB atoms from lines...\n"
     ]
    },
    {
     "name": "stdout",
     "output_type": "stream",
     "text": [
      "Arpeggio output being processed for 7phz!\n"
     ]
    },
    {
     "name": "stderr",
     "output_type": "stream",
     "text": [
      "2023-11-29 13:45:21,985 prointvar    INFO     PDBx removed existing hydrogens...\n",
      "2023-11-29 13:45:21,988 prointvar    INFO     PDBx reset atom numbers...\n",
      "2023-11-29 13:45:22,142 prointvar    INFO     Parsing PDB atoms from lines...\n"
     ]
    },
    {
     "name": "stdout",
     "output_type": "stream",
     "text": [
      "Arpeggio output being processed for 7bfb!\n"
     ]
    },
    {
     "name": "stderr",
     "output_type": "stream",
     "text": [
      "2023-11-29 13:45:22,361 prointvar    INFO     PDBx removed existing hydrogens...\n",
      "2023-11-29 13:45:22,364 prointvar    INFO     PDBx reset atom numbers...\n",
      "2023-11-29 13:45:22,506 prointvar    INFO     Parsing PDB atoms from lines...\n"
     ]
    },
    {
     "name": "stdout",
     "output_type": "stream",
     "text": [
      "WARNING!!! -26 residues lacked mapping from PDB to UniProt at arpeggio_lig_cons for 6xqu\n",
      "WARNING!!! -350 residues lacked mapping from PDB to UniProt at lig_cons_split for 6xqu\n",
      "Arpeggio output being processed for 6xqu!\n"
     ]
    },
    {
     "name": "stderr",
     "output_type": "stream",
     "text": [
      "2023-11-29 13:45:22,722 prointvar    INFO     PDBx removed existing hydrogens...\n",
      "2023-11-29 13:45:22,726 prointvar    INFO     PDBx reset atom numbers...\n",
      "2023-11-29 13:45:22,888 prointvar    INFO     Parsing PDB atoms from lines...\n"
     ]
    },
    {
     "name": "stdout",
     "output_type": "stream",
     "text": [
      "Arpeggio output being processed for 7b2u!\n"
     ]
    },
    {
     "name": "stderr",
     "output_type": "stream",
     "text": [
      "2023-11-29 13:45:23,108 prointvar    INFO     PDBx removed existing hydrogens...\n",
      "2023-11-29 13:45:23,112 prointvar    INFO     PDBx reset atom numbers...\n",
      "2023-11-29 13:45:23,251 prointvar    INFO     Parsing PDB atoms from lines...\n"
     ]
    },
    {
     "name": "stdout",
     "output_type": "stream",
     "text": [
      "WARNING!!! -24 residues lacked mapping from PDB to UniProt at arpeggio_lig_cons for 7jq2\n",
      "WARNING!!! -442 residues lacked mapping from PDB to UniProt at lig_cons_split for 7jq2\n",
      "Arpeggio output being processed for 7jq2!\n"
     ]
    },
    {
     "name": "stderr",
     "output_type": "stream",
     "text": [
      "2023-11-29 13:45:23,477 prointvar    INFO     PDBx removed existing hydrogens...\n",
      "2023-11-29 13:45:23,480 prointvar    INFO     PDBx reset atom numbers...\n",
      "2023-11-29 13:45:24,563 prointvar    INFO     Parsing PDB atoms from lines...\n",
      "2023-11-29 13:45:24,784 prointvar    INFO     PDBx removed existing hydrogens...\n",
      "2023-11-29 13:45:24,787 prointvar    INFO     PDBx reset atom numbers...\n",
      "2023-11-29 13:45:25,795 prointvar    INFO     Parsing PDB atoms from lines...\n",
      "2023-11-29 13:45:26,013 prointvar    INFO     PDBx removed existing hydrogens...\n",
      "2023-11-29 13:45:26,016 prointvar    INFO     PDBx reset atom numbers...\n",
      "2023-11-29 13:45:27,122 prointvar    INFO     Parsing PDB atoms from lines...\n"
     ]
    },
    {
     "name": "stdout",
     "output_type": "stream",
     "text": [
      "WARNING!!! -12 residues lacked mapping from PDB to UniProt at arpeggio_lig_cons for 7rnw\n",
      "WARNING!!! -58 residues lacked mapping from PDB to UniProt at lig_cons_split for 7rnw\n",
      "Arpeggio output being processed for 7rnw!\n"
     ]
    },
    {
     "name": "stderr",
     "output_type": "stream",
     "text": [
      "2023-11-29 13:45:27,337 prointvar    INFO     PDBx removed existing hydrogens...\n",
      "2023-11-29 13:45:27,340 prointvar    INFO     PDBx reset atom numbers...\n",
      "2023-11-29 13:45:27,474 prointvar    INFO     Parsing PDB atoms from lines...\n"
     ]
    },
    {
     "name": "stdout",
     "output_type": "stream",
     "text": [
      "WARNING!!! -15 residues lacked mapping from PDB to UniProt at arpeggio_lig_cons for 7aqe\n",
      "WARNING!!! -186 residues lacked mapping from PDB to UniProt at lig_cons_split for 7aqe\n",
      "Arpeggio output being processed for 7aqe!\n"
     ]
    },
    {
     "name": "stderr",
     "output_type": "stream",
     "text": [
      "2023-11-29 13:45:27,686 prointvar    INFO     PDBx removed existing hydrogens...\n",
      "2023-11-29 13:45:27,689 prointvar    INFO     PDBx reset atom numbers...\n",
      "2023-11-29 13:45:27,827 prointvar    INFO     Parsing PDB atoms from lines...\n"
     ]
    },
    {
     "name": "stdout",
     "output_type": "stream",
     "text": [
      "WARNING!!! -26 residues lacked mapping from PDB to UniProt at arpeggio_lig_cons for 7rfu\n",
      "WARNING!!! -415 residues lacked mapping from PDB to UniProt at lig_cons_split for 7rfu\n",
      "Arpeggio output being processed for 7rfu!\n"
     ]
    },
    {
     "name": "stderr",
     "output_type": "stream",
     "text": [
      "2023-11-29 13:45:28,042 prointvar    INFO     PDBx removed existing hydrogens...\n",
      "2023-11-29 13:45:28,045 prointvar    INFO     PDBx reset atom numbers...\n",
      "2023-11-29 13:45:28,191 prointvar    INFO     Parsing PDB atoms from lines...\n"
     ]
    },
    {
     "name": "stdout",
     "output_type": "stream",
     "text": [
      "Arpeggio output being processed for 7lfp!\n"
     ]
    },
    {
     "name": "stderr",
     "output_type": "stream",
     "text": [
      "2023-11-29 13:45:28,410 prointvar    INFO     PDBx removed existing hydrogens...\n",
      "2023-11-29 13:45:28,413 prointvar    INFO     PDBx reset atom numbers...\n",
      "2023-11-29 13:45:28,554 prointvar    INFO     Parsing PDB atoms from lines...\n"
     ]
    },
    {
     "name": "stdout",
     "output_type": "stream",
     "text": [
      "WARNING!!! -25 residues lacked mapping from PDB to UniProt at arpeggio_lig_cons for 7s6y\n",
      "WARNING!!! -445 residues lacked mapping from PDB to UniProt at lig_cons_split for 7s6y\n",
      "Arpeggio output being processed for 7s6y!\n"
     ]
    },
    {
     "name": "stderr",
     "output_type": "stream",
     "text": [
      "2023-11-29 13:45:28,767 prointvar    INFO     PDBx removed existing hydrogens...\n",
      "2023-11-29 13:45:28,770 prointvar    INFO     PDBx reset atom numbers...\n",
      "2023-11-29 13:45:28,896 prointvar    INFO     Parsing PDB atoms from lines...\n"
     ]
    },
    {
     "name": "stdout",
     "output_type": "stream",
     "text": [
      "WARNING!!! -10 residues lacked mapping from PDB to UniProt at arpeggio_lig_cons for 7axo\n",
      "WARNING!!! -141 residues lacked mapping from PDB to UniProt at lig_cons_split for 7axo\n",
      "Arpeggio output being processed for 7axo!\n"
     ]
    },
    {
     "name": "stderr",
     "output_type": "stream",
     "text": [
      "2023-11-29 13:45:29,104 prointvar    INFO     PDBx removed existing hydrogens...\n",
      "2023-11-29 13:45:29,108 prointvar    INFO     PDBx reset atom numbers...\n",
      "2023-11-29 13:45:29,234 prointvar    INFO     Parsing PDB atoms from lines...\n"
     ]
    },
    {
     "name": "stdout",
     "output_type": "stream",
     "text": [
      "WARNING!!! -9 residues lacked mapping from PDB to UniProt at arpeggio_lig_cons for 7rbz\n",
      "WARNING!!! -153 residues lacked mapping from PDB to UniProt at lig_cons_split for 7rbz\n",
      "Arpeggio output being processed for 7rbz!\n"
     ]
    },
    {
     "name": "stderr",
     "output_type": "stream",
     "text": [
      "2023-11-29 13:45:29,449 prointvar    INFO     PDBx removed existing hydrogens...\n",
      "2023-11-29 13:45:29,452 prointvar    INFO     PDBx reset atom numbers...\n",
      "2023-11-29 13:45:29,609 prointvar    INFO     Parsing PDB atoms from lines...\n"
     ]
    },
    {
     "name": "stdout",
     "output_type": "stream",
     "text": [
      "Arpeggio output being processed for 7pfm!\n"
     ]
    },
    {
     "name": "stderr",
     "output_type": "stream",
     "text": [
      "2023-11-29 13:45:29,820 prointvar    INFO     PDBx removed existing hydrogens...\n",
      "2023-11-29 13:45:29,823 prointvar    INFO     PDBx reset atom numbers...\n",
      "2023-11-29 13:45:29,947 prointvar    INFO     Parsing PDB atoms from lines...\n"
     ]
    },
    {
     "name": "stdout",
     "output_type": "stream",
     "text": [
      "WARNING!!! -8 residues lacked mapping from PDB to UniProt at arpeggio_lig_cons for 5rf2\n",
      "WARNING!!! -65 residues lacked mapping from PDB to UniProt at lig_cons_split for 5rf2\n",
      "Arpeggio output being processed for 5rf2!\n"
     ]
    },
    {
     "name": "stderr",
     "output_type": "stream",
     "text": [
      "2023-11-29 13:45:30,165 prointvar    INFO     PDBx removed existing hydrogens...\n",
      "2023-11-29 13:45:30,169 prointvar    INFO     PDBx reset atom numbers...\n",
      "2023-11-29 13:45:30,309 prointvar    INFO     Parsing PDB atoms from lines...\n"
     ]
    },
    {
     "name": "stdout",
     "output_type": "stream",
     "text": [
      "WARNING!!! -18 residues lacked mapping from PDB to UniProt at arpeggio_lig_cons for 8dd9\n",
      "WARNING!!! -306 residues lacked mapping from PDB to UniProt at lig_cons_split for 8dd9\n",
      "Arpeggio output being processed for 8dd9!\n",
      "No LOIs in 8e4j, so skipping!\n"
     ]
    },
    {
     "name": "stderr",
     "output_type": "stream",
     "text": [
      "2023-11-29 13:45:30,532 prointvar    INFO     PDBx removed existing hydrogens...\n",
      "2023-11-29 13:45:30,535 prointvar    INFO     PDBx reset atom numbers...\n",
      "2023-11-29 13:45:30,670 prointvar    INFO     Parsing PDB atoms from lines...\n"
     ]
    },
    {
     "name": "stdout",
     "output_type": "stream",
     "text": [
      "WARNING!!! -58 residues lacked mapping from PDB to UniProt at arpeggio_lig_cons for 6z2e\n",
      "WARNING!!! -1072 residues lacked mapping from PDB to UniProt at lig_cons_split for 6z2e\n",
      "Arpeggio output being processed for 6z2e!\n"
     ]
    },
    {
     "name": "stderr",
     "output_type": "stream",
     "text": [
      "2023-11-29 13:45:30,878 prointvar    INFO     PDBx removed existing hydrogens...\n",
      "2023-11-29 13:45:30,881 prointvar    INFO     PDBx reset atom numbers...\n",
      "2023-11-29 13:45:30,966 prointvar    INFO     Parsing PDB atoms from lines...\n"
     ]
    },
    {
     "name": "stdout",
     "output_type": "stream",
     "text": [
      "Arpeggio processing failed for 7m01_bio.pdb\n"
     ]
    },
    {
     "name": "stderr",
     "output_type": "stream",
     "text": [
      "2023-11-29 13:45:31,184 prointvar    INFO     PDBx removed existing hydrogens...\n",
      "2023-11-29 13:45:31,186 prointvar    INFO     PDBx reset atom numbers...\n",
      "2023-11-29 13:45:31,329 prointvar    INFO     Parsing PDB atoms from lines...\n"
     ]
    },
    {
     "name": "stdout",
     "output_type": "stream",
     "text": [
      "WARNING!!! -27 residues lacked mapping from PDB to UniProt at arpeggio_lig_cons for 7tdu\n",
      "WARNING!!! -395 residues lacked mapping from PDB to UniProt at lig_cons_split for 7tdu\n",
      "Arpeggio output being processed for 7tdu!\n"
     ]
    },
    {
     "name": "stderr",
     "output_type": "stream",
     "text": [
      "2023-11-29 13:45:31,537 prointvar    INFO     PDBx removed existing hydrogens...\n",
      "2023-11-29 13:45:31,540 prointvar    INFO     PDBx reset atom numbers...\n",
      "2023-11-29 13:45:31,665 prointvar    INFO     Parsing PDB atoms from lines...\n"
     ]
    },
    {
     "name": "stdout",
     "output_type": "stream",
     "text": [
      "WARNING!!! -9 residues lacked mapping from PDB to UniProt at arpeggio_lig_cons for 7vic\n",
      "WARNING!!! -134 residues lacked mapping from PDB to UniProt at lig_cons_split for 7vic\n",
      "Arpeggio output being processed for 7vic!\n"
     ]
    },
    {
     "name": "stderr",
     "output_type": "stream",
     "text": [
      "2023-11-29 13:45:31,866 prointvar    INFO     PDBx removed existing hydrogens...\n",
      "2023-11-29 13:45:31,868 prointvar    INFO     PDBx reset atom numbers...\n",
      "2023-11-29 13:45:31,996 prointvar    INFO     Parsing PDB atoms from lines...\n"
     ]
    },
    {
     "name": "stdout",
     "output_type": "stream",
     "text": [
      "WARNING!!! -11 residues lacked mapping from PDB to UniProt at arpeggio_lig_cons for 7x6k\n",
      "WARNING!!! -159 residues lacked mapping from PDB to UniProt at lig_cons_split for 7x6k\n",
      "Arpeggio output being processed for 7x6k!\n"
     ]
    },
    {
     "name": "stderr",
     "output_type": "stream",
     "text": [
      "2023-11-29 13:45:32,215 prointvar    INFO     PDBx removed existing hydrogens...\n",
      "2023-11-29 13:45:32,218 prointvar    INFO     PDBx reset atom numbers...\n",
      "2023-11-29 13:45:32,360 prointvar    INFO     Parsing PDB atoms from lines...\n"
     ]
    },
    {
     "name": "stdout",
     "output_type": "stream",
     "text": [
      "WARNING!!! -24 residues lacked mapping from PDB to UniProt at arpeggio_lig_cons for 7rfs\n",
      "WARNING!!! -396 residues lacked mapping from PDB to UniProt at lig_cons_split for 7rfs\n",
      "Arpeggio output being processed for 7rfs!\n"
     ]
    },
    {
     "name": "stderr",
     "output_type": "stream",
     "text": [
      "2023-11-29 13:45:32,569 prointvar    INFO     PDBx removed existing hydrogens...\n",
      "2023-11-29 13:45:32,571 prointvar    INFO     PDBx reset atom numbers...\n",
      "2023-11-29 13:45:32,698 prointvar    INFO     Parsing PDB atoms from lines...\n"
     ]
    },
    {
     "name": "stdout",
     "output_type": "stream",
     "text": [
      "WARNING!!! -12 residues lacked mapping from PDB to UniProt at arpeggio_lig_cons for 7jr4\n",
      "WARNING!!! -121 residues lacked mapping from PDB to UniProt at lig_cons_split for 7jr4\n",
      "Arpeggio output being processed for 7jr4!\n"
     ]
    },
    {
     "name": "stderr",
     "output_type": "stream",
     "text": [
      "2023-11-29 13:45:32,912 prointvar    INFO     PDBx removed existing hydrogens...\n",
      "2023-11-29 13:45:32,915 prointvar    INFO     PDBx reset atom numbers...\n",
      "2023-11-29 13:45:33,050 prointvar    INFO     Parsing PDB atoms from lines...\n"
     ]
    },
    {
     "name": "stdout",
     "output_type": "stream",
     "text": [
      "WARNING!!! -16 residues lacked mapping from PDB to UniProt at arpeggio_lig_cons for 5r83\n",
      "WARNING!!! -218 residues lacked mapping from PDB to UniProt at lig_cons_split for 5r83\n",
      "Arpeggio output being processed for 5r83!\n"
     ]
    },
    {
     "name": "stderr",
     "output_type": "stream",
     "text": [
      "2023-11-29 13:45:33,264 prointvar    INFO     PDBx removed existing hydrogens...\n",
      "2023-11-29 13:45:33,267 prointvar    INFO     PDBx reset atom numbers...\n",
      "2023-11-29 13:45:34,319 prointvar    INFO     Parsing PDB atoms from lines...\n"
     ]
    },
    {
     "name": "stdout",
     "output_type": "stream",
     "text": [
      "WARNING!!! -12 residues lacked mapping from PDB to UniProt at arpeggio_lig_cons for 5rgp\n",
      "WARNING!!! -128 residues lacked mapping from PDB to UniProt at lig_cons_split for 5rgp\n",
      "Arpeggio output being processed for 5rgp!\n",
      "No LOIs in 7vk2, so skipping!\n"
     ]
    },
    {
     "name": "stderr",
     "output_type": "stream",
     "text": [
      "2023-11-29 13:45:34,531 prointvar    INFO     PDBx removed existing hydrogens...\n",
      "2023-11-29 13:45:34,534 prointvar    INFO     PDBx reset atom numbers...\n",
      "2023-11-29 13:45:34,667 prointvar    INFO     Parsing PDB atoms from lines...\n"
     ]
    },
    {
     "name": "stdout",
     "output_type": "stream",
     "text": [
      "WARNING!!! -17 residues lacked mapping from PDB to UniProt at arpeggio_lig_cons for 5rf7\n",
      "WARNING!!! -255 residues lacked mapping from PDB to UniProt at lig_cons_split for 5rf7\n",
      "Arpeggio output being processed for 5rf7!\n"
     ]
    },
    {
     "name": "stderr",
     "output_type": "stream",
     "text": [
      "2023-11-29 13:45:34,876 prointvar    INFO     PDBx removed existing hydrogens...\n",
      "2023-11-29 13:45:34,879 prointvar    INFO     PDBx reset atom numbers...\n",
      "2023-11-29 13:45:35,019 prointvar    INFO     Parsing PDB atoms from lines...\n"
     ]
    },
    {
     "name": "stdout",
     "output_type": "stream",
     "text": [
      "WARNING!!! -20 residues lacked mapping from PDB to UniProt at arpeggio_lig_cons for 7wof\n",
      "WARNING!!! -307 residues lacked mapping from PDB to UniProt at lig_cons_split for 7wof\n",
      "Arpeggio output being processed for 7wof!\n"
     ]
    },
    {
     "name": "stderr",
     "output_type": "stream",
     "text": [
      "2023-11-29 13:45:35,234 prointvar    INFO     PDBx removed existing hydrogens...\n",
      "2023-11-29 13:45:35,237 prointvar    INFO     PDBx reset atom numbers...\n",
      "2023-11-29 13:45:36,297 prointvar    INFO     Parsing PDB atoms from lines...\n"
     ]
    },
    {
     "name": "stdout",
     "output_type": "stream",
     "text": [
      "WARNING!!! -13 residues lacked mapping from PDB to UniProt at arpeggio_lig_cons for 5rgl\n",
      "WARNING!!! -107 residues lacked mapping from PDB to UniProt at lig_cons_split for 5rgl\n",
      "Arpeggio output being processed for 5rgl!\n",
      "No LOIs in 7mb9, so skipping!\n"
     ]
    },
    {
     "name": "stderr",
     "output_type": "stream",
     "text": [
      "2023-11-29 13:45:36,511 prointvar    INFO     PDBx removed existing hydrogens...\n",
      "2023-11-29 13:45:36,513 prointvar    INFO     PDBx reset atom numbers...\n",
      "2023-11-29 13:45:36,648 prointvar    INFO     Parsing PDB atoms from lines...\n"
     ]
    },
    {
     "name": "stdout",
     "output_type": "stream",
     "text": [
      "WARNING!!! -14 residues lacked mapping from PDB to UniProt at arpeggio_lig_cons for 8aeb\n",
      "WARNING!!! -165 residues lacked mapping from PDB to UniProt at lig_cons_split for 8aeb\n",
      "Arpeggio output being processed for 8aeb!\n"
     ]
    },
    {
     "name": "stderr",
     "output_type": "stream",
     "text": [
      "2023-11-29 13:45:36,869 prointvar    INFO     PDBx removed existing hydrogens...\n",
      "2023-11-29 13:45:36,872 prointvar    INFO     PDBx reset atom numbers...\n",
      "2023-11-29 13:45:36,970 prointvar    INFO     Parsing PDB atoms from lines...\n",
      "2023-11-29 13:45:37,192 prointvar    INFO     PDBx removed existing hydrogens...\n",
      "2023-11-29 13:45:37,194 prointvar    INFO     PDBx reset atom numbers...\n",
      "2023-11-29 13:45:37,333 prointvar    INFO     Parsing PDB atoms from lines...\n"
     ]
    },
    {
     "name": "stdout",
     "output_type": "stream",
     "text": [
      "WARNING!!! -23 residues lacked mapping from PDB to UniProt at arpeggio_lig_cons for 7ay7\n",
      "WARNING!!! -506 residues lacked mapping from PDB to UniProt at lig_cons_split for 7ay7\n",
      "Arpeggio output being processed for 7ay7!\n"
     ]
    },
    {
     "name": "stderr",
     "output_type": "stream",
     "text": [
      "2023-11-29 13:45:37,553 prointvar    INFO     PDBx removed existing hydrogens...\n",
      "2023-11-29 13:45:37,556 prointvar    INFO     PDBx reset atom numbers...\n",
      "2023-11-29 13:45:37,698 prointvar    INFO     Parsing PDB atoms from lines...\n"
     ]
    },
    {
     "name": "stdout",
     "output_type": "stream",
     "text": [
      "WARNING!!! -23 residues lacked mapping from PDB to UniProt at arpeggio_lig_cons for 7rvm\n",
      "WARNING!!! -398 residues lacked mapping from PDB to UniProt at lig_cons_split for 7rvm\n",
      "Arpeggio output being processed for 7rvm!\n"
     ]
    },
    {
     "name": "stderr",
     "output_type": "stream",
     "text": [
      "2023-11-29 13:45:37,918 prointvar    INFO     PDBx removed existing hydrogens...\n",
      "2023-11-29 13:45:37,921 prointvar    INFO     PDBx reset atom numbers...\n",
      "2023-11-29 13:45:38,008 prointvar    INFO     Parsing PDB atoms from lines...\n",
      "2023-11-29 13:45:38,223 prointvar    INFO     PDBx removed existing hydrogens...\n",
      "2023-11-29 13:45:38,226 prointvar    INFO     PDBx reset atom numbers...\n",
      "2023-11-29 13:45:38,355 prointvar    INFO     Parsing PDB atoms from lines...\n"
     ]
    },
    {
     "name": "stdout",
     "output_type": "stream",
     "text": [
      "WARNING!!! -17 residues lacked mapping from PDB to UniProt at arpeggio_lig_cons for 7adw\n",
      "WARNING!!! -210 residues lacked mapping from PDB to UniProt at lig_cons_split for 7adw\n",
      "Arpeggio output being processed for 7adw!\n",
      "No LOIs in 7v7m, so skipping!\n"
     ]
    },
    {
     "name": "stderr",
     "output_type": "stream",
     "text": [
      "2023-11-29 13:45:38,573 prointvar    INFO     PDBx removed existing hydrogens...\n",
      "2023-11-29 13:45:38,576 prointvar    INFO     PDBx reset atom numbers...\n",
      "2023-11-29 13:45:38,663 prointvar    INFO     Parsing PDB atoms from lines...\n",
      "2023-11-29 13:45:38,881 prointvar    INFO     PDBx removed existing hydrogens...\n",
      "2023-11-29 13:45:38,884 prointvar    INFO     PDBx reset atom numbers...\n",
      "2023-11-29 13:45:39,022 prointvar    INFO     Parsing PDB atoms from lines...\n"
     ]
    },
    {
     "name": "stdout",
     "output_type": "stream",
     "text": [
      "WARNING!!! -15 residues lacked mapping from PDB to UniProt at arpeggio_lig_cons for 7axm\n",
      "WARNING!!! -260 residues lacked mapping from PDB to UniProt at lig_cons_split for 7axm\n",
      "Arpeggio output being processed for 7axm!\n",
      "No LOIs in 7ali, so skipping!\n"
     ]
    },
    {
     "name": "stderr",
     "output_type": "stream",
     "text": [
      "2023-11-29 13:45:39,238 prointvar    INFO     PDBx removed existing hydrogens...\n",
      "2023-11-29 13:45:39,241 prointvar    INFO     PDBx reset atom numbers...\n",
      "2023-11-29 13:45:39,377 prointvar    INFO     Parsing PDB atoms from lines...\n"
     ]
    },
    {
     "name": "stdout",
     "output_type": "stream",
     "text": [
      "WARNING!!! -17 residues lacked mapping from PDB to UniProt at arpeggio_lig_cons for 7b77\n",
      "WARNING!!! -281 residues lacked mapping from PDB to UniProt at lig_cons_split for 7b77\n",
      "Arpeggio output being processed for 7b77!\n"
     ]
    },
    {
     "name": "stderr",
     "output_type": "stream",
     "text": [
      "2023-11-29 13:45:39,593 prointvar    INFO     PDBx removed existing hydrogens...\n",
      "2023-11-29 13:45:39,596 prointvar    INFO     PDBx reset atom numbers...\n",
      "2023-11-29 13:45:40,605 prointvar    INFO     Parsing PDB atoms from lines...\n",
      "2023-11-29 13:45:40,822 prointvar    INFO     PDBx removed existing hydrogens...\n",
      "2023-11-29 13:45:40,825 prointvar    INFO     PDBx reset atom numbers...\n",
      "2023-11-29 13:45:41,865 prointvar    INFO     Parsing PDB atoms from lines...\n"
     ]
    },
    {
     "name": "stdout",
     "output_type": "stream",
     "text": [
      "Arpeggio output being processed for 7mpb!\n"
     ]
    },
    {
     "name": "stderr",
     "output_type": "stream",
     "text": [
      "2023-11-29 13:45:42,073 prointvar    INFO     PDBx removed existing hydrogens...\n",
      "2023-11-29 13:45:42,076 prointvar    INFO     PDBx reset atom numbers...\n",
      "2023-11-29 13:45:42,210 prointvar    INFO     Parsing PDB atoms from lines...\n"
     ]
    },
    {
     "name": "stdout",
     "output_type": "stream",
     "text": [
      "WARNING!!! -19 residues lacked mapping from PDB to UniProt at arpeggio_lig_cons for 7mlf\n",
      "WARNING!!! -286 residues lacked mapping from PDB to UniProt at lig_cons_split for 7mlf\n",
      "Arpeggio output being processed for 7mlf!\n"
     ]
    },
    {
     "name": "stderr",
     "output_type": "stream",
     "text": [
      "2023-11-29 13:45:42,425 prointvar    INFO     PDBx removed existing hydrogens...\n",
      "2023-11-29 13:45:42,428 prointvar    INFO     PDBx reset atom numbers...\n",
      "2023-11-29 13:45:42,566 prointvar    INFO     Parsing PDB atoms from lines...\n"
     ]
    },
    {
     "name": "stdout",
     "output_type": "stream",
     "text": [
      "WARNING!!! -24 residues lacked mapping from PDB to UniProt at arpeggio_lig_cons for 7uub\n",
      "WARNING!!! -425 residues lacked mapping from PDB to UniProt at lig_cons_split for 7uub\n",
      "Arpeggio output being processed for 7uub!\n"
     ]
    },
    {
     "name": "stderr",
     "output_type": "stream",
     "text": [
      "2023-11-29 13:45:42,778 prointvar    INFO     PDBx removed existing hydrogens...\n",
      "2023-11-29 13:45:42,780 prointvar    INFO     PDBx reset atom numbers...\n",
      "2023-11-29 13:45:42,864 prointvar    INFO     Parsing PDB atoms from lines...\n",
      "2023-11-29 13:45:43,074 prointvar    INFO     PDBx removed existing hydrogens...\n",
      "2023-11-29 13:45:43,077 prointvar    INFO     PDBx reset atom numbers...\n",
      "2023-11-29 13:45:43,202 prointvar    INFO     Parsing PDB atoms from lines...\n"
     ]
    },
    {
     "name": "stdout",
     "output_type": "stream",
     "text": [
      "WARNING!!! -6 residues lacked mapping from PDB to UniProt at arpeggio_lig_cons for 7zv7\n",
      "WARNING!!! -30 residues lacked mapping from PDB to UniProt at lig_cons_split for 7zv7\n",
      "Arpeggio output being processed for 7zv7!\n"
     ]
    },
    {
     "name": "stderr",
     "output_type": "stream",
     "text": [
      "2023-11-29 13:45:43,417 prointvar    INFO     PDBx removed existing hydrogens...\n",
      "2023-11-29 13:45:43,420 prointvar    INFO     PDBx reset atom numbers...\n",
      "2023-11-29 13:45:43,564 prointvar    INFO     Parsing PDB atoms from lines...\n"
     ]
    },
    {
     "name": "stdout",
     "output_type": "stream",
     "text": [
      "WARNING!!! -25 residues lacked mapping from PDB to UniProt at arpeggio_lig_cons for 7uud\n",
      "WARNING!!! -434 residues lacked mapping from PDB to UniProt at lig_cons_split for 7uud\n",
      "Arpeggio output being processed for 7uud!\n"
     ]
    },
    {
     "name": "stderr",
     "output_type": "stream",
     "text": [
      "2023-11-29 13:45:43,778 prointvar    INFO     PDBx removed existing hydrogens...\n",
      "2023-11-29 13:45:43,781 prointvar    INFO     PDBx reset atom numbers...\n",
      "2023-11-29 13:45:43,921 prointvar    INFO     Parsing PDB atoms from lines...\n"
     ]
    },
    {
     "name": "stdout",
     "output_type": "stream",
     "text": [
      "WARNING!!! -15 residues lacked mapping from PDB to UniProt at arpeggio_lig_cons for 5rgv\n",
      "WARNING!!! -233 residues lacked mapping from PDB to UniProt at lig_cons_split for 5rgv\n",
      "Arpeggio output being processed for 5rgv!\n"
     ]
    },
    {
     "name": "stderr",
     "output_type": "stream",
     "text": [
      "2023-11-29 13:45:44,129 prointvar    INFO     PDBx removed existing hydrogens...\n",
      "2023-11-29 13:45:44,132 prointvar    INFO     PDBx reset atom numbers...\n",
      "2023-11-29 13:45:45,352 prointvar    INFO     Parsing PDB atoms from lines...\n"
     ]
    },
    {
     "name": "stdout",
     "output_type": "stream",
     "text": [
      "Arpeggio output being processed for 7l8i!\n"
     ]
    },
    {
     "name": "stderr",
     "output_type": "stream",
     "text": [
      "2023-11-29 13:45:45,565 prointvar    INFO     PDBx removed existing hydrogens...\n",
      "2023-11-29 13:45:45,568 prointvar    INFO     PDBx reset atom numbers...\n",
      "2023-11-29 13:45:45,894 prointvar    INFO     Parsing PDB atoms from lines...\n"
     ]
    },
    {
     "name": "stdout",
     "output_type": "stream",
     "text": [
      "Arpeggio output being processed for 7faz!\n"
     ]
    },
    {
     "name": "stderr",
     "output_type": "stream",
     "text": [
      "2023-11-29 13:45:46,109 prointvar    INFO     PDBx removed existing hydrogens...\n",
      "2023-11-29 13:45:46,112 prointvar    INFO     PDBx reset atom numbers...\n",
      "2023-11-29 13:45:46,246 prointvar    INFO     Parsing PDB atoms from lines...\n"
     ]
    },
    {
     "name": "stdout",
     "output_type": "stream",
     "text": [
      "WARNING!!! -10 residues lacked mapping from PDB to UniProt at arpeggio_lig_cons for 5rgr\n",
      "WARNING!!! -141 residues lacked mapping from PDB to UniProt at lig_cons_split for 5rgr\n",
      "Arpeggio output being processed for 5rgr!\n"
     ]
    },
    {
     "name": "stderr",
     "output_type": "stream",
     "text": [
      "2023-11-29 13:45:46,458 prointvar    INFO     PDBx removed existing hydrogens...\n",
      "2023-11-29 13:45:46,461 prointvar    INFO     PDBx reset atom numbers...\n",
      "2023-11-29 13:45:46,600 prointvar    INFO     Parsing PDB atoms from lines...\n"
     ]
    },
    {
     "name": "stdout",
     "output_type": "stream",
     "text": [
      "WARNING!!! -22 residues lacked mapping from PDB to UniProt at arpeggio_lig_cons for 7dgf\n",
      "WARNING!!! -312 residues lacked mapping from PDB to UniProt at lig_cons_split for 7dgf\n",
      "Arpeggio output being processed for 7dgf!\n"
     ]
    },
    {
     "name": "stderr",
     "output_type": "stream",
     "text": [
      "2023-11-29 13:45:46,820 prointvar    INFO     PDBx removed existing hydrogens...\n",
      "2023-11-29 13:45:46,823 prointvar    INFO     PDBx reset atom numbers...\n",
      "2023-11-29 13:45:46,964 prointvar    INFO     Parsing PDB atoms from lines...\n"
     ]
    },
    {
     "name": "stdout",
     "output_type": "stream",
     "text": [
      "WARNING!!! -25 residues lacked mapping from PDB to UniProt at arpeggio_lig_cons for 7c8t\n",
      "WARNING!!! -443 residues lacked mapping from PDB to UniProt at lig_cons_split for 7c8t\n",
      "Arpeggio output being processed for 7c8t!\n"
     ]
    },
    {
     "name": "stderr",
     "output_type": "stream",
     "text": [
      "2023-11-29 13:45:47,178 prointvar    INFO     PDBx removed existing hydrogens...\n",
      "2023-11-29 13:45:47,181 prointvar    INFO     PDBx reset atom numbers...\n",
      "2023-11-29 13:45:47,349 prointvar    INFO     Parsing PDB atoms from lines...\n"
     ]
    },
    {
     "name": "stdout",
     "output_type": "stream",
     "text": [
      "Arpeggio output being processed for 7ng6!\n",
      "No LOIs in 8ehk, so skipping!\n",
      "No LOIs in 8drx, so skipping!\n"
     ]
    },
    {
     "name": "stderr",
     "output_type": "stream",
     "text": [
      "2023-11-29 13:45:47,559 prointvar    INFO     PDBx removed existing hydrogens...\n",
      "2023-11-29 13:45:47,562 prointvar    INFO     PDBx reset atom numbers...\n",
      "2023-11-29 13:45:47,648 prointvar    INFO     Parsing PDB atoms from lines...\n",
      "2023-11-29 13:45:47,858 prointvar    INFO     PDBx removed existing hydrogens...\n",
      "2023-11-29 13:45:47,861 prointvar    INFO     PDBx reset atom numbers...\n",
      "2023-11-29 13:45:48,008 prointvar    INFO     Parsing PDB atoms from lines...\n"
     ]
    },
    {
     "name": "stdout",
     "output_type": "stream",
     "text": [
      "WARNING!!! -6 residues lacked mapping from PDB to UniProt at arpeggio_lig_cons for 7zv8\n",
      "WARNING!!! -53 residues lacked mapping from PDB to UniProt at lig_cons_split for 7zv8\n",
      "Arpeggio output being processed for 7zv8!\n"
     ]
    },
    {
     "name": "stderr",
     "output_type": "stream",
     "text": [
      "2023-11-29 13:45:48,221 prointvar    INFO     PDBx removed existing hydrogens...\n",
      "2023-11-29 13:45:48,223 prointvar    INFO     PDBx reset atom numbers...\n",
      "2023-11-29 13:45:48,355 prointvar    INFO     Parsing PDB atoms from lines...\n"
     ]
    },
    {
     "name": "stdout",
     "output_type": "stream",
     "text": [
      "WARNING!!! -11 residues lacked mapping from PDB to UniProt at arpeggio_lig_cons for 6xb0\n",
      "WARNING!!! -99 residues lacked mapping from PDB to UniProt at lig_cons_split for 6xb0\n",
      "Arpeggio output being processed for 6xb0!\n"
     ]
    },
    {
     "name": "stderr",
     "output_type": "stream",
     "text": [
      "2023-11-29 13:45:48,562 prointvar    INFO     PDBx removed existing hydrogens...\n",
      "2023-11-29 13:45:48,564 prointvar    INFO     PDBx reset atom numbers...\n",
      "2023-11-29 13:45:49,609 prointvar    INFO     Parsing PDB atoms from lines...\n",
      "2023-11-29 13:45:49,815 prointvar    INFO     PDBx removed existing hydrogens...\n",
      "2023-11-29 13:45:49,818 prointvar    INFO     PDBx reset atom numbers...\n",
      "2023-11-29 13:45:51,455 prointvar    INFO     Parsing PDB atoms from lines...\n"
     ]
    },
    {
     "name": "stdout",
     "output_type": "stream",
     "text": [
      "Arpeggio output being processed for 7lkv!\n",
      "No LOIs in 7vk5, so skipping!\n"
     ]
    },
    {
     "name": "stderr",
     "output_type": "stream",
     "text": [
      "2023-11-29 13:45:51,671 prointvar    INFO     PDBx removed existing hydrogens...\n",
      "2023-11-29 13:45:51,674 prointvar    INFO     PDBx reset atom numbers...\n",
      "2023-11-29 13:45:52,716 prointvar    INFO     Parsing PDB atoms from lines...\n"
     ]
    },
    {
     "name": "stdout",
     "output_type": "stream",
     "text": [
      "Arpeggio output being processed for 7cuu!\n"
     ]
    },
    {
     "name": "stderr",
     "output_type": "stream",
     "text": [
      "2023-11-29 13:45:52,932 prointvar    INFO     PDBx removed existing hydrogens...\n",
      "2023-11-29 13:45:52,935 prointvar    INFO     PDBx reset atom numbers...\n",
      "2023-11-29 13:45:53,078 prointvar    INFO     Parsing PDB atoms from lines...\n"
     ]
    },
    {
     "name": "stdout",
     "output_type": "stream",
     "text": [
      "WARNING!!! -22 residues lacked mapping from PDB to UniProt at arpeggio_lig_cons for 5rl3\n",
      "WARNING!!! -336 residues lacked mapping from PDB to UniProt at lig_cons_split for 5rl3\n",
      "Arpeggio output being processed for 5rl3!\n"
     ]
    },
    {
     "name": "stderr",
     "output_type": "stream",
     "text": [
      "2023-11-29 13:45:53,287 prointvar    INFO     PDBx removed existing hydrogens...\n",
      "2023-11-29 13:45:53,290 prointvar    INFO     PDBx reset atom numbers...\n",
      "2023-11-29 13:45:53,956 prointvar    INFO     Parsing PDB atoms from lines...\n"
     ]
    },
    {
     "name": "stdout",
     "output_type": "stream",
     "text": [
      "Arpeggio output being processed for 7mb1!\n"
     ]
    },
    {
     "name": "stderr",
     "output_type": "stream",
     "text": [
      "2023-11-29 13:45:54,174 prointvar    INFO     PDBx removed existing hydrogens...\n",
      "2023-11-29 13:45:54,177 prointvar    INFO     PDBx reset atom numbers...\n",
      "2023-11-29 13:45:54,319 prointvar    INFO     Parsing PDB atoms from lines...\n"
     ]
    },
    {
     "name": "stdout",
     "output_type": "stream",
     "text": [
      "WARNING!!! -23 residues lacked mapping from PDB to UniProt at arpeggio_lig_cons for 7teh\n",
      "WARNING!!! -355 residues lacked mapping from PDB to UniProt at lig_cons_split for 7teh\n",
      "Arpeggio output being processed for 7teh!\n"
     ]
    },
    {
     "name": "stderr",
     "output_type": "stream",
     "text": [
      "2023-11-29 13:45:54,536 prointvar    INFO     PDBx removed existing hydrogens...\n",
      "2023-11-29 13:45:54,539 prointvar    INFO     PDBx reset atom numbers...\n",
      "2023-11-29 13:45:55,599 prointvar    INFO     Parsing PDB atoms from lines...\n"
     ]
    },
    {
     "name": "stdout",
     "output_type": "stream",
     "text": [
      "WARNING!!! -56 residues lacked mapping from PDB to UniProt at arpeggio_lig_cons for 7nts\n",
      "WARNING!!! -342 residues lacked mapping from PDB to UniProt at lig_cons_split for 7nts\n",
      "Arpeggio output being processed for 7nts!\n"
     ]
    },
    {
     "name": "stderr",
     "output_type": "stream",
     "text": [
      "2023-11-29 13:45:55,814 prointvar    INFO     PDBx removed existing hydrogens...\n",
      "2023-11-29 13:45:55,817 prointvar    INFO     PDBx reset atom numbers...\n",
      "2023-11-29 13:45:55,987 prointvar    INFO     Parsing PDB atoms from lines...\n"
     ]
    },
    {
     "name": "stdout",
     "output_type": "stream",
     "text": [
      "Arpeggio output being processed for 8dcz!\n"
     ]
    },
    {
     "name": "stderr",
     "output_type": "stream",
     "text": [
      "2023-11-29 13:45:56,209 prointvar    INFO     PDBx removed existing hydrogens...\n",
      "2023-11-29 13:45:56,211 prointvar    INFO     PDBx reset atom numbers...\n",
      "2023-11-29 13:45:57,263 prointvar    INFO     Parsing PDB atoms from lines...\n"
     ]
    },
    {
     "name": "stdout",
     "output_type": "stream",
     "text": [
      "WARNING!!! -7 residues lacked mapping from PDB to UniProt at arpeggio_lig_cons for 7awr\n",
      "WARNING!!! -129 residues lacked mapping from PDB to UniProt at lig_cons_split for 7awr\n",
      "Arpeggio output being processed for 7awr!\n"
     ]
    },
    {
     "name": "stderr",
     "output_type": "stream",
     "text": [
      "2023-11-29 13:45:57,472 prointvar    INFO     PDBx removed existing hydrogens...\n",
      "2023-11-29 13:45:57,474 prointvar    INFO     PDBx reset atom numbers...\n",
      "2023-11-29 13:45:57,609 prointvar    INFO     Parsing PDB atoms from lines...\n"
     ]
    },
    {
     "name": "stdout",
     "output_type": "stream",
     "text": [
      "WARNING!!! -18 residues lacked mapping from PDB to UniProt at arpeggio_lig_cons for 7c8u\n",
      "WARNING!!! -331 residues lacked mapping from PDB to UniProt at lig_cons_split for 7c8u\n",
      "Arpeggio output being processed for 7c8u!\n"
     ]
    },
    {
     "name": "stderr",
     "output_type": "stream",
     "text": [
      "2023-11-29 13:45:57,825 prointvar    INFO     PDBx removed existing hydrogens...\n",
      "2023-11-29 13:45:57,828 prointvar    INFO     PDBx reset atom numbers...\n",
      "2023-11-29 13:45:57,959 prointvar    INFO     Parsing PDB atoms from lines...\n"
     ]
    },
    {
     "name": "stdout",
     "output_type": "stream",
     "text": [
      "WARNING!!! -14 residues lacked mapping from PDB to UniProt at arpeggio_lig_cons for 5r80\n",
      "WARNING!!! -180 residues lacked mapping from PDB to UniProt at lig_cons_split for 5r80\n",
      "Arpeggio output being processed for 5r80!\n",
      "No LOIs in 7ta4, so skipping!\n"
     ]
    },
    {
     "name": "stderr",
     "output_type": "stream",
     "text": [
      "2023-11-29 13:45:58,174 prointvar    INFO     PDBx removed existing hydrogens...\n",
      "2023-11-29 13:45:58,177 prointvar    INFO     PDBx reset atom numbers...\n",
      "2023-11-29 13:45:59,205 prointvar    INFO     Parsing PDB atoms from lines...\n"
     ]
    },
    {
     "name": "stdout",
     "output_type": "stream",
     "text": [
      "WARNING!!! -13 residues lacked mapping from PDB to UniProt at arpeggio_lig_cons for 5rfp\n",
      "WARNING!!! -151 residues lacked mapping from PDB to UniProt at lig_cons_split for 5rfp\n",
      "Arpeggio output being processed for 5rfp!\n",
      "No LOIs in 7djr, so skipping!\n",
      "No LOIs in 7mb4, so skipping!\n"
     ]
    },
    {
     "name": "stderr",
     "output_type": "stream",
     "text": [
      "2023-11-29 13:45:59,416 prointvar    INFO     PDBx removed existing hydrogens...\n",
      "2023-11-29 13:45:59,418 prointvar    INFO     PDBx reset atom numbers...\n",
      "2023-11-29 13:45:59,544 prointvar    INFO     Parsing PDB atoms from lines...\n"
     ]
    },
    {
     "name": "stdout",
     "output_type": "stream",
     "text": [
      "WARNING!!! -9 residues lacked mapping from PDB to UniProt at arpeggio_lig_cons for 7jt0\n",
      "WARNING!!! -108 residues lacked mapping from PDB to UniProt at lig_cons_split for 7jt0\n",
      "Arpeggio output being processed for 7jt0!\n",
      "No LOIs in 7dvx, so skipping!\n"
     ]
    },
    {
     "name": "stderr",
     "output_type": "stream",
     "text": [
      "2023-11-29 13:45:59,759 prointvar    INFO     PDBx removed existing hydrogens...\n",
      "2023-11-29 13:45:59,762 prointvar    INFO     PDBx reset atom numbers...\n",
      "2023-11-29 13:46:00,786 prointvar    INFO     Parsing PDB atoms from lines...\n"
     ]
    },
    {
     "name": "stdout",
     "output_type": "stream",
     "text": [
      "WARNING!!! -16 residues lacked mapping from PDB to UniProt at arpeggio_lig_cons for 5reu\n",
      "WARNING!!! -185 residues lacked mapping from PDB to UniProt at lig_cons_split for 5reu\n",
      "Arpeggio output being processed for 5reu!\n",
      "No LOIs in 8ehj, so skipping!\n"
     ]
    },
    {
     "name": "stderr",
     "output_type": "stream",
     "text": [
      "2023-11-29 13:46:01,001 prointvar    INFO     PDBx removed existing hydrogens...\n",
      "2023-11-29 13:46:01,003 prointvar    INFO     PDBx reset atom numbers...\n",
      "2023-11-29 13:46:01,148 prointvar    INFO     Parsing PDB atoms from lines...\n"
     ]
    },
    {
     "name": "stdout",
     "output_type": "stream",
     "text": [
      "WARNING!!! -26 residues lacked mapping from PDB to UniProt at arpeggio_lig_cons for 7rvy\n",
      "WARNING!!! -452 residues lacked mapping from PDB to UniProt at lig_cons_split for 7rvy\n",
      "Arpeggio output being processed for 7rvy!\n"
     ]
    },
    {
     "name": "stderr",
     "output_type": "stream",
     "text": [
      "2023-11-29 13:46:01,374 prointvar    INFO     PDBx removed existing hydrogens...\n",
      "2023-11-29 13:46:01,376 prointvar    INFO     PDBx reset atom numbers...\n",
      "2023-11-29 13:46:01,524 prointvar    INFO     Parsing PDB atoms from lines...\n"
     ]
    },
    {
     "name": "stdout",
     "output_type": "stream",
     "text": [
      "WARNING!!! -24 residues lacked mapping from PDB to UniProt at arpeggio_lig_cons for 7sfi\n",
      "WARNING!!! -417 residues lacked mapping from PDB to UniProt at lig_cons_split for 7sfi\n",
      "Arpeggio output being processed for 7sfi!\n"
     ]
    },
    {
     "name": "stderr",
     "output_type": "stream",
     "text": [
      "2023-11-29 13:46:01,740 prointvar    INFO     PDBx removed existing hydrogens...\n",
      "2023-11-29 13:46:01,743 prointvar    INFO     PDBx reset atom numbers...\n",
      "2023-11-29 13:46:01,906 prointvar    INFO     Parsing PDB atoms from lines...\n"
     ]
    },
    {
     "name": "stdout",
     "output_type": "stream",
     "text": [
      "Arpeggio output being processed for 8e4r!\n"
     ]
    },
    {
     "name": "stderr",
     "output_type": "stream",
     "text": [
      "2023-11-29 13:46:02,126 prointvar    INFO     PDBx removed existing hydrogens...\n",
      "2023-11-29 13:46:02,129 prointvar    INFO     PDBx reset atom numbers...\n",
      "2023-11-29 13:46:02,278 prointvar    INFO     Parsing PDB atoms from lines...\n"
     ]
    },
    {
     "name": "stdout",
     "output_type": "stream",
     "text": [
      "WARNING!!! -36 residues lacked mapping from PDB to UniProt at arpeggio_lig_cons for 7neo\n",
      "WARNING!!! -535 residues lacked mapping from PDB to UniProt at lig_cons_split for 7neo\n",
      "Arpeggio output being processed for 7neo!\n"
     ]
    },
    {
     "name": "stderr",
     "output_type": "stream",
     "text": [
      "2023-11-29 13:46:02,495 prointvar    INFO     PDBx removed existing hydrogens...\n",
      "2023-11-29 13:46:02,498 prointvar    INFO     PDBx reset atom numbers...\n",
      "2023-11-29 13:46:02,637 prointvar    INFO     Parsing PDB atoms from lines...\n"
     ]
    },
    {
     "name": "stdout",
     "output_type": "stream",
     "text": [
      "WARNING!!! -18 residues lacked mapping from PDB to UniProt at arpeggio_lig_cons for 7tiu\n",
      "WARNING!!! -344 residues lacked mapping from PDB to UniProt at lig_cons_split for 7tiu\n",
      "Arpeggio output being processed for 7tiu!\n"
     ]
    },
    {
     "name": "stderr",
     "output_type": "stream",
     "text": [
      "2023-11-29 13:46:02,856 prointvar    INFO     PDBx removed existing hydrogens...\n",
      "2023-11-29 13:46:02,859 prointvar    INFO     PDBx reset atom numbers...\n",
      "2023-11-29 13:46:02,986 prointvar    INFO     Parsing PDB atoms from lines...\n"
     ]
    },
    {
     "name": "stdout",
     "output_type": "stream",
     "text": [
      "WARNING!!! -13 residues lacked mapping from PDB to UniProt at arpeggio_lig_cons for 5re4\n",
      "WARNING!!! -148 residues lacked mapping from PDB to UniProt at lig_cons_split for 5re4\n",
      "Arpeggio output being processed for 5re4!\n",
      "No LOIs in 7nij, so skipping!\n"
     ]
    },
    {
     "name": "stderr",
     "output_type": "stream",
     "text": [
      "2023-11-29 13:46:03,202 prointvar    INFO     PDBx removed existing hydrogens...\n",
      "2023-11-29 13:46:03,204 prointvar    INFO     PDBx reset atom numbers...\n",
      "2023-11-29 13:46:03,332 prointvar    INFO     Parsing PDB atoms from lines...\n"
     ]
    },
    {
     "name": "stdout",
     "output_type": "stream",
     "text": [
      "WARNING!!! -11 residues lacked mapping from PDB to UniProt at arpeggio_lig_cons for 5reo\n",
      "WARNING!!! -126 residues lacked mapping from PDB to UniProt at lig_cons_split for 5reo\n",
      "Arpeggio output being processed for 5reo!\n"
     ]
    },
    {
     "name": "stderr",
     "output_type": "stream",
     "text": [
      "2023-11-29 13:46:03,549 prointvar    INFO     PDBx removed existing hydrogens...\n",
      "2023-11-29 13:46:03,551 prointvar    INFO     PDBx reset atom numbers...\n",
      "2023-11-29 13:46:03,683 prointvar    INFO     Parsing PDB atoms from lines...\n"
     ]
    },
    {
     "name": "stdout",
     "output_type": "stream",
     "text": [
      "WARNING!!! -15 residues lacked mapping from PDB to UniProt at arpeggio_lig_cons for 5rfv\n",
      "WARNING!!! -171 residues lacked mapping from PDB to UniProt at lig_cons_split for 5rfv\n",
      "Arpeggio output being processed for 5rfv!\n",
      "No LOIs in 7zb6, so skipping!\n"
     ]
    },
    {
     "name": "stderr",
     "output_type": "stream",
     "text": [
      "2023-11-29 13:46:03,897 prointvar    INFO     PDBx removed existing hydrogens...\n",
      "2023-11-29 13:46:03,901 prointvar    INFO     PDBx reset atom numbers...\n",
      "2023-11-29 13:46:04,047 prointvar    INFO     Parsing PDB atoms from lines...\n"
     ]
    },
    {
     "name": "stdout",
     "output_type": "stream",
     "text": [
      "WARNING!!! -22 residues lacked mapping from PDB to UniProt at arpeggio_lig_cons for 7rvz\n",
      "WARNING!!! -459 residues lacked mapping from PDB to UniProt at lig_cons_split for 7rvz\n",
      "Arpeggio output being processed for 7rvz!\n"
     ]
    },
    {
     "name": "stderr",
     "output_type": "stream",
     "text": [
      "2023-11-29 13:46:04,264 prointvar    INFO     PDBx removed existing hydrogens...\n",
      "2023-11-29 13:46:04,267 prointvar    INFO     PDBx reset atom numbers...\n",
      "2023-11-29 13:46:04,439 prointvar    INFO     Parsing PDB atoms from lines...\n"
     ]
    },
    {
     "name": "stdout",
     "output_type": "stream",
     "text": [
      "Arpeggio output being processed for 7r7h!\n"
     ]
    },
    {
     "name": "stderr",
     "output_type": "stream",
     "text": [
      "2023-11-29 13:46:04,644 prointvar    INFO     PDBx removed existing hydrogens...\n",
      "2023-11-29 13:46:04,647 prointvar    INFO     PDBx reset atom numbers...\n",
      "2023-11-29 13:46:05,661 prointvar    INFO     Parsing PDB atoms from lines...\n",
      "2023-11-29 13:46:05,870 prointvar    INFO     PDBx removed existing hydrogens...\n",
      "2023-11-29 13:46:05,873 prointvar    INFO     PDBx reset atom numbers...\n",
      "2023-11-29 13:46:06,912 prointvar    INFO     Parsing PDB atoms from lines...\n"
     ]
    },
    {
     "name": "stdout",
     "output_type": "stream",
     "text": [
      "WARNING!!! -43 residues lacked mapping from PDB to UniProt at arpeggio_lig_cons for 7lzz\n",
      "WARNING!!! -790 residues lacked mapping from PDB to UniProt at lig_cons_split for 7lzz\n",
      "Arpeggio output being processed for 7lzz!\n"
     ]
    },
    {
     "name": "stderr",
     "output_type": "stream",
     "text": [
      "2023-11-29 13:46:07,129 prointvar    INFO     PDBx removed existing hydrogens...\n",
      "2023-11-29 13:46:07,132 prointvar    INFO     PDBx reset atom numbers...\n",
      "2023-11-29 13:46:08,193 prointvar    INFO     Parsing PDB atoms from lines...\n"
     ]
    },
    {
     "name": "stdout",
     "output_type": "stream",
     "text": [
      "Arpeggio output being processed for 7bgp!\n"
     ]
    },
    {
     "name": "stderr",
     "output_type": "stream",
     "text": [
      "2023-11-29 13:46:08,407 prointvar    INFO     PDBx removed existing hydrogens...\n",
      "2023-11-29 13:46:08,410 prointvar    INFO     PDBx reset atom numbers...\n",
      "2023-11-29 13:46:08,507 prointvar    INFO     Parsing PDB atoms from lines...\n",
      "2023-11-29 13:46:08,720 prointvar    INFO     PDBx removed existing hydrogens...\n",
      "2023-11-29 13:46:08,723 prointvar    INFO     PDBx reset atom numbers...\n",
      "2023-11-29 13:46:09,226 prointvar    INFO     Parsing PDB atoms from lines...\n"
     ]
    },
    {
     "name": "stdout",
     "output_type": "stream",
     "text": [
      "Arpeggio output being processed for 7jkv!\n"
     ]
    },
    {
     "name": "stderr",
     "output_type": "stream",
     "text": [
      "2023-11-29 13:46:09,445 prointvar    INFO     PDBx removed existing hydrogens...\n",
      "2023-11-29 13:46:09,448 prointvar    INFO     PDBx reset atom numbers...\n",
      "2023-11-29 13:46:09,580 prointvar    INFO     Parsing PDB atoms from lines...\n"
     ]
    },
    {
     "name": "stdout",
     "output_type": "stream",
     "text": [
      "WARNING!!! -11 residues lacked mapping from PDB to UniProt at arpeggio_lig_cons for 5reb\n",
      "WARNING!!! -139 residues lacked mapping from PDB to UniProt at lig_cons_split for 5reb\n",
      "Arpeggio output being processed for 5reb!\n"
     ]
    },
    {
     "name": "stderr",
     "output_type": "stream",
     "text": [
      "2023-11-29 13:46:09,798 prointvar    INFO     PDBx removed existing hydrogens...\n",
      "2023-11-29 13:46:09,801 prointvar    INFO     PDBx reset atom numbers...\n",
      "2023-11-29 13:46:10,257 prointvar    INFO     Parsing PDB atoms from lines...\n"
     ]
    },
    {
     "name": "stdout",
     "output_type": "stream",
     "text": [
      "Arpeggio output being processed for 8dz0!\n"
     ]
    },
    {
     "name": "stderr",
     "output_type": "stream",
     "text": [
      "2023-11-29 13:46:10,470 prointvar    INFO     PDBx removed existing hydrogens...\n",
      "2023-11-29 13:46:10,473 prointvar    INFO     PDBx reset atom numbers...\n",
      "2023-11-29 13:46:10,604 prointvar    INFO     Parsing PDB atoms from lines...\n"
     ]
    },
    {
     "name": "stdout",
     "output_type": "stream",
     "text": [
      "WARNING!!! -8 residues lacked mapping from PDB to UniProt at arpeggio_lig_cons for 5re6\n",
      "WARNING!!! -108 residues lacked mapping from PDB to UniProt at lig_cons_split for 5re6\n",
      "Arpeggio output being processed for 5re6!\n"
     ]
    },
    {
     "name": "stderr",
     "output_type": "stream",
     "text": [
      "2023-11-29 13:46:10,814 prointvar    INFO     PDBx removed existing hydrogens...\n",
      "2023-11-29 13:46:10,817 prointvar    INFO     PDBx reset atom numbers...\n",
      "2023-11-29 13:46:11,811 prointvar    INFO     Parsing PDB atoms from lines...\n",
      "2023-11-29 13:46:12,021 prointvar    INFO     PDBx removed existing hydrogens...\n",
      "2023-11-29 13:46:12,023 prointvar    INFO     PDBx reset atom numbers...\n",
      "2023-11-29 13:46:13,129 prointvar    INFO     Parsing PDB atoms from lines...\n"
     ]
    },
    {
     "name": "stdout",
     "output_type": "stream",
     "text": [
      "Arpeggio output being processed for 7t43!\n"
     ]
    },
    {
     "name": "stderr",
     "output_type": "stream",
     "text": [
      "2023-11-29 13:46:13,344 prointvar    INFO     PDBx removed existing hydrogens...\n",
      "2023-11-29 13:46:13,347 prointvar    INFO     PDBx reset atom numbers...\n",
      "2023-11-29 13:46:13,483 prointvar    INFO     Parsing PDB atoms from lines...\n"
     ]
    },
    {
     "name": "stdout",
     "output_type": "stream",
     "text": [
      "WARNING!!! -22 residues lacked mapping from PDB to UniProt at arpeggio_lig_cons for 5rh6\n",
      "WARNING!!! -354 residues lacked mapping from PDB to UniProt at lig_cons_split for 5rh6\n",
      "Arpeggio output being processed for 5rh6!\n"
     ]
    },
    {
     "name": "stderr",
     "output_type": "stream",
     "text": [
      "2023-11-29 13:46:13,700 prointvar    INFO     PDBx removed existing hydrogens...\n",
      "2023-11-29 13:46:13,703 prointvar    INFO     PDBx reset atom numbers...\n",
      "2023-11-29 13:46:13,790 prointvar    INFO     Parsing PDB atoms from lines...\n",
      "2023-11-29 13:46:14,006 prointvar    INFO     PDBx removed existing hydrogens...\n",
      "2023-11-29 13:46:14,009 prointvar    INFO     PDBx reset atom numbers...\n",
      "2023-11-29 13:46:14,095 prointvar    INFO     Parsing PDB atoms from lines...\n",
      "2023-11-29 13:46:14,311 prointvar    INFO     PDBx removed existing hydrogens...\n",
      "2023-11-29 13:46:14,314 prointvar    INFO     PDBx reset atom numbers...\n",
      "2023-11-29 13:46:14,447 prointvar    INFO     Parsing PDB atoms from lines...\n"
     ]
    },
    {
     "name": "stdout",
     "output_type": "stream",
     "text": [
      "WARNING!!! -27 residues lacked mapping from PDB to UniProt at arpeggio_lig_cons for 7nev\n",
      "WARNING!!! -291 residues lacked mapping from PDB to UniProt at lig_cons_split for 7nev\n",
      "Arpeggio output being processed for 7nev!\n"
     ]
    },
    {
     "name": "stderr",
     "output_type": "stream",
     "text": [
      "2023-11-29 13:46:14,663 prointvar    INFO     PDBx removed existing hydrogens...\n",
      "2023-11-29 13:46:14,666 prointvar    INFO     PDBx reset atom numbers...\n",
      "2023-11-29 13:46:14,803 prointvar    INFO     Parsing PDB atoms from lines...\n"
     ]
    },
    {
     "name": "stdout",
     "output_type": "stream",
     "text": [
      "WARNING!!! -31 residues lacked mapping from PDB to UniProt at arpeggio_lig_cons for 7ntw\n",
      "WARNING!!! -166 residues lacked mapping from PDB to UniProt at lig_cons_split for 7ntw\n",
      "Arpeggio output being processed for 7ntw!\n"
     ]
    },
    {
     "name": "stderr",
     "output_type": "stream",
     "text": [
      "2023-11-29 13:46:15,027 prointvar    INFO     PDBx removed existing hydrogens...\n",
      "2023-11-29 13:46:15,030 prointvar    INFO     PDBx reset atom numbers...\n",
      "2023-11-29 13:46:15,178 prointvar    INFO     Parsing PDB atoms from lines...\n"
     ]
    },
    {
     "name": "stdout",
     "output_type": "stream",
     "text": [
      "WARNING!!! -27 residues lacked mapping from PDB to UniProt at arpeggio_lig_cons for 7jyc\n",
      "WARNING!!! -458 residues lacked mapping from PDB to UniProt at lig_cons_split for 7jyc\n",
      "Arpeggio output being processed for 7jyc!\n"
     ]
    },
    {
     "name": "stderr",
     "output_type": "stream",
     "text": [
      "2023-11-29 13:46:15,391 prointvar    INFO     PDBx removed existing hydrogens...\n",
      "2023-11-29 13:46:15,394 prointvar    INFO     PDBx reset atom numbers...\n",
      "2023-11-29 13:46:15,566 prointvar    INFO     Parsing PDB atoms from lines...\n"
     ]
    },
    {
     "name": "stdout",
     "output_type": "stream",
     "text": [
      "Arpeggio output being processed for 7rw1!\n"
     ]
    },
    {
     "name": "stderr",
     "output_type": "stream",
     "text": [
      "2023-11-29 13:46:15,782 prointvar    INFO     PDBx removed existing hydrogens...\n",
      "2023-11-29 13:46:15,785 prointvar    INFO     PDBx reset atom numbers...\n",
      "2023-11-29 13:46:15,879 prointvar    INFO     Parsing PDB atoms from lines...\n",
      "2023-11-29 13:46:16,097 prointvar    INFO     PDBx removed existing hydrogens...\n",
      "2023-11-29 13:46:16,100 prointvar    INFO     PDBx reset atom numbers...\n",
      "2023-11-29 13:46:17,551 prointvar    INFO     Parsing PDB atoms from lines...\n"
     ]
    },
    {
     "name": "stdout",
     "output_type": "stream",
     "text": [
      "Arpeggio output being processed for 7q5f!\n"
     ]
    },
    {
     "name": "stderr",
     "output_type": "stream",
     "text": [
      "2023-11-29 13:46:17,767 prointvar    INFO     PDBx removed existing hydrogens...\n",
      "2023-11-29 13:46:17,770 prointvar    INFO     PDBx reset atom numbers...\n",
      "2023-11-29 13:46:17,912 prointvar    INFO     Parsing PDB atoms from lines...\n"
     ]
    },
    {
     "name": "stdout",
     "output_type": "stream",
     "text": [
      "WARNING!!! -25 residues lacked mapping from PDB to UniProt at arpeggio_lig_cons for 6zru\n",
      "WARNING!!! -338 residues lacked mapping from PDB to UniProt at lig_cons_split for 6zru\n",
      "Arpeggio output being processed for 6zru!\n"
     ]
    },
    {
     "name": "stderr",
     "output_type": "stream",
     "text": [
      "2023-11-29 13:46:18,116 prointvar    INFO     PDBx removed existing hydrogens...\n",
      "2023-11-29 13:46:18,118 prointvar    INFO     PDBx reset atom numbers...\n",
      "2023-11-29 13:46:18,284 prointvar    INFO     Parsing PDB atoms from lines...\n"
     ]
    },
    {
     "name": "stdout",
     "output_type": "stream",
     "text": [
      "Arpeggio output being processed for 7vth!\n"
     ]
    },
    {
     "name": "stderr",
     "output_type": "stream",
     "text": [
      "2023-11-29 13:46:18,500 prointvar    INFO     PDBx removed existing hydrogens...\n",
      "2023-11-29 13:46:18,503 prointvar    INFO     PDBx reset atom numbers...\n",
      "2023-11-29 13:46:18,634 prointvar    INFO     Parsing PDB atoms from lines...\n"
     ]
    },
    {
     "name": "stdout",
     "output_type": "stream",
     "text": [
      "WARNING!!! -13 residues lacked mapping from PDB to UniProt at arpeggio_lig_cons for 5r81\n",
      "WARNING!!! -168 residues lacked mapping from PDB to UniProt at lig_cons_split for 5r81\n",
      "Arpeggio output being processed for 5r81!\n"
     ]
    },
    {
     "name": "stderr",
     "output_type": "stream",
     "text": [
      "2023-11-29 13:46:18,851 prointvar    INFO     PDBx removed existing hydrogens...\n",
      "2023-11-29 13:46:18,854 prointvar    INFO     PDBx reset atom numbers...\n",
      "2023-11-29 13:46:18,995 prointvar    INFO     Parsing PDB atoms from lines...\n"
     ]
    },
    {
     "name": "stdout",
     "output_type": "stream",
     "text": [
      "WARNING!!! -22 residues lacked mapping from PDB to UniProt at arpeggio_lig_cons for 7rls\n",
      "WARNING!!! -323 residues lacked mapping from PDB to UniProt at lig_cons_split for 7rls\n",
      "Arpeggio output being processed for 7rls!\n"
     ]
    },
    {
     "name": "stderr",
     "output_type": "stream",
     "text": [
      "2023-11-29 13:46:19,211 prointvar    INFO     PDBx removed existing hydrogens...\n",
      "2023-11-29 13:46:19,214 prointvar    INFO     PDBx reset atom numbers...\n",
      "2023-11-29 13:46:19,742 prointvar    INFO     Parsing PDB atoms from lines...\n"
     ]
    },
    {
     "name": "stdout",
     "output_type": "stream",
     "text": [
      "Arpeggio output being processed for 7ldl!\n",
      "No LOIs in 7mhl, so skipping!\n"
     ]
    },
    {
     "name": "stderr",
     "output_type": "stream",
     "text": [
      "2023-11-29 13:46:19,953 prointvar    INFO     PDBx removed existing hydrogens...\n",
      "2023-11-29 13:46:19,956 prointvar    INFO     PDBx reset atom numbers...\n",
      "2023-11-29 13:46:20,085 prointvar    INFO     Parsing PDB atoms from lines...\n"
     ]
    },
    {
     "name": "stdout",
     "output_type": "stream",
     "text": [
      "WARNING!!! -9 residues lacked mapping from PDB to UniProt at arpeggio_lig_cons for 7rc0\n",
      "WARNING!!! -150 residues lacked mapping from PDB to UniProt at lig_cons_split for 7rc0\n",
      "Arpeggio output being processed for 7rc0!\n"
     ]
    },
    {
     "name": "stderr",
     "output_type": "stream",
     "text": [
      "2023-11-29 13:46:20,308 prointvar    INFO     PDBx removed existing hydrogens...\n",
      "2023-11-29 13:46:20,311 prointvar    INFO     PDBx reset atom numbers...\n",
      "2023-11-29 13:46:20,455 prointvar    INFO     Parsing PDB atoms from lines...\n",
      "2023-11-29 13:46:20,562 prointvar    INFO     PDBx removed existing hydrogens...\n",
      "2023-11-29 13:46:20,564 prointvar    INFO     PDBx reset atom numbers...\n"
     ]
    },
    {
     "name": "stdout",
     "output_type": "stream",
     "text": [
      "WARNING!!! -26 residues lacked mapping from PDB to UniProt at arpeggio_lig_cons for 7en9\n",
      "WARNING!!! -423 residues lacked mapping from PDB to UniProt at lig_cons_split for 7en9\n",
      "Arpeggio output being processed for 7en9!\n"
     ]
    },
    {
     "name": "stderr",
     "output_type": "stream",
     "text": [
      "2023-11-29 13:46:20,694 prointvar    INFO     Parsing PDB atoms from lines...\n"
     ]
    },
    {
     "name": "stdout",
     "output_type": "stream",
     "text": [
      "Arpeggio output being processed for 8dsu!\n"
     ]
    },
    {
     "name": "stderr",
     "output_type": "stream",
     "text": [
      "2023-11-29 13:46:20,905 prointvar    INFO     PDBx removed existing hydrogens...\n",
      "2023-11-29 13:46:20,908 prointvar    INFO     PDBx reset atom numbers...\n",
      "2023-11-29 13:46:21,888 prointvar    INFO     Parsing PDB atoms from lines...\n",
      "2023-11-29 13:46:22,096 prointvar    INFO     PDBx removed existing hydrogens...\n",
      "2023-11-29 13:46:22,099 prointvar    INFO     PDBx reset atom numbers...\n",
      "2023-11-29 13:46:23,166 prointvar    INFO     Parsing PDB atoms from lines...\n"
     ]
    },
    {
     "name": "stdout",
     "output_type": "stream",
     "text": [
      "Arpeggio output being processed for 8e64!\n"
     ]
    },
    {
     "name": "stderr",
     "output_type": "stream",
     "text": [
      "2023-11-29 13:46:23,382 prointvar    INFO     PDBx removed existing hydrogens...\n",
      "2023-11-29 13:46:23,384 prointvar    INFO     PDBx reset atom numbers...\n",
      "2023-11-29 13:46:24,351 prointvar    INFO     Parsing PDB atoms from lines...\n",
      "2023-11-29 13:46:24,568 prointvar    INFO     PDBx removed existing hydrogens...\n",
      "2023-11-29 13:46:24,571 prointvar    INFO     PDBx reset atom numbers...\n",
      "2023-11-29 13:46:24,660 prointvar    INFO     Parsing PDB atoms from lines...\n",
      "2023-11-29 13:46:24,878 prointvar    INFO     PDBx removed existing hydrogens...\n",
      "2023-11-29 13:46:24,881 prointvar    INFO     PDBx reset atom numbers...\n",
      "2023-11-29 13:46:25,951 prointvar    INFO     Parsing PDB atoms from lines...\n"
     ]
    },
    {
     "name": "stdout",
     "output_type": "stream",
     "text": [
      "Arpeggio output being processed for 8doy!\n"
     ]
    },
    {
     "name": "stderr",
     "output_type": "stream",
     "text": [
      "2023-11-29 13:46:26,161 prointvar    INFO     PDBx removed existing hydrogens...\n",
      "2023-11-29 13:46:26,163 prointvar    INFO     PDBx reset atom numbers...\n",
      "2023-11-29 13:46:26,249 prointvar    INFO     Parsing PDB atoms from lines...\n",
      "2023-11-29 13:46:26,459 prointvar    INFO     PDBx removed existing hydrogens...\n",
      "2023-11-29 13:46:26,463 prointvar    INFO     PDBx reset atom numbers...\n",
      "2023-11-29 13:46:26,598 prointvar    INFO     Parsing PDB atoms from lines...\n"
     ]
    },
    {
     "name": "stdout",
     "output_type": "stream",
     "text": [
      "WARNING!!! -23 residues lacked mapping from PDB to UniProt at arpeggio_lig_cons for 7zv5\n",
      "WARNING!!! -227 residues lacked mapping from PDB to UniProt at lig_cons_split for 7zv5\n",
      "Arpeggio output being processed for 7zv5!\n",
      "No LOIs in 7t8r, so skipping!\n",
      "No LOIs in 7kfi, so skipping!\n"
     ]
    },
    {
     "name": "stderr",
     "output_type": "stream",
     "text": [
      "2023-11-29 13:46:26,812 prointvar    INFO     PDBx removed existing hydrogens...\n",
      "2023-11-29 13:46:26,815 prointvar    INFO     PDBx reset atom numbers...\n",
      "2023-11-29 13:46:26,951 prointvar    INFO     Parsing PDB atoms from lines...\n"
     ]
    },
    {
     "name": "stdout",
     "output_type": "stream",
     "text": [
      "WARNING!!! -18 residues lacked mapping from PDB to UniProt at arpeggio_lig_cons for 8dd1\n",
      "WARNING!!! -309 residues lacked mapping from PDB to UniProt at lig_cons_split for 8dd1\n",
      "Arpeggio output being processed for 8dd1!\n"
     ]
    },
    {
     "name": "stderr",
     "output_type": "stream",
     "text": [
      "2023-11-29 13:46:27,158 prointvar    INFO     PDBx removed existing hydrogens...\n",
      "2023-11-29 13:46:27,161 prointvar    INFO     PDBx reset atom numbers...\n",
      "2023-11-29 13:46:27,414 prointvar    INFO     Parsing PDB atoms from lines...\n"
     ]
    },
    {
     "name": "stdout",
     "output_type": "stream",
     "text": [
      "Arpeggio output being processed for 8e69!\n"
     ]
    },
    {
     "name": "stderr",
     "output_type": "stream",
     "text": [
      "2023-11-29 13:46:27,636 prointvar    INFO     PDBx removed existing hydrogens...\n",
      "2023-11-29 13:46:27,639 prointvar    INFO     PDBx reset atom numbers...\n",
      "2023-11-29 13:46:27,780 prointvar    INFO     Parsing PDB atoms from lines...\n"
     ]
    },
    {
     "name": "stdout",
     "output_type": "stream",
     "text": [
      "WARNING!!! -26 residues lacked mapping from PDB to UniProt at arpeggio_lig_cons for 7set\n",
      "WARNING!!! -416 residues lacked mapping from PDB to UniProt at lig_cons_split for 7set\n",
      "Arpeggio output being processed for 7set!\n"
     ]
    },
    {
     "name": "stderr",
     "output_type": "stream",
     "text": [
      "2023-11-29 13:46:27,994 prointvar    INFO     PDBx removed existing hydrogens...\n",
      "2023-11-29 13:46:27,997 prointvar    INFO     PDBx reset atom numbers...\n",
      "2023-11-29 13:46:28,118 prointvar    INFO     Parsing PDB atoms from lines...\n"
     ]
    },
    {
     "name": "stdout",
     "output_type": "stream",
     "text": [
      "WARNING!!! -9 residues lacked mapping from PDB to UniProt at arpeggio_lig_cons for 7dat\n",
      "WARNING!!! -29 residues lacked mapping from PDB to UniProt at lig_cons_split for 7dat\n",
      "Arpeggio output being processed for 7dat!\n"
     ]
    },
    {
     "name": "stderr",
     "output_type": "stream",
     "text": [
      "2023-11-29 13:46:28,335 prointvar    INFO     PDBx removed existing hydrogens...\n",
      "2023-11-29 13:46:28,338 prointvar    INFO     PDBx reset atom numbers...\n",
      "2023-11-29 13:46:28,480 prointvar    INFO     Parsing PDB atoms from lines...\n"
     ]
    },
    {
     "name": "stdout",
     "output_type": "stream",
     "text": [
      "WARNING!!! -21 residues lacked mapping from PDB to UniProt at arpeggio_lig_cons for 7mlg\n",
      "WARNING!!! -308 residues lacked mapping from PDB to UniProt at lig_cons_split for 7mlg\n",
      "Arpeggio output being processed for 7mlg!\n",
      "No LOIs in 7dw0, so skipping!\n"
     ]
    },
    {
     "name": "stderr",
     "output_type": "stream",
     "text": [
      "2023-11-29 13:46:28,699 prointvar    INFO     PDBx removed existing hydrogens...\n",
      "2023-11-29 13:46:28,702 prointvar    INFO     PDBx reset atom numbers...\n",
      "2023-11-29 13:46:31,115 prointvar    INFO     Parsing PDB atoms from lines...\n"
     ]
    },
    {
     "name": "stdout",
     "output_type": "stream",
     "text": [
      "Arpeggio output being processed for 7xar!\n"
     ]
    },
    {
     "name": "stderr",
     "output_type": "stream",
     "text": [
      "2023-11-29 13:46:31,339 prointvar    INFO     PDBx removed existing hydrogens...\n",
      "2023-11-29 13:46:31,341 prointvar    INFO     PDBx reset atom numbers...\n",
      "2023-11-29 13:46:31,485 prointvar    INFO     Parsing PDB atoms from lines...\n",
      "2023-11-29 13:46:31,597 prointvar    INFO     PDBx removed existing hydrogens...\n",
      "2023-11-29 13:46:31,599 prointvar    INFO     PDBx reset atom numbers...\n"
     ]
    },
    {
     "name": "stdout",
     "output_type": "stream",
     "text": [
      "WARNING!!! -25 residues lacked mapping from PDB to UniProt at arpeggio_lig_cons for 7s71\n",
      "WARNING!!! -435 residues lacked mapping from PDB to UniProt at lig_cons_split for 7s71\n",
      "Arpeggio output being processed for 7s71!\n"
     ]
    },
    {
     "name": "stderr",
     "output_type": "stream",
     "text": [
      "2023-11-29 13:46:31,703 prointvar    INFO     Parsing PDB atoms from lines...\n"
     ]
    },
    {
     "name": "stdout",
     "output_type": "stream",
     "text": [
      "Arpeggio output being processed for 8acd!\n"
     ]
    },
    {
     "name": "stderr",
     "output_type": "stream",
     "text": [
      "2023-11-29 13:46:31,925 prointvar    INFO     PDBx removed existing hydrogens...\n",
      "2023-11-29 13:46:31,928 prointvar    INFO     PDBx reset atom numbers...\n",
      "2023-11-29 13:46:32,059 prointvar    INFO     Parsing PDB atoms from lines...\n"
     ]
    },
    {
     "name": "stdout",
     "output_type": "stream",
     "text": [
      "WARNING!!! -19 residues lacked mapping from PDB to UniProt at arpeggio_lig_cons for 5rh0\n",
      "WARNING!!! -213 residues lacked mapping from PDB to UniProt at lig_cons_split for 5rh0\n",
      "Arpeggio output being processed for 5rh0!\n"
     ]
    },
    {
     "name": "stderr",
     "output_type": "stream",
     "text": [
      "2023-11-29 13:46:32,282 prointvar    INFO     PDBx removed existing hydrogens...\n",
      "2023-11-29 13:46:32,285 prointvar    INFO     PDBx reset atom numbers...\n",
      "2023-11-29 13:46:32,413 prointvar    INFO     Parsing PDB atoms from lines...\n"
     ]
    },
    {
     "name": "stdout",
     "output_type": "stream",
     "text": [
      "WARNING!!! -7 residues lacked mapping from PDB to UniProt at arpeggio_lig_cons for 5rfd\n",
      "WARNING!!! -91 residues lacked mapping from PDB to UniProt at lig_cons_split for 5rfd\n",
      "Arpeggio output being processed for 5rfd!\n"
     ]
    },
    {
     "name": "stderr",
     "output_type": "stream",
     "text": [
      "2023-11-29 13:46:32,628 prointvar    INFO     PDBx removed existing hydrogens...\n",
      "2023-11-29 13:46:32,631 prointvar    INFO     PDBx reset atom numbers...\n",
      "2023-11-29 13:46:33,471 prointvar    INFO     Parsing PDB atoms from lines...\n"
     ]
    },
    {
     "name": "stdout",
     "output_type": "stream",
     "text": [
      "Arpeggio output being processed for 7rvt!\n",
      "No LOIs in 7mb6, so skipping!\n",
      "No LOIs in 7t2v, so skipping!\n"
     ]
    },
    {
     "name": "stderr",
     "output_type": "stream",
     "text": [
      "2023-11-29 13:46:33,691 prointvar    INFO     PDBx removed existing hydrogens...\n",
      "2023-11-29 13:46:33,693 prointvar    INFO     PDBx reset atom numbers...\n",
      "2023-11-29 13:46:35,784 prointvar    INFO     Parsing PDB atoms from lines...\n",
      "2023-11-29 13:46:36,002 prointvar    INFO     PDBx removed existing hydrogens...\n",
      "2023-11-29 13:46:36,005 prointvar    INFO     PDBx reset atom numbers...\n",
      "2023-11-29 13:46:38,163 prointvar    INFO     Parsing PDB atoms from lines...\n"
     ]
    },
    {
     "name": "stdout",
     "output_type": "stream",
     "text": [
      "WARNING!!! -20 residues lacked mapping from PDB to UniProt at arpeggio_lig_cons for 6xbh\n",
      "WARNING!!! -284 residues lacked mapping from PDB to UniProt at lig_cons_split for 6xbh\n",
      "Arpeggio output being processed for 6xbh!\n"
     ]
    },
    {
     "name": "stderr",
     "output_type": "stream",
     "text": [
      "2023-11-29 13:46:38,384 prointvar    INFO     PDBx removed existing hydrogens...\n",
      "2023-11-29 13:46:38,386 prointvar    INFO     PDBx reset atom numbers...\n",
      "2023-11-29 13:46:38,530 prointvar    INFO     Parsing PDB atoms from lines...\n"
     ]
    },
    {
     "name": "stdout",
     "output_type": "stream",
     "text": [
      "WARNING!!! -24 residues lacked mapping from PDB to UniProt at arpeggio_lig_cons for 6w63\n",
      "WARNING!!! -323 residues lacked mapping from PDB to UniProt at lig_cons_split for 6w63\n",
      "Arpeggio output being processed for 6w63!\n"
     ]
    },
    {
     "name": "stderr",
     "output_type": "stream",
     "text": [
      "2023-11-29 13:46:38,743 prointvar    INFO     PDBx removed existing hydrogens...\n",
      "2023-11-29 13:46:38,746 prointvar    INFO     PDBx reset atom numbers...\n",
      "2023-11-29 13:46:40,991 prointvar    INFO     Parsing PDB atoms from lines...\n",
      "2023-11-29 13:46:41,207 prointvar    INFO     PDBx removed existing hydrogens...\n",
      "2023-11-29 13:46:41,210 prointvar    INFO     PDBx reset atom numbers...\n",
      "2023-11-29 13:46:42,673 prointvar    INFO     Parsing PDB atoms from lines...\n"
     ]
    },
    {
     "name": "stdout",
     "output_type": "stream",
     "text": [
      "Arpeggio output being processed for 8e63!\n",
      "No LOIs in 7nxh, so skipping!\n"
     ]
    },
    {
     "name": "stderr",
     "output_type": "stream",
     "text": [
      "2023-11-29 13:46:42,889 prointvar    INFO     PDBx removed existing hydrogens...\n",
      "2023-11-29 13:46:42,891 prointvar    INFO     PDBx reset atom numbers...\n",
      "2023-11-29 13:46:43,035 prointvar    INFO     Parsing PDB atoms from lines...\n"
     ]
    },
    {
     "name": "stdout",
     "output_type": "stream",
     "text": [
      "WARNING!!! -22 residues lacked mapping from PDB to UniProt at arpeggio_lig_cons for 5rh5\n",
      "WARNING!!! -372 residues lacked mapping from PDB to UniProt at lig_cons_split for 5rh5\n",
      "Arpeggio output being processed for 5rh5!\n"
     ]
    },
    {
     "name": "stderr",
     "output_type": "stream",
     "text": [
      "2023-11-29 13:46:43,251 prointvar    INFO     PDBx removed existing hydrogens...\n",
      "2023-11-29 13:46:43,253 prointvar    INFO     PDBx reset atom numbers...\n",
      "2023-11-29 13:46:43,395 prointvar    INFO     Parsing PDB atoms from lines...\n"
     ]
    },
    {
     "name": "stdout",
     "output_type": "stream",
     "text": [
      "WARNING!!! -26 residues lacked mapping from PDB to UniProt at arpeggio_lig_cons for 7s72\n",
      "WARNING!!! -436 residues lacked mapping from PDB to UniProt at lig_cons_split for 7s72\n",
      "Arpeggio output being processed for 7s72!\n"
     ]
    },
    {
     "name": "stderr",
     "output_type": "stream",
     "text": [
      "2023-11-29 13:46:43,601 prointvar    INFO     PDBx removed existing hydrogens...\n",
      "2023-11-29 13:46:43,603 prointvar    INFO     PDBx reset atom numbers...\n",
      "2023-11-29 13:46:43,686 prointvar    INFO     Parsing PDB atoms from lines...\n"
     ]
    },
    {
     "name": "stdout",
     "output_type": "stream",
     "text": [
      "Arpeggio processing failed for 7lzw_bio.pdb\n"
     ]
    },
    {
     "name": "stderr",
     "output_type": "stream",
     "text": [
      "2023-11-29 13:46:43,903 prointvar    INFO     PDBx removed existing hydrogens...\n",
      "2023-11-29 13:46:43,906 prointvar    INFO     PDBx reset atom numbers...\n",
      "2023-11-29 13:46:44,044 prointvar    INFO     Parsing PDB atoms from lines...\n"
     ]
    },
    {
     "name": "stdout",
     "output_type": "stream",
     "text": [
      "WARNING!!! -19 residues lacked mapping from PDB to UniProt at arpeggio_lig_cons for 7aku\n",
      "WARNING!!! -305 residues lacked mapping from PDB to UniProt at lig_cons_split for 7aku\n",
      "Arpeggio output being processed for 7aku!\n"
     ]
    },
    {
     "name": "stderr",
     "output_type": "stream",
     "text": [
      "2023-11-29 13:46:44,256 prointvar    INFO     PDBx removed existing hydrogens...\n",
      "2023-11-29 13:46:44,258 prointvar    INFO     PDBx reset atom numbers...\n",
      "2023-11-29 13:46:44,395 prointvar    INFO     Parsing PDB atoms from lines...\n"
     ]
    },
    {
     "name": "stdout",
     "output_type": "stream",
     "text": [
      "WARNING!!! -20 residues lacked mapping from PDB to UniProt at arpeggio_lig_cons for 7dhj\n",
      "WARNING!!! -300 residues lacked mapping from PDB to UniProt at lig_cons_split for 7dhj\n",
      "Arpeggio output being processed for 7dhj!\n"
     ]
    },
    {
     "name": "stderr",
     "output_type": "stream",
     "text": [
      "2023-11-29 13:46:44,607 prointvar    INFO     PDBx removed existing hydrogens...\n",
      "2023-11-29 13:46:44,609 prointvar    INFO     PDBx reset atom numbers...\n",
      "2023-11-29 13:46:44,758 prointvar    INFO     Parsing PDB atoms from lines...\n"
     ]
    },
    {
     "name": "stdout",
     "output_type": "stream",
     "text": [
      "WARNING!!! -4 residues lacked mapping from PDB to UniProt at arpeggio_lig_cons for 7ein\n",
      "WARNING!!! -98 residues lacked mapping from PDB to UniProt at lig_cons_split for 7ein\n",
      "Arpeggio output being processed for 7ein!\n",
      "No LOIs in 6m2q, so skipping!\n"
     ]
    },
    {
     "name": "stderr",
     "output_type": "stream",
     "text": [
      "2023-11-29 13:46:44,976 prointvar    INFO     PDBx removed existing hydrogens...\n",
      "2023-11-29 13:46:44,978 prointvar    INFO     PDBx reset atom numbers...\n",
      "2023-11-29 13:46:45,240 prointvar    INFO     Parsing PDB atoms from lines...\n"
     ]
    },
    {
     "name": "stdout",
     "output_type": "stream",
     "text": [
      "Arpeggio output being processed for 7d1m!\n"
     ]
    },
    {
     "name": "stderr",
     "output_type": "stream",
     "text": [
      "2023-11-29 13:46:45,456 prointvar    INFO     PDBx removed existing hydrogens...\n",
      "2023-11-29 13:46:45,458 prointvar    INFO     PDBx reset atom numbers...\n",
      "2023-11-29 13:46:45,593 prointvar    INFO     Parsing PDB atoms from lines...\n"
     ]
    },
    {
     "name": "stdout",
     "output_type": "stream",
     "text": [
      "WARNING!!! -19 residues lacked mapping from PDB to UniProt at arpeggio_lig_cons for 7tix\n",
      "WARNING!!! -335 residues lacked mapping from PDB to UniProt at lig_cons_split for 7tix\n",
      "Arpeggio output being processed for 7tix!\n"
     ]
    },
    {
     "name": "stderr",
     "output_type": "stream",
     "text": [
      "2023-11-29 13:46:45,808 prointvar    INFO     PDBx removed existing hydrogens...\n",
      "2023-11-29 13:46:45,810 prointvar    INFO     PDBx reset atom numbers...\n",
      "2023-11-29 13:46:45,962 prointvar    INFO     Parsing PDB atoms from lines...\n"
     ]
    },
    {
     "name": "stdout",
     "output_type": "stream",
     "text": [
      "Arpeggio output being processed for 7nw2!\n"
     ]
    },
    {
     "name": "stderr",
     "output_type": "stream",
     "text": [
      "2023-11-29 13:46:46,176 prointvar    INFO     PDBx removed existing hydrogens...\n",
      "2023-11-29 13:46:46,179 prointvar    INFO     PDBx reset atom numbers...\n",
      "2023-11-29 13:46:46,316 prointvar    INFO     Parsing PDB atoms from lines...\n"
     ]
    },
    {
     "name": "stdout",
     "output_type": "stream",
     "text": [
      "WARNING!!! -18 residues lacked mapping from PDB to UniProt at arpeggio_lig_cons for 7o46\n",
      "WARNING!!! -261 residues lacked mapping from PDB to UniProt at lig_cons_split for 7o46\n",
      "Arpeggio output being processed for 7o46!\n",
      "No LOIs in 7mgr, so skipping!\n"
     ]
    },
    {
     "name": "stderr",
     "output_type": "stream",
     "text": [
      "2023-11-29 13:46:46,518 prointvar    INFO     PDBx removed existing hydrogens...\n",
      "2023-11-29 13:46:46,520 prointvar    INFO     PDBx reset atom numbers...\n",
      "2023-11-29 13:46:46,684 prointvar    INFO     Parsing PDB atoms from lines...\n"
     ]
    },
    {
     "name": "stdout",
     "output_type": "stream",
     "text": [
      "Arpeggio output being processed for 7tq3!\n"
     ]
    },
    {
     "name": "stderr",
     "output_type": "stream",
     "text": [
      "2023-11-29 13:46:46,898 prointvar    INFO     PDBx removed existing hydrogens...\n",
      "2023-11-29 13:46:46,901 prointvar    INFO     PDBx reset atom numbers...\n",
      "2023-11-29 13:46:47,035 prointvar    INFO     Parsing PDB atoms from lines...\n"
     ]
    },
    {
     "name": "stdout",
     "output_type": "stream",
     "text": [
      "WARNING!!! -18 residues lacked mapping from PDB to UniProt at arpeggio_lig_cons for 7b5z\n",
      "WARNING!!! -263 residues lacked mapping from PDB to UniProt at lig_cons_split for 7b5z\n",
      "Arpeggio output being processed for 7b5z!\n"
     ]
    },
    {
     "name": "stderr",
     "output_type": "stream",
     "text": [
      "2023-11-29 13:46:47,247 prointvar    INFO     PDBx removed existing hydrogens...\n",
      "2023-11-29 13:46:47,250 prointvar    INFO     PDBx reset atom numbers...\n",
      "2023-11-29 13:46:48,353 prointvar    INFO     Parsing PDB atoms from lines...\n"
     ]
    },
    {
     "name": "stdout",
     "output_type": "stream",
     "text": [
      "WARNING!!! -12 residues lacked mapping from PDB to UniProt at arpeggio_lig_cons for 5rfz\n",
      "WARNING!!! -107 residues lacked mapping from PDB to UniProt at lig_cons_split for 5rfz\n",
      "Arpeggio output being processed for 5rfz!\n"
     ]
    },
    {
     "name": "stderr",
     "output_type": "stream",
     "text": [
      "2023-11-29 13:46:48,570 prointvar    INFO     PDBx removed existing hydrogens...\n",
      "2023-11-29 13:46:48,572 prointvar    INFO     PDBx reset atom numbers...\n",
      "2023-11-29 13:46:48,718 prointvar    INFO     Parsing PDB atoms from lines...\n"
     ]
    },
    {
     "name": "stdout",
     "output_type": "stream",
     "text": [
      "WARNING!!! -23 residues lacked mapping from PDB to UniProt at arpeggio_lig_cons for 7jt7\n",
      "WARNING!!! -471 residues lacked mapping from PDB to UniProt at lig_cons_split for 7jt7\n",
      "Arpeggio output being processed for 7jt7!\n"
     ]
    },
    {
     "name": "stderr",
     "output_type": "stream",
     "text": [
      "2023-11-29 13:46:48,934 prointvar    INFO     PDBx removed existing hydrogens...\n",
      "2023-11-29 13:46:48,937 prointvar    INFO     PDBx reset atom numbers...\n",
      "2023-11-29 13:46:49,990 prointvar    INFO     Parsing PDB atoms from lines...\n"
     ]
    },
    {
     "name": "stdout",
     "output_type": "stream",
     "text": [
      "WARNING!!! -22 residues lacked mapping from PDB to UniProt at arpeggio_lig_cons for 7l5d\n",
      "WARNING!!! -335 residues lacked mapping from PDB to UniProt at lig_cons_split for 7l5d\n",
      "Arpeggio output being processed for 7l5d!\n"
     ]
    },
    {
     "name": "stderr",
     "output_type": "stream",
     "text": [
      "2023-11-29 13:46:50,203 prointvar    INFO     PDBx removed existing hydrogens...\n",
      "2023-11-29 13:46:50,205 prointvar    INFO     PDBx reset atom numbers...\n",
      "2023-11-29 13:46:50,351 prointvar    INFO     Parsing PDB atoms from lines...\n"
     ]
    },
    {
     "name": "stdout",
     "output_type": "stream",
     "text": [
      "WARNING!!! -23 residues lacked mapping from PDB to UniProt at arpeggio_lig_cons for 7rvn\n",
      "WARNING!!! -437 residues lacked mapping from PDB to UniProt at lig_cons_split for 7rvn\n",
      "Arpeggio output being processed for 7rvn!\n",
      "No LOIs in 7vjw, so skipping!\n"
     ]
    },
    {
     "name": "stderr",
     "output_type": "stream",
     "text": [
      "2023-11-29 13:46:50,567 prointvar    INFO     PDBx removed existing hydrogens...\n",
      "2023-11-29 13:46:50,569 prointvar    INFO     PDBx reset atom numbers...\n",
      "2023-11-29 13:46:50,662 prointvar    INFO     Parsing PDB atoms from lines...\n",
      "2023-11-29 13:46:50,881 prointvar    INFO     PDBx removed existing hydrogens...\n",
      "2023-11-29 13:46:50,883 prointvar    INFO     PDBx reset atom numbers...\n",
      "2023-11-29 13:46:51,317 prointvar    INFO     Parsing PDB atoms from lines...\n"
     ]
    },
    {
     "name": "stdout",
     "output_type": "stream",
     "text": [
      "Arpeggio output being processed for 7mbi!\n"
     ]
    },
    {
     "name": "stderr",
     "output_type": "stream",
     "text": [
      "2023-11-29 13:46:51,532 prointvar    INFO     PDBx removed existing hydrogens...\n",
      "2023-11-29 13:46:51,534 prointvar    INFO     PDBx reset atom numbers...\n",
      "2023-11-29 13:46:51,661 prointvar    INFO     Parsing PDB atoms from lines...\n"
     ]
    },
    {
     "name": "stdout",
     "output_type": "stream",
     "text": [
      "WARNING!!! -16 residues lacked mapping from PDB to UniProt at arpeggio_lig_cons for 5rfj\n",
      "WARNING!!! -149 residues lacked mapping from PDB to UniProt at lig_cons_split for 5rfj\n",
      "Arpeggio output being processed for 5rfj!\n"
     ]
    },
    {
     "name": "stderr",
     "output_type": "stream",
     "text": [
      "2023-11-29 13:46:51,869 prointvar    INFO     PDBx removed existing hydrogens...\n",
      "2023-11-29 13:46:51,872 prointvar    INFO     PDBx reset atom numbers...\n",
      "2023-11-29 13:46:51,956 prointvar    INFO     Parsing PDB atoms from lines...\n"
     ]
    },
    {
     "name": "stdout",
     "output_type": "stream",
     "text": [
      "Arpeggio processing failed for 8e68_bio.pdb\n"
     ]
    },
    {
     "name": "stderr",
     "output_type": "stream",
     "text": [
      "2023-11-29 13:46:52,174 prointvar    INFO     PDBx removed existing hydrogens...\n",
      "2023-11-29 13:46:52,176 prointvar    INFO     PDBx reset atom numbers...\n",
      "2023-11-29 13:46:52,314 prointvar    INFO     Parsing PDB atoms from lines...\n"
     ]
    },
    {
     "name": "stdout",
     "output_type": "stream",
     "text": [
      "WARNING!!! -18 residues lacked mapping from PDB to UniProt at arpeggio_lig_cons for 8d4k\n",
      "WARNING!!! -324 residues lacked mapping from PDB to UniProt at lig_cons_split for 8d4k\n",
      "Arpeggio output being processed for 8d4k!\n",
      "No LOIs in 8dfe, so skipping!\n"
     ]
    },
    {
     "name": "stderr",
     "output_type": "stream",
     "text": [
      "2023-11-29 13:46:52,529 prointvar    INFO     PDBx removed existing hydrogens...\n",
      "2023-11-29 13:46:52,532 prointvar    INFO     PDBx reset atom numbers...\n",
      "2023-11-29 13:46:52,667 prointvar    INFO     Parsing PDB atoms from lines...\n"
     ]
    },
    {
     "name": "stdout",
     "output_type": "stream",
     "text": [
      "WARNING!!! -17 residues lacked mapping from PDB to UniProt at arpeggio_lig_cons for 7s3s\n",
      "WARNING!!! -262 residues lacked mapping from PDB to UniProt at lig_cons_split for 7s3s\n",
      "Arpeggio output being processed for 7s3s!\n"
     ]
    },
    {
     "name": "stderr",
     "output_type": "stream",
     "text": [
      "2023-11-29 13:46:52,883 prointvar    INFO     PDBx removed existing hydrogens...\n",
      "2023-11-29 13:46:52,886 prointvar    INFO     PDBx reset atom numbers...\n",
      "2023-11-29 13:46:53,021 prointvar    INFO     Parsing PDB atoms from lines...\n"
     ]
    },
    {
     "name": "stdout",
     "output_type": "stream",
     "text": [
      "WARNING!!! -15 residues lacked mapping from PDB to UniProt at arpeggio_lig_cons for 5rer\n",
      "WARNING!!! -172 residues lacked mapping from PDB to UniProt at lig_cons_split for 5rer\n",
      "Arpeggio output being processed for 5rer!\n",
      "No LOIs in 6wqf, so skipping!\n",
      "No LOIs in 7vk1, so skipping!\n",
      "No LOIs in 7d64, so skipping!\n"
     ]
    },
    {
     "name": "stderr",
     "output_type": "stream",
     "text": [
      "2023-11-29 13:46:53,239 prointvar    INFO     PDBx removed existing hydrogens...\n",
      "2023-11-29 13:46:53,241 prointvar    INFO     PDBx reset atom numbers...\n",
      "2023-11-29 13:46:53,386 prointvar    INFO     Parsing PDB atoms from lines...\n"
     ]
    },
    {
     "name": "stdout",
     "output_type": "stream",
     "text": [
      "WARNING!!! -26 residues lacked mapping from PDB to UniProt at arpeggio_lig_cons for 7wo3\n",
      "WARNING!!! -412 residues lacked mapping from PDB to UniProt at lig_cons_split for 7wo3\n",
      "Arpeggio output being processed for 7wo3!\n"
     ]
    },
    {
     "name": "stderr",
     "output_type": "stream",
     "text": [
      "2023-11-29 13:46:53,601 prointvar    INFO     PDBx removed existing hydrogens...\n",
      "2023-11-29 13:46:53,603 prointvar    INFO     PDBx reset atom numbers...\n",
      "2023-11-29 13:46:53,748 prointvar    INFO     Parsing PDB atoms from lines...\n"
     ]
    },
    {
     "name": "stdout",
     "output_type": "stream",
     "text": [
      "WARNING!!! -23 residues lacked mapping from PDB to UniProt at arpeggio_lig_cons for 7k6e\n",
      "WARNING!!! -438 residues lacked mapping from PDB to UniProt at lig_cons_split for 7k6e\n",
      "Arpeggio output being processed for 7k6e!\n"
     ]
    },
    {
     "name": "stderr",
     "output_type": "stream",
     "text": [
      "2023-11-29 13:46:53,964 prointvar    INFO     PDBx removed existing hydrogens...\n",
      "2023-11-29 13:46:53,967 prointvar    INFO     PDBx reset atom numbers...\n",
      "2023-11-29 13:46:55,021 prointvar    INFO     Parsing PDB atoms from lines...\n"
     ]
    },
    {
     "name": "stdout",
     "output_type": "stream",
     "text": [
      "WARNING!!! -10 residues lacked mapping from PDB to UniProt at arpeggio_lig_cons for 5rg2\n",
      "WARNING!!! -145 residues lacked mapping from PDB to UniProt at lig_cons_split for 5rg2\n",
      "Arpeggio output being processed for 5rg2!\n"
     ]
    },
    {
     "name": "stderr",
     "output_type": "stream",
     "text": [
      "2023-11-29 13:46:55,233 prointvar    INFO     PDBx removed existing hydrogens...\n",
      "2023-11-29 13:46:55,235 prointvar    INFO     PDBx reset atom numbers...\n",
      "2023-11-29 13:46:55,369 prointvar    INFO     Parsing PDB atoms from lines...\n"
     ]
    },
    {
     "name": "stdout",
     "output_type": "stream",
     "text": [
      "WARNING!!! -15 residues lacked mapping from PDB to UniProt at arpeggio_lig_cons for 5rem\n",
      "WARNING!!! -167 residues lacked mapping from PDB to UniProt at lig_cons_split for 5rem\n",
      "Arpeggio output being processed for 5rem!\n",
      "No LOIs in 7mb5, so skipping!\n"
     ]
    },
    {
     "name": "stderr",
     "output_type": "stream",
     "text": [
      "2023-11-29 13:46:55,584 prointvar    INFO     PDBx removed existing hydrogens...\n",
      "2023-11-29 13:46:55,586 prointvar    INFO     PDBx reset atom numbers...\n",
      "2023-11-29 13:46:55,721 prointvar    INFO     Parsing PDB atoms from lines...\n"
     ]
    },
    {
     "name": "stdout",
     "output_type": "stream",
     "text": [
      "WARNING!!! -22 residues lacked mapping from PDB to UniProt at arpeggio_lig_cons for 6wnp\n",
      "WARNING!!! -313 residues lacked mapping from PDB to UniProt at lig_cons_split for 6wnp\n",
      "Arpeggio output being processed for 6wnp!\n"
     ]
    },
    {
     "name": "stderr",
     "output_type": "stream",
     "text": [
      "2023-11-29 13:46:55,936 prointvar    INFO     PDBx removed existing hydrogens...\n",
      "2023-11-29 13:46:55,938 prointvar    INFO     PDBx reset atom numbers...\n",
      "2023-11-29 13:46:56,068 prointvar    INFO     Parsing PDB atoms from lines...\n"
     ]
    },
    {
     "name": "stdout",
     "output_type": "stream",
     "text": [
      "WARNING!!! -12 residues lacked mapping from PDB to UniProt at arpeggio_lig_cons for 5rff\n",
      "WARNING!!! -147 residues lacked mapping from PDB to UniProt at lig_cons_split for 5rff\n",
      "Arpeggio output being processed for 5rff!\n"
     ]
    },
    {
     "name": "stderr",
     "output_type": "stream",
     "text": [
      "2023-11-29 13:46:56,284 prointvar    INFO     PDBx removed existing hydrogens...\n",
      "2023-11-29 13:46:56,286 prointvar    INFO     PDBx reset atom numbers...\n",
      "2023-11-29 13:46:56,387 prointvar    INFO     Parsing PDB atoms from lines...\n",
      "2023-11-29 13:46:56,602 prointvar    INFO     PDBx removed existing hydrogens...\n",
      "2023-11-29 13:46:56,605 prointvar    INFO     PDBx reset atom numbers...\n",
      "2023-11-29 13:46:57,855 prointvar    INFO     Parsing PDB atoms from lines...\n"
     ]
    },
    {
     "name": "stdout",
     "output_type": "stream",
     "text": [
      "WARNING!!! -3 residues lacked mapping from PDB to UniProt at arpeggio_lig_cons for 7kvl\n",
      "WARNING!!! -38 residues lacked mapping from PDB to UniProt at lig_cons_split for 7kvl\n",
      "Arpeggio output being processed for 7kvl!\n"
     ]
    },
    {
     "name": "stderr",
     "output_type": "stream",
     "text": [
      "2023-11-29 13:46:58,068 prointvar    INFO     PDBx removed existing hydrogens...\n",
      "2023-11-29 13:46:58,070 prointvar    INFO     PDBx reset atom numbers...\n",
      "2023-11-29 13:46:58,207 prointvar    INFO     Parsing PDB atoms from lines...\n"
     ]
    },
    {
     "name": "stdout",
     "output_type": "stream",
     "text": [
      "WARNING!!! -22 residues lacked mapping from PDB to UniProt at arpeggio_lig_cons for 7l0d\n",
      "WARNING!!! -312 residues lacked mapping from PDB to UniProt at lig_cons_split for 7l0d\n",
      "Arpeggio output being processed for 7l0d!\n"
     ]
    },
    {
     "name": "stderr",
     "output_type": "stream",
     "text": [
      "2023-11-29 13:46:58,421 prointvar    INFO     PDBx removed existing hydrogens...\n",
      "2023-11-29 13:46:58,423 prointvar    INFO     PDBx reset atom numbers...\n",
      "2023-11-29 13:46:58,552 prointvar    INFO     Parsing PDB atoms from lines...\n"
     ]
    },
    {
     "name": "stdout",
     "output_type": "stream",
     "text": [
      "WARNING!!! -18 residues lacked mapping from PDB to UniProt at arpeggio_lig_cons for 5rft\n",
      "WARNING!!! -197 residues lacked mapping from PDB to UniProt at lig_cons_split for 5rft\n",
      "Arpeggio output being processed for 5rft!\n"
     ]
    },
    {
     "name": "stderr",
     "output_type": "stream",
     "text": [
      "2023-11-29 13:46:58,765 prointvar    INFO     PDBx removed existing hydrogens...\n",
      "2023-11-29 13:46:58,767 prointvar    INFO     PDBx reset atom numbers...\n",
      "2023-11-29 13:46:58,852 prointvar    INFO     Parsing PDB atoms from lines...\n",
      "2023-11-29 13:46:59,065 prointvar    INFO     PDBx removed existing hydrogens...\n",
      "2023-11-29 13:46:59,067 prointvar    INFO     PDBx reset atom numbers...\n",
      "2023-11-29 13:46:59,193 prointvar    INFO     Parsing PDB atoms from lines...\n"
     ]
    },
    {
     "name": "stdout",
     "output_type": "stream",
     "text": [
      "WARNING!!! -17 residues lacked mapping from PDB to UniProt at arpeggio_lig_cons for 7arf\n",
      "WARNING!!! -193 residues lacked mapping from PDB to UniProt at lig_cons_split for 7arf\n",
      "Arpeggio output being processed for 7arf!\n"
     ]
    },
    {
     "name": "stderr",
     "output_type": "stream",
     "text": [
      "2023-11-29 13:46:59,396 prointvar    INFO     PDBx removed existing hydrogens...\n",
      "2023-11-29 13:46:59,398 prointvar    INFO     PDBx reset atom numbers...\n",
      "2023-11-29 13:46:59,525 prointvar    INFO     Parsing PDB atoms from lines...\n"
     ]
    },
    {
     "name": "stdout",
     "output_type": "stream",
     "text": [
      "WARNING!!! -11 residues lacked mapping from PDB to UniProt at arpeggio_lig_cons for 7x6j\n",
      "WARNING!!! -156 residues lacked mapping from PDB to UniProt at lig_cons_split for 7x6j\n",
      "Arpeggio output being processed for 7x6j!\n"
     ]
    },
    {
     "name": "stderr",
     "output_type": "stream",
     "text": [
      "2023-11-29 13:46:59,739 prointvar    INFO     PDBx removed existing hydrogens...\n",
      "2023-11-29 13:46:59,742 prointvar    INFO     PDBx reset atom numbers...\n",
      "2023-11-29 13:46:59,872 prointvar    INFO     Parsing PDB atoms from lines...\n"
     ]
    },
    {
     "name": "stdout",
     "output_type": "stream",
     "text": [
      "WARNING!!! -17 residues lacked mapping from PDB to UniProt at arpeggio_lig_cons for 7ddc\n",
      "WARNING!!! -181 residues lacked mapping from PDB to UniProt at lig_cons_split for 7ddc\n",
      "Arpeggio output being processed for 7ddc!\n",
      "No LOIs in 7zb7, so skipping!\n"
     ]
    },
    {
     "name": "stderr",
     "output_type": "stream",
     "text": [
      "2023-11-29 13:47:00,089 prointvar    INFO     PDBx removed existing hydrogens...\n",
      "2023-11-29 13:47:00,091 prointvar    INFO     PDBx reset atom numbers...\n",
      "2023-11-29 13:47:00,232 prointvar    INFO     Parsing PDB atoms from lines...\n"
     ]
    },
    {
     "name": "stdout",
     "output_type": "stream",
     "text": [
      "WARNING!!! -22 residues lacked mapping from PDB to UniProt at arpeggio_lig_cons for 7rnk\n",
      "WARNING!!! -328 residues lacked mapping from PDB to UniProt at lig_cons_split for 7rnk\n",
      "Arpeggio output being processed for 7rnk!\n",
      "No LOIs in 7dg6, so skipping!\n"
     ]
    },
    {
     "name": "stderr",
     "output_type": "stream",
     "text": [
      "2023-11-29 13:47:00,451 prointvar    INFO     PDBx removed existing hydrogens...\n",
      "2023-11-29 13:47:00,453 prointvar    INFO     PDBx reset atom numbers...\n",
      "2023-11-29 13:47:00,593 prointvar    INFO     Parsing PDB atoms from lines...\n"
     ]
    },
    {
     "name": "stdout",
     "output_type": "stream",
     "text": [
      "WARNING!!! -25 residues lacked mapping from PDB to UniProt at arpeggio_lig_cons for 7rvw\n",
      "WARNING!!! -387 residues lacked mapping from PDB to UniProt at lig_cons_split for 7rvw\n",
      "Arpeggio output being processed for 7rvw!\n"
     ]
    },
    {
     "name": "stderr",
     "output_type": "stream",
     "text": [
      "2023-11-29 13:47:00,800 prointvar    INFO     PDBx removed existing hydrogens...\n",
      "2023-11-29 13:47:00,803 prointvar    INFO     PDBx reset atom numbers...\n",
      "2023-11-29 13:47:00,887 prointvar    INFO     Parsing PDB atoms from lines...\n"
     ]
    },
    {
     "name": "stdout",
     "output_type": "stream",
     "text": [
      "Arpeggio processing failed for 7m02_bio.pdb\n",
      "No LOIs in 8ehl, so skipping!\n",
      "No LOIs in 7mgs, so skipping!\n"
     ]
    },
    {
     "name": "stderr",
     "output_type": "stream",
     "text": [
      "2023-11-29 13:47:01,105 prointvar    INFO     PDBx removed existing hydrogens...\n",
      "2023-11-29 13:47:01,107 prointvar    INFO     PDBx reset atom numbers...\n",
      "2023-11-29 13:47:01,238 prointvar    INFO     Parsing PDB atoms from lines...\n"
     ]
    },
    {
     "name": "stdout",
     "output_type": "stream",
     "text": [
      "WARNING!!! -26 residues lacked mapping from PDB to UniProt at arpeggio_lig_cons for 7ak4\n",
      "WARNING!!! -442 residues lacked mapping from PDB to UniProt at lig_cons_split for 7ak4\n",
      "Arpeggio output being processed for 7ak4!\n",
      "No LOIs in 7zb8, so skipping!\n"
     ]
    },
    {
     "name": "stderr",
     "output_type": "stream",
     "text": [
      "2023-11-29 13:47:01,454 prointvar    INFO     PDBx removed existing hydrogens...\n",
      "2023-11-29 13:47:01,457 prointvar    INFO     PDBx reset atom numbers...\n",
      "2023-11-29 13:47:01,619 prointvar    INFO     Parsing PDB atoms from lines...\n"
     ]
    },
    {
     "name": "stdout",
     "output_type": "stream",
     "text": [
      "Arpeggio output being processed for 7lmf!\n",
      "No LOIs in 8drs, so skipping!\n"
     ]
    },
    {
     "name": "stderr",
     "output_type": "stream",
     "text": [
      "2023-11-29 13:47:01,828 prointvar    INFO     PDBx removed existing hydrogens...\n",
      "2023-11-29 13:47:01,831 prointvar    INFO     PDBx reset atom numbers...\n",
      "2023-11-29 13:47:01,912 prointvar    INFO     Parsing PDB atoms from lines...\n"
     ]
    },
    {
     "name": "stdout",
     "output_type": "stream",
     "text": [
      "Arpeggio processing failed for 7m04_bio.pdb\n"
     ]
    },
    {
     "name": "stderr",
     "output_type": "stream",
     "text": [
      "2023-11-29 13:47:02,126 prointvar    INFO     PDBx removed existing hydrogens...\n",
      "2023-11-29 13:47:02,128 prointvar    INFO     PDBx reset atom numbers...\n",
      "2023-11-29 13:47:02,255 prointvar    INFO     Parsing PDB atoms from lines...\n"
     ]
    },
    {
     "name": "stdout",
     "output_type": "stream",
     "text": [
      "WARNING!!! -15 residues lacked mapping from PDB to UniProt at arpeggio_lig_cons for 5rhf\n",
      "WARNING!!! -159 residues lacked mapping from PDB to UniProt at lig_cons_split for 5rhf\n",
      "Arpeggio output being processed for 5rhf!\n"
     ]
    },
    {
     "name": "stderr",
     "output_type": "stream",
     "text": [
      "2023-11-29 13:47:02,472 prointvar    INFO     PDBx removed existing hydrogens...\n",
      "2023-11-29 13:47:02,474 prointvar    INFO     PDBx reset atom numbers...\n",
      "2023-11-29 13:47:02,604 prointvar    INFO     Parsing PDB atoms from lines...\n"
     ]
    },
    {
     "name": "stdout",
     "output_type": "stream",
     "text": [
      "WARNING!!! -4 residues lacked mapping from PDB to UniProt at arpeggio_lig_cons for 7af0\n",
      "WARNING!!! -36 residues lacked mapping from PDB to UniProt at lig_cons_split for 7af0\n",
      "Arpeggio output being processed for 7af0!\n"
     ]
    },
    {
     "name": "stderr",
     "output_type": "stream",
     "text": [
      "2023-11-29 13:47:02,814 prointvar    INFO     PDBx removed existing hydrogens...\n",
      "2023-11-29 13:47:02,816 prointvar    INFO     PDBx reset atom numbers...\n",
      "2023-11-29 13:47:03,823 prointvar    INFO     Parsing PDB atoms from lines...\n",
      "2023-11-29 13:47:04,028 prointvar    INFO     PDBx removed existing hydrogens...\n",
      "2023-11-29 13:47:04,030 prointvar    INFO     PDBx reset atom numbers...\n",
      "2023-11-29 13:47:05,031 prointvar    INFO     Parsing PDB atoms from lines...\n",
      "2023-11-29 13:47:05,236 prointvar    INFO     PDBx removed existing hydrogens...\n",
      "2023-11-29 13:47:05,239 prointvar    INFO     PDBx reset atom numbers...\n",
      "2023-11-29 13:47:06,249 prointvar    INFO     Parsing PDB atoms from lines...\n",
      "2023-11-29 13:47:06,455 prointvar    INFO     PDBx removed existing hydrogens...\n",
      "2023-11-29 13:47:06,457 prointvar    INFO     PDBx reset atom numbers...\n",
      "2023-11-29 13:47:07,543 prointvar    INFO     Parsing PDB atoms from lines...\n"
     ]
    },
    {
     "name": "stdout",
     "output_type": "stream",
     "text": [
      "Arpeggio output being processed for 7lkr!\n"
     ]
    },
    {
     "name": "stderr",
     "output_type": "stream",
     "text": [
      "2023-11-29 13:47:07,755 prointvar    INFO     PDBx removed existing hydrogens...\n",
      "2023-11-29 13:47:07,758 prointvar    INFO     PDBx reset atom numbers...\n",
      "2023-11-29 13:47:08,872 prointvar    INFO     Parsing PDB atoms from lines...\n"
     ]
    },
    {
     "name": "stdout",
     "output_type": "stream",
     "text": [
      "WARNING!!! -13 residues lacked mapping from PDB to UniProt at arpeggio_lig_cons for 5rhd\n",
      "WARNING!!! -172 residues lacked mapping from PDB to UniProt at lig_cons_split for 5rhd\n",
      "Arpeggio output being processed for 5rhd!\n"
     ]
    },
    {
     "name": "stderr",
     "output_type": "stream",
     "text": [
      "2023-11-29 13:47:09,087 prointvar    INFO     PDBx removed existing hydrogens...\n",
      "2023-11-29 13:47:09,090 prointvar    INFO     PDBx reset atom numbers...\n",
      "2023-11-29 13:47:09,221 prointvar    INFO     Parsing PDB atoms from lines...\n"
     ]
    },
    {
     "name": "stdout",
     "output_type": "stream",
     "text": [
      "WARNING!!! -12 residues lacked mapping from PDB to UniProt at arpeggio_lig_cons for 5r7y\n",
      "WARNING!!! -146 residues lacked mapping from PDB to UniProt at lig_cons_split for 5r7y\n",
      "Arpeggio output being processed for 5r7y!\n"
     ]
    },
    {
     "name": "stderr",
     "output_type": "stream",
     "text": [
      "2023-11-29 13:47:09,443 prointvar    INFO     PDBx removed existing hydrogens...\n",
      "2023-11-29 13:47:09,445 prointvar    INFO     PDBx reset atom numbers...\n",
      "2023-11-29 13:47:09,593 prointvar    INFO     Parsing PDB atoms from lines...\n"
     ]
    },
    {
     "name": "stdout",
     "output_type": "stream",
     "text": [
      "WARNING!!! -23 residues lacked mapping from PDB to UniProt at arpeggio_lig_cons for 7jp0\n",
      "WARNING!!! -417 residues lacked mapping from PDB to UniProt at lig_cons_split for 7jp0\n",
      "Arpeggio output being processed for 7jp0!\n"
     ]
    },
    {
     "name": "stderr",
     "output_type": "stream",
     "text": [
      "2023-11-29 13:47:09,809 prointvar    INFO     PDBx removed existing hydrogens...\n",
      "2023-11-29 13:47:09,812 prointvar    INFO     PDBx reset atom numbers...\n",
      "2023-11-29 13:47:09,952 prointvar    INFO     Parsing PDB atoms from lines...\n"
     ]
    },
    {
     "name": "stdout",
     "output_type": "stream",
     "text": [
      "WARNING!!! -23 residues lacked mapping from PDB to UniProt at arpeggio_lig_cons for 7uue\n",
      "WARNING!!! -452 residues lacked mapping from PDB to UniProt at lig_cons_split for 7uue\n",
      "Arpeggio output being processed for 7uue!\n"
     ]
    },
    {
     "name": "stderr",
     "output_type": "stream",
     "text": [
      "2023-11-29 13:47:10,166 prointvar    INFO     PDBx removed existing hydrogens...\n",
      "2023-11-29 13:47:10,169 prointvar    INFO     PDBx reset atom numbers...\n",
      "2023-11-29 13:47:10,255 prointvar    INFO     Parsing PDB atoms from lines...\n",
      "2023-11-29 13:47:10,466 prointvar    INFO     PDBx removed existing hydrogens...\n",
      "2023-11-29 13:47:10,469 prointvar    INFO     PDBx reset atom numbers...\n",
      "2023-11-29 13:47:10,604 prointvar    INFO     Parsing PDB atoms from lines...\n"
     ]
    },
    {
     "name": "stdout",
     "output_type": "stream",
     "text": [
      "WARNING!!! -27 residues lacked mapping from PDB to UniProt at arpeggio_lig_cons for 7lbn\n",
      "WARNING!!! -210 residues lacked mapping from PDB to UniProt at lig_cons_split for 7lbn\n",
      "Arpeggio output being processed for 7lbn!\n"
     ]
    },
    {
     "name": "stderr",
     "output_type": "stream",
     "text": [
      "2023-11-29 13:47:10,816 prointvar    INFO     PDBx removed existing hydrogens...\n",
      "2023-11-29 13:47:10,819 prointvar    INFO     PDBx reset atom numbers...\n",
      "2023-11-29 13:47:10,975 prointvar    INFO     Parsing PDB atoms from lines...\n"
     ]
    },
    {
     "name": "stdout",
     "output_type": "stream",
     "text": [
      "Arpeggio processing failed for 6wtt_bio.pdb\n"
     ]
    },
    {
     "name": "stderr",
     "output_type": "stream",
     "text": [
      "2023-11-29 13:47:11,190 prointvar    INFO     PDBx removed existing hydrogens...\n",
      "2023-11-29 13:47:11,193 prointvar    INFO     PDBx reset atom numbers...\n",
      "2023-11-29 13:47:11,335 prointvar    INFO     Parsing PDB atoms from lines...\n"
     ]
    },
    {
     "name": "stdout",
     "output_type": "stream",
     "text": [
      "WARNING!!! -18 residues lacked mapping from PDB to UniProt at arpeggio_lig_cons for 8d4m\n",
      "WARNING!!! -303 residues lacked mapping from PDB to UniProt at lig_cons_split for 8d4m\n",
      "Arpeggio output being processed for 8d4m!\n"
     ]
    },
    {
     "name": "stderr",
     "output_type": "stream",
     "text": [
      "2023-11-29 13:47:11,552 prointvar    INFO     PDBx removed existing hydrogens...\n",
      "2023-11-29 13:47:11,555 prointvar    INFO     PDBx reset atom numbers...\n",
      "2023-11-29 13:47:11,698 prointvar    INFO     Parsing PDB atoms from lines...\n"
     ]
    },
    {
     "name": "stdout",
     "output_type": "stream",
     "text": [
      "WARNING!!! -24 residues lacked mapping from PDB to UniProt at arpeggio_lig_cons for 7rvr\n",
      "WARNING!!! -436 residues lacked mapping from PDB to UniProt at lig_cons_split for 7rvr\n",
      "Arpeggio output being processed for 7rvr!\n"
     ]
    },
    {
     "name": "stderr",
     "output_type": "stream",
     "text": [
      "2023-11-29 13:47:11,913 prointvar    INFO     PDBx removed existing hydrogens...\n",
      "2023-11-29 13:47:11,916 prointvar    INFO     PDBx reset atom numbers...\n",
      "2023-11-29 13:47:12,051 prointvar    INFO     Parsing PDB atoms from lines...\n"
     ]
    },
    {
     "name": "stdout",
     "output_type": "stream",
     "text": [
      "WARNING!!! -7 residues lacked mapping from PDB to UniProt at arpeggio_lig_cons for 5rf5\n",
      "WARNING!!! -92 residues lacked mapping from PDB to UniProt at lig_cons_split for 5rf5\n",
      "Arpeggio output being processed for 5rf5!\n"
     ]
    },
    {
     "name": "stderr",
     "output_type": "stream",
     "text": [
      "2023-11-29 13:47:12,259 prointvar    INFO     PDBx removed existing hydrogens...\n",
      "2023-11-29 13:47:12,262 prointvar    INFO     PDBx reset atom numbers...\n",
      "2023-11-29 13:47:13,321 prointvar    INFO     Parsing PDB atoms from lines...\n",
      "2023-11-29 13:47:13,527 prointvar    INFO     PDBx removed existing hydrogens...\n",
      "2023-11-29 13:47:13,529 prointvar    INFO     PDBx reset atom numbers...\n",
      "2023-11-29 13:47:14,683 prointvar    INFO     Parsing PDB atoms from lines...\n"
     ]
    },
    {
     "name": "stdout",
     "output_type": "stream",
     "text": [
      "Arpeggio output being processed for 7lkw!\n"
     ]
    },
    {
     "name": "stderr",
     "output_type": "stream",
     "text": [
      "2023-11-29 13:47:14,895 prointvar    INFO     PDBx removed existing hydrogens...\n",
      "2023-11-29 13:47:14,898 prointvar    INFO     PDBx reset atom numbers...\n",
      "2023-11-29 13:47:15,152 prointvar    INFO     Parsing PDB atoms from lines...\n"
     ]
    },
    {
     "name": "stdout",
     "output_type": "stream",
     "text": [
      "Arpeggio output being processed for 7mb2!\n"
     ]
    },
    {
     "name": "stderr",
     "output_type": "stream",
     "text": [
      "2023-11-29 13:47:15,368 prointvar    INFO     PDBx removed existing hydrogens...\n",
      "2023-11-29 13:47:15,371 prointvar    INFO     PDBx reset atom numbers...\n",
      "2023-11-29 13:47:15,518 prointvar    INFO     Parsing PDB atoms from lines...\n"
     ]
    },
    {
     "name": "stdout",
     "output_type": "stream",
     "text": [
      "WARNING!!! -23 residues lacked mapping from PDB to UniProt at arpeggio_lig_cons for 6xqs\n",
      "WARNING!!! -416 residues lacked mapping from PDB to UniProt at lig_cons_split for 6xqs\n",
      "Arpeggio output being processed for 6xqs!\n"
     ]
    },
    {
     "name": "stderr",
     "output_type": "stream",
     "text": [
      "2023-11-29 13:47:15,734 prointvar    INFO     PDBx removed existing hydrogens...\n",
      "2023-11-29 13:47:15,736 prointvar    INFO     PDBx reset atom numbers...\n",
      "2023-11-29 13:47:15,876 prointvar    INFO     Parsing PDB atoms from lines...\n"
     ]
    },
    {
     "name": "stdout",
     "output_type": "stream",
     "text": [
      "WARNING!!! -22 residues lacked mapping from PDB to UniProt at arpeggio_lig_cons for 5rl2\n",
      "WARNING!!! -325 residues lacked mapping from PDB to UniProt at lig_cons_split for 5rl2\n",
      "Arpeggio output being processed for 5rl2!\n"
     ]
    },
    {
     "name": "stderr",
     "output_type": "stream",
     "text": [
      "2023-11-29 13:47:16,091 prointvar    INFO     PDBx removed existing hydrogens...\n",
      "2023-11-29 13:47:16,094 prointvar    INFO     PDBx reset atom numbers...\n",
      "2023-11-29 13:47:16,243 prointvar    INFO     Parsing PDB atoms from lines...\n"
     ]
    },
    {
     "name": "stdout",
     "output_type": "stream",
     "text": [
      "Arpeggio output being processed for 7avd!\n",
      "No LOIs in 7cwb, so skipping!\n"
     ]
    },
    {
     "name": "stderr",
     "output_type": "stream",
     "text": [
      "2023-11-29 13:47:16,459 prointvar    INFO     PDBx removed existing hydrogens...\n",
      "2023-11-29 13:47:16,461 prointvar    INFO     PDBx reset atom numbers...\n",
      "2023-11-29 13:47:16,607 prointvar    INFO     Parsing PDB atoms from lines...\n"
     ]
    },
    {
     "name": "stdout",
     "output_type": "stream",
     "text": [
      "WARNING!!! -18 residues lacked mapping from PDB to UniProt at arpeggio_lig_cons for 6wtj\n",
      "WARNING!!! -306 residues lacked mapping from PDB to UniProt at lig_cons_split for 6wtj\n",
      "Arpeggio output being processed for 6wtj!\n"
     ]
    },
    {
     "name": "stderr",
     "output_type": "stream",
     "text": [
      "2023-11-29 13:47:16,824 prointvar    INFO     PDBx removed existing hydrogens...\n",
      "2023-11-29 13:47:16,827 prointvar    INFO     PDBx reset atom numbers...\n",
      "2023-11-29 13:47:17,874 prointvar    INFO     Parsing PDB atoms from lines...\n",
      "2023-11-29 13:47:18,088 prointvar    INFO     PDBx removed existing hydrogens...\n",
      "2023-11-29 13:47:18,091 prointvar    INFO     PDBx reset atom numbers...\n",
      "2023-11-29 13:47:19,150 prointvar    INFO     Parsing PDB atoms from lines...\n"
     ]
    },
    {
     "name": "stdout",
     "output_type": "stream",
     "text": [
      "WARNING!!! -25 residues lacked mapping from PDB to UniProt at arpeggio_lig_cons for 7tiz\n",
      "WARNING!!! -399 residues lacked mapping from PDB to UniProt at lig_cons_split for 7tiz\n",
      "Arpeggio output being processed for 7tiz!\n"
     ]
    },
    {
     "name": "stderr",
     "output_type": "stream",
     "text": [
      "2023-11-29 13:47:19,361 prointvar    INFO     PDBx removed existing hydrogens...\n",
      "2023-11-29 13:47:19,363 prointvar    INFO     PDBx reset atom numbers...\n",
      "2023-11-29 13:47:19,491 prointvar    INFO     Parsing PDB atoms from lines...\n"
     ]
    },
    {
     "name": "stdout",
     "output_type": "stream",
     "text": [
      "WARNING!!! -4 residues lacked mapping from PDB to UniProt at arpeggio_lig_cons for 7bak\n",
      "WARNING!!! -12 residues lacked mapping from PDB to UniProt at lig_cons_split for 7bak\n",
      "Arpeggio output being processed for 7bak!\n",
      "No LOIs in 6yb7, so skipping!\n",
      "No LOIs in 7vk6, so skipping!\n"
     ]
    },
    {
     "name": "stderr",
     "output_type": "stream",
     "text": [
      "2023-11-29 13:47:19,704 prointvar    INFO     PDBx removed existing hydrogens...\n",
      "2023-11-29 13:47:19,706 prointvar    INFO     PDBx reset atom numbers...\n",
      "2023-11-29 13:47:19,847 prointvar    INFO     Parsing PDB atoms from lines...\n"
     ]
    },
    {
     "name": "stdout",
     "output_type": "stream",
     "text": [
      "WARNING!!! -22 residues lacked mapping from PDB to UniProt at arpeggio_lig_cons for 7dgb\n",
      "WARNING!!! -377 residues lacked mapping from PDB to UniProt at lig_cons_split for 7dgb\n",
      "Arpeggio output being processed for 7dgb!\n"
     ]
    },
    {
     "name": "stderr",
     "output_type": "stream",
     "text": [
      "2023-11-29 13:47:20,062 prointvar    INFO     PDBx removed existing hydrogens...\n",
      "2023-11-29 13:47:20,065 prointvar    INFO     PDBx reset atom numbers...\n",
      "2023-11-29 13:47:20,203 prointvar    INFO     Parsing PDB atoms from lines...\n"
     ]
    },
    {
     "name": "stdout",
     "output_type": "stream",
     "text": [
      "WARNING!!! -19 residues lacked mapping from PDB to UniProt at arpeggio_lig_cons for 7lyi\n",
      "WARNING!!! -320 residues lacked mapping from PDB to UniProt at lig_cons_split for 7lyi\n",
      "Arpeggio output being processed for 7lyi!\n"
     ]
    },
    {
     "name": "stderr",
     "output_type": "stream",
     "text": [
      "2023-11-29 13:47:20,417 prointvar    INFO     PDBx removed existing hydrogens...\n",
      "2023-11-29 13:47:20,419 prointvar    INFO     PDBx reset atom numbers...\n",
      "2023-11-29 13:47:20,564 prointvar    INFO     Parsing PDB atoms from lines...\n"
     ]
    },
    {
     "name": "stdout",
     "output_type": "stream",
     "text": [
      "WARNING!!! -20 residues lacked mapping from PDB to UniProt at arpeggio_lig_cons for 7sd9\n",
      "WARNING!!! -328 residues lacked mapping from PDB to UniProt at lig_cons_split for 7sd9\n",
      "Arpeggio output being processed for 7sd9!\n"
     ]
    },
    {
     "name": "stderr",
     "output_type": "stream",
     "text": [
      "2023-11-29 13:47:20,778 prointvar    INFO     PDBx removed existing hydrogens...\n",
      "2023-11-29 13:47:20,781 prointvar    INFO     PDBx reset atom numbers...\n",
      "2023-11-29 13:47:21,340 prointvar    INFO     Parsing PDB atoms from lines...\n"
     ]
    },
    {
     "name": "stdout",
     "output_type": "stream",
     "text": [
      "Arpeggio output being processed for 7l14!\n"
     ]
    },
    {
     "name": "stderr",
     "output_type": "stream",
     "text": [
      "2023-11-29 13:47:21,554 prointvar    INFO     PDBx removed existing hydrogens...\n",
      "2023-11-29 13:47:21,557 prointvar    INFO     PDBx reset atom numbers...\n",
      "2023-11-29 13:47:21,698 prointvar    INFO     Parsing PDB atoms from lines...\n"
     ]
    },
    {
     "name": "stdout",
     "output_type": "stream",
     "text": [
      "WARNING!!! -24 residues lacked mapping from PDB to UniProt at arpeggio_lig_cons for 7wo1\n",
      "WARNING!!! -398 residues lacked mapping from PDB to UniProt at lig_cons_split for 7wo1\n",
      "Arpeggio output being processed for 7wo1!\n"
     ]
    },
    {
     "name": "stderr",
     "output_type": "stream",
     "text": [
      "2023-11-29 13:47:21,913 prointvar    INFO     PDBx removed existing hydrogens...\n",
      "2023-11-29 13:47:21,916 prointvar    INFO     PDBx reset atom numbers...\n",
      "2023-11-29 13:47:22,627 prointvar    INFO     Parsing PDB atoms from lines...\n"
     ]
    },
    {
     "name": "stdout",
     "output_type": "stream",
     "text": [
      "Arpeggio output being processed for 8dz1!\n"
     ]
    },
    {
     "name": "stderr",
     "output_type": "stream",
     "text": [
      "2023-11-29 13:47:22,839 prointvar    INFO     PDBx removed existing hydrogens...\n",
      "2023-11-29 13:47:22,842 prointvar    INFO     PDBx reset atom numbers...\n",
      "2023-11-29 13:47:23,018 prointvar    INFO     Parsing PDB atoms from lines...\n"
     ]
    },
    {
     "name": "stdout",
     "output_type": "stream",
     "text": [
      "Arpeggio output being processed for 7brp!\n",
      "No LOIs in 7vk8, so skipping!\n",
      "No LOIs in 8d4j, so skipping!\n"
     ]
    },
    {
     "name": "stderr",
     "output_type": "stream",
     "text": [
      "2023-11-29 13:47:23,230 prointvar    INFO     PDBx removed existing hydrogens...\n",
      "2023-11-29 13:47:23,232 prointvar    INFO     PDBx reset atom numbers...\n",
      "2023-11-29 13:47:24,313 prointvar    INFO     Parsing PDB atoms from lines...\n",
      "2023-11-29 13:47:24,525 prointvar    INFO     PDBx removed existing hydrogens...\n",
      "2023-11-29 13:47:24,528 prointvar    INFO     PDBx reset atom numbers...\n",
      "2023-11-29 13:47:25,984 prointvar    INFO     Parsing PDB atoms from lines...\n"
     ]
    },
    {
     "name": "stdout",
     "output_type": "stream",
     "text": [
      "Arpeggio output being processed for 8e61!\n"
     ]
    },
    {
     "name": "stderr",
     "output_type": "stream",
     "text": [
      "2023-11-29 13:47:26,198 prointvar    INFO     PDBx removed existing hydrogens...\n",
      "2023-11-29 13:47:26,201 prointvar    INFO     PDBx reset atom numbers...\n",
      "2023-11-29 13:47:26,370 prointvar    INFO     Parsing PDB atoms from lines...\n"
     ]
    },
    {
     "name": "stdout",
     "output_type": "stream",
     "text": [
      "Arpeggio output being processed for 7woh!\n"
     ]
    },
    {
     "name": "stderr",
     "output_type": "stream",
     "text": [
      "2023-11-29 13:47:26,588 prointvar    INFO     PDBx removed existing hydrogens...\n",
      "2023-11-29 13:47:26,591 prointvar    INFO     PDBx reset atom numbers...\n",
      "2023-11-29 13:47:28,492 prointvar    INFO     Parsing PDB atoms from lines...\n"
     ]
    },
    {
     "name": "stdout",
     "output_type": "stream",
     "text": [
      "Arpeggio output being processed for 6xqt!\n"
     ]
    },
    {
     "name": "stderr",
     "output_type": "stream",
     "text": [
      "2023-11-29 13:47:28,710 prointvar    INFO     PDBx removed existing hydrogens...\n",
      "2023-11-29 13:47:28,712 prointvar    INFO     PDBx reset atom numbers...\n",
      "2023-11-29 13:47:28,838 prointvar    INFO     Parsing PDB atoms from lines...\n",
      "2023-11-29 13:47:28,947 prointvar    INFO     PDBx removed existing hydrogens...\n",
      "2023-11-29 13:47:28,949 prointvar    INFO     PDBx reset atom numbers...\n"
     ]
    },
    {
     "name": "stdout",
     "output_type": "stream",
     "text": [
      "WARNING!!! -16 residues lacked mapping from PDB to UniProt at arpeggio_lig_cons for 7aph\n",
      "WARNING!!! -352 residues lacked mapping from PDB to UniProt at lig_cons_split for 7aph\n",
      "Arpeggio output being processed for 7aph!\n"
     ]
    },
    {
     "name": "stderr",
     "output_type": "stream",
     "text": [
      "2023-11-29 13:47:29,046 prointvar    INFO     Parsing PDB atoms from lines...\n"
     ]
    },
    {
     "name": "stdout",
     "output_type": "stream",
     "text": [
      "Arpeggio output being processed for 7qt6!\n"
     ]
    },
    {
     "name": "stderr",
     "output_type": "stream",
     "text": [
      "2023-11-29 13:47:29,268 prointvar    INFO     PDBx removed existing hydrogens...\n",
      "2023-11-29 13:47:29,271 prointvar    INFO     PDBx reset atom numbers...\n",
      "2023-11-29 13:47:29,358 prointvar    INFO     Parsing PDB atoms from lines...\n",
      "2023-11-29 13:47:29,572 prointvar    INFO     PDBx removed existing hydrogens...\n",
      "2023-11-29 13:47:29,575 prointvar    INFO     PDBx reset atom numbers...\n",
      "2023-11-29 13:47:29,712 prointvar    INFO     Parsing PDB atoms from lines...\n"
     ]
    },
    {
     "name": "stdout",
     "output_type": "stream",
     "text": [
      "WARNING!!! -20 residues lacked mapping from PDB to UniProt at arpeggio_lig_cons for 7ax6\n",
      "WARNING!!! -227 residues lacked mapping from PDB to UniProt at lig_cons_split for 7ax6\n",
      "Arpeggio output being processed for 7ax6!\n",
      "No LOIs in 8d4l, so skipping!\n"
     ]
    },
    {
     "name": "stderr",
     "output_type": "stream",
     "text": [
      "2023-11-29 13:47:29,929 prointvar    INFO     PDBx removed existing hydrogens...\n",
      "2023-11-29 13:47:29,932 prointvar    INFO     PDBx reset atom numbers...\n",
      "2023-11-29 13:47:30,079 prointvar    INFO     Parsing PDB atoms from lines...\n"
     ]
    },
    {
     "name": "stdout",
     "output_type": "stream",
     "text": [
      "WARNING!!! -23 residues lacked mapping from PDB to UniProt at arpeggio_lig_cons for 7rvs\n",
      "WARNING!!! -437 residues lacked mapping from PDB to UniProt at lig_cons_split for 7rvs\n",
      "Arpeggio output being processed for 7rvs!\n"
     ]
    },
    {
     "name": "stderr",
     "output_type": "stream",
     "text": [
      "2023-11-29 13:47:30,295 prointvar    INFO     PDBx removed existing hydrogens...\n",
      "2023-11-29 13:47:30,298 prointvar    INFO     PDBx reset atom numbers...\n",
      "2023-11-29 13:47:30,449 prointvar    INFO     Parsing PDB atoms from lines...\n"
     ]
    },
    {
     "name": "stdout",
     "output_type": "stream",
     "text": [
      "WARNING!!! -26 residues lacked mapping from PDB to UniProt at arpeggio_lig_cons for 6zrt\n",
      "WARNING!!! -458 residues lacked mapping from PDB to UniProt at lig_cons_split for 6zrt\n",
      "Arpeggio output being processed for 6zrt!\n"
     ]
    },
    {
     "name": "stderr",
     "output_type": "stream",
     "text": [
      "2023-11-29 13:47:30,661 prointvar    INFO     PDBx removed existing hydrogens...\n",
      "2023-11-29 13:47:30,664 prointvar    INFO     PDBx reset atom numbers...\n",
      "2023-11-29 13:47:31,718 prointvar    INFO     Parsing PDB atoms from lines...\n",
      "2023-11-29 13:47:31,924 prointvar    INFO     PDBx removed existing hydrogens...\n",
      "2023-11-29 13:47:31,926 prointvar    INFO     PDBx reset atom numbers...\n",
      "2023-11-29 13:47:32,931 prointvar    INFO     Parsing PDB atoms from lines...\n",
      "2023-11-29 13:47:33,146 prointvar    INFO     PDBx removed existing hydrogens...\n",
      "2023-11-29 13:47:33,148 prointvar    INFO     PDBx reset atom numbers...\n",
      "2023-11-29 13:47:35,681 prointvar    INFO     Parsing PDB atoms from lines...\n"
     ]
    },
    {
     "name": "stdout",
     "output_type": "stream",
     "text": [
      "Arpeggio output being processed for 7lkt!\n"
     ]
    },
    {
     "name": "stderr",
     "output_type": "stream",
     "text": [
      "2023-11-29 13:47:35,875 prointvar    INFO     PDBx removed existing hydrogens...\n",
      "2023-11-29 13:47:35,877 prointvar    INFO     PDBx reset atom numbers...\n",
      "2023-11-29 13:47:36,017 prointvar    INFO     Parsing PDB atoms from lines...\n"
     ]
    },
    {
     "name": "stdout",
     "output_type": "stream",
     "text": [
      "WARNING!!! -21 residues lacked mapping from PDB to UniProt at arpeggio_lig_cons for 7tq4\n",
      "WARNING!!! -385 residues lacked mapping from PDB to UniProt at lig_cons_split for 7tq4\n",
      "Arpeggio output being processed for 7tq4!\n"
     ]
    },
    {
     "name": "stderr",
     "output_type": "stream",
     "text": [
      "2023-11-29 13:47:36,232 prointvar    INFO     PDBx removed existing hydrogens...\n",
      "2023-11-29 13:47:36,234 prointvar    INFO     PDBx reset atom numbers...\n",
      "2023-11-29 13:47:36,408 prointvar    INFO     Parsing PDB atoms from lines...\n"
     ]
    },
    {
     "name": "stdout",
     "output_type": "stream",
     "text": [
      "Arpeggio output being processed for 7lcr!\n"
     ]
    },
    {
     "name": "stderr",
     "output_type": "stream",
     "text": [
      "2023-11-29 13:47:36,621 prointvar    INFO     PDBx removed existing hydrogens...\n",
      "2023-11-29 13:47:36,624 prointvar    INFO     PDBx reset atom numbers...\n",
      "2023-11-29 13:47:37,676 prointvar    INFO     Parsing PDB atoms from lines...\n",
      "2023-11-29 13:47:37,886 prointvar    INFO     PDBx removed existing hydrogens...\n",
      "2023-11-29 13:47:37,889 prointvar    INFO     PDBx reset atom numbers...\n",
      "2023-11-29 13:47:38,958 prointvar    INFO     Parsing PDB atoms from lines...\n"
     ]
    },
    {
     "name": "stdout",
     "output_type": "stream",
     "text": [
      "WARNING!!! -45 residues lacked mapping from PDB to UniProt at arpeggio_lig_cons for 7t48\n",
      "WARNING!!! -796 residues lacked mapping from PDB to UniProt at lig_cons_split for 7t48\n",
      "Arpeggio output being processed for 7t48!\n"
     ]
    },
    {
     "name": "stderr",
     "output_type": "stream",
     "text": [
      "2023-11-29 13:47:39,175 prointvar    INFO     PDBx removed existing hydrogens...\n",
      "2023-11-29 13:47:39,178 prointvar    INFO     PDBx reset atom numbers...\n",
      "2023-11-29 13:47:39,597 prointvar    INFO     Parsing PDB atoms from lines...\n"
     ]
    },
    {
     "name": "stdout",
     "output_type": "stream",
     "text": [
      "Arpeggio output being processed for 8dgb!\n"
     ]
    },
    {
     "name": "stderr",
     "output_type": "stream",
     "text": [
      "2023-11-29 13:47:39,815 prointvar    INFO     PDBx removed existing hydrogens...\n",
      "2023-11-29 13:47:39,818 prointvar    INFO     PDBx reset atom numbers...\n",
      "2023-11-29 13:47:39,966 prointvar    INFO     Parsing PDB atoms from lines...\n"
     ]
    },
    {
     "name": "stdout",
     "output_type": "stream",
     "text": [
      "WARNING!!! -27 residues lacked mapping from PDB to UniProt at arpeggio_lig_cons for 7sfh\n",
      "WARNING!!! -409 residues lacked mapping from PDB to UniProt at lig_cons_split for 7sfh\n",
      "Arpeggio output being processed for 7sfh!\n"
     ]
    },
    {
     "name": "stderr",
     "output_type": "stream",
     "text": [
      "2023-11-29 13:47:40,183 prointvar    INFO     PDBx removed existing hydrogens...\n",
      "2023-11-29 13:47:40,186 prointvar    INFO     PDBx reset atom numbers...\n",
      "2023-11-29 13:47:40,359 prointvar    INFO     Parsing PDB atoms from lines...\n"
     ]
    },
    {
     "name": "stdout",
     "output_type": "stream",
     "text": [
      "Arpeggio output being processed for 7l11!\n"
     ]
    },
    {
     "name": "stderr",
     "output_type": "stream",
     "text": [
      "2023-11-29 13:47:40,572 prointvar    INFO     PDBx removed existing hydrogens...\n",
      "2023-11-29 13:47:40,574 prointvar    INFO     PDBx reset atom numbers...\n",
      "2023-11-29 13:47:41,613 prointvar    INFO     Parsing PDB atoms from lines...\n",
      "2023-11-29 13:47:41,826 prointvar    INFO     PDBx removed existing hydrogens...\n",
      "2023-11-29 13:47:41,829 prointvar    INFO     PDBx reset atom numbers...\n",
      "2023-11-29 13:47:44,421 prointvar    INFO     Parsing PDB atoms from lines...\n"
     ]
    },
    {
     "name": "stdout",
     "output_type": "stream",
     "text": [
      "Arpeggio output being processed for 8e5x!\n"
     ]
    },
    {
     "name": "stderr",
     "output_type": "stream",
     "text": [
      "2023-11-29 13:47:44,635 prointvar    INFO     PDBx removed existing hydrogens...\n",
      "2023-11-29 13:47:44,638 prointvar    INFO     PDBx reset atom numbers...\n",
      "2023-11-29 13:47:44,776 prointvar    INFO     Parsing PDB atoms from lines...\n"
     ]
    },
    {
     "name": "stdout",
     "output_type": "stream",
     "text": [
      "WARNING!!! -19 residues lacked mapping from PDB to UniProt at arpeggio_lig_cons for 7jsu\n",
      "WARNING!!! -325 residues lacked mapping from PDB to UniProt at lig_cons_split for 7jsu\n",
      "Arpeggio output being processed for 7jsu!\n",
      "No LOIs in 7pfl, so skipping!\n"
     ]
    },
    {
     "name": "stderr",
     "output_type": "stream",
     "text": [
      "2023-11-29 13:47:44,992 prointvar    INFO     PDBx removed existing hydrogens...\n",
      "2023-11-29 13:47:44,995 prointvar    INFO     PDBx reset atom numbers...\n",
      "2023-11-29 13:47:45,125 prointvar    INFO     Parsing PDB atoms from lines...\n"
     ]
    },
    {
     "name": "stdout",
     "output_type": "stream",
     "text": [
      "WARNING!!! -15 residues lacked mapping from PDB to UniProt at arpeggio_lig_cons for 5rfm\n",
      "WARNING!!! -164 residues lacked mapping from PDB to UniProt at lig_cons_split for 5rfm\n",
      "Arpeggio output being processed for 5rfm!\n"
     ]
    },
    {
     "name": "stderr",
     "output_type": "stream",
     "text": [
      "2023-11-29 13:47:45,343 prointvar    INFO     PDBx removed existing hydrogens...\n",
      "2023-11-29 13:47:45,346 prointvar    INFO     PDBx reset atom numbers...\n",
      "2023-11-29 13:47:45,486 prointvar    INFO     Parsing PDB atoms from lines...\n"
     ]
    },
    {
     "name": "stdout",
     "output_type": "stream",
     "text": [
      "WARNING!!! -21 residues lacked mapping from PDB to UniProt at arpeggio_lig_cons for 7rn4\n",
      "WARNING!!! -320 residues lacked mapping from PDB to UniProt at lig_cons_split for 7rn4\n",
      "Arpeggio output being processed for 7rn4!\n",
      "No LOIs in 8ds0, so skipping!\n"
     ]
    },
    {
     "name": "stderr",
     "output_type": "stream",
     "text": [
      "2023-11-29 13:47:45,706 prointvar    INFO     PDBx removed existing hydrogens...\n",
      "2023-11-29 13:47:45,709 prointvar    INFO     PDBx reset atom numbers...\n",
      "2023-11-29 13:47:45,846 prointvar    INFO     Parsing PDB atoms from lines...\n"
     ]
    },
    {
     "name": "stdout",
     "output_type": "stream",
     "text": [
      "WARNING!!! -19 residues lacked mapping from PDB to UniProt at arpeggio_lig_cons for 7tob\n",
      "WARNING!!! -303 residues lacked mapping from PDB to UniProt at lig_cons_split for 7tob\n",
      "Arpeggio output being processed for 7tob!\n"
     ]
    },
    {
     "name": "stderr",
     "output_type": "stream",
     "text": [
      "2023-11-29 13:47:46,054 prointvar    INFO     PDBx removed existing hydrogens...\n",
      "2023-11-29 13:47:46,057 prointvar    INFO     PDBx reset atom numbers...\n",
      "2023-11-29 13:47:47,111 prointvar    INFO     Parsing PDB atoms from lines...\n"
     ]
    },
    {
     "name": "stdout",
     "output_type": "stream",
     "text": [
      "WARNING!!! -9 residues lacked mapping from PDB to UniProt at arpeggio_lig_cons for 7cx9\n",
      "WARNING!!! -140 residues lacked mapping from PDB to UniProt at lig_cons_split for 7cx9\n",
      "Arpeggio output being processed for 7cx9!\n"
     ]
    },
    {
     "name": "stderr",
     "output_type": "stream",
     "text": [
      "2023-11-29 13:47:47,323 prointvar    INFO     PDBx removed existing hydrogens...\n",
      "2023-11-29 13:47:47,326 prointvar    INFO     PDBx reset atom numbers...\n",
      "2023-11-29 13:47:47,458 prointvar    INFO     Parsing PDB atoms from lines...\n"
     ]
    },
    {
     "name": "stdout",
     "output_type": "stream",
     "text": [
      "WARNING!!! -6 residues lacked mapping from PDB to UniProt at arpeggio_lig_cons for 5rgj\n",
      "WARNING!!! -97 residues lacked mapping from PDB to UniProt at lig_cons_split for 5rgj\n",
      "Arpeggio output being processed for 5rgj!\n"
     ]
    },
    {
     "name": "stderr",
     "output_type": "stream",
     "text": [
      "2023-11-29 13:47:47,671 prointvar    INFO     PDBx removed existing hydrogens...\n",
      "2023-11-29 13:47:47,674 prointvar    INFO     PDBx reset atom numbers...\n",
      "2023-11-29 13:47:48,710 prointvar    INFO     Parsing PDB atoms from lines...\n",
      "2023-11-29 13:47:48,922 prointvar    INFO     PDBx removed existing hydrogens...\n",
      "2023-11-29 13:47:48,925 prointvar    INFO     PDBx reset atom numbers...\n",
      "2023-11-29 13:47:50,013 prointvar    INFO     Parsing PDB atoms from lines...\n"
     ]
    },
    {
     "name": "stdout",
     "output_type": "stream",
     "text": [
      "Arpeggio output being processed for 7t44!\n"
     ]
    },
    {
     "name": "stderr",
     "output_type": "stream",
     "text": [
      "2023-11-29 13:47:50,231 prointvar    INFO     PDBx removed existing hydrogens...\n",
      "2023-11-29 13:47:50,234 prointvar    INFO     PDBx reset atom numbers...\n",
      "2023-11-29 13:47:50,378 prointvar    INFO     Parsing PDB atoms from lines...\n"
     ]
    },
    {
     "name": "stdout",
     "output_type": "stream",
     "text": [
      "WARNING!!! -26 residues lacked mapping from PDB to UniProt at arpeggio_lig_cons for 7sf1\n",
      "WARNING!!! -443 residues lacked mapping from PDB to UniProt at lig_cons_split for 7sf1\n",
      "Arpeggio output being processed for 7sf1!\n",
      "No LOIs in 7mb7, so skipping!\n"
     ]
    },
    {
     "name": "stderr",
     "output_type": "stream",
     "text": [
      "2023-11-29 13:47:50,595 prointvar    INFO     PDBx removed existing hydrogens...\n",
      "2023-11-29 13:47:50,598 prointvar    INFO     PDBx reset atom numbers...\n",
      "2023-11-29 13:47:50,730 prointvar    INFO     Parsing PDB atoms from lines...\n"
     ]
    },
    {
     "name": "stdout",
     "output_type": "stream",
     "text": [
      "WARNING!!! -15 residues lacked mapping from PDB to UniProt at arpeggio_lig_cons for 5rfh\n",
      "WARNING!!! -182 residues lacked mapping from PDB to UniProt at lig_cons_split for 5rfh\n",
      "Arpeggio output being processed for 5rfh!\n",
      "No LOIs in 7cam, so skipping!\n"
     ]
    },
    {
     "name": "stderr",
     "output_type": "stream",
     "text": [
      "2023-11-29 13:47:50,947 prointvar    INFO     PDBx removed existing hydrogens...\n",
      "2023-11-29 13:47:50,950 prointvar    INFO     PDBx reset atom numbers...\n",
      "2023-11-29 13:47:51,102 prointvar    INFO     Parsing PDB atoms from lines...\n"
     ]
    },
    {
     "name": "stdout",
     "output_type": "stream",
     "text": [
      "Arpeggio output being processed for 7nt3!\n",
      "No LOIs in 7cwc, so skipping!\n"
     ]
    },
    {
     "name": "stderr",
     "output_type": "stream",
     "text": [
      "2023-11-29 13:47:51,306 prointvar    INFO     PDBx removed existing hydrogens...\n",
      "2023-11-29 13:47:51,309 prointvar    INFO     PDBx reset atom numbers...\n",
      "2023-11-29 13:47:51,473 prointvar    INFO     Parsing PDB atoms from lines...\n"
     ]
    },
    {
     "name": "stdout",
     "output_type": "stream",
     "text": [
      "Arpeggio output being processed for 7tq2!\n",
      "No LOIs in 7mhg, so skipping!\n"
     ]
    },
    {
     "name": "stderr",
     "output_type": "stream",
     "text": [
      "2023-11-29 13:47:51,684 prointvar    INFO     PDBx removed existing hydrogens...\n",
      "2023-11-29 13:47:51,687 prointvar    INFO     PDBx reset atom numbers...\n",
      "2023-11-29 13:47:51,855 prointvar    INFO     Parsing PDB atoms from lines...\n"
     ]
    },
    {
     "name": "stdout",
     "output_type": "stream",
     "text": [
      "Arpeggio output being processed for 7m8n!\n"
     ]
    },
    {
     "name": "stderr",
     "output_type": "stream",
     "text": [
      "2023-11-29 13:47:52,083 prointvar    INFO     PDBx removed existing hydrogens...\n",
      "2023-11-29 13:47:52,085 prointvar    INFO     PDBx reset atom numbers...\n",
      "2023-11-29 13:47:53,103 prointvar    INFO     Parsing PDB atoms from lines...\n",
      "2023-11-29 13:47:53,320 prointvar    INFO     PDBx removed existing hydrogens...\n",
      "2023-11-29 13:47:53,323 prointvar    INFO     PDBx reset atom numbers...\n",
      "2023-11-29 13:47:54,373 prointvar    INFO     Parsing PDB atoms from lines...\n"
     ]
    },
    {
     "name": "stdout",
     "output_type": "stream",
     "text": [
      "WARNING!!! -39 residues lacked mapping from PDB to UniProt at arpeggio_lig_cons for 7ntq\n",
      "WARNING!!! -378 residues lacked mapping from PDB to UniProt at lig_cons_split for 7ntq\n",
      "Arpeggio output being processed for 7ntq!\n"
     ]
    },
    {
     "name": "stderr",
     "output_type": "stream",
     "text": [
      "2023-11-29 13:47:54,590 prointvar    INFO     PDBx removed existing hydrogens...\n",
      "2023-11-29 13:47:54,593 prointvar    INFO     PDBx reset atom numbers...\n",
      "2023-11-29 13:47:54,736 prointvar    INFO     Parsing PDB atoms from lines...\n"
     ]
    },
    {
     "name": "stdout",
     "output_type": "stream",
     "text": [
      "WARNING!!! -21 residues lacked mapping from PDB to UniProt at arpeggio_lig_cons for 5rh7\n",
      "WARNING!!! -367 residues lacked mapping from PDB to UniProt at lig_cons_split for 5rh7\n",
      "Arpeggio output being processed for 5rh7!\n"
     ]
    },
    {
     "name": "stderr",
     "output_type": "stream",
     "text": [
      "2023-11-29 13:47:54,952 prointvar    INFO     PDBx removed existing hydrogens...\n",
      "2023-11-29 13:47:54,955 prointvar    INFO     PDBx reset atom numbers...\n",
      "2023-11-29 13:47:55,095 prointvar    INFO     Parsing PDB atoms from lines...\n"
     ]
    },
    {
     "name": "stdout",
     "output_type": "stream",
     "text": [
      "WARNING!!! -22 residues lacked mapping from PDB to UniProt at arpeggio_lig_cons for 7tiy\n",
      "WARNING!!! -440 residues lacked mapping from PDB to UniProt at lig_cons_split for 7tiy\n",
      "Arpeggio output being processed for 7tiy!\n"
     ]
    },
    {
     "name": "stderr",
     "output_type": "stream",
     "text": [
      "2023-11-29 13:47:55,311 prointvar    INFO     PDBx removed existing hydrogens...\n",
      "2023-11-29 13:47:55,313 prointvar    INFO     PDBx reset atom numbers...\n",
      "2023-11-29 13:47:55,442 prointvar    INFO     Parsing PDB atoms from lines...\n"
     ]
    },
    {
     "name": "stdout",
     "output_type": "stream",
     "text": [
      "WARNING!!! -13 residues lacked mapping from PDB to UniProt at arpeggio_lig_cons for 5rfl\n",
      "WARNING!!! -133 residues lacked mapping from PDB to UniProt at lig_cons_split for 5rfl\n",
      "Arpeggio output being processed for 5rfl!\n"
     ]
    },
    {
     "name": "stderr",
     "output_type": "stream",
     "text": [
      "2023-11-29 13:47:55,660 prointvar    INFO     PDBx removed existing hydrogens...\n",
      "2023-11-29 13:47:55,662 prointvar    INFO     PDBx reset atom numbers...\n",
      "2023-11-29 13:47:56,701 prointvar    INFO     Parsing PDB atoms from lines...\n"
     ]
    },
    {
     "name": "stdout",
     "output_type": "stream",
     "text": [
      "WARNING!!! -10 residues lacked mapping from PDB to UniProt at arpeggio_lig_cons for 5re7\n",
      "WARNING!!! -80 residues lacked mapping from PDB to UniProt at lig_cons_split for 5re7\n",
      "Arpeggio output being processed for 5re7!\n",
      "No LOIs in 7k3t, so skipping!\n",
      "No LOIs in 7t2u, so skipping!\n"
     ]
    },
    {
     "name": "stderr",
     "output_type": "stream",
     "text": [
      "2023-11-29 13:47:56,919 prointvar    INFO     PDBx removed existing hydrogens...\n",
      "2023-11-29 13:47:56,922 prointvar    INFO     PDBx reset atom numbers...\n",
      "2023-11-29 13:47:57,062 prointvar    INFO     Parsing PDB atoms from lines...\n"
     ]
    },
    {
     "name": "stdout",
     "output_type": "stream",
     "text": [
      "WARNING!!! -22 residues lacked mapping from PDB to UniProt at arpeggio_lig_cons for 7lco\n",
      "WARNING!!! -355 residues lacked mapping from PDB to UniProt at lig_cons_split for 7lco\n",
      "Arpeggio output being processed for 7lco!\n"
     ]
    },
    {
     "name": "stderr",
     "output_type": "stream",
     "text": [
      "2023-11-29 13:47:57,280 prointvar    INFO     PDBx removed existing hydrogens...\n",
      "2023-11-29 13:47:57,283 prointvar    INFO     PDBx reset atom numbers...\n",
      "2023-11-29 13:47:57,431 prointvar    INFO     Parsing PDB atoms from lines...\n"
     ]
    },
    {
     "name": "stdout",
     "output_type": "stream",
     "text": [
      "Arpeggio output being processed for 7ldx!\n"
     ]
    },
    {
     "name": "stderr",
     "output_type": "stream",
     "text": [
      "2023-11-29 13:47:57,648 prointvar    INFO     PDBx removed existing hydrogens...\n",
      "2023-11-29 13:47:57,651 prointvar    INFO     PDBx reset atom numbers...\n",
      "2023-11-29 13:47:57,790 prointvar    INFO     Parsing PDB atoms from lines...\n"
     ]
    },
    {
     "name": "stdout",
     "output_type": "stream",
     "text": [
      "WARNING!!! -20 residues lacked mapping from PDB to UniProt at arpeggio_lig_cons for 7qbb\n",
      "WARNING!!! -287 residues lacked mapping from PDB to UniProt at lig_cons_split for 7qbb\n",
      "Arpeggio output being processed for 7qbb!\n",
      "No LOIs in 7mhq, so skipping!\n"
     ]
    },
    {
     "name": "stderr",
     "output_type": "stream",
     "text": [
      "2023-11-29 13:47:58,006 prointvar    INFO     PDBx removed existing hydrogens...\n",
      "2023-11-29 13:47:58,009 prointvar    INFO     PDBx reset atom numbers...\n",
      "2023-11-29 13:47:58,144 prointvar    INFO     Parsing PDB atoms from lines...\n"
     ]
    },
    {
     "name": "stdout",
     "output_type": "stream",
     "text": [
      "WARNING!!! -18 residues lacked mapping from PDB to UniProt at arpeggio_lig_cons for 7au4\n",
      "WARNING!!! -250 residues lacked mapping from PDB to UniProt at lig_cons_split for 7au4\n",
      "Arpeggio output being processed for 7au4!\n"
     ]
    },
    {
     "name": "stderr",
     "output_type": "stream",
     "text": [
      "2023-11-29 13:47:58,358 prointvar    INFO     PDBx removed existing hydrogens...\n",
      "2023-11-29 13:47:58,361 prointvar    INFO     PDBx reset atom numbers...\n",
      "2023-11-29 13:47:58,491 prointvar    INFO     Parsing PDB atoms from lines...\n"
     ]
    },
    {
     "name": "stdout",
     "output_type": "stream",
     "text": [
      "WARNING!!! -16 residues lacked mapping from PDB to UniProt at arpeggio_lig_cons for 5rfi\n",
      "WARNING!!! -176 residues lacked mapping from PDB to UniProt at lig_cons_split for 5rfi\n",
      "Arpeggio output being processed for 5rfi!\n"
     ]
    },
    {
     "name": "stderr",
     "output_type": "stream",
     "text": [
      "2023-11-29 13:47:58,707 prointvar    INFO     PDBx removed existing hydrogens...\n",
      "2023-11-29 13:47:58,710 prointvar    INFO     PDBx reset atom numbers...\n",
      "2023-11-29 13:47:58,846 prointvar    INFO     Parsing PDB atoms from lines...\n"
     ]
    },
    {
     "name": "stdout",
     "output_type": "stream",
     "text": [
      "WARNING!!! -21 residues lacked mapping from PDB to UniProt at arpeggio_lig_cons for 5rl5\n",
      "WARNING!!! -303 residues lacked mapping from PDB to UniProt at lig_cons_split for 5rl5\n",
      "Arpeggio output being processed for 5rl5!\n"
     ]
    },
    {
     "name": "stderr",
     "output_type": "stream",
     "text": [
      "2023-11-29 13:47:59,061 prointvar    INFO     PDBx removed existing hydrogens...\n",
      "2023-11-29 13:47:59,064 prointvar    INFO     PDBx reset atom numbers...\n",
      "2023-11-29 13:48:00,098 prointvar    INFO     Parsing PDB atoms from lines...\n"
     ]
    },
    {
     "name": "stdout",
     "output_type": "stream",
     "text": [
      "WARNING!!! -11 residues lacked mapping from PDB to UniProt at arpeggio_lig_cons for 5rhe\n",
      "WARNING!!! -106 residues lacked mapping from PDB to UniProt at lig_cons_split for 5rhe\n",
      "Arpeggio output being processed for 5rhe!\n"
     ]
    },
    {
     "name": "stderr",
     "output_type": "stream",
     "text": [
      "2023-11-29 13:48:00,304 prointvar    INFO     PDBx removed existing hydrogens...\n",
      "2023-11-29 13:48:00,307 prointvar    INFO     PDBx reset atom numbers...\n",
      "2023-11-29 13:48:00,462 prointvar    INFO     Parsing PDB atoms from lines...\n"
     ]
    },
    {
     "name": "stdout",
     "output_type": "stream",
     "text": [
      "Arpeggio output being processed for 7vvp!\n"
     ]
    },
    {
     "name": "stderr",
     "output_type": "stream",
     "text": [
      "2023-11-29 13:48:00,680 prointvar    INFO     PDBx removed existing hydrogens...\n",
      "2023-11-29 13:48:00,683 prointvar    INFO     PDBx reset atom numbers...\n",
      "2023-11-29 13:48:00,829 prointvar    INFO     Parsing PDB atoms from lines...\n"
     ]
    },
    {
     "name": "stdout",
     "output_type": "stream",
     "text": [
      "WARNING!!! -25 residues lacked mapping from PDB to UniProt at arpeggio_lig_cons for 8b2t\n",
      "WARNING!!! -387 residues lacked mapping from PDB to UniProt at lig_cons_split for 8b2t\n",
      "Arpeggio output being processed for 8b2t!\n"
     ]
    },
    {
     "name": "stderr",
     "output_type": "stream",
     "text": [
      "2023-11-29 13:48:01,042 prointvar    INFO     PDBx removed existing hydrogens...\n",
      "2023-11-29 13:48:01,045 prointvar    INFO     PDBx reset atom numbers...\n",
      "2023-11-29 13:48:02,044 prointvar    INFO     Parsing PDB atoms from lines...\n",
      "2023-11-29 13:48:02,252 prointvar    INFO     PDBx removed existing hydrogens...\n",
      "2023-11-29 13:48:02,255 prointvar    INFO     PDBx reset atom numbers...\n",
      "2023-11-29 13:48:03,382 prointvar    INFO     Parsing PDB atoms from lines...\n"
     ]
    },
    {
     "name": "stdout",
     "output_type": "stream",
     "text": [
      "Arpeggio output being processed for 8e5z!\n"
     ]
    },
    {
     "name": "stderr",
     "output_type": "stream",
     "text": [
      "2023-11-29 13:48:03,595 prointvar    INFO     PDBx removed existing hydrogens...\n",
      "2023-11-29 13:48:03,597 prointvar    INFO     PDBx reset atom numbers...\n",
      "2023-11-29 13:48:03,723 prointvar    INFO     Parsing PDB atoms from lines...\n"
     ]
    },
    {
     "name": "stdout",
     "output_type": "stream",
     "text": [
      "WARNING!!! -11 residues lacked mapping from PDB to UniProt at arpeggio_lig_cons for 5ree\n",
      "WARNING!!! -154 residues lacked mapping from PDB to UniProt at lig_cons_split for 5ree\n",
      "Arpeggio output being processed for 5ree!\n"
     ]
    },
    {
     "name": "stderr",
     "output_type": "stream",
     "text": [
      "2023-11-29 13:48:03,938 prointvar    INFO     PDBx removed existing hydrogens...\n",
      "2023-11-29 13:48:03,941 prointvar    INFO     PDBx reset atom numbers...\n",
      "2023-11-29 13:48:04,944 prointvar    INFO     Parsing PDB atoms from lines...\n",
      "2023-11-29 13:48:05,159 prointvar    INFO     PDBx removed existing hydrogens...\n",
      "2023-11-29 13:48:05,162 prointvar    INFO     PDBx reset atom numbers...\n",
      "2023-11-29 13:48:06,153 prointvar    INFO     Parsing PDB atoms from lines...\n",
      "2023-11-29 13:48:06,365 prointvar    INFO     PDBx removed existing hydrogens...\n",
      "2023-11-29 13:48:06,368 prointvar    INFO     PDBx reset atom numbers...\n",
      "2023-11-29 13:48:07,403 prointvar    INFO     Parsing PDB atoms from lines...\n"
     ]
    },
    {
     "name": "stdout",
     "output_type": "stream",
     "text": [
      "WARNING!!! -29 residues lacked mapping from PDB to UniProt at arpeggio_lig_cons for 6xfn\n",
      "WARNING!!! -369 residues lacked mapping from PDB to UniProt at lig_cons_split for 6xfn\n",
      "Arpeggio output being processed for 6xfn!\n"
     ]
    },
    {
     "name": "stderr",
     "output_type": "stream",
     "text": [
      "2023-11-29 13:48:07,622 prointvar    INFO     PDBx removed existing hydrogens...\n",
      "2023-11-29 13:48:07,625 prointvar    INFO     PDBx reset atom numbers...\n",
      "2023-11-29 13:48:07,762 prointvar    INFO     Parsing PDB atoms from lines...\n"
     ]
    },
    {
     "name": "stdout",
     "output_type": "stream",
     "text": [
      "WARNING!!! -18 residues lacked mapping from PDB to UniProt at arpeggio_lig_cons for 5rh8\n",
      "WARNING!!! -224 residues lacked mapping from PDB to UniProt at lig_cons_split for 5rh8\n",
      "Arpeggio output being processed for 5rh8!\n"
     ]
    },
    {
     "name": "stderr",
     "output_type": "stream",
     "text": [
      "2023-11-29 13:48:07,969 prointvar    INFO     PDBx removed existing hydrogens...\n",
      "2023-11-29 13:48:07,971 prointvar    INFO     PDBx reset atom numbers...\n",
      "2023-11-29 13:48:08,113 prointvar    INFO     Parsing PDB atoms from lines...\n"
     ]
    },
    {
     "name": "stdout",
     "output_type": "stream",
     "text": [
      "WARNING!!! -26 residues lacked mapping from PDB to UniProt at arpeggio_lig_cons for 7n44\n",
      "WARNING!!! -449 residues lacked mapping from PDB to UniProt at lig_cons_split for 7n44\n",
      "Arpeggio output being processed for 7n44!\n"
     ]
    },
    {
     "name": "stderr",
     "output_type": "stream",
     "text": [
      "2023-11-29 13:48:08,332 prointvar    INFO     PDBx removed existing hydrogens...\n",
      "2023-11-29 13:48:08,335 prointvar    INFO     PDBx reset atom numbers...\n",
      "2023-11-29 13:48:08,462 prointvar    INFO     Parsing PDB atoms from lines...\n"
     ]
    },
    {
     "name": "stdout",
     "output_type": "stream",
     "text": [
      "WARNING!!! -12 residues lacked mapping from PDB to UniProt at arpeggio_lig_cons for 5rez\n",
      "WARNING!!! -113 residues lacked mapping from PDB to UniProt at lig_cons_split for 5rez\n",
      "Arpeggio output being processed for 5rez!\n"
     ]
    },
    {
     "name": "stderr",
     "output_type": "stream",
     "text": [
      "2023-11-29 13:48:08,675 prointvar    INFO     PDBx removed existing hydrogens...\n",
      "2023-11-29 13:48:08,677 prointvar    INFO     PDBx reset atom numbers...\n",
      "2023-11-29 13:48:08,831 prointvar    INFO     Parsing PDB atoms from lines...\n"
     ]
    },
    {
     "name": "stdout",
     "output_type": "stream",
     "text": [
      "Arpeggio output being processed for 7l13!\n"
     ]
    },
    {
     "name": "stderr",
     "output_type": "stream",
     "text": [
      "2023-11-29 13:48:09,046 prointvar    INFO     PDBx removed existing hydrogens...\n",
      "2023-11-29 13:48:09,049 prointvar    INFO     PDBx reset atom numbers...\n",
      "2023-11-29 13:48:09,219 prointvar    INFO     Parsing PDB atoms from lines...\n"
     ]
    },
    {
     "name": "stdout",
     "output_type": "stream",
     "text": [
      "Arpeggio output being processed for 7dgg!\n"
     ]
    },
    {
     "name": "stderr",
     "output_type": "stream",
     "text": [
      "2023-11-29 13:48:09,437 prointvar    INFO     PDBx removed existing hydrogens...\n",
      "2023-11-29 13:48:09,440 prointvar    INFO     PDBx reset atom numbers...\n",
      "2023-11-29 13:48:09,566 prointvar    INFO     Parsing PDB atoms from lines...\n"
     ]
    },
    {
     "name": "stdout",
     "output_type": "stream",
     "text": [
      "WARNING!!! -11 residues lacked mapping from PDB to UniProt at arpeggio_lig_cons for 5rev\n",
      "WARNING!!! -136 residues lacked mapping from PDB to UniProt at lig_cons_split for 5rev\n",
      "Arpeggio output being processed for 5rev!\n"
     ]
    },
    {
     "name": "stderr",
     "output_type": "stream",
     "text": [
      "2023-11-29 13:48:09,783 prointvar    INFO     PDBx removed existing hydrogens...\n",
      "2023-11-29 13:48:09,786 prointvar    INFO     PDBx reset atom numbers...\n",
      "2023-11-29 13:48:09,918 prointvar    INFO     Parsing PDB atoms from lines...\n"
     ]
    },
    {
     "name": "stdout",
     "output_type": "stream",
     "text": [
      "WARNING!!! -9 residues lacked mapping from PDB to UniProt at arpeggio_lig_cons for 5rf9\n",
      "WARNING!!! -153 residues lacked mapping from PDB to UniProt at lig_cons_split for 5rf9\n",
      "Arpeggio output being processed for 5rf9!\n"
     ]
    },
    {
     "name": "stderr",
     "output_type": "stream",
     "text": [
      "2023-11-29 13:48:10,129 prointvar    INFO     PDBx removed existing hydrogens...\n",
      "2023-11-29 13:48:10,132 prointvar    INFO     PDBx reset atom numbers...\n",
      "2023-11-29 13:48:10,272 prointvar    INFO     Parsing PDB atoms from lines...\n"
     ]
    },
    {
     "name": "stdout",
     "output_type": "stream",
     "text": [
      "WARNING!!! -25 residues lacked mapping from PDB to UniProt at arpeggio_lig_cons for 7m8x\n",
      "WARNING!!! -374 residues lacked mapping from PDB to UniProt at lig_cons_split for 7m8x\n",
      "Arpeggio output being processed for 7m8x!\n"
     ]
    },
    {
     "name": "stderr",
     "output_type": "stream",
     "text": [
      "2023-11-29 13:48:10,488 prointvar    INFO     PDBx removed existing hydrogens...\n",
      "2023-11-29 13:48:10,491 prointvar    INFO     PDBx reset atom numbers...\n",
      "2023-11-29 13:48:10,629 prointvar    INFO     Parsing PDB atoms from lines...\n"
     ]
    },
    {
     "name": "stdout",
     "output_type": "stream",
     "text": [
      "WARNING!!! -14 residues lacked mapping from PDB to UniProt at arpeggio_lig_cons for 5rel\n",
      "WARNING!!! -185 residues lacked mapping from PDB to UniProt at lig_cons_split for 5rel\n",
      "Arpeggio output being processed for 5rel!\n"
     ]
    },
    {
     "name": "stderr",
     "output_type": "stream",
     "text": [
      "2023-11-29 13:48:10,837 prointvar    INFO     PDBx removed existing hydrogens...\n",
      "2023-11-29 13:48:10,840 prointvar    INFO     PDBx reset atom numbers...\n",
      "2023-11-29 13:48:11,841 prointvar    INFO     Parsing PDB atoms from lines...\n",
      "2023-11-29 13:48:12,053 prointvar    INFO     PDBx removed existing hydrogens...\n",
      "2023-11-29 13:48:12,056 prointvar    INFO     PDBx reset atom numbers...\n",
      "2023-11-29 13:48:14,167 prointvar    INFO     Parsing PDB atoms from lines...\n"
     ]
    },
    {
     "name": "stdout",
     "output_type": "stream",
     "text": [
      "Arpeggio output being processed for 8f44!\n"
     ]
    },
    {
     "name": "stderr",
     "output_type": "stream",
     "text": [
      "2023-11-29 13:48:14,381 prointvar    INFO     PDBx removed existing hydrogens...\n",
      "2023-11-29 13:48:14,384 prointvar    INFO     PDBx reset atom numbers...\n",
      "2023-11-29 13:48:14,535 prointvar    INFO     Parsing PDB atoms from lines...\n"
     ]
    },
    {
     "name": "stdout",
     "output_type": "stream",
     "text": [
      "WARNING!!! -26 residues lacked mapping from PDB to UniProt at arpeggio_lig_cons for 7c8r\n",
      "WARNING!!! -488 residues lacked mapping from PDB to UniProt at lig_cons_split for 7c8r\n",
      "Arpeggio output being processed for 7c8r!\n"
     ]
    },
    {
     "name": "stderr",
     "output_type": "stream",
     "text": [
      "2023-11-29 13:48:14,745 prointvar    INFO     PDBx removed existing hydrogens...\n",
      "2023-11-29 13:48:14,748 prointvar    INFO     PDBx reset atom numbers...\n",
      "2023-11-29 13:48:15,765 prointvar    INFO     Parsing PDB atoms from lines...\n",
      "2023-11-29 13:48:15,977 prointvar    INFO     PDBx removed existing hydrogens...\n",
      "2023-11-29 13:48:15,980 prointvar    INFO     PDBx reset atom numbers...\n",
      "2023-11-29 13:48:17,116 prointvar    INFO     Parsing PDB atoms from lines...\n"
     ]
    },
    {
     "name": "stdout",
     "output_type": "stream",
     "text": [
      "Arpeggio output being processed for 7lkx!\n"
     ]
    },
    {
     "name": "stderr",
     "output_type": "stream",
     "text": [
      "2023-11-29 13:48:17,330 prointvar    INFO     PDBx removed existing hydrogens...\n",
      "2023-11-29 13:48:17,333 prointvar    INFO     PDBx reset atom numbers...\n",
      "2023-11-29 13:48:17,470 prointvar    INFO     Parsing PDB atoms from lines...\n"
     ]
    },
    {
     "name": "stdout",
     "output_type": "stream",
     "text": [
      "WARNING!!! -17 residues lacked mapping from PDB to UniProt at arpeggio_lig_cons for 5r84\n",
      "WARNING!!! -219 residues lacked mapping from PDB to UniProt at lig_cons_split for 5r84\n",
      "Arpeggio output being processed for 5r84!\n"
     ]
    },
    {
     "name": "stderr",
     "output_type": "stream",
     "text": [
      "2023-11-29 13:48:17,688 prointvar    INFO     PDBx removed existing hydrogens...\n",
      "2023-11-29 13:48:17,691 prointvar    INFO     PDBx reset atom numbers...\n",
      "2023-11-29 13:48:18,731 prointvar    INFO     Parsing PDB atoms from lines...\n"
     ]
    },
    {
     "name": "stdout",
     "output_type": "stream",
     "text": [
      "WARNING!!! -21 residues lacked mapping from PDB to UniProt at arpeggio_lig_cons for 7tj0\n",
      "WARNING!!! -346 residues lacked mapping from PDB to UniProt at lig_cons_split for 7tj0\n",
      "Arpeggio output being processed for 7tj0!\n"
     ]
    },
    {
     "name": "stderr",
     "output_type": "stream",
     "text": [
      "2023-11-29 13:48:18,949 prointvar    INFO     PDBx removed existing hydrogens...\n",
      "2023-11-29 13:48:18,952 prointvar    INFO     PDBx reset atom numbers...\n",
      "2023-11-29 13:48:19,090 prointvar    INFO     Parsing PDB atoms from lines...\n"
     ]
    },
    {
     "name": "stdout",
     "output_type": "stream",
     "text": [
      "WARNING!!! -18 residues lacked mapping from PDB to UniProt at arpeggio_lig_cons for 7lcs\n",
      "WARNING!!! -327 residues lacked mapping from PDB to UniProt at lig_cons_split for 7lcs\n",
      "Arpeggio output being processed for 7lcs!\n"
     ]
    },
    {
     "name": "stderr",
     "output_type": "stream",
     "text": [
      "2023-11-29 13:48:19,307 prointvar    INFO     PDBx removed existing hydrogens...\n",
      "2023-11-29 13:48:19,310 prointvar    INFO     PDBx reset atom numbers...\n",
      "2023-11-29 13:48:19,655 prointvar    INFO     Parsing PDB atoms from lines...\n"
     ]
    },
    {
     "name": "stdout",
     "output_type": "stream",
     "text": [
      "Arpeggio processing failed for 8drw_bio.pdb\n"
     ]
    },
    {
     "name": "stderr",
     "output_type": "stream",
     "text": [
      "2023-11-29 13:48:19,872 prointvar    INFO     PDBx removed existing hydrogens...\n",
      "2023-11-29 13:48:19,875 prointvar    INFO     PDBx reset atom numbers...\n",
      "2023-11-29 13:48:20,007 prointvar    INFO     Parsing PDB atoms from lines...\n"
     ]
    },
    {
     "name": "stdout",
     "output_type": "stream",
     "text": [
      "WARNING!!! -16 residues lacked mapping from PDB to UniProt at arpeggio_lig_cons for 5rfg\n",
      "WARNING!!! -171 residues lacked mapping from PDB to UniProt at lig_cons_split for 5rfg\n",
      "Arpeggio output being processed for 5rfg!\n"
     ]
    },
    {
     "name": "stderr",
     "output_type": "stream",
     "text": [
      "2023-11-29 13:48:20,223 prointvar    INFO     PDBx removed existing hydrogens...\n",
      "2023-11-29 13:48:20,226 prointvar    INFO     PDBx reset atom numbers...\n",
      "2023-11-29 13:48:20,401 prointvar    INFO     Parsing PDB atoms from lines...\n"
     ]
    },
    {
     "name": "stdout",
     "output_type": "stream",
     "text": [
      "Arpeggio output being processed for 8e25!\n"
     ]
    },
    {
     "name": "stderr",
     "output_type": "stream",
     "text": [
      "2023-11-29 13:48:20,615 prointvar    INFO     PDBx removed existing hydrogens...\n",
      "2023-11-29 13:48:20,618 prointvar    INFO     PDBx reset atom numbers...\n",
      "2023-11-29 13:48:20,746 prointvar    INFO     Parsing PDB atoms from lines...\n",
      "2023-11-29 13:48:20,856 prointvar    INFO     PDBx removed existing hydrogens...\n",
      "2023-11-29 13:48:20,859 prointvar    INFO     PDBx reset atom numbers...\n"
     ]
    },
    {
     "name": "stdout",
     "output_type": "stream",
     "text": [
      "WARNING!!! -12 residues lacked mapping from PDB to UniProt at arpeggio_lig_cons for 5rfx\n",
      "WARNING!!! -133 residues lacked mapping from PDB to UniProt at lig_cons_split for 5rfx\n",
      "Arpeggio output being processed for 5rfx!\n",
      "No LOIs in 7t70, so skipping!\n"
     ]
    },
    {
     "name": "stderr",
     "output_type": "stream",
     "text": [
      "2023-11-29 13:48:20,964 prointvar    INFO     Parsing PDB atoms from lines...\n"
     ]
    },
    {
     "name": "stdout",
     "output_type": "stream",
     "text": [
      "Arpeggio output being processed for 7p2g!\n",
      "No LOIs in 7pzq, so skipping!\n"
     ]
    },
    {
     "name": "stderr",
     "output_type": "stream",
     "text": [
      "2023-11-29 13:48:21,183 prointvar    INFO     PDBx removed existing hydrogens...\n",
      "2023-11-29 13:48:21,186 prointvar    INFO     PDBx reset atom numbers...\n",
      "2023-11-29 13:48:21,315 prointvar    INFO     Parsing PDB atoms from lines...\n"
     ]
    },
    {
     "name": "stdout",
     "output_type": "stream",
     "text": [
      "WARNING!!! -8 residues lacked mapping from PDB to UniProt at arpeggio_lig_cons for 7amj\n",
      "WARNING!!! -127 residues lacked mapping from PDB to UniProt at lig_cons_split for 7amj\n",
      "Arpeggio output being processed for 7amj!\n"
     ]
    },
    {
     "name": "stderr",
     "output_type": "stream",
     "text": [
      "2023-11-29 13:48:21,530 prointvar    INFO     PDBx removed existing hydrogens...\n",
      "2023-11-29 13:48:21,533 prointvar    INFO     PDBx reset atom numbers...\n",
      "2023-11-29 13:48:21,659 prointvar    INFO     Parsing PDB atoms from lines...\n"
     ]
    },
    {
     "name": "stdout",
     "output_type": "stream",
     "text": [
      "WARNING!!! -15 residues lacked mapping from PDB to UniProt at arpeggio_lig_cons for 5rfy\n",
      "WARNING!!! -146 residues lacked mapping from PDB to UniProt at lig_cons_split for 5rfy\n",
      "Arpeggio output being processed for 5rfy!\n"
     ]
    },
    {
     "name": "stderr",
     "output_type": "stream",
     "text": [
      "2023-11-29 13:48:21,879 prointvar    INFO     PDBx removed existing hydrogens...\n",
      "2023-11-29 13:48:21,882 prointvar    INFO     PDBx reset atom numbers...\n",
      "2023-11-29 13:48:22,904 prointvar    INFO     Parsing PDB atoms from lines...\n",
      "2023-11-29 13:48:23,017 prointvar    INFO     PDBx removed existing hydrogens...\n",
      "2023-11-29 13:48:23,019 prointvar    INFO     PDBx reset atom numbers...\n"
     ]
    },
    {
     "name": "stdout",
     "output_type": "stream",
     "text": [
      "WARNING!!! -7 residues lacked mapping from PDB to UniProt at arpeggio_lig_cons for 5rec\n",
      "WARNING!!! -80 residues lacked mapping from PDB to UniProt at lig_cons_split for 5rec\n",
      "Arpeggio output being processed for 5rec!\n"
     ]
    },
    {
     "name": "stderr",
     "output_type": "stream",
     "text": [
      "2023-11-29 13:48:23,128 prointvar    INFO     Parsing PDB atoms from lines...\n"
     ]
    },
    {
     "name": "stdout",
     "output_type": "stream",
     "text": [
      "Arpeggio output being processed for 7qt9!\n",
      "No LOIs in 7mhp, so skipping!\n"
     ]
    },
    {
     "name": "stderr",
     "output_type": "stream",
     "text": [
      "2023-11-29 13:48:23,317 prointvar    INFO     PDBx removed existing hydrogens...\n",
      "2023-11-29 13:48:23,321 prointvar    INFO     PDBx reset atom numbers...\n",
      "2023-11-29 13:48:23,465 prointvar    INFO     Parsing PDB atoms from lines...\n"
     ]
    },
    {
     "name": "stdout",
     "output_type": "stream",
     "text": [
      "Arpeggio output being processed for 7ca8!\n"
     ]
    },
    {
     "name": "stderr",
     "output_type": "stream",
     "text": [
      "2023-11-29 13:48:23,681 prointvar    INFO     PDBx removed existing hydrogens...\n",
      "2023-11-29 13:48:23,684 prointvar    INFO     PDBx reset atom numbers...\n",
      "2023-11-29 13:48:24,734 prointvar    INFO     Parsing PDB atoms from lines...\n"
     ]
    },
    {
     "name": "stdout",
     "output_type": "stream",
     "text": [
      "WARNING!!! -23 residues lacked mapping from PDB to UniProt at arpeggio_lig_cons for 6y2f\n",
      "WARNING!!! -414 residues lacked mapping from PDB to UniProt at lig_cons_split for 6y2f\n",
      "Arpeggio output being processed for 6y2f!\n",
      "No LOIs in 7baj, so skipping!\n"
     ]
    },
    {
     "name": "stderr",
     "output_type": "stream",
     "text": [
      "2023-11-29 13:48:24,953 prointvar    INFO     PDBx removed existing hydrogens...\n",
      "2023-11-29 13:48:24,955 prointvar    INFO     PDBx reset atom numbers...\n",
      "2023-11-29 13:48:25,121 prointvar    INFO     Parsing PDB atoms from lines...\n"
     ]
    },
    {
     "name": "stdout",
     "output_type": "stream",
     "text": [
      "Arpeggio output being processed for 7en8!\n",
      "No LOIs in 7alh, so skipping!\n"
     ]
    },
    {
     "name": "stderr",
     "output_type": "stream",
     "text": [
      "2023-11-29 13:48:25,338 prointvar    INFO     PDBx removed existing hydrogens...\n",
      "2023-11-29 13:48:25,341 prointvar    INFO     PDBx reset atom numbers...\n",
      "2023-11-29 13:48:25,481 prointvar    INFO     Parsing PDB atoms from lines...\n"
     ]
    },
    {
     "name": "stdout",
     "output_type": "stream",
     "text": [
      "WARNING!!! -17 residues lacked mapping from PDB to UniProt at arpeggio_lig_cons for 7b2j\n",
      "WARNING!!! -248 residues lacked mapping from PDB to UniProt at lig_cons_split for 7b2j\n",
      "Arpeggio output being processed for 7b2j!\n"
     ]
    },
    {
     "name": "stderr",
     "output_type": "stream",
     "text": [
      "2023-11-29 13:48:25,692 prointvar    INFO     PDBx removed existing hydrogens...\n",
      "2023-11-29 13:48:25,694 prointvar    INFO     PDBx reset atom numbers...\n",
      "2023-11-29 13:48:26,860 prointvar    INFO     Parsing PDB atoms from lines...\n",
      "2023-11-29 13:48:27,067 prointvar    INFO     PDBx removed existing hydrogens...\n",
      "2023-11-29 13:48:27,069 prointvar    INFO     PDBx reset atom numbers...\n",
      "2023-11-29 13:48:28,412 prointvar    INFO     Parsing PDB atoms from lines...\n"
     ]
    },
    {
     "name": "stdout",
     "output_type": "stream",
     "text": [
      "Arpeggio output being processed for 7t49!\n"
     ]
    },
    {
     "name": "stderr",
     "output_type": "stream",
     "text": [
      "2023-11-29 13:48:28,628 prointvar    INFO     PDBx removed existing hydrogens...\n",
      "2023-11-29 13:48:28,630 prointvar    INFO     PDBx reset atom numbers...\n",
      "2023-11-29 13:48:28,767 prointvar    INFO     Parsing PDB atoms from lines...\n"
     ]
    },
    {
     "name": "stdout",
     "output_type": "stream",
     "text": [
      "WARNING!!! -18 residues lacked mapping from PDB to UniProt at arpeggio_lig_cons for 5rgz\n",
      "WARNING!!! -282 residues lacked mapping from PDB to UniProt at lig_cons_split for 5rgz\n",
      "Arpeggio output being processed for 5rgz!\n"
     ]
    },
    {
     "name": "stderr",
     "output_type": "stream",
     "text": [
      "2023-11-29 13:48:28,973 prointvar    INFO     PDBx removed existing hydrogens...\n",
      "2023-11-29 13:48:28,975 prointvar    INFO     PDBx reset atom numbers...\n",
      "2023-11-29 13:48:29,103 prointvar    INFO     Parsing PDB atoms from lines...\n"
     ]
    },
    {
     "name": "stdout",
     "output_type": "stream",
     "text": [
      "WARNING!!! -15 residues lacked mapping from PDB to UniProt at arpeggio_lig_cons for 7dpp\n",
      "WARNING!!! -251 residues lacked mapping from PDB to UniProt at lig_cons_split for 7dpp\n",
      "Arpeggio output being processed for 7dpp!\n"
     ]
    },
    {
     "name": "stderr",
     "output_type": "stream",
     "text": [
      "2023-11-29 13:48:29,310 prointvar    INFO     PDBx removed existing hydrogens...\n",
      "2023-11-29 13:48:29,312 prointvar    INFO     PDBx reset atom numbers...\n",
      "2023-11-29 13:48:29,437 prointvar    INFO     Parsing PDB atoms from lines...\n"
     ]
    },
    {
     "name": "stdout",
     "output_type": "stream",
     "text": [
      "WARNING!!! -4 residues lacked mapping from PDB to UniProt at arpeggio_lig_cons for 7bal\n",
      "WARNING!!! -12 residues lacked mapping from PDB to UniProt at lig_cons_split for 7bal\n",
      "Arpeggio output being processed for 7bal!\n",
      "No LOIs in 7mhk, so skipping!\n"
     ]
    },
    {
     "name": "stderr",
     "output_type": "stream",
     "text": [
      "2023-11-29 13:48:29,657 prointvar    INFO     PDBx removed existing hydrogens...\n",
      "2023-11-29 13:48:29,659 prointvar    INFO     PDBx reset atom numbers...\n",
      "2023-11-29 13:48:29,809 prointvar    INFO     Parsing PDB atoms from lines...\n"
     ]
    },
    {
     "name": "stdout",
     "output_type": "stream",
     "text": [
      "WARNING!!! -23 residues lacked mapping from PDB to UniProt at arpeggio_lig_cons for 7jq0\n",
      "WARNING!!! -411 residues lacked mapping from PDB to UniProt at lig_cons_split for 7jq0\n",
      "Arpeggio output being processed for 7jq0!\n",
      "No LOIs in 7vjx, so skipping!\n"
     ]
    },
    {
     "name": "stderr",
     "output_type": "stream",
     "text": [
      "2023-11-29 13:48:30,026 prointvar    INFO     PDBx removed existing hydrogens...\n",
      "2023-11-29 13:48:30,028 prointvar    INFO     PDBx reset atom numbers...\n",
      "2023-11-29 13:48:30,169 prointvar    INFO     Parsing PDB atoms from lines...\n"
     ]
    },
    {
     "name": "stdout",
     "output_type": "stream",
     "text": [
      "WARNING!!! -24 residues lacked mapping from PDB to UniProt at arpeggio_lig_cons for 5rl0\n",
      "WARNING!!! -368 residues lacked mapping from PDB to UniProt at lig_cons_split for 5rl0\n",
      "Arpeggio output being processed for 5rl0!\n"
     ]
    },
    {
     "name": "stderr",
     "output_type": "stream",
     "text": [
      "2023-11-29 13:48:30,386 prointvar    INFO     PDBx removed existing hydrogens...\n",
      "2023-11-29 13:48:30,389 prointvar    INFO     PDBx reset atom numbers...\n",
      "2023-11-29 13:48:30,513 prointvar    INFO     Parsing PDB atoms from lines...\n"
     ]
    },
    {
     "name": "stdout",
     "output_type": "stream",
     "text": [
      "WARNING!!! -4 residues lacked mapping from PDB to UniProt at arpeggio_lig_cons for 5rea\n",
      "WARNING!!! -104 residues lacked mapping from PDB to UniProt at lig_cons_split for 5rea\n",
      "Arpeggio output being processed for 5rea!\n"
     ]
    },
    {
     "name": "stderr",
     "output_type": "stream",
     "text": [
      "2023-11-29 13:48:30,727 prointvar    INFO     PDBx removed existing hydrogens...\n",
      "2023-11-29 13:48:30,730 prointvar    INFO     PDBx reset atom numbers...\n",
      "2023-11-29 13:48:30,873 prointvar    INFO     Parsing PDB atoms from lines...\n"
     ]
    },
    {
     "name": "stdout",
     "output_type": "stream",
     "text": [
      "Arpeggio output being processed for 7lfe!\n"
     ]
    },
    {
     "name": "stderr",
     "output_type": "stream",
     "text": [
      "2023-11-29 13:48:31,089 prointvar    INFO     PDBx removed existing hydrogens...\n",
      "2023-11-29 13:48:31,091 prointvar    INFO     PDBx reset atom numbers...\n",
      "2023-11-29 13:48:31,179 prointvar    INFO     Parsing PDB atoms from lines...\n",
      "2023-11-29 13:48:31,393 prointvar    INFO     PDBx removed existing hydrogens...\n",
      "2023-11-29 13:48:31,396 prointvar    INFO     PDBx reset atom numbers...\n",
      "2023-11-29 13:48:32,535 prointvar    INFO     Parsing PDB atoms from lines...\n",
      "2023-11-29 13:48:32,749 prointvar    INFO     PDBx removed existing hydrogens...\n",
      "2023-11-29 13:48:32,752 prointvar    INFO     PDBx reset atom numbers...\n",
      "2023-11-29 13:48:33,928 prointvar    INFO     Parsing PDB atoms from lines...\n"
     ]
    },
    {
     "name": "stdout",
     "output_type": "stream",
     "text": [
      "WARNING!!! -35 residues lacked mapping from PDB to UniProt at arpeggio_lig_cons for 7bqy\n",
      "WARNING!!! -414 residues lacked mapping from PDB to UniProt at lig_cons_split for 7bqy\n",
      "Arpeggio output being processed for 7bqy!\n"
     ]
    },
    {
     "name": "stderr",
     "output_type": "stream",
     "text": [
      "2023-11-29 13:48:34,145 prointvar    INFO     PDBx removed existing hydrogens...\n",
      "2023-11-29 13:48:34,147 prointvar    INFO     PDBx reset atom numbers...\n",
      "2023-11-29 13:48:34,283 prointvar    INFO     Parsing PDB atoms from lines...\n"
     ]
    },
    {
     "name": "stdout",
     "output_type": "stream",
     "text": [
      "WARNING!!! -36 residues lacked mapping from PDB to UniProt at arpeggio_lig_cons for 7nbt\n",
      "WARNING!!! -517 residues lacked mapping from PDB to UniProt at lig_cons_split for 7nbt\n",
      "Arpeggio output being processed for 7nbt!\n",
      "No LOIs in 7mb8, so skipping!\n"
     ]
    },
    {
     "name": "stderr",
     "output_type": "stream",
     "text": [
      "2023-11-29 13:48:34,495 prointvar    INFO     PDBx removed existing hydrogens...\n",
      "2023-11-29 13:48:34,497 prointvar    INFO     PDBx reset atom numbers...\n",
      "2023-11-29 13:48:35,642 prointvar    INFO     Parsing PDB atoms from lines...\n",
      "2023-11-29 13:48:35,852 prointvar    INFO     PDBx removed existing hydrogens...\n",
      "2023-11-29 13:48:35,855 prointvar    INFO     PDBx reset atom numbers...\n",
      "2023-11-29 13:48:40,274 prointvar    INFO     Parsing PDB atoms from lines...\n"
     ]
    },
    {
     "name": "stdout",
     "output_type": "stream",
     "text": [
      "Arpeggio output being processed for 7tq5!\n",
      "No LOIs in 7ar6, so skipping!\n"
     ]
    },
    {
     "name": "stderr",
     "output_type": "stream",
     "text": [
      "2023-11-29 13:48:40,487 prointvar    INFO     PDBx removed existing hydrogens...\n",
      "2023-11-29 13:48:40,489 prointvar    INFO     PDBx reset atom numbers...\n",
      "2023-11-29 13:48:41,651 prointvar    INFO     Parsing PDB atoms from lines...\n"
     ]
    },
    {
     "name": "stdout",
     "output_type": "stream",
     "text": [
      "WARNING!!! -12 residues lacked mapping from PDB to UniProt at arpeggio_lig_cons for 5rej\n",
      "WARNING!!! -120 residues lacked mapping from PDB to UniProt at lig_cons_split for 5rej\n",
      "Arpeggio output being processed for 5rej!\n",
      "No LOIs in 7e5x, so skipping!\n"
     ]
    },
    {
     "name": "stderr",
     "output_type": "stream",
     "text": [
      "2023-11-29 13:48:41,871 prointvar    INFO     PDBx removed existing hydrogens...\n",
      "2023-11-29 13:48:41,873 prointvar    INFO     PDBx reset atom numbers...\n",
      "2023-11-29 13:48:42,046 prointvar    INFO     Parsing PDB atoms from lines...\n"
     ]
    },
    {
     "name": "stdout",
     "output_type": "stream",
     "text": [
      "Arpeggio output being processed for 7rvp!\n"
     ]
    },
    {
     "name": "stderr",
     "output_type": "stream",
     "text": [
      "2023-11-29 13:48:42,265 prointvar    INFO     PDBx removed existing hydrogens...\n",
      "2023-11-29 13:48:42,267 prointvar    INFO     PDBx reset atom numbers...\n",
      "2023-11-29 13:48:42,408 prointvar    INFO     Parsing PDB atoms from lines...\n"
     ]
    },
    {
     "name": "stdout",
     "output_type": "stream",
     "text": [
      "WARNING!!! -18 residues lacked mapping from PDB to UniProt at arpeggio_lig_cons for 7aeh\n",
      "WARNING!!! -321 residues lacked mapping from PDB to UniProt at lig_cons_split for 7aeh\n",
      "Arpeggio output being processed for 7aeh!\n"
     ]
    },
    {
     "name": "stderr",
     "output_type": "stream",
     "text": [
      "2023-11-29 13:48:42,620 prointvar    INFO     PDBx removed existing hydrogens...\n",
      "2023-11-29 13:48:42,622 prointvar    INFO     PDBx reset atom numbers...\n",
      "2023-11-29 13:48:45,654 prointvar    INFO     Parsing PDB atoms from lines...\n",
      "2023-11-29 13:48:45,763 prointvar    INFO     PDBx removed existing hydrogens...\n",
      "2023-11-29 13:48:45,765 prointvar    INFO     PDBx reset atom numbers...\n",
      "2023-11-29 13:48:45,821 prointvar    INFO     Parsing PDB atoms from lines...\n"
     ]
    },
    {
     "name": "stdout",
     "output_type": "stream",
     "text": [
      "Arpeggio output being processed for 7vlp!\n"
     ]
    },
    {
     "name": "stderr",
     "output_type": "stream",
     "text": [
      "2023-11-29 13:48:45,931 prointvar    INFO     PDBx removed existing hydrogens...\n",
      "2023-11-29 13:48:45,933 prointvar    INFO     PDBx reset atom numbers...\n",
      "2023-11-29 13:48:47,007 prointvar    INFO     Parsing PDB atoms from lines...\n",
      "2023-11-29 13:48:47,115 prointvar    INFO     PDBx removed existing hydrogens...\n",
      "2023-11-29 13:48:47,117 prointvar    INFO     PDBx reset atom numbers...\n",
      "2023-11-29 13:48:48,235 prointvar    INFO     Parsing PDB atoms from lines...\n"
     ]
    },
    {
     "name": "stdout",
     "output_type": "stream",
     "text": [
      "WARNING!!! -4 residues lacked mapping from PDB to UniProt at arpeggio_lig_cons for 7c8b\n",
      "WARNING!!! -74 residues lacked mapping from PDB to UniProt at lig_cons_split for 7c8b\n",
      "Arpeggio output being processed for 7c8b!\n"
     ]
    },
    {
     "name": "stderr",
     "output_type": "stream",
     "text": [
      "2023-11-29 13:48:48,450 prointvar    INFO     PDBx removed existing hydrogens...\n",
      "2023-11-29 13:48:48,452 prointvar    INFO     PDBx reset atom numbers...\n",
      "2023-11-29 13:48:48,588 prointvar    INFO     Parsing PDB atoms from lines...\n"
     ]
    },
    {
     "name": "stdout",
     "output_type": "stream",
     "text": [
      "WARNING!!! -23 residues lacked mapping from PDB to UniProt at arpeggio_lig_cons for 7tuu\n",
      "WARNING!!! -241 residues lacked mapping from PDB to UniProt at lig_cons_split for 7tuu\n",
      "Arpeggio output being processed for 7tuu!\n"
     ]
    },
    {
     "name": "stderr",
     "output_type": "stream",
     "text": [
      "2023-11-29 13:48:48,803 prointvar    INFO     PDBx removed existing hydrogens...\n",
      "2023-11-29 13:48:48,805 prointvar    INFO     PDBx reset atom numbers...\n",
      "2023-11-29 13:48:48,938 prointvar    INFO     Parsing PDB atoms from lines...\n"
     ]
    },
    {
     "name": "stdout",
     "output_type": "stream",
     "text": [
      "WARNING!!! -18 residues lacked mapping from PDB to UniProt at arpeggio_lig_cons for 5rh2\n",
      "WARNING!!! -252 residues lacked mapping from PDB to UniProt at lig_cons_split for 5rh2\n",
      "Arpeggio output being processed for 5rh2!\n"
     ]
    },
    {
     "name": "stderr",
     "output_type": "stream",
     "text": [
      "2023-11-29 13:48:49,150 prointvar    INFO     PDBx removed existing hydrogens...\n",
      "2023-11-29 13:48:49,152 prointvar    INFO     PDBx reset atom numbers...\n",
      "2023-11-29 13:48:50,320 prointvar    INFO     Parsing PDB atoms from lines...\n"
     ]
    },
    {
     "name": "stdout",
     "output_type": "stream",
     "text": [
      "WARNING!!! -11 residues lacked mapping from PDB to UniProt at arpeggio_lig_cons for 7kyu\n",
      "WARNING!!! -158 residues lacked mapping from PDB to UniProt at lig_cons_split for 7kyu\n",
      "Arpeggio output being processed for 7kyu!\n",
      "No LOIs in 8ey2, so skipping!\n"
     ]
    },
    {
     "name": "stderr",
     "output_type": "stream",
     "text": [
      "2023-11-29 13:48:50,535 prointvar    INFO     PDBx removed existing hydrogens...\n",
      "2023-11-29 13:48:50,537 prointvar    INFO     PDBx reset atom numbers...\n",
      "2023-11-29 13:48:51,634 prointvar    INFO     Parsing PDB atoms from lines...\n",
      "2023-11-29 13:48:51,851 prointvar    INFO     PDBx removed existing hydrogens...\n",
      "2023-11-29 13:48:51,854 prointvar    INFO     PDBx reset atom numbers...\n",
      "2023-11-29 13:48:52,952 prointvar    INFO     Parsing PDB atoms from lines...\n",
      "2023-11-29 13:48:53,170 prointvar    INFO     PDBx removed existing hydrogens...\n",
      "2023-11-29 13:48:53,172 prointvar    INFO     PDBx reset atom numbers...\n",
      "2023-11-29 13:48:54,333 prointvar    INFO     Parsing PDB atoms from lines...\n"
     ]
    },
    {
     "name": "stdout",
     "output_type": "stream",
     "text": [
      "WARNING!!! -5 residues lacked mapping from PDB to UniProt at arpeggio_lig_cons for 6xbg\n",
      "WARNING!!! -115 residues lacked mapping from PDB to UniProt at lig_cons_split for 6xbg\n",
      "Arpeggio output being processed for 6xbg!\n",
      "No LOIs in 7vah, so skipping!\n",
      "No LOIs in 6y84, so skipping!\n"
     ]
    },
    {
     "name": "stderr",
     "output_type": "stream",
     "text": [
      "2023-11-29 13:48:54,550 prointvar    INFO     PDBx removed existing hydrogens...\n",
      "2023-11-29 13:48:54,552 prointvar    INFO     PDBx reset atom numbers...\n",
      "2023-11-29 13:48:54,685 prointvar    INFO     Parsing PDB atoms from lines...\n"
     ]
    },
    {
     "name": "stdout",
     "output_type": "stream",
     "text": [
      "WARNING!!! -15 residues lacked mapping from PDB to UniProt at arpeggio_lig_cons for 7wym\n",
      "WARNING!!! -178 residues lacked mapping from PDB to UniProt at lig_cons_split for 7wym\n",
      "Arpeggio output being processed for 7wym!\n"
     ]
    },
    {
     "name": "stderr",
     "output_type": "stream",
     "text": [
      "2023-11-29 13:48:54,902 prointvar    INFO     PDBx removed existing hydrogens...\n",
      "2023-11-29 13:48:54,904 prointvar    INFO     PDBx reset atom numbers...\n",
      "2023-11-29 13:48:55,032 prointvar    INFO     Parsing PDB atoms from lines...\n"
     ]
    },
    {
     "name": "stdout",
     "output_type": "stream",
     "text": [
      "WARNING!!! -12 residues lacked mapping from PDB to UniProt at arpeggio_lig_cons for 5rf3\n",
      "WARNING!!! -122 residues lacked mapping from PDB to UniProt at lig_cons_split for 5rf3\n",
      "Arpeggio output being processed for 5rf3!\n"
     ]
    },
    {
     "name": "stderr",
     "output_type": "stream",
     "text": [
      "2023-11-29 13:48:55,247 prointvar    INFO     PDBx removed existing hydrogens...\n",
      "2023-11-29 13:48:55,250 prointvar    INFO     PDBx reset atom numbers...\n",
      "2023-11-29 13:48:55,377 prointvar    INFO     Parsing PDB atoms from lines...\n"
     ]
    },
    {
     "name": "stdout",
     "output_type": "stream",
     "text": [
      "WARNING!!! -7 residues lacked mapping from PDB to UniProt at arpeggio_lig_cons for 5red\n",
      "WARNING!!! -130 residues lacked mapping from PDB to UniProt at lig_cons_split for 5red\n",
      "Arpeggio output being processed for 5red!\n"
     ]
    },
    {
     "name": "stderr",
     "output_type": "stream",
     "text": [
      "2023-11-29 13:48:55,591 prointvar    INFO     PDBx removed existing hydrogens...\n",
      "2023-11-29 13:48:55,593 prointvar    INFO     PDBx reset atom numbers...\n",
      "2023-11-29 13:48:55,722 prointvar    INFO     Parsing PDB atoms from lines...\n"
     ]
    },
    {
     "name": "stdout",
     "output_type": "stream",
     "text": [
      "WARNING!!! -15 residues lacked mapping from PDB to UniProt at arpeggio_lig_cons for 5rfo\n",
      "WARNING!!! -131 residues lacked mapping from PDB to UniProt at lig_cons_split for 5rfo\n",
      "Arpeggio output being processed for 5rfo!\n"
     ]
    },
    {
     "name": "stderr",
     "output_type": "stream",
     "text": [
      "2023-11-29 13:48:55,940 prointvar    INFO     PDBx removed existing hydrogens...\n",
      "2023-11-29 13:48:55,942 prointvar    INFO     PDBx reset atom numbers...\n",
      "2023-11-29 13:48:56,078 prointvar    INFO     Parsing PDB atoms from lines...\n"
     ]
    },
    {
     "name": "stdout",
     "output_type": "stream",
     "text": [
      "WARNING!!! -46 residues lacked mapping from PDB to UniProt at arpeggio_lig_cons for 7nbs\n",
      "WARNING!!! -900 residues lacked mapping from PDB to UniProt at lig_cons_split for 7nbs\n",
      "Arpeggio output being processed for 7nbs!\n",
      "No LOIs in 7bro, so skipping!\n"
     ]
    },
    {
     "name": "stderr",
     "output_type": "stream",
     "text": [
      "2023-11-29 13:48:56,298 prointvar    INFO     PDBx removed existing hydrogens...\n",
      "2023-11-29 13:48:56,300 prointvar    INFO     PDBx reset atom numbers...\n",
      "2023-11-29 13:48:56,436 prointvar    INFO     Parsing PDB atoms from lines...\n"
     ]
    },
    {
     "name": "stdout",
     "output_type": "stream",
     "text": [
      "WARNING!!! -20 residues lacked mapping from PDB to UniProt at arpeggio_lig_cons for 7rnh\n",
      "WARNING!!! -277 residues lacked mapping from PDB to UniProt at lig_cons_split for 7rnh\n",
      "Arpeggio output being processed for 7rnh!\n"
     ]
    },
    {
     "name": "stderr",
     "output_type": "stream",
     "text": [
      "2023-11-29 13:48:56,653 prointvar    INFO     PDBx removed existing hydrogens...\n",
      "2023-11-29 13:48:56,656 prointvar    INFO     PDBx reset atom numbers...\n",
      "2023-11-29 13:48:57,846 prointvar    INFO     Parsing PDB atoms from lines...\n"
     ]
    },
    {
     "name": "stdout",
     "output_type": "stream",
     "text": [
      "Arpeggio output being processed for 7b3e!\n"
     ]
    },
    {
     "name": "stderr",
     "output_type": "stream",
     "text": [
      "2023-11-29 13:48:58,059 prointvar    INFO     PDBx removed existing hydrogens...\n",
      "2023-11-29 13:48:58,061 prointvar    INFO     PDBx reset atom numbers...\n",
      "2023-11-29 13:48:58,195 prointvar    INFO     Parsing PDB atoms from lines...\n"
     ]
    },
    {
     "name": "stdout",
     "output_type": "stream",
     "text": [
      "WARNING!!! -50 residues lacked mapping from PDB to UniProt at arpeggio_lig_cons for 7nbr\n",
      "WARNING!!! -686 residues lacked mapping from PDB to UniProt at lig_cons_split for 7nbr\n",
      "Arpeggio output being processed for 7nbr!\n"
     ]
    },
    {
     "name": "stderr",
     "output_type": "stream",
     "text": [
      "2023-11-29 13:48:58,411 prointvar    INFO     PDBx removed existing hydrogens...\n",
      "2023-11-29 13:48:58,414 prointvar    INFO     PDBx reset atom numbers...\n",
      "2023-11-29 13:49:02,464 prointvar    INFO     Parsing PDB atoms from lines...\n"
     ]
    },
    {
     "name": "stdout",
     "output_type": "stream",
     "text": [
      "Arpeggio output being processed for 7zqv!\n"
     ]
    },
    {
     "name": "stderr",
     "output_type": "stream",
     "text": [
      "2023-11-29 13:49:02,679 prointvar    INFO     PDBx removed existing hydrogens...\n",
      "2023-11-29 13:49:02,681 prointvar    INFO     PDBx reset atom numbers...\n",
      "2023-11-29 13:49:03,806 prointvar    INFO     Parsing PDB atoms from lines...\n"
     ]
    },
    {
     "name": "stdout",
     "output_type": "stream",
     "text": [
      "WARNING!!! -14 residues lacked mapping from PDB to UniProt at arpeggio_lig_cons for 5rex\n",
      "WARNING!!! -201 residues lacked mapping from PDB to UniProt at lig_cons_split for 5rex\n",
      "Arpeggio output being processed for 5rex!\n"
     ]
    },
    {
     "name": "stderr",
     "output_type": "stream",
     "text": [
      "2023-11-29 13:49:04,025 prointvar    INFO     PDBx removed existing hydrogens...\n",
      "2023-11-29 13:49:04,027 prointvar    INFO     PDBx reset atom numbers...\n",
      "2023-11-29 13:49:05,114 prointvar    INFO     Parsing PDB atoms from lines...\n",
      "2023-11-29 13:49:05,332 prointvar    INFO     PDBx removed existing hydrogens...\n",
      "2023-11-29 13:49:05,335 prointvar    INFO     PDBx reset atom numbers...\n",
      "2023-11-29 13:49:06,457 prointvar    INFO     Parsing PDB atoms from lines...\n"
     ]
    },
    {
     "name": "stdout",
     "output_type": "stream",
     "text": [
      "WARNING!!! -29 residues lacked mapping from PDB to UniProt at arpeggio_lig_cons for 7a1u\n",
      "WARNING!!! -291 residues lacked mapping from PDB to UniProt at lig_cons_split for 7a1u\n",
      "Arpeggio output being processed for 7a1u!\n",
      "No LOIs in 7mbg, so skipping!\n"
     ]
    },
    {
     "name": "stderr",
     "output_type": "stream",
     "text": [
      "2023-11-29 13:49:06,675 prointvar    INFO     PDBx removed existing hydrogens...\n",
      "2023-11-29 13:49:06,678 prointvar    INFO     PDBx reset atom numbers...\n",
      "2023-11-29 13:49:06,819 prointvar    INFO     Parsing PDB atoms from lines...\n"
     ]
    },
    {
     "name": "stdout",
     "output_type": "stream",
     "text": [
      "WARNING!!! -22 residues lacked mapping from PDB to UniProt at arpeggio_lig_cons for 7d3i\n",
      "WARNING!!! -352 residues lacked mapping from PDB to UniProt at lig_cons_split for 7d3i\n",
      "Arpeggio output being processed for 7d3i!\n"
     ]
    },
    {
     "name": "stderr",
     "output_type": "stream",
     "text": [
      "2023-11-29 13:49:07,035 prointvar    INFO     PDBx removed existing hydrogens...\n",
      "2023-11-29 13:49:07,037 prointvar    INFO     PDBx reset atom numbers...\n",
      "2023-11-29 13:49:07,175 prointvar    INFO     Parsing PDB atoms from lines...\n"
     ]
    },
    {
     "name": "stdout",
     "output_type": "stream",
     "text": [
      "WARNING!!! -18 residues lacked mapping from PDB to UniProt at arpeggio_lig_cons for 7z59\n",
      "WARNING!!! -311 residues lacked mapping from PDB to UniProt at lig_cons_split for 7z59\n",
      "Arpeggio output being processed for 7z59!\n",
      "No LOIs in 7jun, so skipping!\n"
     ]
    },
    {
     "name": "stderr",
     "output_type": "stream",
     "text": [
      "2023-11-29 13:49:07,390 prointvar    INFO     PDBx removed existing hydrogens...\n",
      "2023-11-29 13:49:07,392 prointvar    INFO     PDBx reset atom numbers...\n",
      "2023-11-29 13:49:07,525 prointvar    INFO     Parsing PDB atoms from lines...\n",
      "2023-11-29 13:49:07,635 prointvar    INFO     PDBx removed existing hydrogens...\n",
      "2023-11-29 13:49:07,637 prointvar    INFO     PDBx reset atom numbers...\n",
      "2023-11-29 13:49:07,694 prointvar    INFO     Parsing PDB atoms from lines...\n"
     ]
    },
    {
     "name": "stdout",
     "output_type": "stream",
     "text": [
      "WARNING!!! -12 residues lacked mapping from PDB to UniProt at arpeggio_lig_cons for 5rfa\n",
      "WARNING!!! -258 residues lacked mapping from PDB to UniProt at lig_cons_split for 5rfa\n",
      "Arpeggio output being processed for 5rfa!\n",
      "No LOIs in 7tb2, so skipping!\n"
     ]
    },
    {
     "name": "stderr",
     "output_type": "stream",
     "text": [
      "2023-11-29 13:49:07,805 prointvar    INFO     PDBx removed existing hydrogens...\n",
      "2023-11-29 13:49:07,807 prointvar    INFO     PDBx reset atom numbers...\n",
      "2023-11-29 13:49:08,881 prointvar    INFO     Parsing PDB atoms from lines...\n",
      "2023-11-29 13:49:08,991 prointvar    INFO     PDBx removed existing hydrogens...\n",
      "2023-11-29 13:49:08,993 prointvar    INFO     PDBx reset atom numbers...\n",
      "2023-11-29 13:49:10,077 prointvar    INFO     Parsing PDB atoms from lines...\n"
     ]
    },
    {
     "name": "stdout",
     "output_type": "stream",
     "text": [
      "WARNING!!! -5 residues lacked mapping from PDB to UniProt at arpeggio_lig_cons for 7cut\n",
      "WARNING!!! -76 residues lacked mapping from PDB to UniProt at lig_cons_split for 7cut\n",
      "Arpeggio output being processed for 7cut!\n"
     ]
    },
    {
     "name": "stderr",
     "output_type": "stream",
     "text": [
      "2023-11-29 13:49:10,291 prointvar    INFO     PDBx removed existing hydrogens...\n",
      "2023-11-29 13:49:10,294 prointvar    INFO     PDBx reset atom numbers...\n",
      "2023-11-29 13:49:10,437 prointvar    INFO     Parsing PDB atoms from lines...\n"
     ]
    },
    {
     "name": "stdout",
     "output_type": "stream",
     "text": [
      "Arpeggio output being processed for 7kvr!\n"
     ]
    },
    {
     "name": "stderr",
     "output_type": "stream",
     "text": [
      "2023-11-29 13:49:10,644 prointvar    INFO     PDBx removed existing hydrogens...\n",
      "2023-11-29 13:49:10,646 prointvar    INFO     PDBx reset atom numbers...\n",
      "2023-11-29 13:49:10,729 prointvar    INFO     Parsing PDB atoms from lines...\n"
     ]
    },
    {
     "name": "stdout",
     "output_type": "stream",
     "text": [
      "Arpeggio processing failed for 7lzv_bio.pdb\n"
     ]
    },
    {
     "name": "stderr",
     "output_type": "stream",
     "text": [
      "2023-11-29 13:49:10,942 prointvar    INFO     PDBx removed existing hydrogens...\n",
      "2023-11-29 13:49:10,944 prointvar    INFO     PDBx reset atom numbers...\n",
      "2023-11-29 13:49:11,100 prointvar    INFO     Parsing PDB atoms from lines...\n"
     ]
    },
    {
     "name": "stdout",
     "output_type": "stream",
     "text": [
      "Arpeggio output being processed for 7m8p!\n",
      "No LOIs in 7dav, so skipping!\n"
     ]
    },
    {
     "name": "stderr",
     "output_type": "stream",
     "text": [
      "2023-11-29 13:49:11,311 prointvar    INFO     PDBx removed existing hydrogens...\n",
      "2023-11-29 13:49:11,313 prointvar    INFO     PDBx reset atom numbers...\n",
      "2023-11-29 13:49:11,902 prointvar    INFO     Parsing PDB atoms from lines...\n"
     ]
    },
    {
     "name": "stdout",
     "output_type": "stream",
     "text": [
      "Arpeggio output being processed for 7s74!\n",
      "No LOIs in 7jvz, so skipping!\n"
     ]
    },
    {
     "name": "stderr",
     "output_type": "stream",
     "text": [
      "2023-11-29 13:49:12,110 prointvar    INFO     PDBx removed existing hydrogens...\n",
      "2023-11-29 13:49:12,112 prointvar    INFO     PDBx reset atom numbers...\n",
      "2023-11-29 13:49:13,179 prointvar    INFO     Parsing PDB atoms from lines...\n",
      "2023-11-29 13:49:13,384 prointvar    INFO     PDBx removed existing hydrogens...\n",
      "2023-11-29 13:49:13,386 prointvar    INFO     PDBx reset atom numbers...\n",
      "2023-11-29 13:49:14,509 prointvar    INFO     Parsing PDB atoms from lines...\n"
     ]
    },
    {
     "name": "stdout",
     "output_type": "stream",
     "text": [
      "WARNING!!! -43 residues lacked mapping from PDB to UniProt at arpeggio_lig_cons for 7lzy\n",
      "WARNING!!! -727 residues lacked mapping from PDB to UniProt at lig_cons_split for 7lzy\n",
      "Arpeggio output being processed for 7lzy!\n",
      "No LOIs in 7uu8, so skipping!\n"
     ]
    },
    {
     "name": "stderr",
     "output_type": "stream",
     "text": [
      "2023-11-29 13:49:14,723 prointvar    INFO     PDBx removed existing hydrogens...\n",
      "2023-11-29 13:49:14,725 prointvar    INFO     PDBx reset atom numbers...\n",
      "2023-11-29 13:49:14,875 prointvar    INFO     Parsing PDB atoms from lines...\n"
     ]
    },
    {
     "name": "stdout",
     "output_type": "stream",
     "text": [
      "WARNING!!! -27 residues lacked mapping from PDB to UniProt at arpeggio_lig_cons for 7e19\n",
      "WARNING!!! -467 residues lacked mapping from PDB to UniProt at lig_cons_split for 7e19\n",
      "Arpeggio output being processed for 7e19!\n",
      "No LOIs in 7uu6, so skipping!\n"
     ]
    },
    {
     "name": "stderr",
     "output_type": "stream",
     "text": [
      "2023-11-29 13:49:15,090 prointvar    INFO     PDBx removed existing hydrogens...\n",
      "2023-11-29 13:49:15,092 prointvar    INFO     PDBx reset atom numbers...\n",
      "2023-11-29 13:49:15,238 prointvar    INFO     Parsing PDB atoms from lines...\n"
     ]
    },
    {
     "name": "stdout",
     "output_type": "stream",
     "text": [
      "WARNING!!! -24 residues lacked mapping from PDB to UniProt at arpeggio_lig_cons for 5rl1\n",
      "WARNING!!! -350 residues lacked mapping from PDB to UniProt at lig_cons_split for 5rl1\n",
      "Arpeggio output being processed for 5rl1!\n"
     ]
    },
    {
     "name": "stderr",
     "output_type": "stream",
     "text": [
      "2023-11-29 13:49:15,448 prointvar    INFO     PDBx removed existing hydrogens...\n",
      "2023-11-29 13:49:15,451 prointvar    INFO     PDBx reset atom numbers...\n",
      "2023-11-29 13:49:16,542 prointvar    INFO     Parsing PDB atoms from lines...\n",
      "2023-11-29 13:49:16,750 prointvar    INFO     PDBx removed existing hydrogens...\n",
      "2023-11-29 13:49:16,753 prointvar    INFO     PDBx reset atom numbers...\n",
      "2023-11-29 13:49:18,006 prointvar    INFO     Parsing PDB atoms from lines...\n"
     ]
    },
    {
     "name": "stdout",
     "output_type": "stream",
     "text": [
      "Arpeggio output being processed for 7t46!\n"
     ]
    },
    {
     "name": "stderr",
     "output_type": "stream",
     "text": [
      "2023-11-29 13:49:18,223 prointvar    INFO     PDBx removed existing hydrogens...\n",
      "2023-11-29 13:49:18,226 prointvar    INFO     PDBx reset atom numbers...\n",
      "2023-11-29 13:49:18,362 prointvar    INFO     Parsing PDB atoms from lines...\n"
     ]
    },
    {
     "name": "stdout",
     "output_type": "stream",
     "text": [
      "WARNING!!! -21 residues lacked mapping from PDB to UniProt at arpeggio_lig_cons for 7rmb\n",
      "WARNING!!! -302 residues lacked mapping from PDB to UniProt at lig_cons_split for 7rmb\n",
      "Arpeggio output being processed for 7rmb!\n"
     ]
    },
    {
     "name": "stderr",
     "output_type": "stream",
     "text": [
      "2023-11-29 13:49:18,579 prointvar    INFO     PDBx removed existing hydrogens...\n",
      "2023-11-29 13:49:18,581 prointvar    INFO     PDBx reset atom numbers...\n",
      "2023-11-29 13:49:19,675 prointvar    INFO     Parsing PDB atoms from lines...\n"
     ]
    },
    {
     "name": "stdout",
     "output_type": "stream",
     "text": [
      "WARNING!!! -8 residues lacked mapping from PDB to UniProt at arpeggio_lig_cons for 5re9\n",
      "WARNING!!! -91 residues lacked mapping from PDB to UniProt at lig_cons_split for 5re9\n",
      "Arpeggio output being processed for 5re9!\n"
     ]
    },
    {
     "name": "stderr",
     "output_type": "stream",
     "text": [
      "2023-11-29 13:49:19,891 prointvar    INFO     PDBx removed existing hydrogens...\n",
      "2023-11-29 13:49:19,894 prointvar    INFO     PDBx reset atom numbers...\n",
      "2023-11-29 13:49:20,981 prointvar    INFO     Parsing PDB atoms from lines...\n"
     ]
    },
    {
     "name": "stdout",
     "output_type": "stream",
     "text": [
      "WARNING!!! -19 residues lacked mapping from PDB to UniProt at arpeggio_lig_cons for 7ans\n",
      "WARNING!!! -227 residues lacked mapping from PDB to UniProt at lig_cons_split for 7ans\n",
      "Arpeggio output being processed for 7ans!\n"
     ]
    },
    {
     "name": "stderr",
     "output_type": "stream",
     "text": [
      "2023-11-29 13:49:21,202 prointvar    INFO     PDBx removed existing hydrogens...\n",
      "2023-11-29 13:49:21,205 prointvar    INFO     PDBx reset atom numbers...\n",
      "2023-11-29 13:49:21,294 prointvar    INFO     Parsing PDB atoms from lines...\n",
      "2023-11-29 13:49:21,513 prointvar    INFO     PDBx removed existing hydrogens...\n",
      "2023-11-29 13:49:21,516 prointvar    INFO     PDBx reset atom numbers...\n",
      "2023-11-29 13:49:22,576 prointvar    INFO     Parsing PDB atoms from lines...\n",
      "2023-11-29 13:49:22,794 prointvar    INFO     PDBx removed existing hydrogens...\n",
      "2023-11-29 13:49:22,796 prointvar    INFO     PDBx reset atom numbers...\n",
      "2023-11-29 13:49:23,913 prointvar    INFO     Parsing PDB atoms from lines...\n"
     ]
    },
    {
     "name": "stdout",
     "output_type": "stream",
     "text": [
      "WARNING!!! -38 residues lacked mapping from PDB to UniProt at arpeggio_lig_cons for 6lu7\n",
      "WARNING!!! -426 residues lacked mapping from PDB to UniProt at lig_cons_split for 6lu7\n",
      "Arpeggio output being processed for 6lu7!\n"
     ]
    },
    {
     "name": "stderr",
     "output_type": "stream",
     "text": [
      "2023-11-29 13:49:24,132 prointvar    INFO     PDBx removed existing hydrogens...\n",
      "2023-11-29 13:49:24,135 prointvar    INFO     PDBx reset atom numbers...\n",
      "2023-11-29 13:49:24,221 prointvar    INFO     Parsing PDB atoms from lines...\n",
      "2023-11-29 13:49:24,442 prointvar    INFO     PDBx removed existing hydrogens...\n",
      "2023-11-29 13:49:24,444 prointvar    INFO     PDBx reset atom numbers...\n",
      "2023-11-29 13:49:24,589 prointvar    INFO     Parsing PDB atoms from lines...\n"
     ]
    },
    {
     "name": "stdout",
     "output_type": "stream",
     "text": [
      "Arpeggio output being processed for 7n89!\n"
     ]
    },
    {
     "name": "stderr",
     "output_type": "stream",
     "text": [
      "2023-11-29 13:49:24,805 prointvar    INFO     PDBx removed existing hydrogens...\n",
      "2023-11-29 13:49:24,808 prointvar    INFO     PDBx reset atom numbers...\n",
      "2023-11-29 13:49:24,950 prointvar    INFO     Parsing PDB atoms from lines...\n"
     ]
    },
    {
     "name": "stdout",
     "output_type": "stream",
     "text": [
      "WARNING!!! -21 residues lacked mapping from PDB to UniProt at arpeggio_lig_cons for 7rm2\n",
      "WARNING!!! -318 residues lacked mapping from PDB to UniProt at lig_cons_split for 7rm2\n",
      "Arpeggio output being processed for 7rm2!\n"
     ]
    },
    {
     "name": "stderr",
     "output_type": "stream",
     "text": [
      "2023-11-29 13:49:25,157 prointvar    INFO     PDBx removed existing hydrogens...\n",
      "2023-11-29 13:49:25,160 prointvar    INFO     PDBx reset atom numbers...\n",
      "2023-11-29 13:49:25,329 prointvar    INFO     Parsing PDB atoms from lines...\n"
     ]
    },
    {
     "name": "stdout",
     "output_type": "stream",
     "text": [
      "Arpeggio output being processed for 7max!\n"
     ]
    },
    {
     "name": "stderr",
     "output_type": "stream",
     "text": [
      "2023-11-29 13:49:25,542 prointvar    INFO     PDBx removed existing hydrogens...\n",
      "2023-11-29 13:49:25,544 prointvar    INFO     PDBx reset atom numbers...\n",
      "2023-11-29 13:49:25,679 prointvar    INFO     Parsing PDB atoms from lines...\n"
     ]
    },
    {
     "name": "stdout",
     "output_type": "stream",
     "text": [
      "WARNING!!! -19 residues lacked mapping from PDB to UniProt at arpeggio_lig_cons for 7tiw\n",
      "WARNING!!! -340 residues lacked mapping from PDB to UniProt at lig_cons_split for 7tiw\n",
      "Arpeggio output being processed for 7tiw!\n"
     ]
    },
    {
     "name": "stderr",
     "output_type": "stream",
     "text": [
      "2023-11-29 13:49:25,893 prointvar    INFO     PDBx removed existing hydrogens...\n",
      "2023-11-29 13:49:25,895 prointvar    INFO     PDBx reset atom numbers...\n",
      "2023-11-29 13:49:26,022 prointvar    INFO     Parsing PDB atoms from lines...\n"
     ]
    },
    {
     "name": "stdout",
     "output_type": "stream",
     "text": [
      "WARNING!!! -5 residues lacked mapping from PDB to UniProt at arpeggio_lig_cons for 5rf4\n",
      "WARNING!!! -62 residues lacked mapping from PDB to UniProt at lig_cons_split for 5rf4\n",
      "Arpeggio output being processed for 5rf4!\n"
     ]
    },
    {
     "name": "stderr",
     "output_type": "stream",
     "text": [
      "2023-11-29 13:49:26,233 prointvar    INFO     PDBx removed existing hydrogens...\n",
      "2023-11-29 13:49:26,235 prointvar    INFO     PDBx reset atom numbers...\n",
      "2023-11-29 13:49:26,378 prointvar    INFO     Parsing PDB atoms from lines...\n"
     ]
    },
    {
     "name": "stdout",
     "output_type": "stream",
     "text": [
      "WARNING!!! -26 residues lacked mapping from PDB to UniProt at arpeggio_lig_cons for 7d1o\n",
      "WARNING!!! -439 residues lacked mapping from PDB to UniProt at lig_cons_split for 7d1o\n",
      "Arpeggio output being processed for 7d1o!\n"
     ]
    },
    {
     "name": "stderr",
     "output_type": "stream",
     "text": [
      "2023-11-29 13:49:26,596 prointvar    INFO     PDBx removed existing hydrogens...\n",
      "2023-11-29 13:49:26,598 prointvar    INFO     PDBx reset atom numbers...\n",
      "2023-11-29 13:49:26,736 prointvar    INFO     Parsing PDB atoms from lines...\n"
     ]
    },
    {
     "name": "stdout",
     "output_type": "stream",
     "text": [
      "WARNING!!! -20 residues lacked mapping from PDB to UniProt at arpeggio_lig_cons for 7ltn\n",
      "WARNING!!! -297 residues lacked mapping from PDB to UniProt at lig_cons_split for 7ltn\n",
      "Arpeggio output being processed for 7ltn!\n"
     ]
    },
    {
     "name": "stderr",
     "output_type": "stream",
     "text": [
      "2023-11-29 13:49:26,956 prointvar    INFO     PDBx removed existing hydrogens...\n",
      "2023-11-29 13:49:26,958 prointvar    INFO     PDBx reset atom numbers...\n",
      "2023-11-29 13:49:27,098 prointvar    INFO     Parsing PDB atoms from lines...\n"
     ]
    },
    {
     "name": "stdout",
     "output_type": "stream",
     "text": [
      "WARNING!!! -21 residues lacked mapping from PDB to UniProt at arpeggio_lig_cons for 7rmt\n",
      "WARNING!!! -333 residues lacked mapping from PDB to UniProt at lig_cons_split for 7rmt\n",
      "Arpeggio output being processed for 7rmt!\n"
     ]
    },
    {
     "name": "stderr",
     "output_type": "stream",
     "text": [
      "2023-11-29 13:49:27,314 prointvar    INFO     PDBx removed existing hydrogens...\n",
      "2023-11-29 13:49:27,316 prointvar    INFO     PDBx reset atom numbers...\n",
      "2023-11-29 13:49:27,453 prointvar    INFO     Parsing PDB atoms from lines...\n"
     ]
    },
    {
     "name": "stdout",
     "output_type": "stream",
     "text": [
      "WARNING!!! -17 residues lacked mapping from PDB to UniProt at arpeggio_lig_cons for 7s3k\n",
      "WARNING!!! -269 residues lacked mapping from PDB to UniProt at lig_cons_split for 7s3k\n",
      "Arpeggio output being processed for 7s3k!\n"
     ]
    },
    {
     "name": "stderr",
     "output_type": "stream",
     "text": [
      "2023-11-29 13:49:27,671 prointvar    INFO     PDBx removed existing hydrogens...\n",
      "2023-11-29 13:49:27,674 prointvar    INFO     PDBx reset atom numbers...\n",
      "2023-11-29 13:49:27,814 prointvar    INFO     Parsing PDB atoms from lines...\n"
     ]
    },
    {
     "name": "stdout",
     "output_type": "stream",
     "text": [
      "WARNING!!! -22 residues lacked mapping from PDB to UniProt at arpeggio_lig_cons for 7lct\n",
      "WARNING!!! -370 residues lacked mapping from PDB to UniProt at lig_cons_split for 7lct\n",
      "Arpeggio output being processed for 7lct!\n"
     ]
    },
    {
     "name": "stderr",
     "output_type": "stream",
     "text": [
      "2023-11-29 13:49:28,031 prointvar    INFO     PDBx removed existing hydrogens...\n",
      "2023-11-29 13:49:28,034 prointvar    INFO     PDBx reset atom numbers...\n",
      "2023-11-29 13:49:28,161 prointvar    INFO     Parsing PDB atoms from lines...\n"
     ]
    },
    {
     "name": "stdout",
     "output_type": "stream",
     "text": [
      "WARNING!!! -12 residues lacked mapping from PDB to UniProt at arpeggio_lig_cons for 5res\n",
      "WARNING!!! -124 residues lacked mapping from PDB to UniProt at lig_cons_split for 5res\n",
      "Arpeggio output being processed for 5res!\n"
     ]
    },
    {
     "name": "stderr",
     "output_type": "stream",
     "text": [
      "2023-11-29 13:49:28,373 prointvar    INFO     PDBx removed existing hydrogens...\n",
      "2023-11-29 13:49:28,376 prointvar    INFO     PDBx reset atom numbers...\n",
      "2023-11-29 13:49:28,506 prointvar    INFO     Parsing PDB atoms from lines...\n"
     ]
    },
    {
     "name": "stdout",
     "output_type": "stream",
     "text": [
      "WARNING!!! -9 residues lacked mapping from PDB to UniProt at arpeggio_lig_cons for 5reg\n",
      "WARNING!!! -177 residues lacked mapping from PDB to UniProt at lig_cons_split for 5reg\n",
      "Arpeggio output being processed for 5reg!\n"
     ]
    },
    {
     "name": "stderr",
     "output_type": "stream",
     "text": [
      "2023-11-29 13:49:28,724 prointvar    INFO     PDBx removed existing hydrogens...\n",
      "2023-11-29 13:49:28,726 prointvar    INFO     PDBx reset atom numbers...\n",
      "2023-11-29 13:49:28,868 prointvar    INFO     Parsing PDB atoms from lines...\n"
     ]
    },
    {
     "name": "stdout",
     "output_type": "stream",
     "text": [
      "WARNING!!! -19 residues lacked mapping from PDB to UniProt at arpeggio_lig_cons for 7rme\n",
      "WARNING!!! -304 residues lacked mapping from PDB to UniProt at lig_cons_split for 7rme\n",
      "Arpeggio output being processed for 7rme!\n",
      "No LOIs in 7n6n, so skipping!\n"
     ]
    },
    {
     "name": "stderr",
     "output_type": "stream",
     "text": [
      "2023-11-29 13:49:29,087 prointvar    INFO     PDBx removed existing hydrogens...\n",
      "2023-11-29 13:49:29,090 prointvar    INFO     PDBx reset atom numbers...\n",
      "2023-11-29 13:49:29,230 prointvar    INFO     Parsing PDB atoms from lines...\n"
     ]
    },
    {
     "name": "stdout",
     "output_type": "stream",
     "text": [
      "WARNING!!! -25 residues lacked mapping from PDB to UniProt at arpeggio_lig_cons for 7m8y\n",
      "WARNING!!! -399 residues lacked mapping from PDB to UniProt at lig_cons_split for 7m8y\n",
      "Arpeggio output being processed for 7m8y!\n"
     ]
    },
    {
     "name": "stderr",
     "output_type": "stream",
     "text": [
      "2023-11-29 13:49:29,446 prointvar    INFO     PDBx removed existing hydrogens...\n",
      "2023-11-29 13:49:29,448 prointvar    INFO     PDBx reset atom numbers...\n",
      "2023-11-29 13:49:29,580 prointvar    INFO     Parsing PDB atoms from lines...\n"
     ]
    },
    {
     "name": "stdout",
     "output_type": "stream",
     "text": [
      "WARNING!!! -13 residues lacked mapping from PDB to UniProt at arpeggio_lig_cons for 7aha\n",
      "WARNING!!! -110 residues lacked mapping from PDB to UniProt at lig_cons_split for 7aha\n",
      "Arpeggio output being processed for 7aha!\n"
     ]
    },
    {
     "name": "stderr",
     "output_type": "stream",
     "text": [
      "2023-11-29 13:49:29,789 prointvar    INFO     PDBx removed existing hydrogens...\n",
      "2023-11-29 13:49:29,792 prointvar    INFO     PDBx reset atom numbers...\n",
      "2023-11-29 13:49:29,961 prointvar    INFO     Parsing PDB atoms from lines...\n"
     ]
    },
    {
     "name": "stdout",
     "output_type": "stream",
     "text": [
      "Arpeggio output being processed for 8f45!\n"
     ]
    },
    {
     "name": "stderr",
     "output_type": "stream",
     "text": [
      "2023-11-29 13:49:30,174 prointvar    INFO     PDBx removed existing hydrogens...\n",
      "2023-11-29 13:49:30,176 prointvar    INFO     PDBx reset atom numbers...\n",
      "2023-11-29 13:49:30,303 prointvar    INFO     Parsing PDB atoms from lines...\n"
     ]
    },
    {
     "name": "stdout",
     "output_type": "stream",
     "text": [
      "WARNING!!! -6 residues lacked mapping from PDB to UniProt at arpeggio_lig_cons for 5rei\n",
      "WARNING!!! -85 residues lacked mapping from PDB to UniProt at lig_cons_split for 5rei\n",
      "Arpeggio output being processed for 5rei!\n"
     ]
    },
    {
     "name": "stderr",
     "output_type": "stream",
     "text": [
      "2023-11-29 13:49:30,515 prointvar    INFO     PDBx removed existing hydrogens...\n",
      "2023-11-29 13:49:30,517 prointvar    INFO     PDBx reset atom numbers...\n",
      "2023-11-29 13:49:30,831 prointvar    INFO     Parsing PDB atoms from lines...\n"
     ]
    },
    {
     "name": "stdout",
     "output_type": "stream",
     "text": [
      "Arpeggio output being processed for 7vu6!\n"
     ]
    },
    {
     "name": "stderr",
     "output_type": "stream",
     "text": [
      "2023-11-29 13:49:31,047 prointvar    INFO     PDBx removed existing hydrogens...\n",
      "2023-11-29 13:49:31,049 prointvar    INFO     PDBx reset atom numbers...\n",
      "2023-11-29 13:49:31,184 prointvar    INFO     Parsing PDB atoms from lines...\n"
     ]
    },
    {
     "name": "stdout",
     "output_type": "stream",
     "text": [
      "WARNING!!! -18 residues lacked mapping from PDB to UniProt at arpeggio_lig_cons for 5rh3\n",
      "WARNING!!! -257 residues lacked mapping from PDB to UniProt at lig_cons_split for 5rh3\n",
      "Arpeggio output being processed for 5rh3!\n"
     ]
    },
    {
     "name": "stderr",
     "output_type": "stream",
     "text": [
      "2023-11-29 13:49:31,398 prointvar    INFO     PDBx removed existing hydrogens...\n",
      "2023-11-29 13:49:31,401 prointvar    INFO     PDBx reset atom numbers...\n",
      "2023-11-29 13:49:32,457 prointvar    INFO     Parsing PDB atoms from lines...\n",
      "2023-11-29 13:49:32,671 prointvar    INFO     PDBx removed existing hydrogens...\n",
      "2023-11-29 13:49:32,673 prointvar    INFO     PDBx reset atom numbers...\n",
      "2023-11-29 13:49:33,783 prointvar    INFO     Parsing PDB atoms from lines...\n",
      "2023-11-29 13:49:33,893 prointvar    INFO     PDBx removed existing hydrogens...\n",
      "2023-11-29 13:49:33,895 prointvar    INFO     PDBx reset atom numbers...\n"
     ]
    },
    {
     "name": "stdout",
     "output_type": "stream",
     "text": [
      "Arpeggio output being processed for 7mau!\n",
      "No LOIs in 7jr3, so skipping!\n"
     ]
    },
    {
     "name": "stderr",
     "output_type": "stream",
     "text": [
      "2023-11-29 13:49:34,003 prointvar    INFO     Parsing PDB atoms from lines...\n"
     ]
    },
    {
     "name": "stdout",
     "output_type": "stream",
     "text": [
      "Arpeggio output being processed for 7rvv!\n"
     ]
    },
    {
     "name": "stderr",
     "output_type": "stream",
     "text": [
      "2023-11-29 13:49:34,215 prointvar    INFO     PDBx removed existing hydrogens...\n",
      "2023-11-29 13:49:34,218 prointvar    INFO     PDBx reset atom numbers...\n",
      "2023-11-29 13:49:34,380 prointvar    INFO     Parsing PDB atoms from lines...\n"
     ]
    },
    {
     "name": "stdout",
     "output_type": "stream",
     "text": [
      "Arpeggio output being processed for 7mav!\n",
      "No LOIs in 7joy, so skipping!\n"
     ]
    },
    {
     "name": "stderr",
     "output_type": "stream",
     "text": [
      "2023-11-29 13:49:34,596 prointvar    INFO     PDBx removed existing hydrogens...\n",
      "2023-11-29 13:49:34,599 prointvar    INFO     PDBx reset atom numbers...\n",
      "2023-11-29 13:49:34,729 prointvar    INFO     Parsing PDB atoms from lines...\n"
     ]
    },
    {
     "name": "stdout",
     "output_type": "stream",
     "text": [
      "WARNING!!! -14 residues lacked mapping from PDB to UniProt at arpeggio_lig_cons for 5rha\n",
      "WARNING!!! -182 residues lacked mapping from PDB to UniProt at lig_cons_split for 5rha\n",
      "Arpeggio output being processed for 5rha!\n"
     ]
    },
    {
     "name": "stderr",
     "output_type": "stream",
     "text": [
      "2023-11-29 13:49:34,949 prointvar    INFO     PDBx removed existing hydrogens...\n",
      "2023-11-29 13:49:34,951 prointvar    INFO     PDBx reset atom numbers...\n",
      "2023-11-29 13:49:36,037 prointvar    INFO     Parsing PDB atoms from lines...\n"
     ]
    },
    {
     "name": "stdout",
     "output_type": "stream",
     "text": [
      "WARNING!!! -18 residues lacked mapping from PDB to UniProt at arpeggio_lig_cons for 7mng\n",
      "WARNING!!! -270 residues lacked mapping from PDB to UniProt at lig_cons_split for 7mng\n",
      "Arpeggio output being processed for 7mng!\n"
     ]
    },
    {
     "name": "stderr",
     "output_type": "stream",
     "text": [
      "2023-11-29 13:49:36,254 prointvar    INFO     PDBx removed existing hydrogens...\n",
      "2023-11-29 13:49:36,256 prointvar    INFO     PDBx reset atom numbers...\n",
      "2023-11-29 13:49:36,400 prointvar    INFO     Parsing PDB atoms from lines...\n"
     ]
    },
    {
     "name": "stdout",
     "output_type": "stream",
     "text": [
      "WARNING!!! -18 residues lacked mapping from PDB to UniProt at arpeggio_lig_cons for 8ddm\n",
      "WARNING!!! -339 residues lacked mapping from PDB to UniProt at lig_cons_split for 8ddm\n",
      "Arpeggio output being processed for 8ddm!\n"
     ]
    },
    {
     "name": "stderr",
     "output_type": "stream",
     "text": [
      "2023-11-29 13:49:36,616 prointvar    INFO     PDBx removed existing hydrogens...\n",
      "2023-11-29 13:49:36,619 prointvar    INFO     PDBx reset atom numbers...\n",
      "2023-11-29 13:49:37,672 prointvar    INFO     Parsing PDB atoms from lines...\n",
      "2023-11-29 13:49:37,891 prointvar    INFO     PDBx removed existing hydrogens...\n",
      "2023-11-29 13:49:37,893 prointvar    INFO     PDBx reset atom numbers...\n",
      "2023-11-29 13:49:38,931 prointvar    INFO     Parsing PDB atoms from lines...\n",
      "2023-11-29 13:49:39,151 prointvar    INFO     PDBx removed existing hydrogens...\n",
      "2023-11-29 13:49:39,154 prointvar    INFO     PDBx reset atom numbers...\n",
      "2023-11-29 13:49:39,299 prointvar    INFO     Parsing PDB atoms from lines...\n"
     ]
    },
    {
     "name": "stdout",
     "output_type": "stream",
     "text": [
      "WARNING!!! -47 residues lacked mapping from PDB to UniProt at arpeggio_lig_cons for 7tgr\n",
      "WARNING!!! -643 residues lacked mapping from PDB to UniProt at lig_cons_split for 7tgr\n",
      "Arpeggio output being processed for 7tgr!\n",
      "No LOIs in 6xhu, so skipping!\n",
      "No LOIs in 8drt, so skipping!\n"
     ]
    },
    {
     "name": "stderr",
     "output_type": "stream",
     "text": [
      "2023-11-29 13:49:39,511 prointvar    INFO     PDBx removed existing hydrogens...\n",
      "2023-11-29 13:49:39,513 prointvar    INFO     PDBx reset atom numbers...\n",
      "2023-11-29 13:49:39,659 prointvar    INFO     Parsing PDB atoms from lines...\n"
     ]
    },
    {
     "name": "stdout",
     "output_type": "stream",
     "text": [
      "WARNING!!! -27 residues lacked mapping from PDB to UniProt at arpeggio_lig_cons for 7l8j\n",
      "WARNING!!! -460 residues lacked mapping from PDB to UniProt at lig_cons_split for 7l8j\n",
      "Arpeggio output being processed for 7l8j!\n",
      "No LOIs in 7mhm, so skipping!\n"
     ]
    },
    {
     "name": "stderr",
     "output_type": "stream",
     "text": [
      "2023-11-29 13:49:39,880 prointvar    INFO     PDBx removed existing hydrogens...\n",
      "2023-11-29 13:49:39,883 prointvar    INFO     PDBx reset atom numbers...\n",
      "2023-11-29 13:49:39,966 prointvar    INFO     Parsing PDB atoms from lines...\n",
      "2023-11-29 13:49:40,179 prointvar    INFO     PDBx removed existing hydrogens...\n",
      "2023-11-29 13:49:40,182 prointvar    INFO     PDBx reset atom numbers...\n",
      "2023-11-29 13:49:40,312 prointvar    INFO     Parsing PDB atoms from lines...\n"
     ]
    },
    {
     "name": "stdout",
     "output_type": "stream",
     "text": [
      "WARNING!!! -16 residues lacked mapping from PDB to UniProt at arpeggio_lig_cons for 6xb1\n",
      "WARNING!!! -169 residues lacked mapping from PDB to UniProt at lig_cons_split for 6xb1\n",
      "Arpeggio output being processed for 6xb1!\n"
     ]
    },
    {
     "name": "stderr",
     "output_type": "stream",
     "text": [
      "2023-11-29 13:49:40,517 prointvar    INFO     PDBx removed existing hydrogens...\n",
      "2023-11-29 13:49:40,519 prointvar    INFO     PDBx reset atom numbers...\n",
      "2023-11-29 13:49:40,684 prointvar    INFO     Parsing PDB atoms from lines...\n"
     ]
    },
    {
     "name": "stdout",
     "output_type": "stream",
     "text": [
      "Arpeggio output being processed for 7t45!\n"
     ]
    },
    {
     "name": "stderr",
     "output_type": "stream",
     "text": [
      "2023-11-29 13:49:40,898 prointvar    INFO     PDBx removed existing hydrogens...\n",
      "2023-11-29 13:49:40,900 prointvar    INFO     PDBx reset atom numbers...\n",
      "2023-11-29 13:49:41,084 prointvar    INFO     Parsing PDB atoms from lines...\n"
     ]
    },
    {
     "name": "stdout",
     "output_type": "stream",
     "text": [
      "Arpeggio output being processed for 8drv!\n"
     ]
    },
    {
     "name": "stderr",
     "output_type": "stream",
     "text": [
      "2023-11-29 13:49:41,291 prointvar    INFO     PDBx removed existing hydrogens...\n",
      "2023-11-29 13:49:41,293 prointvar    INFO     PDBx reset atom numbers...\n",
      "2023-11-29 13:49:42,336 prointvar    INFO     Parsing PDB atoms from lines...\n",
      "2023-11-29 13:49:42,547 prointvar    INFO     PDBx removed existing hydrogens...\n",
      "2023-11-29 13:49:42,549 prointvar    INFO     PDBx reset atom numbers...\n",
      "2023-11-29 13:49:43,672 prointvar    INFO     Parsing PDB atoms from lines...\n"
     ]
    },
    {
     "name": "stdout",
     "output_type": "stream",
     "text": [
      "Arpeggio output being processed for 7tq6!\n"
     ]
    },
    {
     "name": "stderr",
     "output_type": "stream",
     "text": [
      "2023-11-29 13:49:43,885 prointvar    INFO     PDBx removed existing hydrogens...\n",
      "2023-11-29 13:49:43,887 prointvar    INFO     PDBx reset atom numbers...\n",
      "2023-11-29 13:49:44,018 prointvar    INFO     Parsing PDB atoms from lines...\n"
     ]
    },
    {
     "name": "stdout",
     "output_type": "stream",
     "text": [
      "WARNING!!! -11 residues lacked mapping from PDB to UniProt at arpeggio_lig_cons for 5rf0\n",
      "WARNING!!! -177 residues lacked mapping from PDB to UniProt at lig_cons_split for 5rf0\n",
      "Arpeggio output being processed for 5rf0!\n"
     ]
    },
    {
     "name": "stderr",
     "output_type": "stream",
     "text": [
      "2023-11-29 13:49:44,233 prointvar    INFO     PDBx removed existing hydrogens...\n",
      "2023-11-29 13:49:44,235 prointvar    INFO     PDBx reset atom numbers...\n",
      "2023-11-29 13:49:44,370 prointvar    INFO     Parsing PDB atoms from lines...\n"
     ]
    },
    {
     "name": "stdout",
     "output_type": "stream",
     "text": [
      "WARNING!!! -17 residues lacked mapping from PDB to UniProt at arpeggio_lig_cons for 7s4b\n",
      "WARNING!!! -272 residues lacked mapping from PDB to UniProt at lig_cons_split for 7s4b\n",
      "Arpeggio output being processed for 7s4b!\n",
      "No LOIs in 7ta7, so skipping!\n"
     ]
    },
    {
     "name": "stderr",
     "output_type": "stream",
     "text": [
      "2023-11-29 13:49:44,584 prointvar    INFO     PDBx removed existing hydrogens...\n",
      "2023-11-29 13:49:44,587 prointvar    INFO     PDBx reset atom numbers...\n",
      "2023-11-29 13:49:44,720 prointvar    INFO     Parsing PDB atoms from lines...\n"
     ]
    },
    {
     "name": "stdout",
     "output_type": "stream",
     "text": [
      "WARNING!!! -8 residues lacked mapping from PDB to UniProt at arpeggio_lig_cons for 5re8\n",
      "WARNING!!! -154 residues lacked mapping from PDB to UniProt at lig_cons_split for 5re8\n",
      "Arpeggio output being processed for 5re8!\n"
     ]
    },
    {
     "name": "stderr",
     "output_type": "stream",
     "text": [
      "2023-11-29 13:49:44,939 prointvar    INFO     PDBx removed existing hydrogens...\n",
      "2023-11-29 13:49:44,941 prointvar    INFO     PDBx reset atom numbers...\n",
      "2023-11-29 13:49:45,088 prointvar    INFO     Parsing PDB atoms from lines...\n"
     ]
    },
    {
     "name": "stdout",
     "output_type": "stream",
     "text": [
      "WARNING!!! -24 residues lacked mapping from PDB to UniProt at arpeggio_lig_cons for 7dgh\n",
      "WARNING!!! -467 residues lacked mapping from PDB to UniProt at lig_cons_split for 7dgh\n",
      "Arpeggio output being processed for 7dgh!\n"
     ]
    },
    {
     "name": "stderr",
     "output_type": "stream",
     "text": [
      "2023-11-29 13:49:45,301 prointvar    INFO     PDBx removed existing hydrogens...\n",
      "2023-11-29 13:49:45,303 prointvar    INFO     PDBx reset atom numbers...\n",
      "2023-11-29 13:49:45,443 prointvar    INFO     Parsing PDB atoms from lines...\n"
     ]
    },
    {
     "name": "stdout",
     "output_type": "stream",
     "text": [
      "WARNING!!! -22 residues lacked mapping from PDB to UniProt at arpeggio_lig_cons for 7c6s\n",
      "WARNING!!! -329 residues lacked mapping from PDB to UniProt at lig_cons_split for 7c6s\n",
      "Arpeggio output being processed for 7c6s!\n"
     ]
    },
    {
     "name": "stderr",
     "output_type": "stream",
     "text": [
      "2023-11-29 13:49:45,660 prointvar    INFO     PDBx removed existing hydrogens...\n",
      "2023-11-29 13:49:45,663 prointvar    INFO     PDBx reset atom numbers...\n",
      "2023-11-29 13:49:46,706 prointvar    INFO     Parsing PDB atoms from lines...\n",
      "2023-11-29 13:49:46,922 prointvar    INFO     PDBx removed existing hydrogens...\n",
      "2023-11-29 13:49:46,924 prointvar    INFO     PDBx reset atom numbers...\n",
      "2023-11-29 13:49:48,001 prointvar    INFO     Parsing PDB atoms from lines...\n"
     ]
    },
    {
     "name": "stdout",
     "output_type": "stream",
     "text": [
      "WARNING!!! -31 residues lacked mapping from PDB to UniProt at arpeggio_lig_cons for 7vh8\n",
      "WARNING!!! -439 residues lacked mapping from PDB to UniProt at lig_cons_split for 7vh8\n",
      "Arpeggio output being processed for 7vh8!\n",
      "No LOIs in 7mhi, so skipping!\n"
     ]
    },
    {
     "name": "stderr",
     "output_type": "stream",
     "text": [
      "2023-11-29 13:49:48,219 prointvar    INFO     PDBx removed existing hydrogens...\n",
      "2023-11-29 13:49:48,221 prointvar    INFO     PDBx reset atom numbers...\n",
      "2023-11-29 13:49:48,311 prointvar    INFO     Parsing PDB atoms from lines...\n",
      "2023-11-29 13:49:48,526 prointvar    INFO     PDBx removed existing hydrogens...\n",
      "2023-11-29 13:49:48,529 prointvar    INFO     PDBx reset atom numbers...\n",
      "2023-11-29 13:49:49,556 prointvar    INFO     Parsing PDB atoms from lines...\n",
      "2023-11-29 13:49:49,773 prointvar    INFO     PDBx removed existing hydrogens...\n",
      "2023-11-29 13:49:49,775 prointvar    INFO     PDBx reset atom numbers...\n",
      "2023-11-29 13:49:50,874 prointvar    INFO     Parsing PDB atoms from lines...\n"
     ]
    },
    {
     "name": "stdout",
     "output_type": "stream",
     "text": [
      "WARNING!!! -10 residues lacked mapping from PDB to UniProt at arpeggio_lig_cons for 6xbi\n",
      "WARNING!!! -133 residues lacked mapping from PDB to UniProt at lig_cons_split for 6xbi\n",
      "Arpeggio output being processed for 6xbi!\n"
     ]
    },
    {
     "name": "stderr",
     "output_type": "stream",
     "text": [
      "2023-11-29 13:49:51,079 prointvar    INFO     PDBx removed existing hydrogens...\n",
      "2023-11-29 13:49:51,082 prointvar    INFO     PDBx reset atom numbers...\n",
      "2023-11-29 13:49:52,119 prointvar    INFO     Parsing PDB atoms from lines...\n",
      "2023-11-29 13:49:52,326 prointvar    INFO     PDBx removed existing hydrogens...\n",
      "2023-11-29 13:49:52,328 prointvar    INFO     PDBx reset atom numbers...\n",
      "2023-11-29 13:49:53,441 prointvar    INFO     Parsing PDB atoms from lines...\n"
     ]
    },
    {
     "name": "stdout",
     "output_type": "stream",
     "text": [
      "Arpeggio output being processed for 7t4a!\n"
     ]
    },
    {
     "name": "stderr",
     "output_type": "stream",
     "text": [
      "2023-11-29 13:49:53,657 prointvar    INFO     PDBx removed existing hydrogens...\n",
      "2023-11-29 13:49:53,660 prointvar    INFO     PDBx reset atom numbers...\n",
      "2023-11-29 13:49:54,720 prointvar    INFO     Parsing PDB atoms from lines...\n"
     ]
    },
    {
     "name": "stdout",
     "output_type": "stream",
     "text": [
      "WARNING!!! -13 residues lacked mapping from PDB to UniProt at arpeggio_lig_cons for 5rf6\n",
      "WARNING!!! -147 residues lacked mapping from PDB to UniProt at lig_cons_split for 5rf6\n",
      "Arpeggio output being processed for 5rf6!\n"
     ]
    },
    {
     "name": "stderr",
     "output_type": "stream",
     "text": [
      "2023-11-29 13:49:54,934 prointvar    INFO     PDBx removed existing hydrogens...\n",
      "2023-11-29 13:49:54,936 prointvar    INFO     PDBx reset atom numbers...\n",
      "2023-11-29 13:49:55,081 prointvar    INFO     Parsing PDB atoms from lines...\n"
     ]
    },
    {
     "name": "stdout",
     "output_type": "stream",
     "text": [
      "WARNING!!! -24 residues lacked mapping from PDB to UniProt at arpeggio_lig_cons for 7k6d\n",
      "WARNING!!! -435 residues lacked mapping from PDB to UniProt at lig_cons_split for 7k6d\n",
      "Arpeggio output being processed for 7k6d!\n"
     ]
    },
    {
     "name": "stderr",
     "output_type": "stream",
     "text": [
      "2023-11-29 13:49:55,298 prointvar    INFO     PDBx removed existing hydrogens...\n",
      "2023-11-29 13:49:55,301 prointvar    INFO     PDBx reset atom numbers...\n",
      "2023-11-29 13:49:55,438 prointvar    INFO     Parsing PDB atoms from lines...\n"
     ]
    },
    {
     "name": "stdout",
     "output_type": "stream",
     "text": [
      "WARNING!!! -21 residues lacked mapping from PDB to UniProt at arpeggio_lig_cons for 7l10\n",
      "WARNING!!! -291 residues lacked mapping from PDB to UniProt at lig_cons_split for 7l10\n",
      "Arpeggio output being processed for 7l10!\n",
      "No LOIs in 7vk4, so skipping!\n"
     ]
    },
    {
     "name": "stderr",
     "output_type": "stream",
     "text": [
      "2023-11-29 13:49:55,634 prointvar    INFO     PDBx removed existing hydrogens...\n",
      "2023-11-29 13:49:55,636 prointvar    INFO     PDBx reset atom numbers...\n",
      "2023-11-29 13:49:55,823 prointvar    INFO     Parsing PDB atoms from lines...\n"
     ]
    },
    {
     "name": "stdout",
     "output_type": "stream",
     "text": [
      "Arpeggio output being processed for 7dpv!\n"
     ]
    },
    {
     "name": "stderr",
     "output_type": "stream",
     "text": [
      "2023-11-29 13:49:56,036 prointvar    INFO     PDBx removed existing hydrogens...\n",
      "2023-11-29 13:49:56,039 prointvar    INFO     PDBx reset atom numbers...\n",
      "2023-11-29 13:49:56,174 prointvar    INFO     Parsing PDB atoms from lines...\n"
     ]
    },
    {
     "name": "stdout",
     "output_type": "stream",
     "text": [
      "WARNING!!! -16 residues lacked mapping from PDB to UniProt at arpeggio_lig_cons for 5rgi\n",
      "WARNING!!! -238 residues lacked mapping from PDB to UniProt at lig_cons_split for 5rgi\n",
      "Arpeggio output being processed for 5rgi!\n"
     ]
    },
    {
     "name": "stderr",
     "output_type": "stream",
     "text": [
      "2023-11-29 13:49:56,386 prointvar    INFO     PDBx removed existing hydrogens...\n",
      "2023-11-29 13:49:56,389 prointvar    INFO     PDBx reset atom numbers...\n",
      "2023-11-29 13:49:56,526 prointvar    INFO     Parsing PDB atoms from lines...\n"
     ]
    },
    {
     "name": "stdout",
     "output_type": "stream",
     "text": [
      "WARNING!!! -24 residues lacked mapping from PDB to UniProt at arpeggio_lig_cons for 7tek\n",
      "WARNING!!! -344 residues lacked mapping from PDB to UniProt at lig_cons_split for 7tek\n",
      "Arpeggio output being processed for 7tek!\n"
     ]
    },
    {
     "name": "stderr",
     "output_type": "stream",
     "text": [
      "2023-11-29 13:49:56,741 prointvar    INFO     PDBx removed existing hydrogens...\n",
      "2023-11-29 13:49:56,744 prointvar    INFO     PDBx reset atom numbers...\n",
      "2023-11-29 13:49:56,875 prointvar    INFO     Parsing PDB atoms from lines...\n"
     ]
    },
    {
     "name": "stdout",
     "output_type": "stream",
     "text": [
      "WARNING!!! -11 residues lacked mapping from PDB to UniProt at arpeggio_lig_cons for 5rfe\n",
      "WARNING!!! -153 residues lacked mapping from PDB to UniProt at lig_cons_split for 5rfe\n",
      "Arpeggio output being processed for 5rfe!\n"
     ]
    },
    {
     "name": "stderr",
     "output_type": "stream",
     "text": [
      "2023-11-29 13:49:57,091 prointvar    INFO     PDBx removed existing hydrogens...\n",
      "2023-11-29 13:49:57,093 prointvar    INFO     PDBx reset atom numbers...\n",
      "2023-11-29 13:49:59,491 prointvar    INFO     Parsing PDB atoms from lines...\n"
     ]
    },
    {
     "name": "stdout",
     "output_type": "stream",
     "text": [
      "Arpeggio output being processed for 7ng3!\n"
     ]
    },
    {
     "name": "stderr",
     "output_type": "stream",
     "text": [
      "2023-11-29 13:49:59,706 prointvar    INFO     PDBx removed existing hydrogens...\n",
      "2023-11-29 13:49:59,708 prointvar    INFO     PDBx reset atom numbers...\n",
      "2023-11-29 13:50:00,040 prointvar    INFO     Parsing PDB atoms from lines...\n"
     ]
    },
    {
     "name": "stdout",
     "output_type": "stream",
     "text": [
      "Arpeggio output being processed for 6xhm!\n"
     ]
    },
    {
     "name": "stderr",
     "output_type": "stream",
     "text": [
      "2023-11-29 13:50:00,256 prointvar    INFO     PDBx removed existing hydrogens...\n",
      "2023-11-29 13:50:00,259 prointvar    INFO     PDBx reset atom numbers...\n",
      "2023-11-29 13:50:01,321 prointvar    INFO     Parsing PDB atoms from lines...\n"
     ]
    },
    {
     "name": "stdout",
     "output_type": "stream",
     "text": [
      "WARNING!!! -13 residues lacked mapping from PDB to UniProt at arpeggio_lig_cons for 5rfs\n",
      "WARNING!!! -182 residues lacked mapping from PDB to UniProt at lig_cons_split for 5rfs\n",
      "Arpeggio output being processed for 5rfs!\n"
     ]
    },
    {
     "name": "stderr",
     "output_type": "stream",
     "text": [
      "2023-11-29 13:50:01,540 prointvar    INFO     PDBx removed existing hydrogens...\n",
      "2023-11-29 13:50:01,542 prointvar    INFO     PDBx reset atom numbers...\n",
      "2023-11-29 13:50:01,687 prointvar    INFO     Parsing PDB atoms from lines...\n"
     ]
    },
    {
     "name": "stdout",
     "output_type": "stream",
     "text": [
      "WARNING!!! -23 residues lacked mapping from PDB to UniProt at arpeggio_lig_cons for 5rh9\n",
      "WARNING!!! -376 residues lacked mapping from PDB to UniProt at lig_cons_split for 5rh9\n",
      "Arpeggio output being processed for 5rh9!\n"
     ]
    },
    {
     "name": "stderr",
     "output_type": "stream",
     "text": [
      "2023-11-29 13:50:01,904 prointvar    INFO     PDBx removed existing hydrogens...\n",
      "2023-11-29 13:50:01,906 prointvar    INFO     PDBx reset atom numbers...\n",
      "2023-11-29 13:50:02,971 prointvar    INFO     Parsing PDB atoms from lines...\n"
     ]
    },
    {
     "name": "stdout",
     "output_type": "stream",
     "text": [
      "WARNING!!! -23 residues lacked mapping from PDB to UniProt at arpeggio_lig_cons for 6m0k\n",
      "WARNING!!! -353 residues lacked mapping from PDB to UniProt at lig_cons_split for 6m0k\n",
      "Arpeggio output being processed for 6m0k!\n",
      "No LOIs in 7lkd, so skipping!\n"
     ]
    },
    {
     "name": "stderr",
     "output_type": "stream",
     "text": [
      "2023-11-29 13:50:03,190 prointvar    INFO     PDBx removed existing hydrogens...\n",
      "2023-11-29 13:50:03,192 prointvar    INFO     PDBx reset atom numbers...\n",
      "2023-11-29 13:50:03,340 prointvar    INFO     Parsing PDB atoms from lines...\n"
     ]
    },
    {
     "name": "stdout",
     "output_type": "stream",
     "text": [
      "WARNING!!! -23 residues lacked mapping from PDB to UniProt at arpeggio_lig_cons for 7rvq\n",
      "WARNING!!! -471 residues lacked mapping from PDB to UniProt at lig_cons_split for 7rvq\n",
      "Arpeggio output being processed for 7rvq!\n"
     ]
    },
    {
     "name": "stderr",
     "output_type": "stream",
     "text": [
      "2023-11-29 13:50:03,559 prointvar    INFO     PDBx removed existing hydrogens...\n",
      "2023-11-29 13:50:03,561 prointvar    INFO     PDBx reset atom numbers...\n",
      "2023-11-29 13:50:03,706 prointvar    INFO     Parsing PDB atoms from lines...\n"
     ]
    },
    {
     "name": "stdout",
     "output_type": "stream",
     "text": [
      "WARNING!!! -23 residues lacked mapping from PDB to UniProt at arpeggio_lig_cons for 7jq3\n",
      "WARNING!!! -435 residues lacked mapping from PDB to UniProt at lig_cons_split for 7jq3\n",
      "Arpeggio output being processed for 7jq3!\n"
     ]
    },
    {
     "name": "stderr",
     "output_type": "stream",
     "text": [
      "2023-11-29 13:50:03,923 prointvar    INFO     PDBx removed existing hydrogens...\n",
      "2023-11-29 13:50:03,925 prointvar    INFO     PDBx reset atom numbers...\n",
      "2023-11-29 13:50:04,064 prointvar    INFO     Parsing PDB atoms from lines...\n",
      "2023-11-29 13:50:04,175 prointvar    INFO     PDBx removed existing hydrogens...\n",
      "2023-11-29 13:50:04,177 prointvar    INFO     PDBx reset atom numbers...\n"
     ]
    },
    {
     "name": "stdout",
     "output_type": "stream",
     "text": [
      "WARNING!!! -20 residues lacked mapping from PDB to UniProt at arpeggio_lig_cons for 5rl4\n",
      "WARNING!!! -300 residues lacked mapping from PDB to UniProt at lig_cons_split for 5rl4\n",
      "Arpeggio output being processed for 5rl4!\n"
     ]
    },
    {
     "name": "stderr",
     "output_type": "stream",
     "text": [
      "2023-11-29 13:50:04,307 prointvar    INFO     Parsing PDB atoms from lines...\n"
     ]
    },
    {
     "name": "stdout",
     "output_type": "stream",
     "text": [
      "Arpeggio output being processed for 8a4t!\n"
     ]
    },
    {
     "name": "stderr",
     "output_type": "stream",
     "text": [
      "2023-11-29 13:50:04,525 prointvar    INFO     PDBx removed existing hydrogens...\n",
      "2023-11-29 13:50:04,528 prointvar    INFO     PDBx reset atom numbers...\n",
      "2023-11-29 13:50:04,672 prointvar    INFO     Parsing PDB atoms from lines...\n"
     ]
    },
    {
     "name": "stdout",
     "output_type": "stream",
     "text": [
      "WARNING!!! -24 residues lacked mapping from PDB to UniProt at arpeggio_lig_cons for 7sdc\n",
      "WARNING!!! -446 residues lacked mapping from PDB to UniProt at lig_cons_split for 7sdc\n",
      "Arpeggio output being processed for 7sdc!\n"
     ]
    },
    {
     "name": "stderr",
     "output_type": "stream",
     "text": [
      "2023-11-29 13:50:04,879 prointvar    INFO     PDBx removed existing hydrogens...\n",
      "2023-11-29 13:50:04,882 prointvar    INFO     PDBx reset atom numbers...\n",
      "2023-11-29 13:50:05,044 prointvar    INFO     Parsing PDB atoms from lines...\n"
     ]
    },
    {
     "name": "stdout",
     "output_type": "stream",
     "text": [
      "Arpeggio output being processed for 7mat!\n"
     ]
    },
    {
     "name": "stderr",
     "output_type": "stream",
     "text": [
      "2023-11-29 13:50:05,261 prointvar    INFO     PDBx removed existing hydrogens...\n",
      "2023-11-29 13:50:05,263 prointvar    INFO     PDBx reset atom numbers...\n",
      "2023-11-29 13:50:05,402 prointvar    INFO     Parsing PDB atoms from lines...\n"
     ]
    },
    {
     "name": "stdout",
     "output_type": "stream",
     "text": [
      "WARNING!!! -23 residues lacked mapping from PDB to UniProt at arpeggio_lig_cons for 7jpz\n",
      "WARNING!!! -399 residues lacked mapping from PDB to UniProt at lig_cons_split for 7jpz\n",
      "Arpeggio output being processed for 7jpz!\n"
     ]
    },
    {
     "name": "stderr",
     "output_type": "stream",
     "text": [
      "2023-11-29 13:50:05,612 prointvar    INFO     PDBx removed existing hydrogens...\n",
      "2023-11-29 13:50:05,615 prointvar    INFO     PDBx reset atom numbers...\n",
      "2023-11-29 13:50:05,738 prointvar    INFO     Parsing PDB atoms from lines...\n"
     ]
    },
    {
     "name": "stdout",
     "output_type": "stream",
     "text": [
      "WARNING!!! -10 residues lacked mapping from PDB to UniProt at arpeggio_lig_cons for 7dau\n",
      "WARNING!!! -32 residues lacked mapping from PDB to UniProt at lig_cons_split for 7dau\n",
      "Arpeggio output being processed for 7dau!\n"
     ]
    },
    {
     "name": "stderr",
     "output_type": "stream",
     "text": [
      "2023-11-29 13:50:05,954 prointvar    INFO     PDBx removed existing hydrogens...\n",
      "2023-11-29 13:50:05,956 prointvar    INFO     PDBx reset atom numbers...\n",
      "2023-11-29 13:50:06,123 prointvar    INFO     Parsing PDB atoms from lines...\n"
     ]
    },
    {
     "name": "stdout",
     "output_type": "stream",
     "text": [
      "Arpeggio output being processed for 7lme!\n"
     ]
    },
    {
     "name": "stderr",
     "output_type": "stream",
     "text": [
      "2023-11-29 13:50:06,341 prointvar    INFO     PDBx removed existing hydrogens...\n",
      "2023-11-29 13:50:06,344 prointvar    INFO     PDBx reset atom numbers...\n",
      "2023-11-29 13:50:06,490 prointvar    INFO     Parsing PDB atoms from lines...\n"
     ]
    },
    {
     "name": "stdout",
     "output_type": "stream",
     "text": [
      "WARNING!!! -24 residues lacked mapping from PDB to UniProt at arpeggio_lig_cons for 7rfw\n",
      "WARNING!!! -416 residues lacked mapping from PDB to UniProt at lig_cons_split for 7rfw\n",
      "Arpeggio output being processed for 7rfw!\n"
     ]
    },
    {
     "name": "stderr",
     "output_type": "stream",
     "text": [
      "2023-11-29 13:50:06,707 prointvar    INFO     PDBx removed existing hydrogens...\n",
      "2023-11-29 13:50:06,709 prointvar    INFO     PDBx reset atom numbers...\n",
      "2023-11-29 13:50:06,855 prointvar    INFO     Parsing PDB atoms from lines...\n"
     ]
    },
    {
     "name": "stdout",
     "output_type": "stream",
     "text": [
      "WARNING!!! -25 residues lacked mapping from PDB to UniProt at arpeggio_lig_cons for 7kx5\n",
      "WARNING!!! -405 residues lacked mapping from PDB to UniProt at lig_cons_split for 7kx5\n",
      "Arpeggio output being processed for 7kx5!\n"
     ]
    },
    {
     "name": "stderr",
     "output_type": "stream",
     "text": [
      "2023-11-29 13:50:07,074 prointvar    INFO     PDBx removed existing hydrogens...\n",
      "2023-11-29 13:50:07,077 prointvar    INFO     PDBx reset atom numbers...\n",
      "2023-11-29 13:50:07,255 prointvar    INFO     Parsing PDB atoms from lines...\n"
     ]
    },
    {
     "name": "stdout",
     "output_type": "stream",
     "text": [
      "Arpeggio output being processed for 7dgi!\n"
     ]
    },
    {
     "name": "stderr",
     "output_type": "stream",
     "text": [
      "2023-11-29 13:50:07,474 prointvar    INFO     PDBx removed existing hydrogens...\n",
      "2023-11-29 13:50:07,477 prointvar    INFO     PDBx reset atom numbers...\n",
      "2023-11-29 13:50:07,618 prointvar    INFO     Parsing PDB atoms from lines...\n"
     ]
    },
    {
     "name": "stdout",
     "output_type": "stream",
     "text": [
      "WARNING!!! -21 residues lacked mapping from PDB to UniProt at arpeggio_lig_cons for 7n8c\n",
      "WARNING!!! -317 residues lacked mapping from PDB to UniProt at lig_cons_split for 7n8c\n",
      "Arpeggio output being processed for 7n8c!\n"
     ]
    },
    {
     "name": "stderr",
     "output_type": "stream",
     "text": [
      "2023-11-29 13:50:07,834 prointvar    INFO     PDBx removed existing hydrogens...\n",
      "2023-11-29 13:50:07,836 prointvar    INFO     PDBx reset atom numbers...\n",
      "2023-11-29 13:50:07,983 prointvar    INFO     Parsing PDB atoms from lines...\n"
     ]
    },
    {
     "name": "stdout",
     "output_type": "stream",
     "text": [
      "WARNING!!! -27 residues lacked mapping from PDB to UniProt at arpeggio_lig_cons for 7m91\n",
      "WARNING!!! -401 residues lacked mapping from PDB to UniProt at lig_cons_split for 7m91\n",
      "Arpeggio output being processed for 7m91!\n",
      "No LOIs in 7bb2, so skipping!\n"
     ]
    },
    {
     "name": "stderr",
     "output_type": "stream",
     "text": [
      "2023-11-29 13:50:08,201 prointvar    INFO     PDBx removed existing hydrogens...\n",
      "2023-11-29 13:50:08,204 prointvar    INFO     PDBx reset atom numbers...\n",
      "2023-11-29 13:50:08,347 prointvar    INFO     Parsing PDB atoms from lines...\n"
     ]
    },
    {
     "name": "stdout",
     "output_type": "stream",
     "text": [
      "WARNING!!! -20 residues lacked mapping from PDB to UniProt at arpeggio_lig_cons for 7sda\n",
      "WARNING!!! -344 residues lacked mapping from PDB to UniProt at lig_cons_split for 7sda\n",
      "Arpeggio output being processed for 7sda!\n"
     ]
    },
    {
     "name": "stderr",
     "output_type": "stream",
     "text": [
      "2023-11-29 13:50:08,566 prointvar    INFO     PDBx removed existing hydrogens...\n",
      "2023-11-29 13:50:08,568 prointvar    INFO     PDBx reset atom numbers...\n",
      "2023-11-29 13:50:08,706 prointvar    INFO     Parsing PDB atoms from lines...\n"
     ]
    },
    {
     "name": "stdout",
     "output_type": "stream",
     "text": [
      "WARNING!!! -22 residues lacked mapping from PDB to UniProt at arpeggio_lig_cons for 7ukk\n",
      "WARNING!!! -341 residues lacked mapping from PDB to UniProt at lig_cons_split for 7ukk\n",
      "Arpeggio output being processed for 7ukk!\n"
     ]
    },
    {
     "name": "stderr",
     "output_type": "stream",
     "text": [
      "2023-11-29 13:50:08,926 prointvar    INFO     PDBx removed existing hydrogens...\n",
      "2023-11-29 13:50:08,928 prointvar    INFO     PDBx reset atom numbers...\n",
      "2023-11-29 13:50:09,943 prointvar    INFO     Parsing PDB atoms from lines...\n",
      "2023-11-29 13:50:10,161 prointvar    INFO     PDBx removed existing hydrogens...\n",
      "2023-11-29 13:50:10,164 prointvar    INFO     PDBx reset atom numbers...\n",
      "2023-11-29 13:50:11,170 prointvar    INFO     Parsing PDB atoms from lines...\n",
      "2023-11-29 13:50:11,388 prointvar    INFO     PDBx removed existing hydrogens...\n",
      "2023-11-29 13:50:11,390 prointvar    INFO     PDBx reset atom numbers...\n",
      "2023-11-29 13:50:11,534 prointvar    INFO     Parsing PDB atoms from lines...\n"
     ]
    },
    {
     "name": "stdout",
     "output_type": "stream",
     "text": [
      "WARNING!!! -38 residues lacked mapping from PDB to UniProt at arpeggio_lig_cons for 7m2p\n",
      "WARNING!!! -517 residues lacked mapping from PDB to UniProt at lig_cons_split for 7m2p\n",
      "Arpeggio output being processed for 7m2p!\n"
     ]
    },
    {
     "name": "stderr",
     "output_type": "stream",
     "text": [
      "2023-11-29 13:50:11,744 prointvar    INFO     PDBx removed existing hydrogens...\n",
      "2023-11-29 13:50:11,747 prointvar    INFO     PDBx reset atom numbers...\n",
      "2023-11-29 13:50:11,894 prointvar    INFO     Parsing PDB atoms from lines...\n"
     ]
    },
    {
     "name": "stdout",
     "output_type": "stream",
     "text": [
      "WARNING!!! -25 residues lacked mapping from PDB to UniProt at arpeggio_lig_cons for 7e18\n",
      "WARNING!!! -480 residues lacked mapping from PDB to UniProt at lig_cons_split for 7e18\n",
      "Arpeggio output being processed for 7e18!\n"
     ]
    },
    {
     "name": "stderr",
     "output_type": "stream",
     "text": [
      "2023-11-29 13:50:12,108 prointvar    INFO     PDBx removed existing hydrogens...\n",
      "2023-11-29 13:50:12,111 prointvar    INFO     PDBx reset atom numbers...\n",
      "2023-11-29 13:50:12,269 prointvar    INFO     Parsing PDB atoms from lines...\n"
     ]
    },
    {
     "name": "stdout",
     "output_type": "stream",
     "text": [
      "Arpeggio output being processed for 7dpu!\n"
     ]
    },
    {
     "name": "stderr",
     "output_type": "stream",
     "text": [
      "2023-11-29 13:50:12,483 prointvar    INFO     PDBx removed existing hydrogens...\n",
      "2023-11-29 13:50:12,485 prointvar    INFO     PDBx reset atom numbers...\n",
      "2023-11-29 13:50:12,579 prointvar    INFO     Parsing PDB atoms from lines...\n",
      "2023-11-29 13:50:12,792 prointvar    INFO     PDBx removed existing hydrogens...\n",
      "2023-11-29 13:50:12,795 prointvar    INFO     PDBx reset atom numbers...\n",
      "2023-11-29 13:50:13,901 prointvar    INFO     Parsing PDB atoms from lines...\n"
     ]
    },
    {
     "name": "stdout",
     "output_type": "stream",
     "text": [
      "Arpeggio output being processed for 7nby!\n"
     ]
    },
    {
     "name": "stderr",
     "output_type": "stream",
     "text": [
      "2023-11-29 13:50:14,118 prointvar    INFO     PDBx removed existing hydrogens...\n",
      "2023-11-29 13:50:14,120 prointvar    INFO     PDBx reset atom numbers...\n",
      "2023-11-29 13:50:15,171 prointvar    INFO     Parsing PDB atoms from lines...\n"
     ]
    },
    {
     "name": "stdout",
     "output_type": "stream",
     "text": [
      "WARNING!!! -14 residues lacked mapping from PDB to UniProt at arpeggio_lig_cons for 7jfq\n",
      "WARNING!!! -103 residues lacked mapping from PDB to UniProt at lig_cons_split for 7jfq\n",
      "Arpeggio output being processed for 7jfq!\n"
     ]
    },
    {
     "name": "stderr",
     "output_type": "stream",
     "text": [
      "2023-11-29 13:50:15,390 prointvar    INFO     PDBx removed existing hydrogens...\n",
      "2023-11-29 13:50:15,393 prointvar    INFO     PDBx reset atom numbers...\n",
      "2023-11-29 13:50:15,533 prointvar    INFO     Parsing PDB atoms from lines...\n"
     ]
    },
    {
     "name": "stdout",
     "output_type": "stream",
     "text": [
      "WARNING!!! -23 residues lacked mapping from PDB to UniProt at arpeggio_lig_cons for 7lb7\n",
      "WARNING!!! -383 residues lacked mapping from PDB to UniProt at lig_cons_split for 7lb7\n",
      "Arpeggio output being processed for 7lb7!\n"
     ]
    },
    {
     "name": "stderr",
     "output_type": "stream",
     "text": [
      "2023-11-29 13:50:15,748 prointvar    INFO     PDBx removed existing hydrogens...\n",
      "2023-11-29 13:50:15,751 prointvar    INFO     PDBx reset atom numbers...\n",
      "2023-11-29 13:50:15,884 prointvar    INFO     Parsing PDB atoms from lines...\n"
     ]
    },
    {
     "name": "stdout",
     "output_type": "stream",
     "text": [
      "WARNING!!! -17 residues lacked mapping from PDB to UniProt at arpeggio_lig_cons for 5rh1\n",
      "WARNING!!! -210 residues lacked mapping from PDB to UniProt at lig_cons_split for 5rh1\n",
      "Arpeggio output being processed for 5rh1!\n"
     ]
    },
    {
     "name": "stderr",
     "output_type": "stream",
     "text": [
      "2023-11-29 13:50:16,096 prointvar    INFO     PDBx removed existing hydrogens...\n",
      "2023-11-29 13:50:16,099 prointvar    INFO     PDBx reset atom numbers...\n",
      "2023-11-29 13:50:16,237 prointvar    INFO     Parsing PDB atoms from lines...\n"
     ]
    },
    {
     "name": "stdout",
     "output_type": "stream",
     "text": [
      "WARNING!!! -21 residues lacked mapping from PDB to UniProt at arpeggio_lig_cons for 7tiv\n",
      "WARNING!!! -344 residues lacked mapping from PDB to UniProt at lig_cons_split for 7tiv\n",
      "Arpeggio output being processed for 7tiv!\n"
     ]
    },
    {
     "name": "stderr",
     "output_type": "stream",
     "text": [
      "2023-11-29 13:50:16,454 prointvar    INFO     PDBx removed existing hydrogens...\n",
      "2023-11-29 13:50:16,456 prointvar    INFO     PDBx reset atom numbers...\n",
      "2023-11-29 13:50:16,588 prointvar    INFO     Parsing PDB atoms from lines...\n"
     ]
    },
    {
     "name": "stdout",
     "output_type": "stream",
     "text": [
      "WARNING!!! -6 residues lacked mapping from PDB to UniProt at arpeggio_lig_cons for 7aww\n",
      "WARNING!!! -113 residues lacked mapping from PDB to UniProt at lig_cons_split for 7aww\n",
      "Arpeggio output being processed for 7aww!\n"
     ]
    },
    {
     "name": "stderr",
     "output_type": "stream",
     "text": [
      "2023-11-29 13:50:16,807 prointvar    INFO     PDBx removed existing hydrogens...\n",
      "2023-11-29 13:50:16,809 prointvar    INFO     PDBx reset atom numbers...\n",
      "2023-11-29 13:50:17,862 prointvar    INFO     Parsing PDB atoms from lines...\n"
     ]
    },
    {
     "name": "stdout",
     "output_type": "stream",
     "text": [
      "WARNING!!! -23 residues lacked mapping from PDB to UniProt at arpeggio_lig_cons for 6lze\n",
      "WARNING!!! -321 residues lacked mapping from PDB to UniProt at lig_cons_split for 6lze\n",
      "Arpeggio output being processed for 6lze!\n",
      "No LOIs in 7jp1, so skipping!\n"
     ]
    },
    {
     "name": "stderr",
     "output_type": "stream",
     "text": [
      "2023-11-29 13:50:18,080 prointvar    INFO     PDBx removed existing hydrogens...\n",
      "2023-11-29 13:50:18,082 prointvar    INFO     PDBx reset atom numbers...\n",
      "2023-11-29 13:50:18,207 prointvar    INFO     Parsing PDB atoms from lines...\n"
     ]
    },
    {
     "name": "stdout",
     "output_type": "stream",
     "text": [
      "WARNING!!! -5 residues lacked mapping from PDB to UniProt at arpeggio_lig_cons for 5rfb\n",
      "WARNING!!! -75 residues lacked mapping from PDB to UniProt at lig_cons_split for 5rfb\n",
      "Arpeggio output being processed for 5rfb!\n"
     ]
    },
    {
     "name": "stderr",
     "output_type": "stream",
     "text": [
      "2023-11-29 13:50:18,420 prointvar    INFO     PDBx removed existing hydrogens...\n",
      "2023-11-29 13:50:18,422 prointvar    INFO     PDBx reset atom numbers...\n",
      "2023-11-29 13:50:19,495 prointvar    INFO     Parsing PDB atoms from lines...\n"
     ]
    },
    {
     "name": "stdout",
     "output_type": "stream",
     "text": [
      "Arpeggio output being processed for 7nt2!\n"
     ]
    },
    {
     "name": "stderr",
     "output_type": "stream",
     "text": [
      "2023-11-29 13:50:19,710 prointvar    INFO     PDBx removed existing hydrogens...\n",
      "2023-11-29 13:50:19,713 prointvar    INFO     PDBx reset atom numbers...\n",
      "2023-11-29 13:50:19,839 prointvar    INFO     Parsing PDB atoms from lines...\n"
     ]
    },
    {
     "name": "stdout",
     "output_type": "stream",
     "text": [
      "WARNING!!! -7 residues lacked mapping from PDB to UniProt at arpeggio_lig_cons for 5rgg\n",
      "WARNING!!! -113 residues lacked mapping from PDB to UniProt at lig_cons_split for 5rgg\n",
      "Arpeggio output being processed for 5rgg!\n"
     ]
    },
    {
     "name": "stderr",
     "output_type": "stream",
     "text": [
      "2023-11-29 13:50:20,052 prointvar    INFO     PDBx removed existing hydrogens...\n",
      "2023-11-29 13:50:20,054 prointvar    INFO     PDBx reset atom numbers...\n",
      "2023-11-29 13:50:20,184 prointvar    INFO     Parsing PDB atoms from lines...\n"
     ]
    },
    {
     "name": "stdout",
     "output_type": "stream",
     "text": [
      "WARNING!!! -15 residues lacked mapping from PDB to UniProt at arpeggio_lig_cons for 5rfn\n",
      "WARNING!!! -175 residues lacked mapping from PDB to UniProt at lig_cons_split for 5rfn\n",
      "Arpeggio output being processed for 5rfn!\n"
     ]
    },
    {
     "name": "stderr",
     "output_type": "stream",
     "text": [
      "2023-11-29 13:50:20,402 prointvar    INFO     PDBx removed existing hydrogens...\n",
      "2023-11-29 13:50:20,404 prointvar    INFO     PDBx reset atom numbers...\n",
      "2023-11-29 13:50:20,536 prointvar    INFO     Parsing PDB atoms from lines...\n"
     ]
    },
    {
     "name": "stdout",
     "output_type": "stream",
     "text": [
      "WARNING!!! -7 residues lacked mapping from PDB to UniProt at arpeggio_lig_cons for 5rfc\n",
      "WARNING!!! -126 residues lacked mapping from PDB to UniProt at lig_cons_split for 5rfc\n",
      "Arpeggio output being processed for 5rfc!\n"
     ]
    },
    {
     "name": "stderr",
     "output_type": "stream",
     "text": [
      "2023-11-29 13:50:20,748 prointvar    INFO     PDBx removed existing hydrogens...\n",
      "2023-11-29 13:50:20,751 prointvar    INFO     PDBx reset atom numbers...\n",
      "2023-11-29 13:50:20,888 prointvar    INFO     Parsing PDB atoms from lines...\n"
     ]
    },
    {
     "name": "stdout",
     "output_type": "stream",
     "text": [
      "WARNING!!! -20 residues lacked mapping from PDB to UniProt at arpeggio_lig_cons for 7c6u\n",
      "WARNING!!! -339 residues lacked mapping from PDB to UniProt at lig_cons_split for 7c6u\n",
      "Arpeggio output being processed for 7c6u!\n"
     ]
    },
    {
     "name": "stderr",
     "output_type": "stream",
     "text": [
      "2023-11-29 13:50:21,103 prointvar    INFO     PDBx removed existing hydrogens...\n",
      "2023-11-29 13:50:21,106 prointvar    INFO     PDBx reset atom numbers...\n",
      "2023-11-29 13:50:21,233 prointvar    INFO     Parsing PDB atoms from lines...\n"
     ]
    },
    {
     "name": "stdout",
     "output_type": "stream",
     "text": [
      "WARNING!!! -15 residues lacked mapping from PDB to UniProt at arpeggio_lig_cons for 5rew\n",
      "WARNING!!! -133 residues lacked mapping from PDB to UniProt at lig_cons_split for 5rew\n",
      "Arpeggio output being processed for 5rew!\n"
     ]
    },
    {
     "name": "stderr",
     "output_type": "stream",
     "text": [
      "2023-11-29 13:50:21,448 prointvar    INFO     PDBx removed existing hydrogens...\n",
      "2023-11-29 13:50:21,450 prointvar    INFO     PDBx reset atom numbers...\n",
      "2023-11-29 13:50:21,579 prointvar    INFO     Parsing PDB atoms from lines...\n"
     ]
    },
    {
     "name": "stdout",
     "output_type": "stream",
     "text": [
      "WARNING!!! -12 residues lacked mapping from PDB to UniProt at arpeggio_lig_cons for 5rek\n",
      "WARNING!!! -133 residues lacked mapping from PDB to UniProt at lig_cons_split for 5rek\n",
      "Arpeggio output being processed for 5rek!\n"
     ]
    },
    {
     "name": "stderr",
     "output_type": "stream",
     "text": [
      "2023-11-29 13:50:21,790 prointvar    INFO     PDBx removed existing hydrogens...\n",
      "2023-11-29 13:50:21,792 prointvar    INFO     PDBx reset atom numbers...\n",
      "2023-11-29 13:50:22,011 prointvar    INFO     Parsing PDB atoms from lines...\n"
     ]
    },
    {
     "name": "stdout",
     "output_type": "stream",
     "text": [
      "Arpeggio output being processed for 7maz!\n"
     ]
    },
    {
     "name": "stderr",
     "output_type": "stream",
     "text": [
      "2023-11-29 13:50:22,228 prointvar    INFO     PDBx removed existing hydrogens...\n",
      "2023-11-29 13:50:22,230 prointvar    INFO     PDBx reset atom numbers...\n",
      "2023-11-29 13:50:22,453 prointvar    INFO     Parsing PDB atoms from lines...\n"
     ]
    },
    {
     "name": "stdout",
     "output_type": "stream",
     "text": [
      "Arpeggio processing failed for 8dru_bio.pdb\n"
     ]
    },
    {
     "name": "stderr",
     "output_type": "stream",
     "text": [
      "2023-11-29 13:50:22,669 prointvar    INFO     PDBx removed existing hydrogens...\n",
      "2023-11-29 13:50:22,672 prointvar    INFO     PDBx reset atom numbers...\n",
      "2023-11-29 13:50:23,211 prointvar    INFO     Parsing PDB atoms from lines...\n"
     ]
    },
    {
     "name": "stdout",
     "output_type": "stream",
     "text": [
      "Arpeggio output being processed for 8dz2!\n"
     ]
    },
    {
     "name": "stderr",
     "output_type": "stream",
     "text": [
      "2023-11-29 13:50:23,427 prointvar    INFO     PDBx removed existing hydrogens...\n",
      "2023-11-29 13:50:23,429 prointvar    INFO     PDBx reset atom numbers...\n",
      "2023-11-29 13:50:23,559 prointvar    INFO     Parsing PDB atoms from lines...\n"
     ]
    },
    {
     "name": "stdout",
     "output_type": "stream",
     "text": [
      "WARNING!!! -14 residues lacked mapping from PDB to UniProt at arpeggio_lig_cons for 7aga\n",
      "WARNING!!! -173 residues lacked mapping from PDB to UniProt at lig_cons_split for 7aga\n",
      "Arpeggio output being processed for 7aga!\n",
      "No LOIs in 7n5z, so skipping!\n"
     ]
    },
    {
     "name": "stderr",
     "output_type": "stream",
     "text": [
      "2023-11-29 13:50:23,768 prointvar    INFO     PDBx removed existing hydrogens...\n",
      "2023-11-29 13:50:23,771 prointvar    INFO     PDBx reset atom numbers...\n",
      "2023-11-29 13:50:23,964 prointvar    INFO     Parsing PDB atoms from lines...\n"
     ]
    },
    {
     "name": "stdout",
     "output_type": "stream",
     "text": [
      "Arpeggio output being processed for 6m2n!\n",
      "No LOIs in 7c2q, so skipping!\n",
      "No LOIs in 6m03, so skipping!\n"
     ]
    },
    {
     "name": "stderr",
     "output_type": "stream",
     "text": [
      "2023-11-29 13:50:24,183 prointvar    INFO     PDBx removed existing hydrogens...\n",
      "2023-11-29 13:50:24,185 prointvar    INFO     PDBx reset atom numbers...\n",
      "2023-11-29 13:50:24,329 prointvar    INFO     Parsing PDB atoms from lines...\n"
     ]
    },
    {
     "name": "stdout",
     "output_type": "stream",
     "text": [
      "WARNING!!! -26 residues lacked mapping from PDB to UniProt at arpeggio_lig_cons for 7l12\n",
      "WARNING!!! -459 residues lacked mapping from PDB to UniProt at lig_cons_split for 7l12\n",
      "Arpeggio output being processed for 7l12!\n"
     ]
    },
    {
     "name": "stderr",
     "output_type": "stream",
     "text": [
      "2023-11-29 13:50:24,544 prointvar    INFO     PDBx removed existing hydrogens...\n",
      "2023-11-29 13:50:24,546 prointvar    INFO     PDBx reset atom numbers...\n",
      "2023-11-29 13:50:25,561 prointvar    INFO     Parsing PDB atoms from lines...\n"
     ]
    },
    {
     "name": "stdout",
     "output_type": "stream",
     "text": [
      "WARNING!!! -12 residues lacked mapping from PDB to UniProt at arpeggio_lig_cons for 5rgy\n",
      "WARNING!!! -191 residues lacked mapping from PDB to UniProt at lig_cons_split for 5rgy\n",
      "Arpeggio output being processed for 5rgy!\n",
      "No LOIs in 7dvp, so skipping!\n",
      "No LOIs in 7vk7, so skipping!\n",
      "No LOIs in 8dfn, so skipping!\n"
     ]
    },
    {
     "name": "stderr",
     "output_type": "stream",
     "text": [
      "2023-11-29 13:50:25,778 prointvar    INFO     PDBx removed existing hydrogens...\n",
      "2023-11-29 13:50:25,781 prointvar    INFO     PDBx reset atom numbers...\n",
      "2023-11-29 13:50:26,805 prointvar    INFO     Parsing PDB atoms from lines...\n"
     ]
    },
    {
     "name": "stdout",
     "output_type": "stream",
     "text": [
      "WARNING!!! -11 residues lacked mapping from PDB to UniProt at arpeggio_lig_cons for 5rfu\n",
      "WARNING!!! -126 residues lacked mapping from PDB to UniProt at lig_cons_split for 5rfu\n",
      "Arpeggio output being processed for 5rfu!\n",
      "No LOIs in 7t8m, so skipping!\n"
     ]
    },
    {
     "name": "stderr",
     "output_type": "stream",
     "text": [
      "2023-11-29 13:50:27,021 prointvar    INFO     PDBx removed existing hydrogens...\n",
      "2023-11-29 13:50:27,023 prointvar    INFO     PDBx reset atom numbers...\n",
      "2023-11-29 13:50:27,986 prointvar    INFO     Parsing PDB atoms from lines...\n",
      "2023-11-29 13:50:28,203 prointvar    INFO     PDBx removed existing hydrogens...\n",
      "2023-11-29 13:50:28,205 prointvar    INFO     PDBx reset atom numbers...\n",
      "2023-11-29 13:50:29,217 prointvar    INFO     Parsing PDB atoms from lines...\n"
     ]
    },
    {
     "name": "stdout",
     "output_type": "stream",
     "text": [
      "WARNING!!! -37 residues lacked mapping from PDB to UniProt at arpeggio_lig_cons for 6xkh\n",
      "WARNING!!! -245 residues lacked mapping from PDB to UniProt at lig_cons_split for 6xkh\n",
      "Arpeggio output being processed for 6xkh!\n",
      "No LOIs in 6wtm, so skipping!\n"
     ]
    },
    {
     "name": "stderr",
     "output_type": "stream",
     "text": [
      "2023-11-29 13:50:29,427 prointvar    INFO     PDBx removed existing hydrogens...\n",
      "2023-11-29 13:50:29,430 prointvar    INFO     PDBx reset atom numbers...\n",
      "2023-11-29 13:50:29,515 prointvar    INFO     Parsing PDB atoms from lines...\n",
      "2023-11-29 13:50:29,727 prointvar    INFO     PDBx removed existing hydrogens...\n",
      "2023-11-29 13:50:29,729 prointvar    INFO     PDBx reset atom numbers...\n",
      "2023-11-29 13:50:30,693 prointvar    INFO     Parsing PDB atoms from lines...\n",
      "2023-11-29 13:50:30,906 prointvar    INFO     PDBx removed existing hydrogens...\n",
      "2023-11-29 13:50:30,909 prointvar    INFO     PDBx reset atom numbers...\n",
      "2023-11-29 13:50:31,919 prointvar    INFO     Parsing PDB atoms from lines...\n"
     ]
    },
    {
     "name": "stdout",
     "output_type": "stream",
     "text": [
      "WARNING!!! -27 residues lacked mapping from PDB to UniProt at arpeggio_lig_cons for 7wqa\n",
      "WARNING!!! -240 residues lacked mapping from PDB to UniProt at lig_cons_split for 7wqa\n",
      "Arpeggio output being processed for 7wqa!\n"
     ]
    },
    {
     "name": "stderr",
     "output_type": "stream",
     "text": [
      "2023-11-29 13:50:32,134 prointvar    INFO     PDBx removed existing hydrogens...\n",
      "2023-11-29 13:50:32,137 prointvar    INFO     PDBx reset atom numbers...\n",
      "2023-11-29 13:50:33,163 prointvar    INFO     Parsing PDB atoms from lines...\n",
      "2023-11-29 13:50:33,271 prointvar    INFO     PDBx removed existing hydrogens...\n",
      "2023-11-29 13:50:33,273 prointvar    INFO     PDBx reset atom numbers...\n"
     ]
    },
    {
     "name": "stdout",
     "output_type": "stream",
     "text": [
      "Arpeggio output being processed for 6xkf!\n"
     ]
    },
    {
     "name": "stderr",
     "output_type": "stream",
     "text": [
      "2023-11-29 13:50:33,377 prointvar    INFO     Parsing PDB atoms from lines...\n"
     ]
    },
    {
     "name": "stdout",
     "output_type": "stream",
     "text": [
      "Arpeggio output being processed for 7v1t!\n",
      "No LOIs in 7lke, so skipping!\n",
      "No LOIs in 7kph, so skipping!\n"
     ]
    },
    {
     "name": "stderr",
     "output_type": "stream",
     "text": [
      "2023-11-29 13:50:33,591 prointvar    INFO     PDBx removed existing hydrogens...\n",
      "2023-11-29 13:50:33,593 prointvar    INFO     PDBx reset atom numbers...\n",
      "2023-11-29 13:50:34,603 prointvar    INFO     Parsing PDB atoms from lines...\n"
     ]
    },
    {
     "name": "stdout",
     "output_type": "stream",
     "text": [
      "WARNING!!! -9 residues lacked mapping from PDB to UniProt at arpeggio_lig_cons for 5rhb\n",
      "WARNING!!! -83 residues lacked mapping from PDB to UniProt at lig_cons_split for 5rhb\n",
      "Arpeggio output being processed for 5rhb!\n"
     ]
    },
    {
     "name": "stderr",
     "output_type": "stream",
     "text": [
      "2023-11-29 13:50:34,818 prointvar    INFO     PDBx removed existing hydrogens...\n",
      "2023-11-29 13:50:34,821 prointvar    INFO     PDBx reset atom numbers...\n",
      "2023-11-29 13:50:35,900 prointvar    INFO     Parsing PDB atoms from lines...\n"
     ]
    },
    {
     "name": "stdout",
     "output_type": "stream",
     "text": [
      "Arpeggio output being processed for 7z3u!\n"
     ]
    },
    {
     "name": "stderr",
     "output_type": "stream",
     "text": [
      "2023-11-29 13:50:36,108 prointvar    INFO     PDBx removed existing hydrogens...\n",
      "2023-11-29 13:50:36,111 prointvar    INFO     PDBx reset atom numbers...\n",
      "2023-11-29 13:50:36,192 prointvar    INFO     Parsing PDB atoms from lines...\n"
     ]
    },
    {
     "name": "stdout",
     "output_type": "stream",
     "text": [
      "Arpeggio processing failed for 7lzu_bio.pdb\n"
     ]
    },
    {
     "name": "stderr",
     "output_type": "stream",
     "text": [
      "2023-11-29 13:50:36,408 prointvar    INFO     PDBx removed existing hydrogens...\n",
      "2023-11-29 13:50:36,411 prointvar    INFO     PDBx reset atom numbers...\n",
      "2023-11-29 13:50:36,572 prointvar    INFO     Parsing PDB atoms from lines...\n"
     ]
    },
    {
     "name": "stdout",
     "output_type": "stream",
     "text": [
      "Arpeggio output being processed for 7wyp!\n"
     ]
    },
    {
     "name": "stderr",
     "output_type": "stream",
     "text": [
      "2023-11-29 13:50:36,786 prointvar    INFO     PDBx removed existing hydrogens...\n",
      "2023-11-29 13:50:36,788 prointvar    INFO     PDBx reset atom numbers...\n",
      "2023-11-29 13:50:36,990 prointvar    INFO     Parsing PDB atoms from lines...\n"
     ]
    },
    {
     "name": "stdout",
     "output_type": "stream",
     "text": [
      "Arpeggio output being processed for 7c7p!\n"
     ]
    },
    {
     "name": "stderr",
     "output_type": "stream",
     "text": [
      "2023-11-29 13:50:37,205 prointvar    INFO     PDBx removed existing hydrogens...\n",
      "2023-11-29 13:50:37,208 prointvar    INFO     PDBx reset atom numbers...\n",
      "2023-11-29 13:50:38,203 prointvar    INFO     Parsing PDB atoms from lines...\n",
      "2023-11-29 13:50:38,415 prointvar    INFO     PDBx removed existing hydrogens...\n",
      "2023-11-29 13:50:38,417 prointvar    INFO     PDBx reset atom numbers...\n",
      "2023-11-29 13:50:38,770 prointvar    INFO     Parsing PDB atoms from lines...\n"
     ]
    },
    {
     "name": "stdout",
     "output_type": "stream",
     "text": [
      "Arpeggio output being processed for 6y2g!\n",
      "No LOIs in 7vk0, so skipping!\n"
     ]
    },
    {
     "name": "stderr",
     "output_type": "stream",
     "text": [
      "2023-11-29 13:50:38,986 prointvar    INFO     PDBx removed existing hydrogens...\n",
      "2023-11-29 13:50:38,989 prointvar    INFO     PDBx reset atom numbers...\n",
      "2023-11-29 13:50:39,139 prointvar    INFO     Parsing PDB atoms from lines...\n"
     ]
    },
    {
     "name": "stdout",
     "output_type": "stream",
     "text": [
      "WARNING!!! -27 residues lacked mapping from PDB to UniProt at arpeggio_lig_cons for 8dox\n",
      "WARNING!!! -447 residues lacked mapping from PDB to UniProt at lig_cons_split for 8dox\n",
      "Arpeggio output being processed for 8dox!\n"
     ]
    },
    {
     "name": "stderr",
     "output_type": "stream",
     "text": [
      "2023-11-29 13:50:39,356 prointvar    INFO     PDBx removed existing hydrogens...\n",
      "2023-11-29 13:50:39,358 prointvar    INFO     PDBx reset atom numbers...\n",
      "2023-11-29 13:50:39,506 prointvar    INFO     Parsing PDB atoms from lines...\n"
     ]
    },
    {
     "name": "stdout",
     "output_type": "stream",
     "text": [
      "WARNING!!! -20 residues lacked mapping from PDB to UniProt at arpeggio_lig_cons for 7rmz\n",
      "WARNING!!! -342 residues lacked mapping from PDB to UniProt at lig_cons_split for 7rmz\n",
      "Arpeggio output being processed for 7rmz!\n",
      "No LOIs in 7khp, so skipping!\n"
     ]
    },
    {
     "name": "stderr",
     "output_type": "stream",
     "text": [
      "2023-11-29 13:50:39,721 prointvar    INFO     PDBx removed existing hydrogens...\n",
      "2023-11-29 13:50:39,723 prointvar    INFO     PDBx reset atom numbers...\n",
      "2023-11-29 13:50:39,895 prointvar    INFO     Parsing PDB atoms from lines...\n"
     ]
    },
    {
     "name": "stdout",
     "output_type": "stream",
     "text": [
      "Arpeggio output being processed for 7rvx!\n"
     ]
    },
    {
     "name": "stderr",
     "output_type": "stream",
     "text": [
      "2023-11-29 13:50:40,114 prointvar    INFO     PDBx removed existing hydrogens...\n",
      "2023-11-29 13:50:40,116 prointvar    INFO     PDBx reset atom numbers...\n",
      "2023-11-29 13:50:41,134 prointvar    INFO     Parsing PDB atoms from lines...\n"
     ]
    },
    {
     "name": "stdout",
     "output_type": "stream",
     "text": [
      "WARNING!!! -12 residues lacked mapping from PDB to UniProt at arpeggio_lig_cons for 5rep\n",
      "WARNING!!! -134 residues lacked mapping from PDB to UniProt at lig_cons_split for 5rep\n",
      "Arpeggio output being processed for 5rep!\n"
     ]
    },
    {
     "name": "stderr",
     "output_type": "stream",
     "text": [
      "2023-11-29 13:50:41,346 prointvar    INFO     PDBx removed existing hydrogens...\n",
      "2023-11-29 13:50:41,348 prointvar    INFO     PDBx reset atom numbers...\n",
      "2023-11-29 13:50:41,495 prointvar    INFO     Parsing PDB atoms from lines...\n"
     ]
    },
    {
     "name": "stdout",
     "output_type": "stream",
     "text": [
      "WARNING!!! -25 residues lacked mapping from PDB to UniProt at arpeggio_lig_cons for 7m8z\n",
      "WARNING!!! -388 residues lacked mapping from PDB to UniProt at lig_cons_split for 7m8z\n",
      "Arpeggio output being processed for 7m8z!\n"
     ]
    },
    {
     "name": "stderr",
     "output_type": "stream",
     "text": [
      "2023-11-29 13:50:41,705 prointvar    INFO     PDBx removed existing hydrogens...\n",
      "2023-11-29 13:50:41,707 prointvar    INFO     PDBx reset atom numbers...\n",
      "2023-11-29 13:50:42,332 prointvar    INFO     Parsing PDB atoms from lines...\n",
      "2023-11-29 13:50:42,445 prointvar    INFO     PDBx removed existing hydrogens...\n",
      "2023-11-29 13:50:42,447 prointvar    INFO     PDBx reset atom numbers...\n",
      "2023-11-29 13:50:42,504 prointvar    INFO     Parsing PDB atoms from lines...\n"
     ]
    },
    {
     "name": "stdout",
     "output_type": "stream",
     "text": [
      "Arpeggio output being processed for 7mb3!\n"
     ]
    },
    {
     "name": "stderr",
     "output_type": "stream",
     "text": [
      "2023-11-29 13:50:42,615 prointvar    INFO     PDBx removed existing hydrogens...\n",
      "2023-11-29 13:50:42,617 prointvar    INFO     PDBx reset atom numbers...\n",
      "2023-11-29 13:50:42,714 prointvar    INFO     Parsing PDB atoms from lines...\n"
     ]
    },
    {
     "name": "stdout",
     "output_type": "stream",
     "text": [
      "WARNING!!! -4 residues lacked mapping from PDB to UniProt at arpeggio_lig_cons for 7aeg\n",
      "WARNING!!! -45 residues lacked mapping from PDB to UniProt at lig_cons_split for 7aeg\n",
      "Arpeggio output being processed for 7aeg!\n"
     ]
    },
    {
     "name": "stderr",
     "output_type": "stream",
     "text": [
      "2023-11-29 13:50:42,928 prointvar    INFO     PDBx removed existing hydrogens...\n",
      "2023-11-29 13:50:42,930 prointvar    INFO     PDBx reset atom numbers...\n",
      "2023-11-29 13:50:43,065 prointvar    INFO     Parsing PDB atoms from lines...\n"
     ]
    },
    {
     "name": "stdout",
     "output_type": "stream",
     "text": [
      "WARNING!!! -8 residues lacked mapping from PDB to UniProt at arpeggio_lig_cons for 5ref\n",
      "WARNING!!! -127 residues lacked mapping from PDB to UniProt at lig_cons_split for 5ref\n",
      "Arpeggio output being processed for 5ref!\n"
     ]
    },
    {
     "name": "stderr",
     "output_type": "stream",
     "text": [
      "2023-11-29 13:50:43,279 prointvar    INFO     PDBx removed existing hydrogens...\n",
      "2023-11-29 13:50:43,282 prointvar    INFO     PDBx reset atom numbers...\n",
      "2023-11-29 13:50:43,775 prointvar    INFO     Parsing PDB atoms from lines...\n"
     ]
    },
    {
     "name": "stdout",
     "output_type": "stream",
     "text": [
      "Arpeggio output being processed for 8dz9!\n"
     ]
    },
    {
     "name": "stderr",
     "output_type": "stream",
     "text": [
      "2023-11-29 13:50:43,978 prointvar    INFO     PDBx removed existing hydrogens...\n",
      "2023-11-29 13:50:43,980 prointvar    INFO     PDBx reset atom numbers...\n",
      "2023-11-29 13:50:44,996 prointvar    INFO     Parsing PDB atoms from lines...\n",
      "2023-11-29 13:50:45,196 prointvar    INFO     PDBx removed existing hydrogens...\n",
      "2023-11-29 13:50:45,199 prointvar    INFO     PDBx reset atom numbers...\n",
      "2023-11-29 13:50:48,564 prointvar    INFO     Parsing PDB atoms from lines...\n"
     ]
    },
    {
     "name": "stdout",
     "output_type": "stream",
     "text": [
      "Arpeggio output being processed for 8e6a!\n"
     ]
    },
    {
     "name": "stderr",
     "output_type": "stream",
     "text": [
      "2023-11-29 13:50:48,778 prointvar    INFO     PDBx removed existing hydrogens...\n",
      "2023-11-29 13:50:48,780 prointvar    INFO     PDBx reset atom numbers...\n",
      "2023-11-29 13:50:49,791 prointvar    INFO     Parsing PDB atoms from lines...\n"
     ]
    },
    {
     "name": "stdout",
     "output_type": "stream",
     "text": [
      "WARNING!!! -13 residues lacked mapping from PDB to UniProt at arpeggio_lig_cons for 7buy\n",
      "WARNING!!! -105 residues lacked mapping from PDB to UniProt at lig_cons_split for 7buy\n",
      "Arpeggio output being processed for 7buy!\n"
     ]
    },
    {
     "name": "stderr",
     "output_type": "stream",
     "text": [
      "2023-11-29 13:50:50,006 prointvar    INFO     PDBx removed existing hydrogens...\n",
      "2023-11-29 13:50:50,008 prointvar    INFO     PDBx reset atom numbers...\n",
      "2023-11-29 13:50:51,012 prointvar    INFO     Parsing PDB atoms from lines...\n"
     ]
    },
    {
     "name": "stdout",
     "output_type": "stream",
     "text": [
      "WARNING!!! -9 residues lacked mapping from PDB to UniProt at arpeggio_lig_cons for 5rhc\n",
      "WARNING!!! -83 residues lacked mapping from PDB to UniProt at lig_cons_split for 5rhc\n",
      "Arpeggio output being processed for 5rhc!\n"
     ]
    },
    {
     "name": "stderr",
     "output_type": "stream",
     "text": [
      "2023-11-29 13:50:51,229 prointvar    INFO     PDBx removed existing hydrogens...\n",
      "2023-11-29 13:50:51,231 prointvar    INFO     PDBx reset atom numbers...\n",
      "2023-11-29 13:50:51,407 prointvar    INFO     Parsing PDB atoms from lines...\n"
     ]
    },
    {
     "name": "stdout",
     "output_type": "stream",
     "text": [
      "Arpeggio output being processed for 7tll!\n"
     ]
    },
    {
     "name": "stderr",
     "output_type": "stream",
     "text": [
      "2023-11-29 13:50:51,618 prointvar    INFO     PDBx removed existing hydrogens...\n",
      "2023-11-29 13:50:51,620 prointvar    INFO     PDBx reset atom numbers...\n",
      "2023-11-29 13:50:52,593 prointvar    INFO     Parsing PDB atoms from lines...\n",
      "2023-11-29 13:50:52,802 prointvar    INFO     PDBx removed existing hydrogens...\n",
      "2023-11-29 13:50:52,804 prointvar    INFO     PDBx reset atom numbers...\n",
      "2023-11-29 13:50:53,917 prointvar    INFO     Parsing PDB atoms from lines...\n"
     ]
    },
    {
     "name": "stdout",
     "output_type": "stream",
     "text": [
      "Arpeggio output being processed for 7t4b!\n"
     ]
    },
    {
     "name": "stderr",
     "output_type": "stream",
     "text": [
      "2023-11-29 13:50:54,133 prointvar    INFO     PDBx removed existing hydrogens...\n",
      "2023-11-29 13:50:54,136 prointvar    INFO     PDBx reset atom numbers...\n",
      "2023-11-29 13:50:54,279 prointvar    INFO     Parsing PDB atoms from lines...\n"
     ]
    },
    {
     "name": "stdout",
     "output_type": "stream",
     "text": [
      "WARNING!!! -22 residues lacked mapping from PDB to UniProt at arpeggio_lig_cons for 7lyh\n",
      "WARNING!!! -343 residues lacked mapping from PDB to UniProt at lig_cons_split for 7lyh\n",
      "Arpeggio output being processed for 7lyh!\n"
     ]
    },
    {
     "name": "stderr",
     "output_type": "stream",
     "text": [
      "2023-11-29 13:50:54,499 prointvar    INFO     PDBx removed existing hydrogens...\n",
      "2023-11-29 13:50:54,501 prointvar    INFO     PDBx reset atom numbers...\n",
      "2023-11-29 13:50:55,511 prointvar    INFO     Parsing PDB atoms from lines...\n"
     ]
    },
    {
     "name": "stdout",
     "output_type": "stream",
     "text": [
      "WARNING!!! -19 residues lacked mapping from PDB to UniProt at arpeggio_lig_cons for 7aws\n",
      "WARNING!!! -231 residues lacked mapping from PDB to UniProt at lig_cons_split for 7aws\n",
      "Arpeggio output being processed for 7aws!\n"
     ]
    },
    {
     "name": "stderr",
     "output_type": "stream",
     "text": [
      "2023-11-29 13:50:55,732 prointvar    INFO     PDBx removed existing hydrogens...\n",
      "2023-11-29 13:50:55,735 prointvar    INFO     PDBx reset atom numbers...\n",
      "2023-11-29 13:50:55,868 prointvar    INFO     Parsing PDB atoms from lines...\n"
     ]
    },
    {
     "name": "stdout",
     "output_type": "stream",
     "text": [
      "WARNING!!! -13 residues lacked mapping from PDB to UniProt at arpeggio_lig_cons for 6xb2\n",
      "WARNING!!! -112 residues lacked mapping from PDB to UniProt at lig_cons_split for 6xb2\n",
      "Arpeggio output being processed for 6xb2!\n"
     ]
    },
    {
     "name": "stderr",
     "output_type": "stream",
     "text": [
      "2023-11-29 13:50:56,080 prointvar    INFO     PDBx removed existing hydrogens...\n",
      "2023-11-29 13:50:56,083 prointvar    INFO     PDBx reset atom numbers...\n",
      "2023-11-29 13:50:57,148 prointvar    INFO     Parsing PDB atoms from lines...\n"
     ]
    },
    {
     "name": "stdout",
     "output_type": "stream",
     "text": [
      "WARNING!!! -26 residues lacked mapping from PDB to UniProt at arpeggio_lig_cons for 7e6k\n",
      "WARNING!!! -335 residues lacked mapping from PDB to UniProt at lig_cons_split for 7e6k\n",
      "Arpeggio output being processed for 7e6k!\n",
      "No LOIs in 7uu7, so skipping!\n"
     ]
    },
    {
     "name": "stderr",
     "output_type": "stream",
     "text": [
      "2023-11-29 13:50:57,358 prointvar    INFO     PDBx removed existing hydrogens...\n",
      "2023-11-29 13:50:57,361 prointvar    INFO     PDBx reset atom numbers...\n",
      "2023-11-29 13:50:57,542 prointvar    INFO     Parsing PDB atoms from lines...\n"
     ]
    },
    {
     "name": "stdout",
     "output_type": "stream",
     "text": [
      "Arpeggio output being processed for 7maw!\n",
      "No LOIs in 7dw6, so skipping!\n"
     ]
    },
    {
     "name": "stderr",
     "output_type": "stream",
     "text": [
      "2023-11-29 13:50:57,760 prointvar    INFO     PDBx removed existing hydrogens...\n",
      "2023-11-29 13:50:57,763 prointvar    INFO     PDBx reset atom numbers...\n",
      "2023-11-29 13:50:58,774 prointvar    INFO     Parsing PDB atoms from lines...\n"
     ]
    },
    {
     "name": "stdout",
     "output_type": "stream",
     "text": [
      "WARNING!!! -12 residues lacked mapping from PDB to UniProt at arpeggio_lig_cons for 7awu\n",
      "WARNING!!! -142 residues lacked mapping from PDB to UniProt at lig_cons_split for 7awu\n",
      "Arpeggio output being processed for 7awu!\n",
      "No LOIs in 7tc4, so skipping!\n",
      "No LOIs in 8ddi, so skipping!\n"
     ]
    },
    {
     "name": "stderr",
     "output_type": "stream",
     "text": [
      "2023-11-29 13:50:58,987 prointvar    INFO     PDBx removed existing hydrogens...\n",
      "2023-11-29 13:50:58,990 prointvar    INFO     PDBx reset atom numbers...\n",
      "2023-11-29 13:50:59,130 prointvar    INFO     Parsing PDB atoms from lines...\n"
     ]
    },
    {
     "name": "stdout",
     "output_type": "stream",
     "text": [
      "WARNING!!! -24 residues lacked mapping from PDB to UniProt at arpeggio_lig_cons for 7s6x\n",
      "WARNING!!! -391 residues lacked mapping from PDB to UniProt at lig_cons_split for 7s6x\n",
      "Arpeggio output being processed for 7s6x!\n",
      "No LOIs in 7uu9, so skipping!\n"
     ]
    },
    {
     "name": "stderr",
     "output_type": "stream",
     "text": [
      "2023-11-29 13:50:59,344 prointvar    INFO     PDBx removed existing hydrogens...\n",
      "2023-11-29 13:50:59,347 prointvar    INFO     PDBx reset atom numbers...\n",
      "2023-11-29 13:50:59,477 prointvar    INFO     Parsing PDB atoms from lines...\n"
     ]
    },
    {
     "name": "stdout",
     "output_type": "stream",
     "text": [
      "WARNING!!! -14 residues lacked mapping from PDB to UniProt at arpeggio_lig_cons for 5rfk\n",
      "WARNING!!! -132 residues lacked mapping from PDB to UniProt at lig_cons_split for 5rfk\n",
      "Arpeggio output being processed for 5rfk!\n",
      "No LOIs in 7vjz, so skipping!\n"
     ]
    },
    {
     "name": "stderr",
     "output_type": "stream",
     "text": [
      "2023-11-29 13:50:59,694 prointvar    INFO     PDBx removed existing hydrogens...\n",
      "2023-11-29 13:50:59,696 prointvar    INFO     PDBx reset atom numbers...\n"
     ]
    },
    {
     "name": "stdout",
     "output_type": "stream",
     "text": [
      "WARNING!!! -15 residues lacked mapping from PDB to UniProt at arpeggio_lig_cons for 5rey\n",
      "WARNING!!! -188 residues lacked mapping from PDB to UniProt at lig_cons_split for 5rey\n",
      "Arpeggio output being processed for 5rey!\n",
      "Starting BS definition section!\n"
     ]
    },
    {
     "name": "stderr",
     "output_type": "stream",
     "text": [
      "2023-11-29 13:51:11,559 prointvar    INFO     Parsing PDB atoms from lines...\n"
     ]
    },
    {
     "name": "stdout",
     "output_type": "stream",
     "text": [
      "Chimera script successfully created!\n",
      "Binding sites were sucessfully defined!\n"
     ]
    },
    {
     "name": "stderr",
     "output_type": "stream",
     "text": [
      "2023-11-29 13:51:11,773 prointvar    INFO     PDBx removed existing hydrogens...\n",
      "2023-11-29 13:51:11,776 prointvar    INFO     PDBx reset atom numbers...\n"
     ]
    },
    {
     "name": "stdout",
     "output_type": "stream",
     "text": [
      "jackhmmer was generated correctly!\n",
      "Aln info was correctly created and saved!\n",
      "There are 0 sequences in the MSA for MPro 0. Skipping to next protein sequence\n",
      "Fragsys has finished running for MPro!\n"
     ]
    }
   ],
   "source": [
    "for prot in [\"MPro\",]:\n",
    "    print(\"Starting to process {}\".format(prot)) \n",
    "    main(main_dir, prot, input_df)"
   ]
  },
  {
   "cell_type": "code",
   "execution_count": 245,
   "metadata": {
    "collapsed": true,
    "jupyter": {
     "outputs_hidden": true
    }
   },
   "outputs": [
    {
     "name": "stdout",
     "output_type": "stream",
     "text": [
      "Starting to process MPro\n",
      "Starting to process group 0 of ['0'] in MPro\n",
      "Starting CIF to PDB conversion section!\n",
      "Starting STAMP section!\n",
      "Starting UNIPROT-PDB mapping section!\n",
      "Starting ARPEGGIO section!\n",
      "No LOIs in 7tbt, so skipping!\n",
      "No LOIs in 7dvy, so skipping!\n",
      "No LOIs in 7mhn, so skipping!\n",
      "No LOIs in 5r8t, so skipping!\n",
      "No LOIs in 8drr, so skipping!\n",
      "No LOIs in 7vk3, so skipping!\n",
      "No LOIs in 7mho, so skipping!\n",
      "No LOIs in 6y2e, so skipping!\n",
      "No LOIs in 6xoa, so skipping!\n",
      "No LOIs in 7pxz, so skipping!\n",
      "No LOIs in 8ds2, so skipping!\n",
      "No LOIs in 8dry, so skipping!\n",
      "No LOIs in 7vjy, so skipping!\n",
      "No LOIs in 7ar5, so skipping!\n",
      "No LOIs in 7t9y, so skipping!\n",
      "No LOIs in 7lmc, so skipping!\n",
      "No LOIs in 7jpy, so skipping!\n",
      "No LOIs in 8ehm, so skipping!\n",
      "No LOIs in 7dvw, so skipping!\n",
      "No LOIs in 7mhh, so skipping!\n",
      "No LOIs in 7mhf, so skipping!\n",
      "No LOIs in 8ds1, so skipping!\n",
      "No LOIs in 7t2t, so skipping!\n",
      "No LOIs in 7jst, so skipping!\n"
     ]
    },
    {
     "name": "stderr",
     "output_type": "stream",
     "text": [
      "2023-11-29 15:40:57,935 prointvar    INFO     Parsing PDB atoms from lines...\n"
     ]
    },
    {
     "name": "stdout",
     "output_type": "stream",
     "text": [
      "No LOIs in 8d35, so skipping!\n",
      "No LOIs in 7z2k, so skipping!\n",
      "No LOIs in 8d4n, so skipping!\n",
      "No LOIs in 7c2y, so skipping!\n",
      "No LOIs in 7s82, so skipping!\n"
     ]
    },
    {
     "name": "stderr",
     "output_type": "stream",
     "text": [
      "2023-11-29 15:40:58,148 prointvar    INFO     PDBx removed existing hydrogens...\n",
      "2023-11-29 15:40:58,151 prointvar    INFO     PDBx reset atom numbers...\n",
      "2023-11-29 15:40:58,324 prointvar    INFO     Parsing PDB atoms from lines...\n"
     ]
    },
    {
     "name": "stdout",
     "output_type": "stream",
     "text": [
      "Arpeggio processing failed for 8czx_bio.pdb\n",
      "No LOIs in 7nwx, so skipping!\n"
     ]
    },
    {
     "name": "stderr",
     "output_type": "stream",
     "text": [
      "2023-11-29 15:40:58,534 prointvar    INFO     PDBx removed existing hydrogens...\n",
      "2023-11-29 15:40:58,537 prointvar    INFO     PDBx reset atom numbers...\n",
      "2023-11-29 15:40:58,721 prointvar    INFO     Parsing PDB atoms from lines...\n"
     ]
    },
    {
     "name": "stdout",
     "output_type": "stream",
     "text": [
      "Arpeggio processing failed for 7m03_bio.pdb\n",
      "No LOIs in 7mhj, so skipping!\n",
      "No LOIs in 8e4j, so skipping!\n"
     ]
    },
    {
     "name": "stderr",
     "output_type": "stream",
     "text": [
      "2023-11-29 15:40:58,930 prointvar    INFO     PDBx removed existing hydrogens...\n",
      "2023-11-29 15:40:58,933 prointvar    INFO     PDBx reset atom numbers...\n"
     ]
    },
    {
     "name": "stdout",
     "output_type": "stream",
     "text": [
      "Arpeggio processing failed for 7m01_bio.pdb\n",
      "No LOIs in 7vk2, so skipping!\n",
      "No LOIs in 7mb9, so skipping!\n",
      "No LOIs in 7v7m, so skipping!\n",
      "No LOIs in 7ali, so skipping!\n",
      "No LOIs in 8ehk, so skipping!\n",
      "No LOIs in 8drx, so skipping!\n",
      "No LOIs in 7vk5, so skipping!\n",
      "No LOIs in 7ta4, so skipping!\n",
      "No LOIs in 7djr, so skipping!\n",
      "No LOIs in 7mb4, so skipping!\n",
      "No LOIs in 7dvx, so skipping!\n",
      "No LOIs in 8ehj, so skipping!\n",
      "No LOIs in 7nij, so skipping!\n",
      "No LOIs in 7zb6, so skipping!\n",
      "No LOIs in 7mhl, so skipping!\n"
     ]
    },
    {
     "name": "stderr",
     "output_type": "stream",
     "text": [
      "2023-11-29 15:40:59,580 prointvar    INFO     Parsing PDB atoms from lines...\n"
     ]
    },
    {
     "name": "stdout",
     "output_type": "stream",
     "text": [
      "No LOIs in 7t8r, so skipping!\n",
      "No LOIs in 7kfi, so skipping!\n",
      "No LOIs in 7dw0, so skipping!\n",
      "No LOIs in 7mb6, so skipping!\n",
      "No LOIs in 7t2v, so skipping!\n",
      "No LOIs in 7nxh, so skipping!\n"
     ]
    },
    {
     "name": "stderr",
     "output_type": "stream",
     "text": [
      "2023-11-29 15:40:59,787 prointvar    INFO     PDBx removed existing hydrogens...\n",
      "2023-11-29 15:40:59,789 prointvar    INFO     PDBx reset atom numbers...\n",
      "2023-11-29 15:40:59,964 prointvar    INFO     Parsing PDB atoms from lines...\n"
     ]
    },
    {
     "name": "stdout",
     "output_type": "stream",
     "text": [
      "Arpeggio processing failed for 7lzw_bio.pdb\n",
      "No LOIs in 6m2q, so skipping!\n",
      "No LOIs in 7mgr, so skipping!\n",
      "No LOIs in 7vjw, so skipping!\n"
     ]
    },
    {
     "name": "stderr",
     "output_type": "stream",
     "text": [
      "2023-11-29 15:41:00,176 prointvar    INFO     PDBx removed existing hydrogens...\n",
      "2023-11-29 15:41:00,178 prointvar    INFO     PDBx reset atom numbers...\n",
      "2023-11-29 15:41:00,365 prointvar    INFO     Parsing PDB atoms from lines...\n"
     ]
    },
    {
     "name": "stdout",
     "output_type": "stream",
     "text": [
      "Arpeggio processing failed for 8e68_bio.pdb\n",
      "No LOIs in 8dfe, so skipping!\n",
      "No LOIs in 6wqf, so skipping!\n",
      "No LOIs in 7vk1, so skipping!\n",
      "No LOIs in 7d64, so skipping!\n",
      "No LOIs in 7mb5, so skipping!\n",
      "No LOIs in 7zb7, so skipping!\n",
      "No LOIs in 7dg6, so skipping!\n"
     ]
    },
    {
     "name": "stderr",
     "output_type": "stream",
     "text": [
      "2023-11-29 15:41:00,571 prointvar    INFO     PDBx removed existing hydrogens...\n",
      "2023-11-29 15:41:00,574 prointvar    INFO     PDBx reset atom numbers...\n",
      "2023-11-29 15:41:00,676 prointvar    INFO     Parsing PDB atoms from lines...\n"
     ]
    },
    {
     "name": "stdout",
     "output_type": "stream",
     "text": [
      "Arpeggio processing failed for 7m02_bio.pdb\n",
      "No LOIs in 8ehl, so skipping!\n",
      "No LOIs in 7mgs, so skipping!\n",
      "No LOIs in 7zb8, so skipping!\n",
      "No LOIs in 8drs, so skipping!\n"
     ]
    },
    {
     "name": "stderr",
     "output_type": "stream",
     "text": [
      "2023-11-29 15:41:00,889 prointvar    INFO     PDBx removed existing hydrogens...\n",
      "2023-11-29 15:41:00,892 prointvar    INFO     PDBx reset atom numbers...\n",
      "2023-11-29 15:41:01,023 prointvar    INFO     Parsing PDB atoms from lines...\n"
     ]
    },
    {
     "name": "stdout",
     "output_type": "stream",
     "text": [
      "Arpeggio processing failed for 7m04_bio.pdb\n"
     ]
    },
    {
     "name": "stderr",
     "output_type": "stream",
     "text": [
      "2023-11-29 15:41:01,242 prointvar    INFO     PDBx removed existing hydrogens...\n",
      "2023-11-29 15:41:01,245 prointvar    INFO     PDBx reset atom numbers...\n"
     ]
    },
    {
     "name": "stdout",
     "output_type": "stream",
     "text": [
      "Arpeggio processing failed for 6wtt_bio.pdb\n",
      "No LOIs in 7cwb, so skipping!\n",
      "No LOIs in 6yb7, so skipping!\n",
      "No LOIs in 7vk6, so skipping!\n",
      "No LOIs in 7vk8, so skipping!\n",
      "No LOIs in 8d4j, so skipping!\n",
      "No LOIs in 8d4l, so skipping!\n",
      "No LOIs in 7pfl, so skipping!\n",
      "No LOIs in 8ds0, so skipping!\n",
      "No LOIs in 7mb7, so skipping!\n",
      "No LOIs in 7cam, so skipping!\n",
      "No LOIs in 7cwc, so skipping!\n",
      "No LOIs in 7mhg, so skipping!\n",
      "No LOIs in 7k3t, so skipping!\n",
      "No LOIs in 7t2u, so skipping!\n",
      "No LOIs in 7mhq, so skipping!\n"
     ]
    },
    {
     "name": "stderr",
     "output_type": "stream",
     "text": [
      "2023-11-29 15:41:01,886 prointvar    INFO     Parsing PDB atoms from lines...\n",
      "2023-11-29 15:41:02,103 prointvar    INFO     PDBx removed existing hydrogens...\n",
      "2023-11-29 15:41:02,105 prointvar    INFO     PDBx reset atom numbers...\n"
     ]
    },
    {
     "name": "stdout",
     "output_type": "stream",
     "text": [
      "Arpeggio processing failed for 8drw_bio.pdb\n",
      "No LOIs in 7t70, so skipping!\n",
      "No LOIs in 7pzq, so skipping!\n",
      "No LOIs in 7mhp, so skipping!\n",
      "No LOIs in 7baj, so skipping!\n",
      "No LOIs in 7alh, so skipping!\n",
      "No LOIs in 7mhk, so skipping!\n",
      "No LOIs in 7vjx, so skipping!\n",
      "No LOIs in 7mb8, so skipping!\n",
      "No LOIs in 7ar6, so skipping!\n",
      "No LOIs in 7e5x, so skipping!\n"
     ]
    },
    {
     "name": "stderr",
     "output_type": "stream",
     "text": [
      "2023-11-29 15:41:02,763 prointvar    INFO     Parsing PDB atoms from lines...\n"
     ]
    },
    {
     "name": "stdout",
     "output_type": "stream",
     "text": [
      "No LOIs in 8ey2, so skipping!\n",
      "No LOIs in 7vah, so skipping!\n",
      "No LOIs in 6y84, so skipping!\n",
      "No LOIs in 7bro, so skipping!\n",
      "No LOIs in 7mbg, so skipping!\n",
      "No LOIs in 7jun, so skipping!\n",
      "No LOIs in 7tb2, so skipping!\n"
     ]
    },
    {
     "name": "stderr",
     "output_type": "stream",
     "text": [
      "2023-11-29 15:41:02,971 prointvar    INFO     PDBx removed existing hydrogens...\n",
      "2023-11-29 15:41:02,974 prointvar    INFO     PDBx reset atom numbers...\n"
     ]
    },
    {
     "name": "stdout",
     "output_type": "stream",
     "text": [
      "Arpeggio processing failed for 7lzv_bio.pdb\n",
      "No LOIs in 7dav, so skipping!\n",
      "No LOIs in 7jvz, so skipping!\n",
      "No LOIs in 7uu8, so skipping!\n",
      "No LOIs in 7uu6, so skipping!\n",
      "No LOIs in 7n6n, so skipping!\n",
      "No LOIs in 7jr3, so skipping!\n",
      "No LOIs in 7joy, so skipping!\n",
      "No LOIs in 6xhu, so skipping!\n",
      "No LOIs in 8drt, so skipping!\n",
      "No LOIs in 7mhm, so skipping!\n",
      "No LOIs in 7ta7, so skipping!\n",
      "No LOIs in 7mhi, so skipping!\n",
      "No LOIs in 7vk4, so skipping!\n",
      "No LOIs in 7lkd, so skipping!\n"
     ]
    },
    {
     "name": "stderr",
     "output_type": "stream",
     "text": [
      "2023-11-29 15:41:03,632 prointvar    INFO     Parsing PDB atoms from lines...\n"
     ]
    },
    {
     "name": "stdout",
     "output_type": "stream",
     "text": [
      "No LOIs in 7bb2, so skipping!\n",
      "No LOIs in 7jp1, so skipping!\n"
     ]
    },
    {
     "name": "stderr",
     "output_type": "stream",
     "text": [
      "2023-11-29 15:41:03,847 prointvar    INFO     PDBx removed existing hydrogens...\n",
      "2023-11-29 15:41:03,849 prointvar    INFO     PDBx reset atom numbers...\n",
      "2023-11-29 15:41:04,144 prointvar    INFO     Parsing PDB atoms from lines...\n"
     ]
    },
    {
     "name": "stdout",
     "output_type": "stream",
     "text": [
      "Arpeggio processing failed for 8dru_bio.pdb\n",
      "No LOIs in 7n5z, so skipping!\n",
      "No LOIs in 7c2q, so skipping!\n",
      "No LOIs in 6m03, so skipping!\n",
      "No LOIs in 7dvp, so skipping!\n",
      "No LOIs in 7vk7, so skipping!\n",
      "No LOIs in 8dfn, so skipping!\n",
      "No LOIs in 7t8m, so skipping!\n",
      "No LOIs in 6wtm, so skipping!\n",
      "No LOIs in 7lke, so skipping!\n",
      "No LOIs in 7kph, so skipping!\n"
     ]
    },
    {
     "name": "stderr",
     "output_type": "stream",
     "text": [
      "2023-11-29 15:41:04,351 prointvar    INFO     PDBx removed existing hydrogens...\n",
      "2023-11-29 15:41:04,354 prointvar    INFO     PDBx reset atom numbers...\n"
     ]
    },
    {
     "name": "stdout",
     "output_type": "stream",
     "text": [
      "Arpeggio processing failed for 7lzu_bio.pdb\n",
      "No LOIs in 7vk0, so skipping!\n",
      "No LOIs in 7khp, so skipping!\n",
      "No LOIs in 7uu7, so skipping!\n",
      "No LOIs in 7dw6, so skipping!\n",
      "No LOIs in 7tc4, so skipping!\n",
      "No LOIs in 8ddi, so skipping!\n",
      "No LOIs in 7uu9, so skipping!\n",
      "No LOIs in 7vjz, so skipping!\n",
      "Starting BS definition section!\n",
      "Shenkin dataframe was created and saved correctly!\n"
     ]
    },
    {
     "name": "stderr",
     "output_type": "stream",
     "text": [
      "2023-11-29 15:41:05,677 py.warnings  WARNING  /cluster/home/2394007/JSU_fragsys/FRAGSYS/fragsys.py:1135: SettingWithCopyWarning: \n",
      "A value is trying to be set on a copy of a slice from a DataFrame.\n",
      "Try using .loc[row_indexer,col_indexer] = value instead\n",
      "\n",
      "See the caveats in the documentation: http://pandas.pydata.org/pandas-docs/stable/indexing.html#indexing-view-versus-copy\n",
      "  for a given MSA column, calculates some basic statistics\n",
      "\n",
      "2023-11-29 15:41:06,674 py.warnings  WARNING  /cluster/home/2394007/JSU_fragsys/FRAGSYS/fragsys.py:1136: SettingWithCopyWarning: \n",
      "A value is trying to be set on a copy of a slice from a DataFrame.\n",
      "Try using .loc[row_indexer,col_indexer] = value instead\n",
      "\n",
      "See the caveats in the documentation: http://pandas.pydata.org/pandas-docs/stable/indexing.html#indexing-view-versus-copy\n",
      "  such as column residue occupancy ang gaps\n",
      "\n"
     ]
    },
    {
     "name": "stdout",
     "output_type": "stream",
     "text": [
      "Shenkin dataframe was filtered and saved correctly!\n"
     ]
    },
    {
     "ename": "NameError",
     "evalue": "name 'log' is not defined",
     "output_type": "error",
     "traceback": [
      "\u001b[0;31m---------------------------------------------------------------------------\u001b[0m",
      "\u001b[0;31mNameError\u001b[0m                                 Traceback (most recent call last)",
      "\u001b[0;32m<ipython-input-245-30c78c8ea806>\u001b[0m in \u001b[0;36m<module>\u001b[0;34m\u001b[0m\n\u001b[1;32m      1\u001b[0m \u001b[0;32mfor\u001b[0m \u001b[0mprot\u001b[0m \u001b[0;32min\u001b[0m \u001b[0;34m[\u001b[0m\u001b[0;34m\"MPro\"\u001b[0m\u001b[0;34m,\u001b[0m\u001b[0;34m]\u001b[0m\u001b[0;34m:\u001b[0m\u001b[0;34m\u001b[0m\u001b[0;34m\u001b[0m\u001b[0m\n\u001b[1;32m      2\u001b[0m     \u001b[0mprint\u001b[0m\u001b[0;34m(\u001b[0m\u001b[0;34m\"Starting to process {}\"\u001b[0m\u001b[0;34m.\u001b[0m\u001b[0mformat\u001b[0m\u001b[0;34m(\u001b[0m\u001b[0mprot\u001b[0m\u001b[0;34m)\u001b[0m\u001b[0;34m)\u001b[0m\u001b[0;34m\u001b[0m\u001b[0;34m\u001b[0m\u001b[0m\n\u001b[0;32m----> 3\u001b[0;31m     \u001b[0mmain\u001b[0m\u001b[0;34m(\u001b[0m\u001b[0mmain_dir\u001b[0m\u001b[0;34m,\u001b[0m \u001b[0mprot\u001b[0m\u001b[0;34m,\u001b[0m \u001b[0minput_df\u001b[0m\u001b[0;34m)\u001b[0m\u001b[0;34m\u001b[0m\u001b[0;34m\u001b[0m\u001b[0m\n\u001b[0m",
      "\u001b[0;32m/cluster/home/2394007/JSU_fragsys/FRAGSYS/fragsys_main.py\u001b[0m in \u001b[0;36mmain\u001b[0;34m(main_dir, prot, input_df)\u001b[0m\n\u001b[1;32m    338\u001b[0m             \u001b[0mprint\u001b[0m\u001b[0;34m(\u001b[0m\u001b[0;34m\"Aln info was correctly created and saved!\"\u001b[0m\u001b[0;34m)\u001b[0m\u001b[0;34m\u001b[0m\u001b[0;34m\u001b[0m\u001b[0m\n\u001b[1;32m    339\u001b[0m \u001b[0;34m\u001b[0m\u001b[0m\n\u001b[0;32m--> 340\u001b[0;31m         \u001b[0mlog\u001b[0m\u001b[0;34m.\u001b[0m\u001b[0minfo\u001b[0m\u001b[0;34m(\u001b[0m\u001b[0;34m\"There are {} sequences in MSA\"\u001b[0m\u001b[0;34m.\u001b[0m\u001b[0mformat\u001b[0m\u001b[0;34m(\u001b[0m\u001b[0mlen\u001b[0m\u001b[0;34m(\u001b[0m\u001b[0maln_info\u001b[0m\u001b[0;34m)\u001b[0m\u001b[0;34m)\u001b[0m\u001b[0;34m)\u001b[0m\u001b[0;34m\u001b[0m\u001b[0;34m\u001b[0m\u001b[0m\n\u001b[0m\u001b[1;32m    341\u001b[0m \u001b[0;34m\u001b[0m\u001b[0m\n\u001b[1;32m    342\u001b[0m         \u001b[0mindexed_mapping_path\u001b[0m \u001b[0;34m=\u001b[0m \u001b[0mos\u001b[0m\u001b[0;34m.\u001b[0m\u001b[0mpath\u001b[0m\u001b[0;34m.\u001b[0m\u001b[0mjoin\u001b[0m\u001b[0;34m(\u001b[0m\u001b[0mvaralign_subdir\u001b[0m\u001b[0;34m,\u001b[0m \u001b[0mhits_aln_rf\u001b[0m \u001b[0;34m+\u001b[0m \u001b[0;34m'_mappings.p.gz'\u001b[0m\u001b[0;34m)\u001b[0m\u001b[0;34m\u001b[0m\u001b[0;34m\u001b[0m\u001b[0m\n",
      "\u001b[0;31mNameError\u001b[0m: name 'log' is not defined"
     ]
    }
   ],
   "source": [
    "for prot in [\"MPro\",]:\n",
    "    print(\"Starting to process {}\".format(prot)) \n",
    "    main(main_dir, prot, input_df)"
   ]
  },
  {
   "cell_type": "code",
   "execution_count": 261,
   "metadata": {},
   "outputs": [],
   "source": [
    "import importlib\n",
    "import fragsys_main\n",
    "importlib.reload(fragsys_main)\n",
    "from fragsys_main import *"
   ]
  },
  {
   "cell_type": "code",
   "execution_count": 262,
   "metadata": {},
   "outputs": [
    {
     "name": "stdout",
     "output_type": "stream",
     "text": [
      "Starting to process MPro\n",
      "Starting to process group 0 of ['0'] in MPro\n",
      "Starting CIF to PDB conversion section!\n",
      "Starting STAMP section!\n",
      "Starting UNIPROT-PDB mapping section!\n",
      "Starting ARPEGGIO section!\n",
      "No LOIs in 7tbt, so skipping!\n",
      "No LOIs in 7dvy, so skipping!\n",
      "No LOIs in 7mhn, so skipping!\n",
      "No LOIs in 5r8t, so skipping!\n",
      "No LOIs in 8drr, so skipping!\n",
      "No LOIs in 7vk3, so skipping!\n",
      "No LOIs in 7mho, so skipping!\n",
      "No LOIs in 6y2e, so skipping!\n",
      "No LOIs in 6xoa, so skipping!\n",
      "No LOIs in 7pxz, so skipping!\n",
      "No LOIs in 8ds2, so skipping!\n",
      "No LOIs in 8dry, so skipping!\n",
      "No LOIs in 7vjy, so skipping!\n",
      "No LOIs in 7ar5, so skipping!\n",
      "No LOIs in 7t9y, so skipping!\n",
      "No LOIs in 7lmc, so skipping!\n",
      "No LOIs in 7jpy, so skipping!\n",
      "No LOIs in 8ehm, so skipping!\n",
      "No LOIs in 7dvw, so skipping!\n",
      "No LOIs in 7mhh, so skipping!\n",
      "No LOIs in 7mhf, so skipping!\n",
      "No LOIs in 8ds1, so skipping!\n",
      "No LOIs in 7t2t, so skipping!\n",
      "No LOIs in 7jst, so skipping!\n"
     ]
    },
    {
     "name": "stderr",
     "output_type": "stream",
     "text": [
      "2023-11-29 16:09:37,254 prointvar    INFO     Parsing PDB atoms from lines...\n"
     ]
    },
    {
     "name": "stdout",
     "output_type": "stream",
     "text": [
      "No LOIs in 8d35, so skipping!\n",
      "No LOIs in 7z2k, so skipping!\n",
      "No LOIs in 8d4n, so skipping!\n",
      "No LOIs in 7c2y, so skipping!\n",
      "No LOIs in 7s82, so skipping!\n"
     ]
    },
    {
     "name": "stderr",
     "output_type": "stream",
     "text": [
      "2023-11-29 16:09:37,463 prointvar    INFO     PDBx removed existing hydrogens...\n",
      "2023-11-29 16:09:37,465 prointvar    INFO     PDBx reset atom numbers...\n",
      "2023-11-29 16:09:37,634 prointvar    INFO     Parsing PDB atoms from lines...\n"
     ]
    },
    {
     "name": "stdout",
     "output_type": "stream",
     "text": [
      "Arpeggio processing failed for 8czx_bio.pdb\n",
      "No LOIs in 7nwx, so skipping!\n"
     ]
    },
    {
     "name": "stderr",
     "output_type": "stream",
     "text": [
      "2023-11-29 16:09:37,843 prointvar    INFO     PDBx removed existing hydrogens...\n",
      "2023-11-29 16:09:37,845 prointvar    INFO     PDBx reset atom numbers...\n",
      "2023-11-29 16:09:38,023 prointvar    INFO     Parsing PDB atoms from lines...\n"
     ]
    },
    {
     "name": "stdout",
     "output_type": "stream",
     "text": [
      "Arpeggio processing failed for 7m03_bio.pdb\n",
      "No LOIs in 7mhj, so skipping!\n",
      "No LOIs in 8e4j, so skipping!\n"
     ]
    },
    {
     "name": "stderr",
     "output_type": "stream",
     "text": [
      "2023-11-29 16:09:38,231 prointvar    INFO     PDBx removed existing hydrogens...\n",
      "2023-11-29 16:09:38,234 prointvar    INFO     PDBx reset atom numbers...\n"
     ]
    },
    {
     "name": "stdout",
     "output_type": "stream",
     "text": [
      "Arpeggio processing failed for 7m01_bio.pdb\n",
      "No LOIs in 7vk2, so skipping!\n",
      "No LOIs in 7mb9, so skipping!\n",
      "No LOIs in 7v7m, so skipping!\n",
      "No LOIs in 7ali, so skipping!\n",
      "No LOIs in 8ehk, so skipping!\n",
      "No LOIs in 8drx, so skipping!\n",
      "No LOIs in 7vk5, so skipping!\n",
      "No LOIs in 7ta4, so skipping!\n",
      "No LOIs in 7djr, so skipping!\n",
      "No LOIs in 7mb4, so skipping!\n",
      "No LOIs in 7dvx, so skipping!\n",
      "No LOIs in 8ehj, so skipping!\n",
      "No LOIs in 7nij, so skipping!\n",
      "No LOIs in 7zb6, so skipping!\n",
      "No LOIs in 7mhl, so skipping!\n"
     ]
    },
    {
     "name": "stderr",
     "output_type": "stream",
     "text": [
      "2023-11-29 16:09:38,886 prointvar    INFO     Parsing PDB atoms from lines...\n"
     ]
    },
    {
     "name": "stdout",
     "output_type": "stream",
     "text": [
      "No LOIs in 7t8r, so skipping!\n",
      "No LOIs in 7kfi, so skipping!\n",
      "No LOIs in 7dw0, so skipping!\n",
      "No LOIs in 7mb6, so skipping!\n",
      "No LOIs in 7t2v, so skipping!\n",
      "No LOIs in 7nxh, so skipping!\n"
     ]
    },
    {
     "name": "stderr",
     "output_type": "stream",
     "text": [
      "2023-11-29 16:09:39,100 prointvar    INFO     PDBx removed existing hydrogens...\n",
      "2023-11-29 16:09:39,103 prointvar    INFO     PDBx reset atom numbers...\n",
      "2023-11-29 16:09:39,267 prointvar    INFO     Parsing PDB atoms from lines...\n"
     ]
    },
    {
     "name": "stdout",
     "output_type": "stream",
     "text": [
      "Arpeggio processing failed for 7lzw_bio.pdb\n",
      "No LOIs in 6m2q, so skipping!\n",
      "No LOIs in 7mgr, so skipping!\n",
      "No LOIs in 7vjw, so skipping!\n"
     ]
    },
    {
     "name": "stderr",
     "output_type": "stream",
     "text": [
      "2023-11-29 16:09:39,479 prointvar    INFO     PDBx removed existing hydrogens...\n",
      "2023-11-29 16:09:39,482 prointvar    INFO     PDBx reset atom numbers...\n",
      "2023-11-29 16:09:39,662 prointvar    INFO     Parsing PDB atoms from lines...\n"
     ]
    },
    {
     "name": "stdout",
     "output_type": "stream",
     "text": [
      "Arpeggio processing failed for 8e68_bio.pdb\n",
      "No LOIs in 8dfe, so skipping!\n",
      "No LOIs in 6wqf, so skipping!\n",
      "No LOIs in 7vk1, so skipping!\n",
      "No LOIs in 7d64, so skipping!\n",
      "No LOIs in 7mb5, so skipping!\n",
      "No LOIs in 7zb7, so skipping!\n",
      "No LOIs in 7dg6, so skipping!\n"
     ]
    },
    {
     "name": "stderr",
     "output_type": "stream",
     "text": [
      "2023-11-29 16:09:39,871 prointvar    INFO     PDBx removed existing hydrogens...\n",
      "2023-11-29 16:09:39,873 prointvar    INFO     PDBx reset atom numbers...\n",
      "2023-11-29 16:09:39,971 prointvar    INFO     Parsing PDB atoms from lines...\n"
     ]
    },
    {
     "name": "stdout",
     "output_type": "stream",
     "text": [
      "Arpeggio processing failed for 7m02_bio.pdb\n",
      "No LOIs in 8ehl, so skipping!\n",
      "No LOIs in 7mgs, so skipping!\n",
      "No LOIs in 7zb8, so skipping!\n",
      "No LOIs in 8drs, so skipping!\n"
     ]
    },
    {
     "name": "stderr",
     "output_type": "stream",
     "text": [
      "2023-11-29 16:09:40,186 prointvar    INFO     PDBx removed existing hydrogens...\n",
      "2023-11-29 16:09:40,189 prointvar    INFO     PDBx reset atom numbers...\n",
      "2023-11-29 16:09:40,322 prointvar    INFO     Parsing PDB atoms from lines...\n"
     ]
    },
    {
     "name": "stdout",
     "output_type": "stream",
     "text": [
      "Arpeggio processing failed for 7m04_bio.pdb\n"
     ]
    },
    {
     "name": "stderr",
     "output_type": "stream",
     "text": [
      "2023-11-29 16:09:40,546 prointvar    INFO     PDBx removed existing hydrogens...\n",
      "2023-11-29 16:09:40,549 prointvar    INFO     PDBx reset atom numbers...\n"
     ]
    },
    {
     "name": "stdout",
     "output_type": "stream",
     "text": [
      "Arpeggio processing failed for 6wtt_bio.pdb\n",
      "No LOIs in 7cwb, so skipping!\n",
      "No LOIs in 6yb7, so skipping!\n",
      "No LOIs in 7vk6, so skipping!\n",
      "No LOIs in 7vk8, so skipping!\n",
      "No LOIs in 8d4j, so skipping!\n",
      "No LOIs in 8d4l, so skipping!\n",
      "No LOIs in 7pfl, so skipping!\n",
      "No LOIs in 8ds0, so skipping!\n",
      "No LOIs in 7mb7, so skipping!\n",
      "No LOIs in 7cam, so skipping!\n",
      "No LOIs in 7cwc, so skipping!\n",
      "No LOIs in 7mhg, so skipping!\n",
      "No LOIs in 7k3t, so skipping!\n",
      "No LOIs in 7t2u, so skipping!\n",
      "No LOIs in 7mhq, so skipping!\n"
     ]
    },
    {
     "name": "stderr",
     "output_type": "stream",
     "text": [
      "2023-11-29 16:09:41,162 prointvar    INFO     Parsing PDB atoms from lines...\n",
      "2023-11-29 16:09:41,384 prointvar    INFO     PDBx removed existing hydrogens...\n",
      "2023-11-29 16:09:41,387 prointvar    INFO     PDBx reset atom numbers...\n"
     ]
    },
    {
     "name": "stdout",
     "output_type": "stream",
     "text": [
      "Arpeggio processing failed for 8drw_bio.pdb\n",
      "No LOIs in 7t70, so skipping!\n",
      "No LOIs in 7pzq, so skipping!\n",
      "No LOIs in 7mhp, so skipping!\n",
      "No LOIs in 7baj, so skipping!\n",
      "No LOIs in 7alh, so skipping!\n",
      "No LOIs in 7mhk, so skipping!\n",
      "No LOIs in 7vjx, so skipping!\n",
      "No LOIs in 7mb8, so skipping!\n",
      "No LOIs in 7ar6, so skipping!\n",
      "No LOIs in 7e5x, so skipping!\n",
      "No LOIs in 8ey2, so skipping!\n",
      "No LOIs in 7vah, so skipping!\n",
      "No LOIs in 6y84, so skipping!\n"
     ]
    },
    {
     "name": "stderr",
     "output_type": "stream",
     "text": [
      "2023-11-29 16:09:42,022 prointvar    INFO     Parsing PDB atoms from lines...\n"
     ]
    },
    {
     "name": "stdout",
     "output_type": "stream",
     "text": [
      "No LOIs in 7bro, so skipping!\n",
      "No LOIs in 7mbg, so skipping!\n",
      "No LOIs in 7jun, so skipping!\n",
      "No LOIs in 7tb2, so skipping!\n"
     ]
    },
    {
     "name": "stderr",
     "output_type": "stream",
     "text": [
      "2023-11-29 16:09:42,231 prointvar    INFO     PDBx removed existing hydrogens...\n",
      "2023-11-29 16:09:42,234 prointvar    INFO     PDBx reset atom numbers...\n"
     ]
    },
    {
     "name": "stdout",
     "output_type": "stream",
     "text": [
      "Arpeggio processing failed for 7lzv_bio.pdb\n",
      "No LOIs in 7dav, so skipping!\n",
      "No LOIs in 7jvz, so skipping!\n",
      "No LOIs in 7uu8, so skipping!\n",
      "No LOIs in 7uu6, so skipping!\n",
      "No LOIs in 7n6n, so skipping!\n",
      "No LOIs in 7jr3, so skipping!\n",
      "No LOIs in 7joy, so skipping!\n",
      "No LOIs in 6xhu, so skipping!\n",
      "No LOIs in 8drt, so skipping!\n",
      "No LOIs in 7mhm, so skipping!\n",
      "No LOIs in 7ta7, so skipping!\n",
      "No LOIs in 7mhi, so skipping!\n",
      "No LOIs in 7vk4, so skipping!\n",
      "No LOIs in 7lkd, so skipping!\n"
     ]
    },
    {
     "name": "stderr",
     "output_type": "stream",
     "text": [
      "2023-11-29 16:09:42,868 prointvar    INFO     Parsing PDB atoms from lines...\n"
     ]
    },
    {
     "name": "stdout",
     "output_type": "stream",
     "text": [
      "No LOIs in 7bb2, so skipping!\n",
      "No LOIs in 7jp1, so skipping!\n"
     ]
    },
    {
     "name": "stderr",
     "output_type": "stream",
     "text": [
      "2023-11-29 16:09:43,089 prointvar    INFO     PDBx removed existing hydrogens...\n",
      "2023-11-29 16:09:43,092 prointvar    INFO     PDBx reset atom numbers...\n",
      "2023-11-29 16:09:43,385 prointvar    INFO     Parsing PDB atoms from lines...\n"
     ]
    },
    {
     "name": "stdout",
     "output_type": "stream",
     "text": [
      "Arpeggio processing failed for 8dru_bio.pdb\n",
      "No LOIs in 7n5z, so skipping!\n",
      "No LOIs in 7c2q, so skipping!\n",
      "No LOIs in 6m03, so skipping!\n",
      "No LOIs in 7dvp, so skipping!\n",
      "No LOIs in 7vk7, so skipping!\n",
      "No LOIs in 8dfn, so skipping!\n",
      "No LOIs in 7t8m, so skipping!\n",
      "No LOIs in 6wtm, so skipping!\n",
      "No LOIs in 7lke, so skipping!\n",
      "No LOIs in 7kph, so skipping!\n"
     ]
    },
    {
     "name": "stderr",
     "output_type": "stream",
     "text": [
      "2023-11-29 16:09:43,593 prointvar    INFO     PDBx removed existing hydrogens...\n",
      "2023-11-29 16:09:43,595 prointvar    INFO     PDBx reset atom numbers...\n"
     ]
    },
    {
     "name": "stdout",
     "output_type": "stream",
     "text": [
      "Arpeggio processing failed for 7lzu_bio.pdb\n",
      "No LOIs in 7vk0, so skipping!\n",
      "No LOIs in 7khp, so skipping!\n",
      "No LOIs in 7uu7, so skipping!\n",
      "No LOIs in 7dw6, so skipping!\n",
      "No LOIs in 7tc4, so skipping!\n",
      "No LOIs in 8ddi, so skipping!\n",
      "No LOIs in 7uu9, so skipping!\n",
      "No LOIs in 7vjz, so skipping!\n",
      "Starting BS definition section!\n",
      "There are 59 sequences in MSA\n",
      "No human sequences in MSA\n",
      "['sp|P0DTD1|R1AB_SARS2/3264-3569']\n",
      "7tbt does not have any LOIs, can't get its ligand binding residues!\n",
      "7dvy does not have any LOIs, can't get its ligand binding residues!\n",
      "7mhn does not have any LOIs, can't get its ligand binding residues!\n",
      "5r8t does not have any LOIs, can't get its ligand binding residues!\n",
      "8drr does not have any LOIs, can't get its ligand binding residues!\n",
      "7vk3 does not have any LOIs, can't get its ligand binding residues!\n",
      "7mho does not have any LOIs, can't get its ligand binding residues!\n",
      "6y2e does not have any LOIs, can't get its ligand binding residues!\n",
      "6xoa does not have any LOIs, can't get its ligand binding residues!\n",
      "7pxz does not have any LOIs, can't get its ligand binding residues!\n",
      "8ds2 does not have any LOIs, can't get its ligand binding residues!\n",
      "8dry does not have any LOIs, can't get its ligand binding residues!\n",
      "7vjy does not have any LOIs, can't get its ligand binding residues!\n",
      "7ar5 does not have any LOIs, can't get its ligand binding residues!\n",
      "7t9y does not have any LOIs, can't get its ligand binding residues!\n",
      "7lmc does not have any LOIs, can't get its ligand binding residues!\n",
      "7jpy does not have any LOIs, can't get its ligand binding residues!\n",
      "8ehm does not have any LOIs, can't get its ligand binding residues!\n",
      "7dvw does not have any LOIs, can't get its ligand binding residues!\n",
      "7mhh does not have any LOIs, can't get its ligand binding residues!\n",
      "7mhf does not have any LOIs, can't get its ligand binding residues!\n",
      "8ds1 does not have any LOIs, can't get its ligand binding residues!\n",
      "7t2t does not have any LOIs, can't get its ligand binding residues!\n",
      "7jst does not have any LOIs, can't get its ligand binding residues!\n",
      "8d35 does not have any LOIs, can't get its ligand binding residues!\n",
      "7z2k does not have any LOIs, can't get its ligand binding residues!\n",
      "8d4n does not have any LOIs, can't get its ligand binding residues!\n",
      "7c2y does not have any LOIs, can't get its ligand binding residues!\n",
      "7s82 does not have any LOIs, can't get its ligand binding residues!\n",
      "8czx does not have any LOIs, can't get its ligand binding residues!\n",
      "7nwx does not have any LOIs, can't get its ligand binding residues!\n",
      "7m03 does not have any LOIs, can't get its ligand binding residues!\n",
      "7mhj does not have any LOIs, can't get its ligand binding residues!\n",
      "8e4j does not have any LOIs, can't get its ligand binding residues!\n",
      "6z2e does not have any LOIs, can't get its ligand binding residues!\n",
      "7m01 does not have any LOIs, can't get its ligand binding residues!\n",
      "7vk2 does not have any LOIs, can't get its ligand binding residues!\n",
      "7mb9 does not have any LOIs, can't get its ligand binding residues!\n",
      "7v7m does not have any LOIs, can't get its ligand binding residues!\n",
      "7ali does not have any LOIs, can't get its ligand binding residues!\n",
      "8ehk does not have any LOIs, can't get its ligand binding residues!\n",
      "8drx does not have any LOIs, can't get its ligand binding residues!\n",
      "7vk5 does not have any LOIs, can't get its ligand binding residues!\n",
      "7ta4 does not have any LOIs, can't get its ligand binding residues!\n",
      "7djr does not have any LOIs, can't get its ligand binding residues!\n",
      "7mb4 does not have any LOIs, can't get its ligand binding residues!\n",
      "7dvx does not have any LOIs, can't get its ligand binding residues!\n",
      "8ehj does not have any LOIs, can't get its ligand binding residues!\n",
      "7neo does not have any LOIs, can't get its ligand binding residues!\n",
      "7nij does not have any LOIs, can't get its ligand binding residues!\n",
      "7zb6 does not have any LOIs, can't get its ligand binding residues!\n",
      "7mhl does not have any LOIs, can't get its ligand binding residues!\n",
      "7t8r does not have any LOIs, can't get its ligand binding residues!\n",
      "7kfi does not have any LOIs, can't get its ligand binding residues!\n",
      "7dw0 does not have any LOIs, can't get its ligand binding residues!\n",
      "7mb6 does not have any LOIs, can't get its ligand binding residues!\n",
      "7t2v does not have any LOIs, can't get its ligand binding residues!\n",
      "7nxh does not have any LOIs, can't get its ligand binding residues!\n",
      "7lzw does not have any LOIs, can't get its ligand binding residues!\n",
      "6m2q does not have any LOIs, can't get its ligand binding residues!\n",
      "7mgr does not have any LOIs, can't get its ligand binding residues!\n",
      "7vjw does not have any LOIs, can't get its ligand binding residues!\n",
      "8e68 does not have any LOIs, can't get its ligand binding residues!\n",
      "8dfe does not have any LOIs, can't get its ligand binding residues!\n",
      "6wqf does not have any LOIs, can't get its ligand binding residues!\n",
      "7vk1 does not have any LOIs, can't get its ligand binding residues!\n",
      "7d64 does not have any LOIs, can't get its ligand binding residues!\n",
      "7mb5 does not have any LOIs, can't get its ligand binding residues!\n",
      "7zb7 does not have any LOIs, can't get its ligand binding residues!\n",
      "7dg6 does not have any LOIs, can't get its ligand binding residues!\n",
      "7m02 does not have any LOIs, can't get its ligand binding residues!\n",
      "8ehl does not have any LOIs, can't get its ligand binding residues!\n",
      "7mgs does not have any LOIs, can't get its ligand binding residues!\n",
      "7ak4 does not have any LOIs, can't get its ligand binding residues!\n",
      "7zb8 does not have any LOIs, can't get its ligand binding residues!\n",
      "8drs does not have any LOIs, can't get its ligand binding residues!\n",
      "7m04 does not have any LOIs, can't get its ligand binding residues!\n",
      "6wtt does not have any LOIs, can't get its ligand binding residues!\n",
      "7cwb does not have any LOIs, can't get its ligand binding residues!\n",
      "6yb7 does not have any LOIs, can't get its ligand binding residues!\n",
      "7vk6 does not have any LOIs, can't get its ligand binding residues!\n",
      "7vk8 does not have any LOIs, can't get its ligand binding residues!\n",
      "8d4j does not have any LOIs, can't get its ligand binding residues!\n",
      "7aph does not have any LOIs, can't get its ligand binding residues!\n",
      "8d4l does not have any LOIs, can't get its ligand binding residues!\n",
      "7pfl does not have any LOIs, can't get its ligand binding residues!\n",
      "8ds0 does not have any LOIs, can't get its ligand binding residues!\n",
      "7mb7 does not have any LOIs, can't get its ligand binding residues!\n",
      "7cam does not have any LOIs, can't get its ligand binding residues!\n",
      "7cwc does not have any LOIs, can't get its ligand binding residues!\n",
      "7mhg does not have any LOIs, can't get its ligand binding residues!\n",
      "7k3t does not have any LOIs, can't get its ligand binding residues!\n",
      "7t2u does not have any LOIs, can't get its ligand binding residues!\n",
      "7mhq does not have any LOIs, can't get its ligand binding residues!\n",
      "8drw does not have any LOIs, can't get its ligand binding residues!\n",
      "7t70 does not have any LOIs, can't get its ligand binding residues!\n",
      "7pzq does not have any LOIs, can't get its ligand binding residues!\n",
      "7mhp does not have any LOIs, can't get its ligand binding residues!\n",
      "7baj does not have any LOIs, can't get its ligand binding residues!\n",
      "7alh does not have any LOIs, can't get its ligand binding residues!\n",
      "7mhk does not have any LOIs, can't get its ligand binding residues!\n",
      "7vjx does not have any LOIs, can't get its ligand binding residues!\n",
      "7nbt does not have any LOIs, can't get its ligand binding residues!\n",
      "7mb8 does not have any LOIs, can't get its ligand binding residues!\n",
      "7ar6 does not have any LOIs, can't get its ligand binding residues!\n",
      "7e5x does not have any LOIs, can't get its ligand binding residues!\n",
      "8ey2 does not have any LOIs, can't get its ligand binding residues!\n",
      "7vah does not have any LOIs, can't get its ligand binding residues!\n",
      "6y84 does not have any LOIs, can't get its ligand binding residues!\n",
      "7nbs does not have any LOIs, can't get its ligand binding residues!\n",
      "7bro does not have any LOIs, can't get its ligand binding residues!\n",
      "7nbr does not have any LOIs, can't get its ligand binding residues!\n",
      "7mbg does not have any LOIs, can't get its ligand binding residues!\n",
      "7jun does not have any LOIs, can't get its ligand binding residues!\n",
      "7tb2 does not have any LOIs, can't get its ligand binding residues!\n",
      "7lzv does not have any LOIs, can't get its ligand binding residues!\n",
      "7dav does not have any LOIs, can't get its ligand binding residues!\n",
      "7jvz does not have any LOIs, can't get its ligand binding residues!\n",
      "7uu8 does not have any LOIs, can't get its ligand binding residues!\n",
      "7uu6 does not have any LOIs, can't get its ligand binding residues!\n",
      "7n6n does not have any LOIs, can't get its ligand binding residues!\n",
      "7jr3 does not have any LOIs, can't get its ligand binding residues!\n",
      "7joy does not have any LOIs, can't get its ligand binding residues!\n",
      "6xhu does not have any LOIs, can't get its ligand binding residues!\n",
      "8drt does not have any LOIs, can't get its ligand binding residues!\n",
      "7mhm does not have any LOIs, can't get its ligand binding residues!\n",
      "7ta7 does not have any LOIs, can't get its ligand binding residues!\n",
      "7mhi does not have any LOIs, can't get its ligand binding residues!\n",
      "7vk4 does not have any LOIs, can't get its ligand binding residues!\n",
      "7lkd does not have any LOIs, can't get its ligand binding residues!\n",
      "7bb2 does not have any LOIs, can't get its ligand binding residues!\n",
      "7jp1 does not have any LOIs, can't get its ligand binding residues!\n",
      "8dru does not have any LOIs, can't get its ligand binding residues!\n",
      "7n5z does not have any LOIs, can't get its ligand binding residues!\n",
      "7c2q does not have any LOIs, can't get its ligand binding residues!\n",
      "6m03 does not have any LOIs, can't get its ligand binding residues!\n",
      "7dvp does not have any LOIs, can't get its ligand binding residues!\n",
      "7vk7 does not have any LOIs, can't get its ligand binding residues!\n",
      "8dfn does not have any LOIs, can't get its ligand binding residues!\n",
      "7t8m does not have any LOIs, can't get its ligand binding residues!\n",
      "6wtm does not have any LOIs, can't get its ligand binding residues!\n",
      "7lke does not have any LOIs, can't get its ligand binding residues!\n",
      "7kph does not have any LOIs, can't get its ligand binding residues!\n",
      "7lzu does not have any LOIs, can't get its ligand binding residues!\n",
      "7vk0 does not have any LOIs, can't get its ligand binding residues!\n",
      "7khp does not have any LOIs, can't get its ligand binding residues!\n",
      "7uu7 does not have any LOIs, can't get its ligand binding residues!\n",
      "7dw6 does not have any LOIs, can't get its ligand binding residues!\n",
      "7tc4 does not have any LOIs, can't get its ligand binding residues!\n",
      "8ddi does not have any LOIs, can't get its ligand binding residues!\n",
      "7uu9 does not have any LOIs, can't get its ligand binding residues!\n",
      "7vjz does not have any LOIs, can't get its ligand binding residues!\n"
     ]
    },
    {
     "ename": "NameError",
     "evalue": "name 'totals' is not defined",
     "output_type": "error",
     "traceback": [
      "\u001b[0;31m---------------------------------------------------------------------------\u001b[0m",
      "\u001b[0;31mNameError\u001b[0m                                 Traceback (most recent call last)",
      "\u001b[0;32m<ipython-input-262-30c78c8ea806>\u001b[0m in \u001b[0;36m<module>\u001b[0;34m\u001b[0m\n\u001b[1;32m      1\u001b[0m \u001b[0;32mfor\u001b[0m \u001b[0mprot\u001b[0m \u001b[0;32min\u001b[0m \u001b[0;34m[\u001b[0m\u001b[0;34m\"MPro\"\u001b[0m\u001b[0;34m,\u001b[0m\u001b[0;34m]\u001b[0m\u001b[0;34m:\u001b[0m\u001b[0;34m\u001b[0m\u001b[0;34m\u001b[0m\u001b[0m\n\u001b[1;32m      2\u001b[0m     \u001b[0mprint\u001b[0m\u001b[0;34m(\u001b[0m\u001b[0;34m\"Starting to process {}\"\u001b[0m\u001b[0;34m.\u001b[0m\u001b[0mformat\u001b[0m\u001b[0;34m(\u001b[0m\u001b[0mprot\u001b[0m\u001b[0;34m)\u001b[0m\u001b[0;34m)\u001b[0m\u001b[0;34m\u001b[0m\u001b[0;34m\u001b[0m\u001b[0m\n\u001b[0;32m----> 3\u001b[0;31m     \u001b[0mmain\u001b[0m\u001b[0;34m(\u001b[0m\u001b[0mmain_dir\u001b[0m\u001b[0;34m,\u001b[0m \u001b[0mprot\u001b[0m\u001b[0;34m,\u001b[0m \u001b[0minput_df\u001b[0m\u001b[0;34m)\u001b[0m\u001b[0;34m\u001b[0m\u001b[0;34m\u001b[0m\u001b[0m\n\u001b[0m",
      "\u001b[0;32m/cluster/home/2394007/JSU_fragsys/FRAGSYS/fragsys_main.py\u001b[0m in \u001b[0;36mmain\u001b[0;34m(main_dir, prot, input_df)\u001b[0m\n\u001b[1;32m    447\u001b[0m             \u001b[0mmes_sgc_df\u001b[0m \u001b[0;34m=\u001b[0m \u001b[0mpd\u001b[0m\u001b[0;34m.\u001b[0m\u001b[0mread_csv\u001b[0m\u001b[0;34m(\u001b[0m\u001b[0mmes_sgc_df_out\u001b[0m\u001b[0;34m)\u001b[0m\u001b[0;34m\u001b[0m\u001b[0;34m\u001b[0m\u001b[0m\n\u001b[1;32m    448\u001b[0m         \u001b[0;32melse\u001b[0m\u001b[0;34m:\u001b[0m\u001b[0;34m\u001b[0m\u001b[0;34m\u001b[0m\u001b[0m\n\u001b[0;32m--> 449\u001b[0;31m             \u001b[0mmes_sgc_df\u001b[0m \u001b[0;34m=\u001b[0m \u001b[0mcreate_binding_site_df\u001b[0m\u001b[0;34m(\u001b[0m\u001b[0;34m[\u001b[0m\u001b[0mfragsys_df\u001b[0m\u001b[0;34m,\u001b[0m \u001b[0mtotals\u001b[0m\u001b[0;34m,\u001b[0m \u001b[0mbinding_site_res\u001b[0m\u001b[0;34m]\u001b[0m\u001b[0;34m)\u001b[0m\u001b[0;34m\u001b[0m\u001b[0;34m\u001b[0m\u001b[0m\n\u001b[0m\u001b[1;32m    450\u001b[0m             \u001b[0mmes_sgc_df\u001b[0m\u001b[0;34m.\u001b[0m\u001b[0mto_csv\u001b[0m\u001b[0;34m(\u001b[0m\u001b[0mmes_sgc_df_out\u001b[0m\u001b[0;34m,\u001b[0m \u001b[0mindex\u001b[0m \u001b[0;34m=\u001b[0m \u001b[0;32mFalse\u001b[0m\u001b[0;34m)\u001b[0m\u001b[0;34m\u001b[0m\u001b[0;34m\u001b[0m\u001b[0m\n\u001b[1;32m    451\u001b[0m             \u001b[0mprint\u001b[0m\u001b[0;34m(\u001b[0m\u001b[0;34m\"Binding site dataframe was created and saved successfully for {}_{}!\"\u001b[0m\u001b[0;34m.\u001b[0m\u001b[0mformat\u001b[0m\u001b[0;34m(\u001b[0m\u001b[0mprot\u001b[0m\u001b[0;34m,\u001b[0m \u001b[0msubdir\u001b[0m\u001b[0;34m)\u001b[0m\u001b[0;34m)\u001b[0m\u001b[0;34m\u001b[0m\u001b[0;34m\u001b[0m\u001b[0m\n",
      "\u001b[0;31mNameError\u001b[0m: name 'totals' is not defined"
     ]
    }
   ],
   "source": [
    "for prot in [\"MPro\",]:\n",
    "    print(\"Starting to process {}\".format(prot)) \n",
    "    main(main_dir, prot, input_df)"
   ]
  },
  {
   "cell_type": "code",
   "execution_count": 241,
   "metadata": {},
   "outputs": [],
   "source": [
    "d = pd.read_csv(\"/cluster/gjb_lab/2394007/pandda_analysis/MPro/MPro/results/MPro_0_BS_def_OC_complete_i_rel_0.66.csv\")"
   ]
  },
  {
   "cell_type": "code",
   "execution_count": 250,
   "metadata": {},
   "outputs": [],
   "source": [
    "d = pd.read_pickle(\"/cluster/gjb_lab/2394007/pandda_analysis/MPro/MPro/results/varalign/0/MPro_0_rf.sto_mappings.p.gz\")"
   ]
  },
  {
   "cell_type": "code",
   "execution_count": 254,
   "metadata": {},
   "outputs": [],
   "source": [
    "aln_ids = list(set([seqid[0] for seqid in d.index.tolist() if \"P0DTD1\" in seqid[0]])) # THIS IS EMPTY IF QUERY SEQUENCE IS NOT FOUND"
   ]
  },
  {
   "cell_type": "code",
   "execution_count": 255,
   "metadata": {},
   "outputs": [
    {
     "data": {
      "text/plain": [
       "['sp|P0DTD1|R1AB_SARS2/3264-3569']"
      ]
     },
     "execution_count": 255,
     "metadata": {},
     "output_type": "execute_result"
    }
   ],
   "source": [
    "aln_ids"
   ]
  },
  {
   "cell_type": "code",
   "execution_count": 258,
   "metadata": {},
   "outputs": [],
   "source": [
    "dy = pd.read_csv(\"/cluster/gjb_lab/2394007/pandda_analysis/MPro/MPro/results/MPro_0_fragsys_df.csv\")"
   ]
  },
  {
   "cell_type": "code",
   "execution_count": 259,
   "metadata": {
    "collapsed": true,
    "jupyter": {
     "outputs_hidden": true
    }
   },
   "outputs": [
    {
     "data": {
      "text/html": [
       "<div>\n",
       "<style>\n",
       "    .dataframe thead tr:only-child th {\n",
       "        text-align: right;\n",
       "    }\n",
       "\n",
       "    .dataframe thead th {\n",
       "        text-align: left;\n",
       "    }\n",
       "\n",
       "    .dataframe tbody tr th {\n",
       "        vertical-align: top;\n",
       "    }\n",
       "</style>\n",
       "<table border=\"1\" class=\"dataframe\">\n",
       "  <thead>\n",
       "    <tr style=\"text-align: right;\">\n",
       "      <th></th>\n",
       "      <th>index</th>\n",
       "      <th>UniProt_ResNum</th>\n",
       "      <th>Pfam_column</th>\n",
       "      <th>alignment_column</th>\n",
       "      <th>shenkin</th>\n",
       "      <th>occ</th>\n",
       "      <th>gaps</th>\n",
       "      <th>occ_pct</th>\n",
       "      <th>gaps_pct</th>\n",
       "      <th>rel_norm_shenkin</th>\n",
       "      <th>...</th>\n",
       "      <th>BS95</th>\n",
       "      <th>BS96</th>\n",
       "      <th>BS97</th>\n",
       "      <th>BS98</th>\n",
       "      <th>BS99</th>\n",
       "      <th>BS100</th>\n",
       "      <th>BS101</th>\n",
       "      <th>BS102</th>\n",
       "      <th>BS103</th>\n",
       "      <th>BS104</th>\n",
       "    </tr>\n",
       "  </thead>\n",
       "  <tbody>\n",
       "    <tr>\n",
       "      <th>0</th>\n",
       "      <td>4</td>\n",
       "      <td>3266</td>\n",
       "      <td>3</td>\n",
       "      <td>3</td>\n",
       "      <td>17.835177</td>\n",
       "      <td>59</td>\n",
       "      <td>0</td>\n",
       "      <td>1.000000</td>\n",
       "      <td>0.000000</td>\n",
       "      <td>31.507456</td>\n",
       "      <td>...</td>\n",
       "      <td>0.0</td>\n",
       "      <td>0.0</td>\n",
       "      <td>0.0</td>\n",
       "      <td>0.0</td>\n",
       "      <td>0.0</td>\n",
       "      <td>0.0</td>\n",
       "      <td>0.0</td>\n",
       "      <td>0.0</td>\n",
       "      <td>0.0</td>\n",
       "      <td>0.0</td>\n",
       "    </tr>\n",
       "    <tr>\n",
       "      <th>1</th>\n",
       "      <td>6</td>\n",
       "      <td>3267</td>\n",
       "      <td>4</td>\n",
       "      <td>4</td>\n",
       "      <td>17.925256</td>\n",
       "      <td>59</td>\n",
       "      <td>0</td>\n",
       "      <td>1.000000</td>\n",
       "      <td>0.000000</td>\n",
       "      <td>31.747262</td>\n",
       "      <td>...</td>\n",
       "      <td>0.0</td>\n",
       "      <td>0.0</td>\n",
       "      <td>0.0</td>\n",
       "      <td>0.0</td>\n",
       "      <td>0.0</td>\n",
       "      <td>0.0</td>\n",
       "      <td>0.0</td>\n",
       "      <td>0.0</td>\n",
       "      <td>0.0</td>\n",
       "      <td>0.0</td>\n",
       "    </tr>\n",
       "    <tr>\n",
       "      <th>2</th>\n",
       "      <td>8</td>\n",
       "      <td>3268</td>\n",
       "      <td>5</td>\n",
       "      <td>5</td>\n",
       "      <td>6.957371</td>\n",
       "      <td>59</td>\n",
       "      <td>0</td>\n",
       "      <td>1.000000</td>\n",
       "      <td>0.000000</td>\n",
       "      <td>2.548702</td>\n",
       "      <td>...</td>\n",
       "      <td>0.0</td>\n",
       "      <td>0.0</td>\n",
       "      <td>0.0</td>\n",
       "      <td>0.0</td>\n",
       "      <td>0.0</td>\n",
       "      <td>0.0</td>\n",
       "      <td>0.0</td>\n",
       "      <td>0.0</td>\n",
       "      <td>0.0</td>\n",
       "      <td>0.0</td>\n",
       "    </tr>\n",
       "    <tr>\n",
       "      <th>3</th>\n",
       "      <td>10</td>\n",
       "      <td>3269</td>\n",
       "      <td>6</td>\n",
       "      <td>6</td>\n",
       "      <td>8.335726</td>\n",
       "      <td>59</td>\n",
       "      <td>0</td>\n",
       "      <td>1.000000</td>\n",
       "      <td>0.000000</td>\n",
       "      <td>6.218141</td>\n",
       "      <td>...</td>\n",
       "      <td>0.0</td>\n",
       "      <td>0.0</td>\n",
       "      <td>0.0</td>\n",
       "      <td>0.0</td>\n",
       "      <td>0.0</td>\n",
       "      <td>0.0</td>\n",
       "      <td>0.0</td>\n",
       "      <td>0.0</td>\n",
       "      <td>0.0</td>\n",
       "      <td>0.0</td>\n",
       "    </tr>\n",
       "    <tr>\n",
       "      <th>4</th>\n",
       "      <td>12</td>\n",
       "      <td>3270</td>\n",
       "      <td>7</td>\n",
       "      <td>7</td>\n",
       "      <td>15.514397</td>\n",
       "      <td>59</td>\n",
       "      <td>0</td>\n",
       "      <td>1.000000</td>\n",
       "      <td>0.000000</td>\n",
       "      <td>25.329106</td>\n",
       "      <td>...</td>\n",
       "      <td>0.0</td>\n",
       "      <td>0.0</td>\n",
       "      <td>0.0</td>\n",
       "      <td>0.0</td>\n",
       "      <td>0.0</td>\n",
       "      <td>0.0</td>\n",
       "      <td>0.0</td>\n",
       "      <td>0.0</td>\n",
       "      <td>0.0</td>\n",
       "      <td>0.0</td>\n",
       "    </tr>\n",
       "    <tr>\n",
       "      <th>5</th>\n",
       "      <td>14</td>\n",
       "      <td>3271</td>\n",
       "      <td>8</td>\n",
       "      <td>8</td>\n",
       "      <td>33.064855</td>\n",
       "      <td>59</td>\n",
       "      <td>0</td>\n",
       "      <td>1.000000</td>\n",
       "      <td>0.000000</td>\n",
       "      <td>72.051707</td>\n",
       "      <td>...</td>\n",
       "      <td>0.0</td>\n",
       "      <td>0.0</td>\n",
       "      <td>0.0</td>\n",
       "      <td>0.0</td>\n",
       "      <td>0.0</td>\n",
       "      <td>0.0</td>\n",
       "      <td>0.0</td>\n",
       "      <td>0.0</td>\n",
       "      <td>0.0</td>\n",
       "      <td>0.0</td>\n",
       "    </tr>\n",
       "    <tr>\n",
       "      <th>6</th>\n",
       "      <td>254</td>\n",
       "      <td>3386</td>\n",
       "      <td>127</td>\n",
       "      <td>127</td>\n",
       "      <td>30.372135</td>\n",
       "      <td>59</td>\n",
       "      <td>0</td>\n",
       "      <td>1.000000</td>\n",
       "      <td>0.000000</td>\n",
       "      <td>64.883183</td>\n",
       "      <td>...</td>\n",
       "      <td>0.0</td>\n",
       "      <td>0.0</td>\n",
       "      <td>0.0</td>\n",
       "      <td>0.0</td>\n",
       "      <td>0.0</td>\n",
       "      <td>0.0</td>\n",
       "      <td>0.0</td>\n",
       "      <td>0.0</td>\n",
       "      <td>0.0</td>\n",
       "      <td>0.0</td>\n",
       "    </tr>\n",
       "    <tr>\n",
       "      <th>7</th>\n",
       "      <td>258</td>\n",
       "      <td>3387</td>\n",
       "      <td>128</td>\n",
       "      <td>128</td>\n",
       "      <td>7.335771</td>\n",
       "      <td>59</td>\n",
       "      <td>0</td>\n",
       "      <td>1.000000</td>\n",
       "      <td>0.000000</td>\n",
       "      <td>3.556072</td>\n",
       "      <td>...</td>\n",
       "      <td>0.0</td>\n",
       "      <td>0.0</td>\n",
       "      <td>0.0</td>\n",
       "      <td>0.0</td>\n",
       "      <td>0.0</td>\n",
       "      <td>0.0</td>\n",
       "      <td>0.0</td>\n",
       "      <td>0.0</td>\n",
       "      <td>0.0</td>\n",
       "      <td>0.0</td>\n",
       "    </tr>\n",
       "    <tr>\n",
       "      <th>8</th>\n",
       "      <td>270</td>\n",
       "      <td>3390</td>\n",
       "      <td>131</td>\n",
       "      <td>131</td>\n",
       "      <td>29.716529</td>\n",
       "      <td>59</td>\n",
       "      <td>0</td>\n",
       "      <td>1.000000</td>\n",
       "      <td>0.000000</td>\n",
       "      <td>63.137836</td>\n",
       "      <td>...</td>\n",
       "      <td>0.0</td>\n",
       "      <td>0.0</td>\n",
       "      <td>0.0</td>\n",
       "      <td>0.0</td>\n",
       "      <td>0.0</td>\n",
       "      <td>0.0</td>\n",
       "      <td>0.0</td>\n",
       "      <td>0.0</td>\n",
       "      <td>0.0</td>\n",
       "      <td>0.0</td>\n",
       "    </tr>\n",
       "    <tr>\n",
       "      <th>9</th>\n",
       "      <td>322</td>\n",
       "      <td>3415</td>\n",
       "      <td>156</td>\n",
       "      <td>156</td>\n",
       "      <td>23.615656</td>\n",
       "      <td>59</td>\n",
       "      <td>0</td>\n",
       "      <td>1.000000</td>\n",
       "      <td>0.000000</td>\n",
       "      <td>46.896170</td>\n",
       "      <td>...</td>\n",
       "      <td>0.0</td>\n",
       "      <td>0.0</td>\n",
       "      <td>0.0</td>\n",
       "      <td>0.0</td>\n",
       "      <td>0.0</td>\n",
       "      <td>0.0</td>\n",
       "      <td>0.0</td>\n",
       "      <td>0.0</td>\n",
       "      <td>0.0</td>\n",
       "      <td>0.0</td>\n",
       "    </tr>\n",
       "    <tr>\n",
       "      <th>10</th>\n",
       "      <td>600</td>\n",
       "      <td>3554</td>\n",
       "      <td>303</td>\n",
       "      <td>303</td>\n",
       "      <td>13.614765</td>\n",
       "      <td>57</td>\n",
       "      <td>2</td>\n",
       "      <td>0.966102</td>\n",
       "      <td>0.033898</td>\n",
       "      <td>20.271930</td>\n",
       "      <td>...</td>\n",
       "      <td>0.0</td>\n",
       "      <td>0.0</td>\n",
       "      <td>0.0</td>\n",
       "      <td>0.0</td>\n",
       "      <td>0.0</td>\n",
       "      <td>0.0</td>\n",
       "      <td>0.0</td>\n",
       "      <td>0.0</td>\n",
       "      <td>0.0</td>\n",
       "      <td>0.0</td>\n",
       "    </tr>\n",
       "    <tr>\n",
       "      <th>11</th>\n",
       "      <td>606</td>\n",
       "      <td>3557</td>\n",
       "      <td>306</td>\n",
       "      <td>306</td>\n",
       "      <td>35.596307</td>\n",
       "      <td>59</td>\n",
       "      <td>0</td>\n",
       "      <td>1.000000</td>\n",
       "      <td>0.000000</td>\n",
       "      <td>78.790906</td>\n",
       "      <td>...</td>\n",
       "      <td>0.0</td>\n",
       "      <td>0.0</td>\n",
       "      <td>0.0</td>\n",
       "      <td>0.0</td>\n",
       "      <td>0.0</td>\n",
       "      <td>0.0</td>\n",
       "      <td>0.0</td>\n",
       "      <td>0.0</td>\n",
       "      <td>0.0</td>\n",
       "      <td>0.0</td>\n",
       "    </tr>\n",
       "    <tr>\n",
       "      <th>12</th>\n",
       "      <td>608</td>\n",
       "      <td>3558</td>\n",
       "      <td>307</td>\n",
       "      <td>307</td>\n",
       "      <td>13.187968</td>\n",
       "      <td>59</td>\n",
       "      <td>0</td>\n",
       "      <td>1.000000</td>\n",
       "      <td>0.000000</td>\n",
       "      <td>19.135716</td>\n",
       "      <td>...</td>\n",
       "      <td>0.0</td>\n",
       "      <td>0.0</td>\n",
       "      <td>0.0</td>\n",
       "      <td>0.0</td>\n",
       "      <td>0.0</td>\n",
       "      <td>0.0</td>\n",
       "      <td>0.0</td>\n",
       "      <td>0.0</td>\n",
       "      <td>0.0</td>\n",
       "      <td>0.0</td>\n",
       "    </tr>\n",
       "    <tr>\n",
       "      <th>13</th>\n",
       "      <td>614</td>\n",
       "      <td>3561</td>\n",
       "      <td>310</td>\n",
       "      <td>310</td>\n",
       "      <td>25.892967</td>\n",
       "      <td>59</td>\n",
       "      <td>0</td>\n",
       "      <td>1.000000</td>\n",
       "      <td>0.000000</td>\n",
       "      <td>52.958799</td>\n",
       "      <td>...</td>\n",
       "      <td>0.0</td>\n",
       "      <td>0.0</td>\n",
       "      <td>0.0</td>\n",
       "      <td>0.0</td>\n",
       "      <td>0.0</td>\n",
       "      <td>0.0</td>\n",
       "      <td>0.0</td>\n",
       "      <td>0.0</td>\n",
       "      <td>0.0</td>\n",
       "      <td>0.0</td>\n",
       "    </tr>\n",
       "    <tr>\n",
       "      <th>14</th>\n",
       "      <td>616</td>\n",
       "      <td>3562</td>\n",
       "      <td>311</td>\n",
       "      <td>311</td>\n",
       "      <td>6.000000</td>\n",
       "      <td>59</td>\n",
       "      <td>0</td>\n",
       "      <td>1.000000</td>\n",
       "      <td>0.000000</td>\n",
       "      <td>0.000000</td>\n",
       "      <td>...</td>\n",
       "      <td>0.0</td>\n",
       "      <td>0.0</td>\n",
       "      <td>0.0</td>\n",
       "      <td>0.0</td>\n",
       "      <td>0.0</td>\n",
       "      <td>0.0</td>\n",
       "      <td>0.0</td>\n",
       "      <td>0.0</td>\n",
       "      <td>0.0</td>\n",
       "      <td>0.0</td>\n",
       "    </tr>\n",
       "    <tr>\n",
       "      <th>15</th>\n",
       "      <td>624</td>\n",
       "      <td>3566</td>\n",
       "      <td>315</td>\n",
       "      <td>315</td>\n",
       "      <td>9.457788</td>\n",
       "      <td>59</td>\n",
       "      <td>0</td>\n",
       "      <td>1.000000</td>\n",
       "      <td>0.000000</td>\n",
       "      <td>9.205278</td>\n",
       "      <td>...</td>\n",
       "      <td>0.0</td>\n",
       "      <td>0.0</td>\n",
       "      <td>0.0</td>\n",
       "      <td>0.0</td>\n",
       "      <td>0.0</td>\n",
       "      <td>0.0</td>\n",
       "      <td>0.0</td>\n",
       "      <td>0.0</td>\n",
       "      <td>0.0</td>\n",
       "      <td>0.0</td>\n",
       "    </tr>\n",
       "    <tr>\n",
       "      <th>16</th>\n",
       "      <td>46</td>\n",
       "      <td>3287</td>\n",
       "      <td>24</td>\n",
       "      <td>24</td>\n",
       "      <td>21.138091</td>\n",
       "      <td>59</td>\n",
       "      <td>0</td>\n",
       "      <td>1.000000</td>\n",
       "      <td>0.000000</td>\n",
       "      <td>40.300429</td>\n",
       "      <td>...</td>\n",
       "      <td>0.0</td>\n",
       "      <td>0.0</td>\n",
       "      <td>0.0</td>\n",
       "      <td>0.0</td>\n",
       "      <td>0.0</td>\n",
       "      <td>0.0</td>\n",
       "      <td>0.0</td>\n",
       "      <td>0.0</td>\n",
       "      <td>0.0</td>\n",
       "      <td>0.0</td>\n",
       "    </tr>\n",
       "    <tr>\n",
       "      <th>17</th>\n",
       "      <td>48</td>\n",
       "      <td>3288</td>\n",
       "      <td>25</td>\n",
       "      <td>25</td>\n",
       "      <td>17.327132</td>\n",
       "      <td>59</td>\n",
       "      <td>0</td>\n",
       "      <td>1.000000</td>\n",
       "      <td>0.000000</td>\n",
       "      <td>30.154944</td>\n",
       "      <td>...</td>\n",
       "      <td>0.0</td>\n",
       "      <td>0.0</td>\n",
       "      <td>0.0</td>\n",
       "      <td>0.0</td>\n",
       "      <td>0.0</td>\n",
       "      <td>0.0</td>\n",
       "      <td>0.0</td>\n",
       "      <td>0.0</td>\n",
       "      <td>0.0</td>\n",
       "      <td>0.0</td>\n",
       "    </tr>\n",
       "    <tr>\n",
       "      <th>18</th>\n",
       "      <td>50</td>\n",
       "      <td>3289</td>\n",
       "      <td>26</td>\n",
       "      <td>26</td>\n",
       "      <td>13.607340</td>\n",
       "      <td>59</td>\n",
       "      <td>0</td>\n",
       "      <td>1.000000</td>\n",
       "      <td>0.000000</td>\n",
       "      <td>20.252162</td>\n",
       "      <td>...</td>\n",
       "      <td>0.0</td>\n",
       "      <td>0.0</td>\n",
       "      <td>0.0</td>\n",
       "      <td>0.0</td>\n",
       "      <td>0.0</td>\n",
       "      <td>0.0</td>\n",
       "      <td>0.0</td>\n",
       "      <td>0.0</td>\n",
       "      <td>0.0</td>\n",
       "      <td>0.0</td>\n",
       "    </tr>\n",
       "    <tr>\n",
       "      <th>19</th>\n",
       "      <td>52</td>\n",
       "      <td>3290</td>\n",
       "      <td>27</td>\n",
       "      <td>27</td>\n",
       "      <td>6.000000</td>\n",
       "      <td>59</td>\n",
       "      <td>0</td>\n",
       "      <td>1.000000</td>\n",
       "      <td>0.000000</td>\n",
       "      <td>0.000000</td>\n",
       "      <td>...</td>\n",
       "      <td>0.0</td>\n",
       "      <td>0.0</td>\n",
       "      <td>0.0</td>\n",
       "      <td>0.0</td>\n",
       "      <td>0.0</td>\n",
       "      <td>0.0</td>\n",
       "      <td>0.0</td>\n",
       "      <td>0.0</td>\n",
       "      <td>0.0</td>\n",
       "      <td>0.0</td>\n",
       "    </tr>\n",
       "    <tr>\n",
       "      <th>20</th>\n",
       "      <td>80</td>\n",
       "      <td>3304</td>\n",
       "      <td>41</td>\n",
       "      <td>41</td>\n",
       "      <td>6.000000</td>\n",
       "      <td>59</td>\n",
       "      <td>0</td>\n",
       "      <td>1.000000</td>\n",
       "      <td>0.000000</td>\n",
       "      <td>0.000000</td>\n",
       "      <td>...</td>\n",
       "      <td>0.0</td>\n",
       "      <td>0.0</td>\n",
       "      <td>0.0</td>\n",
       "      <td>0.0</td>\n",
       "      <td>0.0</td>\n",
       "      <td>0.0</td>\n",
       "      <td>0.0</td>\n",
       "      <td>0.0</td>\n",
       "      <td>0.0</td>\n",
       "      <td>0.0</td>\n",
       "    </tr>\n",
       "    <tr>\n",
       "      <th>21</th>\n",
       "      <td>86</td>\n",
       "      <td>3307</td>\n",
       "      <td>44</td>\n",
       "      <td>44</td>\n",
       "      <td>13.187968</td>\n",
       "      <td>59</td>\n",
       "      <td>0</td>\n",
       "      <td>1.000000</td>\n",
       "      <td>0.000000</td>\n",
       "      <td>19.135716</td>\n",
       "      <td>...</td>\n",
       "      <td>0.0</td>\n",
       "      <td>0.0</td>\n",
       "      <td>0.0</td>\n",
       "      <td>0.0</td>\n",
       "      <td>0.0</td>\n",
       "      <td>0.0</td>\n",
       "      <td>0.0</td>\n",
       "      <td>0.0</td>\n",
       "      <td>0.0</td>\n",
       "      <td>0.0</td>\n",
       "    </tr>\n",
       "    <tr>\n",
       "      <th>22</th>\n",
       "      <td>88</td>\n",
       "      <td>3308</td>\n",
       "      <td>45</td>\n",
       "      <td>45</td>\n",
       "      <td>23.510549</td>\n",
       "      <td>59</td>\n",
       "      <td>0</td>\n",
       "      <td>1.000000</td>\n",
       "      <td>0.000000</td>\n",
       "      <td>46.616356</td>\n",
       "      <td>...</td>\n",
       "      <td>0.0</td>\n",
       "      <td>0.0</td>\n",
       "      <td>0.0</td>\n",
       "      <td>0.0</td>\n",
       "      <td>0.0</td>\n",
       "      <td>0.0</td>\n",
       "      <td>0.0</td>\n",
       "      <td>0.0</td>\n",
       "      <td>0.0</td>\n",
       "      <td>0.0</td>\n",
       "    </tr>\n",
       "    <tr>\n",
       "      <th>23</th>\n",
       "      <td>96</td>\n",
       "      <td>3312</td>\n",
       "      <td>49</td>\n",
       "      <td>49</td>\n",
       "      <td>22.457835</td>\n",
       "      <td>59</td>\n",
       "      <td>0</td>\n",
       "      <td>1.000000</td>\n",
       "      <td>0.000000</td>\n",
       "      <td>43.813837</td>\n",
       "      <td>...</td>\n",
       "      <td>0.0</td>\n",
       "      <td>0.0</td>\n",
       "      <td>0.0</td>\n",
       "      <td>0.0</td>\n",
       "      <td>0.0</td>\n",
       "      <td>0.0</td>\n",
       "      <td>0.0</td>\n",
       "      <td>0.0</td>\n",
       "      <td>0.0</td>\n",
       "      <td>0.0</td>\n",
       "    </tr>\n",
       "    <tr>\n",
       "      <th>24</th>\n",
       "      <td>280</td>\n",
       "      <td>3404</td>\n",
       "      <td>145</td>\n",
       "      <td>145</td>\n",
       "      <td>9.706347</td>\n",
       "      <td>59</td>\n",
       "      <td>0</td>\n",
       "      <td>1.000000</td>\n",
       "      <td>0.000000</td>\n",
       "      <td>9.866990</td>\n",
       "      <td>...</td>\n",
       "      <td>0.0</td>\n",
       "      <td>0.0</td>\n",
       "      <td>0.0</td>\n",
       "      <td>0.0</td>\n",
       "      <td>0.0</td>\n",
       "      <td>0.0</td>\n",
       "      <td>0.0</td>\n",
       "      <td>0.0</td>\n",
       "      <td>0.0</td>\n",
       "      <td>0.0</td>\n",
       "    </tr>\n",
       "    <tr>\n",
       "      <th>25</th>\n",
       "      <td>282</td>\n",
       "      <td>3405</td>\n",
       "      <td>146</td>\n",
       "      <td>146</td>\n",
       "      <td>17.796840</td>\n",
       "      <td>59</td>\n",
       "      <td>0</td>\n",
       "      <td>1.000000</td>\n",
       "      <td>0.000000</td>\n",
       "      <td>31.405395</td>\n",
       "      <td>...</td>\n",
       "      <td>0.0</td>\n",
       "      <td>0.0</td>\n",
       "      <td>0.0</td>\n",
       "      <td>0.0</td>\n",
       "      <td>0.0</td>\n",
       "      <td>0.0</td>\n",
       "      <td>0.0</td>\n",
       "      <td>0.0</td>\n",
       "      <td>0.0</td>\n",
       "      <td>0.0</td>\n",
       "    </tr>\n",
       "    <tr>\n",
       "      <th>26</th>\n",
       "      <td>284</td>\n",
       "      <td>3406</td>\n",
       "      <td>147</td>\n",
       "      <td>147</td>\n",
       "      <td>6.000000</td>\n",
       "      <td>59</td>\n",
       "      <td>0</td>\n",
       "      <td>1.000000</td>\n",
       "      <td>0.000000</td>\n",
       "      <td>0.000000</td>\n",
       "      <td>...</td>\n",
       "      <td>0.0</td>\n",
       "      <td>0.0</td>\n",
       "      <td>0.0</td>\n",
       "      <td>0.0</td>\n",
       "      <td>0.0</td>\n",
       "      <td>0.0</td>\n",
       "      <td>0.0</td>\n",
       "      <td>0.0</td>\n",
       "      <td>0.0</td>\n",
       "      <td>0.0</td>\n",
       "    </tr>\n",
       "    <tr>\n",
       "      <th>27</th>\n",
       "      <td>286</td>\n",
       "      <td>3407</td>\n",
       "      <td>148</td>\n",
       "      <td>148</td>\n",
       "      <td>12.509700</td>\n",
       "      <td>59</td>\n",
       "      <td>0</td>\n",
       "      <td>1.000000</td>\n",
       "      <td>0.000000</td>\n",
       "      <td>17.330038</td>\n",
       "      <td>...</td>\n",
       "      <td>0.0</td>\n",
       "      <td>0.0</td>\n",
       "      <td>0.0</td>\n",
       "      <td>0.0</td>\n",
       "      <td>0.0</td>\n",
       "      <td>0.0</td>\n",
       "      <td>0.0</td>\n",
       "      <td>0.0</td>\n",
       "      <td>0.0</td>\n",
       "      <td>0.0</td>\n",
       "    </tr>\n",
       "    <tr>\n",
       "      <th>28</th>\n",
       "      <td>288</td>\n",
       "      <td>3408</td>\n",
       "      <td>149</td>\n",
       "      <td>149</td>\n",
       "      <td>6.000000</td>\n",
       "      <td>59</td>\n",
       "      <td>0</td>\n",
       "      <td>1.000000</td>\n",
       "      <td>0.000000</td>\n",
       "      <td>0.000000</td>\n",
       "      <td>...</td>\n",
       "      <td>0.0</td>\n",
       "      <td>0.0</td>\n",
       "      <td>0.0</td>\n",
       "      <td>0.0</td>\n",
       "      <td>0.0</td>\n",
       "      <td>0.0</td>\n",
       "      <td>0.0</td>\n",
       "      <td>0.0</td>\n",
       "      <td>0.0</td>\n",
       "      <td>0.0</td>\n",
       "    </tr>\n",
       "    <tr>\n",
       "      <th>29</th>\n",
       "      <td>324</td>\n",
       "      <td>3426</td>\n",
       "      <td>168</td>\n",
       "      <td>168</td>\n",
       "      <td>6.000000</td>\n",
       "      <td>59</td>\n",
       "      <td>0</td>\n",
       "      <td>1.000000</td>\n",
       "      <td>0.000000</td>\n",
       "      <td>0.000000</td>\n",
       "      <td>...</td>\n",
       "      <td>0.0</td>\n",
       "      <td>0.0</td>\n",
       "      <td>0.0</td>\n",
       "      <td>0.0</td>\n",
       "      <td>0.0</td>\n",
       "      <td>0.0</td>\n",
       "      <td>0.0</td>\n",
       "      <td>0.0</td>\n",
       "      <td>0.0</td>\n",
       "      <td>0.0</td>\n",
       "    </tr>\n",
       "    <tr>\n",
       "      <th>...</th>\n",
       "      <td>...</td>\n",
       "      <td>...</td>\n",
       "      <td>...</td>\n",
       "      <td>...</td>\n",
       "      <td>...</td>\n",
       "      <td>...</td>\n",
       "      <td>...</td>\n",
       "      <td>...</td>\n",
       "      <td>...</td>\n",
       "      <td>...</td>\n",
       "      <td>...</td>\n",
       "      <td>...</td>\n",
       "      <td>...</td>\n",
       "      <td>...</td>\n",
       "      <td>...</td>\n",
       "      <td>...</td>\n",
       "      <td>...</td>\n",
       "      <td>...</td>\n",
       "      <td>...</td>\n",
       "      <td>...</td>\n",
       "      <td>...</td>\n",
       "    </tr>\n",
       "    <tr>\n",
       "      <th>10367</th>\n",
       "      <td>382</td>\n",
       "      <td>3455</td>\n",
       "      <td>197</td>\n",
       "      <td>197</td>\n",
       "      <td>6.000000</td>\n",
       "      <td>59</td>\n",
       "      <td>0</td>\n",
       "      <td>1.000000</td>\n",
       "      <td>0.000000</td>\n",
       "      <td>0.000000</td>\n",
       "      <td>...</td>\n",
       "      <td>NaN</td>\n",
       "      <td>NaN</td>\n",
       "      <td>NaN</td>\n",
       "      <td>NaN</td>\n",
       "      <td>NaN</td>\n",
       "      <td>NaN</td>\n",
       "      <td>NaN</td>\n",
       "      <td>NaN</td>\n",
       "      <td>NaN</td>\n",
       "      <td>NaN</td>\n",
       "    </tr>\n",
       "    <tr>\n",
       "      <th>10368</th>\n",
       "      <td>48</td>\n",
       "      <td>3288</td>\n",
       "      <td>25</td>\n",
       "      <td>25</td>\n",
       "      <td>17.327132</td>\n",
       "      <td>59</td>\n",
       "      <td>0</td>\n",
       "      <td>1.000000</td>\n",
       "      <td>0.000000</td>\n",
       "      <td>30.154944</td>\n",
       "      <td>...</td>\n",
       "      <td>NaN</td>\n",
       "      <td>NaN</td>\n",
       "      <td>NaN</td>\n",
       "      <td>NaN</td>\n",
       "      <td>NaN</td>\n",
       "      <td>NaN</td>\n",
       "      <td>NaN</td>\n",
       "      <td>NaN</td>\n",
       "      <td>NaN</td>\n",
       "      <td>NaN</td>\n",
       "    </tr>\n",
       "    <tr>\n",
       "      <th>10369</th>\n",
       "      <td>50</td>\n",
       "      <td>3289</td>\n",
       "      <td>26</td>\n",
       "      <td>26</td>\n",
       "      <td>13.607340</td>\n",
       "      <td>59</td>\n",
       "      <td>0</td>\n",
       "      <td>1.000000</td>\n",
       "      <td>0.000000</td>\n",
       "      <td>20.252162</td>\n",
       "      <td>...</td>\n",
       "      <td>NaN</td>\n",
       "      <td>NaN</td>\n",
       "      <td>NaN</td>\n",
       "      <td>NaN</td>\n",
       "      <td>NaN</td>\n",
       "      <td>NaN</td>\n",
       "      <td>NaN</td>\n",
       "      <td>NaN</td>\n",
       "      <td>NaN</td>\n",
       "      <td>NaN</td>\n",
       "    </tr>\n",
       "    <tr>\n",
       "      <th>10370</th>\n",
       "      <td>52</td>\n",
       "      <td>3290</td>\n",
       "      <td>27</td>\n",
       "      <td>27</td>\n",
       "      <td>6.000000</td>\n",
       "      <td>59</td>\n",
       "      <td>0</td>\n",
       "      <td>1.000000</td>\n",
       "      <td>0.000000</td>\n",
       "      <td>0.000000</td>\n",
       "      <td>...</td>\n",
       "      <td>NaN</td>\n",
       "      <td>NaN</td>\n",
       "      <td>NaN</td>\n",
       "      <td>NaN</td>\n",
       "      <td>NaN</td>\n",
       "      <td>NaN</td>\n",
       "      <td>NaN</td>\n",
       "      <td>NaN</td>\n",
       "      <td>NaN</td>\n",
       "      <td>NaN</td>\n",
       "    </tr>\n",
       "    <tr>\n",
       "      <th>10371</th>\n",
       "      <td>80</td>\n",
       "      <td>3304</td>\n",
       "      <td>41</td>\n",
       "      <td>41</td>\n",
       "      <td>6.000000</td>\n",
       "      <td>59</td>\n",
       "      <td>0</td>\n",
       "      <td>1.000000</td>\n",
       "      <td>0.000000</td>\n",
       "      <td>0.000000</td>\n",
       "      <td>...</td>\n",
       "      <td>NaN</td>\n",
       "      <td>NaN</td>\n",
       "      <td>NaN</td>\n",
       "      <td>NaN</td>\n",
       "      <td>NaN</td>\n",
       "      <td>NaN</td>\n",
       "      <td>NaN</td>\n",
       "      <td>NaN</td>\n",
       "      <td>NaN</td>\n",
       "      <td>NaN</td>\n",
       "    </tr>\n",
       "    <tr>\n",
       "      <th>10372</th>\n",
       "      <td>90</td>\n",
       "      <td>3309</td>\n",
       "      <td>46</td>\n",
       "      <td>46</td>\n",
       "      <td>19.868511</td>\n",
       "      <td>53</td>\n",
       "      <td>6</td>\n",
       "      <td>0.898305</td>\n",
       "      <td>0.101695</td>\n",
       "      <td>36.920570</td>\n",
       "      <td>...</td>\n",
       "      <td>NaN</td>\n",
       "      <td>NaN</td>\n",
       "      <td>NaN</td>\n",
       "      <td>NaN</td>\n",
       "      <td>NaN</td>\n",
       "      <td>NaN</td>\n",
       "      <td>NaN</td>\n",
       "      <td>NaN</td>\n",
       "      <td>NaN</td>\n",
       "      <td>NaN</td>\n",
       "    </tr>\n",
       "    <tr>\n",
       "      <th>10373</th>\n",
       "      <td>96</td>\n",
       "      <td>3312</td>\n",
       "      <td>49</td>\n",
       "      <td>49</td>\n",
       "      <td>22.457835</td>\n",
       "      <td>59</td>\n",
       "      <td>0</td>\n",
       "      <td>1.000000</td>\n",
       "      <td>0.000000</td>\n",
       "      <td>43.813837</td>\n",
       "      <td>...</td>\n",
       "      <td>NaN</td>\n",
       "      <td>NaN</td>\n",
       "      <td>NaN</td>\n",
       "      <td>NaN</td>\n",
       "      <td>NaN</td>\n",
       "      <td>NaN</td>\n",
       "      <td>NaN</td>\n",
       "      <td>NaN</td>\n",
       "      <td>NaN</td>\n",
       "      <td>NaN</td>\n",
       "    </tr>\n",
       "    <tr>\n",
       "      <th>10374</th>\n",
       "      <td>280</td>\n",
       "      <td>3404</td>\n",
       "      <td>145</td>\n",
       "      <td>145</td>\n",
       "      <td>9.706347</td>\n",
       "      <td>59</td>\n",
       "      <td>0</td>\n",
       "      <td>1.000000</td>\n",
       "      <td>0.000000</td>\n",
       "      <td>9.866990</td>\n",
       "      <td>...</td>\n",
       "      <td>NaN</td>\n",
       "      <td>NaN</td>\n",
       "      <td>NaN</td>\n",
       "      <td>NaN</td>\n",
       "      <td>NaN</td>\n",
       "      <td>NaN</td>\n",
       "      <td>NaN</td>\n",
       "      <td>NaN</td>\n",
       "      <td>NaN</td>\n",
       "      <td>NaN</td>\n",
       "    </tr>\n",
       "    <tr>\n",
       "      <th>10375</th>\n",
       "      <td>282</td>\n",
       "      <td>3405</td>\n",
       "      <td>146</td>\n",
       "      <td>146</td>\n",
       "      <td>17.796840</td>\n",
       "      <td>59</td>\n",
       "      <td>0</td>\n",
       "      <td>1.000000</td>\n",
       "      <td>0.000000</td>\n",
       "      <td>31.405395</td>\n",
       "      <td>...</td>\n",
       "      <td>NaN</td>\n",
       "      <td>NaN</td>\n",
       "      <td>NaN</td>\n",
       "      <td>NaN</td>\n",
       "      <td>NaN</td>\n",
       "      <td>NaN</td>\n",
       "      <td>NaN</td>\n",
       "      <td>NaN</td>\n",
       "      <td>NaN</td>\n",
       "      <td>NaN</td>\n",
       "    </tr>\n",
       "    <tr>\n",
       "      <th>10376</th>\n",
       "      <td>284</td>\n",
       "      <td>3406</td>\n",
       "      <td>147</td>\n",
       "      <td>147</td>\n",
       "      <td>6.000000</td>\n",
       "      <td>59</td>\n",
       "      <td>0</td>\n",
       "      <td>1.000000</td>\n",
       "      <td>0.000000</td>\n",
       "      <td>0.000000</td>\n",
       "      <td>...</td>\n",
       "      <td>NaN</td>\n",
       "      <td>NaN</td>\n",
       "      <td>NaN</td>\n",
       "      <td>NaN</td>\n",
       "      <td>NaN</td>\n",
       "      <td>NaN</td>\n",
       "      <td>NaN</td>\n",
       "      <td>NaN</td>\n",
       "      <td>NaN</td>\n",
       "      <td>NaN</td>\n",
       "    </tr>\n",
       "    <tr>\n",
       "      <th>10377</th>\n",
       "      <td>286</td>\n",
       "      <td>3407</td>\n",
       "      <td>148</td>\n",
       "      <td>148</td>\n",
       "      <td>12.509700</td>\n",
       "      <td>59</td>\n",
       "      <td>0</td>\n",
       "      <td>1.000000</td>\n",
       "      <td>0.000000</td>\n",
       "      <td>17.330038</td>\n",
       "      <td>...</td>\n",
       "      <td>NaN</td>\n",
       "      <td>NaN</td>\n",
       "      <td>NaN</td>\n",
       "      <td>NaN</td>\n",
       "      <td>NaN</td>\n",
       "      <td>NaN</td>\n",
       "      <td>NaN</td>\n",
       "      <td>NaN</td>\n",
       "      <td>NaN</td>\n",
       "      <td>NaN</td>\n",
       "    </tr>\n",
       "    <tr>\n",
       "      <th>10378</th>\n",
       "      <td>288</td>\n",
       "      <td>3408</td>\n",
       "      <td>149</td>\n",
       "      <td>149</td>\n",
       "      <td>6.000000</td>\n",
       "      <td>59</td>\n",
       "      <td>0</td>\n",
       "      <td>1.000000</td>\n",
       "      <td>0.000000</td>\n",
       "      <td>0.000000</td>\n",
       "      <td>...</td>\n",
       "      <td>NaN</td>\n",
       "      <td>NaN</td>\n",
       "      <td>NaN</td>\n",
       "      <td>NaN</td>\n",
       "      <td>NaN</td>\n",
       "      <td>NaN</td>\n",
       "      <td>NaN</td>\n",
       "      <td>NaN</td>\n",
       "      <td>NaN</td>\n",
       "      <td>NaN</td>\n",
       "    </tr>\n",
       "    <tr>\n",
       "      <th>10379</th>\n",
       "      <td>324</td>\n",
       "      <td>3426</td>\n",
       "      <td>168</td>\n",
       "      <td>168</td>\n",
       "      <td>6.000000</td>\n",
       "      <td>59</td>\n",
       "      <td>0</td>\n",
       "      <td>1.000000</td>\n",
       "      <td>0.000000</td>\n",
       "      <td>0.000000</td>\n",
       "      <td>...</td>\n",
       "      <td>NaN</td>\n",
       "      <td>NaN</td>\n",
       "      <td>NaN</td>\n",
       "      <td>NaN</td>\n",
       "      <td>NaN</td>\n",
       "      <td>NaN</td>\n",
       "      <td>NaN</td>\n",
       "      <td>NaN</td>\n",
       "      <td>NaN</td>\n",
       "      <td>NaN</td>\n",
       "    </tr>\n",
       "    <tr>\n",
       "      <th>10380</th>\n",
       "      <td>326</td>\n",
       "      <td>3427</td>\n",
       "      <td>169</td>\n",
       "      <td>169</td>\n",
       "      <td>11.505224</td>\n",
       "      <td>59</td>\n",
       "      <td>0</td>\n",
       "      <td>1.000000</td>\n",
       "      <td>0.000000</td>\n",
       "      <td>14.655937</td>\n",
       "      <td>...</td>\n",
       "      <td>NaN</td>\n",
       "      <td>NaN</td>\n",
       "      <td>NaN</td>\n",
       "      <td>NaN</td>\n",
       "      <td>NaN</td>\n",
       "      <td>NaN</td>\n",
       "      <td>NaN</td>\n",
       "      <td>NaN</td>\n",
       "      <td>NaN</td>\n",
       "      <td>NaN</td>\n",
       "    </tr>\n",
       "    <tr>\n",
       "      <th>10381</th>\n",
       "      <td>376</td>\n",
       "      <td>3452</td>\n",
       "      <td>194</td>\n",
       "      <td>194</td>\n",
       "      <td>13.187968</td>\n",
       "      <td>59</td>\n",
       "      <td>0</td>\n",
       "      <td>1.000000</td>\n",
       "      <td>0.000000</td>\n",
       "      <td>19.135716</td>\n",
       "      <td>...</td>\n",
       "      <td>NaN</td>\n",
       "      <td>NaN</td>\n",
       "      <td>NaN</td>\n",
       "      <td>NaN</td>\n",
       "      <td>NaN</td>\n",
       "      <td>NaN</td>\n",
       "      <td>NaN</td>\n",
       "      <td>NaN</td>\n",
       "      <td>NaN</td>\n",
       "      <td>NaN</td>\n",
       "    </tr>\n",
       "    <tr>\n",
       "      <th>10382</th>\n",
       "      <td>52</td>\n",
       "      <td>3290</td>\n",
       "      <td>27</td>\n",
       "      <td>27</td>\n",
       "      <td>6.000000</td>\n",
       "      <td>59</td>\n",
       "      <td>0</td>\n",
       "      <td>1.000000</td>\n",
       "      <td>0.000000</td>\n",
       "      <td>0.000000</td>\n",
       "      <td>...</td>\n",
       "      <td>NaN</td>\n",
       "      <td>NaN</td>\n",
       "      <td>NaN</td>\n",
       "      <td>NaN</td>\n",
       "      <td>NaN</td>\n",
       "      <td>NaN</td>\n",
       "      <td>NaN</td>\n",
       "      <td>NaN</td>\n",
       "      <td>NaN</td>\n",
       "      <td>NaN</td>\n",
       "    </tr>\n",
       "    <tr>\n",
       "      <th>10383</th>\n",
       "      <td>80</td>\n",
       "      <td>3304</td>\n",
       "      <td>41</td>\n",
       "      <td>41</td>\n",
       "      <td>6.000000</td>\n",
       "      <td>59</td>\n",
       "      <td>0</td>\n",
       "      <td>1.000000</td>\n",
       "      <td>0.000000</td>\n",
       "      <td>0.000000</td>\n",
       "      <td>...</td>\n",
       "      <td>NaN</td>\n",
       "      <td>NaN</td>\n",
       "      <td>NaN</td>\n",
       "      <td>NaN</td>\n",
       "      <td>NaN</td>\n",
       "      <td>NaN</td>\n",
       "      <td>NaN</td>\n",
       "      <td>NaN</td>\n",
       "      <td>NaN</td>\n",
       "      <td>NaN</td>\n",
       "    </tr>\n",
       "    <tr>\n",
       "      <th>10384</th>\n",
       "      <td>96</td>\n",
       "      <td>3312</td>\n",
       "      <td>49</td>\n",
       "      <td>49</td>\n",
       "      <td>22.457835</td>\n",
       "      <td>59</td>\n",
       "      <td>0</td>\n",
       "      <td>1.000000</td>\n",
       "      <td>0.000000</td>\n",
       "      <td>43.813837</td>\n",
       "      <td>...</td>\n",
       "      <td>NaN</td>\n",
       "      <td>NaN</td>\n",
       "      <td>NaN</td>\n",
       "      <td>NaN</td>\n",
       "      <td>NaN</td>\n",
       "      <td>NaN</td>\n",
       "      <td>NaN</td>\n",
       "      <td>NaN</td>\n",
       "      <td>NaN</td>\n",
       "      <td>NaN</td>\n",
       "    </tr>\n",
       "    <tr>\n",
       "      <th>10385</th>\n",
       "      <td>280</td>\n",
       "      <td>3404</td>\n",
       "      <td>145</td>\n",
       "      <td>145</td>\n",
       "      <td>9.706347</td>\n",
       "      <td>59</td>\n",
       "      <td>0</td>\n",
       "      <td>1.000000</td>\n",
       "      <td>0.000000</td>\n",
       "      <td>9.866990</td>\n",
       "      <td>...</td>\n",
       "      <td>NaN</td>\n",
       "      <td>NaN</td>\n",
       "      <td>NaN</td>\n",
       "      <td>NaN</td>\n",
       "      <td>NaN</td>\n",
       "      <td>NaN</td>\n",
       "      <td>NaN</td>\n",
       "      <td>NaN</td>\n",
       "      <td>NaN</td>\n",
       "      <td>NaN</td>\n",
       "    </tr>\n",
       "    <tr>\n",
       "      <th>10386</th>\n",
       "      <td>282</td>\n",
       "      <td>3405</td>\n",
       "      <td>146</td>\n",
       "      <td>146</td>\n",
       "      <td>17.796840</td>\n",
       "      <td>59</td>\n",
       "      <td>0</td>\n",
       "      <td>1.000000</td>\n",
       "      <td>0.000000</td>\n",
       "      <td>31.405395</td>\n",
       "      <td>...</td>\n",
       "      <td>NaN</td>\n",
       "      <td>NaN</td>\n",
       "      <td>NaN</td>\n",
       "      <td>NaN</td>\n",
       "      <td>NaN</td>\n",
       "      <td>NaN</td>\n",
       "      <td>NaN</td>\n",
       "      <td>NaN</td>\n",
       "      <td>NaN</td>\n",
       "      <td>NaN</td>\n",
       "    </tr>\n",
       "    <tr>\n",
       "      <th>10387</th>\n",
       "      <td>284</td>\n",
       "      <td>3406</td>\n",
       "      <td>147</td>\n",
       "      <td>147</td>\n",
       "      <td>6.000000</td>\n",
       "      <td>59</td>\n",
       "      <td>0</td>\n",
       "      <td>1.000000</td>\n",
       "      <td>0.000000</td>\n",
       "      <td>0.000000</td>\n",
       "      <td>...</td>\n",
       "      <td>NaN</td>\n",
       "      <td>NaN</td>\n",
       "      <td>NaN</td>\n",
       "      <td>NaN</td>\n",
       "      <td>NaN</td>\n",
       "      <td>NaN</td>\n",
       "      <td>NaN</td>\n",
       "      <td>NaN</td>\n",
       "      <td>NaN</td>\n",
       "      <td>NaN</td>\n",
       "    </tr>\n",
       "    <tr>\n",
       "      <th>10388</th>\n",
       "      <td>286</td>\n",
       "      <td>3407</td>\n",
       "      <td>148</td>\n",
       "      <td>148</td>\n",
       "      <td>12.509700</td>\n",
       "      <td>59</td>\n",
       "      <td>0</td>\n",
       "      <td>1.000000</td>\n",
       "      <td>0.000000</td>\n",
       "      <td>17.330038</td>\n",
       "      <td>...</td>\n",
       "      <td>NaN</td>\n",
       "      <td>NaN</td>\n",
       "      <td>NaN</td>\n",
       "      <td>NaN</td>\n",
       "      <td>NaN</td>\n",
       "      <td>NaN</td>\n",
       "      <td>NaN</td>\n",
       "      <td>NaN</td>\n",
       "      <td>NaN</td>\n",
       "      <td>NaN</td>\n",
       "    </tr>\n",
       "    <tr>\n",
       "      <th>10389</th>\n",
       "      <td>288</td>\n",
       "      <td>3408</td>\n",
       "      <td>149</td>\n",
       "      <td>149</td>\n",
       "      <td>6.000000</td>\n",
       "      <td>59</td>\n",
       "      <td>0</td>\n",
       "      <td>1.000000</td>\n",
       "      <td>0.000000</td>\n",
       "      <td>0.000000</td>\n",
       "      <td>...</td>\n",
       "      <td>NaN</td>\n",
       "      <td>NaN</td>\n",
       "      <td>NaN</td>\n",
       "      <td>NaN</td>\n",
       "      <td>NaN</td>\n",
       "      <td>NaN</td>\n",
       "      <td>NaN</td>\n",
       "      <td>NaN</td>\n",
       "      <td>NaN</td>\n",
       "      <td>NaN</td>\n",
       "    </tr>\n",
       "    <tr>\n",
       "      <th>10390</th>\n",
       "      <td>324</td>\n",
       "      <td>3426</td>\n",
       "      <td>168</td>\n",
       "      <td>168</td>\n",
       "      <td>6.000000</td>\n",
       "      <td>59</td>\n",
       "      <td>0</td>\n",
       "      <td>1.000000</td>\n",
       "      <td>0.000000</td>\n",
       "      <td>0.000000</td>\n",
       "      <td>...</td>\n",
       "      <td>NaN</td>\n",
       "      <td>NaN</td>\n",
       "      <td>NaN</td>\n",
       "      <td>NaN</td>\n",
       "      <td>NaN</td>\n",
       "      <td>NaN</td>\n",
       "      <td>NaN</td>\n",
       "      <td>NaN</td>\n",
       "      <td>NaN</td>\n",
       "      <td>NaN</td>\n",
       "    </tr>\n",
       "    <tr>\n",
       "      <th>10391</th>\n",
       "      <td>326</td>\n",
       "      <td>3427</td>\n",
       "      <td>169</td>\n",
       "      <td>169</td>\n",
       "      <td>11.505224</td>\n",
       "      <td>59</td>\n",
       "      <td>0</td>\n",
       "      <td>1.000000</td>\n",
       "      <td>0.000000</td>\n",
       "      <td>14.655937</td>\n",
       "      <td>...</td>\n",
       "      <td>NaN</td>\n",
       "      <td>NaN</td>\n",
       "      <td>NaN</td>\n",
       "      <td>NaN</td>\n",
       "      <td>NaN</td>\n",
       "      <td>NaN</td>\n",
       "      <td>NaN</td>\n",
       "      <td>NaN</td>\n",
       "      <td>NaN</td>\n",
       "      <td>NaN</td>\n",
       "    </tr>\n",
       "    <tr>\n",
       "      <th>10392</th>\n",
       "      <td>328</td>\n",
       "      <td>3428</td>\n",
       "      <td>170</td>\n",
       "      <td>170</td>\n",
       "      <td>13.860299</td>\n",
       "      <td>59</td>\n",
       "      <td>0</td>\n",
       "      <td>1.000000</td>\n",
       "      <td>0.000000</td>\n",
       "      <td>20.925587</td>\n",
       "      <td>...</td>\n",
       "      <td>NaN</td>\n",
       "      <td>NaN</td>\n",
       "      <td>NaN</td>\n",
       "      <td>NaN</td>\n",
       "      <td>NaN</td>\n",
       "      <td>NaN</td>\n",
       "      <td>NaN</td>\n",
       "      <td>NaN</td>\n",
       "      <td>NaN</td>\n",
       "      <td>NaN</td>\n",
       "    </tr>\n",
       "    <tr>\n",
       "      <th>10393</th>\n",
       "      <td>330</td>\n",
       "      <td>3429</td>\n",
       "      <td>171</td>\n",
       "      <td>171</td>\n",
       "      <td>6.000000</td>\n",
       "      <td>59</td>\n",
       "      <td>0</td>\n",
       "      <td>1.000000</td>\n",
       "      <td>0.000000</td>\n",
       "      <td>0.000000</td>\n",
       "      <td>...</td>\n",
       "      <td>NaN</td>\n",
       "      <td>NaN</td>\n",
       "      <td>NaN</td>\n",
       "      <td>NaN</td>\n",
       "      <td>NaN</td>\n",
       "      <td>NaN</td>\n",
       "      <td>NaN</td>\n",
       "      <td>NaN</td>\n",
       "      <td>NaN</td>\n",
       "      <td>NaN</td>\n",
       "    </tr>\n",
       "    <tr>\n",
       "      <th>10394</th>\n",
       "      <td>372</td>\n",
       "      <td>3450</td>\n",
       "      <td>192</td>\n",
       "      <td>192</td>\n",
       "      <td>6.000000</td>\n",
       "      <td>59</td>\n",
       "      <td>0</td>\n",
       "      <td>1.000000</td>\n",
       "      <td>0.000000</td>\n",
       "      <td>0.000000</td>\n",
       "      <td>...</td>\n",
       "      <td>NaN</td>\n",
       "      <td>NaN</td>\n",
       "      <td>NaN</td>\n",
       "      <td>NaN</td>\n",
       "      <td>NaN</td>\n",
       "      <td>NaN</td>\n",
       "      <td>NaN</td>\n",
       "      <td>NaN</td>\n",
       "      <td>NaN</td>\n",
       "      <td>NaN</td>\n",
       "    </tr>\n",
       "    <tr>\n",
       "      <th>10395</th>\n",
       "      <td>374</td>\n",
       "      <td>3451</td>\n",
       "      <td>193</td>\n",
       "      <td>193</td>\n",
       "      <td>27.114370</td>\n",
       "      <td>59</td>\n",
       "      <td>0</td>\n",
       "      <td>1.000000</td>\n",
       "      <td>0.000000</td>\n",
       "      <td>56.210403</td>\n",
       "      <td>...</td>\n",
       "      <td>NaN</td>\n",
       "      <td>NaN</td>\n",
       "      <td>NaN</td>\n",
       "      <td>NaN</td>\n",
       "      <td>NaN</td>\n",
       "      <td>NaN</td>\n",
       "      <td>NaN</td>\n",
       "      <td>NaN</td>\n",
       "      <td>NaN</td>\n",
       "      <td>NaN</td>\n",
       "    </tr>\n",
       "    <tr>\n",
       "      <th>10396</th>\n",
       "      <td>376</td>\n",
       "      <td>3452</td>\n",
       "      <td>194</td>\n",
       "      <td>194</td>\n",
       "      <td>13.187968</td>\n",
       "      <td>59</td>\n",
       "      <td>0</td>\n",
       "      <td>1.000000</td>\n",
       "      <td>0.000000</td>\n",
       "      <td>19.135716</td>\n",
       "      <td>...</td>\n",
       "      <td>NaN</td>\n",
       "      <td>NaN</td>\n",
       "      <td>NaN</td>\n",
       "      <td>NaN</td>\n",
       "      <td>NaN</td>\n",
       "      <td>NaN</td>\n",
       "      <td>NaN</td>\n",
       "      <td>NaN</td>\n",
       "      <td>NaN</td>\n",
       "      <td>NaN</td>\n",
       "    </tr>\n",
       "  </tbody>\n",
       "</table>\n",
       "<p>10397 rows × 131 columns</p>\n",
       "</div>"
      ],
      "text/plain": [
       "       index  UniProt_ResNum  Pfam_column  alignment_column    shenkin  occ  \\\n",
       "0          4            3266            3                 3  17.835177   59   \n",
       "1          6            3267            4                 4  17.925256   59   \n",
       "2          8            3268            5                 5   6.957371   59   \n",
       "3         10            3269            6                 6   8.335726   59   \n",
       "4         12            3270            7                 7  15.514397   59   \n",
       "5         14            3271            8                 8  33.064855   59   \n",
       "6        254            3386          127               127  30.372135   59   \n",
       "7        258            3387          128               128   7.335771   59   \n",
       "8        270            3390          131               131  29.716529   59   \n",
       "9        322            3415          156               156  23.615656   59   \n",
       "10       600            3554          303               303  13.614765   57   \n",
       "11       606            3557          306               306  35.596307   59   \n",
       "12       608            3558          307               307  13.187968   59   \n",
       "13       614            3561          310               310  25.892967   59   \n",
       "14       616            3562          311               311   6.000000   59   \n",
       "15       624            3566          315               315   9.457788   59   \n",
       "16        46            3287           24                24  21.138091   59   \n",
       "17        48            3288           25                25  17.327132   59   \n",
       "18        50            3289           26                26  13.607340   59   \n",
       "19        52            3290           27                27   6.000000   59   \n",
       "20        80            3304           41                41   6.000000   59   \n",
       "21        86            3307           44                44  13.187968   59   \n",
       "22        88            3308           45                45  23.510549   59   \n",
       "23        96            3312           49                49  22.457835   59   \n",
       "24       280            3404          145               145   9.706347   59   \n",
       "25       282            3405          146               146  17.796840   59   \n",
       "26       284            3406          147               147   6.000000   59   \n",
       "27       286            3407          148               148  12.509700   59   \n",
       "28       288            3408          149               149   6.000000   59   \n",
       "29       324            3426          168               168   6.000000   59   \n",
       "...      ...             ...          ...               ...        ...  ...   \n",
       "10367    382            3455          197               197   6.000000   59   \n",
       "10368     48            3288           25                25  17.327132   59   \n",
       "10369     50            3289           26                26  13.607340   59   \n",
       "10370     52            3290           27                27   6.000000   59   \n",
       "10371     80            3304           41                41   6.000000   59   \n",
       "10372     90            3309           46                46  19.868511   53   \n",
       "10373     96            3312           49                49  22.457835   59   \n",
       "10374    280            3404          145               145   9.706347   59   \n",
       "10375    282            3405          146               146  17.796840   59   \n",
       "10376    284            3406          147               147   6.000000   59   \n",
       "10377    286            3407          148               148  12.509700   59   \n",
       "10378    288            3408          149               149   6.000000   59   \n",
       "10379    324            3426          168               168   6.000000   59   \n",
       "10380    326            3427          169               169  11.505224   59   \n",
       "10381    376            3452          194               194  13.187968   59   \n",
       "10382     52            3290           27                27   6.000000   59   \n",
       "10383     80            3304           41                41   6.000000   59   \n",
       "10384     96            3312           49                49  22.457835   59   \n",
       "10385    280            3404          145               145   9.706347   59   \n",
       "10386    282            3405          146               146  17.796840   59   \n",
       "10387    284            3406          147               147   6.000000   59   \n",
       "10388    286            3407          148               148  12.509700   59   \n",
       "10389    288            3408          149               149   6.000000   59   \n",
       "10390    324            3426          168               168   6.000000   59   \n",
       "10391    326            3427          169               169  11.505224   59   \n",
       "10392    328            3428          170               170  13.860299   59   \n",
       "10393    330            3429          171               171   6.000000   59   \n",
       "10394    372            3450          192               192   6.000000   59   \n",
       "10395    374            3451          193               193  27.114370   59   \n",
       "10396    376            3452          194               194  13.187968   59   \n",
       "\n",
       "       gaps   occ_pct  gaps_pct  rel_norm_shenkin  ...    BS95 BS96 BS97  \\\n",
       "0         0  1.000000  0.000000         31.507456  ...     0.0  0.0  0.0   \n",
       "1         0  1.000000  0.000000         31.747262  ...     0.0  0.0  0.0   \n",
       "2         0  1.000000  0.000000          2.548702  ...     0.0  0.0  0.0   \n",
       "3         0  1.000000  0.000000          6.218141  ...     0.0  0.0  0.0   \n",
       "4         0  1.000000  0.000000         25.329106  ...     0.0  0.0  0.0   \n",
       "5         0  1.000000  0.000000         72.051707  ...     0.0  0.0  0.0   \n",
       "6         0  1.000000  0.000000         64.883183  ...     0.0  0.0  0.0   \n",
       "7         0  1.000000  0.000000          3.556072  ...     0.0  0.0  0.0   \n",
       "8         0  1.000000  0.000000         63.137836  ...     0.0  0.0  0.0   \n",
       "9         0  1.000000  0.000000         46.896170  ...     0.0  0.0  0.0   \n",
       "10        2  0.966102  0.033898         20.271930  ...     0.0  0.0  0.0   \n",
       "11        0  1.000000  0.000000         78.790906  ...     0.0  0.0  0.0   \n",
       "12        0  1.000000  0.000000         19.135716  ...     0.0  0.0  0.0   \n",
       "13        0  1.000000  0.000000         52.958799  ...     0.0  0.0  0.0   \n",
       "14        0  1.000000  0.000000          0.000000  ...     0.0  0.0  0.0   \n",
       "15        0  1.000000  0.000000          9.205278  ...     0.0  0.0  0.0   \n",
       "16        0  1.000000  0.000000         40.300429  ...     0.0  0.0  0.0   \n",
       "17        0  1.000000  0.000000         30.154944  ...     0.0  0.0  0.0   \n",
       "18        0  1.000000  0.000000         20.252162  ...     0.0  0.0  0.0   \n",
       "19        0  1.000000  0.000000          0.000000  ...     0.0  0.0  0.0   \n",
       "20        0  1.000000  0.000000          0.000000  ...     0.0  0.0  0.0   \n",
       "21        0  1.000000  0.000000         19.135716  ...     0.0  0.0  0.0   \n",
       "22        0  1.000000  0.000000         46.616356  ...     0.0  0.0  0.0   \n",
       "23        0  1.000000  0.000000         43.813837  ...     0.0  0.0  0.0   \n",
       "24        0  1.000000  0.000000          9.866990  ...     0.0  0.0  0.0   \n",
       "25        0  1.000000  0.000000         31.405395  ...     0.0  0.0  0.0   \n",
       "26        0  1.000000  0.000000          0.000000  ...     0.0  0.0  0.0   \n",
       "27        0  1.000000  0.000000         17.330038  ...     0.0  0.0  0.0   \n",
       "28        0  1.000000  0.000000          0.000000  ...     0.0  0.0  0.0   \n",
       "29        0  1.000000  0.000000          0.000000  ...     0.0  0.0  0.0   \n",
       "...     ...       ...       ...               ...  ...     ...  ...  ...   \n",
       "10367     0  1.000000  0.000000          0.000000  ...     NaN  NaN  NaN   \n",
       "10368     0  1.000000  0.000000         30.154944  ...     NaN  NaN  NaN   \n",
       "10369     0  1.000000  0.000000         20.252162  ...     NaN  NaN  NaN   \n",
       "10370     0  1.000000  0.000000          0.000000  ...     NaN  NaN  NaN   \n",
       "10371     0  1.000000  0.000000          0.000000  ...     NaN  NaN  NaN   \n",
       "10372     6  0.898305  0.101695         36.920570  ...     NaN  NaN  NaN   \n",
       "10373     0  1.000000  0.000000         43.813837  ...     NaN  NaN  NaN   \n",
       "10374     0  1.000000  0.000000          9.866990  ...     NaN  NaN  NaN   \n",
       "10375     0  1.000000  0.000000         31.405395  ...     NaN  NaN  NaN   \n",
       "10376     0  1.000000  0.000000          0.000000  ...     NaN  NaN  NaN   \n",
       "10377     0  1.000000  0.000000         17.330038  ...     NaN  NaN  NaN   \n",
       "10378     0  1.000000  0.000000          0.000000  ...     NaN  NaN  NaN   \n",
       "10379     0  1.000000  0.000000          0.000000  ...     NaN  NaN  NaN   \n",
       "10380     0  1.000000  0.000000         14.655937  ...     NaN  NaN  NaN   \n",
       "10381     0  1.000000  0.000000         19.135716  ...     NaN  NaN  NaN   \n",
       "10382     0  1.000000  0.000000          0.000000  ...     NaN  NaN  NaN   \n",
       "10383     0  1.000000  0.000000          0.000000  ...     NaN  NaN  NaN   \n",
       "10384     0  1.000000  0.000000         43.813837  ...     NaN  NaN  NaN   \n",
       "10385     0  1.000000  0.000000          9.866990  ...     NaN  NaN  NaN   \n",
       "10386     0  1.000000  0.000000         31.405395  ...     NaN  NaN  NaN   \n",
       "10387     0  1.000000  0.000000          0.000000  ...     NaN  NaN  NaN   \n",
       "10388     0  1.000000  0.000000         17.330038  ...     NaN  NaN  NaN   \n",
       "10389     0  1.000000  0.000000          0.000000  ...     NaN  NaN  NaN   \n",
       "10390     0  1.000000  0.000000          0.000000  ...     NaN  NaN  NaN   \n",
       "10391     0  1.000000  0.000000         14.655937  ...     NaN  NaN  NaN   \n",
       "10392     0  1.000000  0.000000         20.925587  ...     NaN  NaN  NaN   \n",
       "10393     0  1.000000  0.000000          0.000000  ...     NaN  NaN  NaN   \n",
       "10394     0  1.000000  0.000000          0.000000  ...     NaN  NaN  NaN   \n",
       "10395     0  1.000000  0.000000         56.210403  ...     NaN  NaN  NaN   \n",
       "10396     0  1.000000  0.000000         19.135716  ...     NaN  NaN  NaN   \n",
       "\n",
       "       BS98 BS99 BS100 BS101  BS102  BS103  BS104  \n",
       "0       0.0  0.0   0.0   0.0    0.0    0.0    0.0  \n",
       "1       0.0  0.0   0.0   0.0    0.0    0.0    0.0  \n",
       "2       0.0  0.0   0.0   0.0    0.0    0.0    0.0  \n",
       "3       0.0  0.0   0.0   0.0    0.0    0.0    0.0  \n",
       "4       0.0  0.0   0.0   0.0    0.0    0.0    0.0  \n",
       "5       0.0  0.0   0.0   0.0    0.0    0.0    0.0  \n",
       "6       0.0  0.0   0.0   0.0    0.0    0.0    0.0  \n",
       "7       0.0  0.0   0.0   0.0    0.0    0.0    0.0  \n",
       "8       0.0  0.0   0.0   0.0    0.0    0.0    0.0  \n",
       "9       0.0  0.0   0.0   0.0    0.0    0.0    0.0  \n",
       "10      0.0  0.0   0.0   0.0    0.0    0.0    0.0  \n",
       "11      0.0  0.0   0.0   0.0    0.0    0.0    0.0  \n",
       "12      0.0  0.0   0.0   0.0    0.0    0.0    0.0  \n",
       "13      0.0  0.0   0.0   0.0    0.0    0.0    0.0  \n",
       "14      0.0  0.0   0.0   0.0    0.0    0.0    0.0  \n",
       "15      0.0  0.0   0.0   0.0    0.0    0.0    0.0  \n",
       "16      0.0  0.0   0.0   0.0    0.0    0.0    0.0  \n",
       "17      0.0  0.0   0.0   0.0    0.0    0.0    0.0  \n",
       "18      0.0  0.0   0.0   0.0    0.0    0.0    0.0  \n",
       "19      0.0  0.0   0.0   0.0    0.0    0.0    0.0  \n",
       "20      0.0  0.0   0.0   0.0    0.0    0.0    0.0  \n",
       "21      0.0  0.0   0.0   0.0    0.0    0.0    0.0  \n",
       "22      0.0  0.0   0.0   0.0    0.0    0.0    0.0  \n",
       "23      0.0  0.0   0.0   0.0    0.0    0.0    0.0  \n",
       "24      0.0  0.0   0.0   0.0    0.0    0.0    0.0  \n",
       "25      0.0  0.0   0.0   0.0    0.0    0.0    0.0  \n",
       "26      0.0  0.0   0.0   0.0    0.0    0.0    0.0  \n",
       "27      0.0  0.0   0.0   0.0    0.0    0.0    0.0  \n",
       "28      0.0  0.0   0.0   0.0    0.0    0.0    0.0  \n",
       "29      0.0  0.0   0.0   0.0    0.0    0.0    0.0  \n",
       "...     ...  ...   ...   ...    ...    ...    ...  \n",
       "10367   NaN  NaN   NaN   NaN    NaN    NaN    NaN  \n",
       "10368   NaN  NaN   NaN   NaN    NaN    NaN    NaN  \n",
       "10369   NaN  NaN   NaN   NaN    NaN    NaN    NaN  \n",
       "10370   NaN  NaN   NaN   NaN    NaN    NaN    NaN  \n",
       "10371   NaN  NaN   NaN   NaN    NaN    NaN    NaN  \n",
       "10372   NaN  NaN   NaN   NaN    NaN    NaN    NaN  \n",
       "10373   NaN  NaN   NaN   NaN    NaN    NaN    NaN  \n",
       "10374   NaN  NaN   NaN   NaN    NaN    NaN    NaN  \n",
       "10375   NaN  NaN   NaN   NaN    NaN    NaN    NaN  \n",
       "10376   NaN  NaN   NaN   NaN    NaN    NaN    NaN  \n",
       "10377   NaN  NaN   NaN   NaN    NaN    NaN    NaN  \n",
       "10378   NaN  NaN   NaN   NaN    NaN    NaN    NaN  \n",
       "10379   NaN  NaN   NaN   NaN    NaN    NaN    NaN  \n",
       "10380   NaN  NaN   NaN   NaN    NaN    NaN    NaN  \n",
       "10381   NaN  NaN   NaN   NaN    NaN    NaN    NaN  \n",
       "10382   NaN  NaN   NaN   NaN    NaN    NaN    NaN  \n",
       "10383   NaN  NaN   NaN   NaN    NaN    NaN    NaN  \n",
       "10384   NaN  NaN   NaN   NaN    NaN    NaN    NaN  \n",
       "10385   NaN  NaN   NaN   NaN    NaN    NaN    NaN  \n",
       "10386   NaN  NaN   NaN   NaN    NaN    NaN    NaN  \n",
       "10387   NaN  NaN   NaN   NaN    NaN    NaN    NaN  \n",
       "10388   NaN  NaN   NaN   NaN    NaN    NaN    NaN  \n",
       "10389   NaN  NaN   NaN   NaN    NaN    NaN    NaN  \n",
       "10390   NaN  NaN   NaN   NaN    NaN    NaN    NaN  \n",
       "10391   NaN  NaN   NaN   NaN    NaN    NaN    NaN  \n",
       "10392   NaN  NaN   NaN   NaN    NaN    NaN    NaN  \n",
       "10393   NaN  NaN   NaN   NaN    NaN    NaN    NaN  \n",
       "10394   NaN  NaN   NaN   NaN    NaN    NaN    NaN  \n",
       "10395   NaN  NaN   NaN   NaN    NaN    NaN    NaN  \n",
       "10396   NaN  NaN   NaN   NaN    NaN    NaN    NaN  \n",
       "\n",
       "[10397 rows x 131 columns]"
      ]
     },
     "execution_count": 259,
     "metadata": {},
     "output_type": "execute_result"
    }
   ],
   "source": [
    "dy"
   ]
  },
  {
   "cell_type": "code",
   "execution_count": 263,
   "metadata": {},
   "outputs": [
    {
     "ename": "NameError",
     "evalue": "name 'arpeggio_dir' is not defined",
     "output_type": "error",
     "traceback": [
      "\u001b[0;31m---------------------------------------------------------------------------\u001b[0m",
      "\u001b[0;31mNameError\u001b[0m                                 Traceback (most recent call last)",
      "\u001b[0;32m<ipython-input-263-fc985380d604>\u001b[0m in \u001b[0;36m<module>\u001b[0;34m\u001b[0m\n\u001b[0;32m----> 1\u001b[0;31m \u001b[0mlig_data_df\u001b[0m\u001b[0;34m,\u001b[0m \u001b[0mlabs\u001b[0m \u001b[0;34m=\u001b[0m \u001b[0mgenerate_ligs_res_df\u001b[0m\u001b[0;34m(\u001b[0m\u001b[0marpeggio_dir\u001b[0m\u001b[0;34m,\u001b[0m \u001b[0malt_fmt\u001b[0m \u001b[0;34m=\u001b[0m \u001b[0malt_fmt\u001b[0m\u001b[0;34m)\u001b[0m\u001b[0;34m\u001b[0m\u001b[0;34m\u001b[0m\u001b[0m\n\u001b[0m",
      "\u001b[0;31mNameError\u001b[0m: name 'arpeggio_dir' is not defined"
     ]
    }
   ],
   "source": []
  },
  {
   "cell_type": "code",
   "execution_count": null,
   "metadata": {},
   "outputs": [],
   "source": []
  }
 ],
 "metadata": {
  "kernelspec": {
   "display_name": "Python [conda env:varalign-env-py3]",
   "language": "python",
   "name": "conda-env-varalign-env-py3-py"
  },
  "language_info": {
   "codemirror_mode": {
    "name": "ipython",
    "version": 3
   },
   "file_extension": ".py",
   "mimetype": "text/x-python",
   "name": "python",
   "nbconvert_exporter": "python",
   "pygments_lexer": "ipython3",
   "version": "3.6.7"
  }
 },
 "nbformat": 4,
 "nbformat_minor": 4
}
