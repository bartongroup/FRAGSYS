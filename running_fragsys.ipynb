{
 "cells": [
  {
   "cell_type": "markdown",
   "metadata": {},
   "source": [
    "# RUNNING THE FRAGMENT SCREENING EXPERIMENT ANALYSIS PIPELINE: FRAGSYS"
   ]
  },
  {
   "cell_type": "markdown",
   "metadata": {},
   "source": [
    "In this notebook, we execute FRAGSYS for the 35 proteins in out input dataset."
   ]
  },
  {
   "cell_type": "markdown",
   "metadata": {},
   "source": [
    "## IMPORTING PACKAGES"
   ]
  },
  {
   "cell_type": "code",
   "execution_count": 1,
   "metadata": {},
   "outputs": [],
   "source": [
    "import time\n",
    "from fragsys_main import *"
   ]
  },
  {
   "cell_type": "markdown",
   "metadata": {},
   "source": [
    "## READING INPUT DATA"
   ]
  },
  {
   "cell_type": "code",
   "execution_count": 2,
   "metadata": {},
   "outputs": [],
   "source": [
    "panddas = pd.read_csv(\"./input/pandda_filt_df.csv\")"
   ]
  },
  {
   "cell_type": "code",
   "execution_count": 3,
   "metadata": {},
   "outputs": [
    {
     "name": "stdout",
     "output_type": "stream",
     "text": [
      "1545\n",
      "['X-ray diffraction']\n",
      "35\n"
     ]
    }
   ],
   "source": [
    "print(len(panddas)) #1545 BOUND STATE STRUCTURES FROM THE PANDDA\n",
    "print(panddas.experimental_method.unique().tolist()) # ALL STRUCTURES ARE X-RAY\n",
    "prots = panddas.entry_uniprot_accession.unique().tolist()\n",
    "monoprots = [prot for prot in prots if \",\" not in prot]\n",
    "print(len(monoprots)) # 35 DATASETS OF PROTEIN-LIGAND COMPLEXES"
   ]
  },
  {
   "cell_type": "code",
   "execution_count": 4,
   "metadata": {},
   "outputs": [],
   "source": [
    "main_dir = \"/cluster/gjb_lab/2394007/pandda_analysis/phase4_RERUN2023/\""
   ]
  },
  {
   "cell_type": "markdown",
   "metadata": {},
   "source": [
    "## RUNNING PIPELINE"
   ]
  },
  {
   "cell_type": "code",
   "execution_count": 5,
   "metadata": {
    "collapsed": true,
    "jupyter": {
     "outputs_hidden": true
    }
   },
   "outputs": [
    {
     "name": "stderr",
     "output_type": "stream",
     "text": [
      "2023-05-03 18:46:37,339 py.warnings  WARNING  /cluster/gjb_lab/2394007/miniconda/envs/varalign-env-py3/lib/python3.6/site-packages/seaborn/matrix.py:603: ClusterWarning: scipy.cluster: The symmetric non-negative hollow observation matrix looks suspiciously like an uncondensed distance matrix\n",
      "  metric=self.metric)\n",
      "\n"
     ]
    },
    {
     "name": "stdout",
     "output_type": "stream",
     "text": [
      "Starting to process Q9UGL1\n",
      "Starting to process group 0 of ['0'] in Q9UGL1\n",
      "Starting CIF to PDB conversion section!\n",
      "Starting STAMP section!\n",
      "Starting UNIPROT-PDB mapping section!\n"
     ]
    },
    {
     "name": "stderr",
     "output_type": "stream",
     "text": [
      "2023-05-03 18:46:43,526 prointvar    INFO     Parsing PDB atoms from lines...\n"
     ]
    },
    {
     "name": "stdout",
     "output_type": "stream",
     "text": [
      "Starting ARPEGGIO section!\n",
      "Starting BS definition section!\n"
     ]
    },
    {
     "name": "stderr",
     "output_type": "stream",
     "text": [
      "2023-05-03 18:46:43,716 prointvar    INFO     PDBx removed existing hydrogens...\n",
      "2023-05-03 18:46:43,719 prointvar    INFO     PDBx reset atom numbers...\n",
      "Mapping sequences...:   0%|          | 0/18 [00:00<?, ?it/s]"
     ]
    },
    {
     "name": "stdout",
     "output_type": "stream",
     "text": [
      "jackhmmer was generated correctly!\n",
      "Aln info was correctly created and saved!\n",
      "Q9UGL1_0_rf 18 90\n",
      "Human subset MSA generated correctly!\n"
     ]
    },
    {
     "name": "stderr",
     "output_type": "stream",
     "text": [
      "2023-05-03 18:46:52,374 varalign.align_variants INFO     Mapped P41229 to ENSG00000126012 on chr: X, 53220503-53254604\n",
      "2023-05-03 18:46:52,375 varalign.align_variants INFO     Mapped P41229 to ENSG00000269816 on chr: HG1433_PATCH, 52934321-52968422\n",
      "2023-05-03 18:46:52,376 varalign.align_variants INFO     Removed 1 non-standard sequence regions from P41229.\n",
      "Mapping sequences...:   6%|▌         | 1/18 [00:00<00:03,  4.51it/s]2023-05-03 18:46:52,398 varalign.align_variants INFO     Mapped P41229 to ENSG00000126012 on chr: X, 53220503-53254604\n",
      "2023-05-03 18:46:52,399 varalign.align_variants INFO     Mapped P41229 to ENSG00000269816 on chr: HG1433_PATCH, 52934321-52968422\n",
      "2023-05-03 18:46:52,400 varalign.align_variants INFO     Removed 1 non-standard sequence regions from P41229.\n",
      "2023-05-03 18:46:52,425 varalign.align_variants INFO     Mapped Q9BY66 to ENSG00000012817 on chr: Y, 21865751-21906825\n",
      "2023-05-03 18:46:52,435 varalign.align_variants INFO     Mapped Q9BY66 to ENSG00000012817 on chr: Y, 21865751-21906825\n",
      "2023-05-03 18:46:52,444 varalign.align_variants INFO     Mapped Q9UGL1 to ENSG00000117139 on chr: 1, 202696526-202778598\n",
      "2023-05-03 18:46:52,452 varalign.align_variants INFO     Mapped Q9UGL1 to ENSG00000117139 on chr: 1, 202696526-202778598\n",
      "2023-05-03 18:46:52,510 varalign.align_variants INFO     Mapped P29375 to ENSG00000073614 on chr: 12, 389295-498620\n",
      "Mapping sequences...:  39%|███▉      | 7/18 [00:00<00:01,  6.18it/s]2023-05-03 18:46:52,523 varalign.align_variants INFO     Mapped P29375 to ENSG00000073614 on chr: 12, 389295-498620\n",
      "2023-05-03 18:46:52,719 varalign.align_variants INFO     Mapped Q92833 to ENSG00000008083 on chr: 6, 15246527-15522252\n",
      "Mapping sequences...:  50%|█████     | 9/18 [00:00<00:01,  6.92it/s]2023-05-03 18:46:52,736 varalign.align_variants INFO     Mapped Q92833 to ENSG00000008083 on chr: 6, 15246527-15522252\n",
      "2023-05-03 18:46:53,329 varalign.align_variants INFO     Mapped Q6B0I6 to ENSG00000186280 on chr: 11, 94706845-94732682\n",
      "2023-05-03 18:46:53,330 varalign.align_variants INFO     Mapped Q6B0I6 to ENSG00000261946 on chr: HG348_PATCH, 94706846-94732679\n",
      "2023-05-03 18:46:53,331 varalign.align_variants INFO     Removed 1 non-standard sequence regions from Q6B0I6.\n",
      "Mapping sequences...:  61%|██████    | 11/18 [00:01<00:01,  5.18it/s]2023-05-03 18:46:53,561 varalign.align_variants INFO     Mapped B2RXH2 to ENSG00000235268 on chr: 11, 94758422-94760760\n",
      "2023-05-03 18:46:53,562 varalign.align_variants INFO     Mapped B2RXH2 to ENSG00000262258 on chr: HG348_PATCH, 94758423-94760761\n",
      "2023-05-03 18:46:53,563 varalign.align_variants INFO     Removed 1 non-standard sequence regions from B2RXH2.\n",
      "2023-05-03 18:46:53,677 varalign.align_variants INFO     Mapped O94953 to ENSG00000127663 on chr: 19, 4969125-5153606\n",
      "Mapping sequences...:  72%|███████▏  | 13/18 [00:01<00:00,  5.35it/s]2023-05-03 18:46:53,693 varalign.align_variants INFO     Mapped O75164 to ENSG00000066135 on chr: 1, 44115829-44171186\n",
      "2023-05-03 18:46:53,702 varalign.align_variants INFO     Mapped Q9H3R0 to ENSG00000107077 on chr: 9, 6720863-7175648\n",
      "2023-05-03 18:46:53,750 varalign.align_variants INFO     Mapped O15550 to ENSG00000147050 on chr: X, 44732757-44971847\n",
      "2023-05-03 18:46:53,809 varalign.align_variants INFO     Mapped O14607 to ENSG00000183878 on chr: Y, 15360259-15592553\n",
      "Mapping sequences...:  94%|█████████▍| 17/18 [00:01<00:00,  7.10it/s]2023-05-03 18:46:53,830 varalign.align_variants INFO     Mapped O15054 to ENSG00000132510 on chr: 17, 7743222-7758114\n",
      "Mapping sequences...: 100%|██████████| 18/18 [00:01<00:00, 10.75it/s]\n",
      "2023-05-03 18:46:53,832 varalign.align_variants INFO     Mapped 18 sequences to genome.\n",
      "2023-05-03 18:46:53,873 varalign.gnomad INFO     Loading /homes/smacgowan/NOBACK/resources/gnomad/gnomad.exomes.r2.0.1.sites.vcf.gz...\n",
      "2023-05-03 18:46:53,874 varalign.gnomad INFO     File format: VCFv4.2\n",
      "2023-05-03 18:46:53,875 varalign.gnomad INFO     Reference: file:///seq/references/Homo_sapiens_assembly19/v1/Homo_sapiens_assembly19.fasta\n",
      "2023-05-03 18:46:53,876 varalign.gnomad INFO     CSQ Format: ['Allele', 'Consequence', 'IMPACT', 'SYMBOL', 'Gene', 'Feature_type', 'Feature', 'BIOTYPE', 'EXON', 'INTRON', 'HGVSc', 'HGVSp', 'cDNA_position', 'CDS_position', 'Protein_position', 'Amino_acids', 'Codons', 'Existing_variation', 'ALLELE_NUM', 'DISTANCE', 'STRAND', 'FLAGS', 'VARIANT_CLASS', 'MINIMISED', 'SYMBOL_SOURCE', 'HGNC_ID', 'CANONICAL', 'TSL', 'APPRIS', 'CCDS', 'ENSP', 'SWISSPROT', 'TREMBL', 'UNIPARC', 'GENE_PHENO', 'SIFT', 'PolyPhen', 'DOMAINS', 'HGVS_OFFSET', 'GMAF', 'AFR_MAF', 'AMR_MAF', 'EAS_MAF', 'EUR_MAF', 'SAS_MAF', 'AA_MAF', 'EA_MAF', 'ExAC_MAF', 'ExAC_Adj_MAF', 'ExAC_AFR_MAF', 'ExAC_AMR_MAF', 'ExAC_EAS_MAF', 'ExAC_FIN_MAF', 'ExAC_NFE_MAF', 'ExAC_OTH_MAF', 'ExAC_SAS_MAF', 'CLIN_SIG', 'SOMATIC', 'PHENO', 'PUBMED', 'MOTIF_NAME', 'MOTIF_POS', 'HIGH_INF_POS', 'MOTIF_SCORE_CHANGE', 'LoF', 'LoF_filter', 'LoF_flags', 'LoF_info']\n",
      "2023-05-03 18:46:53,887 varalign.gnomad INFO     INFO flags: ['DB', 'VQSR_NEGATIVE_TRAIN_SITE', 'VQSR_POSITIVE_TRAIN_SITE']\n",
      "2023-05-03 18:46:53,888 varalign.gnomad INFO     INFO value: ['AN', 'BaseQRankSum', 'ClippingRankSum', 'DP', 'FS', 'InbreedingCoeff', 'MQ', 'MQRankSum', 'QD', 'ReadPosRankSum', 'SOR', 'VQSLOD', 'VQSR_culprit', 'GQ_HIST_ALL', 'DP_HIST_ALL', 'AB_HIST_ALL', 'AN_AFR', 'AN_AMR', 'AN_ASJ', 'AN_EAS', 'AN_FIN', 'AN_NFE', 'AN_OTH', 'AN_SAS', 'AN_Male', 'AN_Female', 'AN_raw', 'STAR_AC', 'STAR_AC_raw', 'STAR_Hom', 'AN_AFR_Male', 'AN_AMR_Male', 'AN_ASJ_Male', 'AN_EAS_Male', 'AN_FIN_Male', 'AN_NFE_Male', 'AN_OTH_Male', 'AN_SAS_Male', 'AN_AFR_Female', 'AN_AMR_Female', 'AN_ASJ_Female', 'AN_EAS_Female', 'AN_FIN_Female', 'AN_NFE_Female', 'AN_OTH_Female', 'AN_SAS_Female', 'STAR_Hemi']\n",
      "2023-05-03 18:46:53,889 varalign.gnomad INFO     INFO per allele: ['AC', 'AF', 'GQ_HIST_ALT', 'DP_HIST_ALT', 'AB_HIST_ALT', 'AC_AFR', 'AC_AMR', 'AC_ASJ', 'AC_EAS', 'AC_FIN', 'AC_NFE', 'AC_OTH', 'AC_SAS', 'AC_Male', 'AC_Female', 'AF_AFR', 'AF_AMR', 'AF_ASJ', 'AF_EAS', 'AF_FIN', 'AF_NFE', 'AF_OTH', 'AF_SAS', 'AF_Male', 'AF_Female', 'AC_raw', 'AF_raw', 'Hom_AFR', 'Hom_AMR', 'Hom_ASJ', 'Hom_EAS', 'Hom_FIN', 'Hom_NFE', 'Hom_OTH', 'Hom_SAS', 'Hom_Male', 'Hom_Female', 'Hom_raw', 'Hom', 'POPMAX', 'AC_POPMAX', 'AN_POPMAX', 'AF_POPMAX', 'DP_MEDIAN', 'DREF_MEDIAN', 'GQ_MEDIAN', 'AB_MEDIAN', 'AS_RF', 'AS_FilterStatus', 'AC_AFR_Male', 'AC_AMR_Male', 'AC_ASJ_Male', 'AC_EAS_Male', 'AC_FIN_Male', 'AC_NFE_Male', 'AC_OTH_Male', 'AC_SAS_Male', 'AC_AFR_Female', 'AC_AMR_Female', 'AC_ASJ_Female', 'AC_EAS_Female', 'AC_FIN_Female', 'AC_NFE_Female', 'AC_OTH_Female', 'AC_SAS_Female', 'AF_AFR_Male', 'AF_AMR_Male', 'AF_ASJ_Male', 'AF_EAS_Male', 'AF_FIN_Male', 'AF_NFE_Male', 'AF_OTH_Male', 'AF_SAS_Male', 'AF_AFR_Female', 'AF_AMR_Female', 'AF_ASJ_Female', 'AF_EAS_Female', 'AF_FIN_Female', 'AF_NFE_Female', 'AF_OTH_Female', 'AF_SAS_Female', 'Hemi_AFR', 'Hemi_AMR', 'Hemi_ASJ', 'Hemi_EAS', 'Hemi_FIN', 'Hemi_NFE', 'Hemi_OTH', 'Hemi_SAS', 'Hemi', 'Hemi_raw']\n",
      "2023-05-03 18:46:53,890 varalign.gnomad INFO     Other INFO fields: {'AS_RF_NEGATIVE_TRAIN', 'AS_RF_POSITIVE_TRAIN'}\n",
      "2023-05-03 18:46:53,892 varalign.gnomad INFO     The following INFO fields cannot be resolved to a variant and will be stripped when melting variants: ['GC_AFR', 'GC_AMR', 'GC_ASJ', 'GC_EAS', 'GC_FIN', 'GC_NFE', 'GC_OTH', 'GC_SAS', 'GC_Male', 'GC_Female', 'GC_raw', 'GC', 'AS_RF_POSITIVE_TRAIN', 'AS_RF_NEGATIVE_TRAIN', 'GC_AFR_Male', 'GC_AMR_Male', 'GC_ASJ_Male', 'GC_EAS_Male', 'GC_FIN_Male', 'GC_NFE_Male', 'GC_OTH_Male', 'GC_SAS_Male', 'GC_AFR_Female', 'GC_AMR_Female', 'GC_ASJ_Female', 'GC_EAS_Female', 'GC_FIN_Female', 'GC_NFE_Female', 'GC_OTH_Female', 'GC_SAS_Female', 'CSQ']\n",
      "2023-05-03 18:46:53,894 varalign.gnomad INFO     FORMAT fields: ['GT', 'AD', 'DP', 'GQ', 'PL']\n",
      "2023-05-03 18:46:53,895 varalign.gnomad INFO     FILTER flags: ['RF', 'AC0', 'InbreedingCoeff', 'LCR', 'SEGDUP', 'PASS']\n",
      "2023-05-03 18:46:53,896 varalign.align_variants INFO     VERY IMPORTANT INCLUDE_OTHER_INFO IS PASSED HERE AS False\n",
      "Loading variants...: 100%|██████████| 18/18 [00:09<00:00,  1.91it/s]\n",
      "Parsing variants...:   0%|          | 0/25 [00:00<?, ?it/s]2023-05-03 18:47:03,337 varalign.gnomad INFO     Processing 1000 variants...\n",
      "2023-05-03 18:47:03,338 varalign.gnomad INFO     Constructing site record table...\n",
      "2023-05-03 18:47:03,345 varalign.gnomad INFO     Tabulating VEP records...\n",
      "2023-05-03 18:47:03,403 varalign.gnomad INFO     Processing INFO fields...\n",
      "2023-05-03 18:47:03,508 varalign.gnomad INFO     Joining sub-tables...\n",
      "2023-05-03 18:47:03,558 varalign.gnomad INFO     Formatting result...\n",
      "Parsing variants...:   4%|▍         | 1/25 [00:00<00:06,  3.47it/s]2023-05-03 18:47:03,628 varalign.gnomad INFO     Processing 1000 variants...\n",
      "2023-05-03 18:47:03,629 varalign.gnomad INFO     Constructing site record table...\n",
      "2023-05-03 18:47:03,636 varalign.gnomad INFO     Tabulating VEP records...\n",
      "2023-05-03 18:47:03,700 varalign.gnomad INFO     Processing INFO fields...\n",
      "2023-05-03 18:47:03,789 varalign.gnomad INFO     Joining sub-tables...\n",
      "2023-05-03 18:47:03,824 varalign.gnomad INFO     Formatting result...\n",
      "Parsing variants...:   8%|▊         | 2/25 [00:00<00:06,  3.55it/s]2023-05-03 18:47:03,891 varalign.gnomad INFO     Processing 1000 variants...\n",
      "2023-05-03 18:47:03,892 varalign.gnomad INFO     Constructing site record table...\n",
      "2023-05-03 18:47:03,898 varalign.gnomad INFO     Tabulating VEP records...\n",
      "2023-05-03 18:47:03,963 varalign.gnomad INFO     Processing INFO fields...\n",
      "2023-05-03 18:47:04,023 varalign.gnomad INFO     Joining sub-tables...\n",
      "2023-05-03 18:47:04,062 varalign.gnomad INFO     Formatting result...\n",
      "Parsing variants...:  12%|█▏        | 3/25 [00:00<00:05,  3.72it/s]2023-05-03 18:47:04,130 varalign.gnomad INFO     Processing 1000 variants...\n",
      "2023-05-03 18:47:04,131 varalign.gnomad INFO     Constructing site record table...\n",
      "2023-05-03 18:47:04,137 varalign.gnomad INFO     Tabulating VEP records...\n",
      "2023-05-03 18:47:04,181 varalign.gnomad INFO     Processing INFO fields...\n",
      "2023-05-03 18:47:04,224 varalign.gnomad INFO     Joining sub-tables...\n",
      "2023-05-03 18:47:04,256 varalign.gnomad INFO     Formatting result...\n",
      "Parsing variants...:  16%|█▌        | 4/25 [00:00<00:05,  4.20it/s]2023-05-03 18:47:04,297 varalign.gnomad INFO     Processing 1000 variants...\n",
      "2023-05-03 18:47:04,298 varalign.gnomad INFO     Constructing site record table...\n",
      "2023-05-03 18:47:04,304 varalign.gnomad INFO     Tabulating VEP records...\n",
      "2023-05-03 18:47:04,338 varalign.gnomad INFO     Processing INFO fields...\n",
      "2023-05-03 18:47:04,388 varalign.gnomad INFO     Joining sub-tables...\n",
      "2023-05-03 18:47:04,415 varalign.gnomad INFO     Formatting result...\n",
      "Parsing variants...:  20%|██        | 5/25 [00:01<00:04,  4.73it/s]2023-05-03 18:47:04,446 varalign.gnomad INFO     Processing 1000 variants...\n",
      "2023-05-03 18:47:04,447 varalign.gnomad INFO     Constructing site record table...\n",
      "2023-05-03 18:47:04,452 varalign.gnomad INFO     Tabulating VEP records...\n",
      "2023-05-03 18:47:04,494 varalign.gnomad INFO     Processing INFO fields...\n",
      "2023-05-03 18:47:04,544 varalign.gnomad INFO     Joining sub-tables...\n",
      "2023-05-03 18:47:04,575 varalign.gnomad INFO     Formatting result...\n",
      "Parsing variants...:  24%|██▍       | 6/25 [00:01<00:03,  4.99it/s]2023-05-03 18:47:04,621 varalign.gnomad INFO     Processing 1000 variants...\n",
      "2023-05-03 18:47:04,622 varalign.gnomad INFO     Constructing site record table...\n",
      "2023-05-03 18:47:04,627 varalign.gnomad INFO     Tabulating VEP records...\n",
      "2023-05-03 18:47:04,658 varalign.gnomad INFO     Processing INFO fields...\n",
      "2023-05-03 18:47:04,707 varalign.gnomad INFO     Joining sub-tables...\n",
      "2023-05-03 18:47:04,735 varalign.gnomad INFO     Formatting result...\n",
      "Parsing variants...:  28%|██▊       | 7/25 [00:01<00:03,  5.45it/s]2023-05-03 18:47:04,765 varalign.gnomad INFO     Processing 1000 variants...\n",
      "2023-05-03 18:47:04,766 varalign.gnomad INFO     Constructing site record table...\n",
      "2023-05-03 18:47:04,772 varalign.gnomad INFO     Tabulating VEP records...\n",
      "2023-05-03 18:47:04,810 varalign.gnomad INFO     Processing INFO fields...\n",
      "2023-05-03 18:47:04,860 varalign.gnomad INFO     Joining sub-tables...\n",
      "2023-05-03 18:47:04,889 varalign.gnomad INFO     Formatting result...\n",
      "Parsing variants...:  32%|███▏      | 8/25 [00:01<00:03,  5.63it/s]2023-05-03 18:47:04,929 varalign.gnomad INFO     Processing 1000 variants...\n",
      "2023-05-03 18:47:04,930 varalign.gnomad INFO     Constructing site record table...\n",
      "2023-05-03 18:47:04,935 varalign.gnomad INFO     Tabulating VEP records...\n",
      "2023-05-03 18:47:04,966 varalign.gnomad INFO     Processing INFO fields...\n",
      "2023-05-03 18:47:05,016 varalign.gnomad INFO     Joining sub-tables...\n",
      "2023-05-03 18:47:05,044 varalign.gnomad INFO     Formatting result...\n",
      "Parsing variants...:  36%|███▌      | 9/25 [00:01<00:02,  5.93it/s]2023-05-03 18:47:05,077 varalign.gnomad INFO     Processing 1000 variants...\n",
      "2023-05-03 18:47:05,078 varalign.gnomad INFO     Constructing site record table...\n",
      "2023-05-03 18:47:05,084 varalign.gnomad INFO     Tabulating VEP records...\n",
      "2023-05-03 18:47:05,140 varalign.gnomad INFO     Processing INFO fields...\n",
      "2023-05-03 18:47:05,190 varalign.gnomad INFO     Joining sub-tables...\n",
      "2023-05-03 18:47:05,223 varalign.gnomad INFO     Formatting result...\n",
      "Parsing variants...:  40%|████      | 10/25 [00:01<00:02,  5.57it/s]2023-05-03 18:47:05,282 varalign.gnomad INFO     Processing 1000 variants...\n",
      "2023-05-03 18:47:05,284 varalign.gnomad INFO     Constructing site record table...\n",
      "2023-05-03 18:47:05,290 varalign.gnomad INFO     Tabulating VEP records...\n",
      "2023-05-03 18:47:05,325 varalign.gnomad INFO     Processing INFO fields...\n",
      "2023-05-03 18:47:05,379 varalign.gnomad INFO     Joining sub-tables...\n",
      "2023-05-03 18:47:05,409 varalign.gnomad INFO     Formatting result...\n",
      "Parsing variants...:  44%|████▍     | 11/25 [00:02<00:02,  5.77it/s]2023-05-03 18:47:05,441 varalign.gnomad INFO     Processing 1000 variants...\n",
      "2023-05-03 18:47:05,442 varalign.gnomad INFO     Constructing site record table...\n",
      "2023-05-03 18:47:05,449 varalign.gnomad INFO     Tabulating VEP records...\n",
      "2023-05-03 18:47:05,510 varalign.gnomad INFO     Processing INFO fields...\n",
      "2023-05-03 18:47:05,575 varalign.gnomad INFO     Joining sub-tables...\n",
      "2023-05-03 18:47:05,620 varalign.gnomad INFO     Formatting result...\n",
      "Parsing variants...:  48%|████▊     | 12/25 [00:02<00:02,  5.23it/s]2023-05-03 18:47:05,674 varalign.gnomad INFO     Processing 1000 variants...\n",
      "2023-05-03 18:47:05,675 varalign.gnomad INFO     Constructing site record table...\n",
      "2023-05-03 18:47:05,682 varalign.gnomad INFO     Tabulating VEP records...\n",
      "2023-05-03 18:47:05,716 varalign.gnomad INFO     Processing INFO fields...\n",
      "2023-05-03 18:47:05,768 varalign.gnomad INFO     Joining sub-tables...\n",
      "2023-05-03 18:47:05,797 varalign.gnomad INFO     Formatting result...\n",
      "Parsing variants...:  52%|█████▏    | 13/25 [00:02<00:02,  5.56it/s]2023-05-03 18:47:05,828 varalign.gnomad INFO     Processing 1000 variants...\n",
      "2023-05-03 18:47:05,829 varalign.gnomad INFO     Constructing site record table...\n",
      "2023-05-03 18:47:05,836 varalign.gnomad INFO     Tabulating VEP records...\n",
      "2023-05-03 18:47:05,874 varalign.gnomad INFO     Processing INFO fields...\n",
      "2023-05-03 18:47:05,926 varalign.gnomad INFO     Joining sub-tables...\n",
      "2023-05-03 18:47:05,956 varalign.gnomad INFO     Formatting result...\n",
      "Parsing variants...:  56%|█████▌    | 14/25 [00:02<00:01,  5.68it/s]2023-05-03 18:47:05,995 varalign.gnomad INFO     Processing 1000 variants...\n",
      "2023-05-03 18:47:05,996 varalign.gnomad INFO     Constructing site record table...\n",
      "2023-05-03 18:47:06,003 varalign.gnomad INFO     Tabulating VEP records...\n",
      "2023-05-03 18:47:06,041 varalign.gnomad INFO     Processing INFO fields...\n",
      "2023-05-03 18:47:06,094 varalign.gnomad INFO     Joining sub-tables...\n",
      "2023-05-03 18:47:06,124 varalign.gnomad INFO     Formatting result...\n",
      "Parsing variants...:  60%|██████    | 15/25 [00:02<00:01,  5.62it/s]2023-05-03 18:47:06,177 varalign.gnomad INFO     Processing 1000 variants...\n",
      "2023-05-03 18:47:06,178 varalign.gnomad INFO     Constructing site record table...\n",
      "2023-05-03 18:47:06,185 varalign.gnomad INFO     Tabulating VEP records...\n",
      "2023-05-03 18:47:06,205 varalign.gnomad INFO     Processing INFO fields...\n",
      "2023-05-03 18:47:06,258 varalign.gnomad INFO     Joining sub-tables...\n",
      "2023-05-03 18:47:06,283 varalign.gnomad INFO     Formatting result...\n",
      "Parsing variants...:  64%|██████▍   | 16/25 [00:02<00:01,  6.14it/s]2023-05-03 18:47:06,304 varalign.gnomad INFO     Processing 1000 variants...\n",
      "2023-05-03 18:47:06,305 varalign.gnomad INFO     Constructing site record table...\n",
      "2023-05-03 18:47:06,311 varalign.gnomad INFO     Tabulating VEP records...\n",
      "2023-05-03 18:47:06,357 varalign.gnomad INFO     Processing INFO fields...\n",
      "2023-05-03 18:47:06,410 varalign.gnomad INFO     Joining sub-tables...\n",
      "2023-05-03 18:47:06,442 varalign.gnomad INFO     Formatting result...\n",
      "Parsing variants...:  68%|██████▊   | 17/25 [00:03<00:01,  5.87it/s]2023-05-03 18:47:06,491 varalign.gnomad INFO     Processing 1000 variants...\n",
      "2023-05-03 18:47:06,492 varalign.gnomad INFO     Constructing site record table...\n",
      "2023-05-03 18:47:06,499 varalign.gnomad INFO     Tabulating VEP records...\n",
      "2023-05-03 18:47:06,529 varalign.gnomad INFO     Processing INFO fields...\n",
      "2023-05-03 18:47:06,581 varalign.gnomad INFO     Joining sub-tables...\n",
      "2023-05-03 18:47:06,609 varalign.gnomad INFO     Formatting result...\n",
      "Parsing variants...:  72%|███████▏  | 18/25 [00:03<00:01,  6.10it/s]2023-05-03 18:47:06,640 varalign.gnomad INFO     Processing 1000 variants...\n",
      "2023-05-03 18:47:06,641 varalign.gnomad INFO     Constructing site record table...\n",
      "2023-05-03 18:47:06,646 varalign.gnomad INFO     Tabulating VEP records...\n",
      "2023-05-03 18:47:06,688 varalign.gnomad INFO     Processing INFO fields...\n",
      "2023-05-03 18:47:06,740 varalign.gnomad INFO     Joining sub-tables...\n",
      "2023-05-03 18:47:06,771 varalign.gnomad INFO     Formatting result...\n",
      "Parsing variants...:  76%|███████▌  | 19/25 [00:03<00:01,  5.95it/s]2023-05-03 18:47:06,818 varalign.gnomad INFO     Processing 1000 variants...\n",
      "2023-05-03 18:47:06,819 varalign.gnomad INFO     Constructing site record table...\n",
      "2023-05-03 18:47:06,825 varalign.gnomad INFO     Tabulating VEP records...\n",
      "2023-05-03 18:47:06,904 varalign.gnomad INFO     Processing INFO fields...\n",
      "2023-05-03 18:47:06,955 varalign.gnomad INFO     Joining sub-tables...\n",
      "2023-05-03 18:47:06,992 varalign.gnomad INFO     Formatting result...\n",
      "Parsing variants...:  80%|████████  | 20/25 [00:03<00:00,  5.17it/s]2023-05-03 18:47:07,070 varalign.gnomad INFO     Processing 1000 variants...\n",
      "2023-05-03 18:47:07,071 varalign.gnomad INFO     Constructing site record table...\n",
      "2023-05-03 18:47:07,077 varalign.gnomad INFO     Tabulating VEP records...\n",
      "2023-05-03 18:47:07,131 varalign.gnomad INFO     Processing INFO fields...\n",
      "2023-05-03 18:47:07,207 varalign.gnomad INFO     Joining sub-tables...\n",
      "2023-05-03 18:47:07,245 varalign.gnomad INFO     Formatting result...\n",
      "Parsing variants...:  84%|████████▍ | 21/25 [00:03<00:00,  4.85it/s]2023-05-03 18:47:07,309 varalign.gnomad INFO     Processing 1000 variants...\n",
      "2023-05-03 18:47:07,310 varalign.gnomad INFO     Constructing site record table...\n",
      "2023-05-03 18:47:07,317 varalign.gnomad INFO     Tabulating VEP records...\n",
      "2023-05-03 18:47:07,367 varalign.gnomad INFO     Processing INFO fields...\n",
      "2023-05-03 18:47:07,451 varalign.gnomad INFO     Joining sub-tables...\n",
      "2023-05-03 18:47:07,488 varalign.gnomad INFO     Formatting result...\n",
      "Parsing variants...:  88%|████████▊ | 22/25 [00:04<00:00,  4.64it/s]2023-05-03 18:47:07,544 varalign.gnomad INFO     Processing 1000 variants...\n",
      "2023-05-03 18:47:07,546 varalign.gnomad INFO     Constructing site record table...\n",
      "2023-05-03 18:47:07,553 varalign.gnomad INFO     Tabulating VEP records...\n",
      "2023-05-03 18:47:07,602 varalign.gnomad INFO     Processing INFO fields...\n",
      "2023-05-03 18:47:07,649 varalign.gnomad INFO     Joining sub-tables...\n",
      "2023-05-03 18:47:07,682 varalign.gnomad INFO     Formatting result...\n",
      "Parsing variants...:  92%|█████████▏| 23/25 [00:04<00:00,  4.83it/s]2023-05-03 18:47:07,731 varalign.gnomad INFO     Processing 1000 variants...\n",
      "2023-05-03 18:47:07,733 varalign.gnomad INFO     Constructing site record table...\n",
      "2023-05-03 18:47:07,741 varalign.gnomad INFO     Tabulating VEP records...\n",
      "2023-05-03 18:47:07,777 varalign.gnomad INFO     Processing INFO fields...\n",
      "2023-05-03 18:47:07,830 varalign.gnomad INFO     Joining sub-tables...\n",
      "2023-05-03 18:47:07,860 varalign.gnomad INFO     Formatting result...\n",
      "Parsing variants...:  96%|█████████▌| 24/25 [00:04<00:00,  5.09it/s]2023-05-03 18:47:07,903 varalign.gnomad INFO     Processing 572 variants...\n",
      "2023-05-03 18:47:07,904 varalign.gnomad INFO     Constructing site record table...\n",
      "2023-05-03 18:47:07,909 varalign.gnomad INFO     Tabulating VEP records...\n",
      "2023-05-03 18:47:07,958 varalign.gnomad INFO     Processing INFO fields...\n",
      "2023-05-03 18:47:07,992 varalign.gnomad INFO     Joining sub-tables...\n",
      "2023-05-03 18:47:08,023 varalign.gnomad INFO     Formatting result...\n",
      "Parsing variants...: 100%|██████████| 25/25 [00:04<00:00,  5.28it/s]\n",
      "2023-05-03 18:47:11,083 varalign.align_variants INFO     Redundant rows:\t0\n",
      "2023-05-03 18:47:11,085 varalign.align_variants INFO     Total rows:\t15084\n",
      "2023-05-03 18:47:11,139 py.warnings  WARNING  /cluster/gjb_lab/2394007/miniconda/envs/varalign-env-py3/lib/python3.6/site-packages/IPython/core/interactiveshell.py:3058: PerformanceWarning: indexing past lexsort depth may impact performance.\n",
      "  interactivity=interactivity, compiler=compiler, result=result)\n",
      "\n"
     ]
    },
    {
     "name": "stdout",
     "output_type": "stream",
     "text": [
      "Variant table was created and saved correctly!\n",
      "Mapping table was created and saved correctly!\n",
      "Shenkin dataframe was created and saved correctly!\n"
     ]
    },
    {
     "name": "stderr",
     "output_type": "stream",
     "text": [
      "2023-05-03 18:47:14,001 py.warnings  WARNING  /cluster/home/2394007/JSU_fragsys/FRAGSYS/fragsys.py:1136: SettingWithCopyWarning: \n",
      "A value is trying to be set on a copy of a slice from a DataFrame.\n",
      "Try using .loc[row_indexer,col_indexer] = value instead\n",
      "\n",
      "See the caveats in the documentation: http://pandas.pydata.org/pandas-docs/stable/indexing.html#indexing-view-versus-copy\n",
      "  shenkin_filt[\"rel_norm_shenkin\"] = 100*(shenkin_filt.shenkin - min_shenkin)/(max_shenkin - min_shenkin) # ADDING NEW COLUMNS WITH DIFFERENT NORMALISED SCORES\n",
      "\n",
      "2023-05-03 18:47:14,367 py.warnings  WARNING  /cluster/home/2394007/JSU_fragsys/FRAGSYS/fragsys.py:1137: SettingWithCopyWarning: \n",
      "A value is trying to be set on a copy of a slice from a DataFrame.\n",
      "Try using .loc[row_indexer,col_indexer] = value instead\n",
      "\n",
      "See the caveats in the documentation: http://pandas.pydata.org/pandas-docs/stable/indexing.html#indexing-view-versus-copy\n",
      "  shenkin_filt[\"abs_norm_shenkin\"] = 100*(shenkin_filt.shenkin - 6)/(120 - 6)\n",
      "\n"
     ]
    },
    {
     "name": "stdout",
     "output_type": "stream",
     "text": [
      "Shenkin dataframe was filtered and saved correctly!\n"
     ]
    },
    {
     "name": "stderr",
     "output_type": "stream",
     "text": [
      "2023-05-03 18:47:16,101 py.warnings  WARNING  /cluster/home/2394007/JSU_fragsys/FRAGSYS/fragsys_main.py:345: SettingWithCopyWarning: \n",
      "A value is trying to be set on a copy of a slice from a DataFrame.\n",
      "Try using .loc[row_indexer,col_indexer] = value instead\n",
      "\n",
      "See the caveats in the documentation: http://pandas.pydata.org/pandas-docs/stable/indexing.html#indexing-view-versus-copy\n",
      "  shenkin_filt[\"human_shenkin\"] = missense_variants_df.shenkin\n",
      "\n"
     ]
    },
    {
     "name": "stdout",
     "output_type": "stream",
     "text": [
      "Missense dataframe was created and saved correctly!\n"
     ]
    },
    {
     "name": "stderr",
     "output_type": "stream",
     "text": [
      "2023-05-03 18:47:16,453 py.warnings  WARNING  /cluster/home/2394007/JSU_fragsys/FRAGSYS/fragsys_main.py:346: SettingWithCopyWarning: \n",
      "A value is trying to be set on a copy of a slice from a DataFrame.\n",
      "Try using .loc[row_indexer,col_indexer] = value instead\n",
      "\n",
      "See the caveats in the documentation: http://pandas.pydata.org/pandas-docs/stable/indexing.html#indexing-view-versus-copy\n",
      "  shenkin_filt[\"human_occ\"] = missense_variants_df.occ\n",
      "\n",
      "2023-05-03 18:47:16,806 py.warnings  WARNING  /cluster/home/2394007/JSU_fragsys/FRAGSYS/fragsys_main.py:347: SettingWithCopyWarning: \n",
      "A value is trying to be set on a copy of a slice from a DataFrame.\n",
      "Try using .loc[row_indexer,col_indexer] = value instead\n",
      "\n",
      "See the caveats in the documentation: http://pandas.pydata.org/pandas-docs/stable/indexing.html#indexing-view-versus-copy\n",
      "  shenkin_filt[\"human_gaps\"] = missense_variants_df.gaps\n",
      "\n",
      "2023-05-03 18:47:17,157 py.warnings  WARNING  /cluster/home/2394007/JSU_fragsys/FRAGSYS/fragsys_main.py:348: SettingWithCopyWarning: \n",
      "A value is trying to be set on a copy of a slice from a DataFrame.\n",
      "Try using .loc[row_indexer,col_indexer] = value instead\n",
      "\n",
      "See the caveats in the documentation: http://pandas.pydata.org/pandas-docs/stable/indexing.html#indexing-view-versus-copy\n",
      "  shenkin_filt[\"human_occ_pct\"] = missense_variants_df.occ_pct\n",
      "\n",
      "2023-05-03 18:47:17,509 py.warnings  WARNING  /cluster/home/2394007/JSU_fragsys/FRAGSYS/fragsys_main.py:349: SettingWithCopyWarning: \n",
      "A value is trying to be set on a copy of a slice from a DataFrame.\n",
      "Try using .loc[row_indexer,col_indexer] = value instead\n",
      "\n",
      "See the caveats in the documentation: http://pandas.pydata.org/pandas-docs/stable/indexing.html#indexing-view-versus-copy\n",
      "  shenkin_filt[\"human_gaps_pct\"] = missense_variants_df.gaps_pct\n",
      "\n",
      "2023-05-03 18:47:17,863 py.warnings  WARNING  /cluster/home/2394007/JSU_fragsys/FRAGSYS/fragsys_main.py:350: SettingWithCopyWarning: \n",
      "A value is trying to be set on a copy of a slice from a DataFrame.\n",
      "Try using .loc[row_indexer,col_indexer] = value instead\n",
      "\n",
      "See the caveats in the documentation: http://pandas.pydata.org/pandas-docs/stable/indexing.html#indexing-view-versus-copy\n",
      "  shenkin_filt[\"variants\"] = missense_variants_df.variants\n",
      "\n",
      "2023-05-03 18:47:18,222 py.warnings  WARNING  /cluster/home/2394007/JSU_fragsys/FRAGSYS/fragsys_main.py:351: SettingWithCopyWarning: \n",
      "A value is trying to be set on a copy of a slice from a DataFrame.\n",
      "Try using .loc[row_indexer,col_indexer] = value instead\n",
      "\n",
      "See the caveats in the documentation: http://pandas.pydata.org/pandas-docs/stable/indexing.html#indexing-view-versus-copy\n",
      "  shenkin_filt[\"oddsratio\"] = missense_variants_df.oddsratio\n",
      "\n",
      "2023-05-03 18:47:18,585 py.warnings  WARNING  /cluster/home/2394007/JSU_fragsys/FRAGSYS/fragsys_main.py:352: SettingWithCopyWarning: \n",
      "A value is trying to be set on a copy of a slice from a DataFrame.\n",
      "Try using .loc[row_indexer,col_indexer] = value instead\n",
      "\n",
      "See the caveats in the documentation: http://pandas.pydata.org/pandas-docs/stable/indexing.html#indexing-view-versus-copy\n",
      "  shenkin_filt[\"log_oddsratio\"] = missense_variants_df.log_oddsratio\n",
      "\n",
      "2023-05-03 18:47:18,941 py.warnings  WARNING  /cluster/home/2394007/JSU_fragsys/FRAGSYS/fragsys_main.py:353: SettingWithCopyWarning: \n",
      "A value is trying to be set on a copy of a slice from a DataFrame.\n",
      "Try using .loc[row_indexer,col_indexer] = value instead\n",
      "\n",
      "See the caveats in the documentation: http://pandas.pydata.org/pandas-docs/stable/indexing.html#indexing-view-versus-copy\n",
      "  shenkin_filt[\"pvalue\"] = missense_variants_df.pvalue\n",
      "\n",
      "2023-05-03 18:47:19,294 py.warnings  WARNING  /cluster/home/2394007/JSU_fragsys/FRAGSYS/fragsys_main.py:354: SettingWithCopyWarning: \n",
      "A value is trying to be set on a copy of a slice from a DataFrame.\n",
      "Try using .loc[row_indexer,col_indexer] = value instead\n",
      "\n",
      "See the caveats in the documentation: http://pandas.pydata.org/pandas-docs/stable/indexing.html#indexing-view-versus-copy\n",
      "  shenkin_filt[\"ci_dist\"] = missense_variants_df.ci_dist\n",
      "\n"
     ]
    },
    {
     "name": "stdout",
     "output_type": "stream",
     "text": [
      "Fragsys results dataframe was created and saved successfully!\n",
      "Binding site dataframe was created and saved successfully for Q9UGL1_0!\n",
      "Overall stats were printed to report!\n",
      "Fragsys has finished running for group 0 of Q9UGL1!\n",
      "Fragsys has finished running for Q9UGL1!\n"
     ]
    }
   ],
   "source": [
    "t_dict = {}\n",
    "t_dict[\"start\"] = time.time()\n",
    "for prot in monoprots[0:1]:\n",
    "    print(\"Starting to process {}\".format(prot)) \n",
    "    main(main_dir, prot, panddas)\n",
    "    t_dict[prot] = time.time()\n",
    "t_dict[\"end\"] = time.time()"
   ]
  }
 ],
 "metadata": {
  "kernelspec": {
   "display_name": "Python [conda env:varalign-env-py3]",
   "language": "python",
   "name": "conda-env-varalign-env-py3-py"
  },
  "language_info": {
   "codemirror_mode": {
    "name": "ipython",
    "version": 3
   },
   "file_extension": ".py",
   "mimetype": "text/x-python",
   "name": "python",
   "nbconvert_exporter": "python",
   "pygments_lexer": "ipython3",
   "version": "3.6.7"
  }
 },
 "nbformat": 4,
 "nbformat_minor": 4
}
