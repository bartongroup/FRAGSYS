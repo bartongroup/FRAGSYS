{
 "cells": [
  {
   "cell_type": "markdown",
   "metadata": {},
   "source": [
    "# RUNNING THE FRAGMENT SCREENING EXPERIMENT ANALYSIS PIPELINE: FRAGSYS"
   ]
  },
  {
   "cell_type": "markdown",
   "metadata": {},
   "source": [
    "In this notebook, we execute FRAGSYS for the 35 unique protein accessions in our input dataset."
   ]
  },
  {
   "cell_type": "markdown",
   "metadata": {},
   "source": [
    "## IMPORTING PACKAGES"
   ]
  },
  {
   "cell_type": "code",
   "execution_count": 1,
   "metadata": {},
   "outputs": [],
   "source": [
    "from fragsys_main import *"
   ]
  },
  {
   "cell_type": "markdown",
   "metadata": {},
   "source": [
    "## READING INPUT DATA"
   ]
  },
  {
   "cell_type": "code",
   "execution_count": 2,
   "metadata": {},
   "outputs": [],
   "source": [
    "panddas = pd.read_csv(\"./input/pandda_filt_df.csv\")"
   ]
  },
  {
   "cell_type": "code",
   "execution_count": 3,
   "metadata": {},
   "outputs": [
    {
     "data": {
      "text/plain": [
       "(1545, 5)"
      ]
     },
     "execution_count": 3,
     "metadata": {},
     "output_type": "execute_result"
    }
   ],
   "source": [
    "panddas.shape"
   ]
  },
  {
   "cell_type": "code",
   "execution_count": 4,
   "metadata": {},
   "outputs": [],
   "source": [
    "panddas = panddas[~panddas.pdb_id.isin([\"5s9f\", \"5s9h\", \"5s9i\"])] # they have been withdrawn now"
   ]
  },
  {
   "cell_type": "code",
   "execution_count": 5,
   "metadata": {},
   "outputs": [
    {
     "data": {
      "text/plain": [
       "(1542, 5)"
      ]
     },
     "execution_count": 5,
     "metadata": {},
     "output_type": "execute_result"
    }
   ],
   "source": [
    "panddas.shape"
   ]
  },
  {
   "cell_type": "code",
   "execution_count": 6,
   "metadata": {},
   "outputs": [
    {
     "data": {
      "text/html": [
       "<div>\n",
       "<style>\n",
       "    .dataframe thead tr:only-child th {\n",
       "        text-align: right;\n",
       "    }\n",
       "\n",
       "    .dataframe thead th {\n",
       "        text-align: left;\n",
       "    }\n",
       "\n",
       "    .dataframe tbody tr th {\n",
       "        vertical-align: top;\n",
       "    }\n",
       "</style>\n",
       "<table border=\"1\" class=\"dataframe\">\n",
       "  <thead>\n",
       "    <tr style=\"text-align: right;\">\n",
       "      <th></th>\n",
       "      <th>pdb_id</th>\n",
       "      <th>molecule_name</th>\n",
       "      <th>entry_uniprot_accession</th>\n",
       "      <th>experimental_method</th>\n",
       "      <th>title</th>\n",
       "    </tr>\n",
       "  </thead>\n",
       "  <tbody>\n",
       "    <tr>\n",
       "      <th>0</th>\n",
       "      <td>5fzl</td>\n",
       "      <td>Lysine-specific demethylase 5B</td>\n",
       "      <td>Q9UGL1</td>\n",
       "      <td>X-ray diffraction</td>\n",
       "      <td>Crystal structure of the catalytic domain of h...</td>\n",
       "    </tr>\n",
       "    <tr>\n",
       "      <th>1</th>\n",
       "      <td>5fzm</td>\n",
       "      <td>Lysine-specific demethylase 5B</td>\n",
       "      <td>Q9UGL1</td>\n",
       "      <td>X-ray diffraction</td>\n",
       "      <td>Crystal structure of the catalytic domain of h...</td>\n",
       "    </tr>\n",
       "    <tr>\n",
       "      <th>2</th>\n",
       "      <td>5fz6</td>\n",
       "      <td>Lysine-specific demethylase 5B</td>\n",
       "      <td>Q9UGL1</td>\n",
       "      <td>X-ray diffraction</td>\n",
       "      <td>Crystal structure of the catalytic domain of h...</td>\n",
       "    </tr>\n",
       "    <tr>\n",
       "      <th>3</th>\n",
       "      <td>5fz7</td>\n",
       "      <td>Lysine-specific demethylase 5B</td>\n",
       "      <td>Q9UGL1</td>\n",
       "      <td>X-ray diffraction</td>\n",
       "      <td>Crystal structure of the catalytic domain of h...</td>\n",
       "    </tr>\n",
       "    <tr>\n",
       "      <th>4</th>\n",
       "      <td>5fzh</td>\n",
       "      <td>Lysine-specific demethylase 5B</td>\n",
       "      <td>Q9UGL1</td>\n",
       "      <td>X-ray diffraction</td>\n",
       "      <td>Crystal structure of the catalytic domain of h...</td>\n",
       "    </tr>\n",
       "  </tbody>\n",
       "</table>\n",
       "</div>"
      ],
      "text/plain": [
       "  pdb_id                   molecule_name entry_uniprot_accession  \\\n",
       "0   5fzl  Lysine-specific demethylase 5B                  Q9UGL1   \n",
       "1   5fzm  Lysine-specific demethylase 5B                  Q9UGL1   \n",
       "2   5fz6  Lysine-specific demethylase 5B                  Q9UGL1   \n",
       "3   5fz7  Lysine-specific demethylase 5B                  Q9UGL1   \n",
       "4   5fzh  Lysine-specific demethylase 5B                  Q9UGL1   \n",
       "\n",
       "  experimental_method                                              title  \n",
       "0   X-ray diffraction  Crystal structure of the catalytic domain of h...  \n",
       "1   X-ray diffraction  Crystal structure of the catalytic domain of h...  \n",
       "2   X-ray diffraction  Crystal structure of the catalytic domain of h...  \n",
       "3   X-ray diffraction  Crystal structure of the catalytic domain of h...  \n",
       "4   X-ray diffraction  Crystal structure of the catalytic domain of h...  "
      ]
     },
     "execution_count": 6,
     "metadata": {},
     "output_type": "execute_result"
    }
   ],
   "source": [
    "panddas.head(5)"
   ]
  },
  {
   "cell_type": "code",
   "execution_count": 7,
   "metadata": {},
   "outputs": [
    {
     "name": "stdout",
     "output_type": "stream",
     "text": [
      "1542\n",
      "['X-ray diffraction']\n",
      "39\n",
      "35\n"
     ]
    }
   ],
   "source": [
    "print(len(panddas)) #1545 BOUND STATE STRUCTURES FROM THE PANDDA\n",
    "print(panddas.experimental_method.unique().tolist()) # ALL STRUCTURES ARE X-RAY\n",
    "prots = panddas.entry_uniprot_accession.unique().tolist()\n",
    "print(len(prots))\n",
    "monoprots = [prot for prot in prots if \",\" not in prot]\n",
    "print(len(monoprots)) # 35 DATASETS OF PROTEIN-LIGAND COMPLEXES\n",
    "panddas_filt = panddas.query('entry_uniprot_accession in @monoprots')"
   ]
  },
  {
   "cell_type": "code",
   "execution_count": 7,
   "metadata": {},
   "outputs": [
    {
     "data": {
      "text/plain": [
       "(1450, 5)"
      ]
     },
     "execution_count": 7,
     "metadata": {},
     "output_type": "execute_result"
    }
   ],
   "source": [
    "panddas_filt.shape"
   ]
  },
  {
   "cell_type": "code",
   "execution_count": 8,
   "metadata": {},
   "outputs": [],
   "source": [
    "main_dir = \"/cluster/gjb_lab/2394007/pandda_analysis/phase4_RERUN2023/\""
   ]
  },
  {
   "cell_type": "markdown",
   "metadata": {},
   "source": [
    "## RUNNING PIPELINE"
   ]
  },
  {
   "cell_type": "code",
   "execution_count": 11,
   "metadata": {
    "collapsed": true,
    "jupyter": {
     "outputs_hidden": true
    }
   },
   "outputs": [
    {
     "name": "stdout",
     "output_type": "stream",
     "text": [
      "Starting to process Q9UGL1\n"
     ]
    },
    {
     "name": "stderr",
     "output_type": "stream",
     "text": [
      "2023-05-05 18:19:30,167 py.warnings  WARNING  /cluster/gjb_lab/2394007/miniconda/envs/varalign-env-py3/lib/python3.6/site-packages/seaborn/matrix.py:603: ClusterWarning: scipy.cluster: The symmetric non-negative hollow observation matrix looks suspiciously like an uncondensed distance matrix\n",
      "  metric=self.metric)\n",
      "\n"
     ]
    },
    {
     "name": "stdout",
     "output_type": "stream",
     "text": [
      "Starting to process group 0 of ['0'] in Q9UGL1\n",
      "Starting CIF to PDB conversion section!\n",
      "Starting STAMP section!\n",
      "Starting UNIPROT-PDB mapping section!\n",
      "Starting ARPEGGIO section!\n",
      "Starting BS definition section!\n",
      "Fragsys has finished running for group 0 of Q9UGL1!\n",
      "Fragsys has finished running for Q9UGL1!\n",
      "Starting to process P18031\n",
      "Starting to process group 0 of ['0'] in P18031\n",
      "Starting CIF to PDB conversion section!\n",
      "Starting STAMP section!\n",
      "Starting UNIPROT-PDB mapping section!\n",
      "Starting ARPEGGIO section!\n",
      "Starting BS definition section!\n",
      "Fragsys has finished running for group 0 of P18031!\n",
      "Fragsys has finished running for P18031!\n",
      "Starting to process P0C024\n",
      "Starting to process group 0 of ['0'] in P0C024\n",
      "Starting CIF to PDB conversion section!\n",
      "Starting STAMP section!\n",
      "Starting UNIPROT-PDB mapping section!\n",
      "Starting ARPEGGIO section!\n",
      "Starting BS definition section!\n",
      "Fragsys has finished running for group 0 of P0C024!\n",
      "Fragsys has finished running for P0C024!\n",
      "Starting to process Q460N5\n",
      "This condition is being met\n",
      "Starting to process group 0 of ['0'] in Q460N5\n",
      "Starting CIF to PDB conversion section!\n",
      "Starting STAMP section!\n",
      "Starting UNIPROT-PDB mapping section!\n",
      "Starting ARPEGGIO section!\n",
      "Starting BS definition section!\n",
      "Fragsys has finished running for group 0 of Q460N5!\n",
      "Fragsys has finished running for Q460N5!\n",
      "Starting to process Q9UKK9\n",
      "Starting to process group 0 of ['0'] in Q9UKK9\n",
      "Starting CIF to PDB conversion section!\n",
      "Starting STAMP section!\n",
      "Starting UNIPROT-PDB mapping section!\n",
      "Starting ARPEGGIO section!\n",
      "Starting BS definition section!\n",
      "Fragsys has finished running for group 0 of Q9UKK9!\n",
      "Fragsys has finished running for Q9UKK9!\n",
      "Starting to process Q8WS26\n",
      "Starting to process group 0 of ['0'] in Q8WS26\n",
      "Starting CIF to PDB conversion section!\n",
      "Starting STAMP section!\n",
      "Starting UNIPROT-PDB mapping section!\n",
      "Starting ARPEGGIO section!\n",
      "Starting BS definition section!\n",
      "Fragsys has finished running for group 0 of Q8WS26!\n",
      "Fragsys has finished running for Q8WS26!\n",
      "Starting to process O15178\n",
      "Starting to process group 0 of ['0'] in O15178\n",
      "Starting CIF to PDB conversion section!\n",
      "Starting STAMP section!\n",
      "Starting UNIPROT-PDB mapping section!\n",
      "Starting ARPEGGIO section!\n",
      "Starting BS definition section!\n",
      "Fragsys has finished running for group 0 of O15178!\n",
      "Fragsys has finished running for O15178!\n",
      "Starting to process Q5T0W9\n",
      "Starting to process group 0 of ['0'] in Q5T0W9\n",
      "Starting CIF to PDB conversion section!\n",
      "Starting STAMP section!\n",
      "Starting UNIPROT-PDB mapping section!\n",
      "Starting ARPEGGIO section!\n",
      "Starting BS definition section!\n",
      "Fragsys has finished running for group 0 of Q5T0W9!\n",
      "Fragsys has finished running for Q5T0W9!\n",
      "Starting to process Q8IU60\n",
      "Starting to process group 0 of ['0'] in Q8IU60\n",
      "Starting CIF to PDB conversion section!\n",
      "Starting STAMP section!\n",
      "Starting UNIPROT-PDB mapping section!\n",
      "Starting ARPEGGIO section!\n",
      "Starting BS definition section!\n",
      "Fragsys has finished running for group 0 of Q8IU60!\n",
      "Fragsys has finished running for Q8IU60!\n",
      "Starting to process P22557\n",
      "Starting to process group 0 of ['0'] in P22557\n",
      "Starting CIF to PDB conversion section!\n",
      "Starting STAMP section!\n",
      "Starting UNIPROT-PDB mapping section!\n",
      "Starting ARPEGGIO section!\n",
      "Starting BS definition section!\n",
      "Fragsys has finished running for group 0 of P22557!\n",
      "Fragsys has finished running for P22557!\n",
      "Starting to process Q8WVM7\n",
      "Starting to process group 0 of ['0', '1'] in Q8WVM7\n",
      "Starting CIF to PDB conversion section!\n",
      "Starting STAMP section!\n",
      "Starting UNIPROT-PDB mapping section!\n",
      "Starting ARPEGGIO section!\n",
      "Starting BS definition section!\n",
      "Fragsys has finished running for group 0 of Q8WVM7!\n",
      "Starting to process group 1 of ['0', '1'] in Q8WVM7\n",
      "Starting CIF to PDB conversion section!\n",
      "Starting STAMP section!\n",
      "Starting UNIPROT-PDB mapping section!\n",
      "Starting ARPEGGIO section!\n",
      "Starting BS definition section!\n",
      "Fragsys has finished running for group 1 of Q8WVM7!\n",
      "Fragsys has finished running for Q8WVM7!\n",
      "Starting to process Q6PJP8\n",
      "Starting to process group 0 of ['0'] in Q6PJP8\n",
      "Starting CIF to PDB conversion section!\n",
      "Starting STAMP section!\n",
      "Starting UNIPROT-PDB mapping section!\n",
      "Starting ARPEGGIO section!\n",
      "Starting BS definition section!\n",
      "Fragsys has finished running for group 0 of Q6PJP8!\n",
      "Fragsys has finished running for Q6PJP8!\n",
      "Starting to process O95696\n",
      "Starting to process group 0 of ['0'] in O95696\n",
      "Starting CIF to PDB conversion section!\n",
      "Starting STAMP section!\n",
      "Starting UNIPROT-PDB mapping section!\n",
      "Starting ARPEGGIO section!\n",
      "Starting BS definition section!\n",
      "Fragsys has finished running for group 0 of O95696!\n",
      "Fragsys has finished running for O95696!\n",
      "Starting to process H0Y4R8\n",
      "This condition is being met\n",
      "Starting to process group 0 of ['0'] in H0Y4R8\n",
      "Starting CIF to PDB conversion section!\n",
      "Starting STAMP section!\n",
      "Starting UNIPROT-PDB mapping section!\n",
      "Starting ARPEGGIO section!\n",
      "No LOIs in 5pwd, so skipping!\n",
      "Starting BS definition section!\n",
      "5pwd does not have any LOIs, can't get its ligand binding residues!\n",
      "Fragsys has finished running for group 0 of H0Y4R8!\n",
      "Fragsys has finished running for H0Y4R8!\n",
      "Starting to process Q6B0I6\n",
      "Starting to process group 0 of ['0'] in Q6B0I6\n",
      "Starting CIF to PDB conversion section!\n",
      "Starting STAMP section!\n",
      "Starting UNIPROT-PDB mapping section!\n",
      "Starting ARPEGGIO section!\n",
      "Starting BS definition section!\n",
      "Fragsys has finished running for group 0 of Q6B0I6!\n",
      "Fragsys has finished running for Q6B0I6!\n",
      "Starting to process Q9UIF8\n",
      "This condition is being met\n",
      "Starting to process group 0 of ['0'] in Q9UIF8\n",
      "Starting CIF to PDB conversion section!\n",
      "Starting STAMP section!\n",
      "Starting UNIPROT-PDB mapping section!\n",
      "Starting ARPEGGIO section!\n",
      "Starting BS definition section!\n",
      "Fragsys has finished running for group 0 of Q9UIF8!\n",
      "Fragsys has finished running for Q9UIF8!\n",
      "Starting to process Q9UJM8\n",
      "Starting to process group 0 of ['0'] in Q9UJM8\n",
      "Starting CIF to PDB conversion section!\n",
      "Starting STAMP section!\n",
      "Starting UNIPROT-PDB mapping section!\n",
      "Starting ARPEGGIO section!\n",
      "Starting BS definition section!\n",
      "Fragsys has finished running for group 0 of Q9UJM8!\n",
      "Fragsys has finished running for Q9UJM8!\n",
      "Starting to process Q6PL18\n",
      "This condition is being met\n",
      "Starting to process group 0 of ['0'] in Q6PL18\n",
      "Starting CIF to PDB conversion section!\n",
      "Starting STAMP section!\n",
      "Starting UNIPROT-PDB mapping section!\n",
      "Starting ARPEGGIO section!\n",
      "Starting BS definition section!\n",
      "Fragsys has finished running for group 0 of Q6PL18!\n",
      "Fragsys has finished running for Q6PL18!\n",
      "Starting to process P24821\n",
      "This condition is being met\n",
      "Starting to process group 0 of ['0'] in P24821\n",
      "Starting CIF to PDB conversion section!\n",
      "Starting STAMP section!\n",
      "Starting UNIPROT-PDB mapping section!\n",
      "Starting ARPEGGIO section!\n",
      "Starting BS definition section!\n",
      "Fragsys has finished running for group 0 of P24821!\n",
      "Fragsys has finished running for P24821!\n",
      "Starting to process P47811\n",
      "Starting to process group 0 of ['0'] in P47811\n",
      "Starting CIF to PDB conversion section!\n",
      "Starting STAMP section!\n",
      "Starting UNIPROT-PDB mapping section!\n",
      "Starting ARPEGGIO section!\n",
      "Starting BS definition section!\n",
      "Fragsys has finished running for group 0 of P47811!\n",
      "Fragsys has finished running for P47811!\n",
      "Starting to process P11838\n",
      "This condition is being met\n",
      "Starting to process group 0 of ['0'] in P11838\n",
      "Starting CIF to PDB conversion section!\n",
      "Starting STAMP section!\n",
      "Starting UNIPROT-PDB mapping section!\n",
      "Starting ARPEGGIO section!\n",
      "Starting BS definition section!\n",
      "Fragsys has finished running for group 0 of P11838!\n",
      "Fragsys has finished running for P11838!\n",
      "Starting to process Q7LBC6\n",
      "Starting to process group 0 of ['0'] in Q7LBC6\n",
      "Starting CIF to PDB conversion section!\n",
      "Starting STAMP section!\n",
      "Starting UNIPROT-PDB mapping section!\n",
      "Starting ARPEGGIO section!\n",
      "Starting BS definition section!\n",
      "Fragsys has finished running for group 0 of Q7LBC6!\n",
      "Fragsys has finished running for Q7LBC6!\n",
      "Starting to process O43809\n",
      "Starting to process group 0 of ['0'] in O43809\n",
      "Starting CIF to PDB conversion section!\n",
      "Starting STAMP section!\n",
      "Starting UNIPROT-PDB mapping section!\n",
      "Starting ARPEGGIO section!\n",
      "Starting BS definition section!\n",
      "Fragsys has finished running for group 0 of O43809!\n",
      "Fragsys has finished running for O43809!\n",
      "Starting to process P0DTD1\n",
      "Starting to process group 0 of ['0', '1', '2', '3'] in P0DTD1\n",
      "Starting CIF to PDB conversion section!\n",
      "Starting STAMP section!\n",
      "Starting UNIPROT-PDB mapping section!\n",
      "Starting ARPEGGIO section!\n",
      "Starting BS definition section!\n",
      "Fragsys has finished running for group 0 of P0DTD1!\n",
      "Starting to process group 1 of ['0', '1', '2', '3'] in P0DTD1\n",
      "Starting CIF to PDB conversion section!\n",
      "Starting STAMP section!\n",
      "Starting UNIPROT-PDB mapping section!\n",
      "Starting ARPEGGIO section!\n",
      "Starting BS definition section!\n",
      "There are 0 sequences in the MSA for P0DTD1 1. Skipping to next protein sequence\n",
      "Starting to process group 2 of ['0', '1', '2', '3'] in P0DTD1\n",
      "Starting CIF to PDB conversion section!\n",
      "Starting STAMP section!\n",
      "Starting UNIPROT-PDB mapping section!\n",
      "Starting ARPEGGIO section!\n",
      "Starting BS definition section!\n",
      "Fragsys has finished running for group 2 of P0DTD1!\n",
      "Starting to process group 3 of ['0', '1', '2', '3'] in P0DTD1\n",
      "Starting CIF to PDB conversion section!\n",
      "Starting STAMP section!\n",
      "Starting UNIPROT-PDB mapping section!\n",
      "Starting ARPEGGIO section!\n",
      "Starting BS definition section!\n",
      "There are 0 sequences in the MSA for P0DTD1 3. Skipping to next protein sequence\n",
      "Fragsys has finished running for P0DTD1!\n",
      "Starting to process Q32ZE1\n",
      "This condition is being met\n",
      "Starting to process group 0 of ['0'] in Q32ZE1\n",
      "Starting CIF to PDB conversion section!\n",
      "Starting STAMP section!\n",
      "Starting UNIPROT-PDB mapping section!\n",
      "Starting ARPEGGIO section!\n",
      "Starting BS definition section!\n",
      "Fragsys has finished running for group 0 of Q32ZE1!\n",
      "Fragsys has finished running for Q32ZE1!\n",
      "Starting to process Q12830\n",
      "This condition is being met\n",
      "Starting to process group 0 of ['0'] in Q12830\n",
      "Starting CIF to PDB conversion section!\n",
      "Starting STAMP section!\n",
      "Starting UNIPROT-PDB mapping section!\n",
      "Starting ARPEGGIO section!\n",
      "Starting BS definition section!\n",
      "Fragsys has finished running for group 0 of Q12830!\n",
      "Fragsys has finished running for Q12830!\n",
      "Starting to process Q8WWQ0\n",
      "This condition is being met\n",
      "Starting to process group 0 of ['0'] in Q8WWQ0\n",
      "Starting CIF to PDB conversion section!\n",
      "Starting STAMP section!\n",
      "Starting UNIPROT-PDB mapping section!\n",
      "Starting ARPEGGIO section!\n",
      "Starting BS definition section!\n",
      "Fragsys has finished running for group 0 of Q8WWQ0!\n",
      "Fragsys has finished running for Q8WWQ0!\n",
      "Starting to process P01584\n",
      "Starting to process group 0 of ['0'] in P01584\n",
      "Starting CIF to PDB conversion section!\n",
      "Starting STAMP section!\n",
      "Starting UNIPROT-PDB mapping section!\n",
      "Starting ARPEGGIO section!\n",
      "Starting BS definition section!\n",
      "Fragsys has finished running for group 0 of P01584!\n",
      "Fragsys has finished running for P01584!\n",
      "Starting to process Q9BRQ3\n",
      "This condition is being met\n",
      "Starting to process group 0 of ['0'] in Q9BRQ3\n",
      "Starting CIF to PDB conversion section!\n",
      "Starting STAMP section!\n",
      "Starting UNIPROT-PDB mapping section!\n",
      "Starting ARPEGGIO section!\n",
      "Starting BS definition section!\n"
     ]
    },
    {
     "name": "stderr",
     "output_type": "stream",
     "text": [
      "2023-05-05 18:36:01,535 py.warnings  WARNING  /cluster/home/2394007/JSU_fragsys/FRAGSYS/fragsys_main.py:409: SettingWithCopyWarning: \n",
      "A value is trying to be set on a copy of a slice from a DataFrame.\n",
      "Try using .loc[row_indexer,col_indexer] = value instead\n",
      "\n",
      "See the caveats in the documentation: http://pandas.pydata.org/pandas-docs/stable/indexing.html#indexing-view-versus-copy\n",
      "  mes_sgc_df_filt[\"bs_color\"] = mes_sgc_df_filt.bs_id.map(bs_color_dict) # add binding site colour column\n",
      "\n"
     ]
    },
    {
     "name": "stdout",
     "output_type": "stream",
     "text": [
      "Fragsys has finished running for group 0 of Q9BRQ3!\n",
      "Fragsys has finished running for Q9BRQ3!\n",
      "Starting to process Q15047\n",
      "This condition is being met\n",
      "Starting to process group 0 of ['0'] in Q15047\n",
      "Starting CIF to PDB conversion section!\n",
      "Starting STAMP section!\n",
      "Starting UNIPROT-PDB mapping section!\n",
      "Starting ARPEGGIO section!\n",
      "Starting BS definition section!\n",
      "Fragsys has finished running for group 0 of Q15047!\n",
      "Fragsys has finished running for Q15047!\n",
      "Starting to process P06873\n",
      "Starting to process group 0 of ['0'] in P06873\n",
      "Starting CIF to PDB conversion section!\n",
      "Starting STAMP section!\n",
      "Starting UNIPROT-PDB mapping section!\n",
      "Starting ARPEGGIO section!\n",
      "Starting BS definition section!\n"
     ]
    },
    {
     "name": "stderr",
     "output_type": "stream",
     "text": [
      "2023-05-05 18:36:27,158 py.warnings  WARNING  /cluster/gjb_lab/2394007/miniconda/envs/varalign-env-py3/lib/python3.6/site-packages/seaborn/matrix.py:682: UserWarning: Attempting to set identical left == right == 0 results in singular transformations; automatically expanding.\n",
      "  ax.set_xlim(0, max_dependent_coord * 1.05)\n",
      "\n",
      "2023-05-05 18:36:27,230 py.warnings  WARNING  /cluster/gjb_lab/2394007/miniconda/envs/varalign-env-py3/lib/python3.6/site-packages/seaborn/matrix.py:690: UserWarning: Attempting to set identical bottom == top == 0 results in singular transformations; automatically expanding.\n",
      "  ax.set_ylim(0, max_dependent_coord * 1.05)\n",
      "\n"
     ]
    },
    {
     "name": "stdout",
     "output_type": "stream",
     "text": [
      "Fragsys has finished running for group 0 of P06873!\n",
      "Fragsys has finished running for P06873!\n",
      "Starting to process Q92835\n"
     ]
    },
    {
     "name": "stderr",
     "output_type": "stream",
     "text": [
      "2023-05-05 18:36:28,132 py.warnings  WARNING  /cluster/gjb_lab/2394007/miniconda/envs/varalign-env-py3/lib/python3.6/site-packages/scipy/cluster/hierarchy.py:2834: UserWarning: Attempting to set identical bottom == top == 0 results in singular transformations; automatically expanding.\n",
      "  ax.set_ylim([0, dvw])\n",
      "\n"
     ]
    },
    {
     "name": "stdout",
     "output_type": "stream",
     "text": [
      "Starting to process group 0 of ['0'] in Q92835\n",
      "Starting CIF to PDB conversion section!\n",
      "Starting STAMP section!\n",
      "Starting UNIPROT-PDB mapping section!\n",
      "Starting ARPEGGIO section!\n",
      "Starting BS definition section!\n",
      "Fragsys has finished running for group 0 of Q92835!\n",
      "Fragsys has finished running for Q92835!\n",
      "Starting to process Q9Y2J2\n",
      "This condition is being met\n",
      "Starting to process group 0 of ['0'] in Q9Y2J2\n",
      "Starting CIF to PDB conversion section!\n",
      "Starting STAMP section!\n",
      "Starting UNIPROT-PDB mapping section!\n",
      "Starting ARPEGGIO section!\n",
      "Starting BS definition section!\n",
      "Fragsys has finished running for group 0 of Q9Y2J2!\n",
      "Fragsys has finished running for Q9Y2J2!\n",
      "Starting to process Q96HY7\n",
      "This condition is being met\n",
      "Starting to process group 0 of ['0'] in Q96HY7\n",
      "Starting CIF to PDB conversion section!\n",
      "Starting STAMP section!\n",
      "Starting UNIPROT-PDB mapping section!\n",
      "Starting ARPEGGIO section!\n",
      "Starting BS definition section!\n",
      "Fragsys has finished running for group 0 of Q96HY7!\n",
      "Fragsys has finished running for Q96HY7!\n",
      "Starting to process P15379\n",
      "Starting to process group 0 of ['0'] in P15379\n",
      "Starting CIF to PDB conversion section!\n",
      "Starting STAMP section!\n",
      "Starting UNIPROT-PDB mapping section!\n",
      "Starting ARPEGGIO section!\n",
      "Starting BS definition section!\n",
      "Fragsys has finished running for group 0 of P15379!\n",
      "Fragsys has finished running for P15379!\n"
     ]
    }
   ],
   "source": [
    "for prot in monoprots:\n",
    "    print(\"Starting to process {}\".format(prot)) \n",
    "    main(main_dir, prot, panddas)"
   ]
  }
 ],
 "metadata": {
  "kernelspec": {
   "display_name": "Python [conda env:varalign-env-py3]",
   "language": "python",
   "name": "conda-env-varalign-env-py3-py"
  },
  "language_info": {
   "codemirror_mode": {
    "name": "ipython",
    "version": 3
   },
   "file_extension": ".py",
   "mimetype": "text/x-python",
   "name": "python",
   "nbconvert_exporter": "python",
   "pygments_lexer": "ipython3",
   "version": "3.6.7"
  }
 },
 "nbformat": 4,
 "nbformat_minor": 4
}
