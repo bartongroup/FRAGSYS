{
 "cells": [
  {
   "cell_type": "markdown",
   "metadata": {},
   "source": [
    "# COMPARISON BETWEEN NON-LIGAND-BINDING AND LIGAND-BINDING RESIDUES"
   ]
  },
  {
   "cell_type": "markdown",
   "metadata": {},
   "source": [
    "In this notebook, we compare the ligand binding residues with the non-ligand binding residues within our dataset in terms of relative solvent accessibility (RSA), evolutionary divergence (Normalised Shenkin Divergence Score), as well as enrichment in missense variation within the human population, by means of the missense enrichment score (MES)."
   ]
  },
  {
   "cell_type": "markdown",
   "metadata": {},
   "source": [
    "### IMPORTING NECESSARY PACKAGES"
   ]
  },
  {
   "cell_type": "code",
   "execution_count": 1,
   "metadata": {},
   "outputs": [],
   "source": [
    "from fragsys_analysis import *"
   ]
  },
  {
   "cell_type": "markdown",
   "metadata": {},
   "source": [
    "### READING INPUT DATA"
   ]
  },
  {
   "cell_type": "code",
   "execution_count": 2,
   "metadata": {},
   "outputs": [],
   "source": [
    "main_dir = \".\"\n",
    "results_dir = os.path.join(main_dir, \"results/new\")\n",
    "figs_dir = os.path.join(main_dir, \"figs\")"
   ]
  },
  {
   "cell_type": "code",
   "execution_count": 3,
   "metadata": {},
   "outputs": [],
   "source": [
    "all_bs_ress = pd.read_pickle(os.path.join(results_dir, \"all_bs_ress.pkl\"))\n",
    "all_dssp_dfs = pd.read_pickle(os.path.join(results_dir, \"all_dssp_dfs.pkl\"))\n",
    "all_miss_dfs = pd.read_pickle(os.path.join(results_dir, \"all_miss_dfs.pkl\"))"
   ]
  },
  {
   "cell_type": "code",
   "execution_count": 4,
   "metadata": {},
   "outputs": [],
   "source": [
    "all_miss_dfs[\"lab\"] = all_miss_dfs[\"protein\"] + \"_\" + all_miss_dfs[\"group\"].astype(str) + \"_\" + all_miss_dfs[\"col\"].astype(str)  # creating unique residue label"
   ]
  },
  {
   "cell_type": "code",
   "execution_count": 5,
   "metadata": {},
   "outputs": [
    {
     "data": {
      "text/html": [
       "<div>\n",
       "<style scoped>\n",
       "    .dataframe tbody tr th:only-of-type {\n",
       "        vertical-align: middle;\n",
       "    }\n",
       "\n",
       "    .dataframe tbody tr th {\n",
       "        vertical-align: top;\n",
       "    }\n",
       "\n",
       "    .dataframe thead th {\n",
       "        text-align: right;\n",
       "    }\n",
       "</style>\n",
       "<table border=\"1\" class=\"dataframe\">\n",
       "  <thead>\n",
       "    <tr style=\"text-align: right;\">\n",
       "      <th></th>\n",
       "      <th>col</th>\n",
       "      <th>shenkin</th>\n",
       "      <th>occ</th>\n",
       "      <th>gaps</th>\n",
       "      <th>occ_pct</th>\n",
       "      <th>gaps_pct</th>\n",
       "      <th>variants</th>\n",
       "      <th>rel_norm_shenkin</th>\n",
       "      <th>abs_norm_shenkin</th>\n",
       "      <th>oddsratio</th>\n",
       "      <th>log_oddsratio</th>\n",
       "      <th>pvalue</th>\n",
       "      <th>ci_dist</th>\n",
       "      <th>miss_class</th>\n",
       "      <th>miss_color</th>\n",
       "      <th>protein</th>\n",
       "      <th>group</th>\n",
       "      <th>lab</th>\n",
       "    </tr>\n",
       "  </thead>\n",
       "  <tbody>\n",
       "    <tr>\n",
       "      <th>0</th>\n",
       "      <td>1</td>\n",
       "      <td>6.00</td>\n",
       "      <td>13</td>\n",
       "      <td>126</td>\n",
       "      <td>0.09</td>\n",
       "      <td>0.91</td>\n",
       "      <td>5</td>\n",
       "      <td>0.00</td>\n",
       "      <td>0.00</td>\n",
       "      <td>1.17</td>\n",
       "      <td>0.16</td>\n",
       "      <td>0.79</td>\n",
       "      <td>1.03</td>\n",
       "      <td>CME</td>\n",
       "      <td>green</td>\n",
       "      <td>H0Y4R8</td>\n",
       "      <td>0</td>\n",
       "      <td>H0Y4R8_0_1</td>\n",
       "    </tr>\n",
       "    <tr>\n",
       "      <th>1</th>\n",
       "      <td>2</td>\n",
       "      <td>34.56</td>\n",
       "      <td>28</td>\n",
       "      <td>111</td>\n",
       "      <td>0.20</td>\n",
       "      <td>0.80</td>\n",
       "      <td>3</td>\n",
       "      <td>30.57</td>\n",
       "      <td>25.05</td>\n",
       "      <td>0.33</td>\n",
       "      <td>-1.12</td>\n",
       "      <td>0.06</td>\n",
       "      <td>1.19</td>\n",
       "      <td>None</td>\n",
       "      <td>grey</td>\n",
       "      <td>H0Y4R8</td>\n",
       "      <td>0</td>\n",
       "      <td>H0Y4R8_0_2</td>\n",
       "    </tr>\n",
       "    <tr>\n",
       "      <th>2</th>\n",
       "      <td>3</td>\n",
       "      <td>52.14</td>\n",
       "      <td>50</td>\n",
       "      <td>89</td>\n",
       "      <td>0.36</td>\n",
       "      <td>0.64</td>\n",
       "      <td>12</td>\n",
       "      <td>49.39</td>\n",
       "      <td>40.48</td>\n",
       "      <td>0.73</td>\n",
       "      <td>-0.31</td>\n",
       "      <td>0.38</td>\n",
       "      <td>0.63</td>\n",
       "      <td>None</td>\n",
       "      <td>grey</td>\n",
       "      <td>H0Y4R8</td>\n",
       "      <td>0</td>\n",
       "      <td>H0Y4R8_0_3</td>\n",
       "    </tr>\n",
       "    <tr>\n",
       "      <th>3</th>\n",
       "      <td>4</td>\n",
       "      <td>81.79</td>\n",
       "      <td>80</td>\n",
       "      <td>59</td>\n",
       "      <td>0.57</td>\n",
       "      <td>0.43</td>\n",
       "      <td>25</td>\n",
       "      <td>81.12</td>\n",
       "      <td>66.48</td>\n",
       "      <td>0.95</td>\n",
       "      <td>-0.05</td>\n",
       "      <td>0.91</td>\n",
       "      <td>0.45</td>\n",
       "      <td>UMD</td>\n",
       "      <td>firebrick</td>\n",
       "      <td>H0Y4R8</td>\n",
       "      <td>0</td>\n",
       "      <td>H0Y4R8_0_4</td>\n",
       "    </tr>\n",
       "    <tr>\n",
       "      <th>4</th>\n",
       "      <td>5</td>\n",
       "      <td>6.00</td>\n",
       "      <td>85</td>\n",
       "      <td>54</td>\n",
       "      <td>0.61</td>\n",
       "      <td>0.39</td>\n",
       "      <td>18</td>\n",
       "      <td>0.00</td>\n",
       "      <td>0.00</td>\n",
       "      <td>0.64</td>\n",
       "      <td>-0.44</td>\n",
       "      <td>0.11</td>\n",
       "      <td>0.51</td>\n",
       "      <td>CMD</td>\n",
       "      <td>royalblue</td>\n",
       "      <td>H0Y4R8</td>\n",
       "      <td>0</td>\n",
       "      <td>H0Y4R8_0_5</td>\n",
       "    </tr>\n",
       "  </tbody>\n",
       "</table>\n",
       "</div>"
      ],
      "text/plain": [
       "   col  shenkin  occ  gaps  occ_pct  gaps_pct  variants  rel_norm_shenkin  \\\n",
       "0    1     6.00   13   126     0.09      0.91         5              0.00   \n",
       "1    2    34.56   28   111     0.20      0.80         3             30.57   \n",
       "2    3    52.14   50    89     0.36      0.64        12             49.39   \n",
       "3    4    81.79   80    59     0.57      0.43        25             81.12   \n",
       "4    5     6.00   85    54     0.61      0.39        18              0.00   \n",
       "\n",
       "   abs_norm_shenkin  oddsratio  log_oddsratio  pvalue  ci_dist miss_class  \\\n",
       "0              0.00       1.17           0.16    0.79     1.03        CME   \n",
       "1             25.05       0.33          -1.12    0.06     1.19       None   \n",
       "2             40.48       0.73          -0.31    0.38     0.63       None   \n",
       "3             66.48       0.95          -0.05    0.91     0.45        UMD   \n",
       "4              0.00       0.64          -0.44    0.11     0.51        CMD   \n",
       "\n",
       "  miss_color protein group         lab  \n",
       "0      green  H0Y4R8     0  H0Y4R8_0_1  \n",
       "1       grey  H0Y4R8     0  H0Y4R8_0_2  \n",
       "2       grey  H0Y4R8     0  H0Y4R8_0_3  \n",
       "3  firebrick  H0Y4R8     0  H0Y4R8_0_4  \n",
       "4  royalblue  H0Y4R8     0  H0Y4R8_0_5  "
      ]
     },
     "execution_count": 5,
     "metadata": {},
     "output_type": "execute_result"
    }
   ],
   "source": [
    "all_miss_dfs.round(2).head(5)"
   ]
  },
  {
   "cell_type": "code",
   "execution_count": 6,
   "metadata": {},
   "outputs": [
    {
     "data": {
      "text/plain": [
       "(10408, 18)"
      ]
     },
     "execution_count": 6,
     "metadata": {},
     "output_type": "execute_result"
    }
   ],
   "source": [
    "all_miss_dfs.shape # 10,408 rows (residues) and 17 columns"
   ]
  },
  {
   "cell_type": "code",
   "execution_count": 7,
   "metadata": {},
   "outputs": [],
   "source": [
    "all_bs_ress_filt = all_bs_ress.drop_duplicates([\"protein\", \"UniProt_ResNum\", \"UniProt_ResName\"]).copy() # filtering out duplicated residues\n",
    "all_bs_ress_filt[\"lab\"] = all_bs_ress_filt[\"protein\"] + \"_\" + all_bs_ress_filt[\"group\"].astype(str) + \"_\" + all_bs_ress_filt[\"alignment_column\"].astype(str) # creating unique residue label"
   ]
  },
  {
   "cell_type": "code",
   "execution_count": 8,
   "metadata": {},
   "outputs": [
    {
     "data": {
      "text/plain": [
       "(2664, 63)"
      ]
     },
     "execution_count": 8,
     "metadata": {},
     "output_type": "execute_result"
    }
   ],
   "source": [
    "all_bs_ress_filt.shape # 2,664 unique ligand binding residues"
   ]
  },
  {
   "cell_type": "code",
   "execution_count": 9,
   "metadata": {},
   "outputs": [],
   "source": [
    "cc = [\"protein\", \"group\", \"BS0\", \"structure\", \"AA\", \"SS\", \"alignment_column\", \"UniProt_ResName\", \"UniProt_ResNum\", \"RSA\", \"abs_norm_shenkin\", \"log_oddsratio\", \"pvalue\"] # most informatve columns"
   ]
  },
  {
   "cell_type": "code",
   "execution_count": 10,
   "metadata": {},
   "outputs": [
    {
     "data": {
      "text/html": [
       "<div>\n",
       "<style scoped>\n",
       "    .dataframe tbody tr th:only-of-type {\n",
       "        vertical-align: middle;\n",
       "    }\n",
       "\n",
       "    .dataframe tbody tr th {\n",
       "        vertical-align: top;\n",
       "    }\n",
       "\n",
       "    .dataframe thead th {\n",
       "        text-align: right;\n",
       "    }\n",
       "</style>\n",
       "<table border=\"1\" class=\"dataframe\">\n",
       "  <thead>\n",
       "    <tr style=\"text-align: right;\">\n",
       "      <th></th>\n",
       "      <th>protein</th>\n",
       "      <th>group</th>\n",
       "      <th>BS0</th>\n",
       "      <th>structure</th>\n",
       "      <th>AA</th>\n",
       "      <th>SS</th>\n",
       "      <th>alignment_column</th>\n",
       "      <th>UniProt_ResName</th>\n",
       "      <th>UniProt_ResNum</th>\n",
       "      <th>RSA</th>\n",
       "      <th>abs_norm_shenkin</th>\n",
       "      <th>log_oddsratio</th>\n",
       "      <th>pvalue</th>\n",
       "    </tr>\n",
       "  </thead>\n",
       "  <tbody>\n",
       "    <tr>\n",
       "      <th>0</th>\n",
       "      <td>H0Y4R8</td>\n",
       "      <td>0</td>\n",
       "      <td>1</td>\n",
       "      <td>5pwc</td>\n",
       "      <td>H</td>\n",
       "      <td>T</td>\n",
       "      <td>79</td>\n",
       "      <td>H</td>\n",
       "      <td>101</td>\n",
       "      <td>63.04</td>\n",
       "      <td>61.50</td>\n",
       "      <td>0.10</td>\n",
       "      <td>0.61</td>\n",
       "    </tr>\n",
       "    <tr>\n",
       "      <th>1</th>\n",
       "      <td>H0Y4R8</td>\n",
       "      <td>0</td>\n",
       "      <td>1</td>\n",
       "      <td>5pwc</td>\n",
       "      <td>S</td>\n",
       "      <td>C</td>\n",
       "      <td>85</td>\n",
       "      <td>S</td>\n",
       "      <td>106</td>\n",
       "      <td>39.23</td>\n",
       "      <td>46.22</td>\n",
       "      <td>0.13</td>\n",
       "      <td>0.54</td>\n",
       "    </tr>\n",
       "    <tr>\n",
       "      <th>2</th>\n",
       "      <td>H0Y4R8</td>\n",
       "      <td>0</td>\n",
       "      <td>1</td>\n",
       "      <td>5pwc</td>\n",
       "      <td>N</td>\n",
       "      <td>H</td>\n",
       "      <td>317</td>\n",
       "      <td>N</td>\n",
       "      <td>190</td>\n",
       "      <td>41.40</td>\n",
       "      <td>40.64</td>\n",
       "      <td>0.10</td>\n",
       "      <td>0.70</td>\n",
       "    </tr>\n",
       "    <tr>\n",
       "      <th>3</th>\n",
       "      <td>H0Y4R8</td>\n",
       "      <td>0</td>\n",
       "      <td>1</td>\n",
       "      <td>5pwc</td>\n",
       "      <td>K</td>\n",
       "      <td>H</td>\n",
       "      <td>320</td>\n",
       "      <td>K</td>\n",
       "      <td>193</td>\n",
       "      <td>22.44</td>\n",
       "      <td>27.64</td>\n",
       "      <td>0.35</td>\n",
       "      <td>0.13</td>\n",
       "    </tr>\n",
       "    <tr>\n",
       "      <th>4</th>\n",
       "      <td>H0Y4R8</td>\n",
       "      <td>0</td>\n",
       "      <td>1</td>\n",
       "      <td>5pwc</td>\n",
       "      <td>T</td>\n",
       "      <td>H</td>\n",
       "      <td>321</td>\n",
       "      <td>T</td>\n",
       "      <td>194</td>\n",
       "      <td>46.48</td>\n",
       "      <td>44.11</td>\n",
       "      <td>-0.06</td>\n",
       "      <td>0.89</td>\n",
       "    </tr>\n",
       "  </tbody>\n",
       "</table>\n",
       "</div>"
      ],
      "text/plain": [
       "  protein group  BS0 structure AA SS  alignment_column UniProt_ResName  \\\n",
       "0  H0Y4R8     0    1      5pwc  H  T                79               H   \n",
       "1  H0Y4R8     0    1      5pwc  S  C                85               S   \n",
       "2  H0Y4R8     0    1      5pwc  N  H               317               N   \n",
       "3  H0Y4R8     0    1      5pwc  K  H               320               K   \n",
       "4  H0Y4R8     0    1      5pwc  T  H               321               T   \n",
       "\n",
       "   UniProt_ResNum    RSA  abs_norm_shenkin  log_oddsratio  pvalue  \n",
       "0             101  63.04             61.50           0.10    0.61  \n",
       "1             106  39.23             46.22           0.13    0.54  \n",
       "2             190  41.40             40.64           0.10    0.70  \n",
       "3             193  22.44             27.64           0.35    0.13  \n",
       "4             194  46.48             44.11          -0.06    0.89  "
      ]
     },
     "execution_count": 10,
     "metadata": {},
     "output_type": "execute_result"
    }
   ],
   "source": [
    "all_bs_ress_filt[cc].round(2).head(5)"
   ]
  },
  {
   "cell_type": "code",
   "execution_count": 11,
   "metadata": {},
   "outputs": [],
   "source": [
    "bs_ress_labs = all_bs_ress_filt.lab.tolist()"
   ]
  },
  {
   "cell_type": "code",
   "execution_count": 12,
   "metadata": {},
   "outputs": [],
   "source": [
    "#in total 10408\n",
    "bs_ress = all_miss_dfs.query('lab in @bs_ress_labs') #2664\n",
    "non_bs_ress = all_miss_dfs.query('lab not in @bs_ress_labs') #7744"
   ]
  },
  {
   "cell_type": "code",
   "execution_count": 13,
   "metadata": {},
   "outputs": [
    {
     "name": "stdout",
     "output_type": "stream",
     "text": [
      "7744\n",
      "2664\n"
     ]
    }
   ],
   "source": [
    "print(len(non_bs_ress))\n",
    "print(len(bs_ress))"
   ]
  },
  {
   "cell_type": "code",
   "execution_count": 14,
   "metadata": {},
   "outputs": [],
   "source": [
    "all_bs_ress_filt[\"lab2\"] = all_bs_ress_filt[\"protein\"] + \"_\" + all_bs_ress_filt[\"group\"].astype(str) + \"_\" + all_bs_ress_filt[\"UniProt_ResNum\"].astype(str)"
   ]
  },
  {
   "cell_type": "code",
   "execution_count": 15,
   "metadata": {},
   "outputs": [],
   "source": [
    "bs_ress_labs2 = all_bs_ress_filt.lab2.tolist()"
   ]
  },
  {
   "cell_type": "code",
   "execution_count": 16,
   "metadata": {},
   "outputs": [],
   "source": [
    "labels = [\"Non-ligand binding\", \"Ligand-binding\"]\n",
    "cols = [\"#E66100\", \"#5D3A9B\"]"
   ]
  },
  {
   "cell_type": "markdown",
   "metadata": {},
   "source": [
    "## RELATIVE SOLVENT ACCESSIBILITY"
   ]
  },
  {
   "cell_type": "markdown",
   "metadata": {},
   "source": [
    "In here, we compare non-ligand-binding (NLB) and ligand-binding (LB) residues in terms of their relative solvent accessibility (RSA). RSA is a structural feature, particular of the target protein, and is therefore independent of the multiple sequence alignments of the target proteins and their number of homologues. Accordingly, no filtering is required."
   ]
  },
  {
   "cell_type": "code",
   "execution_count": 17,
   "metadata": {
    "tags": []
   },
   "outputs": [],
   "source": [
    "#all_dssp_dfs = all_dssp_dfs.query('UniProt_ResNum == UniProt_ResNum & RSA == RSA')\n",
    "#all_dssp_dfs.UniProt_ResNum = all_dssp_dfs.UniProt_ResNum.astype(int)\n",
    "all_dssp_dfs[\"lab\"] = all_dssp_dfs.protein + \"_\" + all_dssp_dfs.group.astype(str) + \"_\" + all_dssp_dfs.UniProt_ResNum.astype(str)\n",
    "dsp_data_dup = all_dssp_dfs.drop_duplicates([\"protein\", \"UniProt_ResNum\", \"CHAIN\"])\n",
    "dsp_data_un = all_dssp_dfs.drop_duplicates([\"protein\", \"UniProt_ResNum\"])"
   ]
  },
  {
   "cell_type": "code",
   "execution_count": 18,
   "metadata": {
    "tags": []
   },
   "outputs": [],
   "source": [
    "dssp_non_bs_ress = dsp_data_un.query('lab not in @bs_ress_labs2') #8338\n",
    "dssp_bs_ress = dsp_data_un.query('lab in @bs_ress_labs2') #2663"
   ]
  },
  {
   "cell_type": "code",
   "execution_count": 19,
   "metadata": {},
   "outputs": [
    {
     "name": "stdout",
     "output_type": "stream",
     "text": [
      "8350 2658\n"
     ]
    }
   ],
   "source": [
    "nlb_rsa = dssp_non_bs_ress.RSA\n",
    "lb_rsa = dssp_bs_ress.RSA\n",
    "\n",
    "bns_rsa = np.linspace(0, 100, 50)\n",
    "\n",
    "print(len(nlb_rsa), len(lb_rsa))\n",
    "\n",
    "d_rsa = [nlb_rsa, lb_rsa]"
   ]
  },
  {
   "cell_type": "code",
   "execution_count": 21,
   "metadata": {},
   "outputs": [
    {
     "data": {
      "image/png": "[encoded data removed]",
      "text/plain": [
       "<Figure size 750x750 with 1 Axes>"
      ]
     },
     "metadata": {},
     "output_type": "display_data"
    }
   ],
   "source": [
    "plot_distrs(\n",
    "    d_rsa, \"RSA\", labels, bns_rsa, cols, show = True,\n",
    "    dpi = 100, figsize = (7.5, 7.5),\n",
    "   # out = os.path.join(figs_dir, \"NLB_vs_LB_RSA.png\")\n",
    ")"
   ]
  },
  {
   "cell_type": "code",
   "execution_count": 22,
   "metadata": {},
   "outputs": [
    {
     "name": "stderr",
     "output_type": "stream",
     "text": [
      "/cluster/home/2394007/JSU_fragsys/FRAGSYS/fragsys_analysis.py:170: UserWarning: p-value floored: true value smaller than 0.001\n",
      "  A, cvs, p = scipy.stats.anderson_ksamp([a, b])\n"
     ]
    },
    {
     "name": "stdout",
     "output_type": "stream",
     "text": [
      "Anderson-Darling 2 sample test:\n",
      "A statistic = 155.35\tp < 0.001\n",
      "\n",
      "Kolmogorov-Smirnov two sample test result:\n",
      "KS statistic = 0.17\tp = 0.0\n",
      "\n",
      "Mann-Whitney U rank test result:\n",
      "U = nan\tp = nan\n",
      "\n",
      "T-test result:\n",
      "T = nan\tp = nan\n"
     ]
    }
   ],
   "source": [
    "run_tests(d_rsa)"
   ]
  },
  {
   "cell_type": "markdown",
   "metadata": {},
   "source": [
    "There is a very significant difference between the RSA distributions of NLB and LB residues. NLB present a much higher proportion of highly buried residues. This corresponds to the most buried regions of the hydrophobic core of proteins too where no molecules can bind at all."
   ]
  },
  {
   "cell_type": "markdown",
   "metadata": {
    "tags": []
   },
   "source": [
    "## NORMALISED SHENKIN DIVERGENCE SCORE"
   ]
  },
  {
   "cell_type": "markdown",
   "metadata": {},
   "source": [
    "In here, we compare non-ligand-binding (NLB) and ligand-binding (LB) residues in terms of their evolutionary divergence, measured by a normalised version of the Shenkin divergence score. Divergence is directly measured from the multiple sequence alignment. To make sure these scores were meaningful. We only took those residues aligned in columns with at least a column occupancy of 20 representing at least 50% of the total number of sequences, i.e., MSA with at least 20 sequences."
   ]
  },
  {
   "cell_type": "code",
   "execution_count": 23,
   "metadata": {},
   "outputs": [
    {
     "name": "stdout",
     "output_type": "stream",
     "text": [
      "1338 574\n"
     ]
    }
   ],
   "source": [
    "data_shenk = all_miss_dfs.query('occ >= 20 and occ_pct >= 0.5')\n",
    "\n",
    "nlb_shenk = data_shenk.query('lab not in @bs_ress_labs').abs_norm_shenkin #1338\n",
    "lb_shenk = data_shenk.query('lab in @bs_ress_labs').abs_norm_shenkin #574\n",
    "\n",
    "d_shenk = [nlb_shenk, lb_shenk]\n",
    "\n",
    "bns_shenk = np.linspace(0, 100, 50)\n",
    "\n",
    "print(len(nlb_shenk), len(lb_shenk))"
   ]
  },
  {
   "cell_type": "code",
   "execution_count": 25,
   "metadata": {},
   "outputs": [
    {
     "data": {
      "image/png": "[encoded data removed]",
      "text/plain": [
       "<Figure size 750x750 with 1 Axes>"
      ]
     },
     "metadata": {},
     "output_type": "display_data"
    }
   ],
   "source": [
    "plot_distrs(\n",
    "    d_shenk, \"Normalised Shenkin\", labels, bns_shenk, cols, show = True,\n",
    "    dpi = 100, figsize = (7.5,7.5),\n",
    "    #out = os.path.join(figs_dir, \"NLB_vs_LB_Abs_Norm_Shenkin.png\")\n",
    ")"
   ]
  },
  {
   "cell_type": "code",
   "execution_count": 26,
   "metadata": {},
   "outputs": [
    {
     "name": "stdout",
     "output_type": "stream",
     "text": [
      "Anderson-Darling 2 sample test:\n",
      "A statistic = 1.22\tp = 0.102\n",
      "\n",
      "Kolmogorov-Smirnov two sample test result:\n",
      "KS statistic = 0.05\tp = 0.21\n",
      "\n",
      "Mann-Whitney U rank test result:\n",
      "U = 369387.0\tp = 0.19\n",
      "\n",
      "T-test result:\n",
      "T = -1.41\tp = 0.16\n"
     ]
    }
   ],
   "source": [
    "run_tests(d_shenk)"
   ]
  },
  {
   "cell_type": "markdown",
   "metadata": {},
   "source": [
    "No difference was observed in terms of evolutionary divergence between NLB and LB residues."
   ]
  },
  {
   "cell_type": "markdown",
   "metadata": {},
   "source": [
    "## MISSENSE ENRICHMENT SCORE"
   ]
  },
  {
   "cell_type": "markdown",
   "metadata": {},
   "source": [
    "In here, we compare non-ligand-binding (NLB) and ligand-binding (LB) residues in terms of their missense enrichment score (MES). MES is affected by the amount of variants mapped to each column. This of course depends on the functional constraint acting upon each position, of course, but it is also dependent on other factors. For example, the number of sequences within the alignment, and specifically the number of human homologues. For this reason, we apply a filtering and remove those residues found in columns populated by fewer than 25 sequences, with a column occupancy smaller than 50% and 5 variants mapped to them."
   ]
  },
  {
   "cell_type": "code",
   "execution_count": 27,
   "metadata": {},
   "outputs": [
    {
     "name": "stdout",
     "output_type": "stream",
     "text": [
      "1087 528\n"
     ]
    }
   ],
   "source": [
    "data_mes = all_miss_dfs.query('occ >= 25 and occ_pct >= 0.50 & variants >= 1')\n",
    "\n",
    "a_mes = data_mes.query('lab not in @bs_ress_labs').log_oddsratio # 7744 --> 1087\n",
    "b_mes = data_mes.query('lab in @bs_ress_labs').log_oddsratio  # 2664 --> 528\n",
    "\n",
    "bns_mes = np.linspace(-1.5, 0.75, 50)\n",
    "\n",
    "d_mes = [a_mes, b_mes]\n",
    "\n",
    "print(len(a_mes), len(b_mes))"
   ]
  },
  {
   "cell_type": "code",
   "execution_count": 29,
   "metadata": {},
   "outputs": [
    {
     "data": {
      "image/png": "[encoded data removed]",
      "text/plain": [
       "<Figure size 750x750 with 1 Axes>"
      ]
     },
     "metadata": {},
     "output_type": "display_data"
    }
   ],
   "source": [
    "plot_distrs(\n",
    "    d_mes, \"MES\", labels, bns_mes, cols, show = True,\n",
    "    dpi = 100, figsize = (7.5,7.5),\n",
    "    #out = os.path.join(figs_dir, \"NLB_vs_LB_MES.png\")\n",
    ")"
   ]
  },
  {
   "cell_type": "code",
   "execution_count": 30,
   "metadata": {},
   "outputs": [
    {
     "name": "stdout",
     "output_type": "stream",
     "text": [
      "Anderson-Darling 2 sample test:\n",
      "A statistic = 0.53\tp = 0.2\n",
      "\n",
      "Kolmogorov-Smirnov two sample test result:\n",
      "KS statistic = 0.05\tp = 0.22\n",
      "\n",
      "Mann-Whitney U rank test result:\n",
      "U = 298983.5\tp = 0.17\n",
      "\n",
      "T-test result:\n",
      "T = 1.39\tp = 0.16\n"
     ]
    }
   ],
   "source": [
    "run_tests(d_mes)"
   ]
  },
  {
   "cell_type": "markdown",
   "metadata": {},
   "source": [
    "Just like in the case of evolutioanry divergence, the differences between MES distributions between NLB and LB residues were not significant."
   ]
  }
 ],
 "metadata": {
  "kernelspec": {
   "display_name": "Python [conda env:myenv2]",
   "language": "python",
   "name": "conda-env-myenv2-py"
  },
  "language_info": {
   "codemirror_mode": {
    "name": "ipython",
    "version": 3
   },
   "file_extension": ".py",
   "mimetype": "text/x-python",
   "name": "python",
   "nbconvert_exporter": "python",
   "pygments_lexer": "ipython3",
   "version": "3.11.0"
  }
 },
 "nbformat": 4,
 "nbformat_minor": 4
}
