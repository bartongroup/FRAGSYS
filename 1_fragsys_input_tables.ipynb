{
 "cells": [
  {
   "cell_type": "markdown",
   "metadata": {
    "tags": []
   },
   "source": [
    "## IMPORTING NECESSARY PACKAGES"
   ]
  },
  {
   "cell_type": "code",
   "execution_count": 3,
   "metadata": {},
   "outputs": [],
   "source": [
    "from fragsys_analysis import *"
   ]
  },
  {
   "cell_type": "markdown",
   "metadata": {},
   "source": [
    "## READING INPUT DATA"
   ]
  },
  {
   "cell_type": "code",
   "execution_count": 4,
   "metadata": {},
   "outputs": [],
   "source": [
    "main_dir = \"/Users/2394007/Documents/PHD/LOCAL/phase4/prots\"\n",
    "prot_dirs = sorted(Path(main_dir).iterdir(), key = os.path.getmtime)\n",
    "results_dir = \"/Users/2394007/Documents/PHD/LOCAL/FRAGSYS_DEF/results/new\""
   ]
  },
  {
   "cell_type": "code",
   "execution_count": 5,
   "metadata": {},
   "outputs": [
    {
     "data": {
      "text/plain": [
       "35"
      ]
     },
     "execution_count": 5,
     "metadata": {},
     "output_type": "execute_result"
    }
   ],
   "source": [
    "len(prot_dirs)"
   ]
  },
  {
   "cell_type": "markdown",
   "metadata": {},
   "source": [
    "## PROTEIN SUMMARY DATAFRAME"
   ]
  },
  {
   "cell_type": "code",
   "execution_count": 6,
   "metadata": {},
   "outputs": [
    {
     "name": "stdout",
     "output_type": "stream",
     "text": [
      "Group P0DTD1 of 1 did not present results\n",
      "Group P0DTD1 of 3 did not present results\n"
     ]
    }
   ],
   "source": [
    "results_dfs = []\n",
    "for prot_dir in prot_dirs:\n",
    "    prot = str(prot_dir).split(\"/\")[-1]\n",
    "    subdirs = sorted(os.listdir(os.path.join(prot_dir, \"unsupp_cifs\"))) # one for each group\n",
    "    for subdir in subdirs:\n",
    "        res_path = os.path.join(prot_dir, \"{}_{}_results.csv\".format(prot, subdir))\n",
    "        if os.path.isfile(res_path):\n",
    "            prot_res = pd.read_csv(res_path)\n",
    "            results_dfs.append(prot_res)\n",
    "        else:\n",
    "            print(\"Group {} of {} did not present results\".format(prot, subdir))\n",
    "            pass\n",
    "        \n",
    "fragsys_results_df = pd.concat(results_dfs).reset_index(drop = True)\n",
    "fragsys_results_df[\"vars_per_seq\"] = round(fragsys_results_df.n_vars/fragsys_results_df.n_human_seqs, 2)\n",
    "fragsys_results_df[\"vars_per_res\"] = round(fragsys_results_df.n_vars/fragsys_results_df.n_human_res, 2)"
   ]
  },
  {
   "cell_type": "code",
   "execution_count": 7,
   "metadata": {},
   "outputs": [
    {
     "data": {
      "text/plain": [
       "(37, 13)"
      ]
     },
     "execution_count": 7,
     "metadata": {},
     "output_type": "execute_result"
    }
   ],
   "source": [
    "fragsys_results_df.shape # total number of protein segments"
   ]
  },
  {
   "cell_type": "code",
   "execution_count": 8,
   "metadata": {},
   "outputs": [
    {
     "data": {
      "text/html": [
       "<div>\n",
       "<style scoped>\n",
       "    .dataframe tbody tr th:only-of-type {\n",
       "        vertical-align: middle;\n",
       "    }\n",
       "\n",
       "    .dataframe tbody tr th {\n",
       "        vertical-align: top;\n",
       "    }\n",
       "\n",
       "    .dataframe thead th {\n",
       "        text-align: right;\n",
       "    }\n",
       "</style>\n",
       "<table border=\"1\" class=\"dataframe\">\n",
       "  <thead>\n",
       "    <tr style=\"text-align: right;\">\n",
       "      <th></th>\n",
       "      <th>acc</th>\n",
       "      <th>group</th>\n",
       "      <th>n_strucs</th>\n",
       "      <th>n_ligs</th>\n",
       "      <th>n_un_ligs</th>\n",
       "      <th>n_bs</th>\n",
       "      <th>n_seqs</th>\n",
       "      <th>n_human_seqs</th>\n",
       "      <th>n_var_seqs</th>\n",
       "      <th>n_vars</th>\n",
       "      <th>n_human_res</th>\n",
       "      <th>vars_per_seq</th>\n",
       "      <th>vars_per_res</th>\n",
       "    </tr>\n",
       "  </thead>\n",
       "  <tbody>\n",
       "    <tr>\n",
       "      <th>0</th>\n",
       "      <td>H0Y4R8</td>\n",
       "      <td>0</td>\n",
       "      <td>1</td>\n",
       "      <td>1</td>\n",
       "      <td>1</td>\n",
       "      <td>1</td>\n",
       "      <td>596</td>\n",
       "      <td>143</td>\n",
       "      <td>138</td>\n",
       "      <td>3566</td>\n",
       "      <td>10864</td>\n",
       "      <td>24.94</td>\n",
       "      <td>0.33</td>\n",
       "    </tr>\n",
       "    <tr>\n",
       "      <th>1</th>\n",
       "      <td>O43809</td>\n",
       "      <td>0</td>\n",
       "      <td>10</td>\n",
       "      <td>19</td>\n",
       "      <td>10</td>\n",
       "      <td>4</td>\n",
       "      <td>10</td>\n",
       "      <td>1</td>\n",
       "      <td>1</td>\n",
       "      <td>206</td>\n",
       "      <td>390</td>\n",
       "      <td>206.00</td>\n",
       "      <td>0.53</td>\n",
       "    </tr>\n",
       "    <tr>\n",
       "      <th>2</th>\n",
       "      <td>Q5T0W9</td>\n",
       "      <td>0</td>\n",
       "      <td>11</td>\n",
       "      <td>24</td>\n",
       "      <td>10</td>\n",
       "      <td>6</td>\n",
       "      <td>415</td>\n",
       "      <td>16</td>\n",
       "      <td>16</td>\n",
       "      <td>1398</td>\n",
       "      <td>2254</td>\n",
       "      <td>87.38</td>\n",
       "      <td>0.62</td>\n",
       "    </tr>\n",
       "  </tbody>\n",
       "</table>\n",
       "</div>"
      ],
      "text/plain": [
       "      acc  group  n_strucs  n_ligs  n_un_ligs  n_bs  n_seqs  n_human_seqs  \\\n",
       "0  H0Y4R8      0         1       1          1     1     596           143   \n",
       "1  O43809      0        10      19         10     4      10             1   \n",
       "2  Q5T0W9      0        11      24         10     6     415            16   \n",
       "\n",
       "   n_var_seqs  n_vars  n_human_res  vars_per_seq  vars_per_res  \n",
       "0         138    3566        10864         24.94          0.33  \n",
       "1           1     206          390        206.00          0.53  \n",
       "2          16    1398         2254         87.38          0.62  "
      ]
     },
     "execution_count": 8,
     "metadata": {},
     "output_type": "execute_result"
    }
   ],
   "source": [
    "fragsys_results_df.head(3)"
   ]
  },
  {
   "cell_type": "code",
   "execution_count": 9,
   "metadata": {},
   "outputs": [],
   "source": [
    "fragsys_results_df.to_pickle(os.path.join(results_dir, \"all_prots.pkl\")) # all protein segments in data set"
   ]
  },
  {
   "cell_type": "markdown",
   "metadata": {},
   "source": [
    "## BINDING SITES DATAFRAME"
   ]
  },
  {
   "cell_type": "code",
   "execution_count": 18,
   "metadata": {},
   "outputs": [
    {
     "name": "stdout",
     "output_type": "stream",
     "text": [
      "Group P0DTD1 of 1 did not present binding sites data\n",
      "Group P0DTD1 of 3 did not present binding sites data\n"
     ]
    }
   ],
   "source": [
    "bs_dfs = []\n",
    "for prot_dir in prot_dirs:\n",
    "    prot = str(prot_dir).split(\"/\")[-1]\n",
    "    subdirs = sorted(os.listdir(os.path.join(prot_dir, \"unsupp_cifs\")))\n",
    "    for subdir in subdirs:\n",
    "        bs_res_path = os.path.join(prot_dir, \"results\", \"{}_{}_BS_df.csv\".format(prot, subdir))\n",
    "        if os.path.isfile(bs_res_path):\n",
    "            prot_bs_res = pd.read_csv(bs_res_path)\n",
    "            prot_bs_def = pd.read_csv(os.path.join(prot_dir, \"results\", \"{}_{}_BS_def_OC_single_i_rel_0.66.csv\".format(prot, subdir)))\n",
    "            bs_lig_occ_dict = {\"BS\"+str(k):v for k, v in prot_bs_def.binding_site.value_counts().to_dict().items()}\n",
    "            prot_bs_res[\"number_ligs\"] = prot_bs_res.bs_id.map(bs_lig_occ_dict)\n",
    "            prot_bs_res[\"prop_ligs\"] = prot_bs_res.number_ligs/prot_bs_res.number_ligs.sum()\n",
    "            prot_bs_res[\"protein\"] = prot\n",
    "            prot_bs_res[\"group\"] = subdir\n",
    "            bs_dfs.append(prot_bs_res)\n",
    "        else:\n",
    "            print(\"Group {} of {} did not present binding sites data\".format(prot, subdir))\n",
    "            pass\n",
    "all_bss_dfs = round(pd.concat(bs_dfs).reset_index(drop = True), 4)"
   ]
  },
  {
   "cell_type": "code",
   "execution_count": 19,
   "metadata": {
    "tags": []
   },
   "outputs": [
    {
     "data": {
      "text/plain": [
       "(293, 14)"
      ]
     },
     "execution_count": 19,
     "metadata": {},
     "output_type": "execute_result"
    }
   ],
   "source": [
    "all_bss_dfs.shape # total number of residues with structural information"
   ]
  },
  {
   "cell_type": "code",
   "execution_count": 20,
   "metadata": {},
   "outputs": [
    {
     "data": {
      "text/html": [
       "<div>\n",
       "<style scoped>\n",
       "    .dataframe tbody tr th:only-of-type {\n",
       "        vertical-align: middle;\n",
       "    }\n",
       "\n",
       "    .dataframe tbody tr th {\n",
       "        vertical-align: top;\n",
       "    }\n",
       "\n",
       "    .dataframe thead th {\n",
       "        text-align: right;\n",
       "    }\n",
       "</style>\n",
       "<table border=\"1\" class=\"dataframe\">\n",
       "  <thead>\n",
       "    <tr style=\"text-align: right;\">\n",
       "      <th></th>\n",
       "      <th>bs_id</th>\n",
       "      <th>vars</th>\n",
       "      <th>occ</th>\n",
       "      <th>vars_per_occ</th>\n",
       "      <th>MES</th>\n",
       "      <th>p</th>\n",
       "      <th>norm_shenkin_rel</th>\n",
       "      <th>shenkin_ci</th>\n",
       "      <th>MES_ci</th>\n",
       "      <th>number_bs_res</th>\n",
       "      <th>number_ligs</th>\n",
       "      <th>prop_ligs</th>\n",
       "      <th>protein</th>\n",
       "      <th>group</th>\n",
       "    </tr>\n",
       "  </thead>\n",
       "  <tbody>\n",
       "    <tr>\n",
       "      <th>0</th>\n",
       "      <td>BS0</td>\n",
       "      <td>168</td>\n",
       "      <td>420</td>\n",
       "      <td>0.4</td>\n",
       "      <td>0.2065</td>\n",
       "      <td>0.0281</td>\n",
       "      <td>54.0885</td>\n",
       "      <td>10.6309</td>\n",
       "      <td>0.1831</td>\n",
       "      <td>6</td>\n",
       "      <td>1</td>\n",
       "      <td>1.0000</td>\n",
       "      <td>H0Y4R8</td>\n",
       "      <td>0</td>\n",
       "    </tr>\n",
       "    <tr>\n",
       "      <th>1</th>\n",
       "      <td>BS0</td>\n",
       "      <td>24</td>\n",
       "      <td>48</td>\n",
       "      <td>0.5</td>\n",
       "      <td>-0.0623</td>\n",
       "      <td>0.8951</td>\n",
       "      <td>20.8011</td>\n",
       "      <td>9.8766</td>\n",
       "      <td>0.5220</td>\n",
       "      <td>24</td>\n",
       "      <td>14</td>\n",
       "      <td>0.7368</td>\n",
       "      <td>O43809</td>\n",
       "      <td>0</td>\n",
       "    </tr>\n",
       "    <tr>\n",
       "      <th>2</th>\n",
       "      <td>BS1</td>\n",
       "      <td>13</td>\n",
       "      <td>26</td>\n",
       "      <td>0.5</td>\n",
       "      <td>-0.0587</td>\n",
       "      <td>1.0000</td>\n",
       "      <td>28.6694</td>\n",
       "      <td>12.4626</td>\n",
       "      <td>0.6883</td>\n",
       "      <td>13</td>\n",
       "      <td>2</td>\n",
       "      <td>0.1053</td>\n",
       "      <td>O43809</td>\n",
       "      <td>0</td>\n",
       "    </tr>\n",
       "  </tbody>\n",
       "</table>\n",
       "</div>"
      ],
      "text/plain": [
       "  bs_id  vars  occ  vars_per_occ     MES       p  norm_shenkin_rel  \\\n",
       "0   BS0   168  420           0.4  0.2065  0.0281           54.0885   \n",
       "1   BS0    24   48           0.5 -0.0623  0.8951           20.8011   \n",
       "2   BS1    13   26           0.5 -0.0587  1.0000           28.6694   \n",
       "\n",
       "   shenkin_ci  MES_ci  number_bs_res  number_ligs  prop_ligs protein group  \n",
       "0     10.6309  0.1831              6            1     1.0000  H0Y4R8     0  \n",
       "1      9.8766  0.5220             24           14     0.7368  O43809     0  \n",
       "2     12.4626  0.6883             13            2     0.1053  O43809     0  "
      ]
     },
     "execution_count": 20,
     "metadata": {},
     "output_type": "execute_result"
    }
   ],
   "source": [
    "all_bss_dfs.head(3)"
   ]
  },
  {
   "cell_type": "code",
   "execution_count": 21,
   "metadata": {
    "tags": []
   },
   "outputs": [],
   "source": [
    "all_bss_dfs.to_pickle(os.path.join(results_dir, \"all_bss.pkl\")) # all binding sites"
   ]
  },
  {
   "cell_type": "markdown",
   "metadata": {},
   "source": [
    "## BINDING RESIDUES DATAFRAME"
   ]
  },
  {
   "cell_type": "code",
   "execution_count": 10,
   "metadata": {},
   "outputs": [
    {
     "name": "stdout",
     "output_type": "stream",
     "text": [
      "Group P0DTD1 of 1 did not present results\n",
      "Group P0DTD1 of 3 did not present results\n"
     ]
    }
   ],
   "source": [
    "fragsys_dfs = []\n",
    "for prot_dir in prot_dirs:\n",
    "    prot = str(prot_dir).split(\"/\")[-1]\n",
    "    subdirs = sorted(os.listdir(os.path.join(prot_dir, \"unsupp_cifs\")))\n",
    "    for subdir in subdirs:\n",
    "        res_path = os.path.join(prot_dir, \"results\", \"{}_{}_fragsys_df.csv\".format(prot, subdir))\n",
    "        if os.path.isfile(res_path):\n",
    "            prot_res = pd.read_csv(res_path)\n",
    "            prot_res[\"protein\"] = prot\n",
    "            prot_res[\"group\"] = subdir\n",
    "            fragsys_dfs.append(prot_res)\n",
    "        else:\n",
    "            print(\"Group {} of {} did not present results\".format(prot, subdir))\n",
    "            pass\n",
    "        \n",
    "fragsyss_df = pd.concat(fragsys_dfs).reset_index(drop = True)\n",
    "fragsyss_df.SS = fragsyss_df.SS.fillna(\"C\")"
   ]
  },
  {
   "cell_type": "code",
   "execution_count": 11,
   "metadata": {},
   "outputs": [
    {
     "data": {
      "text/plain": [
       "(14172, 62)"
      ]
     },
     "execution_count": 11,
     "metadata": {},
     "output_type": "execute_result"
    }
   ],
   "source": [
    "fragsyss_df.shape # total number of ligand binding residues"
   ]
  },
  {
   "cell_type": "code",
   "execution_count": 12,
   "metadata": {},
   "outputs": [
    {
     "data": {
      "text/html": [
       "<div>\n",
       "<style scoped>\n",
       "    .dataframe tbody tr th:only-of-type {\n",
       "        vertical-align: middle;\n",
       "    }\n",
       "\n",
       "    .dataframe tbody tr th {\n",
       "        vertical-align: top;\n",
       "    }\n",
       "\n",
       "    .dataframe thead th {\n",
       "        text-align: right;\n",
       "    }\n",
       "</style>\n",
       "<table border=\"1\" class=\"dataframe\">\n",
       "  <thead>\n",
       "    <tr style=\"text-align: right;\">\n",
       "      <th></th>\n",
       "      <th>index</th>\n",
       "      <th>UniProt_ResNum</th>\n",
       "      <th>Pfam_column</th>\n",
       "      <th>alignment_column</th>\n",
       "      <th>shenkin</th>\n",
       "      <th>occ</th>\n",
       "      <th>gaps</th>\n",
       "      <th>occ_pct</th>\n",
       "      <th>gaps_pct</th>\n",
       "      <th>rel_norm_shenkin</th>\n",
       "      <th>...</th>\n",
       "      <th>BS14</th>\n",
       "      <th>BS15</th>\n",
       "      <th>BS16</th>\n",
       "      <th>BS17</th>\n",
       "      <th>BS18</th>\n",
       "      <th>BS19</th>\n",
       "      <th>BS20</th>\n",
       "      <th>BS21</th>\n",
       "      <th>BS22</th>\n",
       "      <th>BS23</th>\n",
       "    </tr>\n",
       "  </thead>\n",
       "  <tbody>\n",
       "    <tr>\n",
       "      <th>0</th>\n",
       "      <td>52</td>\n",
       "      <td>101</td>\n",
       "      <td>79</td>\n",
       "      <td>79</td>\n",
       "      <td>76.106280</td>\n",
       "      <td>389</td>\n",
       "      <td>207</td>\n",
       "      <td>0.652685</td>\n",
       "      <td>0.347315</td>\n",
       "      <td>75.041931</td>\n",
       "      <td>...</td>\n",
       "      <td>NaN</td>\n",
       "      <td>NaN</td>\n",
       "      <td>NaN</td>\n",
       "      <td>NaN</td>\n",
       "      <td>NaN</td>\n",
       "      <td>NaN</td>\n",
       "      <td>NaN</td>\n",
       "      <td>NaN</td>\n",
       "      <td>NaN</td>\n",
       "      <td>NaN</td>\n",
       "    </tr>\n",
       "    <tr>\n",
       "      <th>1</th>\n",
       "      <td>62</td>\n",
       "      <td>106</td>\n",
       "      <td>85</td>\n",
       "      <td>85</td>\n",
       "      <td>58.693017</td>\n",
       "      <td>389</td>\n",
       "      <td>207</td>\n",
       "      <td>0.652685</td>\n",
       "      <td>0.347315</td>\n",
       "      <td>56.402733</td>\n",
       "      <td>...</td>\n",
       "      <td>NaN</td>\n",
       "      <td>NaN</td>\n",
       "      <td>NaN</td>\n",
       "      <td>NaN</td>\n",
       "      <td>NaN</td>\n",
       "      <td>NaN</td>\n",
       "      <td>NaN</td>\n",
       "      <td>NaN</td>\n",
       "      <td>NaN</td>\n",
       "      <td>NaN</td>\n",
       "    </tr>\n",
       "    <tr>\n",
       "      <th>2</th>\n",
       "      <td>212</td>\n",
       "      <td>190</td>\n",
       "      <td>317</td>\n",
       "      <td>317</td>\n",
       "      <td>52.334433</td>\n",
       "      <td>240</td>\n",
       "      <td>356</td>\n",
       "      <td>0.402685</td>\n",
       "      <td>0.597315</td>\n",
       "      <td>49.596489</td>\n",
       "      <td>...</td>\n",
       "      <td>NaN</td>\n",
       "      <td>NaN</td>\n",
       "      <td>NaN</td>\n",
       "      <td>NaN</td>\n",
       "      <td>NaN</td>\n",
       "      <td>NaN</td>\n",
       "      <td>NaN</td>\n",
       "      <td>NaN</td>\n",
       "      <td>NaN</td>\n",
       "      <td>NaN</td>\n",
       "    </tr>\n",
       "  </tbody>\n",
       "</table>\n",
       "<p>3 rows × 62 columns</p>\n",
       "</div>"
      ],
      "text/plain": [
       "   index  UniProt_ResNum  Pfam_column  alignment_column    shenkin  occ  gaps  \\\n",
       "0     52             101           79                79  76.106280  389   207   \n",
       "1     62             106           85                85  58.693017  389   207   \n",
       "2    212             190          317               317  52.334433  240   356   \n",
       "\n",
       "    occ_pct  gaps_pct  rel_norm_shenkin  ...  BS14  BS15  BS16  BS17  BS18  \\\n",
       "0  0.652685  0.347315         75.041931  ...   NaN   NaN   NaN   NaN   NaN   \n",
       "1  0.652685  0.347315         56.402733  ...   NaN   NaN   NaN   NaN   NaN   \n",
       "2  0.402685  0.597315         49.596489  ...   NaN   NaN   NaN   NaN   NaN   \n",
       "\n",
       "   BS19  BS20  BS21  BS22  BS23  \n",
       "0   NaN   NaN   NaN   NaN   NaN  \n",
       "1   NaN   NaN   NaN   NaN   NaN  \n",
       "2   NaN   NaN   NaN   NaN   NaN  \n",
       "\n",
       "[3 rows x 62 columns]"
      ]
     },
     "execution_count": 12,
     "metadata": {},
     "output_type": "execute_result"
    }
   ],
   "source": [
    "fragsyss_df.head(3)"
   ]
  },
  {
   "cell_type": "code",
   "execution_count": 13,
   "metadata": {},
   "outputs": [],
   "source": [
    "fragsyss_df.to_pickle(os.path.join(results_dir, \"all_bs_ress.pkl\")) # all binding site residues"
   ]
  },
  {
   "cell_type": "markdown",
   "metadata": {},
   "source": [
    "## DSSP DATAFRAME"
   ]
  },
  {
   "cell_type": "code",
   "execution_count": 14,
   "metadata": {},
   "outputs": [],
   "source": [
    "dssp_dfs = []\n",
    "for prot_dir in prot_dirs:\n",
    "    prot = str(prot_dir).split(\"/\")[-1]\n",
    "    subdirs = sorted(os.listdir(os.path.join(prot_dir, \"unsupp_cifs\")))\n",
    "    for subdir in subdirs:\n",
    "        dssp_subdir = os.path.join(prot_dir, \"results\", \"dssp\", subdir)\n",
    "        sifts_subdir = os.path.join(prot_dir, \"results\", \"sifts\", subdir)\n",
    "        dssp_files = [file for file in os.listdir(dssp_subdir) if file.startswith(\"dssp\")]\n",
    "        pdb_id = dssp_files[0].split(\"_\")[1]\n",
    "        example_dssp = os.path.join(dssp_subdir, dssp_files[0]) #only grabbing one example dssp file\n",
    "        example_sifts = os.path.join(sifts_subdir, \"sifts_mapping_{}.csv\".format(pdb_id))\n",
    "        if os.path.isfile(example_dssp):\n",
    "            dssp_df = pd.read_csv(example_dssp)\n",
    "            sifts_df = pd.read_csv(example_sifts)\n",
    "            dssp_df[\"protein\"] = prot\n",
    "            dssp_df[\"group\"] = subdir\n",
    "            dssp_df[\"structure\"] = pdb_id\n",
    "            merged_df = dssp_df.merge(sifts_df[[\"PDB_ResNum\", \"PDB_ChainID\", \"UniProt_ResNum\"]], how = \"left\", left_on = [\"PDB_ResNum\", \"CHAIN\"], right_on = [\"PDB_ResNum\", \"PDB_ChainID\"])\n",
    "            dssp_dfs.append(merged_df)\n",
    "        else:\n",
    "            print(\"Group {} of {} did not present DSSP data\".format(prot, subdir))\n",
    "            pass\n",
    "        \n",
    "all_dssp_dfs = pd.concat(dssp_dfs)\n",
    "all_dssp_dfs_filt = all_dssp_dfs.copy().query('UniProt_ResNum == UniProt_ResNum')\n",
    "all_dssp_dfs_filt.UniProt_ResNum = all_dssp_dfs_filt.UniProt_ResNum.astype(int)"
   ]
  },
  {
   "cell_type": "code",
   "execution_count": 15,
   "metadata": {},
   "outputs": [
    {
     "data": {
      "text/plain": [
       "(13195, 17)"
      ]
     },
     "execution_count": 15,
     "metadata": {},
     "output_type": "execute_result"
    }
   ],
   "source": [
    "all_dssp_dfs_filt.shape # total number of residues with structural information"
   ]
  },
  {
   "cell_type": "code",
   "execution_count": 16,
   "metadata": {},
   "outputs": [
    {
     "data": {
      "text/html": [
       "<div>\n",
       "<style scoped>\n",
       "    .dataframe tbody tr th:only-of-type {\n",
       "        vertical-align: middle;\n",
       "    }\n",
       "\n",
       "    .dataframe tbody tr th {\n",
       "        vertical-align: top;\n",
       "    }\n",
       "\n",
       "    .dataframe thead th {\n",
       "        text-align: right;\n",
       "    }\n",
       "</style>\n",
       "<table border=\"1\" class=\"dataframe\">\n",
       "  <thead>\n",
       "    <tr style=\"text-align: right;\">\n",
       "      <th></th>\n",
       "      <th>PDB_ResNum</th>\n",
       "      <th>CHAIN</th>\n",
       "      <th>AA</th>\n",
       "      <th>SS</th>\n",
       "      <th>ACC</th>\n",
       "      <th>TCO</th>\n",
       "      <th>KAPPA</th>\n",
       "      <th>ALPHA</th>\n",
       "      <th>PHI</th>\n",
       "      <th>PSI</th>\n",
       "      <th>CHAIN_FULL</th>\n",
       "      <th>RSA</th>\n",
       "      <th>protein</th>\n",
       "      <th>group</th>\n",
       "      <th>structure</th>\n",
       "      <th>PDB_ChainID</th>\n",
       "      <th>UniProt_ResNum</th>\n",
       "    </tr>\n",
       "  </thead>\n",
       "  <tbody>\n",
       "    <tr>\n",
       "      <th>0</th>\n",
       "      <td>701</td>\n",
       "      <td>A</td>\n",
       "      <td>N</td>\n",
       "      <td>NaN</td>\n",
       "      <td>101</td>\n",
       "      <td>0.000</td>\n",
       "      <td>360.0</td>\n",
       "      <td>360.0</td>\n",
       "      <td>360.0</td>\n",
       "      <td>154.3</td>\n",
       "      <td>A</td>\n",
       "      <td>64.331</td>\n",
       "      <td>H0Y4R8</td>\n",
       "      <td>0</td>\n",
       "      <td>5pwc</td>\n",
       "      <td>A</td>\n",
       "      <td>75</td>\n",
       "    </tr>\n",
       "    <tr>\n",
       "      <th>1</th>\n",
       "      <td>702</td>\n",
       "      <td>A</td>\n",
       "      <td>S</td>\n",
       "      <td>NaN</td>\n",
       "      <td>47</td>\n",
       "      <td>-0.194</td>\n",
       "      <td>360.0</td>\n",
       "      <td>-139.0</td>\n",
       "      <td>-58.4</td>\n",
       "      <td>154.5</td>\n",
       "      <td>A</td>\n",
       "      <td>36.154</td>\n",
       "      <td>H0Y4R8</td>\n",
       "      <td>0</td>\n",
       "      <td>5pwc</td>\n",
       "      <td>A</td>\n",
       "      <td>76</td>\n",
       "    </tr>\n",
       "    <tr>\n",
       "      <th>2</th>\n",
       "      <td>703</td>\n",
       "      <td>A</td>\n",
       "      <td>N</td>\n",
       "      <td>S</td>\n",
       "      <td>126</td>\n",
       "      <td>0.270</td>\n",
       "      <td>81.3</td>\n",
       "      <td>57.9</td>\n",
       "      <td>-101.6</td>\n",
       "      <td>5.5</td>\n",
       "      <td>A</td>\n",
       "      <td>80.255</td>\n",
       "      <td>H0Y4R8</td>\n",
       "      <td>0</td>\n",
       "      <td>5pwc</td>\n",
       "      <td>A</td>\n",
       "      <td>77</td>\n",
       "    </tr>\n",
       "  </tbody>\n",
       "</table>\n",
       "</div>"
      ],
      "text/plain": [
       "   PDB_ResNum CHAIN AA   SS  ACC    TCO  KAPPA  ALPHA    PHI    PSI  \\\n",
       "0         701     A  N  NaN  101  0.000  360.0  360.0  360.0  154.3   \n",
       "1         702     A  S  NaN   47 -0.194  360.0 -139.0  -58.4  154.5   \n",
       "2         703     A  N    S  126  0.270   81.3   57.9 -101.6    5.5   \n",
       "\n",
       "  CHAIN_FULL     RSA protein group structure PDB_ChainID  UniProt_ResNum  \n",
       "0          A  64.331  H0Y4R8     0      5pwc           A              75  \n",
       "1          A  36.154  H0Y4R8     0      5pwc           A              76  \n",
       "2          A  80.255  H0Y4R8     0      5pwc           A              77  "
      ]
     },
     "execution_count": 16,
     "metadata": {},
     "output_type": "execute_result"
    }
   ],
   "source": [
    "all_dssp_dfs_filt.head(3)"
   ]
  },
  {
   "cell_type": "code",
   "execution_count": 17,
   "metadata": {},
   "outputs": [],
   "source": [
    "all_dssp_dfs_filt.to_pickle(os.path.join(results_dir, \"all_dssp_dfs.pkl\")) # all dssp data frames"
   ]
  },
  {
   "cell_type": "markdown",
   "metadata": {
    "tags": []
   },
   "source": [
    "## VARIANTS DATAFRAME"
   ]
  },
  {
   "cell_type": "code",
   "execution_count": 26,
   "metadata": {
    "tags": []
   },
   "outputs": [
    {
     "name": "stdout",
     "output_type": "stream",
     "text": [
      "Group P0DTD1 of 1 did not present variation data\n",
      "Group P0DTD1 of 3 did not present variation data\n"
     ]
    }
   ],
   "source": [
    "missense_dfs = []\n",
    "for prot_dir in prot_dirs:\n",
    "    prot = str(prot_dir).split(\"/\")[-1]\n",
    "    subdirs = sorted(os.listdir(os.path.join(prot_dir, \"unsupp_cifs\")))\n",
    "    for subdir in subdirs:\n",
    "        missense_df_path = os.path.join(prot_dir,\"results/varalign/{}/{}_{}_missense_df.csv\".format(subdir, prot, subdir))\n",
    "        if os.path.isfile(missense_df_path):\n",
    "            miss_df = pd.read_csv(missense_df_path)\n",
    "            miss_df[\"protein\"] = prot\n",
    "            miss_df[\"group\"] = subdir\n",
    "            missense_dfs.append(miss_df)\n",
    "        else:\n",
    "            print(\"Group {} of {} did not present variation data\".format(prot, subdir))\n",
    "            pass\n",
    "        \n",
    "all_missense_df = pd.concat(missense_dfs).reset_index(drop = True)"
   ]
  },
  {
   "cell_type": "code",
   "execution_count": 27,
   "metadata": {},
   "outputs": [
    {
     "data": {
      "text/plain": [
       "(10408, 17)"
      ]
     },
     "execution_count": 27,
     "metadata": {},
     "output_type": "execute_result"
    }
   ],
   "source": [
    "all_missense_df.shape # total number of alignment columns with variation data"
   ]
  },
  {
   "cell_type": "code",
   "execution_count": 28,
   "metadata": {},
   "outputs": [
    {
     "data": {
      "text/html": [
       "<div>\n",
       "<style scoped>\n",
       "    .dataframe tbody tr th:only-of-type {\n",
       "        vertical-align: middle;\n",
       "    }\n",
       "\n",
       "    .dataframe tbody tr th {\n",
       "        vertical-align: top;\n",
       "    }\n",
       "\n",
       "    .dataframe thead th {\n",
       "        text-align: right;\n",
       "    }\n",
       "</style>\n",
       "<table border=\"1\" class=\"dataframe\">\n",
       "  <thead>\n",
       "    <tr style=\"text-align: right;\">\n",
       "      <th></th>\n",
       "      <th>col</th>\n",
       "      <th>shenkin</th>\n",
       "      <th>occ</th>\n",
       "      <th>gaps</th>\n",
       "      <th>occ_pct</th>\n",
       "      <th>gaps_pct</th>\n",
       "      <th>variants</th>\n",
       "      <th>rel_norm_shenkin</th>\n",
       "      <th>abs_norm_shenkin</th>\n",
       "      <th>oddsratio</th>\n",
       "      <th>log_oddsratio</th>\n",
       "      <th>pvalue</th>\n",
       "      <th>ci_dist</th>\n",
       "      <th>miss_class</th>\n",
       "      <th>miss_color</th>\n",
       "      <th>protein</th>\n",
       "      <th>group</th>\n",
       "    </tr>\n",
       "  </thead>\n",
       "  <tbody>\n",
       "    <tr>\n",
       "      <th>0</th>\n",
       "      <td>1</td>\n",
       "      <td>6.000000</td>\n",
       "      <td>13</td>\n",
       "      <td>126</td>\n",
       "      <td>0.086957</td>\n",
       "      <td>0.913043</td>\n",
       "      <td>5</td>\n",
       "      <td>0.000000</td>\n",
       "      <td>0.000000</td>\n",
       "      <td>1.171991</td>\n",
       "      <td>0.158704</td>\n",
       "      <td>0.785343</td>\n",
       "      <td>1.032115</td>\n",
       "      <td>CME</td>\n",
       "      <td>green</td>\n",
       "      <td>H0Y4R8</td>\n",
       "      <td>0</td>\n",
       "    </tr>\n",
       "    <tr>\n",
       "      <th>1</th>\n",
       "      <td>2</td>\n",
       "      <td>34.559062</td>\n",
       "      <td>28</td>\n",
       "      <td>111</td>\n",
       "      <td>0.195652</td>\n",
       "      <td>0.804348</td>\n",
       "      <td>3</td>\n",
       "      <td>30.569689</td>\n",
       "      <td>25.051809</td>\n",
       "      <td>0.325849</td>\n",
       "      <td>-1.121321</td>\n",
       "      <td>0.059301</td>\n",
       "      <td>1.191288</td>\n",
       "      <td>None</td>\n",
       "      <td>grey</td>\n",
       "      <td>H0Y4R8</td>\n",
       "      <td>0</td>\n",
       "    </tr>\n",
       "    <tr>\n",
       "      <th>2</th>\n",
       "      <td>3</td>\n",
       "      <td>52.142235</td>\n",
       "      <td>50</td>\n",
       "      <td>89</td>\n",
       "      <td>0.355072</td>\n",
       "      <td>0.644928</td>\n",
       "      <td>12</td>\n",
       "      <td>49.390760</td>\n",
       "      <td>40.475645</td>\n",
       "      <td>0.730264</td>\n",
       "      <td>-0.314348</td>\n",
       "      <td>0.378002</td>\n",
       "      <td>0.631191</td>\n",
       "      <td>None</td>\n",
       "      <td>grey</td>\n",
       "      <td>H0Y4R8</td>\n",
       "      <td>0</td>\n",
       "    </tr>\n",
       "  </tbody>\n",
       "</table>\n",
       "</div>"
      ],
      "text/plain": [
       "   col    shenkin  occ  gaps   occ_pct  gaps_pct  variants  rel_norm_shenkin  \\\n",
       "0    1   6.000000   13   126  0.086957  0.913043         5          0.000000   \n",
       "1    2  34.559062   28   111  0.195652  0.804348         3         30.569689   \n",
       "2    3  52.142235   50    89  0.355072  0.644928        12         49.390760   \n",
       "\n",
       "   abs_norm_shenkin  oddsratio  log_oddsratio    pvalue   ci_dist miss_class  \\\n",
       "0          0.000000   1.171991       0.158704  0.785343  1.032115        CME   \n",
       "1         25.051809   0.325849      -1.121321  0.059301  1.191288       None   \n",
       "2         40.475645   0.730264      -0.314348  0.378002  0.631191       None   \n",
       "\n",
       "  miss_color protein group  \n",
       "0      green  H0Y4R8     0  \n",
       "1       grey  H0Y4R8     0  \n",
       "2       grey  H0Y4R8     0  "
      ]
     },
     "execution_count": 28,
     "metadata": {},
     "output_type": "execute_result"
    }
   ],
   "source": [
    "all_missense_df.head(3)"
   ]
  },
  {
   "cell_type": "code",
   "execution_count": 29,
   "metadata": {},
   "outputs": [],
   "source": [
    "all_missense_df.to_pickle(os.path.join(results_dir, \"all_miss_dfs.pkl\")) # all variant-containing columns"
   ]
  },
  {
   "cell_type": "markdown",
   "metadata": {},
   "source": [
    "## INTERACTIONS DATAFRAME"
   ]
  },
  {
   "cell_type": "code",
   "execution_count": 22,
   "metadata": {},
   "outputs": [],
   "source": [
    "all_cons_dfs = []\n",
    "for prot_dir in prot_dirs:\n",
    "    prot = str(prot_dir).split(\"/\")[-1]\n",
    "    subdirs = sorted(os.listdir(os.path.join(prot_dir, \"unsupp_cifs\")))\n",
    "    for subdir in subdirs:\n",
    "        arpeggio_subdir = os.path.join(prot_dir, \"results\", \"arpeggio\", subdir)\n",
    "        arpeggio_files = [file for file in os.listdir(arpeggio_subdir) if file.startswith(\"arpeggio_all_cons_split\")]\n",
    "        for file in arpeggio_files:\n",
    "            pdb_id = file[-8:-4]\n",
    "            file_df = pd.read_csv(os.path.join(arpeggio_subdir, file))\n",
    "            file_df[\"struc\"] = pdb_id\n",
    "            file_df[\"protein\"] = prot\n",
    "            all_cons_dfs.append(file_df)\n",
    "all_fragsys_cons = pd.concat(all_cons_dfs).reset_index(drop = True)"
   ]
  },
  {
   "cell_type": "code",
   "execution_count": 23,
   "metadata": {},
   "outputs": [
    {
     "data": {
      "text/plain": [
       "(269013, 30)"
      ]
     },
     "execution_count": 23,
     "metadata": {},
     "output_type": "execute_result"
    }
   ],
   "source": [
    "all_fragsys_cons.shape # total number of interactions"
   ]
  },
  {
   "cell_type": "code",
   "execution_count": 24,
   "metadata": {},
   "outputs": [
    {
     "data": {
      "text/html": [
       "<div>\n",
       "<style scoped>\n",
       "    .dataframe tbody tr th:only-of-type {\n",
       "        vertical-align: middle;\n",
       "    }\n",
       "\n",
       "    .dataframe tbody tr th {\n",
       "        vertical-align: top;\n",
       "    }\n",
       "\n",
       "    .dataframe thead th {\n",
       "        text-align: right;\n",
       "    }\n",
       "</style>\n",
       "<table border=\"1\" class=\"dataframe\">\n",
       "  <thead>\n",
       "    <tr style=\"text-align: right;\">\n",
       "      <th></th>\n",
       "      <th>Chain (Atom1)</th>\n",
       "      <th>ResNum (Atom1)</th>\n",
       "      <th>ResName (Atom1)</th>\n",
       "      <th>Atom (Atom1)</th>\n",
       "      <th>Chain (Atom2)</th>\n",
       "      <th>ResNum (Atom2)</th>\n",
       "      <th>ResName (Atom2)</th>\n",
       "      <th>Atom (Atom2)</th>\n",
       "      <th>Clash</th>\n",
       "      <th>Covalent</th>\n",
       "      <th>...</th>\n",
       "      <th>Carbonyl</th>\n",
       "      <th>Polar</th>\n",
       "      <th>Weak Polar</th>\n",
       "      <th>Atom proximity</th>\n",
       "      <th>Vdw proximity</th>\n",
       "      <th>Interacting entities</th>\n",
       "      <th>contact_type</th>\n",
       "      <th>UniProt_Resnum</th>\n",
       "      <th>struc</th>\n",
       "      <th>protein</th>\n",
       "    </tr>\n",
       "  </thead>\n",
       "  <tbody>\n",
       "    <tr>\n",
       "      <th>0</th>\n",
       "      <td>A</td>\n",
       "      <td>727</td>\n",
       "      <td>HIS</td>\n",
       "      <td>CB</td>\n",
       "      <td>H</td>\n",
       "      <td>906</td>\n",
       "      <td>W77</td>\n",
       "      <td>C</td>\n",
       "      <td>0</td>\n",
       "      <td>0</td>\n",
       "      <td>...</td>\n",
       "      <td>0</td>\n",
       "      <td>0</td>\n",
       "      <td>0</td>\n",
       "      <td>4.841</td>\n",
       "      <td>1.441</td>\n",
       "      <td>INTER</td>\n",
       "      <td>sidechain</td>\n",
       "      <td>101.0</td>\n",
       "      <td>5pwc</td>\n",
       "      <td>H0Y4R8</td>\n",
       "    </tr>\n",
       "    <tr>\n",
       "      <th>1</th>\n",
       "      <td>A</td>\n",
       "      <td>727</td>\n",
       "      <td>HIS</td>\n",
       "      <td>CB</td>\n",
       "      <td>H</td>\n",
       "      <td>906</td>\n",
       "      <td>W77</td>\n",
       "      <td>N1</td>\n",
       "      <td>0</td>\n",
       "      <td>0</td>\n",
       "      <td>...</td>\n",
       "      <td>0</td>\n",
       "      <td>0</td>\n",
       "      <td>0</td>\n",
       "      <td>3.620</td>\n",
       "      <td>0.370</td>\n",
       "      <td>INTER</td>\n",
       "      <td>sidechain</td>\n",
       "      <td>101.0</td>\n",
       "      <td>5pwc</td>\n",
       "      <td>H0Y4R8</td>\n",
       "    </tr>\n",
       "    <tr>\n",
       "      <th>2</th>\n",
       "      <td>A</td>\n",
       "      <td>727</td>\n",
       "      <td>HIS</td>\n",
       "      <td>ND1</td>\n",
       "      <td>H</td>\n",
       "      <td>906</td>\n",
       "      <td>W77</td>\n",
       "      <td>C6</td>\n",
       "      <td>0</td>\n",
       "      <td>0</td>\n",
       "      <td>...</td>\n",
       "      <td>0</td>\n",
       "      <td>0</td>\n",
       "      <td>0</td>\n",
       "      <td>4.640</td>\n",
       "      <td>1.390</td>\n",
       "      <td>INTER</td>\n",
       "      <td>sidechain</td>\n",
       "      <td>101.0</td>\n",
       "      <td>5pwc</td>\n",
       "      <td>H0Y4R8</td>\n",
       "    </tr>\n",
       "  </tbody>\n",
       "</table>\n",
       "<p>3 rows × 30 columns</p>\n",
       "</div>"
      ],
      "text/plain": [
       "  Chain (Atom1)  ResNum (Atom1) ResName (Atom1) Atom (Atom1) Chain (Atom2)  \\\n",
       "0             A             727             HIS           CB             H   \n",
       "1             A             727             HIS           CB             H   \n",
       "2             A             727             HIS          ND1             H   \n",
       "\n",
       "   ResNum (Atom2) ResName (Atom2) Atom (Atom2)  Clash  Covalent  ...  \\\n",
       "0             906             W77            C      0         0  ...   \n",
       "1             906             W77           N1      0         0  ...   \n",
       "2             906             W77           C6      0         0  ...   \n",
       "\n",
       "   Carbonyl  Polar  Weak Polar  Atom proximity  Vdw proximity  \\\n",
       "0         0      0           0           4.841          1.441   \n",
       "1         0      0           0           3.620          0.370   \n",
       "2         0      0           0           4.640          1.390   \n",
       "\n",
       "   Interacting entities  contact_type  UniProt_Resnum  struc  protein  \n",
       "0                 INTER     sidechain           101.0   5pwc   H0Y4R8  \n",
       "1                 INTER     sidechain           101.0   5pwc   H0Y4R8  \n",
       "2                 INTER     sidechain           101.0   5pwc   H0Y4R8  \n",
       "\n",
       "[3 rows x 30 columns]"
      ]
     },
     "execution_count": 24,
     "metadata": {},
     "output_type": "execute_result"
    }
   ],
   "source": [
    "all_fragsys_cons.head(3)"
   ]
  },
  {
   "cell_type": "code",
   "execution_count": 25,
   "metadata": {},
   "outputs": [],
   "source": [
    "all_fragsys_cons.to_pickle(os.path.join(results_dir, \"all_bss_cons.pkl\")) # all binding site contacts"
   ]
  }
 ],
 "metadata": {
  "kernelspec": {
   "display_name": "Python [conda env:myenv2]",
   "language": "python",
   "name": "conda-env-myenv2-py"
  },
  "language_info": {
   "codemirror_mode": {
    "name": "ipython",
    "version": 3
   },
   "file_extension": ".py",
   "mimetype": "text/x-python",
   "name": "python",
   "nbconvert_exporter": "python",
   "pygments_lexer": "ipython3",
   "version": "3.11.0"
  }
 },
 "nbformat": 4,
 "nbformat_minor": 5
}
