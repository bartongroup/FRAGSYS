{
 "cells": [
  {
   "cell_type": "markdown",
   "metadata": {},
   "source": [
    "# PREDICTING RSA CLUSTER LABELS"
   ]
  },
  {
   "cell_type": "markdown",
   "metadata": {},
   "source": [
    "This notebook uses ANN and KNN to predict RSA cluster labels. In here, we try 50 models from 10 different seeds and chose the best according to validation accuracy and loss. Moreover, we perform 10 repeat 10-fold cross validation to ensure the model works well across a range of different training data folds."
   ]
  },
  {
   "cell_type": "markdown",
   "metadata": {},
   "source": [
    "## IMPORTING NECESSATY PACKAGES"
   ]
  },
  {
   "cell_type": "code",
   "execution_count": 1,
   "metadata": {},
   "outputs": [
    {
     "name": "stderr",
     "output_type": "stream",
     "text": [
      "2023-05-03 12:00:46.051401: I tensorflow/core/platform/cpu_feature_guard.cc:193] This TensorFlow binary is optimized with oneAPI Deep Neural Network Library (oneDNN) to use the following CPU instructions in performance-critical operations:  SSE4.1 SSE4.2 AVX AVX2 AVX512F AVX512_VNNI FMA\n",
      "To enable them in other operations, rebuild TensorFlow with the appropriate compiler flags.\n",
      "2023-05-03 12:01:04.217607: I tensorflow/core/util/util.cc:169] oneDNN custom operations are on. You may see slightly different numerical results due to floating-point round-off errors from different computation orders. To turn them off, set the environment variable `TF_ENABLE_ONEDNN_OPTS=0`.\n"
     ]
    }
   ],
   "source": [
    "from fragsys_ml import *"
   ]
  },
  {
   "cell_type": "markdown",
   "metadata": {},
   "source": [
    "## READING INPUT DATA"
   ]
  },
  {
   "cell_type": "code",
   "execution_count": 2,
   "metadata": {},
   "outputs": [],
   "source": [
    "main_dir = \".\"\n",
    "results_dir = os.path.join(main_dir, \"results/new\")\n",
    "figs_dir = os.path.join(main_dir, \"figs\")"
   ]
  },
  {
   "cell_type": "code",
   "execution_count": 3,
   "metadata": {},
   "outputs": [],
   "source": [
    "rsa_cluster_dict = load_pickle(os.path.join(results_dir, \"rsa_cluster_dict.pkl\"))\n",
    "cluster_membership = load_pickle(os.path.join(results_dir, \"rsa_cluster_membership.pkl\"))\n",
    "rsa_profs = load_pickle(os.path.join(results_dir, \"rsa_profs.pkl\"))\n",
    "ud_mat = pd.read_pickle(os.path.join(results_dir, \"UD_df.pkl\"))"
   ]
  },
  {
   "cell_type": "markdown",
   "metadata": {},
   "source": [
    "## CREATING FEATURE DATAFRAME"
   ]
  },
  {
   "cell_type": "code",
   "execution_count": 5,
   "metadata": {},
   "outputs": [],
   "source": [
    "max_len = max([len(v) for v in rsa_profs.values()])\n",
    "bs_vectors = []\n",
    "bs_vectors_dict = {}\n",
    "for bs_id, rsa_sig in rsa_profs.items():\n",
    "    rsa_sig_len = len(rsa_sig)\n",
    "    rsa_range_prop = [0 for i in range(10)] # now let us change to 10\n",
    "    for rsa in rsa_sig:\n",
    "        prop_i = int(rsa/10) # 10 RSA BINS: b1 = [0,10), b2 = [10, 20), ... b10 = [90, MAX)\n",
    "        if prop_i > 9: # if greater than 100, put in 10th bin\n",
    "            prop_i = 9\n",
    "        #print(prop_i)\n",
    "        rsa_range_prop[prop_i] += 1\n",
    "    rsa_range_prop = [round(i/rsa_sig_len, 3) for i in rsa_range_prop]\n",
    "    rsa_range_prop.insert(0, rsa_sig_len/max_len) # ADDING BINDING SITE SIZE RELATIVE TO MAX SITE SIZE (IN THIS CASE 40)\n",
    "    bs_vectors.append(rsa_range_prop)\n",
    "    bs_vectors_dict[bs_id] = rsa_range_prop\n",
    "    \n",
    "vector_df = pd.DataFrame(bs_vectors, index = list(rsa_profs.keys())) # obtaining RSA vectors, which are the 11-element features used for the machine learning"
   ]
  },
  {
   "cell_type": "code",
   "execution_count": 6,
   "metadata": {},
   "outputs": [
    {
     "data": {
      "text/html": [
       "<div>\n",
       "<style scoped>\n",
       "    .dataframe tbody tr th:only-of-type {\n",
       "        vertical-align: middle;\n",
       "    }\n",
       "\n",
       "    .dataframe tbody tr th {\n",
       "        vertical-align: top;\n",
       "    }\n",
       "\n",
       "    .dataframe thead th {\n",
       "        text-align: right;\n",
       "    }\n",
       "</style>\n",
       "<table border=\"1\" class=\"dataframe\">\n",
       "  <thead>\n",
       "    <tr style=\"text-align: right;\">\n",
       "      <th></th>\n",
       "      <th>0</th>\n",
       "      <th>1</th>\n",
       "      <th>2</th>\n",
       "      <th>3</th>\n",
       "      <th>4</th>\n",
       "      <th>5</th>\n",
       "      <th>6</th>\n",
       "      <th>7</th>\n",
       "      <th>8</th>\n",
       "      <th>9</th>\n",
       "      <th>10</th>\n",
       "    </tr>\n",
       "  </thead>\n",
       "  <tbody>\n",
       "    <tr>\n",
       "      <th>H0Y4R8_0_BS0</th>\n",
       "      <td>0.150</td>\n",
       "      <td>0.000</td>\n",
       "      <td>0.000</td>\n",
       "      <td>0.167</td>\n",
       "      <td>0.167</td>\n",
       "      <td>0.333</td>\n",
       "      <td>0.000</td>\n",
       "      <td>0.167</td>\n",
       "      <td>0.167</td>\n",
       "      <td>0.0</td>\n",
       "      <td>0.0</td>\n",
       "    </tr>\n",
       "    <tr>\n",
       "      <th>O43809_0_BS0</th>\n",
       "      <td>0.600</td>\n",
       "      <td>0.375</td>\n",
       "      <td>0.250</td>\n",
       "      <td>0.083</td>\n",
       "      <td>0.167</td>\n",
       "      <td>0.042</td>\n",
       "      <td>0.042</td>\n",
       "      <td>0.000</td>\n",
       "      <td>0.042</td>\n",
       "      <td>0.0</td>\n",
       "      <td>0.0</td>\n",
       "    </tr>\n",
       "    <tr>\n",
       "      <th>O43809_0_BS1</th>\n",
       "      <td>0.325</td>\n",
       "      <td>0.231</td>\n",
       "      <td>0.077</td>\n",
       "      <td>0.231</td>\n",
       "      <td>0.077</td>\n",
       "      <td>0.077</td>\n",
       "      <td>0.077</td>\n",
       "      <td>0.077</td>\n",
       "      <td>0.154</td>\n",
       "      <td>0.0</td>\n",
       "      <td>0.0</td>\n",
       "    </tr>\n",
       "  </tbody>\n",
       "</table>\n",
       "</div>"
      ],
      "text/plain": [
       "                 0      1      2      3      4      5      6      7      8   \\\n",
       "H0Y4R8_0_BS0  0.150  0.000  0.000  0.167  0.167  0.333  0.000  0.167  0.167   \n",
       "O43809_0_BS0  0.600  0.375  0.250  0.083  0.167  0.042  0.042  0.000  0.042   \n",
       "O43809_0_BS1  0.325  0.231  0.077  0.231  0.077  0.077  0.077  0.077  0.154   \n",
       "\n",
       "               9    10  \n",
       "H0Y4R8_0_BS0  0.0  0.0  \n",
       "O43809_0_BS0  0.0  0.0  \n",
       "O43809_0_BS1  0.0  0.0  "
      ]
     },
     "execution_count": 6,
     "metadata": {},
     "output_type": "execute_result"
    }
   ],
   "source": [
    "vector_df.head(3)"
   ]
  },
  {
   "cell_type": "code",
   "execution_count": 7,
   "metadata": {},
   "outputs": [
    {
     "data": {
      "text/plain": [
       "(293, 11)"
      ]
     },
     "execution_count": 7,
     "metadata": {},
     "output_type": "execute_result"
    }
   ],
   "source": [
    "vector_df.shape"
   ]
  },
  {
   "cell_type": "code",
   "execution_count": 13,
   "metadata": {},
   "outputs": [],
   "source": [
    "vector_df.to_pickle(os.path.join(results_dir, \"rsa_vectors.pkl\"))"
   ]
  },
  {
   "cell_type": "code",
   "execution_count": 8,
   "metadata": {},
   "outputs": [],
   "source": [
    "label_df = pd.DataFrame.from_dict(rsa_cluster_dict, orient = \"index\", columns = [\"label\"])"
   ]
  },
  {
   "cell_type": "code",
   "execution_count": 9,
   "metadata": {},
   "outputs": [
    {
     "data": {
      "text/plain": [
       "0    0.16\n",
       "1    0.43\n",
       "2    0.31\n",
       "3    0.10\n",
       "Name: label, dtype: float64"
      ]
     },
     "execution_count": 9,
     "metadata": {},
     "output_type": "execute_result"
    }
   ],
   "source": [
    "round(label_df.label.value_counts().sort_index()/len(label_df),2)"
   ]
  },
  {
   "cell_type": "code",
   "execution_count": 10,
   "metadata": {},
   "outputs": [
    {
     "data": {
      "text/html": [
       "<div>\n",
       "<style scoped>\n",
       "    .dataframe tbody tr th:only-of-type {\n",
       "        vertical-align: middle;\n",
       "    }\n",
       "\n",
       "    .dataframe tbody tr th {\n",
       "        vertical-align: top;\n",
       "    }\n",
       "\n",
       "    .dataframe thead th {\n",
       "        text-align: right;\n",
       "    }\n",
       "</style>\n",
       "<table border=\"1\" class=\"dataframe\">\n",
       "  <thead>\n",
       "    <tr style=\"text-align: right;\">\n",
       "      <th></th>\n",
       "      <th>label</th>\n",
       "    </tr>\n",
       "  </thead>\n",
       "  <tbody>\n",
       "    <tr>\n",
       "      <th>H0Y4R8_0_BS0</th>\n",
       "      <td>3</td>\n",
       "    </tr>\n",
       "    <tr>\n",
       "      <th>O43809_0_BS0</th>\n",
       "      <td>0</td>\n",
       "    </tr>\n",
       "    <tr>\n",
       "      <th>O43809_0_BS1</th>\n",
       "      <td>1</td>\n",
       "    </tr>\n",
       "  </tbody>\n",
       "</table>\n",
       "</div>"
      ],
      "text/plain": [
       "              label\n",
       "H0Y4R8_0_BS0      3\n",
       "O43809_0_BS0      0\n",
       "O43809_0_BS1      1"
      ]
     },
     "execution_count": 10,
     "metadata": {},
     "output_type": "execute_result"
    }
   ],
   "source": [
    "label_df.head(3)"
   ]
  },
  {
   "cell_type": "code",
   "execution_count": 11,
   "metadata": {},
   "outputs": [
    {
     "data": {
      "text/plain": [
       "(293, 1)"
      ]
     },
     "execution_count": 11,
     "metadata": {},
     "output_type": "execute_result"
    }
   ],
   "source": [
    "label_df.shape"
   ]
  },
  {
   "cell_type": "markdown",
   "metadata": {},
   "source": [
    "## CREATE MODEL"
   ]
  },
  {
   "cell_type": "code",
   "execution_count": 12,
   "metadata": {},
   "outputs": [],
   "source": [
    "X = vector_df.sort_index() # here, X is still a dataframe. Thus, we maintain binding site IDs\n",
    "y = label_df.sort_index()    # here, y is still a list"
   ]
  },
  {
   "cell_type": "markdown",
   "metadata": {},
   "source": [
    "#### DATA SPLIT IN MODEL (10/11) (USED FOR TRAINING) AND BLIND (USED FOR FINAL TESTING) (1/11) STRATIFYING BY CLUSTER LABEL, SO THEY ARE BALANCED"
   ]
  },
  {
   "cell_type": "code",
   "execution_count": 13,
   "metadata": {},
   "outputs": [],
   "source": [
    "X_model, X_blind, y_model, y_blind = train_test_split(X, y, test_size = 0.091, random_state = 12345, shuffle = True, stratify = y) ### X_blind and y_blind will be the blind test at the end"
   ]
  },
  {
   "cell_type": "code",
   "execution_count": 14,
   "metadata": {},
   "outputs": [
    {
     "data": {
      "text/html": [
       "<div>\n",
       "<style scoped>\n",
       "    .dataframe tbody tr th:only-of-type {\n",
       "        vertical-align: middle;\n",
       "    }\n",
       "\n",
       "    .dataframe tbody tr th {\n",
       "        vertical-align: top;\n",
       "    }\n",
       "\n",
       "    .dataframe thead th {\n",
       "        text-align: right;\n",
       "    }\n",
       "</style>\n",
       "<table border=\"1\" class=\"dataframe\">\n",
       "  <thead>\n",
       "    <tr style=\"text-align: right;\">\n",
       "      <th></th>\n",
       "      <th>label</th>\n",
       "    </tr>\n",
       "  </thead>\n",
       "  <tbody>\n",
       "    <tr>\n",
       "      <th>P47811_0_BS1</th>\n",
       "      <td>1</td>\n",
       "    </tr>\n",
       "    <tr>\n",
       "      <th>P0DTD1_0_BS23</th>\n",
       "      <td>1</td>\n",
       "    </tr>\n",
       "    <tr>\n",
       "      <th>Q96HY7_0_BS0</th>\n",
       "      <td>1</td>\n",
       "    </tr>\n",
       "  </tbody>\n",
       "</table>\n",
       "</div>"
      ],
      "text/plain": [
       "               label\n",
       "P47811_0_BS1       1\n",
       "P0DTD1_0_BS23      1\n",
       "Q96HY7_0_BS0       1"
      ]
     },
     "execution_count": 14,
     "metadata": {},
     "output_type": "execute_result"
    }
   ],
   "source": [
    "y_model.head(3)"
   ]
  },
  {
   "cell_type": "markdown",
   "metadata": {},
   "source": [
    "#### CLASSES ARE IMBALANCED DUE TO OUR TRAINING DATASET, BUT BOTH TRAINING AND TEST DATA HAVE THE SAME PROPORTION FOR EACH CLASS"
   ]
  },
  {
   "cell_type": "code",
   "execution_count": 15,
   "metadata": {},
   "outputs": [
    {
     "name": "stdout",
     "output_type": "stream",
     "text": [
      "266\n",
      "27\n",
      "266\n",
      "27\n",
      "0 0.16\n",
      "1 0.43\n",
      "2 0.31\n",
      "3 0.1\n",
      "0 0.15\n",
      "1 0.44\n",
      "2 0.3\n",
      "3 0.11\n"
     ]
    }
   ],
   "source": [
    "print(len(X_model))\n",
    "print(len(X_blind))\n",
    "print(len(y_model))\n",
    "print(len(y_blind))\n",
    "for el in [0,1,2,3]:\n",
    "    print(el, round(y_model.label.tolist().count(el)/len(y_model),2))\n",
    "for el in [0,1,2,3]:\n",
    "    print(el, round(y_blind.label.tolist().count(el)/len(y_blind),2))"
   ]
  },
  {
   "cell_type": "markdown",
   "metadata": {},
   "source": [
    "#### CALLBACK TO GET BEST MODEL DURING TRAINING"
   ]
  },
  {
   "cell_type": "code",
   "execution_count": 16,
   "metadata": {},
   "outputs": [],
   "source": [
    "callback = tf.keras.callbacks.EarlyStopping(monitor = 'val_accuracy', min_delta = 0.01, patience = 100, verbose = 1, mode = 'max', restore_best_weights = True)"
   ]
  },
  {
   "cell_type": "markdown",
   "metadata": {},
   "source": [
    "#### OBTAINING CLASS WEIGHTS TO MINIMISE EFFECT OF CLASS IMBALANCE IN TRAINING DATASET"
   ]
  },
  {
   "cell_type": "code",
   "execution_count": 17,
   "metadata": {},
   "outputs": [],
   "source": [
    "class_weights = class_weight.compute_class_weight(class_weight = 'balanced',\n",
    "                                                 classes = np.unique(y_model.label.tolist()),\n",
    "                                                 y = np.array(y_model.label))\n",
    "class_weights_dict = {i: class_weights[i] for i in np.unique(y_model)}"
   ]
  },
  {
   "cell_type": "markdown",
   "metadata": {},
   "source": [
    "#### THE WEIGHT FOR EACH CLASS IS INVERSELY PROPORTIONAL TO THEIR FREQUENCY IN THE DATA SET"
   ]
  },
  {
   "cell_type": "code",
   "execution_count": 18,
   "metadata": {},
   "outputs": [
    {
     "name": "stdout",
     "output_type": "stream",
     "text": [
      "0 1.58\n",
      "1 0.58\n",
      "2 0.8\n",
      "3 2.56\n"
     ]
    }
   ],
   "source": [
    "for k, v in class_weights_dict.items():\n",
    "    print(k, round(v, 2))"
   ]
  },
  {
   "cell_type": "markdown",
   "metadata": {},
   "source": [
    "#### DATA SPLIT IN MODEL_TRAIN (0.8) (USED FOR MODEL TRAINING) AND MODEL_VAL (0.2) (USED FOR MODEL VALIDATION DURING TRAINING) STRATIFYING BY CLUSTER LABEL, SO THEY ARE BALANCED"
   ]
  },
  {
   "cell_type": "code",
   "execution_count": 19,
   "metadata": {},
   "outputs": [],
   "source": [
    "X_model_train, X_model_val, y_model_train, y_model_val = train_test_split(X_model, y_model, test_size = 0.2, random_state = 12345, shuffle = True, stratify = y_model)"
   ]
  },
  {
   "cell_type": "code",
   "execution_count": 20,
   "metadata": {},
   "outputs": [
    {
     "data": {
      "text/plain": [
       "1.0"
      ]
     },
     "execution_count": 20,
     "metadata": {},
     "output_type": "execute_result"
    }
   ],
   "source": [
    "len(set(X_model_train.index.tolist()).intersection(set(y_model_train.index.tolist())))/len(y_model_train)"
   ]
  },
  {
   "cell_type": "code",
   "execution_count": 21,
   "metadata": {},
   "outputs": [
    {
     "data": {
      "text/plain": [
       "1.0"
      ]
     },
     "execution_count": 21,
     "metadata": {},
     "output_type": "execute_result"
    }
   ],
   "source": [
    "len(set(X_model_val.index.tolist()).intersection(set(y_model_val.index.tolist())))/len(y_model_val)"
   ]
  },
  {
   "cell_type": "markdown",
   "metadata": {},
   "source": [
    "#### TRAINING AND VALIDATION DATA HAVE THE SAME PROPORTION FOR EACH CLASS"
   ]
  },
  {
   "cell_type": "code",
   "execution_count": 22,
   "metadata": {},
   "outputs": [
    {
     "name": "stdout",
     "output_type": "stream",
     "text": [
      "212\n",
      "54\n",
      "212\n",
      "54\n",
      "0 0.16\n",
      "1 0.43\n",
      "2 0.31\n",
      "3 0.1\n",
      "0 0.17\n",
      "1 0.43\n",
      "2 0.31\n",
      "3 0.09\n"
     ]
    }
   ],
   "source": [
    "print(len(X_model_train))\n",
    "print(len(X_model_val))\n",
    "print(len(y_model_train))\n",
    "print(len(y_model_val))\n",
    "for el in [0,1,2,3]:\n",
    "    print(el, round(y_model_train.label.tolist().count(el)/len(y_model_train),2))\n",
    "for el in [0,1,2,3]:\n",
    "    print(el, round(y_model_val.label.tolist().count(el)/len(y_model_val),2))"
   ]
  },
  {
   "cell_type": "markdown",
   "metadata": {},
   "source": [
    "# TRAINING"
   ]
  },
  {
   "cell_type": "code",
   "execution_count": 31,
   "metadata": {},
   "outputs": [],
   "source": [
    "random.seed(1)"
   ]
  },
  {
   "cell_type": "code",
   "execution_count": 35,
   "metadata": {},
   "outputs": [],
   "source": [
    "seeds = [random.randint(1, 100000) for i in range(10)] # [90015, 88091, 30338, 35897, 58161, 3551, 97160, 85734, 92233, 99814]"
   ]
  },
  {
   "cell_type": "code",
   "execution_count": 36,
   "metadata": {},
   "outputs": [
    {
     "name": "stdout",
     "output_type": "stream",
     "text": [
      "[49757, 27520, 12303, 63945, 3716, 51094, 56724, 79619, 99914, 277]\n"
     ]
    }
   ],
   "source": [
    "print(seeds) #[17612, 74607, 8272, 33433, 15456, 64938, 99741, 58916, 61899, 85406]"
   ]
  },
  {
   "cell_type": "code",
   "execution_count": 34,
   "metadata": {},
   "outputs": [],
   "source": [
    "#seeds = [90015, 88091, 30338, 35897, 58161, 3551, 97160, 85734, 92233, 99814]"
   ]
  },
  {
   "cell_type": "code",
   "execution_count": 37,
   "metadata": {},
   "outputs": [],
   "source": [
    "initializer = tf.keras.initializers.GlorotUniform(seed = 3551)"
   ]
  },
  {
   "cell_type": "code",
   "execution_count": 38,
   "metadata": {},
   "outputs": [
    {
     "data": {
      "text/html": [
       "<div>\n",
       "<style scoped>\n",
       "    .dataframe tbody tr th:only-of-type {\n",
       "        vertical-align: middle;\n",
       "    }\n",
       "\n",
       "    .dataframe tbody tr th {\n",
       "        vertical-align: top;\n",
       "    }\n",
       "\n",
       "    .dataframe thead th {\n",
       "        text-align: right;\n",
       "    }\n",
       "</style>\n",
       "<table border=\"1\" class=\"dataframe\">\n",
       "  <thead>\n",
       "    <tr style=\"text-align: right;\">\n",
       "      <th></th>\n",
       "      <th>0</th>\n",
       "      <th>1</th>\n",
       "      <th>2</th>\n",
       "      <th>3</th>\n",
       "      <th>4</th>\n",
       "      <th>5</th>\n",
       "      <th>6</th>\n",
       "      <th>7</th>\n",
       "      <th>8</th>\n",
       "      <th>9</th>\n",
       "      <th>10</th>\n",
       "    </tr>\n",
       "  </thead>\n",
       "  <tbody>\n",
       "    <tr>\n",
       "      <th>P0DTD1_2_BS0</th>\n",
       "      <td>0.550</td>\n",
       "      <td>0.136</td>\n",
       "      <td>0.227</td>\n",
       "      <td>0.045</td>\n",
       "      <td>0.182</td>\n",
       "      <td>0.091</td>\n",
       "      <td>0.000</td>\n",
       "      <td>0.136</td>\n",
       "      <td>0.045</td>\n",
       "      <td>0.091</td>\n",
       "      <td>0.045</td>\n",
       "    </tr>\n",
       "    <tr>\n",
       "      <th>Q6PJP8_0_BS9</th>\n",
       "      <td>0.175</td>\n",
       "      <td>0.000</td>\n",
       "      <td>0.000</td>\n",
       "      <td>0.429</td>\n",
       "      <td>0.143</td>\n",
       "      <td>0.000</td>\n",
       "      <td>0.000</td>\n",
       "      <td>0.286</td>\n",
       "      <td>0.143</td>\n",
       "      <td>0.000</td>\n",
       "      <td>0.000</td>\n",
       "    </tr>\n",
       "    <tr>\n",
       "      <th>Q8IU60_0_BS0</th>\n",
       "      <td>0.300</td>\n",
       "      <td>0.333</td>\n",
       "      <td>0.000</td>\n",
       "      <td>0.167</td>\n",
       "      <td>0.250</td>\n",
       "      <td>0.083</td>\n",
       "      <td>0.083</td>\n",
       "      <td>0.000</td>\n",
       "      <td>0.000</td>\n",
       "      <td>0.000</td>\n",
       "      <td>0.083</td>\n",
       "    </tr>\n",
       "  </tbody>\n",
       "</table>\n",
       "</div>"
      ],
      "text/plain": [
       "                 0      1      2      3      4      5      6      7      8   \\\n",
       "P0DTD1_2_BS0  0.550  0.136  0.227  0.045  0.182  0.091  0.000  0.136  0.045   \n",
       "Q6PJP8_0_BS9  0.175  0.000  0.000  0.429  0.143  0.000  0.000  0.286  0.143   \n",
       "Q8IU60_0_BS0  0.300  0.333  0.000  0.167  0.250  0.083  0.083  0.000  0.000   \n",
       "\n",
       "                 9      10  \n",
       "P0DTD1_2_BS0  0.091  0.045  \n",
       "Q6PJP8_0_BS9  0.000  0.000  \n",
       "Q8IU60_0_BS0  0.000  0.083  "
      ]
     },
     "execution_count": 38,
     "metadata": {},
     "output_type": "execute_result"
    }
   ],
   "source": [
    "X_model_train.head(3)"
   ]
  },
  {
   "cell_type": "markdown",
   "metadata": {},
   "source": [
    "### USING 10 DIFFERENT SEEDS, AND 50 MODELS WITHIN EACH SEED TO SELECT BEST MODEL"
   ]
  },
  {
   "cell_type": "code",
   "execution_count": 41,
   "metadata": {
    "collapsed": true,
    "jupyter": {
     "outputs_hidden": true
    }
   },
   "outputs": [
    {
     "name": "stdout",
     "output_type": "stream",
     "text": [
      "STARTING SEED 49757\n",
      "1\n",
      "Restoring model weights from the end of the best epoch: 54.\n",
      "Epoch 154: early stopping\n",
      "2\n",
      "Restoring model weights from the end of the best epoch: 63.\n",
      "Epoch 163: early stopping\n",
      "3\n",
      "Restoring model weights from the end of the best epoch: 147.\n",
      "Epoch 247: early stopping\n",
      "4\n",
      "Restoring model weights from the end of the best epoch: 60.\n",
      "Epoch 160: early stopping\n",
      "5\n",
      "Restoring model weights from the end of the best epoch: 58.\n",
      "Epoch 158: early stopping\n",
      "6\n",
      "Restoring model weights from the end of the best epoch: 120.\n",
      "Epoch 220: early stopping\n",
      "7\n",
      "Restoring model weights from the end of the best epoch: 60.\n",
      "Epoch 160: early stopping\n",
      "8\n",
      "Restoring model weights from the end of the best epoch: 56.\n",
      "Epoch 156: early stopping\n",
      "9\n",
      "Restoring model weights from the end of the best epoch: 57.\n",
      "Epoch 157: early stopping\n",
      "10\n",
      "Restoring model weights from the end of the best epoch: 65.\n",
      "Epoch 165: early stopping\n",
      "11\n",
      "Restoring model weights from the end of the best epoch: 52.\n",
      "Epoch 152: early stopping\n",
      "12\n",
      "Restoring model weights from the end of the best epoch: 67.\n",
      "Epoch 167: early stopping\n",
      "13\n",
      "Restoring model weights from the end of the best epoch: 92.\n",
      "Epoch 192: early stopping\n",
      "14\n",
      "Restoring model weights from the end of the best epoch: 61.\n",
      "Epoch 161: early stopping\n",
      "15\n",
      "Restoring model weights from the end of the best epoch: 107.\n",
      "Epoch 207: early stopping\n",
      "16\n",
      "Restoring model weights from the end of the best epoch: 47.\n",
      "Epoch 147: early stopping\n",
      "17\n",
      "Restoring model weights from the end of the best epoch: 67.\n",
      "Epoch 167: early stopping\n",
      "18\n",
      "Restoring model weights from the end of the best epoch: 58.\n",
      "Epoch 158: early stopping\n",
      "19\n",
      "Restoring model weights from the end of the best epoch: 130.\n",
      "Epoch 230: early stopping\n",
      "20\n",
      "Restoring model weights from the end of the best epoch: 56.\n",
      "Epoch 156: early stopping\n",
      "21\n",
      "Restoring model weights from the end of the best epoch: 51.\n",
      "Epoch 151: early stopping\n",
      "22\n",
      "Restoring model weights from the end of the best epoch: 69.\n",
      "Epoch 169: early stopping\n",
      "23\n",
      "Restoring model weights from the end of the best epoch: 56.\n",
      "Epoch 156: early stopping\n",
      "24\n",
      "Restoring model weights from the end of the best epoch: 67.\n",
      "Epoch 167: early stopping\n",
      "25\n",
      "Restoring model weights from the end of the best epoch: 55.\n",
      "Epoch 155: early stopping\n",
      "26\n",
      "Restoring model weights from the end of the best epoch: 71.\n",
      "Epoch 171: early stopping\n",
      "27\n",
      "Restoring model weights from the end of the best epoch: 71.\n",
      "Epoch 171: early stopping\n",
      "28\n",
      "Restoring model weights from the end of the best epoch: 52.\n",
      "Epoch 152: early stopping\n",
      "29\n",
      "Restoring model weights from the end of the best epoch: 136.\n",
      "Epoch 236: early stopping\n",
      "30\n",
      "Restoring model weights from the end of the best epoch: 45.\n",
      "Epoch 145: early stopping\n",
      "31\n",
      "Restoring model weights from the end of the best epoch: 68.\n",
      "Epoch 168: early stopping\n",
      "32\n",
      "Restoring model weights from the end of the best epoch: 98.\n",
      "Epoch 198: early stopping\n",
      "33\n",
      "Restoring model weights from the end of the best epoch: 134.\n",
      "Epoch 234: early stopping\n",
      "34\n",
      "Restoring model weights from the end of the best epoch: 60.\n",
      "Epoch 160: early stopping\n",
      "35\n",
      "Restoring model weights from the end of the best epoch: 68.\n",
      "Epoch 168: early stopping\n",
      "36\n",
      "Restoring model weights from the end of the best epoch: 54.\n",
      "Epoch 154: early stopping\n",
      "37\n",
      "Restoring model weights from the end of the best epoch: 72.\n",
      "Epoch 172: early stopping\n",
      "38\n",
      "Restoring model weights from the end of the best epoch: 77.\n",
      "Epoch 177: early stopping\n",
      "39\n",
      "Restoring model weights from the end of the best epoch: 48.\n",
      "Epoch 148: early stopping\n",
      "40\n",
      "Restoring model weights from the end of the best epoch: 65.\n",
      "Epoch 165: early stopping\n",
      "41\n",
      "Restoring model weights from the end of the best epoch: 115.\n",
      "Epoch 215: early stopping\n",
      "42\n",
      "Restoring model weights from the end of the best epoch: 118.\n",
      "Epoch 218: early stopping\n",
      "43\n",
      "Restoring model weights from the end of the best epoch: 95.\n",
      "Epoch 195: early stopping\n",
      "44\n",
      "Restoring model weights from the end of the best epoch: 55.\n",
      "Epoch 155: early stopping\n",
      "45\n",
      "Restoring model weights from the end of the best epoch: 66.\n",
      "Epoch 166: early stopping\n",
      "46\n",
      "Restoring model weights from the end of the best epoch: 49.\n",
      "Epoch 149: early stopping\n",
      "47\n",
      "Restoring model weights from the end of the best epoch: 53.\n",
      "Epoch 153: early stopping\n",
      "48\n",
      "Restoring model weights from the end of the best epoch: 68.\n",
      "Epoch 168: early stopping\n",
      "49\n",
      "Restoring model weights from the end of the best epoch: 57.\n",
      "Epoch 157: early stopping\n",
      "50\n",
      "Restoring model weights from the end of the best epoch: 53.\n",
      "Epoch 153: early stopping\n",
      "STARTING SEED 27520\n",
      "1\n",
      "Restoring model weights from the end of the best epoch: 43.\n",
      "Epoch 143: early stopping\n",
      "2\n",
      "Restoring model weights from the end of the best epoch: 44.\n",
      "Epoch 144: early stopping\n",
      "3\n",
      "Restoring model weights from the end of the best epoch: 51.\n",
      "Epoch 151: early stopping\n",
      "4\n",
      "Restoring model weights from the end of the best epoch: 45.\n",
      "Epoch 145: early stopping\n",
      "5\n",
      "Restoring model weights from the end of the best epoch: 44.\n",
      "Epoch 144: early stopping\n",
      "6\n",
      "Restoring model weights from the end of the best epoch: 34.\n",
      "Epoch 134: early stopping\n",
      "7\n",
      "Restoring model weights from the end of the best epoch: 49.\n",
      "Epoch 149: early stopping\n",
      "8\n",
      "Restoring model weights from the end of the best epoch: 62.\n",
      "Epoch 162: early stopping\n",
      "9\n",
      "Restoring model weights from the end of the best epoch: 50.\n",
      "Epoch 150: early stopping\n",
      "10\n",
      "Restoring model weights from the end of the best epoch: 42.\n",
      "Epoch 142: early stopping\n",
      "11\n",
      "Restoring model weights from the end of the best epoch: 40.\n",
      "Epoch 140: early stopping\n",
      "12\n",
      "Restoring model weights from the end of the best epoch: 33.\n",
      "Epoch 133: early stopping\n",
      "13\n",
      "Restoring model weights from the end of the best epoch: 48.\n",
      "Epoch 148: early stopping\n",
      "14\n",
      "Restoring model weights from the end of the best epoch: 38.\n",
      "Epoch 138: early stopping\n",
      "15\n",
      "Restoring model weights from the end of the best epoch: 47.\n",
      "Epoch 147: early stopping\n",
      "16\n",
      "Restoring model weights from the end of the best epoch: 49.\n",
      "Epoch 149: early stopping\n",
      "17\n",
      "Restoring model weights from the end of the best epoch: 40.\n",
      "Epoch 140: early stopping\n",
      "18\n",
      "Restoring model weights from the end of the best epoch: 42.\n",
      "Epoch 142: early stopping\n",
      "19\n",
      "Restoring model weights from the end of the best epoch: 47.\n",
      "Epoch 147: early stopping\n",
      "20\n",
      "Restoring model weights from the end of the best epoch: 48.\n",
      "Epoch 148: early stopping\n",
      "21\n",
      "Restoring model weights from the end of the best epoch: 44.\n",
      "Epoch 144: early stopping\n",
      "22\n",
      "Restoring model weights from the end of the best epoch: 51.\n",
      "Epoch 151: early stopping\n",
      "23\n",
      "Restoring model weights from the end of the best epoch: 49.\n",
      "Epoch 149: early stopping\n",
      "24\n",
      "Restoring model weights from the end of the best epoch: 40.\n",
      "Epoch 140: early stopping\n",
      "25\n",
      "Restoring model weights from the end of the best epoch: 42.\n",
      "Epoch 142: early stopping\n",
      "26\n",
      "Restoring model weights from the end of the best epoch: 40.\n",
      "Epoch 140: early stopping\n",
      "27\n",
      "Restoring model weights from the end of the best epoch: 41.\n",
      "Epoch 141: early stopping\n",
      "28\n",
      "Restoring model weights from the end of the best epoch: 49.\n",
      "Epoch 149: early stopping\n",
      "29\n",
      "Restoring model weights from the end of the best epoch: 51.\n",
      "Epoch 151: early stopping\n",
      "30\n",
      "Restoring model weights from the end of the best epoch: 46.\n",
      "Epoch 146: early stopping\n",
      "31\n",
      "Restoring model weights from the end of the best epoch: 49.\n",
      "Epoch 149: early stopping\n",
      "32\n",
      "Restoring model weights from the end of the best epoch: 48.\n",
      "Epoch 148: early stopping\n",
      "33\n",
      "Restoring model weights from the end of the best epoch: 39.\n",
      "Epoch 139: early stopping\n",
      "34\n",
      "Restoring model weights from the end of the best epoch: 50.\n",
      "Epoch 150: early stopping\n",
      "35\n",
      "Restoring model weights from the end of the best epoch: 36.\n",
      "Epoch 136: early stopping\n",
      "36\n",
      "Restoring model weights from the end of the best epoch: 39.\n",
      "Epoch 139: early stopping\n",
      "37\n",
      "Restoring model weights from the end of the best epoch: 43.\n",
      "Epoch 143: early stopping\n",
      "38\n",
      "Restoring model weights from the end of the best epoch: 34.\n",
      "Epoch 134: early stopping\n",
      "39\n",
      "Restoring model weights from the end of the best epoch: 38.\n",
      "Epoch 138: early stopping\n",
      "40\n",
      "Restoring model weights from the end of the best epoch: 37.\n",
      "Epoch 137: early stopping\n",
      "41\n",
      "Restoring model weights from the end of the best epoch: 38.\n",
      "Epoch 138: early stopping\n",
      "42\n",
      "Restoring model weights from the end of the best epoch: 40.\n",
      "Epoch 140: early stopping\n",
      "43\n",
      "Restoring model weights from the end of the best epoch: 50.\n",
      "Epoch 150: early stopping\n",
      "44\n",
      "Restoring model weights from the end of the best epoch: 37.\n",
      "Epoch 137: early stopping\n",
      "45\n",
      "Restoring model weights from the end of the best epoch: 36.\n",
      "Epoch 136: early stopping\n",
      "46\n",
      "Restoring model weights from the end of the best epoch: 55.\n",
      "Epoch 155: early stopping\n",
      "47\n",
      "Restoring model weights from the end of the best epoch: 46.\n",
      "Epoch 146: early stopping\n",
      "48\n",
      "Restoring model weights from the end of the best epoch: 39.\n",
      "Epoch 139: early stopping\n",
      "49\n",
      "Restoring model weights from the end of the best epoch: 45.\n",
      "Epoch 145: early stopping\n",
      "50\n",
      "Restoring model weights from the end of the best epoch: 64.\n",
      "Epoch 164: early stopping\n",
      "STARTING SEED 12303\n",
      "1\n",
      "Restoring model weights from the end of the best epoch: 37.\n",
      "Epoch 137: early stopping\n",
      "2\n",
      "Restoring model weights from the end of the best epoch: 48.\n",
      "Epoch 148: early stopping\n",
      "3\n",
      "Restoring model weights from the end of the best epoch: 45.\n",
      "Epoch 145: early stopping\n",
      "4\n",
      "Restoring model weights from the end of the best epoch: 41.\n",
      "Epoch 141: early stopping\n",
      "5\n",
      "Restoring model weights from the end of the best epoch: 42.\n",
      "Epoch 142: early stopping\n",
      "6\n",
      "Restoring model weights from the end of the best epoch: 39.\n",
      "Epoch 139: early stopping\n",
      "7\n",
      "Restoring model weights from the end of the best epoch: 36.\n",
      "Epoch 136: early stopping\n",
      "8\n",
      "Restoring model weights from the end of the best epoch: 40.\n",
      "Epoch 140: early stopping\n",
      "9\n",
      "Restoring model weights from the end of the best epoch: 41.\n",
      "Epoch 141: early stopping\n",
      "10\n",
      "Restoring model weights from the end of the best epoch: 45.\n",
      "Epoch 145: early stopping\n",
      "11\n",
      "Restoring model weights from the end of the best epoch: 39.\n",
      "Epoch 139: early stopping\n",
      "12\n",
      "Restoring model weights from the end of the best epoch: 45.\n",
      "Epoch 145: early stopping\n",
      "13\n",
      "Restoring model weights from the end of the best epoch: 56.\n",
      "Epoch 156: early stopping\n",
      "14\n",
      "Restoring model weights from the end of the best epoch: 42.\n",
      "Epoch 142: early stopping\n",
      "15\n",
      "Restoring model weights from the end of the best epoch: 43.\n",
      "Epoch 143: early stopping\n",
      "16\n",
      "Restoring model weights from the end of the best epoch: 46.\n",
      "Epoch 146: early stopping\n",
      "17\n",
      "Restoring model weights from the end of the best epoch: 39.\n",
      "Epoch 139: early stopping\n",
      "18\n",
      "Restoring model weights from the end of the best epoch: 36.\n",
      "Epoch 136: early stopping\n",
      "19\n",
      "Restoring model weights from the end of the best epoch: 40.\n",
      "Epoch 140: early stopping\n",
      "20\n",
      "Restoring model weights from the end of the best epoch: 42.\n",
      "Epoch 142: early stopping\n",
      "21\n",
      "Restoring model weights from the end of the best epoch: 42.\n",
      "Epoch 142: early stopping\n",
      "22\n",
      "Restoring model weights from the end of the best epoch: 42.\n",
      "Epoch 142: early stopping\n",
      "23\n",
      "Restoring model weights from the end of the best epoch: 45.\n",
      "Epoch 145: early stopping\n",
      "24\n",
      "Restoring model weights from the end of the best epoch: 39.\n",
      "Epoch 139: early stopping\n",
      "25\n",
      "Restoring model weights from the end of the best epoch: 39.\n",
      "Epoch 139: early stopping\n",
      "26\n",
      "Restoring model weights from the end of the best epoch: 45.\n",
      "Epoch 145: early stopping\n",
      "27\n",
      "Restoring model weights from the end of the best epoch: 44.\n",
      "Epoch 144: early stopping\n",
      "28\n",
      "Restoring model weights from the end of the best epoch: 43.\n",
      "Epoch 143: early stopping\n",
      "29\n",
      "Restoring model weights from the end of the best epoch: 46.\n",
      "Epoch 146: early stopping\n",
      "30\n",
      "Restoring model weights from the end of the best epoch: 43.\n",
      "Epoch 143: early stopping\n",
      "31\n",
      "Restoring model weights from the end of the best epoch: 44.\n",
      "Epoch 144: early stopping\n",
      "32\n",
      "Restoring model weights from the end of the best epoch: 41.\n",
      "Epoch 141: early stopping\n",
      "33\n",
      "Restoring model weights from the end of the best epoch: 47.\n",
      "Epoch 147: early stopping\n",
      "34\n",
      "Restoring model weights from the end of the best epoch: 55.\n",
      "Epoch 155: early stopping\n",
      "35\n",
      "Restoring model weights from the end of the best epoch: 41.\n",
      "Epoch 141: early stopping\n",
      "36\n",
      "Restoring model weights from the end of the best epoch: 41.\n",
      "Epoch 141: early stopping\n",
      "37\n",
      "Restoring model weights from the end of the best epoch: 43.\n",
      "Epoch 143: early stopping\n",
      "38\n",
      "Restoring model weights from the end of the best epoch: 40.\n",
      "Epoch 140: early stopping\n",
      "39\n",
      "Restoring model weights from the end of the best epoch: 35.\n",
      "Epoch 135: early stopping\n",
      "40\n",
      "Restoring model weights from the end of the best epoch: 45.\n",
      "Epoch 145: early stopping\n",
      "41\n",
      "Restoring model weights from the end of the best epoch: 37.\n",
      "Epoch 137: early stopping\n",
      "42\n",
      "Restoring model weights from the end of the best epoch: 43.\n",
      "Epoch 143: early stopping\n",
      "43\n",
      "Restoring model weights from the end of the best epoch: 43.\n",
      "Epoch 143: early stopping\n",
      "44\n",
      "Restoring model weights from the end of the best epoch: 38.\n",
      "Epoch 138: early stopping\n",
      "45\n",
      "Restoring model weights from the end of the best epoch: 44.\n",
      "Epoch 144: early stopping\n",
      "46\n",
      "Restoring model weights from the end of the best epoch: 48.\n",
      "Epoch 148: early stopping\n",
      "47\n",
      "Restoring model weights from the end of the best epoch: 45.\n",
      "Epoch 145: early stopping\n",
      "48\n",
      "Restoring model weights from the end of the best epoch: 54.\n",
      "Epoch 154: early stopping\n",
      "49\n",
      "Restoring model weights from the end of the best epoch: 40.\n",
      "Epoch 140: early stopping\n",
      "50\n",
      "Restoring model weights from the end of the best epoch: 40.\n",
      "Epoch 140: early stopping\n",
      "STARTING SEED 63945\n",
      "1\n",
      "Restoring model weights from the end of the best epoch: 45.\n",
      "Epoch 145: early stopping\n",
      "2\n",
      "Restoring model weights from the end of the best epoch: 47.\n",
      "Epoch 147: early stopping\n",
      "3\n",
      "Restoring model weights from the end of the best epoch: 47.\n",
      "Epoch 147: early stopping\n",
      "4\n",
      "Restoring model weights from the end of the best epoch: 46.\n",
      "Epoch 146: early stopping\n",
      "5\n",
      "Restoring model weights from the end of the best epoch: 49.\n",
      "Epoch 149: early stopping\n",
      "6\n",
      "Restoring model weights from the end of the best epoch: 37.\n",
      "Epoch 137: early stopping\n",
      "7\n",
      "Restoring model weights from the end of the best epoch: 48.\n",
      "Epoch 148: early stopping\n",
      "8\n",
      "Restoring model weights from the end of the best epoch: 51.\n",
      "Epoch 151: early stopping\n",
      "9\n",
      "Restoring model weights from the end of the best epoch: 46.\n",
      "Epoch 146: early stopping\n",
      "10\n",
      "Restoring model weights from the end of the best epoch: 43.\n",
      "Epoch 143: early stopping\n",
      "11\n",
      "Restoring model weights from the end of the best epoch: 49.\n",
      "Epoch 149: early stopping\n",
      "12\n",
      "Restoring model weights from the end of the best epoch: 43.\n",
      "Epoch 143: early stopping\n",
      "13\n",
      "Restoring model weights from the end of the best epoch: 43.\n",
      "Epoch 143: early stopping\n",
      "14\n",
      "Restoring model weights from the end of the best epoch: 44.\n",
      "Epoch 144: early stopping\n",
      "15\n",
      "Restoring model weights from the end of the best epoch: 49.\n",
      "Epoch 149: early stopping\n",
      "16\n",
      "Restoring model weights from the end of the best epoch: 46.\n",
      "Epoch 146: early stopping\n",
      "17\n",
      "Restoring model weights from the end of the best epoch: 44.\n",
      "Epoch 144: early stopping\n",
      "18\n",
      "Restoring model weights from the end of the best epoch: 50.\n",
      "Epoch 150: early stopping\n",
      "19\n",
      "Restoring model weights from the end of the best epoch: 49.\n",
      "Epoch 149: early stopping\n",
      "20\n",
      "Restoring model weights from the end of the best epoch: 29.\n",
      "Epoch 129: early stopping\n",
      "21\n",
      "Restoring model weights from the end of the best epoch: 42.\n",
      "Epoch 142: early stopping\n",
      "22\n",
      "Restoring model weights from the end of the best epoch: 39.\n",
      "Epoch 139: early stopping\n",
      "23\n",
      "Restoring model weights from the end of the best epoch: 51.\n",
      "Epoch 151: early stopping\n",
      "24\n",
      "Restoring model weights from the end of the best epoch: 32.\n",
      "Epoch 132: early stopping\n",
      "25\n",
      "Restoring model weights from the end of the best epoch: 38.\n",
      "Epoch 138: early stopping\n",
      "26\n",
      "Restoring model weights from the end of the best epoch: 43.\n",
      "Epoch 143: early stopping\n",
      "27\n",
      "Restoring model weights from the end of the best epoch: 46.\n",
      "Epoch 146: early stopping\n",
      "28\n",
      "Restoring model weights from the end of the best epoch: 35.\n",
      "Epoch 135: early stopping\n",
      "29\n",
      "Restoring model weights from the end of the best epoch: 48.\n",
      "Epoch 148: early stopping\n",
      "30\n",
      "Restoring model weights from the end of the best epoch: 44.\n",
      "Epoch 144: early stopping\n",
      "31\n",
      "Restoring model weights from the end of the best epoch: 36.\n",
      "Epoch 136: early stopping\n",
      "32\n",
      "Restoring model weights from the end of the best epoch: 45.\n",
      "Epoch 145: early stopping\n",
      "33\n",
      "Restoring model weights from the end of the best epoch: 43.\n",
      "Epoch 143: early stopping\n",
      "34\n",
      "Restoring model weights from the end of the best epoch: 47.\n",
      "Epoch 147: early stopping\n",
      "35\n",
      "Restoring model weights from the end of the best epoch: 41.\n",
      "Epoch 141: early stopping\n",
      "36\n",
      "Restoring model weights from the end of the best epoch: 43.\n",
      "Epoch 143: early stopping\n",
      "37\n",
      "Restoring model weights from the end of the best epoch: 39.\n",
      "Epoch 139: early stopping\n",
      "38\n",
      "Restoring model weights from the end of the best epoch: 51.\n",
      "Epoch 151: early stopping\n",
      "39\n",
      "Restoring model weights from the end of the best epoch: 44.\n",
      "Epoch 144: early stopping\n",
      "40\n",
      "Restoring model weights from the end of the best epoch: 41.\n",
      "Epoch 141: early stopping\n",
      "41\n",
      "Restoring model weights from the end of the best epoch: 36.\n",
      "Epoch 136: early stopping\n",
      "42\n",
      "Restoring model weights from the end of the best epoch: 69.\n",
      "Epoch 169: early stopping\n",
      "43\n",
      "Restoring model weights from the end of the best epoch: 48.\n",
      "Epoch 148: early stopping\n",
      "44\n",
      "Restoring model weights from the end of the best epoch: 46.\n",
      "Epoch 146: early stopping\n",
      "45\n",
      "Restoring model weights from the end of the best epoch: 42.\n",
      "Epoch 142: early stopping\n",
      "46\n",
      "Restoring model weights from the end of the best epoch: 54.\n",
      "Epoch 154: early stopping\n",
      "47\n",
      "Restoring model weights from the end of the best epoch: 41.\n",
      "Epoch 141: early stopping\n",
      "48\n",
      "Restoring model weights from the end of the best epoch: 43.\n",
      "Epoch 143: early stopping\n",
      "49\n",
      "Restoring model weights from the end of the best epoch: 38.\n",
      "Epoch 138: early stopping\n",
      "50\n",
      "Restoring model weights from the end of the best epoch: 45.\n",
      "Epoch 145: early stopping\n",
      "STARTING SEED 3716\n",
      "1\n",
      "Restoring model weights from the end of the best epoch: 30.\n",
      "Epoch 130: early stopping\n",
      "2\n",
      "Restoring model weights from the end of the best epoch: 32.\n",
      "Epoch 132: early stopping\n",
      "3\n",
      "Restoring model weights from the end of the best epoch: 38.\n",
      "Epoch 138: early stopping\n",
      "4\n",
      "Restoring model weights from the end of the best epoch: 33.\n",
      "Epoch 133: early stopping\n",
      "5\n",
      "Restoring model weights from the end of the best epoch: 49.\n",
      "Epoch 149: early stopping\n",
      "6\n",
      "Restoring model weights from the end of the best epoch: 75.\n",
      "Epoch 175: early stopping\n",
      "7\n",
      "Restoring model weights from the end of the best epoch: 31.\n",
      "Epoch 131: early stopping\n",
      "8\n",
      "Restoring model weights from the end of the best epoch: 36.\n",
      "Epoch 136: early stopping\n",
      "9\n",
      "Restoring model weights from the end of the best epoch: 33.\n",
      "Epoch 133: early stopping\n",
      "10\n",
      "Restoring model weights from the end of the best epoch: 34.\n",
      "Epoch 134: early stopping\n",
      "11\n",
      "Restoring model weights from the end of the best epoch: 31.\n",
      "Epoch 131: early stopping\n",
      "12\n",
      "Restoring model weights from the end of the best epoch: 31.\n",
      "Epoch 131: early stopping\n",
      "13\n",
      "Restoring model weights from the end of the best epoch: 34.\n",
      "Epoch 134: early stopping\n",
      "14\n",
      "Restoring model weights from the end of the best epoch: 67.\n",
      "Epoch 167: early stopping\n",
      "15\n",
      "Restoring model weights from the end of the best epoch: 33.\n",
      "Epoch 133: early stopping\n",
      "16\n",
      "Restoring model weights from the end of the best epoch: 40.\n",
      "Epoch 140: early stopping\n",
      "17\n",
      "Restoring model weights from the end of the best epoch: 32.\n",
      "Epoch 132: early stopping\n",
      "18\n",
      "Restoring model weights from the end of the best epoch: 32.\n",
      "Epoch 132: early stopping\n",
      "19\n",
      "Restoring model weights from the end of the best epoch: 82.\n",
      "Epoch 182: early stopping\n",
      "20\n",
      "Restoring model weights from the end of the best epoch: 34.\n",
      "Epoch 134: early stopping\n",
      "21\n",
      "Restoring model weights from the end of the best epoch: 66.\n",
      "Epoch 166: early stopping\n",
      "22\n",
      "Restoring model weights from the end of the best epoch: 30.\n",
      "Epoch 130: early stopping\n",
      "23\n",
      "Restoring model weights from the end of the best epoch: 30.\n",
      "Epoch 130: early stopping\n",
      "24\n",
      "Restoring model weights from the end of the best epoch: 31.\n",
      "Epoch 131: early stopping\n",
      "25\n",
      "Restoring model weights from the end of the best epoch: 54.\n",
      "Epoch 154: early stopping\n",
      "26\n",
      "Restoring model weights from the end of the best epoch: 59.\n",
      "Epoch 159: early stopping\n",
      "27\n",
      "Restoring model weights from the end of the best epoch: 32.\n",
      "Epoch 132: early stopping\n",
      "28\n",
      "Restoring model weights from the end of the best epoch: 31.\n",
      "Epoch 131: early stopping\n",
      "29\n",
      "Restoring model weights from the end of the best epoch: 54.\n",
      "Epoch 154: early stopping\n",
      "30\n",
      "Restoring model weights from the end of the best epoch: 33.\n",
      "Epoch 133: early stopping\n",
      "31\n",
      "Restoring model weights from the end of the best epoch: 66.\n",
      "Epoch 166: early stopping\n",
      "32\n",
      "Restoring model weights from the end of the best epoch: 33.\n",
      "Epoch 133: early stopping\n",
      "33\n",
      "Restoring model weights from the end of the best epoch: 31.\n",
      "Epoch 131: early stopping\n",
      "34\n",
      "Restoring model weights from the end of the best epoch: 29.\n",
      "Epoch 129: early stopping\n",
      "35\n",
      "Restoring model weights from the end of the best epoch: 32.\n",
      "Epoch 132: early stopping\n",
      "36\n",
      "Restoring model weights from the end of the best epoch: 33.\n",
      "Epoch 133: early stopping\n",
      "37\n",
      "Restoring model weights from the end of the best epoch: 25.\n",
      "Epoch 125: early stopping\n",
      "38\n",
      "Restoring model weights from the end of the best epoch: 33.\n",
      "Epoch 133: early stopping\n",
      "39\n",
      "Restoring model weights from the end of the best epoch: 32.\n",
      "Epoch 132: early stopping\n",
      "40\n",
      "Restoring model weights from the end of the best epoch: 32.\n",
      "Epoch 132: early stopping\n",
      "41\n",
      "Restoring model weights from the end of the best epoch: 33.\n",
      "Epoch 133: early stopping\n",
      "42\n",
      "Restoring model weights from the end of the best epoch: 31.\n",
      "Epoch 131: early stopping\n",
      "43\n",
      "Restoring model weights from the end of the best epoch: 31.\n",
      "Epoch 131: early stopping\n",
      "44\n",
      "Restoring model weights from the end of the best epoch: 30.\n",
      "Epoch 130: early stopping\n",
      "45\n",
      "Restoring model weights from the end of the best epoch: 41.\n",
      "Epoch 141: early stopping\n",
      "46\n",
      "Restoring model weights from the end of the best epoch: 25.\n",
      "Epoch 125: early stopping\n",
      "47\n",
      "Restoring model weights from the end of the best epoch: 34.\n",
      "Epoch 134: early stopping\n",
      "48\n",
      "Restoring model weights from the end of the best epoch: 34.\n",
      "Epoch 134: early stopping\n",
      "49\n",
      "Restoring model weights from the end of the best epoch: 29.\n",
      "Epoch 129: early stopping\n",
      "50\n",
      "Restoring model weights from the end of the best epoch: 31.\n",
      "Epoch 131: early stopping\n",
      "STARTING SEED 51094\n",
      "1\n",
      "Restoring model weights from the end of the best epoch: 29.\n",
      "Epoch 129: early stopping\n",
      "2\n",
      "Restoring model weights from the end of the best epoch: 33.\n",
      "Epoch 133: early stopping\n",
      "3\n",
      "Restoring model weights from the end of the best epoch: 36.\n",
      "Epoch 136: early stopping\n",
      "4\n",
      "Restoring model weights from the end of the best epoch: 37.\n",
      "Epoch 137: early stopping\n",
      "5\n",
      "Restoring model weights from the end of the best epoch: 36.\n",
      "Epoch 136: early stopping\n",
      "6\n",
      "Restoring model weights from the end of the best epoch: 34.\n",
      "Epoch 134: early stopping\n",
      "7\n",
      "Restoring model weights from the end of the best epoch: 37.\n",
      "Epoch 137: early stopping\n",
      "8\n",
      "Restoring model weights from the end of the best epoch: 35.\n",
      "Epoch 135: early stopping\n",
      "9\n",
      "Restoring model weights from the end of the best epoch: 36.\n",
      "Epoch 136: early stopping\n",
      "10\n",
      "Restoring model weights from the end of the best epoch: 34.\n",
      "Epoch 134: early stopping\n",
      "11\n",
      "Restoring model weights from the end of the best epoch: 33.\n",
      "Epoch 133: early stopping\n",
      "12\n",
      "Restoring model weights from the end of the best epoch: 36.\n",
      "Epoch 136: early stopping\n",
      "13\n",
      "Restoring model weights from the end of the best epoch: 36.\n",
      "Epoch 136: early stopping\n",
      "14\n",
      "Restoring model weights from the end of the best epoch: 37.\n",
      "Epoch 137: early stopping\n",
      "15\n",
      "Restoring model weights from the end of the best epoch: 37.\n",
      "Epoch 137: early stopping\n",
      "16\n",
      "Restoring model weights from the end of the best epoch: 35.\n",
      "Epoch 135: early stopping\n",
      "17\n",
      "Restoring model weights from the end of the best epoch: 35.\n",
      "Epoch 135: early stopping\n",
      "18\n",
      "Restoring model weights from the end of the best epoch: 38.\n",
      "Epoch 138: early stopping\n",
      "19\n",
      "Restoring model weights from the end of the best epoch: 38.\n",
      "Epoch 138: early stopping\n",
      "20\n",
      "Restoring model weights from the end of the best epoch: 37.\n",
      "Epoch 137: early stopping\n",
      "21\n",
      "Restoring model weights from the end of the best epoch: 36.\n",
      "Epoch 136: early stopping\n",
      "22\n",
      "Restoring model weights from the end of the best epoch: 36.\n",
      "Epoch 136: early stopping\n",
      "23\n",
      "Restoring model weights from the end of the best epoch: 36.\n",
      "Epoch 136: early stopping\n",
      "24\n",
      "Restoring model weights from the end of the best epoch: 37.\n",
      "Epoch 137: early stopping\n",
      "25\n",
      "Restoring model weights from the end of the best epoch: 36.\n",
      "Epoch 136: early stopping\n",
      "26\n",
      "Restoring model weights from the end of the best epoch: 35.\n",
      "Epoch 135: early stopping\n",
      "27\n",
      "Restoring model weights from the end of the best epoch: 37.\n",
      "Epoch 137: early stopping\n",
      "28\n",
      "Restoring model weights from the end of the best epoch: 30.\n",
      "Epoch 130: early stopping\n",
      "29\n",
      "Restoring model weights from the end of the best epoch: 35.\n",
      "Epoch 135: early stopping\n",
      "30\n",
      "Restoring model weights from the end of the best epoch: 34.\n",
      "Epoch 134: early stopping\n",
      "31\n",
      "Restoring model weights from the end of the best epoch: 35.\n",
      "Epoch 135: early stopping\n",
      "32\n",
      "Restoring model weights from the end of the best epoch: 30.\n",
      "Epoch 130: early stopping\n",
      "33\n",
      "Restoring model weights from the end of the best epoch: 36.\n",
      "Epoch 136: early stopping\n",
      "34\n",
      "Restoring model weights from the end of the best epoch: 35.\n",
      "Epoch 135: early stopping\n",
      "35\n",
      "Restoring model weights from the end of the best epoch: 33.\n",
      "Epoch 133: early stopping\n",
      "36\n",
      "Restoring model weights from the end of the best epoch: 34.\n",
      "Epoch 134: early stopping\n",
      "37\n",
      "Restoring model weights from the end of the best epoch: 31.\n",
      "Epoch 131: early stopping\n",
      "38\n",
      "Restoring model weights from the end of the best epoch: 36.\n",
      "Epoch 136: early stopping\n",
      "39\n",
      "Restoring model weights from the end of the best epoch: 38.\n",
      "Epoch 138: early stopping\n",
      "40\n",
      "Restoring model weights from the end of the best epoch: 38.\n",
      "Epoch 138: early stopping\n",
      "41\n",
      "Restoring model weights from the end of the best epoch: 31.\n",
      "Epoch 131: early stopping\n",
      "42\n",
      "Restoring model weights from the end of the best epoch: 33.\n",
      "Epoch 133: early stopping\n",
      "43\n",
      "Restoring model weights from the end of the best epoch: 40.\n",
      "Epoch 140: early stopping\n",
      "44\n",
      "Restoring model weights from the end of the best epoch: 40.\n",
      "Epoch 140: early stopping\n",
      "45\n",
      "Restoring model weights from the end of the best epoch: 39.\n",
      "Epoch 139: early stopping\n",
      "46\n",
      "Restoring model weights from the end of the best epoch: 40.\n",
      "Epoch 140: early stopping\n",
      "47\n",
      "Restoring model weights from the end of the best epoch: 38.\n",
      "Epoch 138: early stopping\n",
      "48\n",
      "Restoring model weights from the end of the best epoch: 33.\n",
      "Epoch 133: early stopping\n",
      "49\n",
      "Restoring model weights from the end of the best epoch: 38.\n",
      "Epoch 138: early stopping\n",
      "50\n",
      "Restoring model weights from the end of the best epoch: 38.\n",
      "Epoch 138: early stopping\n",
      "STARTING SEED 56724\n",
      "1\n",
      "Restoring model weights from the end of the best epoch: 44.\n",
      "Epoch 144: early stopping\n",
      "2\n",
      "Restoring model weights from the end of the best epoch: 36.\n",
      "Epoch 136: early stopping\n",
      "3\n",
      "Restoring model weights from the end of the best epoch: 38.\n",
      "Epoch 138: early stopping\n",
      "4\n",
      "Restoring model weights from the end of the best epoch: 44.\n",
      "Epoch 144: early stopping\n",
      "5\n",
      "Restoring model weights from the end of the best epoch: 44.\n",
      "Epoch 144: early stopping\n",
      "6\n",
      "Restoring model weights from the end of the best epoch: 37.\n",
      "Epoch 137: early stopping\n",
      "7\n",
      "Restoring model weights from the end of the best epoch: 105.\n",
      "Epoch 205: early stopping\n",
      "8\n",
      "Restoring model weights from the end of the best epoch: 35.\n",
      "Epoch 135: early stopping\n",
      "9\n",
      "Restoring model weights from the end of the best epoch: 35.\n",
      "Epoch 135: early stopping\n",
      "10\n",
      "Restoring model weights from the end of the best epoch: 37.\n",
      "Epoch 137: early stopping\n",
      "11\n",
      "Restoring model weights from the end of the best epoch: 39.\n",
      "Epoch 139: early stopping\n",
      "12\n",
      "Restoring model weights from the end of the best epoch: 83.\n",
      "Epoch 183: early stopping\n",
      "13\n",
      "Restoring model weights from the end of the best epoch: 91.\n",
      "Epoch 191: early stopping\n",
      "14\n",
      "Restoring model weights from the end of the best epoch: 28.\n",
      "Epoch 128: early stopping\n",
      "15\n",
      "Restoring model weights from the end of the best epoch: 47.\n",
      "Epoch 147: early stopping\n",
      "16\n",
      "Restoring model weights from the end of the best epoch: 35.\n",
      "Epoch 135: early stopping\n",
      "17\n",
      "Restoring model weights from the end of the best epoch: 31.\n",
      "Epoch 131: early stopping\n",
      "18\n",
      "Restoring model weights from the end of the best epoch: 35.\n",
      "Epoch 135: early stopping\n",
      "19\n",
      "Restoring model weights from the end of the best epoch: 36.\n",
      "Epoch 136: early stopping\n",
      "20\n",
      "Restoring model weights from the end of the best epoch: 41.\n",
      "Epoch 141: early stopping\n",
      "21\n",
      "Restoring model weights from the end of the best epoch: 36.\n",
      "Epoch 136: early stopping\n",
      "22\n",
      "Restoring model weights from the end of the best epoch: 93.\n",
      "Epoch 193: early stopping\n",
      "23\n",
      "Restoring model weights from the end of the best epoch: 33.\n",
      "Epoch 133: early stopping\n",
      "24\n",
      "Restoring model weights from the end of the best epoch: 38.\n",
      "Epoch 138: early stopping\n",
      "25\n",
      "Restoring model weights from the end of the best epoch: 39.\n",
      "Epoch 139: early stopping\n",
      "26\n",
      "Restoring model weights from the end of the best epoch: 37.\n",
      "Epoch 137: early stopping\n",
      "27\n",
      "Restoring model weights from the end of the best epoch: 42.\n",
      "Epoch 142: early stopping\n",
      "28\n",
      "Restoring model weights from the end of the best epoch: 38.\n",
      "Epoch 138: early stopping\n",
      "29\n",
      "Restoring model weights from the end of the best epoch: 56.\n",
      "Epoch 156: early stopping\n",
      "30\n",
      "Restoring model weights from the end of the best epoch: 41.\n",
      "Epoch 141: early stopping\n",
      "31\n",
      "Restoring model weights from the end of the best epoch: 44.\n",
      "Epoch 144: early stopping\n",
      "32\n",
      "Restoring model weights from the end of the best epoch: 37.\n",
      "Epoch 137: early stopping\n",
      "33\n",
      "Restoring model weights from the end of the best epoch: 30.\n",
      "Epoch 130: early stopping\n",
      "34\n",
      "Restoring model weights from the end of the best epoch: 39.\n",
      "Epoch 139: early stopping\n",
      "35\n",
      "Restoring model weights from the end of the best epoch: 37.\n",
      "Epoch 137: early stopping\n",
      "36\n",
      "Restoring model weights from the end of the best epoch: 37.\n",
      "Epoch 137: early stopping\n",
      "37\n",
      "Restoring model weights from the end of the best epoch: 50.\n",
      "Epoch 150: early stopping\n",
      "38\n",
      "Restoring model weights from the end of the best epoch: 41.\n",
      "Epoch 141: early stopping\n",
      "39\n",
      "Restoring model weights from the end of the best epoch: 47.\n",
      "Epoch 147: early stopping\n",
      "40\n",
      "Restoring model weights from the end of the best epoch: 38.\n",
      "Epoch 138: early stopping\n",
      "41\n",
      "Restoring model weights from the end of the best epoch: 36.\n",
      "Epoch 136: early stopping\n",
      "42\n",
      "Restoring model weights from the end of the best epoch: 33.\n",
      "Epoch 133: early stopping\n",
      "43\n",
      "Restoring model weights from the end of the best epoch: 39.\n",
      "Epoch 139: early stopping\n",
      "44\n",
      "Restoring model weights from the end of the best epoch: 32.\n",
      "Epoch 132: early stopping\n",
      "45\n",
      "Restoring model weights from the end of the best epoch: 64.\n",
      "Epoch 164: early stopping\n",
      "46\n",
      "Restoring model weights from the end of the best epoch: 38.\n",
      "Epoch 138: early stopping\n",
      "47\n",
      "Restoring model weights from the end of the best epoch: 53.\n",
      "Epoch 153: early stopping\n",
      "48\n",
      "Restoring model weights from the end of the best epoch: 101.\n",
      "Epoch 201: early stopping\n",
      "49\n",
      "Restoring model weights from the end of the best epoch: 38.\n",
      "Epoch 138: early stopping\n",
      "50\n",
      "Restoring model weights from the end of the best epoch: 41.\n",
      "Epoch 141: early stopping\n",
      "STARTING SEED 79619\n",
      "1\n",
      "Restoring model weights from the end of the best epoch: 50.\n",
      "Epoch 150: early stopping\n",
      "2\n",
      "Restoring model weights from the end of the best epoch: 51.\n",
      "Epoch 151: early stopping\n",
      "3\n",
      "Restoring model weights from the end of the best epoch: 50.\n",
      "Epoch 150: early stopping\n",
      "4\n",
      "Restoring model weights from the end of the best epoch: 49.\n",
      "Epoch 149: early stopping\n",
      "5\n",
      "Restoring model weights from the end of the best epoch: 44.\n",
      "Epoch 144: early stopping\n",
      "6\n",
      "Restoring model weights from the end of the best epoch: 44.\n",
      "Epoch 144: early stopping\n",
      "7\n",
      "Restoring model weights from the end of the best epoch: 46.\n",
      "Epoch 146: early stopping\n",
      "8\n",
      "Restoring model weights from the end of the best epoch: 41.\n",
      "Epoch 141: early stopping\n",
      "9\n",
      "Restoring model weights from the end of the best epoch: 50.\n",
      "Epoch 150: early stopping\n",
      "10\n",
      "Restoring model weights from the end of the best epoch: 51.\n",
      "Epoch 151: early stopping\n",
      "11\n",
      "Restoring model weights from the end of the best epoch: 51.\n",
      "Epoch 151: early stopping\n",
      "12\n",
      "Restoring model weights from the end of the best epoch: 40.\n",
      "Epoch 140: early stopping\n",
      "13\n",
      "Restoring model weights from the end of the best epoch: 47.\n",
      "Epoch 147: early stopping\n",
      "14\n",
      "Restoring model weights from the end of the best epoch: 48.\n",
      "Epoch 148: early stopping\n",
      "15\n",
      "Restoring model weights from the end of the best epoch: 46.\n",
      "Epoch 146: early stopping\n",
      "16\n",
      "Restoring model weights from the end of the best epoch: 45.\n",
      "Epoch 145: early stopping\n",
      "17\n",
      "Restoring model weights from the end of the best epoch: 43.\n",
      "Epoch 143: early stopping\n",
      "18\n",
      "Restoring model weights from the end of the best epoch: 44.\n",
      "Epoch 144: early stopping\n",
      "19\n",
      "Restoring model weights from the end of the best epoch: 57.\n",
      "Epoch 157: early stopping\n",
      "20\n",
      "Restoring model weights from the end of the best epoch: 43.\n",
      "Epoch 143: early stopping\n",
      "21\n",
      "Restoring model weights from the end of the best epoch: 43.\n",
      "Epoch 143: early stopping\n",
      "22\n",
      "Restoring model weights from the end of the best epoch: 38.\n",
      "Epoch 138: early stopping\n",
      "23\n",
      "Restoring model weights from the end of the best epoch: 42.\n",
      "Epoch 142: early stopping\n",
      "24\n",
      "Restoring model weights from the end of the best epoch: 53.\n",
      "Epoch 153: early stopping\n",
      "25\n",
      "Restoring model weights from the end of the best epoch: 49.\n",
      "Epoch 149: early stopping\n",
      "26\n",
      "Restoring model weights from the end of the best epoch: 62.\n",
      "Epoch 162: early stopping\n",
      "27\n",
      "Restoring model weights from the end of the best epoch: 51.\n",
      "Epoch 151: early stopping\n",
      "28\n",
      "Restoring model weights from the end of the best epoch: 49.\n",
      "Epoch 149: early stopping\n",
      "29\n",
      "Restoring model weights from the end of the best epoch: 40.\n",
      "Epoch 140: early stopping\n",
      "30\n",
      "Restoring model weights from the end of the best epoch: 43.\n",
      "Epoch 143: early stopping\n",
      "31\n",
      "Restoring model weights from the end of the best epoch: 48.\n",
      "Epoch 148: early stopping\n",
      "32\n",
      "Restoring model weights from the end of the best epoch: 43.\n",
      "Epoch 143: early stopping\n",
      "33\n",
      "Restoring model weights from the end of the best epoch: 50.\n",
      "Epoch 150: early stopping\n",
      "34\n",
      "Restoring model weights from the end of the best epoch: 45.\n",
      "Epoch 145: early stopping\n",
      "35\n",
      "Restoring model weights from the end of the best epoch: 47.\n",
      "Epoch 147: early stopping\n",
      "36\n",
      "Restoring model weights from the end of the best epoch: 54.\n",
      "Epoch 154: early stopping\n",
      "37\n",
      "Restoring model weights from the end of the best epoch: 49.\n",
      "Epoch 149: early stopping\n",
      "38\n",
      "Restoring model weights from the end of the best epoch: 46.\n",
      "Epoch 146: early stopping\n",
      "39\n",
      "Restoring model weights from the end of the best epoch: 50.\n",
      "Epoch 150: early stopping\n",
      "40\n",
      "Restoring model weights from the end of the best epoch: 48.\n",
      "Epoch 148: early stopping\n",
      "41\n",
      "Restoring model weights from the end of the best epoch: 47.\n",
      "Epoch 147: early stopping\n",
      "42\n",
      "Restoring model weights from the end of the best epoch: 54.\n",
      "Epoch 154: early stopping\n",
      "43\n",
      "Restoring model weights from the end of the best epoch: 46.\n",
      "Epoch 146: early stopping\n",
      "44\n",
      "Restoring model weights from the end of the best epoch: 47.\n",
      "Epoch 147: early stopping\n",
      "45\n",
      "Restoring model weights from the end of the best epoch: 43.\n",
      "Epoch 143: early stopping\n",
      "46\n",
      "Restoring model weights from the end of the best epoch: 46.\n",
      "Epoch 146: early stopping\n",
      "47\n",
      "Restoring model weights from the end of the best epoch: 47.\n",
      "Epoch 147: early stopping\n",
      "48\n",
      "Restoring model weights from the end of the best epoch: 44.\n",
      "Epoch 144: early stopping\n",
      "49\n",
      "Restoring model weights from the end of the best epoch: 54.\n",
      "Epoch 154: early stopping\n",
      "50\n",
      "Restoring model weights from the end of the best epoch: 49.\n",
      "Epoch 149: early stopping\n",
      "STARTING SEED 99914\n",
      "1\n",
      "Restoring model weights from the end of the best epoch: 89.\n",
      "Epoch 189: early stopping\n",
      "2\n",
      "Restoring model weights from the end of the best epoch: 38.\n",
      "Epoch 138: early stopping\n",
      "3\n",
      "Restoring model weights from the end of the best epoch: 28.\n",
      "Epoch 128: early stopping\n",
      "4\n",
      "Restoring model weights from the end of the best epoch: 41.\n",
      "Epoch 141: early stopping\n",
      "5\n",
      "Restoring model weights from the end of the best epoch: 38.\n",
      "Epoch 138: early stopping\n",
      "6\n",
      "Restoring model weights from the end of the best epoch: 144.\n",
      "Epoch 244: early stopping\n",
      "7\n",
      "Restoring model weights from the end of the best epoch: 90.\n",
      "Epoch 190: early stopping\n",
      "8\n",
      "Restoring model weights from the end of the best epoch: 44.\n",
      "Epoch 144: early stopping\n",
      "9\n",
      "Restoring model weights from the end of the best epoch: 101.\n",
      "Epoch 201: early stopping\n",
      "10\n",
      "Restoring model weights from the end of the best epoch: 101.\n",
      "Epoch 201: early stopping\n",
      "11\n",
      "Restoring model weights from the end of the best epoch: 70.\n",
      "Epoch 170: early stopping\n",
      "12\n",
      "Restoring model weights from the end of the best epoch: 99.\n",
      "Epoch 199: early stopping\n",
      "13\n",
      "Restoring model weights from the end of the best epoch: 55.\n",
      "Epoch 155: early stopping\n",
      "14\n",
      "Restoring model weights from the end of the best epoch: 134.\n",
      "Epoch 234: early stopping\n",
      "15\n",
      "Restoring model weights from the end of the best epoch: 59.\n",
      "Epoch 159: early stopping\n",
      "16\n",
      "Restoring model weights from the end of the best epoch: 89.\n",
      "Epoch 189: early stopping\n",
      "17\n",
      "Restoring model weights from the end of the best epoch: 31.\n",
      "Epoch 131: early stopping\n",
      "18\n",
      "Restoring model weights from the end of the best epoch: 165.\n",
      "Epoch 265: early stopping\n",
      "19\n",
      "Restoring model weights from the end of the best epoch: 119.\n",
      "Epoch 219: early stopping\n",
      "20\n",
      "Restoring model weights from the end of the best epoch: 98.\n",
      "Epoch 198: early stopping\n",
      "21\n",
      "Restoring model weights from the end of the best epoch: 49.\n",
      "Epoch 149: early stopping\n",
      "22\n",
      "Restoring model weights from the end of the best epoch: 98.\n",
      "Epoch 198: early stopping\n",
      "23\n",
      "Restoring model weights from the end of the best epoch: 75.\n",
      "Epoch 175: early stopping\n",
      "24\n",
      "Restoring model weights from the end of the best epoch: 122.\n",
      "Epoch 222: early stopping\n",
      "25\n",
      "Restoring model weights from the end of the best epoch: 48.\n",
      "Epoch 148: early stopping\n",
      "26\n",
      "Restoring model weights from the end of the best epoch: 30.\n",
      "Epoch 130: early stopping\n",
      "27\n",
      "Restoring model weights from the end of the best epoch: 92.\n",
      "Epoch 192: early stopping\n",
      "28\n",
      "Restoring model weights from the end of the best epoch: 94.\n",
      "Epoch 194: early stopping\n",
      "29\n",
      "Restoring model weights from the end of the best epoch: 71.\n",
      "Epoch 171: early stopping\n",
      "30\n",
      "Restoring model weights from the end of the best epoch: 112.\n",
      "Epoch 212: early stopping\n",
      "31\n",
      "Restoring model weights from the end of the best epoch: 123.\n",
      "Epoch 223: early stopping\n",
      "32\n",
      "Restoring model weights from the end of the best epoch: 34.\n",
      "Epoch 134: early stopping\n",
      "33\n",
      "Restoring model weights from the end of the best epoch: 83.\n",
      "Epoch 183: early stopping\n",
      "34\n",
      "Restoring model weights from the end of the best epoch: 35.\n",
      "Epoch 135: early stopping\n",
      "35\n",
      "Restoring model weights from the end of the best epoch: 44.\n",
      "Epoch 144: early stopping\n",
      "36\n",
      "Restoring model weights from the end of the best epoch: 103.\n",
      "Epoch 203: early stopping\n",
      "37\n",
      "Restoring model weights from the end of the best epoch: 35.\n",
      "Epoch 135: early stopping\n",
      "38\n",
      "Restoring model weights from the end of the best epoch: 98.\n",
      "Epoch 198: early stopping\n",
      "39\n",
      "Restoring model weights from the end of the best epoch: 130.\n",
      "Epoch 230: early stopping\n",
      "40\n",
      "Restoring model weights from the end of the best epoch: 111.\n",
      "Epoch 211: early stopping\n",
      "41\n",
      "Restoring model weights from the end of the best epoch: 50.\n",
      "Epoch 150: early stopping\n",
      "42\n",
      "Restoring model weights from the end of the best epoch: 101.\n",
      "Epoch 201: early stopping\n",
      "43\n",
      "Restoring model weights from the end of the best epoch: 39.\n",
      "Epoch 139: early stopping\n",
      "44\n",
      "Restoring model weights from the end of the best epoch: 99.\n",
      "Epoch 199: early stopping\n",
      "45\n",
      "Restoring model weights from the end of the best epoch: 100.\n",
      "Epoch 200: early stopping\n",
      "46\n",
      "Restoring model weights from the end of the best epoch: 36.\n",
      "Epoch 136: early stopping\n",
      "47\n",
      "Restoring model weights from the end of the best epoch: 41.\n",
      "Epoch 141: early stopping\n",
      "48\n",
      "Restoring model weights from the end of the best epoch: 36.\n",
      "Epoch 136: early stopping\n",
      "49\n",
      "Restoring model weights from the end of the best epoch: 98.\n",
      "Epoch 198: early stopping\n",
      "50\n",
      "Restoring model weights from the end of the best epoch: 138.\n",
      "Epoch 238: early stopping\n",
      "STARTING SEED 277\n",
      "1\n",
      "Restoring model weights from the end of the best epoch: 54.\n",
      "Epoch 154: early stopping\n",
      "2\n",
      "Restoring model weights from the end of the best epoch: 56.\n",
      "Epoch 156: early stopping\n",
      "3\n",
      "Restoring model weights from the end of the best epoch: 54.\n",
      "Epoch 154: early stopping\n",
      "4\n",
      "Restoring model weights from the end of the best epoch: 34.\n",
      "Epoch 134: early stopping\n",
      "5\n",
      "Restoring model weights from the end of the best epoch: 57.\n",
      "Epoch 157: early stopping\n",
      "6\n",
      "Restoring model weights from the end of the best epoch: 50.\n",
      "Epoch 150: early stopping\n",
      "7\n",
      "Restoring model weights from the end of the best epoch: 59.\n",
      "Epoch 159: early stopping\n",
      "8\n",
      "Restoring model weights from the end of the best epoch: 56.\n",
      "Epoch 156: early stopping\n",
      "9\n",
      "Restoring model weights from the end of the best epoch: 34.\n",
      "Epoch 134: early stopping\n",
      "10\n",
      "Restoring model weights from the end of the best epoch: 51.\n",
      "Epoch 151: early stopping\n",
      "11\n",
      "Restoring model weights from the end of the best epoch: 56.\n",
      "Epoch 156: early stopping\n",
      "12\n",
      "Restoring model weights from the end of the best epoch: 61.\n",
      "Epoch 161: early stopping\n",
      "13\n",
      "Restoring model weights from the end of the best epoch: 60.\n",
      "Epoch 160: early stopping\n",
      "14\n",
      "Restoring model weights from the end of the best epoch: 36.\n",
      "Epoch 136: early stopping\n",
      "15\n",
      "Restoring model weights from the end of the best epoch: 54.\n",
      "Epoch 154: early stopping\n",
      "16\n",
      "Restoring model weights from the end of the best epoch: 44.\n",
      "Epoch 144: early stopping\n",
      "17\n",
      "Restoring model weights from the end of the best epoch: 52.\n",
      "Epoch 152: early stopping\n",
      "18\n",
      "Restoring model weights from the end of the best epoch: 59.\n",
      "Epoch 159: early stopping\n",
      "19\n",
      "Restoring model weights from the end of the best epoch: 58.\n",
      "Epoch 158: early stopping\n",
      "20\n",
      "Restoring model weights from the end of the best epoch: 53.\n",
      "Epoch 153: early stopping\n",
      "21\n",
      "Restoring model weights from the end of the best epoch: 68.\n",
      "Epoch 168: early stopping\n",
      "22\n",
      "Restoring model weights from the end of the best epoch: 61.\n",
      "Epoch 161: early stopping\n",
      "23\n",
      "Restoring model weights from the end of the best epoch: 56.\n",
      "Epoch 156: early stopping\n",
      "24\n",
      "Restoring model weights from the end of the best epoch: 56.\n",
      "Epoch 156: early stopping\n",
      "25\n",
      "Restoring model weights from the end of the best epoch: 59.\n",
      "Epoch 159: early stopping\n",
      "26\n",
      "Restoring model weights from the end of the best epoch: 61.\n",
      "Epoch 161: early stopping\n",
      "27\n",
      "Restoring model weights from the end of the best epoch: 54.\n",
      "Epoch 154: early stopping\n",
      "28\n",
      "Restoring model weights from the end of the best epoch: 48.\n",
      "Epoch 148: early stopping\n",
      "29\n",
      "Restoring model weights from the end of the best epoch: 57.\n",
      "Epoch 157: early stopping\n",
      "30\n",
      "Restoring model weights from the end of the best epoch: 37.\n",
      "Epoch 137: early stopping\n",
      "31\n",
      "Restoring model weights from the end of the best epoch: 52.\n",
      "Epoch 152: early stopping\n",
      "32\n",
      "Restoring model weights from the end of the best epoch: 55.\n",
      "Epoch 155: early stopping\n",
      "33\n",
      "Restoring model weights from the end of the best epoch: 52.\n",
      "Epoch 152: early stopping\n",
      "34\n",
      "Restoring model weights from the end of the best epoch: 59.\n",
      "Epoch 159: early stopping\n",
      "35\n",
      "Restoring model weights from the end of the best epoch: 56.\n",
      "Epoch 156: early stopping\n",
      "36\n",
      "Restoring model weights from the end of the best epoch: 31.\n",
      "Epoch 131: early stopping\n",
      "37\n",
      "Restoring model weights from the end of the best epoch: 53.\n",
      "Epoch 153: early stopping\n",
      "38\n",
      "Restoring model weights from the end of the best epoch: 69.\n",
      "Epoch 169: early stopping\n",
      "39\n",
      "Restoring model weights from the end of the best epoch: 73.\n",
      "Epoch 173: early stopping\n",
      "40\n",
      "Restoring model weights from the end of the best epoch: 59.\n",
      "Epoch 159: early stopping\n",
      "41\n",
      "Restoring model weights from the end of the best epoch: 44.\n",
      "Epoch 144: early stopping\n",
      "42\n",
      "Restoring model weights from the end of the best epoch: 59.\n",
      "Epoch 159: early stopping\n",
      "43\n",
      "Restoring model weights from the end of the best epoch: 41.\n",
      "Epoch 141: early stopping\n",
      "44\n",
      "Restoring model weights from the end of the best epoch: 34.\n",
      "Epoch 134: early stopping\n",
      "45\n",
      "Restoring model weights from the end of the best epoch: 57.\n",
      "Epoch 157: early stopping\n",
      "46\n",
      "Restoring model weights from the end of the best epoch: 66.\n",
      "Epoch 166: early stopping\n",
      "47\n",
      "Restoring model weights from the end of the best epoch: 50.\n",
      "Epoch 150: early stopping\n",
      "48\n",
      "Restoring model weights from the end of the best epoch: 38.\n",
      "Epoch 138: early stopping\n",
      "49\n",
      "Restoring model weights from the end of the best epoch: 42.\n",
      "Epoch 142: early stopping\n",
      "50\n",
      "Restoring model weights from the end of the best epoch: 59.\n",
      "Epoch 159: early stopping\n"
     ]
    }
   ],
   "source": [
    "wd = \"./results/ANN_results/diff_seeds_NEW\"\n",
    "os.mkdir(wd)\n",
    "for seed in seeds:\n",
    "    print(\"STARTING SEED {}\".format(seed))\n",
    "    seed_dir = os.path.join(wd, str(seed))\n",
    "    mods_dir = os.path.join(seed_dir, \"models\")\n",
    "    hist_dir = os.path.join(seed_dir, \"hists\")\n",
    "    os.mkdir(seed_dir)\n",
    "    os.mkdir(mods_dir)\n",
    "    os.mkdir(hist_dir)\n",
    "    \n",
    "    initializer_seed = tf.keras.initializers.GlorotUniform(seed = seed)\n",
    "    for i in range(50):\n",
    "        print(i+1)\n",
    "        \n",
    "        model_i = Sequential([\n",
    "            Dense(units = 10, input_shape=(11,), activation = \"relu\", kernel_initializer = initializer_seed), # THIS IS THE MODEL\n",
    "            Dense(units = 4, activation = \"softmax\", kernel_initializer = initializer_seed)\n",
    "        ])\n",
    "        \n",
    "        model_i.compile(optimizer=Adam(learning_rate=0.01), loss = \"sparse_categorical_crossentropy\", metrics = [\"accuracy\"]) # COMPILE MODEL\n",
    "        \n",
    "        hist_i = model_i.fit(\n",
    "            x = X_model_train, y = y_model_train, batch_size = 32,\n",
    "            callbacks = [callback], validation_data = (X_model_val, y_model_val),\n",
    "            epochs = 300, shuffle = True, verbose = 0, class_weight =  class_weights_dict # TRAIN MODEL\n",
    "        )\n",
    "        final_epoch = callback.stopped_epoch-100\n",
    "        if final_epoch == -100:\n",
    "            final_epoch = 299\n",
    "        final_acc = round(hist_i.history[\"val_accuracy\"][final_epoch],2)\n",
    "        \n",
    "        model_i.save(os.path.join(mods_dir, \"{}_{}_model_epoch_{}_train_acc_{}.h5\".format(seed, i, final_epoch, round(final_acc, 2)))) # SAVING MODEL\n",
    "        \n",
    "        pd.DataFrame(hist_i.history).to_csv(os.path.join(hist_dir, \"{}_{}_hist_epoch_{}_train_acc_{}.csv\".format(seed, i, final_epoch, round(final_acc, 2))), index = False) # SAVING TRAINING DF"
   ]
  },
  {
   "cell_type": "markdown",
   "metadata": {},
   "source": [
    "## REPEATED STRATIFIED K-FOLD CROSS-VALIDATION"
   ]
  },
  {
   "cell_type": "code",
   "execution_count": 42,
   "metadata": {},
   "outputs": [],
   "source": [
    "rskf = RepeatedStratifiedKFold(n_splits = 10, n_repeats = 10, random_state = 312) #sets are one after other. 0-10, is one 10-fold CV, 10-20, and so on"
   ]
  },
  {
   "cell_type": "code",
   "execution_count": 43,
   "metadata": {
    "collapsed": true,
    "jupyter": {
     "outputs_hidden": true
    }
   },
   "outputs": [
    {
     "name": "stdout",
     "output_type": "stream",
     "text": [
      "747144855 478230860\n",
      "Restoring model weights from the end of the best epoch: 88.\n",
      "Epoch 188: early stopping\n",
      "Restoring model weights from the end of the best epoch: 26.\n",
      "Epoch 126: early stopping\n"
     ]
    },
    {
     "name": "stderr",
     "output_type": "stream",
     "text": [
      "/cluster/gjb_lab/2394007/miniconda/envs/deep_learning/lib/python3.10/site-packages/sklearn/neighbors/_classification.py:207: DataConversionWarning: A column-vector y was passed when a 1d array was expected. Please change the shape of y to (n_samples,), for example using ravel().\n",
      "  return self._fit(X, y)\n",
      "/cluster/gjb_lab/2394007/miniconda/envs/deep_learning/lib/python3.10/site-packages/sklearn/neighbors/_classification.py:207: DataConversionWarning: A column-vector y was passed when a 1d array was expected. Please change the shape of y to (n_samples,), for example using ravel().\n",
      "  return self._fit(X, y)\n"
     ]
    },
    {
     "name": "stdout",
     "output_type": "stream",
     "text": [
      "233640690 213802793\n",
      "Restoring model weights from the end of the best epoch: 85.\n",
      "Epoch 185: early stopping\n",
      "Restoring model weights from the end of the best epoch: 42.\n",
      "Epoch 142: early stopping\n"
     ]
    },
    {
     "name": "stderr",
     "output_type": "stream",
     "text": [
      "/cluster/gjb_lab/2394007/miniconda/envs/deep_learning/lib/python3.10/site-packages/sklearn/neighbors/_classification.py:207: DataConversionWarning: A column-vector y was passed when a 1d array was expected. Please change the shape of y to (n_samples,), for example using ravel().\n",
      "  return self._fit(X, y)\n",
      "/cluster/gjb_lab/2394007/miniconda/envs/deep_learning/lib/python3.10/site-packages/sklearn/neighbors/_classification.py:207: DataConversionWarning: A column-vector y was passed when a 1d array was expected. Please change the shape of y to (n_samples,), for example using ravel().\n",
      "  return self._fit(X, y)\n"
     ]
    },
    {
     "name": "stdout",
     "output_type": "stream",
     "text": [
      "498428205 20367881\n",
      "Restoring model weights from the end of the best epoch: 109.\n",
      "Epoch 209: early stopping\n",
      "WARNING:tensorflow:5 out of the last 5 calls to <function Model.make_predict_function.<locals>.predict_function at 0x2bacc568a950> triggered tf.function retracing. Tracing is expensive and the excessive number of tracings could be due to (1) creating @tf.function repeatedly in a loop, (2) passing tensors with different shapes, (3) passing Python objects instead of tensors. For (1), please define your @tf.function outside of the loop. For (2), @tf.function has reduce_retracing=True option that can avoid unnecessary retracing. For (3), please refer to https://www.tensorflow.org/guide/function#controlling_retracing and https://www.tensorflow.org/api_docs/python/tf/function for  more details.\n",
      "WARNING:tensorflow:6 out of the last 6 calls to <function Model.make_predict_function.<locals>.predict_function at 0x2bacc5efb490> triggered tf.function retracing. Tracing is expensive and the excessive number of tracings could be due to (1) creating @tf.function repeatedly in a loop, (2) passing tensors with different shapes, (3) passing Python objects instead of tensors. For (1), please define your @tf.function outside of the loop. For (2), @tf.function has reduce_retracing=True option that can avoid unnecessary retracing. For (3), please refer to https://www.tensorflow.org/guide/function#controlling_retracing and https://www.tensorflow.org/api_docs/python/tf/function for  more details.\n",
      "886601485 447604770\n"
     ]
    },
    {
     "name": "stderr",
     "output_type": "stream",
     "text": [
      "/cluster/gjb_lab/2394007/miniconda/envs/deep_learning/lib/python3.10/site-packages/sklearn/neighbors/_classification.py:207: DataConversionWarning: A column-vector y was passed when a 1d array was expected. Please change the shape of y to (n_samples,), for example using ravel().\n",
      "  return self._fit(X, y)\n",
      "/cluster/gjb_lab/2394007/miniconda/envs/deep_learning/lib/python3.10/site-packages/sklearn/neighbors/_classification.py:207: DataConversionWarning: A column-vector y was passed when a 1d array was expected. Please change the shape of y to (n_samples,), for example using ravel().\n",
      "  return self._fit(X, y)\n"
     ]
    },
    {
     "name": "stdout",
     "output_type": "stream",
     "text": [
      "Restoring model weights from the end of the best epoch: 95.\n",
      "Epoch 195: early stopping\n",
      "Restoring model weights from the end of the best epoch: 20.\n",
      "Epoch 120: early stopping\n"
     ]
    },
    {
     "name": "stderr",
     "output_type": "stream",
     "text": [
      "/cluster/gjb_lab/2394007/miniconda/envs/deep_learning/lib/python3.10/site-packages/sklearn/neighbors/_classification.py:207: DataConversionWarning: A column-vector y was passed when a 1d array was expected. Please change the shape of y to (n_samples,), for example using ravel().\n",
      "  return self._fit(X, y)\n",
      "/cluster/gjb_lab/2394007/miniconda/envs/deep_learning/lib/python3.10/site-packages/sklearn/neighbors/_classification.py:207: DataConversionWarning: A column-vector y was passed when a 1d array was expected. Please change the shape of y to (n_samples,), for example using ravel().\n",
      "  return self._fit(X, y)\n"
     ]
    },
    {
     "name": "stdout",
     "output_type": "stream",
     "text": [
      "837034836 26649448\n",
      "Restoring model weights from the end of the best epoch: 112.\n",
      "Epoch 212: early stopping\n",
      "Restoring model weights from the end of the best epoch: 1.\n",
      "Epoch 101: early stopping\n"
     ]
    },
    {
     "name": "stderr",
     "output_type": "stream",
     "text": [
      "/cluster/gjb_lab/2394007/miniconda/envs/deep_learning/lib/python3.10/site-packages/sklearn/neighbors/_classification.py:207: DataConversionWarning: A column-vector y was passed when a 1d array was expected. Please change the shape of y to (n_samples,), for example using ravel().\n",
      "  return self._fit(X, y)\n",
      "/cluster/gjb_lab/2394007/miniconda/envs/deep_learning/lib/python3.10/site-packages/sklearn/neighbors/_classification.py:207: DataConversionWarning: A column-vector y was passed when a 1d array was expected. Please change the shape of y to (n_samples,), for example using ravel().\n",
      "  return self._fit(X, y)\n"
     ]
    },
    {
     "name": "stdout",
     "output_type": "stream",
     "text": [
      "729519288 575616614\n",
      "Restoring model weights from the end of the best epoch: 37.\n",
      "Epoch 137: early stopping\n",
      "Restoring model weights from the end of the best epoch: 2.\n",
      "Epoch 102: early stopping\n"
     ]
    },
    {
     "name": "stderr",
     "output_type": "stream",
     "text": [
      "/cluster/gjb_lab/2394007/miniconda/envs/deep_learning/lib/python3.10/site-packages/sklearn/neighbors/_classification.py:207: DataConversionWarning: A column-vector y was passed when a 1d array was expected. Please change the shape of y to (n_samples,), for example using ravel().\n",
      "  return self._fit(X, y)\n",
      "/cluster/gjb_lab/2394007/miniconda/envs/deep_learning/lib/python3.10/site-packages/sklearn/neighbors/_classification.py:207: DataConversionWarning: A column-vector y was passed when a 1d array was expected. Please change the shape of y to (n_samples,), for example using ravel().\n",
      "  return self._fit(X, y)\n"
     ]
    },
    {
     "name": "stdout",
     "output_type": "stream",
     "text": [
      "323357131 737320860\n",
      "Restoring model weights from the end of the best epoch: 161.\n",
      "Epoch 261: early stopping\n",
      "Restoring model weights from the end of the best epoch: 164.\n",
      "Epoch 264: early stopping\n"
     ]
    },
    {
     "name": "stderr",
     "output_type": "stream",
     "text": [
      "/cluster/gjb_lab/2394007/miniconda/envs/deep_learning/lib/python3.10/site-packages/sklearn/neighbors/_classification.py:207: DataConversionWarning: A column-vector y was passed when a 1d array was expected. Please change the shape of y to (n_samples,), for example using ravel().\n",
      "  return self._fit(X, y)\n",
      "/cluster/gjb_lab/2394007/miniconda/envs/deep_learning/lib/python3.10/site-packages/sklearn/neighbors/_classification.py:207: DataConversionWarning: A column-vector y was passed when a 1d array was expected. Please change the shape of y to (n_samples,), for example using ravel().\n",
      "  return self._fit(X, y)\n"
     ]
    },
    {
     "name": "stdout",
     "output_type": "stream",
     "text": [
      "835645491 935383559\n",
      "Restoring model weights from the end of the best epoch: 109.\n",
      "Epoch 209: early stopping\n",
      "Restoring model weights from the end of the best epoch: 4.\n",
      "Epoch 104: early stopping\n"
     ]
    },
    {
     "name": "stderr",
     "output_type": "stream",
     "text": [
      "/cluster/gjb_lab/2394007/miniconda/envs/deep_learning/lib/python3.10/site-packages/sklearn/neighbors/_classification.py:207: DataConversionWarning: A column-vector y was passed when a 1d array was expected. Please change the shape of y to (n_samples,), for example using ravel().\n",
      "  return self._fit(X, y)\n",
      "/cluster/gjb_lab/2394007/miniconda/envs/deep_learning/lib/python3.10/site-packages/sklearn/neighbors/_classification.py:207: DataConversionWarning: A column-vector y was passed when a 1d array was expected. Please change the shape of y to (n_samples,), for example using ravel().\n",
      "  return self._fit(X, y)\n"
     ]
    },
    {
     "name": "stdout",
     "output_type": "stream",
     "text": [
      "464394202 467844447\n",
      "Restoring model weights from the end of the best epoch: 55.\n",
      "Epoch 155: early stopping\n",
      "Restoring model weights from the end of the best epoch: 1.\n",
      "Epoch 101: early stopping\n"
     ]
    },
    {
     "name": "stderr",
     "output_type": "stream",
     "text": [
      "/cluster/gjb_lab/2394007/miniconda/envs/deep_learning/lib/python3.10/site-packages/sklearn/neighbors/_classification.py:207: DataConversionWarning: A column-vector y was passed when a 1d array was expected. Please change the shape of y to (n_samples,), for example using ravel().\n",
      "  return self._fit(X, y)\n",
      "/cluster/gjb_lab/2394007/miniconda/envs/deep_learning/lib/python3.10/site-packages/sklearn/neighbors/_classification.py:207: DataConversionWarning: A column-vector y was passed when a 1d array was expected. Please change the shape of y to (n_samples,), for example using ravel().\n",
      "  return self._fit(X, y)\n"
     ]
    },
    {
     "name": "stdout",
     "output_type": "stream",
     "text": [
      "277933637 294940492\n",
      "Restoring model weights from the end of the best epoch: 100.\n",
      "Epoch 200: early stopping\n",
      "Restoring model weights from the end of the best epoch: 1.\n",
      "Epoch 101: early stopping\n"
     ]
    },
    {
     "name": "stderr",
     "output_type": "stream",
     "text": [
      "/cluster/gjb_lab/2394007/miniconda/envs/deep_learning/lib/python3.10/site-packages/sklearn/neighbors/_classification.py:207: DataConversionWarning: A column-vector y was passed when a 1d array was expected. Please change the shape of y to (n_samples,), for example using ravel().\n",
      "  return self._fit(X, y)\n",
      "/cluster/gjb_lab/2394007/miniconda/envs/deep_learning/lib/python3.10/site-packages/sklearn/neighbors/_classification.py:207: DataConversionWarning: A column-vector y was passed when a 1d array was expected. Please change the shape of y to (n_samples,), for example using ravel().\n",
      "  return self._fit(X, y)\n"
     ]
    },
    {
     "name": "stdout",
     "output_type": "stream",
     "text": [
      "285399543 749447680\n",
      "Restoring model weights from the end of the best epoch: 95.\n",
      "Epoch 195: early stopping\n",
      "Restoring model weights from the end of the best epoch: 3.\n",
      "Epoch 103: early stopping\n"
     ]
    },
    {
     "name": "stderr",
     "output_type": "stream",
     "text": [
      "/cluster/gjb_lab/2394007/miniconda/envs/deep_learning/lib/python3.10/site-packages/sklearn/neighbors/_classification.py:207: DataConversionWarning: A column-vector y was passed when a 1d array was expected. Please change the shape of y to (n_samples,), for example using ravel().\n",
      "  return self._fit(X, y)\n",
      "/cluster/gjb_lab/2394007/miniconda/envs/deep_learning/lib/python3.10/site-packages/sklearn/neighbors/_classification.py:207: DataConversionWarning: A column-vector y was passed when a 1d array was expected. Please change the shape of y to (n_samples,), for example using ravel().\n",
      "  return self._fit(X, y)\n"
     ]
    },
    {
     "name": "stdout",
     "output_type": "stream",
     "text": [
      "995234240 16764251\n",
      "Restoring model weights from the end of the best epoch: 44.\n",
      "Epoch 144: early stopping\n",
      "Restoring model weights from the end of the best epoch: 53.\n",
      "Epoch 153: early stopping\n"
     ]
    },
    {
     "name": "stderr",
     "output_type": "stream",
     "text": [
      "/cluster/gjb_lab/2394007/miniconda/envs/deep_learning/lib/python3.10/site-packages/sklearn/neighbors/_classification.py:207: DataConversionWarning: A column-vector y was passed when a 1d array was expected. Please change the shape of y to (n_samples,), for example using ravel().\n",
      "  return self._fit(X, y)\n",
      "/cluster/gjb_lab/2394007/miniconda/envs/deep_learning/lib/python3.10/site-packages/sklearn/neighbors/_classification.py:207: DataConversionWarning: A column-vector y was passed when a 1d array was expected. Please change the shape of y to (n_samples,), for example using ravel().\n",
      "  return self._fit(X, y)\n"
     ]
    },
    {
     "name": "stdout",
     "output_type": "stream",
     "text": [
      "960796149 637482978\n",
      "Restoring model weights from the end of the best epoch: 88.\n",
      "Epoch 188: early stopping\n",
      "Restoring model weights from the end of the best epoch: 2.\n",
      "Epoch 102: early stopping\n"
     ]
    },
    {
     "name": "stderr",
     "output_type": "stream",
     "text": [
      "/cluster/gjb_lab/2394007/miniconda/envs/deep_learning/lib/python3.10/site-packages/sklearn/neighbors/_classification.py:207: DataConversionWarning: A column-vector y was passed when a 1d array was expected. Please change the shape of y to (n_samples,), for example using ravel().\n",
      "  return self._fit(X, y)\n",
      "/cluster/gjb_lab/2394007/miniconda/envs/deep_learning/lib/python3.10/site-packages/sklearn/neighbors/_classification.py:207: DataConversionWarning: A column-vector y was passed when a 1d array was expected. Please change the shape of y to (n_samples,), for example using ravel().\n",
      "  return self._fit(X, y)\n"
     ]
    },
    {
     "name": "stdout",
     "output_type": "stream",
     "text": [
      "726469465 105493613\n",
      "Restoring model weights from the end of the best epoch: 81.\n",
      "Epoch 181: early stopping\n",
      "Restoring model weights from the end of the best epoch: 59.\n",
      "Epoch 159: early stopping\n"
     ]
    },
    {
     "name": "stderr",
     "output_type": "stream",
     "text": [
      "/cluster/gjb_lab/2394007/miniconda/envs/deep_learning/lib/python3.10/site-packages/sklearn/neighbors/_classification.py:207: DataConversionWarning: A column-vector y was passed when a 1d array was expected. Please change the shape of y to (n_samples,), for example using ravel().\n",
      "  return self._fit(X, y)\n",
      "/cluster/gjb_lab/2394007/miniconda/envs/deep_learning/lib/python3.10/site-packages/sklearn/neighbors/_classification.py:207: DataConversionWarning: A column-vector y was passed when a 1d array was expected. Please change the shape of y to (n_samples,), for example using ravel().\n",
      "  return self._fit(X, y)\n"
     ]
    },
    {
     "name": "stdout",
     "output_type": "stream",
     "text": [
      "528252290 95274307\n",
      "Restoring model weights from the end of the best epoch: 40.\n",
      "Epoch 140: early stopping\n",
      "Restoring model weights from the end of the best epoch: 69.\n",
      "Epoch 169: early stopping\n"
     ]
    },
    {
     "name": "stderr",
     "output_type": "stream",
     "text": [
      "/cluster/gjb_lab/2394007/miniconda/envs/deep_learning/lib/python3.10/site-packages/sklearn/neighbors/_classification.py:207: DataConversionWarning: A column-vector y was passed when a 1d array was expected. Please change the shape of y to (n_samples,), for example using ravel().\n",
      "  return self._fit(X, y)\n",
      "/cluster/gjb_lab/2394007/miniconda/envs/deep_learning/lib/python3.10/site-packages/sklearn/neighbors/_classification.py:207: DataConversionWarning: A column-vector y was passed when a 1d array was expected. Please change the shape of y to (n_samples,), for example using ravel().\n",
      "  return self._fit(X, y)\n"
     ]
    },
    {
     "name": "stdout",
     "output_type": "stream",
     "text": [
      "94935206 474360441\n",
      "Restoring model weights from the end of the best epoch: 57.\n",
      "Epoch 157: early stopping\n",
      "Restoring model weights from the end of the best epoch: 6.\n",
      "Epoch 106: early stopping\n"
     ]
    },
    {
     "name": "stderr",
     "output_type": "stream",
     "text": [
      "/cluster/gjb_lab/2394007/miniconda/envs/deep_learning/lib/python3.10/site-packages/sklearn/neighbors/_classification.py:207: DataConversionWarning: A column-vector y was passed when a 1d array was expected. Please change the shape of y to (n_samples,), for example using ravel().\n",
      "  return self._fit(X, y)\n",
      "/cluster/gjb_lab/2394007/miniconda/envs/deep_learning/lib/python3.10/site-packages/sklearn/neighbors/_classification.py:207: DataConversionWarning: A column-vector y was passed when a 1d array was expected. Please change the shape of y to (n_samples,), for example using ravel().\n",
      "  return self._fit(X, y)\n"
     ]
    },
    {
     "name": "stdout",
     "output_type": "stream",
     "text": [
      "74420678 152711113\n",
      "Restoring model weights from the end of the best epoch: 61.\n",
      "Epoch 161: early stopping\n",
      "Restoring model weights from the end of the best epoch: 16.\n",
      "Epoch 116: early stopping\n"
     ]
    },
    {
     "name": "stderr",
     "output_type": "stream",
     "text": [
      "/cluster/gjb_lab/2394007/miniconda/envs/deep_learning/lib/python3.10/site-packages/sklearn/neighbors/_classification.py:207: DataConversionWarning: A column-vector y was passed when a 1d array was expected. Please change the shape of y to (n_samples,), for example using ravel().\n",
      "  return self._fit(X, y)\n",
      "/cluster/gjb_lab/2394007/miniconda/envs/deep_learning/lib/python3.10/site-packages/sklearn/neighbors/_classification.py:207: DataConversionWarning: A column-vector y was passed when a 1d array was expected. Please change the shape of y to (n_samples,), for example using ravel().\n",
      "  return self._fit(X, y)\n"
     ]
    },
    {
     "name": "stdout",
     "output_type": "stream",
     "text": [
      "894871268 363057116\n",
      "Restoring model weights from the end of the best epoch: 73.\n",
      "Epoch 173: early stopping\n",
      "Restoring model weights from the end of the best epoch: 11.\n",
      "Epoch 111: early stopping\n"
     ]
    },
    {
     "name": "stderr",
     "output_type": "stream",
     "text": [
      "/cluster/gjb_lab/2394007/miniconda/envs/deep_learning/lib/python3.10/site-packages/sklearn/neighbors/_classification.py:207: DataConversionWarning: A column-vector y was passed when a 1d array was expected. Please change the shape of y to (n_samples,), for example using ravel().\n",
      "  return self._fit(X, y)\n",
      "/cluster/gjb_lab/2394007/miniconda/envs/deep_learning/lib/python3.10/site-packages/sklearn/neighbors/_classification.py:207: DataConversionWarning: A column-vector y was passed when a 1d array was expected. Please change the shape of y to (n_samples,), for example using ravel().\n",
      "  return self._fit(X, y)\n"
     ]
    },
    {
     "name": "stdout",
     "output_type": "stream",
     "text": [
      "476156572 289385910\n",
      "Restoring model weights from the end of the best epoch: 44.\n",
      "Epoch 144: early stopping\n",
      "Restoring model weights from the end of the best epoch: 7.\n",
      "Epoch 107: early stopping\n"
     ]
    },
    {
     "name": "stderr",
     "output_type": "stream",
     "text": [
      "/cluster/gjb_lab/2394007/miniconda/envs/deep_learning/lib/python3.10/site-packages/sklearn/neighbors/_classification.py:207: DataConversionWarning: A column-vector y was passed when a 1d array was expected. Please change the shape of y to (n_samples,), for example using ravel().\n",
      "  return self._fit(X, y)\n",
      "/cluster/gjb_lab/2394007/miniconda/envs/deep_learning/lib/python3.10/site-packages/sklearn/neighbors/_classification.py:207: DataConversionWarning: A column-vector y was passed when a 1d array was expected. Please change the shape of y to (n_samples,), for example using ravel().\n",
      "  return self._fit(X, y)\n"
     ]
    },
    {
     "name": "stdout",
     "output_type": "stream",
     "text": [
      "709577191 952056975\n",
      "Restoring model weights from the end of the best epoch: 122.\n",
      "Epoch 222: early stopping\n",
      "Restoring model weights from the end of the best epoch: 7.\n",
      "Epoch 107: early stopping\n"
     ]
    },
    {
     "name": "stderr",
     "output_type": "stream",
     "text": [
      "/cluster/gjb_lab/2394007/miniconda/envs/deep_learning/lib/python3.10/site-packages/sklearn/neighbors/_classification.py:207: DataConversionWarning: A column-vector y was passed when a 1d array was expected. Please change the shape of y to (n_samples,), for example using ravel().\n",
      "  return self._fit(X, y)\n",
      "/cluster/gjb_lab/2394007/miniconda/envs/deep_learning/lib/python3.10/site-packages/sklearn/neighbors/_classification.py:207: DataConversionWarning: A column-vector y was passed when a 1d array was expected. Please change the shape of y to (n_samples,), for example using ravel().\n",
      "  return self._fit(X, y)\n"
     ]
    },
    {
     "name": "stdout",
     "output_type": "stream",
     "text": [
      "802981964 891917937\n",
      "Restoring model weights from the end of the best epoch: 151.\n",
      "Epoch 251: early stopping\n",
      "Restoring model weights from the end of the best epoch: 1.\n",
      "Epoch 101: early stopping\n"
     ]
    },
    {
     "name": "stderr",
     "output_type": "stream",
     "text": [
      "/cluster/gjb_lab/2394007/miniconda/envs/deep_learning/lib/python3.10/site-packages/sklearn/neighbors/_classification.py:207: DataConversionWarning: A column-vector y was passed when a 1d array was expected. Please change the shape of y to (n_samples,), for example using ravel().\n",
      "  return self._fit(X, y)\n",
      "/cluster/gjb_lab/2394007/miniconda/envs/deep_learning/lib/python3.10/site-packages/sklearn/neighbors/_classification.py:207: DataConversionWarning: A column-vector y was passed when a 1d array was expected. Please change the shape of y to (n_samples,), for example using ravel().\n",
      "  return self._fit(X, y)\n"
     ]
    },
    {
     "name": "stdout",
     "output_type": "stream",
     "text": [
      "473232370 506943398\n",
      "Restoring model weights from the end of the best epoch: 87.\n",
      "Epoch 187: early stopping\n",
      "Restoring model weights from the end of the best epoch: 47.\n",
      "Epoch 147: early stopping\n"
     ]
    },
    {
     "name": "stderr",
     "output_type": "stream",
     "text": [
      "/cluster/gjb_lab/2394007/miniconda/envs/deep_learning/lib/python3.10/site-packages/sklearn/neighbors/_classification.py:207: DataConversionWarning: A column-vector y was passed when a 1d array was expected. Please change the shape of y to (n_samples,), for example using ravel().\n",
      "  return self._fit(X, y)\n",
      "/cluster/gjb_lab/2394007/miniconda/envs/deep_learning/lib/python3.10/site-packages/sklearn/neighbors/_classification.py:207: DataConversionWarning: A column-vector y was passed when a 1d array was expected. Please change the shape of y to (n_samples,), for example using ravel().\n",
      "  return self._fit(X, y)\n"
     ]
    },
    {
     "name": "stdout",
     "output_type": "stream",
     "text": [
      "291557026 106458853\n",
      "Restoring model weights from the end of the best epoch: 68.\n",
      "Epoch 168: early stopping\n",
      "Restoring model weights from the end of the best epoch: 63.\n",
      "Epoch 163: early stopping\n"
     ]
    },
    {
     "name": "stderr",
     "output_type": "stream",
     "text": [
      "/cluster/gjb_lab/2394007/miniconda/envs/deep_learning/lib/python3.10/site-packages/sklearn/neighbors/_classification.py:207: DataConversionWarning: A column-vector y was passed when a 1d array was expected. Please change the shape of y to (n_samples,), for example using ravel().\n",
      "  return self._fit(X, y)\n",
      "/cluster/gjb_lab/2394007/miniconda/envs/deep_learning/lib/python3.10/site-packages/sklearn/neighbors/_classification.py:207: DataConversionWarning: A column-vector y was passed when a 1d array was expected. Please change the shape of y to (n_samples,), for example using ravel().\n",
      "  return self._fit(X, y)\n"
     ]
    },
    {
     "name": "stdout",
     "output_type": "stream",
     "text": [
      "157261550 474534432\n",
      "Restoring model weights from the end of the best epoch: 54.\n",
      "Epoch 154: early stopping\n",
      "Restoring model weights from the end of the best epoch: 1.\n",
      "Epoch 101: early stopping\n"
     ]
    },
    {
     "name": "stderr",
     "output_type": "stream",
     "text": [
      "/cluster/gjb_lab/2394007/miniconda/envs/deep_learning/lib/python3.10/site-packages/sklearn/neighbors/_classification.py:207: DataConversionWarning: A column-vector y was passed when a 1d array was expected. Please change the shape of y to (n_samples,), for example using ravel().\n",
      "  return self._fit(X, y)\n",
      "/cluster/gjb_lab/2394007/miniconda/envs/deep_learning/lib/python3.10/site-packages/sklearn/neighbors/_classification.py:207: DataConversionWarning: A column-vector y was passed when a 1d array was expected. Please change the shape of y to (n_samples,), for example using ravel().\n",
      "  return self._fit(X, y)\n"
     ]
    },
    {
     "name": "stdout",
     "output_type": "stream",
     "text": [
      "461501975 211540142\n",
      "Restoring model weights from the end of the best epoch: 88.\n",
      "Epoch 188: early stopping\n",
      "Restoring model weights from the end of the best epoch: 2.\n",
      "Epoch 102: early stopping\n"
     ]
    },
    {
     "name": "stderr",
     "output_type": "stream",
     "text": [
      "/cluster/gjb_lab/2394007/miniconda/envs/deep_learning/lib/python3.10/site-packages/sklearn/neighbors/_classification.py:207: DataConversionWarning: A column-vector y was passed when a 1d array was expected. Please change the shape of y to (n_samples,), for example using ravel().\n",
      "  return self._fit(X, y)\n",
      "/cluster/gjb_lab/2394007/miniconda/envs/deep_learning/lib/python3.10/site-packages/sklearn/neighbors/_classification.py:207: DataConversionWarning: A column-vector y was passed when a 1d array was expected. Please change the shape of y to (n_samples,), for example using ravel().\n",
      "  return self._fit(X, y)\n"
     ]
    },
    {
     "name": "stdout",
     "output_type": "stream",
     "text": [
      "379448879 112656819\n",
      "Restoring model weights from the end of the best epoch: 43.\n",
      "Epoch 143: early stopping\n",
      "Restoring model weights from the end of the best epoch: 1.\n",
      "Epoch 101: early stopping\n"
     ]
    },
    {
     "name": "stderr",
     "output_type": "stream",
     "text": [
      "/cluster/gjb_lab/2394007/miniconda/envs/deep_learning/lib/python3.10/site-packages/sklearn/neighbors/_classification.py:207: DataConversionWarning: A column-vector y was passed when a 1d array was expected. Please change the shape of y to (n_samples,), for example using ravel().\n",
      "  return self._fit(X, y)\n",
      "/cluster/gjb_lab/2394007/miniconda/envs/deep_learning/lib/python3.10/site-packages/sklearn/neighbors/_classification.py:207: DataConversionWarning: A column-vector y was passed when a 1d array was expected. Please change the shape of y to (n_samples,), for example using ravel().\n",
      "  return self._fit(X, y)\n"
     ]
    },
    {
     "name": "stdout",
     "output_type": "stream",
     "text": [
      "192351658 651503829\n",
      "Restoring model weights from the end of the best epoch: 129.\n",
      "Epoch 229: early stopping\n",
      "Restoring model weights from the end of the best epoch: 48.\n",
      "Epoch 148: early stopping\n"
     ]
    },
    {
     "name": "stderr",
     "output_type": "stream",
     "text": [
      "/cluster/gjb_lab/2394007/miniconda/envs/deep_learning/lib/python3.10/site-packages/sklearn/neighbors/_classification.py:207: DataConversionWarning: A column-vector y was passed when a 1d array was expected. Please change the shape of y to (n_samples,), for example using ravel().\n",
      "  return self._fit(X, y)\n",
      "/cluster/gjb_lab/2394007/miniconda/envs/deep_learning/lib/python3.10/site-packages/sklearn/neighbors/_classification.py:207: DataConversionWarning: A column-vector y was passed when a 1d array was expected. Please change the shape of y to (n_samples,), for example using ravel().\n",
      "  return self._fit(X, y)\n"
     ]
    },
    {
     "name": "stdout",
     "output_type": "stream",
     "text": [
      "952547540 735193843\n",
      "Restoring model weights from the end of the best epoch: 98.\n",
      "Epoch 198: early stopping\n",
      "Restoring model weights from the end of the best epoch: 17.\n",
      "Epoch 117: early stopping\n"
     ]
    },
    {
     "name": "stderr",
     "output_type": "stream",
     "text": [
      "/cluster/gjb_lab/2394007/miniconda/envs/deep_learning/lib/python3.10/site-packages/sklearn/neighbors/_classification.py:207: DataConversionWarning: A column-vector y was passed when a 1d array was expected. Please change the shape of y to (n_samples,), for example using ravel().\n",
      "  return self._fit(X, y)\n",
      "/cluster/gjb_lab/2394007/miniconda/envs/deep_learning/lib/python3.10/site-packages/sklearn/neighbors/_classification.py:207: DataConversionWarning: A column-vector y was passed when a 1d array was expected. Please change the shape of y to (n_samples,), for example using ravel().\n",
      "  return self._fit(X, y)\n"
     ]
    },
    {
     "name": "stdout",
     "output_type": "stream",
     "text": [
      "677351560 295320646\n",
      "Restoring model weights from the end of the best epoch: 98.\n",
      "Epoch 198: early stopping\n",
      "Restoring model weights from the end of the best epoch: 75.\n",
      "Epoch 175: early stopping\n"
     ]
    },
    {
     "name": "stderr",
     "output_type": "stream",
     "text": [
      "/cluster/gjb_lab/2394007/miniconda/envs/deep_learning/lib/python3.10/site-packages/sklearn/neighbors/_classification.py:207: DataConversionWarning: A column-vector y was passed when a 1d array was expected. Please change the shape of y to (n_samples,), for example using ravel().\n",
      "  return self._fit(X, y)\n",
      "/cluster/gjb_lab/2394007/miniconda/envs/deep_learning/lib/python3.10/site-packages/sklearn/neighbors/_classification.py:207: DataConversionWarning: A column-vector y was passed when a 1d array was expected. Please change the shape of y to (n_samples,), for example using ravel().\n",
      "  return self._fit(X, y)\n"
     ]
    },
    {
     "name": "stdout",
     "output_type": "stream",
     "text": [
      "891530686 835546609\n",
      "Restoring model weights from the end of the best epoch: 66.\n",
      "Epoch 166: early stopping\n",
      "Restoring model weights from the end of the best epoch: 3.\n",
      "Epoch 103: early stopping\n"
     ]
    },
    {
     "name": "stderr",
     "output_type": "stream",
     "text": [
      "/cluster/gjb_lab/2394007/miniconda/envs/deep_learning/lib/python3.10/site-packages/sklearn/neighbors/_classification.py:207: DataConversionWarning: A column-vector y was passed when a 1d array was expected. Please change the shape of y to (n_samples,), for example using ravel().\n",
      "  return self._fit(X, y)\n",
      "/cluster/gjb_lab/2394007/miniconda/envs/deep_learning/lib/python3.10/site-packages/sklearn/neighbors/_classification.py:207: DataConversionWarning: A column-vector y was passed when a 1d array was expected. Please change the shape of y to (n_samples,), for example using ravel().\n",
      "  return self._fit(X, y)\n"
     ]
    },
    {
     "name": "stdout",
     "output_type": "stream",
     "text": [
      "18965731 841660482\n",
      "Restoring model weights from the end of the best epoch: 87.\n",
      "Epoch 187: early stopping\n",
      "Restoring model weights from the end of the best epoch: 1.\n",
      "Epoch 101: early stopping\n"
     ]
    },
    {
     "name": "stderr",
     "output_type": "stream",
     "text": [
      "/cluster/gjb_lab/2394007/miniconda/envs/deep_learning/lib/python3.10/site-packages/sklearn/neighbors/_classification.py:207: DataConversionWarning: A column-vector y was passed when a 1d array was expected. Please change the shape of y to (n_samples,), for example using ravel().\n",
      "  return self._fit(X, y)\n",
      "/cluster/gjb_lab/2394007/miniconda/envs/deep_learning/lib/python3.10/site-packages/sklearn/neighbors/_classification.py:207: DataConversionWarning: A column-vector y was passed when a 1d array was expected. Please change the shape of y to (n_samples,), for example using ravel().\n",
      "  return self._fit(X, y)\n"
     ]
    },
    {
     "name": "stdout",
     "output_type": "stream",
     "text": [
      "904540291 399286624\n",
      "Restoring model weights from the end of the best epoch: 57.\n",
      "Epoch 157: early stopping\n",
      "Restoring model weights from the end of the best epoch: 53.\n",
      "Epoch 153: early stopping\n"
     ]
    },
    {
     "name": "stderr",
     "output_type": "stream",
     "text": [
      "/cluster/gjb_lab/2394007/miniconda/envs/deep_learning/lib/python3.10/site-packages/sklearn/neighbors/_classification.py:207: DataConversionWarning: A column-vector y was passed when a 1d array was expected. Please change the shape of y to (n_samples,), for example using ravel().\n",
      "  return self._fit(X, y)\n",
      "/cluster/gjb_lab/2394007/miniconda/envs/deep_learning/lib/python3.10/site-packages/sklearn/neighbors/_classification.py:207: DataConversionWarning: A column-vector y was passed when a 1d array was expected. Please change the shape of y to (n_samples,), for example using ravel().\n",
      "  return self._fit(X, y)\n"
     ]
    },
    {
     "name": "stdout",
     "output_type": "stream",
     "text": [
      "84346152 929926057\n",
      "Restoring model weights from the end of the best epoch: 74.\n",
      "Epoch 174: early stopping\n",
      "Restoring model weights from the end of the best epoch: 1.\n",
      "Epoch 101: early stopping\n"
     ]
    },
    {
     "name": "stderr",
     "output_type": "stream",
     "text": [
      "/cluster/gjb_lab/2394007/miniconda/envs/deep_learning/lib/python3.10/site-packages/sklearn/neighbors/_classification.py:207: DataConversionWarning: A column-vector y was passed when a 1d array was expected. Please change the shape of y to (n_samples,), for example using ravel().\n",
      "  return self._fit(X, y)\n",
      "/cluster/gjb_lab/2394007/miniconda/envs/deep_learning/lib/python3.10/site-packages/sklearn/neighbors/_classification.py:207: DataConversionWarning: A column-vector y was passed when a 1d array was expected. Please change the shape of y to (n_samples,), for example using ravel().\n",
      "  return self._fit(X, y)\n"
     ]
    },
    {
     "name": "stdout",
     "output_type": "stream",
     "text": [
      "65607778 604881345\n",
      "Restoring model weights from the end of the best epoch: 99.\n",
      "Epoch 199: early stopping\n",
      "Restoring model weights from the end of the best epoch: 55.\n",
      "Epoch 155: early stopping\n"
     ]
    },
    {
     "name": "stderr",
     "output_type": "stream",
     "text": [
      "/cluster/gjb_lab/2394007/miniconda/envs/deep_learning/lib/python3.10/site-packages/sklearn/neighbors/_classification.py:207: DataConversionWarning: A column-vector y was passed when a 1d array was expected. Please change the shape of y to (n_samples,), for example using ravel().\n",
      "  return self._fit(X, y)\n",
      "/cluster/gjb_lab/2394007/miniconda/envs/deep_learning/lib/python3.10/site-packages/sklearn/neighbors/_classification.py:207: DataConversionWarning: A column-vector y was passed when a 1d array was expected. Please change the shape of y to (n_samples,), for example using ravel().\n",
      "  return self._fit(X, y)\n"
     ]
    },
    {
     "name": "stdout",
     "output_type": "stream",
     "text": [
      "344710837 340293829\n",
      "Restoring model weights from the end of the best epoch: 21.\n",
      "Epoch 121: early stopping\n",
      "Restoring model weights from the end of the best epoch: 1.\n",
      "Epoch 101: early stopping\n"
     ]
    },
    {
     "name": "stderr",
     "output_type": "stream",
     "text": [
      "/cluster/gjb_lab/2394007/miniconda/envs/deep_learning/lib/python3.10/site-packages/sklearn/neighbors/_classification.py:207: DataConversionWarning: A column-vector y was passed when a 1d array was expected. Please change the shape of y to (n_samples,), for example using ravel().\n",
      "  return self._fit(X, y)\n",
      "/cluster/gjb_lab/2394007/miniconda/envs/deep_learning/lib/python3.10/site-packages/sklearn/neighbors/_classification.py:207: DataConversionWarning: A column-vector y was passed when a 1d array was expected. Please change the shape of y to (n_samples,), for example using ravel().\n",
      "  return self._fit(X, y)\n"
     ]
    },
    {
     "name": "stdout",
     "output_type": "stream",
     "text": [
      "771946316 338221798\n",
      "Restoring model weights from the end of the best epoch: 2.\n",
      "Epoch 102: early stopping\n"
     ]
    },
    {
     "name": "stderr",
     "output_type": "stream",
     "text": [
      "/cluster/gjb_lab/2394007/miniconda/envs/deep_learning/lib/python3.10/site-packages/sklearn/neighbors/_classification.py:207: DataConversionWarning: A column-vector y was passed when a 1d array was expected. Please change the shape of y to (n_samples,), for example using ravel().\n",
      "  return self._fit(X, y)\n",
      "/cluster/gjb_lab/2394007/miniconda/envs/deep_learning/lib/python3.10/site-packages/sklearn/neighbors/_classification.py:207: DataConversionWarning: A column-vector y was passed when a 1d array was expected. Please change the shape of y to (n_samples,), for example using ravel().\n",
      "  return self._fit(X, y)\n"
     ]
    },
    {
     "name": "stdout",
     "output_type": "stream",
     "text": [
      "355816341 974160277\n",
      "Restoring model weights from the end of the best epoch: 112.\n",
      "Epoch 212: early stopping\n",
      "Restoring model weights from the end of the best epoch: 9.\n",
      "Epoch 109: early stopping\n"
     ]
    },
    {
     "name": "stderr",
     "output_type": "stream",
     "text": [
      "/cluster/gjb_lab/2394007/miniconda/envs/deep_learning/lib/python3.10/site-packages/sklearn/neighbors/_classification.py:207: DataConversionWarning: A column-vector y was passed when a 1d array was expected. Please change the shape of y to (n_samples,), for example using ravel().\n",
      "  return self._fit(X, y)\n",
      "/cluster/gjb_lab/2394007/miniconda/envs/deep_learning/lib/python3.10/site-packages/sklearn/neighbors/_classification.py:207: DataConversionWarning: A column-vector y was passed when a 1d array was expected. Please change the shape of y to (n_samples,), for example using ravel().\n",
      "  return self._fit(X, y)\n"
     ]
    },
    {
     "name": "stdout",
     "output_type": "stream",
     "text": [
      "334878816 373512705\n",
      "Restoring model weights from the end of the best epoch: 140.\n",
      "Epoch 240: early stopping\n",
      "Restoring model weights from the end of the best epoch: 11.\n",
      "Epoch 111: early stopping\n"
     ]
    },
    {
     "name": "stderr",
     "output_type": "stream",
     "text": [
      "/cluster/gjb_lab/2394007/miniconda/envs/deep_learning/lib/python3.10/site-packages/sklearn/neighbors/_classification.py:207: DataConversionWarning: A column-vector y was passed when a 1d array was expected. Please change the shape of y to (n_samples,), for example using ravel().\n",
      "  return self._fit(X, y)\n",
      "/cluster/gjb_lab/2394007/miniconda/envs/deep_learning/lib/python3.10/site-packages/sklearn/neighbors/_classification.py:207: DataConversionWarning: A column-vector y was passed when a 1d array was expected. Please change the shape of y to (n_samples,), for example using ravel().\n",
      "  return self._fit(X, y)\n"
     ]
    },
    {
     "name": "stdout",
     "output_type": "stream",
     "text": [
      "604438719 606519842\n",
      "Restoring model weights from the end of the best epoch: 153.\n",
      "Epoch 253: early stopping\n",
      "Restoring model weights from the end of the best epoch: 10.\n",
      "Epoch 110: early stopping\n"
     ]
    },
    {
     "name": "stderr",
     "output_type": "stream",
     "text": [
      "/cluster/gjb_lab/2394007/miniconda/envs/deep_learning/lib/python3.10/site-packages/sklearn/neighbors/_classification.py:207: DataConversionWarning: A column-vector y was passed when a 1d array was expected. Please change the shape of y to (n_samples,), for example using ravel().\n",
      "  return self._fit(X, y)\n",
      "/cluster/gjb_lab/2394007/miniconda/envs/deep_learning/lib/python3.10/site-packages/sklearn/neighbors/_classification.py:207: DataConversionWarning: A column-vector y was passed when a 1d array was expected. Please change the shape of y to (n_samples,), for example using ravel().\n",
      "  return self._fit(X, y)\n"
     ]
    },
    {
     "name": "stdout",
     "output_type": "stream",
     "text": [
      "800652626 299682553\n",
      "Restoring model weights from the end of the best epoch: 64.\n",
      "Epoch 164: early stopping\n",
      "Restoring model weights from the end of the best epoch: 1.\n",
      "Epoch 101: early stopping\n"
     ]
    },
    {
     "name": "stderr",
     "output_type": "stream",
     "text": [
      "/cluster/gjb_lab/2394007/miniconda/envs/deep_learning/lib/python3.10/site-packages/sklearn/neighbors/_classification.py:207: DataConversionWarning: A column-vector y was passed when a 1d array was expected. Please change the shape of y to (n_samples,), for example using ravel().\n",
      "  return self._fit(X, y)\n",
      "/cluster/gjb_lab/2394007/miniconda/envs/deep_learning/lib/python3.10/site-packages/sklearn/neighbors/_classification.py:207: DataConversionWarning: A column-vector y was passed when a 1d array was expected. Please change the shape of y to (n_samples,), for example using ravel().\n",
      "  return self._fit(X, y)\n"
     ]
    },
    {
     "name": "stdout",
     "output_type": "stream",
     "text": [
      "275220741 96502518\n",
      "Restoring model weights from the end of the best epoch: 54.\n",
      "Epoch 154: early stopping\n",
      "Restoring model weights from the end of the best epoch: 52.\n",
      "Epoch 152: early stopping\n"
     ]
    },
    {
     "name": "stderr",
     "output_type": "stream",
     "text": [
      "/cluster/gjb_lab/2394007/miniconda/envs/deep_learning/lib/python3.10/site-packages/sklearn/neighbors/_classification.py:207: DataConversionWarning: A column-vector y was passed when a 1d array was expected. Please change the shape of y to (n_samples,), for example using ravel().\n",
      "  return self._fit(X, y)\n",
      "/cluster/gjb_lab/2394007/miniconda/envs/deep_learning/lib/python3.10/site-packages/sklearn/neighbors/_classification.py:207: DataConversionWarning: A column-vector y was passed when a 1d array was expected. Please change the shape of y to (n_samples,), for example using ravel().\n",
      "  return self._fit(X, y)\n"
     ]
    },
    {
     "name": "stdout",
     "output_type": "stream",
     "text": [
      "776466860 63641067\n",
      "Restoring model weights from the end of the best epoch: 28.\n",
      "Epoch 128: early stopping\n",
      "Restoring model weights from the end of the best epoch: 3.\n",
      "Epoch 103: early stopping\n"
     ]
    },
    {
     "name": "stderr",
     "output_type": "stream",
     "text": [
      "/cluster/gjb_lab/2394007/miniconda/envs/deep_learning/lib/python3.10/site-packages/sklearn/neighbors/_classification.py:207: DataConversionWarning: A column-vector y was passed when a 1d array was expected. Please change the shape of y to (n_samples,), for example using ravel().\n",
      "  return self._fit(X, y)\n",
      "/cluster/gjb_lab/2394007/miniconda/envs/deep_learning/lib/python3.10/site-packages/sklearn/neighbors/_classification.py:207: DataConversionWarning: A column-vector y was passed when a 1d array was expected. Please change the shape of y to (n_samples,), for example using ravel().\n",
      "  return self._fit(X, y)\n"
     ]
    },
    {
     "name": "stdout",
     "output_type": "stream",
     "text": [
      "61443476 741676302\n",
      "Restoring model weights from the end of the best epoch: 50.\n",
      "Epoch 150: early stopping\n",
      "Restoring model weights from the end of the best epoch: 34.\n",
      "Epoch 134: early stopping\n"
     ]
    },
    {
     "name": "stderr",
     "output_type": "stream",
     "text": [
      "/cluster/gjb_lab/2394007/miniconda/envs/deep_learning/lib/python3.10/site-packages/sklearn/neighbors/_classification.py:207: DataConversionWarning: A column-vector y was passed when a 1d array was expected. Please change the shape of y to (n_samples,), for example using ravel().\n",
      "  return self._fit(X, y)\n",
      "/cluster/gjb_lab/2394007/miniconda/envs/deep_learning/lib/python3.10/site-packages/sklearn/neighbors/_classification.py:207: DataConversionWarning: A column-vector y was passed when a 1d array was expected. Please change the shape of y to (n_samples,), for example using ravel().\n",
      "  return self._fit(X, y)\n"
     ]
    },
    {
     "name": "stdout",
     "output_type": "stream",
     "text": [
      "674539112 316609760\n",
      "Restoring model weights from the end of the best epoch: 194.\n",
      "Epoch 294: early stopping\n",
      "Restoring model weights from the end of the best epoch: 1.\n",
      "Epoch 101: early stopping\n"
     ]
    },
    {
     "name": "stderr",
     "output_type": "stream",
     "text": [
      "/cluster/gjb_lab/2394007/miniconda/envs/deep_learning/lib/python3.10/site-packages/sklearn/neighbors/_classification.py:207: DataConversionWarning: A column-vector y was passed when a 1d array was expected. Please change the shape of y to (n_samples,), for example using ravel().\n",
      "  return self._fit(X, y)\n",
      "/cluster/gjb_lab/2394007/miniconda/envs/deep_learning/lib/python3.10/site-packages/sklearn/neighbors/_classification.py:207: DataConversionWarning: A column-vector y was passed when a 1d array was expected. Please change the shape of y to (n_samples,), for example using ravel().\n",
      "  return self._fit(X, y)\n"
     ]
    },
    {
     "name": "stdout",
     "output_type": "stream",
     "text": [
      "635056963 47423014\n",
      "Restoring model weights from the end of the best epoch: 86.\n",
      "Epoch 186: early stopping\n",
      "Restoring model weights from the end of the best epoch: 33.\n",
      "Epoch 133: early stopping\n"
     ]
    },
    {
     "name": "stderr",
     "output_type": "stream",
     "text": [
      "/cluster/gjb_lab/2394007/miniconda/envs/deep_learning/lib/python3.10/site-packages/sklearn/neighbors/_classification.py:207: DataConversionWarning: A column-vector y was passed when a 1d array was expected. Please change the shape of y to (n_samples,), for example using ravel().\n",
      "  return self._fit(X, y)\n",
      "/cluster/gjb_lab/2394007/miniconda/envs/deep_learning/lib/python3.10/site-packages/sklearn/neighbors/_classification.py:207: DataConversionWarning: A column-vector y was passed when a 1d array was expected. Please change the shape of y to (n_samples,), for example using ravel().\n",
      "  return self._fit(X, y)\n"
     ]
    },
    {
     "name": "stdout",
     "output_type": "stream",
     "text": [
      "216688440 306036521\n",
      "Restoring model weights from the end of the best epoch: 96.\n",
      "Epoch 196: early stopping\n",
      "Restoring model weights from the end of the best epoch: 2.\n",
      "Epoch 102: early stopping\n"
     ]
    },
    {
     "name": "stderr",
     "output_type": "stream",
     "text": [
      "/cluster/gjb_lab/2394007/miniconda/envs/deep_learning/lib/python3.10/site-packages/sklearn/neighbors/_classification.py:207: DataConversionWarning: A column-vector y was passed when a 1d array was expected. Please change the shape of y to (n_samples,), for example using ravel().\n",
      "  return self._fit(X, y)\n",
      "/cluster/gjb_lab/2394007/miniconda/envs/deep_learning/lib/python3.10/site-packages/sklearn/neighbors/_classification.py:207: DataConversionWarning: A column-vector y was passed when a 1d array was expected. Please change the shape of y to (n_samples,), for example using ravel().\n",
      "  return self._fit(X, y)\n"
     ]
    },
    {
     "name": "stdout",
     "output_type": "stream",
     "text": [
      "333120624 378193391\n",
      "Restoring model weights from the end of the best epoch: 65.\n",
      "Epoch 165: early stopping\n",
      "Restoring model weights from the end of the best epoch: 3.\n",
      "Epoch 103: early stopping\n"
     ]
    },
    {
     "name": "stderr",
     "output_type": "stream",
     "text": [
      "/cluster/gjb_lab/2394007/miniconda/envs/deep_learning/lib/python3.10/site-packages/sklearn/neighbors/_classification.py:207: DataConversionWarning: A column-vector y was passed when a 1d array was expected. Please change the shape of y to (n_samples,), for example using ravel().\n",
      "  return self._fit(X, y)\n",
      "/cluster/gjb_lab/2394007/miniconda/envs/deep_learning/lib/python3.10/site-packages/sklearn/neighbors/_classification.py:207: DataConversionWarning: A column-vector y was passed when a 1d array was expected. Please change the shape of y to (n_samples,), for example using ravel().\n",
      "  return self._fit(X, y)\n"
     ]
    },
    {
     "name": "stdout",
     "output_type": "stream",
     "text": [
      "514543225 534406824\n",
      "Restoring model weights from the end of the best epoch: 179.\n",
      "Epoch 279: early stopping\n",
      "Restoring model weights from the end of the best epoch: 60.\n",
      "Epoch 160: early stopping\n"
     ]
    },
    {
     "name": "stderr",
     "output_type": "stream",
     "text": [
      "/cluster/gjb_lab/2394007/miniconda/envs/deep_learning/lib/python3.10/site-packages/sklearn/neighbors/_classification.py:207: DataConversionWarning: A column-vector y was passed when a 1d array was expected. Please change the shape of y to (n_samples,), for example using ravel().\n",
      "  return self._fit(X, y)\n",
      "/cluster/gjb_lab/2394007/miniconda/envs/deep_learning/lib/python3.10/site-packages/sklearn/neighbors/_classification.py:207: DataConversionWarning: A column-vector y was passed when a 1d array was expected. Please change the shape of y to (n_samples,), for example using ravel().\n",
      "  return self._fit(X, y)\n"
     ]
    },
    {
     "name": "stdout",
     "output_type": "stream",
     "text": [
      "14982832 468788254\n",
      "Restoring model weights from the end of the best epoch: 38.\n",
      "Epoch 138: early stopping\n",
      "Restoring model weights from the end of the best epoch: 31.\n",
      "Epoch 131: early stopping\n"
     ]
    },
    {
     "name": "stderr",
     "output_type": "stream",
     "text": [
      "/cluster/gjb_lab/2394007/miniconda/envs/deep_learning/lib/python3.10/site-packages/sklearn/neighbors/_classification.py:207: DataConversionWarning: A column-vector y was passed when a 1d array was expected. Please change the shape of y to (n_samples,), for example using ravel().\n",
      "  return self._fit(X, y)\n",
      "/cluster/gjb_lab/2394007/miniconda/envs/deep_learning/lib/python3.10/site-packages/sklearn/neighbors/_classification.py:207: DataConversionWarning: A column-vector y was passed when a 1d array was expected. Please change the shape of y to (n_samples,), for example using ravel().\n",
      "  return self._fit(X, y)\n"
     ]
    },
    {
     "name": "stdout",
     "output_type": "stream",
     "text": [
      "32757255 172120130\n",
      "Restoring model weights from the end of the best epoch: 65.\n",
      "Epoch 165: early stopping\n",
      "Restoring model weights from the end of the best epoch: 3.\n",
      "Epoch 103: early stopping\n"
     ]
    },
    {
     "name": "stderr",
     "output_type": "stream",
     "text": [
      "/cluster/gjb_lab/2394007/miniconda/envs/deep_learning/lib/python3.10/site-packages/sklearn/neighbors/_classification.py:207: DataConversionWarning: A column-vector y was passed when a 1d array was expected. Please change the shape of y to (n_samples,), for example using ravel().\n",
      "  return self._fit(X, y)\n",
      "/cluster/gjb_lab/2394007/miniconda/envs/deep_learning/lib/python3.10/site-packages/sklearn/neighbors/_classification.py:207: DataConversionWarning: A column-vector y was passed when a 1d array was expected. Please change the shape of y to (n_samples,), for example using ravel().\n",
      "  return self._fit(X, y)\n"
     ]
    },
    {
     "name": "stdout",
     "output_type": "stream",
     "text": [
      "509720758 407856998\n",
      "Restoring model weights from the end of the best epoch: 87.\n",
      "Epoch 187: early stopping\n",
      "Restoring model weights from the end of the best epoch: 3.\n",
      "Epoch 103: early stopping\n"
     ]
    },
    {
     "name": "stderr",
     "output_type": "stream",
     "text": [
      "/cluster/gjb_lab/2394007/miniconda/envs/deep_learning/lib/python3.10/site-packages/sklearn/neighbors/_classification.py:207: DataConversionWarning: A column-vector y was passed when a 1d array was expected. Please change the shape of y to (n_samples,), for example using ravel().\n",
      "  return self._fit(X, y)\n",
      "/cluster/gjb_lab/2394007/miniconda/envs/deep_learning/lib/python3.10/site-packages/sklearn/neighbors/_classification.py:207: DataConversionWarning: A column-vector y was passed when a 1d array was expected. Please change the shape of y to (n_samples,), for example using ravel().\n",
      "  return self._fit(X, y)\n"
     ]
    },
    {
     "name": "stdout",
     "output_type": "stream",
     "text": [
      "817459165 415495359\n",
      "Restoring model weights from the end of the best epoch: 80.\n",
      "Epoch 180: early stopping\n",
      "Restoring model weights from the end of the best epoch: 90.\n",
      "Epoch 190: early stopping\n"
     ]
    },
    {
     "name": "stderr",
     "output_type": "stream",
     "text": [
      "/cluster/gjb_lab/2394007/miniconda/envs/deep_learning/lib/python3.10/site-packages/sklearn/neighbors/_classification.py:207: DataConversionWarning: A column-vector y was passed when a 1d array was expected. Please change the shape of y to (n_samples,), for example using ravel().\n",
      "  return self._fit(X, y)\n",
      "/cluster/gjb_lab/2394007/miniconda/envs/deep_learning/lib/python3.10/site-packages/sklearn/neighbors/_classification.py:207: DataConversionWarning: A column-vector y was passed when a 1d array was expected. Please change the shape of y to (n_samples,), for example using ravel().\n",
      "  return self._fit(X, y)\n"
     ]
    },
    {
     "name": "stdout",
     "output_type": "stream",
     "text": [
      "14463059 579893383\n",
      "Restoring model weights from the end of the best epoch: 163.\n",
      "Epoch 263: early stopping\n",
      "Restoring model weights from the end of the best epoch: 53.\n",
      "Epoch 153: early stopping\n"
     ]
    },
    {
     "name": "stderr",
     "output_type": "stream",
     "text": [
      "/cluster/gjb_lab/2394007/miniconda/envs/deep_learning/lib/python3.10/site-packages/sklearn/neighbors/_classification.py:207: DataConversionWarning: A column-vector y was passed when a 1d array was expected. Please change the shape of y to (n_samples,), for example using ravel().\n",
      "  return self._fit(X, y)\n",
      "/cluster/gjb_lab/2394007/miniconda/envs/deep_learning/lib/python3.10/site-packages/sklearn/neighbors/_classification.py:207: DataConversionWarning: A column-vector y was passed when a 1d array was expected. Please change the shape of y to (n_samples,), for example using ravel().\n",
      "  return self._fit(X, y)\n"
     ]
    },
    {
     "name": "stdout",
     "output_type": "stream",
     "text": [
      "699306357 91046845\n",
      "Restoring model weights from the end of the best epoch: 53.\n",
      "Epoch 153: early stopping\n",
      "Restoring model weights from the end of the best epoch: 10.\n",
      "Epoch 110: early stopping\n"
     ]
    },
    {
     "name": "stderr",
     "output_type": "stream",
     "text": [
      "/cluster/gjb_lab/2394007/miniconda/envs/deep_learning/lib/python3.10/site-packages/sklearn/neighbors/_classification.py:207: DataConversionWarning: A column-vector y was passed when a 1d array was expected. Please change the shape of y to (n_samples,), for example using ravel().\n",
      "  return self._fit(X, y)\n",
      "/cluster/gjb_lab/2394007/miniconda/envs/deep_learning/lib/python3.10/site-packages/sklearn/neighbors/_classification.py:207: DataConversionWarning: A column-vector y was passed when a 1d array was expected. Please change the shape of y to (n_samples,), for example using ravel().\n",
      "  return self._fit(X, y)\n"
     ]
    },
    {
     "name": "stdout",
     "output_type": "stream",
     "text": [
      "223718013 793061434\n",
      "Restoring model weights from the end of the best epoch: 95.\n",
      "Epoch 195: early stopping\n",
      "Restoring model weights from the end of the best epoch: 1.\n",
      "Epoch 101: early stopping\n"
     ]
    },
    {
     "name": "stderr",
     "output_type": "stream",
     "text": [
      "/cluster/gjb_lab/2394007/miniconda/envs/deep_learning/lib/python3.10/site-packages/sklearn/neighbors/_classification.py:207: DataConversionWarning: A column-vector y was passed when a 1d array was expected. Please change the shape of y to (n_samples,), for example using ravel().\n",
      "  return self._fit(X, y)\n",
      "/cluster/gjb_lab/2394007/miniconda/envs/deep_learning/lib/python3.10/site-packages/sklearn/neighbors/_classification.py:207: DataConversionWarning: A column-vector y was passed when a 1d array was expected. Please change the shape of y to (n_samples,), for example using ravel().\n",
      "  return self._fit(X, y)\n"
     ]
    },
    {
     "name": "stdout",
     "output_type": "stream",
     "text": [
      "951317982 708112771\n",
      "Restoring model weights from the end of the best epoch: 62.\n",
      "Epoch 162: early stopping\n",
      "Restoring model weights from the end of the best epoch: 1.\n",
      "Epoch 101: early stopping\n"
     ]
    },
    {
     "name": "stderr",
     "output_type": "stream",
     "text": [
      "/cluster/gjb_lab/2394007/miniconda/envs/deep_learning/lib/python3.10/site-packages/sklearn/neighbors/_classification.py:207: DataConversionWarning: A column-vector y was passed when a 1d array was expected. Please change the shape of y to (n_samples,), for example using ravel().\n",
      "  return self._fit(X, y)\n",
      "/cluster/gjb_lab/2394007/miniconda/envs/deep_learning/lib/python3.10/site-packages/sklearn/neighbors/_classification.py:207: DataConversionWarning: A column-vector y was passed when a 1d array was expected. Please change the shape of y to (n_samples,), for example using ravel().\n",
      "  return self._fit(X, y)\n"
     ]
    },
    {
     "name": "stdout",
     "output_type": "stream",
     "text": [
      "56774150 725145779\n",
      "Restoring model weights from the end of the best epoch: 64.\n",
      "Epoch 164: early stopping\n",
      "Restoring model weights from the end of the best epoch: 19.\n",
      "Epoch 119: early stopping\n"
     ]
    },
    {
     "name": "stderr",
     "output_type": "stream",
     "text": [
      "/cluster/gjb_lab/2394007/miniconda/envs/deep_learning/lib/python3.10/site-packages/sklearn/neighbors/_classification.py:207: DataConversionWarning: A column-vector y was passed when a 1d array was expected. Please change the shape of y to (n_samples,), for example using ravel().\n",
      "  return self._fit(X, y)\n",
      "/cluster/gjb_lab/2394007/miniconda/envs/deep_learning/lib/python3.10/site-packages/sklearn/neighbors/_classification.py:207: DataConversionWarning: A column-vector y was passed when a 1d array was expected. Please change the shape of y to (n_samples,), for example using ravel().\n",
      "  return self._fit(X, y)\n"
     ]
    },
    {
     "name": "stdout",
     "output_type": "stream",
     "text": [
      "27185596 406624461\n",
      "Restoring model weights from the end of the best epoch: 55.\n",
      "Epoch 155: early stopping\n",
      "Restoring model weights from the end of the best epoch: 77.\n",
      "Epoch 177: early stopping\n"
     ]
    },
    {
     "name": "stderr",
     "output_type": "stream",
     "text": [
      "/cluster/gjb_lab/2394007/miniconda/envs/deep_learning/lib/python3.10/site-packages/sklearn/neighbors/_classification.py:207: DataConversionWarning: A column-vector y was passed when a 1d array was expected. Please change the shape of y to (n_samples,), for example using ravel().\n",
      "  return self._fit(X, y)\n",
      "/cluster/gjb_lab/2394007/miniconda/envs/deep_learning/lib/python3.10/site-packages/sklearn/neighbors/_classification.py:207: DataConversionWarning: A column-vector y was passed when a 1d array was expected. Please change the shape of y to (n_samples,), for example using ravel().\n",
      "  return self._fit(X, y)\n"
     ]
    },
    {
     "name": "stdout",
     "output_type": "stream",
     "text": [
      "434293092 939832101\n",
      "Restoring model weights from the end of the best epoch: 74.\n",
      "Epoch 174: early stopping\n",
      "Restoring model weights from the end of the best epoch: 3.\n",
      "Epoch 103: early stopping\n"
     ]
    },
    {
     "name": "stderr",
     "output_type": "stream",
     "text": [
      "/cluster/gjb_lab/2394007/miniconda/envs/deep_learning/lib/python3.10/site-packages/sklearn/neighbors/_classification.py:207: DataConversionWarning: A column-vector y was passed when a 1d array was expected. Please change the shape of y to (n_samples,), for example using ravel().\n",
      "  return self._fit(X, y)\n",
      "/cluster/gjb_lab/2394007/miniconda/envs/deep_learning/lib/python3.10/site-packages/sklearn/neighbors/_classification.py:207: DataConversionWarning: A column-vector y was passed when a 1d array was expected. Please change the shape of y to (n_samples,), for example using ravel().\n",
      "  return self._fit(X, y)\n"
     ]
    },
    {
     "name": "stdout",
     "output_type": "stream",
     "text": [
      "366846536 671380913\n",
      "Restoring model weights from the end of the best epoch: 84.\n",
      "Epoch 184: early stopping\n",
      "Restoring model weights from the end of the best epoch: 69.\n",
      "Epoch 169: early stopping\n"
     ]
    },
    {
     "name": "stderr",
     "output_type": "stream",
     "text": [
      "/cluster/gjb_lab/2394007/miniconda/envs/deep_learning/lib/python3.10/site-packages/sklearn/neighbors/_classification.py:207: DataConversionWarning: A column-vector y was passed when a 1d array was expected. Please change the shape of y to (n_samples,), for example using ravel().\n",
      "  return self._fit(X, y)\n",
      "/cluster/gjb_lab/2394007/miniconda/envs/deep_learning/lib/python3.10/site-packages/sklearn/neighbors/_classification.py:207: DataConversionWarning: A column-vector y was passed when a 1d array was expected. Please change the shape of y to (n_samples,), for example using ravel().\n",
      "  return self._fit(X, y)\n"
     ]
    },
    {
     "name": "stdout",
     "output_type": "stream",
     "text": [
      "384615747 728471695\n",
      "Restoring model weights from the end of the best epoch: 163.\n",
      "Epoch 263: early stopping\n",
      "Restoring model weights from the end of the best epoch: 163.\n",
      "Epoch 263: early stopping\n"
     ]
    },
    {
     "name": "stderr",
     "output_type": "stream",
     "text": [
      "/cluster/gjb_lab/2394007/miniconda/envs/deep_learning/lib/python3.10/site-packages/sklearn/neighbors/_classification.py:207: DataConversionWarning: A column-vector y was passed when a 1d array was expected. Please change the shape of y to (n_samples,), for example using ravel().\n",
      "  return self._fit(X, y)\n",
      "/cluster/gjb_lab/2394007/miniconda/envs/deep_learning/lib/python3.10/site-packages/sklearn/neighbors/_classification.py:207: DataConversionWarning: A column-vector y was passed when a 1d array was expected. Please change the shape of y to (n_samples,), for example using ravel().\n",
      "  return self._fit(X, y)\n"
     ]
    },
    {
     "name": "stdout",
     "output_type": "stream",
     "text": [
      "480787218 817077244\n",
      "Restoring model weights from the end of the best epoch: 54.\n",
      "Epoch 154: early stopping\n",
      "Restoring model weights from the end of the best epoch: 2.\n",
      "Epoch 102: early stopping\n"
     ]
    },
    {
     "name": "stderr",
     "output_type": "stream",
     "text": [
      "/cluster/gjb_lab/2394007/miniconda/envs/deep_learning/lib/python3.10/site-packages/sklearn/neighbors/_classification.py:207: DataConversionWarning: A column-vector y was passed when a 1d array was expected. Please change the shape of y to (n_samples,), for example using ravel().\n",
      "  return self._fit(X, y)\n",
      "/cluster/gjb_lab/2394007/miniconda/envs/deep_learning/lib/python3.10/site-packages/sklearn/neighbors/_classification.py:207: DataConversionWarning: A column-vector y was passed when a 1d array was expected. Please change the shape of y to (n_samples,), for example using ravel().\n",
      "  return self._fit(X, y)\n"
     ]
    },
    {
     "name": "stdout",
     "output_type": "stream",
     "text": [
      "449430090 945464931\n",
      "Restoring model weights from the end of the best epoch: 84.\n",
      "Epoch 184: early stopping\n",
      "Restoring model weights from the end of the best epoch: 1.\n",
      "Epoch 101: early stopping\n"
     ]
    },
    {
     "name": "stderr",
     "output_type": "stream",
     "text": [
      "/cluster/gjb_lab/2394007/miniconda/envs/deep_learning/lib/python3.10/site-packages/sklearn/neighbors/_classification.py:207: DataConversionWarning: A column-vector y was passed when a 1d array was expected. Please change the shape of y to (n_samples,), for example using ravel().\n",
      "  return self._fit(X, y)\n",
      "/cluster/gjb_lab/2394007/miniconda/envs/deep_learning/lib/python3.10/site-packages/sklearn/neighbors/_classification.py:207: DataConversionWarning: A column-vector y was passed when a 1d array was expected. Please change the shape of y to (n_samples,), for example using ravel().\n",
      "  return self._fit(X, y)\n"
     ]
    },
    {
     "name": "stdout",
     "output_type": "stream",
     "text": [
      "319374398 754374768\n",
      "Restoring model weights from the end of the best epoch: 154.\n",
      "Epoch 254: early stopping\n",
      "Restoring model weights from the end of the best epoch: 54.\n",
      "Epoch 154: early stopping\n"
     ]
    },
    {
     "name": "stderr",
     "output_type": "stream",
     "text": [
      "/cluster/gjb_lab/2394007/miniconda/envs/deep_learning/lib/python3.10/site-packages/sklearn/neighbors/_classification.py:207: DataConversionWarning: A column-vector y was passed when a 1d array was expected. Please change the shape of y to (n_samples,), for example using ravel().\n",
      "  return self._fit(X, y)\n",
      "/cluster/gjb_lab/2394007/miniconda/envs/deep_learning/lib/python3.10/site-packages/sklearn/neighbors/_classification.py:207: DataConversionWarning: A column-vector y was passed when a 1d array was expected. Please change the shape of y to (n_samples,), for example using ravel().\n",
      "  return self._fit(X, y)\n"
     ]
    },
    {
     "name": "stdout",
     "output_type": "stream",
     "text": [
      "515164596 76689474\n",
      "Restoring model weights from the end of the best epoch: 29.\n",
      "Epoch 129: early stopping\n",
      "Restoring model weights from the end of the best epoch: 11.\n",
      "Epoch 111: early stopping\n"
     ]
    },
    {
     "name": "stderr",
     "output_type": "stream",
     "text": [
      "/cluster/gjb_lab/2394007/miniconda/envs/deep_learning/lib/python3.10/site-packages/sklearn/neighbors/_classification.py:207: DataConversionWarning: A column-vector y was passed when a 1d array was expected. Please change the shape of y to (n_samples,), for example using ravel().\n",
      "  return self._fit(X, y)\n",
      "/cluster/gjb_lab/2394007/miniconda/envs/deep_learning/lib/python3.10/site-packages/sklearn/neighbors/_classification.py:207: DataConversionWarning: A column-vector y was passed when a 1d array was expected. Please change the shape of y to (n_samples,), for example using ravel().\n",
      "  return self._fit(X, y)\n"
     ]
    },
    {
     "name": "stdout",
     "output_type": "stream",
     "text": [
      "499894160 701259274\n",
      "Restoring model weights from the end of the best epoch: 121.\n",
      "Epoch 221: early stopping\n",
      "Restoring model weights from the end of the best epoch: 14.\n",
      "Epoch 114: early stopping\n"
     ]
    },
    {
     "name": "stderr",
     "output_type": "stream",
     "text": [
      "/cluster/gjb_lab/2394007/miniconda/envs/deep_learning/lib/python3.10/site-packages/sklearn/neighbors/_classification.py:207: DataConversionWarning: A column-vector y was passed when a 1d array was expected. Please change the shape of y to (n_samples,), for example using ravel().\n",
      "  return self._fit(X, y)\n",
      "/cluster/gjb_lab/2394007/miniconda/envs/deep_learning/lib/python3.10/site-packages/sklearn/neighbors/_classification.py:207: DataConversionWarning: A column-vector y was passed when a 1d array was expected. Please change the shape of y to (n_samples,), for example using ravel().\n",
      "  return self._fit(X, y)\n"
     ]
    },
    {
     "name": "stdout",
     "output_type": "stream",
     "text": [
      "480356687 170814759\n",
      "Restoring model weights from the end of the best epoch: 138.\n",
      "Epoch 238: early stopping\n",
      "Restoring model weights from the end of the best epoch: 4.\n",
      "Epoch 104: early stopping\n"
     ]
    },
    {
     "name": "stderr",
     "output_type": "stream",
     "text": [
      "/cluster/gjb_lab/2394007/miniconda/envs/deep_learning/lib/python3.10/site-packages/sklearn/neighbors/_classification.py:207: DataConversionWarning: A column-vector y was passed when a 1d array was expected. Please change the shape of y to (n_samples,), for example using ravel().\n",
      "  return self._fit(X, y)\n",
      "/cluster/gjb_lab/2394007/miniconda/envs/deep_learning/lib/python3.10/site-packages/sklearn/neighbors/_classification.py:207: DataConversionWarning: A column-vector y was passed when a 1d array was expected. Please change the shape of y to (n_samples,), for example using ravel().\n",
      "  return self._fit(X, y)\n"
     ]
    },
    {
     "name": "stdout",
     "output_type": "stream",
     "text": [
      "433836512 736152011\n",
      "Restoring model weights from the end of the best epoch: 112.\n",
      "Epoch 212: early stopping\n",
      "Restoring model weights from the end of the best epoch: 10.\n",
      "Epoch 110: early stopping\n"
     ]
    },
    {
     "name": "stderr",
     "output_type": "stream",
     "text": [
      "/cluster/gjb_lab/2394007/miniconda/envs/deep_learning/lib/python3.10/site-packages/sklearn/neighbors/_classification.py:207: DataConversionWarning: A column-vector y was passed when a 1d array was expected. Please change the shape of y to (n_samples,), for example using ravel().\n",
      "  return self._fit(X, y)\n",
      "/cluster/gjb_lab/2394007/miniconda/envs/deep_learning/lib/python3.10/site-packages/sklearn/neighbors/_classification.py:207: DataConversionWarning: A column-vector y was passed when a 1d array was expected. Please change the shape of y to (n_samples,), for example using ravel().\n",
      "  return self._fit(X, y)\n"
     ]
    },
    {
     "name": "stdout",
     "output_type": "stream",
     "text": [
      "83225106 999028730\n",
      "Restoring model weights from the end of the best epoch: 82.\n",
      "Epoch 182: early stopping\n",
      "Restoring model weights from the end of the best epoch: 8.\n",
      "Epoch 108: early stopping\n"
     ]
    },
    {
     "name": "stderr",
     "output_type": "stream",
     "text": [
      "/cluster/gjb_lab/2394007/miniconda/envs/deep_learning/lib/python3.10/site-packages/sklearn/neighbors/_classification.py:207: DataConversionWarning: A column-vector y was passed when a 1d array was expected. Please change the shape of y to (n_samples,), for example using ravel().\n",
      "  return self._fit(X, y)\n",
      "/cluster/gjb_lab/2394007/miniconda/envs/deep_learning/lib/python3.10/site-packages/sklearn/neighbors/_classification.py:207: DataConversionWarning: A column-vector y was passed when a 1d array was expected. Please change the shape of y to (n_samples,), for example using ravel().\n",
      "  return self._fit(X, y)\n"
     ]
    },
    {
     "name": "stdout",
     "output_type": "stream",
     "text": [
      "55807072 156213038\n",
      "Restoring model weights from the end of the best epoch: 132.\n",
      "Epoch 232: early stopping\n",
      "Restoring model weights from the end of the best epoch: 3.\n",
      "Epoch 103: early stopping\n"
     ]
    },
    {
     "name": "stderr",
     "output_type": "stream",
     "text": [
      "/cluster/gjb_lab/2394007/miniconda/envs/deep_learning/lib/python3.10/site-packages/sklearn/neighbors/_classification.py:207: DataConversionWarning: A column-vector y was passed when a 1d array was expected. Please change the shape of y to (n_samples,), for example using ravel().\n",
      "  return self._fit(X, y)\n",
      "/cluster/gjb_lab/2394007/miniconda/envs/deep_learning/lib/python3.10/site-packages/sklearn/neighbors/_classification.py:207: DataConversionWarning: A column-vector y was passed when a 1d array was expected. Please change the shape of y to (n_samples,), for example using ravel().\n",
      "  return self._fit(X, y)\n"
     ]
    },
    {
     "name": "stdout",
     "output_type": "stream",
     "text": [
      "865144706 910492729\n",
      "Restoring model weights from the end of the best epoch: 63.\n",
      "Epoch 163: early stopping\n",
      "Restoring model weights from the end of the best epoch: 28.\n",
      "Epoch 128: early stopping\n"
     ]
    },
    {
     "name": "stderr",
     "output_type": "stream",
     "text": [
      "/cluster/gjb_lab/2394007/miniconda/envs/deep_learning/lib/python3.10/site-packages/sklearn/neighbors/_classification.py:207: DataConversionWarning: A column-vector y was passed when a 1d array was expected. Please change the shape of y to (n_samples,), for example using ravel().\n",
      "  return self._fit(X, y)\n",
      "/cluster/gjb_lab/2394007/miniconda/envs/deep_learning/lib/python3.10/site-packages/sklearn/neighbors/_classification.py:207: DataConversionWarning: A column-vector y was passed when a 1d array was expected. Please change the shape of y to (n_samples,), for example using ravel().\n",
      "  return self._fit(X, y)\n"
     ]
    },
    {
     "name": "stdout",
     "output_type": "stream",
     "text": [
      "839710516 323901096\n",
      "Restoring model weights from the end of the best epoch: 127.\n",
      "Epoch 227: early stopping\n",
      "Restoring model weights from the end of the best epoch: 2.\n",
      "Epoch 102: early stopping\n"
     ]
    },
    {
     "name": "stderr",
     "output_type": "stream",
     "text": [
      "/cluster/gjb_lab/2394007/miniconda/envs/deep_learning/lib/python3.10/site-packages/sklearn/neighbors/_classification.py:207: DataConversionWarning: A column-vector y was passed when a 1d array was expected. Please change the shape of y to (n_samples,), for example using ravel().\n",
      "  return self._fit(X, y)\n",
      "/cluster/gjb_lab/2394007/miniconda/envs/deep_learning/lib/python3.10/site-packages/sklearn/neighbors/_classification.py:207: DataConversionWarning: A column-vector y was passed when a 1d array was expected. Please change the shape of y to (n_samples,), for example using ravel().\n",
      "  return self._fit(X, y)\n"
     ]
    },
    {
     "name": "stdout",
     "output_type": "stream",
     "text": [
      "489993548 262093853\n",
      "Restoring model weights from the end of the best epoch: 53.\n",
      "Epoch 153: early stopping\n",
      "Restoring model weights from the end of the best epoch: 2.\n",
      "Epoch 102: early stopping\n"
     ]
    },
    {
     "name": "stderr",
     "output_type": "stream",
     "text": [
      "/cluster/gjb_lab/2394007/miniconda/envs/deep_learning/lib/python3.10/site-packages/sklearn/neighbors/_classification.py:207: DataConversionWarning: A column-vector y was passed when a 1d array was expected. Please change the shape of y to (n_samples,), for example using ravel().\n",
      "  return self._fit(X, y)\n",
      "/cluster/gjb_lab/2394007/miniconda/envs/deep_learning/lib/python3.10/site-packages/sklearn/neighbors/_classification.py:207: DataConversionWarning: A column-vector y was passed when a 1d array was expected. Please change the shape of y to (n_samples,), for example using ravel().\n",
      "  return self._fit(X, y)\n"
     ]
    },
    {
     "name": "stdout",
     "output_type": "stream",
     "text": [
      "93482271 589655987\n",
      "Restoring model weights from the end of the best epoch: 58.\n",
      "Epoch 158: early stopping\n",
      "Restoring model weights from the end of the best epoch: 74.\n",
      "Epoch 174: early stopping\n"
     ]
    },
    {
     "name": "stderr",
     "output_type": "stream",
     "text": [
      "/cluster/gjb_lab/2394007/miniconda/envs/deep_learning/lib/python3.10/site-packages/sklearn/neighbors/_classification.py:207: DataConversionWarning: A column-vector y was passed when a 1d array was expected. Please change the shape of y to (n_samples,), for example using ravel().\n",
      "  return self._fit(X, y)\n",
      "/cluster/gjb_lab/2394007/miniconda/envs/deep_learning/lib/python3.10/site-packages/sklearn/neighbors/_classification.py:207: DataConversionWarning: A column-vector y was passed when a 1d array was expected. Please change the shape of y to (n_samples,), for example using ravel().\n",
      "  return self._fit(X, y)\n"
     ]
    },
    {
     "name": "stdout",
     "output_type": "stream",
     "text": [
      "942805368 332902617\n",
      "Restoring model weights from the end of the best epoch: 100.\n",
      "Epoch 200: early stopping\n"
     ]
    },
    {
     "name": "stderr",
     "output_type": "stream",
     "text": [
      "/cluster/gjb_lab/2394007/miniconda/envs/deep_learning/lib/python3.10/site-packages/sklearn/neighbors/_classification.py:207: DataConversionWarning: A column-vector y was passed when a 1d array was expected. Please change the shape of y to (n_samples,), for example using ravel().\n",
      "  return self._fit(X, y)\n",
      "/cluster/gjb_lab/2394007/miniconda/envs/deep_learning/lib/python3.10/site-packages/sklearn/neighbors/_classification.py:207: DataConversionWarning: A column-vector y was passed when a 1d array was expected. Please change the shape of y to (n_samples,), for example using ravel().\n",
      "  return self._fit(X, y)\n"
     ]
    },
    {
     "name": "stdout",
     "output_type": "stream",
     "text": [
      "196697154 138615900\n",
      "Restoring model weights from the end of the best epoch: 92.\n",
      "Epoch 192: early stopping\n",
      "Restoring model weights from the end of the best epoch: 3.\n",
      "Epoch 103: early stopping\n"
     ]
    },
    {
     "name": "stderr",
     "output_type": "stream",
     "text": [
      "/cluster/gjb_lab/2394007/miniconda/envs/deep_learning/lib/python3.10/site-packages/sklearn/neighbors/_classification.py:207: DataConversionWarning: A column-vector y was passed when a 1d array was expected. Please change the shape of y to (n_samples,), for example using ravel().\n",
      "  return self._fit(X, y)\n",
      "/cluster/gjb_lab/2394007/miniconda/envs/deep_learning/lib/python3.10/site-packages/sklearn/neighbors/_classification.py:207: DataConversionWarning: A column-vector y was passed when a 1d array was expected. Please change the shape of y to (n_samples,), for example using ravel().\n",
      "  return self._fit(X, y)\n"
     ]
    },
    {
     "name": "stdout",
     "output_type": "stream",
     "text": [
      "285269109 709853464\n",
      "Restoring model weights from the end of the best epoch: 199.\n",
      "Epoch 299: early stopping\n",
      "Restoring model weights from the end of the best epoch: 61.\n",
      "Epoch 161: early stopping\n"
     ]
    },
    {
     "name": "stderr",
     "output_type": "stream",
     "text": [
      "/cluster/gjb_lab/2394007/miniconda/envs/deep_learning/lib/python3.10/site-packages/sklearn/neighbors/_classification.py:207: DataConversionWarning: A column-vector y was passed when a 1d array was expected. Please change the shape of y to (n_samples,), for example using ravel().\n",
      "  return self._fit(X, y)\n",
      "/cluster/gjb_lab/2394007/miniconda/envs/deep_learning/lib/python3.10/site-packages/sklearn/neighbors/_classification.py:207: DataConversionWarning: A column-vector y was passed when a 1d array was expected. Please change the shape of y to (n_samples,), for example using ravel().\n",
      "  return self._fit(X, y)\n"
     ]
    },
    {
     "name": "stdout",
     "output_type": "stream",
     "text": [
      "118668518 525250079\n",
      "Restoring model weights from the end of the best epoch: 8.\n",
      "Epoch 108: early stopping\n"
     ]
    },
    {
     "name": "stderr",
     "output_type": "stream",
     "text": [
      "/cluster/gjb_lab/2394007/miniconda/envs/deep_learning/lib/python3.10/site-packages/sklearn/neighbors/_classification.py:207: DataConversionWarning: A column-vector y was passed when a 1d array was expected. Please change the shape of y to (n_samples,), for example using ravel().\n",
      "  return self._fit(X, y)\n",
      "/cluster/gjb_lab/2394007/miniconda/envs/deep_learning/lib/python3.10/site-packages/sklearn/neighbors/_classification.py:207: DataConversionWarning: A column-vector y was passed when a 1d array was expected. Please change the shape of y to (n_samples,), for example using ravel().\n",
      "  return self._fit(X, y)\n"
     ]
    },
    {
     "name": "stdout",
     "output_type": "stream",
     "text": [
      "378038616 838227720\n",
      "Restoring model weights from the end of the best epoch: 157.\n",
      "Epoch 257: early stopping\n",
      "Restoring model weights from the end of the best epoch: 57.\n",
      "Epoch 157: early stopping\n"
     ]
    },
    {
     "name": "stderr",
     "output_type": "stream",
     "text": [
      "/cluster/gjb_lab/2394007/miniconda/envs/deep_learning/lib/python3.10/site-packages/sklearn/neighbors/_classification.py:207: DataConversionWarning: A column-vector y was passed when a 1d array was expected. Please change the shape of y to (n_samples,), for example using ravel().\n",
      "  return self._fit(X, y)\n",
      "/cluster/gjb_lab/2394007/miniconda/envs/deep_learning/lib/python3.10/site-packages/sklearn/neighbors/_classification.py:207: DataConversionWarning: A column-vector y was passed when a 1d array was expected. Please change the shape of y to (n_samples,), for example using ravel().\n",
      "  return self._fit(X, y)\n"
     ]
    },
    {
     "name": "stdout",
     "output_type": "stream",
     "text": [
      "28462284 144238019\n",
      "Restoring model weights from the end of the best epoch: 78.\n",
      "Epoch 178: early stopping\n",
      "Restoring model weights from the end of the best epoch: 1.\n",
      "Epoch 101: early stopping\n"
     ]
    },
    {
     "name": "stderr",
     "output_type": "stream",
     "text": [
      "/cluster/gjb_lab/2394007/miniconda/envs/deep_learning/lib/python3.10/site-packages/sklearn/neighbors/_classification.py:207: DataConversionWarning: A column-vector y was passed when a 1d array was expected. Please change the shape of y to (n_samples,), for example using ravel().\n",
      "  return self._fit(X, y)\n",
      "/cluster/gjb_lab/2394007/miniconda/envs/deep_learning/lib/python3.10/site-packages/sklearn/neighbors/_classification.py:207: DataConversionWarning: A column-vector y was passed when a 1d array was expected. Please change the shape of y to (n_samples,), for example using ravel().\n",
      "  return self._fit(X, y)\n"
     ]
    },
    {
     "name": "stdout",
     "output_type": "stream",
     "text": [
      "799083124 386747424\n",
      "Restoring model weights from the end of the best epoch: 37.\n",
      "Epoch 137: early stopping\n",
      "Restoring model weights from the end of the best epoch: 1.\n",
      "Epoch 101: early stopping\n"
     ]
    },
    {
     "name": "stderr",
     "output_type": "stream",
     "text": [
      "/cluster/gjb_lab/2394007/miniconda/envs/deep_learning/lib/python3.10/site-packages/sklearn/neighbors/_classification.py:207: DataConversionWarning: A column-vector y was passed when a 1d array was expected. Please change the shape of y to (n_samples,), for example using ravel().\n",
      "  return self._fit(X, y)\n",
      "/cluster/gjb_lab/2394007/miniconda/envs/deep_learning/lib/python3.10/site-packages/sklearn/neighbors/_classification.py:207: DataConversionWarning: A column-vector y was passed when a 1d array was expected. Please change the shape of y to (n_samples,), for example using ravel().\n",
      "  return self._fit(X, y)\n"
     ]
    },
    {
     "name": "stdout",
     "output_type": "stream",
     "text": [
      "589908250 981643044\n",
      "Restoring model weights from the end of the best epoch: 41.\n",
      "Epoch 141: early stopping\n",
      "Restoring model weights from the end of the best epoch: 62.\n",
      "Epoch 162: early stopping\n"
     ]
    },
    {
     "name": "stderr",
     "output_type": "stream",
     "text": [
      "/cluster/gjb_lab/2394007/miniconda/envs/deep_learning/lib/python3.10/site-packages/sklearn/neighbors/_classification.py:207: DataConversionWarning: A column-vector y was passed when a 1d array was expected. Please change the shape of y to (n_samples,), for example using ravel().\n",
      "  return self._fit(X, y)\n",
      "/cluster/gjb_lab/2394007/miniconda/envs/deep_learning/lib/python3.10/site-packages/sklearn/neighbors/_classification.py:207: DataConversionWarning: A column-vector y was passed when a 1d array was expected. Please change the shape of y to (n_samples,), for example using ravel().\n",
      "  return self._fit(X, y)\n"
     ]
    },
    {
     "name": "stdout",
     "output_type": "stream",
     "text": [
      "350654654 499412018\n",
      "Restoring model weights from the end of the best epoch: 78.\n",
      "Epoch 178: early stopping\n",
      "Restoring model weights from the end of the best epoch: 2.\n",
      "Epoch 102: early stopping\n"
     ]
    },
    {
     "name": "stderr",
     "output_type": "stream",
     "text": [
      "/cluster/gjb_lab/2394007/miniconda/envs/deep_learning/lib/python3.10/site-packages/sklearn/neighbors/_classification.py:207: DataConversionWarning: A column-vector y was passed when a 1d array was expected. Please change the shape of y to (n_samples,), for example using ravel().\n",
      "  return self._fit(X, y)\n",
      "/cluster/gjb_lab/2394007/miniconda/envs/deep_learning/lib/python3.10/site-packages/sklearn/neighbors/_classification.py:207: DataConversionWarning: A column-vector y was passed when a 1d array was expected. Please change the shape of y to (n_samples,), for example using ravel().\n",
      "  return self._fit(X, y)\n"
     ]
    },
    {
     "name": "stdout",
     "output_type": "stream",
     "text": [
      "850313209 552765451\n",
      "Restoring model weights from the end of the best epoch: 154.\n",
      "Epoch 254: early stopping\n",
      "Restoring model weights from the end of the best epoch: 21.\n",
      "Epoch 121: early stopping\n"
     ]
    },
    {
     "name": "stderr",
     "output_type": "stream",
     "text": [
      "/cluster/gjb_lab/2394007/miniconda/envs/deep_learning/lib/python3.10/site-packages/sklearn/neighbors/_classification.py:207: DataConversionWarning: A column-vector y was passed when a 1d array was expected. Please change the shape of y to (n_samples,), for example using ravel().\n",
      "  return self._fit(X, y)\n",
      "/cluster/gjb_lab/2394007/miniconda/envs/deep_learning/lib/python3.10/site-packages/sklearn/neighbors/_classification.py:207: DataConversionWarning: A column-vector y was passed when a 1d array was expected. Please change the shape of y to (n_samples,), for example using ravel().\n",
      "  return self._fit(X, y)\n"
     ]
    },
    {
     "name": "stdout",
     "output_type": "stream",
     "text": [
      "716696822 655134848\n",
      "Restoring model weights from the end of the best epoch: 48.\n",
      "Epoch 148: early stopping\n",
      "Restoring model weights from the end of the best epoch: 18.\n",
      "Epoch 118: early stopping\n"
     ]
    },
    {
     "name": "stderr",
     "output_type": "stream",
     "text": [
      "/cluster/gjb_lab/2394007/miniconda/envs/deep_learning/lib/python3.10/site-packages/sklearn/neighbors/_classification.py:207: DataConversionWarning: A column-vector y was passed when a 1d array was expected. Please change the shape of y to (n_samples,), for example using ravel().\n",
      "  return self._fit(X, y)\n",
      "/cluster/gjb_lab/2394007/miniconda/envs/deep_learning/lib/python3.10/site-packages/sklearn/neighbors/_classification.py:207: DataConversionWarning: A column-vector y was passed when a 1d array was expected. Please change the shape of y to (n_samples,), for example using ravel().\n",
      "  return self._fit(X, y)\n"
     ]
    },
    {
     "name": "stdout",
     "output_type": "stream",
     "text": [
      "707950628 752331967\n",
      "Restoring model weights from the end of the best epoch: 64.\n",
      "Epoch 164: early stopping\n",
      "Restoring model weights from the end of the best epoch: 60.\n",
      "Epoch 160: early stopping\n"
     ]
    },
    {
     "name": "stderr",
     "output_type": "stream",
     "text": [
      "/cluster/gjb_lab/2394007/miniconda/envs/deep_learning/lib/python3.10/site-packages/sklearn/neighbors/_classification.py:207: DataConversionWarning: A column-vector y was passed when a 1d array was expected. Please change the shape of y to (n_samples,), for example using ravel().\n",
      "  return self._fit(X, y)\n",
      "/cluster/gjb_lab/2394007/miniconda/envs/deep_learning/lib/python3.10/site-packages/sklearn/neighbors/_classification.py:207: DataConversionWarning: A column-vector y was passed when a 1d array was expected. Please change the shape of y to (n_samples,), for example using ravel().\n",
      "  return self._fit(X, y)\n"
     ]
    },
    {
     "name": "stdout",
     "output_type": "stream",
     "text": [
      "378495829 999818332\n",
      "Restoring model weights from the end of the best epoch: 122.\n",
      "Epoch 222: early stopping\n",
      "Restoring model weights from the end of the best epoch: 9.\n",
      "Epoch 109: early stopping\n"
     ]
    },
    {
     "name": "stderr",
     "output_type": "stream",
     "text": [
      "/cluster/gjb_lab/2394007/miniconda/envs/deep_learning/lib/python3.10/site-packages/sklearn/neighbors/_classification.py:207: DataConversionWarning: A column-vector y was passed when a 1d array was expected. Please change the shape of y to (n_samples,), for example using ravel().\n",
      "  return self._fit(X, y)\n",
      "/cluster/gjb_lab/2394007/miniconda/envs/deep_learning/lib/python3.10/site-packages/sklearn/neighbors/_classification.py:207: DataConversionWarning: A column-vector y was passed when a 1d array was expected. Please change the shape of y to (n_samples,), for example using ravel().\n",
      "  return self._fit(X, y)\n"
     ]
    },
    {
     "name": "stdout",
     "output_type": "stream",
     "text": [
      "366361288 191411686\n",
      "Restoring model weights from the end of the best epoch: 59.\n",
      "Epoch 159: early stopping\n",
      "Restoring model weights from the end of the best epoch: 24.\n",
      "Epoch 124: early stopping\n"
     ]
    },
    {
     "name": "stderr",
     "output_type": "stream",
     "text": [
      "/cluster/gjb_lab/2394007/miniconda/envs/deep_learning/lib/python3.10/site-packages/sklearn/neighbors/_classification.py:207: DataConversionWarning: A column-vector y was passed when a 1d array was expected. Please change the shape of y to (n_samples,), for example using ravel().\n",
      "  return self._fit(X, y)\n",
      "/cluster/gjb_lab/2394007/miniconda/envs/deep_learning/lib/python3.10/site-packages/sklearn/neighbors/_classification.py:207: DataConversionWarning: A column-vector y was passed when a 1d array was expected. Please change the shape of y to (n_samples,), for example using ravel().\n",
      "  return self._fit(X, y)\n"
     ]
    },
    {
     "name": "stdout",
     "output_type": "stream",
     "text": [
      "711029520 537218306\n",
      "Restoring model weights from the end of the best epoch: 90.\n",
      "Epoch 190: early stopping\n",
      "Restoring model weights from the end of the best epoch: 3.\n",
      "Epoch 103: early stopping\n"
     ]
    },
    {
     "name": "stderr",
     "output_type": "stream",
     "text": [
      "/cluster/gjb_lab/2394007/miniconda/envs/deep_learning/lib/python3.10/site-packages/sklearn/neighbors/_classification.py:207: DataConversionWarning: A column-vector y was passed when a 1d array was expected. Please change the shape of y to (n_samples,), for example using ravel().\n",
      "  return self._fit(X, y)\n",
      "/cluster/gjb_lab/2394007/miniconda/envs/deep_learning/lib/python3.10/site-packages/sklearn/neighbors/_classification.py:207: DataConversionWarning: A column-vector y was passed when a 1d array was expected. Please change the shape of y to (n_samples,), for example using ravel().\n",
      "  return self._fit(X, y)\n"
     ]
    },
    {
     "name": "stdout",
     "output_type": "stream",
     "text": [
      "723860995 481887561\n",
      "Restoring model weights from the end of the best epoch: 189.\n",
      "Epoch 289: early stopping\n",
      "Restoring model weights from the end of the best epoch: 108.\n",
      "Epoch 208: early stopping\n"
     ]
    },
    {
     "name": "stderr",
     "output_type": "stream",
     "text": [
      "/cluster/gjb_lab/2394007/miniconda/envs/deep_learning/lib/python3.10/site-packages/sklearn/neighbors/_classification.py:207: DataConversionWarning: A column-vector y was passed when a 1d array was expected. Please change the shape of y to (n_samples,), for example using ravel().\n",
      "  return self._fit(X, y)\n",
      "/cluster/gjb_lab/2394007/miniconda/envs/deep_learning/lib/python3.10/site-packages/sklearn/neighbors/_classification.py:207: DataConversionWarning: A column-vector y was passed when a 1d array was expected. Please change the shape of y to (n_samples,), for example using ravel().\n",
      "  return self._fit(X, y)\n"
     ]
    },
    {
     "name": "stdout",
     "output_type": "stream",
     "text": [
      "409765750 198386451\n",
      "Restoring model weights from the end of the best epoch: 164.\n",
      "Epoch 264: early stopping\n",
      "Restoring model weights from the end of the best epoch: 1.\n",
      "Epoch 101: early stopping\n"
     ]
    },
    {
     "name": "stderr",
     "output_type": "stream",
     "text": [
      "/cluster/gjb_lab/2394007/miniconda/envs/deep_learning/lib/python3.10/site-packages/sklearn/neighbors/_classification.py:207: DataConversionWarning: A column-vector y was passed when a 1d array was expected. Please change the shape of y to (n_samples,), for example using ravel().\n",
      "  return self._fit(X, y)\n",
      "/cluster/gjb_lab/2394007/miniconda/envs/deep_learning/lib/python3.10/site-packages/sklearn/neighbors/_classification.py:207: DataConversionWarning: A column-vector y was passed when a 1d array was expected. Please change the shape of y to (n_samples,), for example using ravel().\n",
      "  return self._fit(X, y)\n"
     ]
    },
    {
     "name": "stdout",
     "output_type": "stream",
     "text": [
      "342616657 176228683\n",
      "Restoring model weights from the end of the best epoch: 76.\n",
      "Epoch 176: early stopping\n",
      "Restoring model weights from the end of the best epoch: 88.\n",
      "Epoch 188: early stopping\n"
     ]
    },
    {
     "name": "stderr",
     "output_type": "stream",
     "text": [
      "/cluster/gjb_lab/2394007/miniconda/envs/deep_learning/lib/python3.10/site-packages/sklearn/neighbors/_classification.py:207: DataConversionWarning: A column-vector y was passed when a 1d array was expected. Please change the shape of y to (n_samples,), for example using ravel().\n",
      "  return self._fit(X, y)\n",
      "/cluster/gjb_lab/2394007/miniconda/envs/deep_learning/lib/python3.10/site-packages/sklearn/neighbors/_classification.py:207: DataConversionWarning: A column-vector y was passed when a 1d array was expected. Please change the shape of y to (n_samples,), for example using ravel().\n",
      "  return self._fit(X, y)\n"
     ]
    },
    {
     "name": "stdout",
     "output_type": "stream",
     "text": [
      "820703610 465147496\n",
      "Restoring model weights from the end of the best epoch: 111.\n",
      "Epoch 211: early stopping\n"
     ]
    },
    {
     "name": "stderr",
     "output_type": "stream",
     "text": [
      "/cluster/gjb_lab/2394007/miniconda/envs/deep_learning/lib/python3.10/site-packages/sklearn/neighbors/_classification.py:207: DataConversionWarning: A column-vector y was passed when a 1d array was expected. Please change the shape of y to (n_samples,), for example using ravel().\n",
      "  return self._fit(X, y)\n",
      "/cluster/gjb_lab/2394007/miniconda/envs/deep_learning/lib/python3.10/site-packages/sklearn/neighbors/_classification.py:207: DataConversionWarning: A column-vector y was passed when a 1d array was expected. Please change the shape of y to (n_samples,), for example using ravel().\n",
      "  return self._fit(X, y)\n"
     ]
    },
    {
     "name": "stdout",
     "output_type": "stream",
     "text": [
      "935606135 763613568\n",
      "Restoring model weights from the end of the best epoch: 32.\n",
      "Epoch 132: early stopping\n",
      "Restoring model weights from the end of the best epoch: 4.\n",
      "Epoch 104: early stopping\n"
     ]
    },
    {
     "name": "stderr",
     "output_type": "stream",
     "text": [
      "/cluster/gjb_lab/2394007/miniconda/envs/deep_learning/lib/python3.10/site-packages/sklearn/neighbors/_classification.py:207: DataConversionWarning: A column-vector y was passed when a 1d array was expected. Please change the shape of y to (n_samples,), for example using ravel().\n",
      "  return self._fit(X, y)\n",
      "/cluster/gjb_lab/2394007/miniconda/envs/deep_learning/lib/python3.10/site-packages/sklearn/neighbors/_classification.py:207: DataConversionWarning: A column-vector y was passed when a 1d array was expected. Please change the shape of y to (n_samples,), for example using ravel().\n",
      "  return self._fit(X, y)\n"
     ]
    },
    {
     "name": "stdout",
     "output_type": "stream",
     "text": [
      "709424699 565737040\n",
      "Restoring model weights from the end of the best epoch: 71.\n",
      "Epoch 171: early stopping\n",
      "Restoring model weights from the end of the best epoch: 3.\n",
      "Epoch 103: early stopping\n"
     ]
    },
    {
     "name": "stderr",
     "output_type": "stream",
     "text": [
      "/cluster/gjb_lab/2394007/miniconda/envs/deep_learning/lib/python3.10/site-packages/sklearn/neighbors/_classification.py:207: DataConversionWarning: A column-vector y was passed when a 1d array was expected. Please change the shape of y to (n_samples,), for example using ravel().\n",
      "  return self._fit(X, y)\n",
      "/cluster/gjb_lab/2394007/miniconda/envs/deep_learning/lib/python3.10/site-packages/sklearn/neighbors/_classification.py:207: DataConversionWarning: A column-vector y was passed when a 1d array was expected. Please change the shape of y to (n_samples,), for example using ravel().\n",
      "  return self._fit(X, y)\n"
     ]
    },
    {
     "name": "stdout",
     "output_type": "stream",
     "text": [
      "800895704 706335630\n",
      "Restoring model weights from the end of the best epoch: 130.\n",
      "Epoch 230: early stopping\n",
      "Restoring model weights from the end of the best epoch: 66.\n",
      "Epoch 166: early stopping\n"
     ]
    },
    {
     "name": "stderr",
     "output_type": "stream",
     "text": [
      "/cluster/gjb_lab/2394007/miniconda/envs/deep_learning/lib/python3.10/site-packages/sklearn/neighbors/_classification.py:207: DataConversionWarning: A column-vector y was passed when a 1d array was expected. Please change the shape of y to (n_samples,), for example using ravel().\n",
      "  return self._fit(X, y)\n",
      "/cluster/gjb_lab/2394007/miniconda/envs/deep_learning/lib/python3.10/site-packages/sklearn/neighbors/_classification.py:207: DataConversionWarning: A column-vector y was passed when a 1d array was expected. Please change the shape of y to (n_samples,), for example using ravel().\n",
      "  return self._fit(X, y)\n"
     ]
    },
    {
     "name": "stdout",
     "output_type": "stream",
     "text": [
      "846743167 986456776\n",
      "Restoring model weights from the end of the best epoch: 191.\n",
      "Epoch 291: early stopping\n",
      "Restoring model weights from the end of the best epoch: 14.\n",
      "Epoch 114: early stopping\n"
     ]
    },
    {
     "name": "stderr",
     "output_type": "stream",
     "text": [
      "/cluster/gjb_lab/2394007/miniconda/envs/deep_learning/lib/python3.10/site-packages/sklearn/neighbors/_classification.py:207: DataConversionWarning: A column-vector y was passed when a 1d array was expected. Please change the shape of y to (n_samples,), for example using ravel().\n",
      "  return self._fit(X, y)\n",
      "/cluster/gjb_lab/2394007/miniconda/envs/deep_learning/lib/python3.10/site-packages/sklearn/neighbors/_classification.py:207: DataConversionWarning: A column-vector y was passed when a 1d array was expected. Please change the shape of y to (n_samples,), for example using ravel().\n",
      "  return self._fit(X, y)\n"
     ]
    },
    {
     "name": "stdout",
     "output_type": "stream",
     "text": [
      "857201394 187296159\n",
      "Restoring model weights from the end of the best epoch: 112.\n",
      "Epoch 212: early stopping\n",
      "Restoring model weights from the end of the best epoch: 12.\n",
      "Epoch 112: early stopping\n"
     ]
    },
    {
     "name": "stderr",
     "output_type": "stream",
     "text": [
      "/cluster/gjb_lab/2394007/miniconda/envs/deep_learning/lib/python3.10/site-packages/sklearn/neighbors/_classification.py:207: DataConversionWarning: A column-vector y was passed when a 1d array was expected. Please change the shape of y to (n_samples,), for example using ravel().\n",
      "  return self._fit(X, y)\n",
      "/cluster/gjb_lab/2394007/miniconda/envs/deep_learning/lib/python3.10/site-packages/sklearn/neighbors/_classification.py:207: DataConversionWarning: A column-vector y was passed when a 1d array was expected. Please change the shape of y to (n_samples,), for example using ravel().\n",
      "  return self._fit(X, y)\n"
     ]
    },
    {
     "name": "stdout",
     "output_type": "stream",
     "text": [
      "832619712 506995231\n",
      "Restoring model weights from the end of the best epoch: 69.\n",
      "Epoch 169: early stopping\n",
      "Restoring model weights from the end of the best epoch: 67.\n",
      "Epoch 167: early stopping\n"
     ]
    },
    {
     "name": "stderr",
     "output_type": "stream",
     "text": [
      "/cluster/gjb_lab/2394007/miniconda/envs/deep_learning/lib/python3.10/site-packages/sklearn/neighbors/_classification.py:207: DataConversionWarning: A column-vector y was passed when a 1d array was expected. Please change the shape of y to (n_samples,), for example using ravel().\n",
      "  return self._fit(X, y)\n",
      "/cluster/gjb_lab/2394007/miniconda/envs/deep_learning/lib/python3.10/site-packages/sklearn/neighbors/_classification.py:207: DataConversionWarning: A column-vector y was passed when a 1d array was expected. Please change the shape of y to (n_samples,), for example using ravel().\n",
      "  return self._fit(X, y)\n"
     ]
    },
    {
     "name": "stdout",
     "output_type": "stream",
     "text": [
      "778385027 136831464\n",
      "Restoring model weights from the end of the best epoch: 51.\n",
      "Epoch 151: early stopping\n",
      "Restoring model weights from the end of the best epoch: 38.\n",
      "Epoch 138: early stopping\n"
     ]
    },
    {
     "name": "stderr",
     "output_type": "stream",
     "text": [
      "/cluster/gjb_lab/2394007/miniconda/envs/deep_learning/lib/python3.10/site-packages/sklearn/neighbors/_classification.py:207: DataConversionWarning: A column-vector y was passed when a 1d array was expected. Please change the shape of y to (n_samples,), for example using ravel().\n",
      "  return self._fit(X, y)\n",
      "/cluster/gjb_lab/2394007/miniconda/envs/deep_learning/lib/python3.10/site-packages/sklearn/neighbors/_classification.py:207: DataConversionWarning: A column-vector y was passed when a 1d array was expected. Please change the shape of y to (n_samples,), for example using ravel().\n",
      "  return self._fit(X, y)\n"
     ]
    }
   ],
   "source": [
    "accs_pred_ANN = [] # prediction accuracies by ANN\n",
    "accs_pred_KNN = [] # prediction accuracies by KNN\n",
    "\n",
    "accs_rand = [] # prediction accuracies at random (randomly assigning a cluster label p=0.25 each)\n",
    "\n",
    "accs_pred_ANN_rand = [] # prediction accuracies of randomly trained ANN\n",
    "accs_pred_KNN_rand = [] # prediction accuracies of randomly trained KNN\n",
    "\n",
    "knn = KNeighborsClassifier(n_neighbors=3) # starting KNN classifier\n",
    "\n",
    "ann_good_preds = [] # predictions by ANN\n",
    "ann_good_preds_round = [] # rounded predictions by ANN\n",
    "ann_real_vals = [] # real labels\n",
    "ann_rand_preds = [] # predictions by randomly trained ANN\n",
    "ann_rand_preds_round = [] # rounded predictions of randomly trained ANN\n",
    "#ann_\n",
    "\n",
    "\n",
    "cv_dir = \"./results/ANN_results/cv_NEW\"\n",
    "cv_good_dir = os.path.join(cv_dir, \"good\")\n",
    "cv_rand_dir = os.path.join(cv_dir, \"rand\")\n",
    "\n",
    "for i, (train_idx, val_idx) in enumerate(rskf.split(X_model, y_model)):\n",
    "    \n",
    "    seed = 3551\n",
    "    seed1 = random.randint(1, 1000000000)\n",
    "    seed2 = random.randint(1, 1000000000)\n",
    "    #seed1 = 426359796\n",
    "    #seed2 = 44036644\n",
    "    print(seed1, seed2)\n",
    "    \n",
    "    bs_ids_train = X_model.index[train_idx].tolist() # THESE IDS WILL SUBSET BOTH DATASETS IN THE SAME WAY (INPUT FOR KNN AND INPUT FOR ANN)\n",
    "    bs_ids_val = X_model.index[val_idx].tolist() # THESE IDS WILL SUBSET BOTH DATASETS IN THE SAME WAY (INPUT FOR KNN AND INPUT FOR ANN)\n",
    "    \n",
    "    X_train_ANN = X_model.loc[bs_ids_train, :]\n",
    "    y_train_ANN = y_model.loc[bs_ids_train, :]\n",
    "    \n",
    "    X_train_ANN_rand = randomise(X_train_ANN, seed1)     # THIS WILL BE USED TO TRAIN ANN WITH RANDOMLY SHUFFLED TRAINING DATA\n",
    "    y_train_ANN_rand = randomise(y_train_ANN, seed2)     # THIS WILL BE USED TO TRAIN ANN WITH RANDOMLY SHUFFLED TRAINING DATA\n",
    "    \n",
    "    X_val_ANN = X_model.loc[bs_ids_val, :]\n",
    "    y_val_ANN = y_model.loc[bs_ids_val, :]\n",
    "    \n",
    "    X_train_KNN = ud_mat.loc[bs_ids_train, bs_ids_train]\n",
    "    y_train_KNN = y_model.loc[bs_ids_train, :]\n",
    "    \n",
    "    X_train_KNN_rand = randomise(X_train_KNN, seed1)     # THIS WILL BE USED TO TRAIN KNN WITH RANDOMLY SHUFFLED TRAINING DATA\n",
    "    y_train_KNN_rand = randomise(y_train_KNN, seed2)     # THIS WILL BE USED TO TRAIN KNN WITH RANDOMLY SHUFFLED TRAINING DATA\n",
    "    \n",
    "    X_val_KNN = ud_mat.loc[bs_ids_val, bs_ids_train]\n",
    "    y_val_KNN = y_model.loc[bs_ids_val, :]\n",
    "    \n",
    "    #break\n",
    "    \n",
    "    ### PREDICTING WITH ANN ### well trained model\n",
    "    \n",
    "    X_model_train_ANN, X_model_val_ANN, y_model_train_ANN, y_model_val_ANN = train_test_split(\n",
    "        X_train_ANN, y_train_ANN, test_size = 0.2, random_state = 12345,\n",
    "        shuffle = True, stratify = y_train_ANN\n",
    "    )\n",
    "    \n",
    "    class_weights = class_weight.compute_class_weight(class_weight = 'balanced',\n",
    "                                                 classes = np.unique(y_train_ANN.label.tolist()),\n",
    "                                                 y = np.array(y_train_ANN.label))\n",
    "    \n",
    "    class_weights_dict = {i: class_weights[i] for i in np.unique(y_train_ANN.label.tolist())}\n",
    "    \n",
    "    cv_model = Sequential([\n",
    "        Dense(units = 10, input_shape=(11,), activation = \"relu\", kernel_initializer = initializer),\n",
    "        Dense(units = 4, activation = \"softmax\", kernel_initializer = initializer)\n",
    "    ])\n",
    "    \n",
    "    cv_model.compile(optimizer=Adam(learning_rate=0.01), loss = \"sparse_categorical_crossentropy\", metrics = [\"accuracy\"])\n",
    "    \n",
    "    hist_cv_model = cv_model.fit(\n",
    "        x = X_model_train_ANN, y = y_model_train_ANN, batch_size = 32,\n",
    "        callbacks=[callback], validation_data = (X_model_val_ANN, y_model_val_ANN),\n",
    "        epochs = 300, shuffle = True, verbose = 0, class_weight =  class_weights_dict\n",
    "    )\n",
    "    \n",
    "    predictions = cv_model.predict(x = X_val_ANN, batch_size = 32, verbose = 0)\n",
    "    rounded_predictions = np.argmax(predictions, axis = -1)\n",
    "    CalculatedAccuracy = sum(rounded_predictions == y_val_ANN.label.tolist())/len(rounded_predictions)\n",
    "    accs_pred_ANN.append(CalculatedAccuracy)\n",
    "    ann_good_preds.append(predictions)\n",
    "    ann_good_preds_round.append(rounded_predictions)\n",
    "    ann_real_vals.append(y_val_ANN)\n",
    "    \n",
    "    final_epoch_good = callback.stopped_epoch-100\n",
    "    if final_epoch_good == -100:\n",
    "        final_epoch_good = 299\n",
    "    final_acc_good = round(hist_cv_model.history[\"val_accuracy\"][final_epoch_good],2)\n",
    "        \n",
    "\n",
    "    cv_model.save(os.path.join(cv_dir, \"good\", \"mods\", \"{}_{}_good_model_epoch_{}_train_acc_{}.h5\".format(seed, i, final_epoch_good, round(final_acc_good, 2))))\n",
    "        \n",
    "    pd.DataFrame(hist_cv_model.history).to_csv(os.path.join(cv_dir, \"good\", \"hists\", \"{}_{}_good_hist_epoch_{}_train_acc_{}.csv\".format(seed, i, final_epoch_good, round(final_acc_good, 2))), index = False)\n",
    "        \n",
    "        \n",
    "        \n",
    "    ### PREDICTING WITH ANN ### RANDOMLY trained model\n",
    "    \n",
    "    X_model_train_ANN_rand, X_model_val_ANN_rand, y_model_train_ANN_rand, y_model_val_ANN_rand = train_test_split(\n",
    "        X_train_ANN_rand, y_train_ANN_rand, test_size = 0.2, random_state = 12345,\n",
    "        shuffle = True, stratify = y_train_ANN_rand\n",
    "    )\n",
    "    \n",
    "    class_weights_rand = class_weight.compute_class_weight(class_weight = 'balanced',\n",
    "                                                 classes = np.unique(y_train_ANN_rand.label.tolist()),\n",
    "                                                 y = np.array(y_train_ANN_rand.label))\n",
    "    \n",
    "    class_weights_dict_rand = {i: class_weights_rand[i] for i in np.unique(y_train_ANN_rand.label.tolist())}\n",
    "    \n",
    "    cv_model_rand = Sequential([\n",
    "        Dense(units = 10, input_shape=(11,), activation = \"relu\", kernel_initializer = initializer),\n",
    "        Dense(units = 4, activation = \"softmax\", kernel_initializer = initializer)\n",
    "    ])\n",
    "    \n",
    "    cv_model_rand.compile(optimizer=Adam(learning_rate=0.01), loss = \"sparse_categorical_crossentropy\", metrics = [\"accuracy\"])\n",
    "    \n",
    "    hist_cv_model_rand = cv_model_rand.fit(\n",
    "        x = X_model_train_ANN_rand, y = y_model_train_ANN_rand, batch_size = 32,\n",
    "        callbacks=[callback], validation_data = (X_model_val_ANN_rand, y_model_val_ANN_rand),\n",
    "        epochs = 300, shuffle = True, verbose = 0, class_weight =  class_weights_dict_rand\n",
    "    )\n",
    "    \n",
    "    predictions_rand = cv_model_rand.predict(x = X_val_ANN, batch_size = 32, verbose = 0)\n",
    "    rounded_predictions_rand = np.argmax(predictions_rand, axis = -1)\n",
    "    CalculatedAccuracy_rand = sum(rounded_predictions_rand == y_val_ANN.label.tolist())/len(rounded_predictions_rand)\n",
    "    accs_pred_ANN_rand.append(CalculatedAccuracy_rand)\n",
    "    ann_rand_preds.append(predictions_rand)\n",
    "    ann_rand_preds_round.append(rounded_predictions_rand)\n",
    "    \n",
    "    final_epoch_rand = callback.stopped_epoch-100\n",
    "    if final_epoch_rand == -100:\n",
    "        final_epoch_rand = 299\n",
    "    final_acc_rand = round(hist_cv_model_rand.history[\"val_accuracy\"][final_epoch_rand],2)\n",
    "        \n",
    "\n",
    "    cv_model_rand.save(os.path.join(cv_dir, \"rand\", \"mods\", \"{}_{}_rand_model_epoch_{}_train_acc_{}.h5\".format(seed, i, final_epoch_rand, round(final_acc_rand, 2))))\n",
    "        \n",
    "    pd.DataFrame(hist_cv_model_rand.history).to_csv(os.path.join(cv_dir, \"rand\", \"hists\", \"{}_{}_rand_hist_epoch_{}_train_acc_{}.csv\".format(seed, i, final_epoch_rand, round(final_acc_rand, 2))), index = False)\n",
    "    \n",
    "    \n",
    "    ### PREDICTING WITH KNN ### with well trained model\n",
    "    \n",
    "    knn.fit(X_train_KNN, y_train_KNN) # train the model using the real training set\n",
    "\n",
    "    y_pred_KNN = knn.predict(X_val_KNN) # predict the response for test dataset\n",
    "\n",
    "    acc_pred = metrics.accuracy_score(y_val_KNN, y_pred_KNN) # accuracies of well trained KNN prediction\n",
    "\n",
    "    accs_pred_KNN.append(acc_pred)\n",
    "    \n",
    "    ### PREDICTING WITH KNN ### with RANDOMLY trained model\n",
    "\n",
    "    knn.fit(X_train_KNN_rand, y_train_KNN_rand) # train the model using the randomised training set\n",
    "\n",
    "    y_pred_KNN_rand = knn.predict(X_val_KNN) # predict the response for test dataset\n",
    "    \n",
    "    acc_pred_rand = metrics.accuracy_score(y_val_KNN, y_pred_KNN_rand) # accuracies of randomly trained KNN prediction\n",
    "    \n",
    "    accs_pred_KNN_rand.append(acc_pred_rand)\n",
    "    \n",
    "    ### COMPLETELY RANDOM BASELINE PREDICTION ### \n",
    "    \n",
    "    y_rand = [random.randint(0, 3) for i in range(len(y_val_KNN))] # assigning random cluster labels p=0.25\n",
    "    \n",
    "    acc_rand = metrics.accuracy_score(y_val_KNN, y_rand)\n",
    "    \n",
    "    accs_rand.append(acc_rand)\n",
    "    \n",
    "    #break"
   ]
  },
  {
   "cell_type": "code",
   "execution_count": 44,
   "metadata": {},
   "outputs": [],
   "source": [
    "k_fold_n = [i for i in range(1, 11) for o in range(10)]\n",
    "rskf_df = pd.DataFrame(list(zip(k_fold_n, accs_pred_ANN, accs_pred_KNN, accs_pred_ANN_rand, accs_pred_KNN_rand, accs_rand)), columns = [\"repeat_fold\", \"ANN_pred_acc\", \"KNN_pred_acc\", \"ANN_pred_acc_rand\", \"KNN_pred_acc_rand\", \"rand_acc\"])"
   ]
  },
  {
   "cell_type": "code",
   "execution_count": 46,
   "metadata": {},
   "outputs": [],
   "source": [
    "rskf_df.to_pickle(os.path.join(results_dir, \"rskf_cv.pkl\"))"
   ]
  },
  {
   "cell_type": "code",
   "execution_count": 23,
   "metadata": {},
   "outputs": [],
   "source": [
    "rskf_df = pd.read_pickle(os.path.join(results_dir, \"rskf_cv.pkl\"))"
   ]
  },
  {
   "cell_type": "markdown",
   "metadata": {},
   "source": [
    "### ASSESSING ANNS CROSS-VALIDATION PERFORMANCE"
   ]
  },
  {
   "cell_type": "code",
   "execution_count": 24,
   "metadata": {},
   "outputs": [],
   "source": [
    "conf1_f = os.path.join(results_dir, \"good_confidence_data.pkl\")\n",
    "conf2_f = os.path.join(results_dir, \"good_confidence_data_sum.pkl\")\n",
    "if os.path.isfile(conf1_f) and os.path.isfile(conf2_f):\n",
    "    conf_good_df1 = pd.read_pickle(conf1_f)\n",
    "    conf_good_df2 = pd.read_pickle(conf2_f)\n",
    "else:\n",
    "    conf_good_df1, conf_good_df2 = get_confidences_df(ann_good_preds, ann_good_preds_round, ann_real_vals)"
   ]
  },
  {
   "cell_type": "markdown",
   "metadata": {},
   "source": [
    "#### ACCURACY AND AVERAGE CONFIDENCE FOR EACH CLUSTER LABEL"
   ]
  },
  {
   "cell_type": "code",
   "execution_count": 25,
   "metadata": {},
   "outputs": [
    {
     "name": "stdout",
     "output_type": "stream",
     "text": [
      "0 0.938 7.34\n",
      "1 0.897 6.28\n",
      "2 0.876 6.83\n",
      "3 0.958 7.89\n"
     ]
    }
   ],
   "source": [
    "for i in range(0,4):\n",
    "    df_i = conf_good_df1[conf_good_df1.val == i]\n",
    "    df_i_corr = df_i[df_i.val == df_i.pred]\n",
    "    print(i, round(len(df_i_corr)/len(df_i),3), round(df_i_corr.conf.mean(),2))"
   ]
  },
  {
   "cell_type": "code",
   "execution_count": 26,
   "metadata": {},
   "outputs": [
    {
     "data": {
      "text/plain": [
       "(2660, 4)"
      ]
     },
     "execution_count": 26,
     "metadata": {},
     "output_type": "execute_result"
    }
   ],
   "source": [
    "conf_good_df1.shape"
   ]
  },
  {
   "cell_type": "code",
   "execution_count": 27,
   "metadata": {},
   "outputs": [
    {
     "data": {
      "text/html": [
       "<div>\n",
       "<style scoped>\n",
       "    .dataframe tbody tr th:only-of-type {\n",
       "        vertical-align: middle;\n",
       "    }\n",
       "\n",
       "    .dataframe tbody tr th {\n",
       "        vertical-align: top;\n",
       "    }\n",
       "\n",
       "    .dataframe thead th {\n",
       "        text-align: right;\n",
       "    }\n",
       "</style>\n",
       "<table border=\"1\" class=\"dataframe\">\n",
       "  <thead>\n",
       "    <tr style=\"text-align: right;\">\n",
       "      <th></th>\n",
       "      <th>id</th>\n",
       "      <th>conf</th>\n",
       "      <th>val</th>\n",
       "      <th>pred</th>\n",
       "    </tr>\n",
       "  </thead>\n",
       "  <tbody>\n",
       "    <tr>\n",
       "      <th>0</th>\n",
       "      <td>Q96HY7_0_BS0</td>\n",
       "      <td>4</td>\n",
       "      <td>1</td>\n",
       "      <td>1</td>\n",
       "    </tr>\n",
       "    <tr>\n",
       "      <th>1</th>\n",
       "      <td>P11838_0_BS8</td>\n",
       "      <td>2</td>\n",
       "      <td>1</td>\n",
       "      <td>1</td>\n",
       "    </tr>\n",
       "    <tr>\n",
       "      <th>2</th>\n",
       "      <td>P47811_0_BS7</td>\n",
       "      <td>9</td>\n",
       "      <td>2</td>\n",
       "      <td>2</td>\n",
       "    </tr>\n",
       "  </tbody>\n",
       "</table>\n",
       "</div>"
      ],
      "text/plain": [
       "             id  conf  val  pred\n",
       "0  Q96HY7_0_BS0     4    1     1\n",
       "1  P11838_0_BS8     2    1     1\n",
       "2  P47811_0_BS7     9    2     2"
      ]
     },
     "execution_count": 27,
     "metadata": {},
     "output_type": "execute_result"
    }
   ],
   "source": [
    "conf_good_df1.head(3)"
   ]
  },
  {
   "cell_type": "code",
   "execution_count": 28,
   "metadata": {},
   "outputs": [
    {
     "data": {
      "text/html": [
       "<div>\n",
       "<style scoped>\n",
       "    .dataframe tbody tr th:only-of-type {\n",
       "        vertical-align: middle;\n",
       "    }\n",
       "\n",
       "    .dataframe tbody tr th {\n",
       "        vertical-align: top;\n",
       "    }\n",
       "\n",
       "    .dataframe thead th {\n",
       "        text-align: right;\n",
       "    }\n",
       "</style>\n",
       "<table border=\"1\" class=\"dataframe\">\n",
       "  <thead>\n",
       "    <tr style=\"text-align: right;\">\n",
       "      <th></th>\n",
       "      <th>conf</th>\n",
       "      <th>cov</th>\n",
       "      <th>acc</th>\n",
       "    </tr>\n",
       "  </thead>\n",
       "  <tbody>\n",
       "    <tr>\n",
       "      <th>5</th>\n",
       "      <td>5</td>\n",
       "      <td>0.750376</td>\n",
       "      <td>0.965932</td>\n",
       "    </tr>\n",
       "  </tbody>\n",
       "</table>\n",
       "</div>"
      ],
      "text/plain": [
       "   conf       cov       acc\n",
       "5     5  0.750376  0.965932"
      ]
     },
     "execution_count": 28,
     "metadata": {},
     "output_type": "execute_result"
    }
   ],
   "source": [
    "conf_good_df2.query('conf == 5')"
   ]
  },
  {
   "cell_type": "code",
   "execution_count": 181,
   "metadata": {},
   "outputs": [
    {
     "data": {
      "text/html": [
       "<div>\n",
       "<style scoped>\n",
       "    .dataframe tbody tr th:only-of-type {\n",
       "        vertical-align: middle;\n",
       "    }\n",
       "\n",
       "    .dataframe tbody tr th {\n",
       "        vertical-align: top;\n",
       "    }\n",
       "\n",
       "    .dataframe thead th {\n",
       "        text-align: right;\n",
       "    }\n",
       "</style>\n",
       "<table border=\"1\" class=\"dataframe\">\n",
       "  <thead>\n",
       "    <tr style=\"text-align: right;\">\n",
       "      <th></th>\n",
       "      <th>conf</th>\n",
       "      <th>cov</th>\n",
       "      <th>acc</th>\n",
       "    </tr>\n",
       "  </thead>\n",
       "  <tbody>\n",
       "    <tr>\n",
       "      <th>0</th>\n",
       "      <td>0</td>\n",
       "      <td>1.00000</td>\n",
       "      <td>0.902632</td>\n",
       "    </tr>\n",
       "    <tr>\n",
       "      <th>9</th>\n",
       "      <td>9</td>\n",
       "      <td>0.35188</td>\n",
       "      <td>0.994658</td>\n",
       "    </tr>\n",
       "  </tbody>\n",
       "</table>\n",
       "</div>"
      ],
      "text/plain": [
       "   conf      cov       acc\n",
       "0     0  1.00000  0.902632\n",
       "9     9  0.35188  0.994658"
      ]
     },
     "execution_count": 181,
     "metadata": {},
     "output_type": "execute_result"
    }
   ],
   "source": [
    "conf_good_df2.loc[[0,9], :]"
   ]
  },
  {
   "cell_type": "code",
   "execution_count": 184,
   "metadata": {},
   "outputs": [
    {
     "data": {
      "image/png": "[encoded data removed]",
      "text/plain": [
       "<Figure size 500x500 with 2 Axes>"
      ]
     },
     "metadata": {},
     "output_type": "display_data"
    }
   ],
   "source": [
    "plot_conf_acc_cov(\n",
    "    conf_good_df2,\n",
    "    #f_size = (7.5, 7.5),\n",
    "    #dpi = 300, out = os.path.join(figs_dir, \"ML_conf_cov_acc_good.png\")\n",
    ")"
   ]
  },
  {
   "cell_type": "code",
   "execution_count": 51,
   "metadata": {},
   "outputs": [],
   "source": [
    "conf_good_df1.to_pickle(os.path.join(results_dir, \"good_confidence_data.pkl\"))\n",
    "conf_good_df2.to_pickle(os.path.join(results_dir, \"good_confidence_data_sum.pkl\"))"
   ]
  },
  {
   "cell_type": "code",
   "execution_count": 185,
   "metadata": {},
   "outputs": [],
   "source": [
    "conf1_rand_f = os.path.join(results_dir, \"rand_confidence_data.pkl\")\n",
    "conf2_rand_f = os.path.join(results_dir, \"rand_confidence_data_sum.pkl\")\n",
    "if os.path.isfile(conf1_rand_f) and os.path.isfile(conf2_rand_f):\n",
    "    conf_rand_df1 = pd.read_pickle(conf1_rand_f)\n",
    "    conf_rand_df2 = pd.read_pickle(conf2_rand_f)\n",
    "else:\n",
    "    conf_rand_df1, conf_rand_df2 = get_confidences_df(ann_rand_preds, ann_rand_preds_round, ann_real_vals)"
   ]
  },
  {
   "cell_type": "code",
   "execution_count": 190,
   "metadata": {},
   "outputs": [
    {
     "data": {
      "image/png": "[encoded data removed]",
      "text/plain": [
       "<Figure size 500x500 with 2 Axes>"
      ]
     },
     "metadata": {},
     "output_type": "display_data"
    }
   ],
   "source": [
    "plot_conf_acc_cov_LOC(\n",
    "    conf_rand_df2,\n",
    "    #f_size = (7.5, 7.5),\n",
    "    #dpi = 300, out = os.path.join(figs_dir, \"ML_conf_cov_acc_rand.png\")\n",
    ")"
   ]
  },
  {
   "cell_type": "code",
   "execution_count": 58,
   "metadata": {},
   "outputs": [],
   "source": [
    "conf_rand_df1.to_pickle(os.path.join(results_dir, \"rand_confidence_data.pkl\"))\n",
    "conf_rand_df2.to_pickle(os.path.join(results_dir, \"rand_confidence_data_sum.pkl\"))"
   ]
  },
  {
   "cell_type": "markdown",
   "metadata": {},
   "source": [
    "## COMPARING CV ACCURACIES ACROSS METHODS AND BASELINES"
   ]
  },
  {
   "cell_type": "code",
   "execution_count": 191,
   "metadata": {},
   "outputs": [
    {
     "name": "stdout",
     "output_type": "stream",
     "text": [
      "Average 10-repeat 10-fold cross validation for KNN prediction = 98.12%\n",
      "Average 10-repeat 10-fold cross validation for KNN random prediction = 32.65%\n",
      "Average 10-repeat 10-fold cross validation for ANN prediction = 90.27%\n",
      "Average 10-repeat 10-fold cross validation for ANN random prediction = 30.73%\n",
      "Average 10-repeat 10-fold cross validation for random prediction = 24.27%\n"
     ]
    }
   ],
   "source": [
    "print(\"Average 10-repeat 10-fold cross validation for KNN prediction = {}%\".format(round(rskf_df.KNN_pred_acc.mean()*100,2)))\n",
    "\n",
    "print(\"Average 10-repeat 10-fold cross validation for KNN random prediction = {}%\".format(round(rskf_df.KNN_pred_acc_rand.mean()*100,2)))\n",
    "\n",
    "print(\"Average 10-repeat 10-fold cross validation for ANN prediction = {}%\".format(round(rskf_df.ANN_pred_acc.mean()*100,2)))\n",
    "\n",
    "print(\"Average 10-repeat 10-fold cross validation for ANN random prediction = {}%\".format(round(rskf_df.ANN_pred_acc_rand.mean()*100,2)))\n",
    "\n",
    "print(\"Average 10-repeat 10-fold cross validation for random prediction = {}%\".format(round(rskf_df.rand_acc.mean()*100,2)))"
   ]
  },
  {
   "cell_type": "code",
   "execution_count": 193,
   "metadata": {},
   "outputs": [],
   "source": [
    "ANN_pred_acc_mean = rskf_df.ANN_pred_acc.mean()\n",
    "KNN_pred_acc_mean = rskf_df.KNN_pred_acc.mean()\n",
    "ANN_pred_acc_rand_mean = rskf_df.ANN_pred_acc_rand.mean()\n",
    "KNN_pred_acc_rand_mean = rskf_df.KNN_pred_acc_rand.mean()\n",
    "rand_acc_mean = rskf_df.rand_acc.mean()\n",
    "\n",
    "ANN_pred_acc_sem = scipy.stats.sem(rskf_df.ANN_pred_acc)\n",
    "KNN_pred_acc_sem = scipy.stats.sem(rskf_df.KNN_pred_acc)\n",
    "ANN_pred_acc_rand_sem = scipy.stats.sem(rskf_df.ANN_pred_acc_rand)\n",
    "KNN_pred_acc_rand_sem = scipy.stats.sem(rskf_df.KNN_pred_acc_rand)\n",
    "rand_acc_sem = scipy.stats.sem(rskf_df.rand_acc)"
   ]
  },
  {
   "cell_type": "code",
   "execution_count": 194,
   "metadata": {},
   "outputs": [
    {
     "name": "stdout",
     "output_type": "stream",
     "text": [
      "ANN  90.27 0.6 (89.67, 90.87)\n",
      "KNN  98.12 0.28 (97.85, 98.4)\n",
      "ANN_rand  30.73 1.08 (29.65, 31.81)\n",
      "KNN_rand  32.65 0.94 (31.71, 33.59)\n",
      "random  24.27 0.93 (23.34, 25.2)\n"
     ]
    }
   ],
   "source": [
    "print(\"ANN \", round(ANN_pred_acc_mean*100, 2), round(ANN_pred_acc_sem*100, 2), (round((ANN_pred_acc_mean-ANN_pred_acc_sem)*100, 2), round((ANN_pred_acc_mean+ANN_pred_acc_sem)*100, 2)))\n",
    "\n",
    "print(\"KNN \", round(KNN_pred_acc_mean*100, 2), round(KNN_pred_acc_sem*100, 2), (round((KNN_pred_acc_mean-KNN_pred_acc_sem)*100, 2), round((KNN_pred_acc_mean+KNN_pred_acc_sem)*100, 2)))\n",
    "\n",
    "print(\"ANN_rand \", round(ANN_pred_acc_rand_mean*100, 2), round(ANN_pred_acc_rand_sem*100, 2), (round((ANN_pred_acc_rand_mean-ANN_pred_acc_rand_sem)*100, 2), round((ANN_pred_acc_rand_mean+ANN_pred_acc_rand_sem)*100, 2)))\n",
    "KNN_pred_acc_rand_mean\n",
    "print(\"KNN_rand \", round(KNN_pred_acc_rand_mean*100, 2), round(KNN_pred_acc_rand_sem*100, 2), (round((KNN_pred_acc_rand_mean-KNN_pred_acc_rand_sem)*100, 2), round((KNN_pred_acc_rand_mean+KNN_pred_acc_rand_sem)*100, 2)))\n",
    "\n",
    "print(\"random \", round(rand_acc_mean*100, 2), round(rand_acc_sem*100, 2), (round((rand_acc_mean-rand_acc_sem)*100, 2), round((rand_acc_mean+rand_acc_sem)*100, 2)))"
   ]
  },
  {
   "cell_type": "code",
   "execution_count": 202,
   "metadata": {},
   "outputs": [
    {
     "data": {
      "image/png": "[encoded data removed]",
      "text/plain": [
       "<Figure size 750x750 with 1 Axes>"
      ]
     },
     "metadata": {},
     "output_type": "display_data"
    }
   ],
   "source": [
    "plt.figure(figsize = (7.5, 7.5), dpi = 100)\n",
    "plt.ylim(-0.05, 1.05)\n",
    "ax1 = sns.boxplot(y = \"KNN_pred_acc\", x = \"repeat_fold\", data = rskf_df, color = \"firebrick\", **PROPS_pred_KNN, flierprops=flierprops_pred_KNN, saturation = 0.5)\n",
    "sns.boxplot(y = \"ANN_pred_acc\", x = \"repeat_fold\", data = rskf_df, color = \"royalblue\", **PROPS_pred_ANN, flierprops=flierprops_pred_ANN, saturation = 0.5, ax = ax1)\n",
    "sns.boxplot(y = \"KNN_pred_acc_rand\", x = \"repeat_fold\", data = rskf_df, color = \"tomato\", **PROPS_rand_KNN, flierprops=flierprops_rand_KNN, saturation = 0.5, ax = ax1)\n",
    "sns.boxplot(y = \"ANN_pred_acc_rand\", x = \"repeat_fold\", data = rskf_df, color = \"cornflowerblue\", **PROPS_rand_ANN, flierprops=flierprops_rand_ANN, saturation = 0.5, ax = ax1)\n",
    "#sns.boxplot(y = \"rand_acc\", x = \"repeat_fold\", data = rskf_df, color = \"gold\", **PROPS_rand, flierprops=flierprops_rand)\n",
    "\n",
    "plt.ylabel(\"CROSS-VALIDATION ACCURACY\")\n",
    "plt.xlabel(\"REPEAT FOLD\")\n",
    "#plt.savefig(os.path.join(figs_dir, \"ML_CV.png\"))\n",
    "plt.show()"
   ]
  }
 ],
 "metadata": {
  "kernelspec": {
   "display_name": "Python [conda env:deep_learning]",
   "language": "python",
   "name": "conda-env-deep_learning-py"
  },
  "language_info": {
   "codemirror_mode": {
    "name": "ipython",
    "version": 3
   },
   "file_extension": ".py",
   "mimetype": "text/x-python",
   "name": "python",
   "nbconvert_exporter": "python",
   "pygments_lexer": "ipython3",
   "version": "3.10.8"
  }
 },
 "nbformat": 4,
 "nbformat_minor": 4
}
