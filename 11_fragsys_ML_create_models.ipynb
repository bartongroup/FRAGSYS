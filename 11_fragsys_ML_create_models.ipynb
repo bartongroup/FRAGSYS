{
 "cells": [
  {
   "cell_type": "markdown",
   "metadata": {},
   "source": [
    "# PREDICTING RSA CLUSTER LABELS"
   ]
  },
  {
   "cell_type": "markdown",
   "metadata": {},
   "source": [
    "This notebook uses ANN and KNN to predict RSA cluster labels. In here, we try 50 models from 10 different seeds and chose the best according to validation accuracy and loss. Moreover, we perform 10 repeat 10-fold cross validation to ensure the model works well across a range of different training data folds."
   ]
  },
  {
   "cell_type": "markdown",
   "metadata": {},
   "source": [
    "## IMPORTING NECESSATY PACKAGES"
   ]
  },
  {
   "cell_type": "code",
   "execution_count": 126,
   "metadata": {},
   "outputs": [],
   "source": [
    "from fragsys_analysis import *"
   ]
  },
  {
   "cell_type": "code",
   "execution_count": 73,
   "metadata": {},
   "outputs": [],
   "source": [
    "import tensorflow as tf\n",
    "from tensorflow import keras\n",
    "\n",
    "from sklearn import metrics\n",
    "from sklearn.utils import class_weight\n",
    "from sklearn.neighbors import KNeighborsClassifier\n",
    "from sklearn.model_selection import train_test_split\n",
    "from sklearn.model_selection import RepeatedStratifiedKFold\n",
    "\n",
    "from tensorflow.keras.layers import Dense\n",
    "from tensorflow.keras.optimizers import Adam\n",
    "from tensorflow.keras.models import Sequential\n",
    "\n",
    "from sklearn.metrics import confusion_matrix\n",
    "from sklearn.metrics import ConfusionMatrixDisplay"
   ]
  },
  {
   "cell_type": "markdown",
   "metadata": {},
   "source": [
    "## SOME FUNCTIONS"
   ]
  },
  {
   "cell_type": "code",
   "execution_count": 161,
   "metadata": {},
   "outputs": [],
   "source": [
    "from fragsys_ml import *"
   ]
  },
  {
   "cell_type": "code",
   "execution_count": 132,
   "metadata": {},
   "outputs": [],
   "source": [
    "def plot_loss(hist_df):\n",
    "    n_epochs = len(hist_df)\n",
    "    ax1 = sns.lineplot(x = list(range(n_epochs)), y = hist_df[\"loss\"], c = \"royalblue\")#, label = \"loss 11\")\n",
    "    sns.lineplot(x = list(range(n_epochs)), y = hist_df[\"val_loss\"], c = \"orange\", ax = ax1)#, label = \"val_loss 11\")\n",
    "\n",
    "def plot_acc(hist_df):\n",
    "    n_epochs = len(hist_df)\n",
    "    ax2 = sns.lineplot(x = list(range(n_epochs)), y = hist_df[\"accuracy\"], c = \"royalblue\")#, label = \"accuracy 11\")\n",
    "    sns.lineplot(x = list(range(n_epochs)), y = hist_df[\"val_accuracy\"], c = \"orange\", ax = ax2)#, label = \"val_accuracy 11\")\n",
    "    \n",
    "def randomise(df, seed1):\n",
    "    seed2 = seed1 + 1\n",
    "    df_rand = df.sample(frac=1, random_state = seed1)\n",
    "    random.seed(seed2)\n",
    "    df_rand.index = random.sample(df_rand.index.tolist(), len(df))\n",
    "    return df_rand\n",
    "\n",
    "def get_confidences_df(preds_l, round_preds_l, vals_l):\n",
    "    \"\"\"\n",
    "    preds_l: predictions probabilities\n",
    "    round_preds_l: rounded predictions\n",
    "    vals_l: real labels\n",
    "    returns prediction confidence dataframe\n",
    "    \"\"\"\n",
    "    confs = []\n",
    "    for pred in preds_l:\n",
    "        for row in pred:\n",
    "            row = sorted(list(row), reverse = True) # sorts list of probabilities\n",
    "            confidence = int(10*(row[0] - row[1])) # confidence score: goes from 0-10\n",
    "            confs.append(confidence)\n",
    "            \n",
    "    vals = []\n",
    "    preds = []\n",
    "    ids = []\n",
    "    for i in range(len(vals_l)):\n",
    "        val = vals_l[i].label.tolist()\n",
    "        idd = vals_l[i].index.tolist()\n",
    "        pred = list(round_preds_l[i])\n",
    "        vals.extend(val)\n",
    "        preds.extend(pred)\n",
    "        ids.extend(idd)\n",
    "        \n",
    "    conf_df = pd.DataFrame(list(zip(ids, confs, vals, preds)), columns = [\"id\", \"conf\", \"val\", \"pred\"]) # contains bs_id, real label, predicted label, and associated confidence\n",
    "    \n",
    "    un_confs = sorted(conf_df.conf.unique().tolist())\n",
    "    covs = []\n",
    "    accs = []\n",
    "    for un_conf in un_confs:\n",
    "        confi_df = conf_df[conf_df.conf >= un_conf]\n",
    "        covs.append(len(confi_df)/len(conf_df))\n",
    "        p_correct = len(confi_df[confi_df.val == confi_df.pred])/len(confi_df)\n",
    "        accs.append(p_correct)\n",
    "    \n",
    "    conf_df_sum = pd.DataFrame(list(zip(un_confs, covs, accs)), columns = [\"conf\", \"cov\", \"acc\"]) # cumulative confidence dataframe with conf score, coverage, and average accuracy\n",
    "    \n",
    "    return conf_df, conf_df_sum\n",
    "\n",
    "def plot_conf_acc_cov(conf_df_sum):\n",
    "    # create figure and axis objects with subplots()\n",
    "    fig, ax = plt.subplots(figsize=(5, 5), dpi=100)\n",
    "    # make a plot\n",
    "    ax.plot(conf_df_sum[\"conf\"],\n",
    "            conf_df_sum[\"cov\"],\n",
    "            color=\"darkgreen\", \n",
    "            marker=\"o\",\n",
    "           label = \"Coverage\", markeredgewidth = 1, markeredgecolor = \"k\")\n",
    "    # set x-axis label\n",
    "    ax.set_xlabel(\"Confidence score\", fontsize = 14)\n",
    "    # set y-axis label\n",
    "    ax.set_ylabel(\"Coverage\",\n",
    "                  color=\"k\",\n",
    "                  fontsize=14)\n",
    "    \n",
    "    #ax.set_yticks(np.arange(0.2,1.1, 0.1))\n",
    "    #ax.set_ylim(0.175,1.025)\n",
    "    #plt.legend()\n",
    "    # twin object for two different y-axis on the sample plot\n",
    "    ax2=ax.twinx()\n",
    "    # make a plot with different y-axis using second axis object\n",
    "    ax2.plot(conf_df_sum[\"conf\"], conf_df_sum[\"acc\"],color=\"purple\",marker=\"D\", label = \"Average accuracy\", markeredgewidth = 1, markeredgecolor = \"k\")\n",
    "    ax2.set_ylabel(\"Average accuracy\",color=\"k\",fontsize=14)\n",
    "    ax2.set_xlabel(\"Average confidence\",color=\"k\",fontsize=14)\n",
    "    #ax2.set_yticks(np.arange(0.85,1.05, 0.05))\n",
    "    #ax2.set_ylim(0.845,1.005)\n",
    "    #plt.legend()\n",
    "    plt.xticks(range(0,11))\n",
    "    plt.show()"
   ]
  },
  {
   "cell_type": "markdown",
   "metadata": {},
   "source": [
    "## READING INPUT DATA"
   ]
  },
  {
   "cell_type": "code",
   "execution_count": 2,
   "metadata": {},
   "outputs": [],
   "source": [
    "main_dir = \".\"\n",
    "results_dir = os.path.join(main_dir, \"results\")\n",
    "\n",
    "rsa_cluster_dict = load_pickle(os.path.join(results_dir, \"rsa_cluster_dict_NEW.pkl\"))\n",
    "cluster_membership = load_pickle(os.path.join(results_dir, \"rsa_cluster_membership_NEW.pkl\"))\n",
    "rsa_profs = load_pickle(os.path.join(results_dir, \"rsa_profs_NEW.pkl\"))\n",
    "ud_mat = pd.read_pickle(os.path.join(results_dir, \"UD_df.pkl\"))"
   ]
  },
  {
   "cell_type": "markdown",
   "metadata": {},
   "source": [
    "## CREATING FEATURE DATAFRAME"
   ]
  },
  {
   "cell_type": "code",
   "execution_count": 103,
   "metadata": {},
   "outputs": [],
   "source": [
    "max_len = max([len(v) for v in rsa_profs.values()])\n",
    "bs_vectors = []\n",
    "bs_vectors_dict = {}\n",
    "for bs_id, rsa_sig in rsa_profs.items():\n",
    "    rsa_sig_len = len(rsa_sig)\n",
    "    rsa_range_prop = [0 for i in range(10)] # now let us change to 10\n",
    "    for rsa in rsa_sig:\n",
    "        prop_i = int(rsa/10) # 10 RSA BINS: b1 = [0,10), b2 = [10, 20), ... b10 = [90, MAX)\n",
    "        if prop_i > 9: # if greater than 100, put in 10th bin\n",
    "            prop_i = 9\n",
    "        #print(prop_i)\n",
    "        rsa_range_prop[prop_i] += 1\n",
    "    rsa_range_prop = [round(i/rsa_sig_len, 3) for i in rsa_range_prop]\n",
    "    rsa_range_prop.insert(0, rsa_sig_len/max_len) # ADDING BINDING SITE SIZE RELATIVE TO MAX SITE SIZE (IN THIS CASE 40)\n",
    "    bs_vectors.append(rsa_range_prop)\n",
    "    bs_vectors_dict[bs_id] = rsa_range_prop\n",
    "    \n",
    "vector_df = pd.DataFrame(bs_vectors) # obtaining RSA vectors, which are the 11-element features used for the machine learning"
   ]
  },
  {
   "cell_type": "code",
   "execution_count": 112,
   "metadata": {},
   "outputs": [
    {
     "data": {
      "text/html": [
       "<div>\n",
       "<style scoped>\n",
       "    .dataframe tbody tr th:only-of-type {\n",
       "        vertical-align: middle;\n",
       "    }\n",
       "\n",
       "    .dataframe tbody tr th {\n",
       "        vertical-align: top;\n",
       "    }\n",
       "\n",
       "    .dataframe thead th {\n",
       "        text-align: right;\n",
       "    }\n",
       "</style>\n",
       "<table border=\"1\" class=\"dataframe\">\n",
       "  <thead>\n",
       "    <tr style=\"text-align: right;\">\n",
       "      <th></th>\n",
       "      <th>0</th>\n",
       "      <th>1</th>\n",
       "      <th>2</th>\n",
       "      <th>3</th>\n",
       "      <th>4</th>\n",
       "      <th>5</th>\n",
       "      <th>6</th>\n",
       "      <th>7</th>\n",
       "      <th>8</th>\n",
       "      <th>9</th>\n",
       "      <th>10</th>\n",
       "    </tr>\n",
       "  </thead>\n",
       "  <tbody>\n",
       "    <tr>\n",
       "      <th>Q9UGL1_0_BS0</th>\n",
       "      <td>0.675</td>\n",
       "      <td>0.481</td>\n",
       "      <td>0.296</td>\n",
       "      <td>0.074</td>\n",
       "      <td>0.074</td>\n",
       "      <td>0.000</td>\n",
       "      <td>0.074</td>\n",
       "      <td>0.0</td>\n",
       "      <td>0.0</td>\n",
       "      <td>0.0</td>\n",
       "      <td>0.0</td>\n",
       "    </tr>\n",
       "    <tr>\n",
       "      <th>Q9UGL1_0_BS1</th>\n",
       "      <td>0.300</td>\n",
       "      <td>0.417</td>\n",
       "      <td>0.083</td>\n",
       "      <td>0.167</td>\n",
       "      <td>0.083</td>\n",
       "      <td>0.083</td>\n",
       "      <td>0.167</td>\n",
       "      <td>0.0</td>\n",
       "      <td>0.0</td>\n",
       "      <td>0.0</td>\n",
       "      <td>0.0</td>\n",
       "    </tr>\n",
       "    <tr>\n",
       "      <th>Q9UGL1_0_BS2</th>\n",
       "      <td>0.250</td>\n",
       "      <td>0.300</td>\n",
       "      <td>0.100</td>\n",
       "      <td>0.200</td>\n",
       "      <td>0.200</td>\n",
       "      <td>0.200</td>\n",
       "      <td>0.000</td>\n",
       "      <td>0.0</td>\n",
       "      <td>0.0</td>\n",
       "      <td>0.0</td>\n",
       "      <td>0.0</td>\n",
       "    </tr>\n",
       "  </tbody>\n",
       "</table>\n",
       "</div>"
      ],
      "text/plain": [
       "                 0      1      2      3      4      5      6    7    8    9   \\\n",
       "Q9UGL1_0_BS0  0.675  0.481  0.296  0.074  0.074  0.000  0.074  0.0  0.0  0.0   \n",
       "Q9UGL1_0_BS1  0.300  0.417  0.083  0.167  0.083  0.083  0.167  0.0  0.0  0.0   \n",
       "Q9UGL1_0_BS2  0.250  0.300  0.100  0.200  0.200  0.200  0.000  0.0  0.0  0.0   \n",
       "\n",
       "               10  \n",
       "Q9UGL1_0_BS0  0.0  \n",
       "Q9UGL1_0_BS1  0.0  \n",
       "Q9UGL1_0_BS2  0.0  "
      ]
     },
     "execution_count": 112,
     "metadata": {},
     "output_type": "execute_result"
    }
   ],
   "source": [
    "vector_df.head(3)"
   ]
  },
  {
   "cell_type": "code",
   "execution_count": 104,
   "metadata": {},
   "outputs": [],
   "source": [
    "vector_df.index = list(rsa_profs.keys())"
   ]
  },
  {
   "cell_type": "code",
   "execution_count": 105,
   "metadata": {},
   "outputs": [
    {
     "data": {
      "text/plain": [
       "(293, 11)"
      ]
     },
     "execution_count": 105,
     "metadata": {},
     "output_type": "execute_result"
    }
   ],
   "source": [
    "vector_df.shape"
   ]
  },
  {
   "cell_type": "code",
   "execution_count": 113,
   "metadata": {},
   "outputs": [],
   "source": [
    "vector_df.to_pickle(\"./results/rsa_vectors.pkl\")"
   ]
  },
  {
   "cell_type": "code",
   "execution_count": 115,
   "metadata": {},
   "outputs": [],
   "source": [
    "label_df = pd.DataFrame.from_dict(rsa_cluster_dict, orient = \"index\", columns = [\"label\"])"
   ]
  },
  {
   "cell_type": "code",
   "execution_count": 116,
   "metadata": {},
   "outputs": [
    {
     "data": {
      "text/plain": [
       "0    0.16\n",
       "1    0.43\n",
       "2    0.31\n",
       "3    0.10\n",
       "Name: label, dtype: float64"
      ]
     },
     "execution_count": 116,
     "metadata": {},
     "output_type": "execute_result"
    }
   ],
   "source": [
    "round(label_df.label.value_counts().sort_index()/len(label_df),2)"
   ]
  },
  {
   "cell_type": "code",
   "execution_count": 22,
   "metadata": {},
   "outputs": [
    {
     "data": {
      "text/html": [
       "<div>\n",
       "<style scoped>\n",
       "    .dataframe tbody tr th:only-of-type {\n",
       "        vertical-align: middle;\n",
       "    }\n",
       "\n",
       "    .dataframe tbody tr th {\n",
       "        vertical-align: top;\n",
       "    }\n",
       "\n",
       "    .dataframe thead th {\n",
       "        text-align: right;\n",
       "    }\n",
       "</style>\n",
       "<table border=\"1\" class=\"dataframe\">\n",
       "  <thead>\n",
       "    <tr style=\"text-align: right;\">\n",
       "      <th></th>\n",
       "      <th>label</th>\n",
       "    </tr>\n",
       "  </thead>\n",
       "  <tbody>\n",
       "    <tr>\n",
       "      <th>Q9UGL1_0_BS0</th>\n",
       "      <td>0</td>\n",
       "    </tr>\n",
       "    <tr>\n",
       "      <th>Q9UGL1_0_BS1</th>\n",
       "      <td>0</td>\n",
       "    </tr>\n",
       "    <tr>\n",
       "      <th>Q9UGL1_0_BS2</th>\n",
       "      <td>0</td>\n",
       "    </tr>\n",
       "  </tbody>\n",
       "</table>\n",
       "</div>"
      ],
      "text/plain": [
       "              label\n",
       "Q9UGL1_0_BS0      0\n",
       "Q9UGL1_0_BS1      0\n",
       "Q9UGL1_0_BS2      0"
      ]
     },
     "execution_count": 22,
     "metadata": {},
     "output_type": "execute_result"
    }
   ],
   "source": [
    "label_df.head(3)"
   ]
  },
  {
   "cell_type": "code",
   "execution_count": 23,
   "metadata": {},
   "outputs": [
    {
     "data": {
      "text/plain": [
       "(293, 1)"
      ]
     },
     "execution_count": 23,
     "metadata": {},
     "output_type": "execute_result"
    }
   ],
   "source": [
    "label_df.shape"
   ]
  },
  {
   "cell_type": "markdown",
   "metadata": {},
   "source": [
    "## CREATE MODEL"
   ]
  },
  {
   "cell_type": "code",
   "execution_count": 43,
   "metadata": {},
   "outputs": [],
   "source": [
    "X = vector_df.sort_index() # here, X is still a dataframe. Thus, we maintain binding site IDs\n",
    "y = label_df.sort_index()    # here, y is still a list"
   ]
  },
  {
   "cell_type": "markdown",
   "metadata": {},
   "source": [
    "#### DATA SPLIT IN MODEL (10/11) (USED FOR TRAINING) AND BLIND (USED FOR FINAL TESTING) (1/11) STRATIFYING BY CLUSTER LABEL, SO THEY ARE BALANCED"
   ]
  },
  {
   "cell_type": "code",
   "execution_count": 44,
   "metadata": {},
   "outputs": [],
   "source": [
    "X_model, X_blind, y_model, y_blind = train_test_split(X, y, test_size = 0.091, random_state = 12345, shuffle = True, stratify = y) ### X_blind and y_blind will be the blind test at the end"
   ]
  },
  {
   "cell_type": "code",
   "execution_count": 45,
   "metadata": {},
   "outputs": [
    {
     "data": {
      "text/html": [
       "<div>\n",
       "<style scoped>\n",
       "    .dataframe tbody tr th:only-of-type {\n",
       "        vertical-align: middle;\n",
       "    }\n",
       "\n",
       "    .dataframe tbody tr th {\n",
       "        vertical-align: top;\n",
       "    }\n",
       "\n",
       "    .dataframe thead th {\n",
       "        text-align: right;\n",
       "    }\n",
       "</style>\n",
       "<table border=\"1\" class=\"dataframe\">\n",
       "  <thead>\n",
       "    <tr style=\"text-align: right;\">\n",
       "      <th></th>\n",
       "      <th>label</th>\n",
       "    </tr>\n",
       "  </thead>\n",
       "  <tbody>\n",
       "    <tr>\n",
       "      <th>P47811_0_BS1</th>\n",
       "      <td>1</td>\n",
       "    </tr>\n",
       "    <tr>\n",
       "      <th>P0DTD1_0_BS23</th>\n",
       "      <td>1</td>\n",
       "    </tr>\n",
       "    <tr>\n",
       "      <th>Q96HY7_0_BS0</th>\n",
       "      <td>1</td>\n",
       "    </tr>\n",
       "  </tbody>\n",
       "</table>\n",
       "</div>"
      ],
      "text/plain": [
       "               label\n",
       "P47811_0_BS1       1\n",
       "P0DTD1_0_BS23      1\n",
       "Q96HY7_0_BS0       1"
      ]
     },
     "execution_count": 45,
     "metadata": {},
     "output_type": "execute_result"
    }
   ],
   "source": [
    "y_model.head(3)"
   ]
  },
  {
   "cell_type": "markdown",
   "metadata": {},
   "source": [
    "#### CLASSES ARE IMBALANCED DUE TO OUR TRAINING DATASET, BUT BOTH TRAINING AND TEST DATA HAVE THE SAME PROPORTION FOR EACH CLASS"
   ]
  },
  {
   "cell_type": "code",
   "execution_count": 46,
   "metadata": {},
   "outputs": [
    {
     "name": "stdout",
     "output_type": "stream",
     "text": [
      "266\n",
      "27\n",
      "266\n",
      "27\n",
      "0 0.16\n",
      "1 0.43\n",
      "2 0.31\n",
      "3 0.1\n",
      "0 0.15\n",
      "1 0.44\n",
      "2 0.3\n",
      "3 0.11\n"
     ]
    }
   ],
   "source": [
    "print(len(X_model))\n",
    "print(len(X_blind))\n",
    "print(len(y_model))\n",
    "print(len(y_blind))\n",
    "for el in [0,1,2,3]:\n",
    "    print(el, round(y_model.label.tolist().count(el)/len(y_model),2))\n",
    "for el in [0,1,2,3]:\n",
    "    print(el, round(y_blind.label.tolist().count(el)/len(y_blind),2))"
   ]
  },
  {
   "cell_type": "markdown",
   "metadata": {},
   "source": [
    "#### CALLBACK TO GET BEST MODEL DURING TRAINING"
   ]
  },
  {
   "cell_type": "code",
   "execution_count": 76,
   "metadata": {},
   "outputs": [],
   "source": [
    "callback = tf.keras.callbacks.EarlyStopping(monitor = 'val_accuracy', min_delta = 0.01, patience = 100, verbose = 1, mode = 'max', restore_best_weights = True)"
   ]
  },
  {
   "cell_type": "markdown",
   "metadata": {},
   "source": [
    "#### OBTAINING CLASS WEIGHTS TO MINIMISE EFFECT OF CLASS IMBALANCE IN TRAINING DATASET"
   ]
  },
  {
   "cell_type": "code",
   "execution_count": 48,
   "metadata": {},
   "outputs": [],
   "source": [
    "class_weights = class_weight.compute_class_weight(class_weight = 'balanced',\n",
    "                                                 classes = np.unique(y_model.label.tolist()),\n",
    "                                                 y = np.array(y_model.label))\n",
    "class_weights_dict = {i: class_weights[i] for i in np.unique(y_model)}"
   ]
  },
  {
   "cell_type": "markdown",
   "metadata": {},
   "source": [
    "#### THE WEIGHT FOR EACH CLASS IS INVERSELY PROPORTIONAL TO THEIR FREQUENCY IN THE DATA SET"
   ]
  },
  {
   "cell_type": "code",
   "execution_count": 49,
   "metadata": {},
   "outputs": [
    {
     "name": "stdout",
     "output_type": "stream",
     "text": [
      "0 1.58\n",
      "1 0.58\n",
      "2 0.8\n",
      "3 2.56\n"
     ]
    }
   ],
   "source": [
    "for k, v in class_weights_dict.items():\n",
    "    print(k, round(v, 2))"
   ]
  },
  {
   "cell_type": "markdown",
   "metadata": {},
   "source": [
    "#### DATA SPLIT IN MODEL_TRAIN (0.8) (USED FOR MODEL TRAINING) AND MODEL_VAL (0.2) (USED FOR MODEL VALIDATION DURING TRAINING) STRATIFYING BY CLUSTER LABEL, SO THEY ARE BALANCED"
   ]
  },
  {
   "cell_type": "code",
   "execution_count": 50,
   "metadata": {},
   "outputs": [],
   "source": [
    "X_model_train, X_model_val, y_model_train, y_model_val = train_test_split(X_model, y_model, test_size = 0.2, random_state = 12345, shuffle = True, stratify = y_model)"
   ]
  },
  {
   "cell_type": "code",
   "execution_count": 51,
   "metadata": {},
   "outputs": [
    {
     "data": {
      "text/plain": [
       "1.0"
      ]
     },
     "execution_count": 51,
     "metadata": {},
     "output_type": "execute_result"
    }
   ],
   "source": [
    "len(set(X_model_train.index.tolist()).intersection(set(y_model_train.index.tolist())))/len(y_model_train)"
   ]
  },
  {
   "cell_type": "code",
   "execution_count": 52,
   "metadata": {},
   "outputs": [
    {
     "data": {
      "text/plain": [
       "1.0"
      ]
     },
     "execution_count": 52,
     "metadata": {},
     "output_type": "execute_result"
    }
   ],
   "source": [
    "len(set(X_model_val.index.tolist()).intersection(set(y_model_val.index.tolist())))/len(y_model_val)"
   ]
  },
  {
   "cell_type": "markdown",
   "metadata": {},
   "source": [
    "#### TRAINING AND VALIDATION DATA HAVE THE SAME PROPORTION FOR EACH CLASS"
   ]
  },
  {
   "cell_type": "code",
   "execution_count": 53,
   "metadata": {},
   "outputs": [
    {
     "name": "stdout",
     "output_type": "stream",
     "text": [
      "212\n",
      "54\n",
      "212\n",
      "54\n",
      "0 0.16\n",
      "1 0.43\n",
      "2 0.31\n",
      "3 0.1\n",
      "0 0.17\n",
      "1 0.43\n",
      "2 0.31\n",
      "3 0.09\n"
     ]
    }
   ],
   "source": [
    "print(len(X_model_train))\n",
    "print(len(X_model_val))\n",
    "print(len(y_model_train))\n",
    "print(len(y_model_val))\n",
    "for el in [0,1,2,3]:\n",
    "    print(el, round(y_model_train.label.tolist().count(el)/len(y_model_train),2))\n",
    "for el in [0,1,2,3]:\n",
    "    print(el, round(y_model_val.label.tolist().count(el)/len(y_model_val),2))"
   ]
  },
  {
   "cell_type": "markdown",
   "metadata": {},
   "source": [
    "# TRAINING"
   ]
  },
  {
   "cell_type": "code",
   "execution_count": 56,
   "metadata": {},
   "outputs": [],
   "source": [
    "random.seed(1)"
   ]
  },
  {
   "cell_type": "code",
   "execution_count": 57,
   "metadata": {},
   "outputs": [],
   "source": [
    "seeds = [random.randint(1, 100000) for i in range(10)] # [90015, 88091, 30338, 35897, 58161, 3551, 97160, 85734, 92233, 99814]"
   ]
  },
  {
   "cell_type": "code",
   "execution_count": 58,
   "metadata": {},
   "outputs": [
    {
     "name": "stdout",
     "output_type": "stream",
     "text": [
      "[17612, 74607, 8272, 33433, 15456, 64938, 99741, 58916, 61899, 85406]\n"
     ]
    }
   ],
   "source": [
    "print(seeds) #[17612, 74607, 8272, 33433, 15456, 64938, 99741, 58916, 61899, 85406]"
   ]
  },
  {
   "cell_type": "code",
   "execution_count": 80,
   "metadata": {},
   "outputs": [],
   "source": [
    "seeds = [90015, 88091, 30338, 35897, 58161, 3551, 97160, 85734, 92233, 99814]"
   ]
  },
  {
   "cell_type": "code",
   "execution_count": 59,
   "metadata": {},
   "outputs": [],
   "source": [
    "initializer = tf.keras.initializers.GlorotUniform(seed = 3551)"
   ]
  },
  {
   "cell_type": "code",
   "execution_count": 60,
   "metadata": {},
   "outputs": [
    {
     "data": {
      "text/html": [
       "<div>\n",
       "<style scoped>\n",
       "    .dataframe tbody tr th:only-of-type {\n",
       "        vertical-align: middle;\n",
       "    }\n",
       "\n",
       "    .dataframe tbody tr th {\n",
       "        vertical-align: top;\n",
       "    }\n",
       "\n",
       "    .dataframe thead th {\n",
       "        text-align: right;\n",
       "    }\n",
       "</style>\n",
       "<table border=\"1\" class=\"dataframe\">\n",
       "  <thead>\n",
       "    <tr style=\"text-align: right;\">\n",
       "      <th></th>\n",
       "      <th>0</th>\n",
       "      <th>1</th>\n",
       "      <th>2</th>\n",
       "      <th>3</th>\n",
       "      <th>4</th>\n",
       "      <th>5</th>\n",
       "      <th>6</th>\n",
       "      <th>7</th>\n",
       "      <th>8</th>\n",
       "      <th>9</th>\n",
       "      <th>10</th>\n",
       "    </tr>\n",
       "  </thead>\n",
       "  <tbody>\n",
       "    <tr>\n",
       "      <th>P0DTD1_2_BS0</th>\n",
       "      <td>0.550</td>\n",
       "      <td>0.136</td>\n",
       "      <td>0.227</td>\n",
       "      <td>0.045</td>\n",
       "      <td>0.182</td>\n",
       "      <td>0.091</td>\n",
       "      <td>0.000</td>\n",
       "      <td>0.136</td>\n",
       "      <td>0.045</td>\n",
       "      <td>0.091</td>\n",
       "      <td>0.045</td>\n",
       "    </tr>\n",
       "    <tr>\n",
       "      <th>Q6PJP8_0_BS9</th>\n",
       "      <td>0.175</td>\n",
       "      <td>0.000</td>\n",
       "      <td>0.000</td>\n",
       "      <td>0.429</td>\n",
       "      <td>0.143</td>\n",
       "      <td>0.000</td>\n",
       "      <td>0.000</td>\n",
       "      <td>0.286</td>\n",
       "      <td>0.143</td>\n",
       "      <td>0.000</td>\n",
       "      <td>0.000</td>\n",
       "    </tr>\n",
       "    <tr>\n",
       "      <th>Q8IU60_0_BS0</th>\n",
       "      <td>0.300</td>\n",
       "      <td>0.333</td>\n",
       "      <td>0.000</td>\n",
       "      <td>0.167</td>\n",
       "      <td>0.250</td>\n",
       "      <td>0.083</td>\n",
       "      <td>0.083</td>\n",
       "      <td>0.000</td>\n",
       "      <td>0.000</td>\n",
       "      <td>0.000</td>\n",
       "      <td>0.083</td>\n",
       "    </tr>\n",
       "  </tbody>\n",
       "</table>\n",
       "</div>"
      ],
      "text/plain": [
       "                 0      1      2      3      4      5      6      7      8   \\\n",
       "P0DTD1_2_BS0  0.550  0.136  0.227  0.045  0.182  0.091  0.000  0.136  0.045   \n",
       "Q6PJP8_0_BS9  0.175  0.000  0.000  0.429  0.143  0.000  0.000  0.286  0.143   \n",
       "Q8IU60_0_BS0  0.300  0.333  0.000  0.167  0.250  0.083  0.083  0.000  0.000   \n",
       "\n",
       "                 9      10  \n",
       "P0DTD1_2_BS0  0.091  0.045  \n",
       "Q6PJP8_0_BS9  0.000  0.000  \n",
       "Q8IU60_0_BS0  0.000  0.083  "
      ]
     },
     "execution_count": 60,
     "metadata": {},
     "output_type": "execute_result"
    }
   ],
   "source": [
    "X_model_train.head(3)"
   ]
  },
  {
   "cell_type": "markdown",
   "metadata": {},
   "source": [
    "### USING 10 DIFFERENT SEEDS, AND 50 MODELS WITHIN EACH SEED TO SELECT BEST MODEL"
   ]
  },
  {
   "cell_type": "code",
   "execution_count": 77,
   "metadata": {
    "collapsed": true,
    "jupyter": {
     "outputs_hidden": true
    }
   },
   "outputs": [
    {
     "name": "stdout",
     "output_type": "stream",
     "text": [
      "STARTING SEED 17612\n",
      "1\n",
      "Restoring model weights from the end of the best epoch: 42.\n",
      "Epoch 142: early stopping\n",
      "2\n",
      "Restoring model weights from the end of the best epoch: 39.\n",
      "Epoch 139: early stopping\n",
      "3\n",
      "Restoring model weights from the end of the best epoch: 42.\n",
      "Epoch 142: early stopping\n",
      "4\n",
      "Restoring model weights from the end of the best epoch: 36.\n",
      "Epoch 136: early stopping\n",
      "5\n",
      "Restoring model weights from the end of the best epoch: 40.\n",
      "Epoch 140: early stopping\n",
      "6\n",
      "Restoring model weights from the end of the best epoch: 39.\n",
      "Epoch 139: early stopping\n",
      "7\n",
      "Restoring model weights from the end of the best epoch: 32.\n",
      "Epoch 132: early stopping\n",
      "8\n",
      "Restoring model weights from the end of the best epoch: 29.\n",
      "Epoch 129: early stopping\n",
      "9\n",
      "Restoring model weights from the end of the best epoch: 30.\n",
      "Epoch 130: early stopping\n",
      "10\n",
      "Restoring model weights from the end of the best epoch: 35.\n",
      "Epoch 135: early stopping\n",
      "11\n",
      "Restoring model weights from the end of the best epoch: 36.\n",
      "Epoch 136: early stopping\n",
      "12\n",
      "Restoring model weights from the end of the best epoch: 39.\n",
      "Epoch 139: early stopping\n",
      "13\n",
      "Restoring model weights from the end of the best epoch: 32.\n",
      "Epoch 132: early stopping\n",
      "14\n",
      "Restoring model weights from the end of the best epoch: 36.\n",
      "Epoch 136: early stopping\n",
      "15\n",
      "Restoring model weights from the end of the best epoch: 37.\n",
      "Epoch 137: early stopping\n",
      "16\n",
      "Restoring model weights from the end of the best epoch: 38.\n",
      "Epoch 138: early stopping\n",
      "17\n",
      "Restoring model weights from the end of the best epoch: 42.\n",
      "Epoch 142: early stopping\n",
      "18\n",
      "Restoring model weights from the end of the best epoch: 29.\n",
      "Epoch 129: early stopping\n",
      "19\n",
      "Restoring model weights from the end of the best epoch: 37.\n",
      "Epoch 137: early stopping\n",
      "20\n",
      "Restoring model weights from the end of the best epoch: 41.\n",
      "Epoch 141: early stopping\n",
      "21\n",
      "Restoring model weights from the end of the best epoch: 35.\n",
      "Epoch 135: early stopping\n",
      "22\n",
      "Restoring model weights from the end of the best epoch: 40.\n",
      "Epoch 140: early stopping\n",
      "23\n",
      "Restoring model weights from the end of the best epoch: 39.\n",
      "Epoch 139: early stopping\n",
      "24\n",
      "Restoring model weights from the end of the best epoch: 34.\n",
      "Epoch 134: early stopping\n",
      "25\n",
      "Restoring model weights from the end of the best epoch: 32.\n",
      "Epoch 132: early stopping\n",
      "26\n",
      "Restoring model weights from the end of the best epoch: 34.\n",
      "Epoch 134: early stopping\n",
      "27\n",
      "Restoring model weights from the end of the best epoch: 40.\n",
      "Epoch 140: early stopping\n",
      "28\n",
      "Restoring model weights from the end of the best epoch: 41.\n",
      "Epoch 141: early stopping\n",
      "29\n",
      "Restoring model weights from the end of the best epoch: 35.\n",
      "Epoch 135: early stopping\n",
      "30\n",
      "Restoring model weights from the end of the best epoch: 35.\n",
      "Epoch 135: early stopping\n",
      "31\n",
      "Restoring model weights from the end of the best epoch: 39.\n",
      "Epoch 139: early stopping\n",
      "32\n",
      "Restoring model weights from the end of the best epoch: 38.\n",
      "Epoch 138: early stopping\n",
      "33\n",
      "Restoring model weights from the end of the best epoch: 41.\n",
      "Epoch 141: early stopping\n",
      "34\n",
      "Restoring model weights from the end of the best epoch: 36.\n",
      "Epoch 136: early stopping\n",
      "35\n",
      "Restoring model weights from the end of the best epoch: 39.\n",
      "Epoch 139: early stopping\n",
      "36\n",
      "Restoring model weights from the end of the best epoch: 37.\n",
      "Epoch 137: early stopping\n",
      "37\n",
      "Restoring model weights from the end of the best epoch: 37.\n",
      "Epoch 137: early stopping\n",
      "38\n",
      "Restoring model weights from the end of the best epoch: 38.\n",
      "Epoch 138: early stopping\n",
      "39\n",
      "Restoring model weights from the end of the best epoch: 37.\n",
      "Epoch 137: early stopping\n",
      "40\n",
      "Restoring model weights from the end of the best epoch: 41.\n",
      "Epoch 141: early stopping\n",
      "41\n",
      "Restoring model weights from the end of the best epoch: 39.\n",
      "Epoch 139: early stopping\n",
      "42\n",
      "Restoring model weights from the end of the best epoch: 38.\n",
      "Epoch 138: early stopping\n",
      "43\n",
      "Restoring model weights from the end of the best epoch: 31.\n",
      "Epoch 131: early stopping\n",
      "44\n",
      "Restoring model weights from the end of the best epoch: 35.\n",
      "Epoch 135: early stopping\n",
      "45\n",
      "Restoring model weights from the end of the best epoch: 33.\n",
      "Epoch 133: early stopping\n",
      "46\n",
      "Restoring model weights from the end of the best epoch: 36.\n",
      "Epoch 136: early stopping\n",
      "47\n",
      "Restoring model weights from the end of the best epoch: 35.\n",
      "Epoch 135: early stopping\n",
      "48\n",
      "Restoring model weights from the end of the best epoch: 32.\n",
      "Epoch 132: early stopping\n",
      "49\n",
      "Restoring model weights from the end of the best epoch: 44.\n",
      "Epoch 144: early stopping\n",
      "50\n",
      "Restoring model weights from the end of the best epoch: 42.\n",
      "Epoch 142: early stopping\n"
     ]
    }
   ],
   "source": [
    "wd = \"./results/ANN_results/diff_seeds\"\n",
    "#os.mkdir(wd)\n",
    "for seed in seeds[0:1]:\n",
    "    print(\"STARTING SEED {}\".format(seed))\n",
    "    seed_dir = os.path.join(wd, str(seed))\n",
    "    mods_dir = os.path.join(seed_dir, \"models\")\n",
    "    hist_dir = os.path.join(seed_dir, \"hists\")\n",
    "    #os.mkdir(seed_dir)\n",
    "    #os.mkdir(mods_dir)\n",
    "    #os.mkdir(hist_dir)\n",
    "    \n",
    "    initializer_seed = tf.keras.initializers.GlorotUniform(seed = seed)\n",
    "    for i in range(50):\n",
    "        print(i+1)\n",
    "        \n",
    "        model_i = Sequential([\n",
    "            Dense(units = 10, input_shape=(11,), activation = \"relu\", kernel_initializer = initializer_seed), # THIS IS THE MODEL\n",
    "            Dense(units = 4, activation = \"softmax\", kernel_initializer = initializer_seed)\n",
    "        ])\n",
    "        \n",
    "        model_i.compile(optimizer=Adam(learning_rate=0.01), loss = \"sparse_categorical_crossentropy\", metrics = [\"accuracy\"]) # COMPILE MODEL\n",
    "        \n",
    "        hist_i = model_i.fit(\n",
    "            x = X_model_train, y = y_model_train, batch_size = 32,\n",
    "            callbacks = [callback], validation_data = (X_model_val, y_model_val),\n",
    "            epochs = 300, shuffle = True, verbose = 0, class_weight =  class_weights_dict # TRAIN MODEL\n",
    "        )\n",
    "        final_epoch = callback.stopped_epoch-100\n",
    "        final_acc = round(hist_i.history[\"val_accuracy\"][final_epoch],2)\n",
    "        \n",
    "        model_i.save(os.path.join(mods_dir, \"{}_{}_model_epoch_{}_train_acc_{}.h5\".format(seed, i, final_epoch, round(final_acc, 2)))) # SAVING MODEL\n",
    "        \n",
    "        pd.DataFrame(hist_i.history).to_csv(os.path.join(hist_dir, \"{}_{}_hist_epoch_{}_train_acc_{}.csv\".format(seed, i, final_epoch, round(final_acc, 2))), index = False) # SAVING TRAINING DF"
   ]
  },
  {
   "cell_type": "markdown",
   "metadata": {},
   "source": [
    "## REPEATED STRATIFIED K-FOLD CROSS-VALIDATION"
   ]
  },
  {
   "cell_type": "code",
   "execution_count": 78,
   "metadata": {},
   "outputs": [],
   "source": [
    "rskf = RepeatedStratifiedKFold(n_splits = 10, n_repeats = 10, random_state = 312) #sets are one after other. 0-10, is one 10-fold CV, 10-20, and so on"
   ]
  },
  {
   "cell_type": "code",
   "execution_count": 85,
   "metadata": {
    "collapsed": true,
    "jupyter": {
     "outputs_hidden": true
    }
   },
   "outputs": [
    {
     "name": "stdout",
     "output_type": "stream",
     "text": [
      "991088843 568320915\n",
      "Restoring model weights from the end of the best epoch: 122.\n",
      "Epoch 222: early stopping\n",
      "Restoring model weights from the end of the best epoch: 2.\n",
      "Epoch 102: early stopping\n"
     ]
    },
    {
     "name": "stderr",
     "output_type": "stream",
     "text": [
      "/cluster/gjb_lab/2394007/miniconda/envs/deep_learning/lib/python3.10/site-packages/sklearn/neighbors/_classification.py:207: DataConversionWarning: A column-vector y was passed when a 1d array was expected. Please change the shape of y to (n_samples,), for example using ravel().\n",
      "  return self._fit(X, y)\n",
      "/cluster/gjb_lab/2394007/miniconda/envs/deep_learning/lib/python3.10/site-packages/sklearn/neighbors/_classification.py:207: DataConversionWarning: A column-vector y was passed when a 1d array was expected. Please change the shape of y to (n_samples,), for example using ravel().\n",
      "  return self._fit(X, y)\n"
     ]
    },
    {
     "name": "stdout",
     "output_type": "stream",
     "text": [
      "598941489 111816564\n",
      "Restoring model weights from the end of the best epoch: 58.\n",
      "Epoch 158: early stopping\n",
      "Restoring model weights from the end of the best epoch: 82.\n",
      "Epoch 182: early stopping\n",
      "WARNING:tensorflow:5 out of the last 5 calls to <function Model.make_predict_function.<locals>.predict_function at 0x2ae6abc60160> triggered tf.function retracing. Tracing is expensive and the excessive number of tracings could be due to (1) creating @tf.function repeatedly in a loop, (2) passing tensors with different shapes, (3) passing Python objects instead of tensors. For (1), please define your @tf.function outside of the loop. For (2), @tf.function has reduce_retracing=True option that can avoid unnecessary retracing. For (3), please refer to https://www.tensorflow.org/guide/function#controlling_retracing and https://www.tensorflow.org/api_docs/python/tf/function for  more details.\n",
      "232772597 572432229\n"
     ]
    },
    {
     "name": "stderr",
     "output_type": "stream",
     "text": [
      "/cluster/gjb_lab/2394007/miniconda/envs/deep_learning/lib/python3.10/site-packages/sklearn/neighbors/_classification.py:207: DataConversionWarning: A column-vector y was passed when a 1d array was expected. Please change the shape of y to (n_samples,), for example using ravel().\n",
      "  return self._fit(X, y)\n",
      "/cluster/gjb_lab/2394007/miniconda/envs/deep_learning/lib/python3.10/site-packages/sklearn/neighbors/_classification.py:207: DataConversionWarning: A column-vector y was passed when a 1d array was expected. Please change the shape of y to (n_samples,), for example using ravel().\n",
      "  return self._fit(X, y)\n"
     ]
    },
    {
     "name": "stdout",
     "output_type": "stream",
     "text": [
      "Restoring model weights from the end of the best epoch: 81.\n",
      "Epoch 181: early stopping\n",
      "WARNING:tensorflow:6 out of the last 6 calls to <function Model.make_predict_function.<locals>.predict_function at 0x2ae6abd0cd30> triggered tf.function retracing. Tracing is expensive and the excessive number of tracings could be due to (1) creating @tf.function repeatedly in a loop, (2) passing tensors with different shapes, (3) passing Python objects instead of tensors. For (1), please define your @tf.function outside of the loop. For (2), @tf.function has reduce_retracing=True option that can avoid unnecessary retracing. For (3), please refer to https://www.tensorflow.org/guide/function#controlling_retracing and https://www.tensorflow.org/api_docs/python/tf/function for  more details.\n",
      "Restoring model weights from the end of the best epoch: 83.\n",
      "Epoch 183: early stopping\n"
     ]
    },
    {
     "name": "stderr",
     "output_type": "stream",
     "text": [
      "/cluster/gjb_lab/2394007/miniconda/envs/deep_learning/lib/python3.10/site-packages/sklearn/neighbors/_classification.py:207: DataConversionWarning: A column-vector y was passed when a 1d array was expected. Please change the shape of y to (n_samples,), for example using ravel().\n",
      "  return self._fit(X, y)\n",
      "/cluster/gjb_lab/2394007/miniconda/envs/deep_learning/lib/python3.10/site-packages/sklearn/neighbors/_classification.py:207: DataConversionWarning: A column-vector y was passed when a 1d array was expected. Please change the shape of y to (n_samples,), for example using ravel().\n",
      "  return self._fit(X, y)\n"
     ]
    },
    {
     "name": "stdout",
     "output_type": "stream",
     "text": [
      "175915614 338871173\n",
      "Restoring model weights from the end of the best epoch: 85.\n",
      "Epoch 185: early stopping\n",
      "Restoring model weights from the end of the best epoch: 141.\n",
      "Epoch 241: early stopping\n"
     ]
    },
    {
     "name": "stderr",
     "output_type": "stream",
     "text": [
      "/cluster/gjb_lab/2394007/miniconda/envs/deep_learning/lib/python3.10/site-packages/sklearn/neighbors/_classification.py:207: DataConversionWarning: A column-vector y was passed when a 1d array was expected. Please change the shape of y to (n_samples,), for example using ravel().\n",
      "  return self._fit(X, y)\n",
      "/cluster/gjb_lab/2394007/miniconda/envs/deep_learning/lib/python3.10/site-packages/sklearn/neighbors/_classification.py:207: DataConversionWarning: A column-vector y was passed when a 1d array was expected. Please change the shape of y to (n_samples,), for example using ravel().\n",
      "  return self._fit(X, y)\n"
     ]
    },
    {
     "name": "stdout",
     "output_type": "stream",
     "text": [
      "939881659 817763531\n",
      "Restoring model weights from the end of the best epoch: 63.\n",
      "Epoch 163: early stopping\n",
      "Restoring model weights from the end of the best epoch: 5.\n",
      "Epoch 105: early stopping\n"
     ]
    },
    {
     "name": "stderr",
     "output_type": "stream",
     "text": [
      "/cluster/gjb_lab/2394007/miniconda/envs/deep_learning/lib/python3.10/site-packages/sklearn/neighbors/_classification.py:207: DataConversionWarning: A column-vector y was passed when a 1d array was expected. Please change the shape of y to (n_samples,), for example using ravel().\n",
      "  return self._fit(X, y)\n",
      "/cluster/gjb_lab/2394007/miniconda/envs/deep_learning/lib/python3.10/site-packages/sklearn/neighbors/_classification.py:207: DataConversionWarning: A column-vector y was passed when a 1d array was expected. Please change the shape of y to (n_samples,), for example using ravel().\n",
      "  return self._fit(X, y)\n"
     ]
    },
    {
     "name": "stdout",
     "output_type": "stream",
     "text": [
      "406932656 485658103\n",
      "Restoring model weights from the end of the best epoch: 35.\n",
      "Epoch 135: early stopping\n",
      "Restoring model weights from the end of the best epoch: 2.\n",
      "Epoch 102: early stopping\n"
     ]
    },
    {
     "name": "stderr",
     "output_type": "stream",
     "text": [
      "/cluster/gjb_lab/2394007/miniconda/envs/deep_learning/lib/python3.10/site-packages/sklearn/neighbors/_classification.py:207: DataConversionWarning: A column-vector y was passed when a 1d array was expected. Please change the shape of y to (n_samples,), for example using ravel().\n",
      "  return self._fit(X, y)\n",
      "/cluster/gjb_lab/2394007/miniconda/envs/deep_learning/lib/python3.10/site-packages/sklearn/neighbors/_classification.py:207: DataConversionWarning: A column-vector y was passed when a 1d array was expected. Please change the shape of y to (n_samples,), for example using ravel().\n",
      "  return self._fit(X, y)\n"
     ]
    },
    {
     "name": "stdout",
     "output_type": "stream",
     "text": [
      "629300360 238371042\n",
      "Restoring model weights from the end of the best epoch: 175.\n",
      "Epoch 275: early stopping\n",
      "Restoring model weights from the end of the best epoch: 6.\n",
      "Epoch 106: early stopping\n"
     ]
    },
    {
     "name": "stderr",
     "output_type": "stream",
     "text": [
      "/cluster/gjb_lab/2394007/miniconda/envs/deep_learning/lib/python3.10/site-packages/sklearn/neighbors/_classification.py:207: DataConversionWarning: A column-vector y was passed when a 1d array was expected. Please change the shape of y to (n_samples,), for example using ravel().\n",
      "  return self._fit(X, y)\n",
      "/cluster/gjb_lab/2394007/miniconda/envs/deep_learning/lib/python3.10/site-packages/sklearn/neighbors/_classification.py:207: DataConversionWarning: A column-vector y was passed when a 1d array was expected. Please change the shape of y to (n_samples,), for example using ravel().\n",
      "  return self._fit(X, y)\n"
     ]
    },
    {
     "name": "stdout",
     "output_type": "stream",
     "text": [
      "675781484 687994741\n",
      "Restoring model weights from the end of the best epoch: 78.\n",
      "Epoch 178: early stopping\n",
      "Restoring model weights from the end of the best epoch: 15.\n",
      "Epoch 115: early stopping\n",
      "884458704 990677152\n"
     ]
    },
    {
     "name": "stderr",
     "output_type": "stream",
     "text": [
      "/cluster/gjb_lab/2394007/miniconda/envs/deep_learning/lib/python3.10/site-packages/sklearn/neighbors/_classification.py:207: DataConversionWarning: A column-vector y was passed when a 1d array was expected. Please change the shape of y to (n_samples,), for example using ravel().\n",
      "  return self._fit(X, y)\n",
      "/cluster/gjb_lab/2394007/miniconda/envs/deep_learning/lib/python3.10/site-packages/sklearn/neighbors/_classification.py:207: DataConversionWarning: A column-vector y was passed when a 1d array was expected. Please change the shape of y to (n_samples,), for example using ravel().\n",
      "  return self._fit(X, y)\n"
     ]
    },
    {
     "name": "stdout",
     "output_type": "stream",
     "text": [
      "Restoring model weights from the end of the best epoch: 56.\n",
      "Epoch 156: early stopping\n",
      "Restoring model weights from the end of the best epoch: 1.\n",
      "Epoch 101: early stopping\n"
     ]
    },
    {
     "name": "stderr",
     "output_type": "stream",
     "text": [
      "/cluster/gjb_lab/2394007/miniconda/envs/deep_learning/lib/python3.10/site-packages/sklearn/neighbors/_classification.py:207: DataConversionWarning: A column-vector y was passed when a 1d array was expected. Please change the shape of y to (n_samples,), for example using ravel().\n",
      "  return self._fit(X, y)\n",
      "/cluster/gjb_lab/2394007/miniconda/envs/deep_learning/lib/python3.10/site-packages/sklearn/neighbors/_classification.py:207: DataConversionWarning: A column-vector y was passed when a 1d array was expected. Please change the shape of y to (n_samples,), for example using ravel().\n",
      "  return self._fit(X, y)\n"
     ]
    },
    {
     "name": "stdout",
     "output_type": "stream",
     "text": [
      "747544713 355441053\n",
      "Restoring model weights from the end of the best epoch: 103.\n",
      "Epoch 203: early stopping\n",
      "Restoring model weights from the end of the best epoch: 71.\n",
      "Epoch 171: early stopping\n"
     ]
    },
    {
     "name": "stderr",
     "output_type": "stream",
     "text": [
      "/cluster/gjb_lab/2394007/miniconda/envs/deep_learning/lib/python3.10/site-packages/sklearn/neighbors/_classification.py:207: DataConversionWarning: A column-vector y was passed when a 1d array was expected. Please change the shape of y to (n_samples,), for example using ravel().\n",
      "  return self._fit(X, y)\n",
      "/cluster/gjb_lab/2394007/miniconda/envs/deep_learning/lib/python3.10/site-packages/sklearn/neighbors/_classification.py:207: DataConversionWarning: A column-vector y was passed when a 1d array was expected. Please change the shape of y to (n_samples,), for example using ravel().\n",
      "  return self._fit(X, y)\n"
     ]
    },
    {
     "name": "stdout",
     "output_type": "stream",
     "text": [
      "988608876 693472521\n",
      "Restoring model weights from the end of the best epoch: 87.\n",
      "Epoch 187: early stopping\n",
      "Restoring model weights from the end of the best epoch: 75.\n",
      "Epoch 175: early stopping\n"
     ]
    },
    {
     "name": "stderr",
     "output_type": "stream",
     "text": [
      "/cluster/gjb_lab/2394007/miniconda/envs/deep_learning/lib/python3.10/site-packages/sklearn/neighbors/_classification.py:207: DataConversionWarning: A column-vector y was passed when a 1d array was expected. Please change the shape of y to (n_samples,), for example using ravel().\n",
      "  return self._fit(X, y)\n",
      "/cluster/gjb_lab/2394007/miniconda/envs/deep_learning/lib/python3.10/site-packages/sklearn/neighbors/_classification.py:207: DataConversionWarning: A column-vector y was passed when a 1d array was expected. Please change the shape of y to (n_samples,), for example using ravel().\n",
      "  return self._fit(X, y)\n"
     ]
    },
    {
     "name": "stdout",
     "output_type": "stream",
     "text": [
      "343601635 521655955\n",
      "Restoring model weights from the end of the best epoch: 41.\n",
      "Epoch 141: early stopping\n",
      "Restoring model weights from the end of the best epoch: 4.\n",
      "Epoch 104: early stopping\n"
     ]
    },
    {
     "name": "stderr",
     "output_type": "stream",
     "text": [
      "/cluster/gjb_lab/2394007/miniconda/envs/deep_learning/lib/python3.10/site-packages/sklearn/neighbors/_classification.py:207: DataConversionWarning: A column-vector y was passed when a 1d array was expected. Please change the shape of y to (n_samples,), for example using ravel().\n",
      "  return self._fit(X, y)\n",
      "/cluster/gjb_lab/2394007/miniconda/envs/deep_learning/lib/python3.10/site-packages/sklearn/neighbors/_classification.py:207: DataConversionWarning: A column-vector y was passed when a 1d array was expected. Please change the shape of y to (n_samples,), for example using ravel().\n",
      "  return self._fit(X, y)\n"
     ]
    },
    {
     "name": "stdout",
     "output_type": "stream",
     "text": [
      "74019176 275076729\n",
      "Restoring model weights from the end of the best epoch: 89.\n",
      "Epoch 189: early stopping\n",
      "Restoring model weights from the end of the best epoch: 3.\n",
      "Epoch 103: early stopping\n"
     ]
    },
    {
     "name": "stderr",
     "output_type": "stream",
     "text": [
      "/cluster/gjb_lab/2394007/miniconda/envs/deep_learning/lib/python3.10/site-packages/sklearn/neighbors/_classification.py:207: DataConversionWarning: A column-vector y was passed when a 1d array was expected. Please change the shape of y to (n_samples,), for example using ravel().\n",
      "  return self._fit(X, y)\n",
      "/cluster/gjb_lab/2394007/miniconda/envs/deep_learning/lib/python3.10/site-packages/sklearn/neighbors/_classification.py:207: DataConversionWarning: A column-vector y was passed when a 1d array was expected. Please change the shape of y to (n_samples,), for example using ravel().\n",
      "  return self._fit(X, y)\n"
     ]
    },
    {
     "name": "stdout",
     "output_type": "stream",
     "text": [
      "417777856 158193606\n",
      "Restoring model weights from the end of the best epoch: 145.\n",
      "Epoch 245: early stopping\n",
      "Restoring model weights from the end of the best epoch: 4.\n",
      "Epoch 104: early stopping\n"
     ]
    },
    {
     "name": "stderr",
     "output_type": "stream",
     "text": [
      "/cluster/gjb_lab/2394007/miniconda/envs/deep_learning/lib/python3.10/site-packages/sklearn/neighbors/_classification.py:207: DataConversionWarning: A column-vector y was passed when a 1d array was expected. Please change the shape of y to (n_samples,), for example using ravel().\n",
      "  return self._fit(X, y)\n",
      "/cluster/gjb_lab/2394007/miniconda/envs/deep_learning/lib/python3.10/site-packages/sklearn/neighbors/_classification.py:207: DataConversionWarning: A column-vector y was passed when a 1d array was expected. Please change the shape of y to (n_samples,), for example using ravel().\n",
      "  return self._fit(X, y)\n"
     ]
    },
    {
     "name": "stdout",
     "output_type": "stream",
     "text": [
      "77017207 678658990\n",
      "Restoring model weights from the end of the best epoch: 37.\n",
      "Epoch 137: early stopping\n",
      "Restoring model weights from the end of the best epoch: 2.\n",
      "Epoch 102: early stopping\n",
      "298546246 612983202\n"
     ]
    },
    {
     "name": "stderr",
     "output_type": "stream",
     "text": [
      "/cluster/gjb_lab/2394007/miniconda/envs/deep_learning/lib/python3.10/site-packages/sklearn/neighbors/_classification.py:207: DataConversionWarning: A column-vector y was passed when a 1d array was expected. Please change the shape of y to (n_samples,), for example using ravel().\n",
      "  return self._fit(X, y)\n",
      "/cluster/gjb_lab/2394007/miniconda/envs/deep_learning/lib/python3.10/site-packages/sklearn/neighbors/_classification.py:207: DataConversionWarning: A column-vector y was passed when a 1d array was expected. Please change the shape of y to (n_samples,), for example using ravel().\n",
      "  return self._fit(X, y)\n"
     ]
    },
    {
     "name": "stdout",
     "output_type": "stream",
     "text": [
      "Restoring model weights from the end of the best epoch: 63.\n",
      "Epoch 163: early stopping\n",
      "Restoring model weights from the end of the best epoch: 1.\n",
      "Epoch 101: early stopping\n",
      "888757311 70468621\n"
     ]
    },
    {
     "name": "stderr",
     "output_type": "stream",
     "text": [
      "/cluster/gjb_lab/2394007/miniconda/envs/deep_learning/lib/python3.10/site-packages/sklearn/neighbors/_classification.py:207: DataConversionWarning: A column-vector y was passed when a 1d array was expected. Please change the shape of y to (n_samples,), for example using ravel().\n",
      "  return self._fit(X, y)\n",
      "/cluster/gjb_lab/2394007/miniconda/envs/deep_learning/lib/python3.10/site-packages/sklearn/neighbors/_classification.py:207: DataConversionWarning: A column-vector y was passed when a 1d array was expected. Please change the shape of y to (n_samples,), for example using ravel().\n",
      "  return self._fit(X, y)\n"
     ]
    },
    {
     "name": "stdout",
     "output_type": "stream",
     "text": [
      "Restoring model weights from the end of the best epoch: 71.\n",
      "Epoch 171: early stopping\n",
      "Restoring model weights from the end of the best epoch: 13.\n",
      "Epoch 113: early stopping\n"
     ]
    },
    {
     "name": "stderr",
     "output_type": "stream",
     "text": [
      "/cluster/gjb_lab/2394007/miniconda/envs/deep_learning/lib/python3.10/site-packages/sklearn/neighbors/_classification.py:207: DataConversionWarning: A column-vector y was passed when a 1d array was expected. Please change the shape of y to (n_samples,), for example using ravel().\n",
      "  return self._fit(X, y)\n",
      "/cluster/gjb_lab/2394007/miniconda/envs/deep_learning/lib/python3.10/site-packages/sklearn/neighbors/_classification.py:207: DataConversionWarning: A column-vector y was passed when a 1d array was expected. Please change the shape of y to (n_samples,), for example using ravel().\n",
      "  return self._fit(X, y)\n"
     ]
    },
    {
     "name": "stdout",
     "output_type": "stream",
     "text": [
      "879869220 740523724\n",
      "Restoring model weights from the end of the best epoch: 80.\n",
      "Epoch 180: early stopping\n",
      "Restoring model weights from the end of the best epoch: 2.\n",
      "Epoch 102: early stopping\n"
     ]
    },
    {
     "name": "stderr",
     "output_type": "stream",
     "text": [
      "/cluster/gjb_lab/2394007/miniconda/envs/deep_learning/lib/python3.10/site-packages/sklearn/neighbors/_classification.py:207: DataConversionWarning: A column-vector y was passed when a 1d array was expected. Please change the shape of y to (n_samples,), for example using ravel().\n",
      "  return self._fit(X, y)\n",
      "/cluster/gjb_lab/2394007/miniconda/envs/deep_learning/lib/python3.10/site-packages/sklearn/neighbors/_classification.py:207: DataConversionWarning: A column-vector y was passed when a 1d array was expected. Please change the shape of y to (n_samples,), for example using ravel().\n",
      "  return self._fit(X, y)\n"
     ]
    },
    {
     "name": "stdout",
     "output_type": "stream",
     "text": [
      "932318943 877896483\n",
      "Restoring model weights from the end of the best epoch: 31.\n",
      "Epoch 131: early stopping\n",
      "Restoring model weights from the end of the best epoch: 5.\n",
      "Epoch 105: early stopping\n"
     ]
    },
    {
     "name": "stderr",
     "output_type": "stream",
     "text": [
      "/cluster/gjb_lab/2394007/miniconda/envs/deep_learning/lib/python3.10/site-packages/sklearn/neighbors/_classification.py:207: DataConversionWarning: A column-vector y was passed when a 1d array was expected. Please change the shape of y to (n_samples,), for example using ravel().\n",
      "  return self._fit(X, y)\n",
      "/cluster/gjb_lab/2394007/miniconda/envs/deep_learning/lib/python3.10/site-packages/sklearn/neighbors/_classification.py:207: DataConversionWarning: A column-vector y was passed when a 1d array was expected. Please change the shape of y to (n_samples,), for example using ravel().\n",
      "  return self._fit(X, y)\n"
     ]
    },
    {
     "name": "stdout",
     "output_type": "stream",
     "text": [
      "678665727 619007157\n",
      "Restoring model weights from the end of the best epoch: 99.\n",
      "Epoch 199: early stopping\n",
      "Restoring model weights from the end of the best epoch: 48.\n",
      "Epoch 148: early stopping\n"
     ]
    },
    {
     "name": "stderr",
     "output_type": "stream",
     "text": [
      "/cluster/gjb_lab/2394007/miniconda/envs/deep_learning/lib/python3.10/site-packages/sklearn/neighbors/_classification.py:207: DataConversionWarning: A column-vector y was passed when a 1d array was expected. Please change the shape of y to (n_samples,), for example using ravel().\n",
      "  return self._fit(X, y)\n",
      "/cluster/gjb_lab/2394007/miniconda/envs/deep_learning/lib/python3.10/site-packages/sklearn/neighbors/_classification.py:207: DataConversionWarning: A column-vector y was passed when a 1d array was expected. Please change the shape of y to (n_samples,), for example using ravel().\n",
      "  return self._fit(X, y)\n"
     ]
    },
    {
     "name": "stdout",
     "output_type": "stream",
     "text": [
      "600713128 82029257\n",
      "Restoring model weights from the end of the best epoch: 113.\n",
      "Epoch 213: early stopping\n",
      "Restoring model weights from the end of the best epoch: 28.\n",
      "Epoch 128: early stopping\n"
     ]
    },
    {
     "name": "stderr",
     "output_type": "stream",
     "text": [
      "/cluster/gjb_lab/2394007/miniconda/envs/deep_learning/lib/python3.10/site-packages/sklearn/neighbors/_classification.py:207: DataConversionWarning: A column-vector y was passed when a 1d array was expected. Please change the shape of y to (n_samples,), for example using ravel().\n",
      "  return self._fit(X, y)\n",
      "/cluster/gjb_lab/2394007/miniconda/envs/deep_learning/lib/python3.10/site-packages/sklearn/neighbors/_classification.py:207: DataConversionWarning: A column-vector y was passed when a 1d array was expected. Please change the shape of y to (n_samples,), for example using ravel().\n",
      "  return self._fit(X, y)\n"
     ]
    },
    {
     "name": "stdout",
     "output_type": "stream",
     "text": [
      "741361611 883101615\n",
      "Restoring model weights from the end of the best epoch: 98.\n",
      "Epoch 198: early stopping\n",
      "Restoring model weights from the end of the best epoch: 1.\n",
      "Epoch 101: early stopping\n"
     ]
    },
    {
     "name": "stderr",
     "output_type": "stream",
     "text": [
      "/cluster/gjb_lab/2394007/miniconda/envs/deep_learning/lib/python3.10/site-packages/sklearn/neighbors/_classification.py:207: DataConversionWarning: A column-vector y was passed when a 1d array was expected. Please change the shape of y to (n_samples,), for example using ravel().\n",
      "  return self._fit(X, y)\n",
      "/cluster/gjb_lab/2394007/miniconda/envs/deep_learning/lib/python3.10/site-packages/sklearn/neighbors/_classification.py:207: DataConversionWarning: A column-vector y was passed when a 1d array was expected. Please change the shape of y to (n_samples,), for example using ravel().\n",
      "  return self._fit(X, y)\n"
     ]
    },
    {
     "name": "stdout",
     "output_type": "stream",
     "text": [
      "809800804 582980127\n",
      "Restoring model weights from the end of the best epoch: 75.\n",
      "Epoch 175: early stopping\n",
      "Restoring model weights from the end of the best epoch: 70.\n",
      "Epoch 170: early stopping\n"
     ]
    },
    {
     "name": "stderr",
     "output_type": "stream",
     "text": [
      "/cluster/gjb_lab/2394007/miniconda/envs/deep_learning/lib/python3.10/site-packages/sklearn/neighbors/_classification.py:207: DataConversionWarning: A column-vector y was passed when a 1d array was expected. Please change the shape of y to (n_samples,), for example using ravel().\n",
      "  return self._fit(X, y)\n",
      "/cluster/gjb_lab/2394007/miniconda/envs/deep_learning/lib/python3.10/site-packages/sklearn/neighbors/_classification.py:207: DataConversionWarning: A column-vector y was passed when a 1d array was expected. Please change the shape of y to (n_samples,), for example using ravel().\n",
      "  return self._fit(X, y)\n"
     ]
    },
    {
     "name": "stdout",
     "output_type": "stream",
     "text": [
      "589665740 470579224\n",
      "Restoring model weights from the end of the best epoch: 49.\n",
      "Epoch 149: early stopping\n",
      "Restoring model weights from the end of the best epoch: 2.\n",
      "Epoch 102: early stopping\n",
      "507141944 106446894\n"
     ]
    },
    {
     "name": "stderr",
     "output_type": "stream",
     "text": [
      "/cluster/gjb_lab/2394007/miniconda/envs/deep_learning/lib/python3.10/site-packages/sklearn/neighbors/_classification.py:207: DataConversionWarning: A column-vector y was passed when a 1d array was expected. Please change the shape of y to (n_samples,), for example using ravel().\n",
      "  return self._fit(X, y)\n",
      "/cluster/gjb_lab/2394007/miniconda/envs/deep_learning/lib/python3.10/site-packages/sklearn/neighbors/_classification.py:207: DataConversionWarning: A column-vector y was passed when a 1d array was expected. Please change the shape of y to (n_samples,), for example using ravel().\n",
      "  return self._fit(X, y)\n"
     ]
    },
    {
     "name": "stdout",
     "output_type": "stream",
     "text": [
      "Restoring model weights from the end of the best epoch: 100.\n",
      "Epoch 200: early stopping\n",
      "Restoring model weights from the end of the best epoch: 45.\n",
      "Epoch 145: early stopping\n"
     ]
    },
    {
     "name": "stderr",
     "output_type": "stream",
     "text": [
      "/cluster/gjb_lab/2394007/miniconda/envs/deep_learning/lib/python3.10/site-packages/sklearn/neighbors/_classification.py:207: DataConversionWarning: A column-vector y was passed when a 1d array was expected. Please change the shape of y to (n_samples,), for example using ravel().\n",
      "  return self._fit(X, y)\n",
      "/cluster/gjb_lab/2394007/miniconda/envs/deep_learning/lib/python3.10/site-packages/sklearn/neighbors/_classification.py:207: DataConversionWarning: A column-vector y was passed when a 1d array was expected. Please change the shape of y to (n_samples,), for example using ravel().\n",
      "  return self._fit(X, y)\n"
     ]
    },
    {
     "name": "stdout",
     "output_type": "stream",
     "text": [
      "423435909 566413730\n",
      "Restoring model weights from the end of the best epoch: 55.\n",
      "Epoch 155: early stopping\n",
      "Restoring model weights from the end of the best epoch: 55.\n",
      "Epoch 155: early stopping\n"
     ]
    },
    {
     "name": "stderr",
     "output_type": "stream",
     "text": [
      "/cluster/gjb_lab/2394007/miniconda/envs/deep_learning/lib/python3.10/site-packages/sklearn/neighbors/_classification.py:207: DataConversionWarning: A column-vector y was passed when a 1d array was expected. Please change the shape of y to (n_samples,), for example using ravel().\n",
      "  return self._fit(X, y)\n",
      "/cluster/gjb_lab/2394007/miniconda/envs/deep_learning/lib/python3.10/site-packages/sklearn/neighbors/_classification.py:207: DataConversionWarning: A column-vector y was passed when a 1d array was expected. Please change the shape of y to (n_samples,), for example using ravel().\n",
      "  return self._fit(X, y)\n"
     ]
    },
    {
     "name": "stdout",
     "output_type": "stream",
     "text": [
      "658390836 65943285\n",
      "Restoring model weights from the end of the best epoch: 124.\n",
      "Epoch 224: early stopping\n",
      "Restoring model weights from the end of the best epoch: 23.\n",
      "Epoch 123: early stopping\n"
     ]
    },
    {
     "name": "stderr",
     "output_type": "stream",
     "text": [
      "/cluster/gjb_lab/2394007/miniconda/envs/deep_learning/lib/python3.10/site-packages/sklearn/neighbors/_classification.py:207: DataConversionWarning: A column-vector y was passed when a 1d array was expected. Please change the shape of y to (n_samples,), for example using ravel().\n",
      "  return self._fit(X, y)\n",
      "/cluster/gjb_lab/2394007/miniconda/envs/deep_learning/lib/python3.10/site-packages/sklearn/neighbors/_classification.py:207: DataConversionWarning: A column-vector y was passed when a 1d array was expected. Please change the shape of y to (n_samples,), for example using ravel().\n",
      "  return self._fit(X, y)\n"
     ]
    },
    {
     "name": "stdout",
     "output_type": "stream",
     "text": [
      "800050043 336290352\n",
      "Restoring model weights from the end of the best epoch: 101.\n",
      "Epoch 201: early stopping\n",
      "Restoring model weights from the end of the best epoch: 125.\n",
      "Epoch 225: early stopping\n"
     ]
    },
    {
     "name": "stderr",
     "output_type": "stream",
     "text": [
      "/cluster/gjb_lab/2394007/miniconda/envs/deep_learning/lib/python3.10/site-packages/sklearn/neighbors/_classification.py:207: DataConversionWarning: A column-vector y was passed when a 1d array was expected. Please change the shape of y to (n_samples,), for example using ravel().\n",
      "  return self._fit(X, y)\n",
      "/cluster/gjb_lab/2394007/miniconda/envs/deep_learning/lib/python3.10/site-packages/sklearn/neighbors/_classification.py:207: DataConversionWarning: A column-vector y was passed when a 1d array was expected. Please change the shape of y to (n_samples,), for example using ravel().\n",
      "  return self._fit(X, y)\n"
     ]
    },
    {
     "name": "stdout",
     "output_type": "stream",
     "text": [
      "558016882 257131552\n",
      "Restoring model weights from the end of the best epoch: 107.\n",
      "Epoch 207: early stopping\n",
      "Restoring model weights from the end of the best epoch: 71.\n",
      "Epoch 171: early stopping\n"
     ]
    },
    {
     "name": "stderr",
     "output_type": "stream",
     "text": [
      "/cluster/gjb_lab/2394007/miniconda/envs/deep_learning/lib/python3.10/site-packages/sklearn/neighbors/_classification.py:207: DataConversionWarning: A column-vector y was passed when a 1d array was expected. Please change the shape of y to (n_samples,), for example using ravel().\n",
      "  return self._fit(X, y)\n",
      "/cluster/gjb_lab/2394007/miniconda/envs/deep_learning/lib/python3.10/site-packages/sklearn/neighbors/_classification.py:207: DataConversionWarning: A column-vector y was passed when a 1d array was expected. Please change the shape of y to (n_samples,), for example using ravel().\n",
      "  return self._fit(X, y)\n"
     ]
    },
    {
     "name": "stdout",
     "output_type": "stream",
     "text": [
      "159895703 387421108\n",
      "Restoring model weights from the end of the best epoch: 59.\n",
      "Epoch 159: early stopping\n",
      "Restoring model weights from the end of the best epoch: 48.\n",
      "Epoch 148: early stopping\n",
      "789384871 810337727\n"
     ]
    },
    {
     "name": "stderr",
     "output_type": "stream",
     "text": [
      "/cluster/gjb_lab/2394007/miniconda/envs/deep_learning/lib/python3.10/site-packages/sklearn/neighbors/_classification.py:207: DataConversionWarning: A column-vector y was passed when a 1d array was expected. Please change the shape of y to (n_samples,), for example using ravel().\n",
      "  return self._fit(X, y)\n",
      "/cluster/gjb_lab/2394007/miniconda/envs/deep_learning/lib/python3.10/site-packages/sklearn/neighbors/_classification.py:207: DataConversionWarning: A column-vector y was passed when a 1d array was expected. Please change the shape of y to (n_samples,), for example using ravel().\n",
      "  return self._fit(X, y)\n"
     ]
    },
    {
     "name": "stdout",
     "output_type": "stream",
     "text": [
      "Restoring model weights from the end of the best epoch: 114.\n",
      "Epoch 214: early stopping\n",
      "Restoring model weights from the end of the best epoch: 3.\n",
      "Epoch 103: early stopping\n",
      "932304949 714849472\n"
     ]
    },
    {
     "name": "stderr",
     "output_type": "stream",
     "text": [
      "/cluster/gjb_lab/2394007/miniconda/envs/deep_learning/lib/python3.10/site-packages/sklearn/neighbors/_classification.py:207: DataConversionWarning: A column-vector y was passed when a 1d array was expected. Please change the shape of y to (n_samples,), for example using ravel().\n",
      "  return self._fit(X, y)\n",
      "/cluster/gjb_lab/2394007/miniconda/envs/deep_learning/lib/python3.10/site-packages/sklearn/neighbors/_classification.py:207: DataConversionWarning: A column-vector y was passed when a 1d array was expected. Please change the shape of y to (n_samples,), for example using ravel().\n",
      "  return self._fit(X, y)\n"
     ]
    },
    {
     "name": "stdout",
     "output_type": "stream",
     "text": [
      "Restoring model weights from the end of the best epoch: 55.\n",
      "Epoch 155: early stopping\n",
      "Restoring model weights from the end of the best epoch: 46.\n",
      "Epoch 146: early stopping\n"
     ]
    },
    {
     "name": "stderr",
     "output_type": "stream",
     "text": [
      "/cluster/gjb_lab/2394007/miniconda/envs/deep_learning/lib/python3.10/site-packages/sklearn/neighbors/_classification.py:207: DataConversionWarning: A column-vector y was passed when a 1d array was expected. Please change the shape of y to (n_samples,), for example using ravel().\n",
      "  return self._fit(X, y)\n",
      "/cluster/gjb_lab/2394007/miniconda/envs/deep_learning/lib/python3.10/site-packages/sklearn/neighbors/_classification.py:207: DataConversionWarning: A column-vector y was passed when a 1d array was expected. Please change the shape of y to (n_samples,), for example using ravel().\n",
      "  return self._fit(X, y)\n"
     ]
    },
    {
     "name": "stdout",
     "output_type": "stream",
     "text": [
      "731362365 354947272\n",
      "Restoring model weights from the end of the best epoch: 77.\n",
      "Epoch 177: early stopping\n",
      "Restoring model weights from the end of the best epoch: 53.\n",
      "Epoch 153: early stopping\n"
     ]
    },
    {
     "name": "stderr",
     "output_type": "stream",
     "text": [
      "/cluster/gjb_lab/2394007/miniconda/envs/deep_learning/lib/python3.10/site-packages/sklearn/neighbors/_classification.py:207: DataConversionWarning: A column-vector y was passed when a 1d array was expected. Please change the shape of y to (n_samples,), for example using ravel().\n",
      "  return self._fit(X, y)\n",
      "/cluster/gjb_lab/2394007/miniconda/envs/deep_learning/lib/python3.10/site-packages/sklearn/neighbors/_classification.py:207: DataConversionWarning: A column-vector y was passed when a 1d array was expected. Please change the shape of y to (n_samples,), for example using ravel().\n",
      "  return self._fit(X, y)\n"
     ]
    },
    {
     "name": "stdout",
     "output_type": "stream",
     "text": [
      "610840957 869165711\n",
      "Restoring model weights from the end of the best epoch: 62.\n",
      "Epoch 162: early stopping\n",
      "Restoring model weights from the end of the best epoch: 44.\n",
      "Epoch 144: early stopping\n"
     ]
    },
    {
     "name": "stderr",
     "output_type": "stream",
     "text": [
      "/cluster/gjb_lab/2394007/miniconda/envs/deep_learning/lib/python3.10/site-packages/sklearn/neighbors/_classification.py:207: DataConversionWarning: A column-vector y was passed when a 1d array was expected. Please change the shape of y to (n_samples,), for example using ravel().\n",
      "  return self._fit(X, y)\n",
      "/cluster/gjb_lab/2394007/miniconda/envs/deep_learning/lib/python3.10/site-packages/sklearn/neighbors/_classification.py:207: DataConversionWarning: A column-vector y was passed when a 1d array was expected. Please change the shape of y to (n_samples,), for example using ravel().\n",
      "  return self._fit(X, y)\n"
     ]
    },
    {
     "name": "stdout",
     "output_type": "stream",
     "text": [
      "630264536 149566714\n",
      "Restoring model weights from the end of the best epoch: 20.\n",
      "Epoch 120: early stopping\n",
      "Restoring model weights from the end of the best epoch: 3.\n",
      "Epoch 103: early stopping\n",
      "722346642 487242558\n"
     ]
    },
    {
     "name": "stderr",
     "output_type": "stream",
     "text": [
      "/cluster/gjb_lab/2394007/miniconda/envs/deep_learning/lib/python3.10/site-packages/sklearn/neighbors/_classification.py:207: DataConversionWarning: A column-vector y was passed when a 1d array was expected. Please change the shape of y to (n_samples,), for example using ravel().\n",
      "  return self._fit(X, y)\n",
      "/cluster/gjb_lab/2394007/miniconda/envs/deep_learning/lib/python3.10/site-packages/sklearn/neighbors/_classification.py:207: DataConversionWarning: A column-vector y was passed when a 1d array was expected. Please change the shape of y to (n_samples,), for example using ravel().\n",
      "  return self._fit(X, y)\n"
     ]
    },
    {
     "name": "stdout",
     "output_type": "stream",
     "text": [
      "Restoring model weights from the end of the best epoch: 1.\n",
      "Epoch 101: early stopping\n",
      "307055965 652348236\n"
     ]
    },
    {
     "name": "stderr",
     "output_type": "stream",
     "text": [
      "/cluster/gjb_lab/2394007/miniconda/envs/deep_learning/lib/python3.10/site-packages/sklearn/neighbors/_classification.py:207: DataConversionWarning: A column-vector y was passed when a 1d array was expected. Please change the shape of y to (n_samples,), for example using ravel().\n",
      "  return self._fit(X, y)\n",
      "/cluster/gjb_lab/2394007/miniconda/envs/deep_learning/lib/python3.10/site-packages/sklearn/neighbors/_classification.py:207: DataConversionWarning: A column-vector y was passed when a 1d array was expected. Please change the shape of y to (n_samples,), for example using ravel().\n",
      "  return self._fit(X, y)\n"
     ]
    },
    {
     "name": "stdout",
     "output_type": "stream",
     "text": [
      "Restoring model weights from the end of the best epoch: 87.\n",
      "Epoch 187: early stopping\n",
      "Restoring model weights from the end of the best epoch: 19.\n",
      "Epoch 119: early stopping\n",
      "495464783 792595060\n"
     ]
    },
    {
     "name": "stderr",
     "output_type": "stream",
     "text": [
      "/cluster/gjb_lab/2394007/miniconda/envs/deep_learning/lib/python3.10/site-packages/sklearn/neighbors/_classification.py:207: DataConversionWarning: A column-vector y was passed when a 1d array was expected. Please change the shape of y to (n_samples,), for example using ravel().\n",
      "  return self._fit(X, y)\n",
      "/cluster/gjb_lab/2394007/miniconda/envs/deep_learning/lib/python3.10/site-packages/sklearn/neighbors/_classification.py:207: DataConversionWarning: A column-vector y was passed when a 1d array was expected. Please change the shape of y to (n_samples,), for example using ravel().\n",
      "  return self._fit(X, y)\n"
     ]
    },
    {
     "name": "stdout",
     "output_type": "stream",
     "text": [
      "Restoring model weights from the end of the best epoch: 96.\n",
      "Epoch 196: early stopping\n",
      "Restoring model weights from the end of the best epoch: 38.\n",
      "Epoch 138: early stopping\n",
      "586862104 548561622\n"
     ]
    },
    {
     "name": "stderr",
     "output_type": "stream",
     "text": [
      "/cluster/gjb_lab/2394007/miniconda/envs/deep_learning/lib/python3.10/site-packages/sklearn/neighbors/_classification.py:207: DataConversionWarning: A column-vector y was passed when a 1d array was expected. Please change the shape of y to (n_samples,), for example using ravel().\n",
      "  return self._fit(X, y)\n",
      "/cluster/gjb_lab/2394007/miniconda/envs/deep_learning/lib/python3.10/site-packages/sklearn/neighbors/_classification.py:207: DataConversionWarning: A column-vector y was passed when a 1d array was expected. Please change the shape of y to (n_samples,), for example using ravel().\n",
      "  return self._fit(X, y)\n"
     ]
    },
    {
     "name": "stdout",
     "output_type": "stream",
     "text": [
      "Restoring model weights from the end of the best epoch: 77.\n",
      "Epoch 177: early stopping\n",
      "Restoring model weights from the end of the best epoch: 2.\n",
      "Epoch 102: early stopping\n"
     ]
    },
    {
     "name": "stderr",
     "output_type": "stream",
     "text": [
      "/cluster/gjb_lab/2394007/miniconda/envs/deep_learning/lib/python3.10/site-packages/sklearn/neighbors/_classification.py:207: DataConversionWarning: A column-vector y was passed when a 1d array was expected. Please change the shape of y to (n_samples,), for example using ravel().\n",
      "  return self._fit(X, y)\n",
      "/cluster/gjb_lab/2394007/miniconda/envs/deep_learning/lib/python3.10/site-packages/sklearn/neighbors/_classification.py:207: DataConversionWarning: A column-vector y was passed when a 1d array was expected. Please change the shape of y to (n_samples,), for example using ravel().\n",
      "  return self._fit(X, y)\n"
     ]
    },
    {
     "name": "stdout",
     "output_type": "stream",
     "text": [
      "79351921 183318465\n",
      "Restoring model weights from the end of the best epoch: 149.\n",
      "Epoch 249: early stopping\n",
      "Restoring model weights from the end of the best epoch: 89.\n",
      "Epoch 189: early stopping\n",
      "514332091 134212839\n"
     ]
    },
    {
     "name": "stderr",
     "output_type": "stream",
     "text": [
      "/cluster/gjb_lab/2394007/miniconda/envs/deep_learning/lib/python3.10/site-packages/sklearn/neighbors/_classification.py:207: DataConversionWarning: A column-vector y was passed when a 1d array was expected. Please change the shape of y to (n_samples,), for example using ravel().\n",
      "  return self._fit(X, y)\n",
      "/cluster/gjb_lab/2394007/miniconda/envs/deep_learning/lib/python3.10/site-packages/sklearn/neighbors/_classification.py:207: DataConversionWarning: A column-vector y was passed when a 1d array was expected. Please change the shape of y to (n_samples,), for example using ravel().\n",
      "  return self._fit(X, y)\n"
     ]
    },
    {
     "name": "stdout",
     "output_type": "stream",
     "text": [
      "Restoring model weights from the end of the best epoch: 49.\n",
      "Epoch 149: early stopping\n",
      "Restoring model weights from the end of the best epoch: 83.\n",
      "Epoch 183: early stopping\n"
     ]
    },
    {
     "name": "stderr",
     "output_type": "stream",
     "text": [
      "/cluster/gjb_lab/2394007/miniconda/envs/deep_learning/lib/python3.10/site-packages/sklearn/neighbors/_classification.py:207: DataConversionWarning: A column-vector y was passed when a 1d array was expected. Please change the shape of y to (n_samples,), for example using ravel().\n",
      "  return self._fit(X, y)\n",
      "/cluster/gjb_lab/2394007/miniconda/envs/deep_learning/lib/python3.10/site-packages/sklearn/neighbors/_classification.py:207: DataConversionWarning: A column-vector y was passed when a 1d array was expected. Please change the shape of y to (n_samples,), for example using ravel().\n",
      "  return self._fit(X, y)\n"
     ]
    },
    {
     "name": "stdout",
     "output_type": "stream",
     "text": [
      "53846403 926961152\n",
      "Restoring model weights from the end of the best epoch: 21.\n",
      "Epoch 121: early stopping\n",
      "Restoring model weights from the end of the best epoch: 3.\n",
      "Epoch 103: early stopping\n"
     ]
    },
    {
     "name": "stderr",
     "output_type": "stream",
     "text": [
      "/cluster/gjb_lab/2394007/miniconda/envs/deep_learning/lib/python3.10/site-packages/sklearn/neighbors/_classification.py:207: DataConversionWarning: A column-vector y was passed when a 1d array was expected. Please change the shape of y to (n_samples,), for example using ravel().\n",
      "  return self._fit(X, y)\n",
      "/cluster/gjb_lab/2394007/miniconda/envs/deep_learning/lib/python3.10/site-packages/sklearn/neighbors/_classification.py:207: DataConversionWarning: A column-vector y was passed when a 1d array was expected. Please change the shape of y to (n_samples,), for example using ravel().\n",
      "  return self._fit(X, y)\n"
     ]
    },
    {
     "name": "stdout",
     "output_type": "stream",
     "text": [
      "430328121 675338349\n",
      "Restoring model weights from the end of the best epoch: 195.\n",
      "Epoch 295: early stopping\n"
     ]
    },
    {
     "name": "stderr",
     "output_type": "stream",
     "text": [
      "/cluster/gjb_lab/2394007/miniconda/envs/deep_learning/lib/python3.10/site-packages/sklearn/neighbors/_classification.py:207: DataConversionWarning: A column-vector y was passed when a 1d array was expected. Please change the shape of y to (n_samples,), for example using ravel().\n",
      "  return self._fit(X, y)\n",
      "/cluster/gjb_lab/2394007/miniconda/envs/deep_learning/lib/python3.10/site-packages/sklearn/neighbors/_classification.py:207: DataConversionWarning: A column-vector y was passed when a 1d array was expected. Please change the shape of y to (n_samples,), for example using ravel().\n",
      "  return self._fit(X, y)\n"
     ]
    },
    {
     "name": "stdout",
     "output_type": "stream",
     "text": [
      "937039261 162383106\n",
      "Restoring model weights from the end of the best epoch: 139.\n",
      "Epoch 239: early stopping\n",
      "Restoring model weights from the end of the best epoch: 65.\n",
      "Epoch 165: early stopping\n",
      "104012722 480533974\n"
     ]
    },
    {
     "name": "stderr",
     "output_type": "stream",
     "text": [
      "/cluster/gjb_lab/2394007/miniconda/envs/deep_learning/lib/python3.10/site-packages/sklearn/neighbors/_classification.py:207: DataConversionWarning: A column-vector y was passed when a 1d array was expected. Please change the shape of y to (n_samples,), for example using ravel().\n",
      "  return self._fit(X, y)\n",
      "/cluster/gjb_lab/2394007/miniconda/envs/deep_learning/lib/python3.10/site-packages/sklearn/neighbors/_classification.py:207: DataConversionWarning: A column-vector y was passed when a 1d array was expected. Please change the shape of y to (n_samples,), for example using ravel().\n",
      "  return self._fit(X, y)\n"
     ]
    },
    {
     "name": "stdout",
     "output_type": "stream",
     "text": [
      "Restoring model weights from the end of the best epoch: 84.\n",
      "Epoch 184: early stopping\n",
      "Restoring model weights from the end of the best epoch: 74.\n",
      "Epoch 174: early stopping\n",
      "705981979 484551195\n"
     ]
    },
    {
     "name": "stderr",
     "output_type": "stream",
     "text": [
      "/cluster/gjb_lab/2394007/miniconda/envs/deep_learning/lib/python3.10/site-packages/sklearn/neighbors/_classification.py:207: DataConversionWarning: A column-vector y was passed when a 1d array was expected. Please change the shape of y to (n_samples,), for example using ravel().\n",
      "  return self._fit(X, y)\n",
      "/cluster/gjb_lab/2394007/miniconda/envs/deep_learning/lib/python3.10/site-packages/sklearn/neighbors/_classification.py:207: DataConversionWarning: A column-vector y was passed when a 1d array was expected. Please change the shape of y to (n_samples,), for example using ravel().\n",
      "  return self._fit(X, y)\n"
     ]
    },
    {
     "name": "stdout",
     "output_type": "stream",
     "text": [
      "Restoring model weights from the end of the best epoch: 90.\n",
      "Epoch 190: early stopping\n",
      "Restoring model weights from the end of the best epoch: 67.\n",
      "Epoch 167: early stopping\n",
      "960587954 440551028\n"
     ]
    },
    {
     "name": "stderr",
     "output_type": "stream",
     "text": [
      "/cluster/gjb_lab/2394007/miniconda/envs/deep_learning/lib/python3.10/site-packages/sklearn/neighbors/_classification.py:207: DataConversionWarning: A column-vector y was passed when a 1d array was expected. Please change the shape of y to (n_samples,), for example using ravel().\n",
      "  return self._fit(X, y)\n",
      "/cluster/gjb_lab/2394007/miniconda/envs/deep_learning/lib/python3.10/site-packages/sklearn/neighbors/_classification.py:207: DataConversionWarning: A column-vector y was passed when a 1d array was expected. Please change the shape of y to (n_samples,), for example using ravel().\n",
      "  return self._fit(X, y)\n"
     ]
    },
    {
     "name": "stdout",
     "output_type": "stream",
     "text": [
      "Restoring model weights from the end of the best epoch: 79.\n",
      "Epoch 179: early stopping\n",
      "Restoring model weights from the end of the best epoch: 1.\n",
      "Epoch 101: early stopping\n",
      "511672958 35173157\n"
     ]
    },
    {
     "name": "stderr",
     "output_type": "stream",
     "text": [
      "/cluster/gjb_lab/2394007/miniconda/envs/deep_learning/lib/python3.10/site-packages/sklearn/neighbors/_classification.py:207: DataConversionWarning: A column-vector y was passed when a 1d array was expected. Please change the shape of y to (n_samples,), for example using ravel().\n",
      "  return self._fit(X, y)\n",
      "/cluster/gjb_lab/2394007/miniconda/envs/deep_learning/lib/python3.10/site-packages/sklearn/neighbors/_classification.py:207: DataConversionWarning: A column-vector y was passed when a 1d array was expected. Please change the shape of y to (n_samples,), for example using ravel().\n",
      "  return self._fit(X, y)\n"
     ]
    },
    {
     "name": "stdout",
     "output_type": "stream",
     "text": [
      "Restoring model weights from the end of the best epoch: 88.\n",
      "Epoch 188: early stopping\n",
      "Restoring model weights from the end of the best epoch: 9.\n",
      "Epoch 109: early stopping\n",
      "791005504 394391600\n"
     ]
    },
    {
     "name": "stderr",
     "output_type": "stream",
     "text": [
      "/cluster/gjb_lab/2394007/miniconda/envs/deep_learning/lib/python3.10/site-packages/sklearn/neighbors/_classification.py:207: DataConversionWarning: A column-vector y was passed when a 1d array was expected. Please change the shape of y to (n_samples,), for example using ravel().\n",
      "  return self._fit(X, y)\n",
      "/cluster/gjb_lab/2394007/miniconda/envs/deep_learning/lib/python3.10/site-packages/sklearn/neighbors/_classification.py:207: DataConversionWarning: A column-vector y was passed when a 1d array was expected. Please change the shape of y to (n_samples,), for example using ravel().\n",
      "  return self._fit(X, y)\n"
     ]
    },
    {
     "name": "stdout",
     "output_type": "stream",
     "text": [
      "Restoring model weights from the end of the best epoch: 132.\n",
      "Epoch 232: early stopping\n",
      "Restoring model weights from the end of the best epoch: 37.\n",
      "Epoch 137: early stopping\n",
      "671509752 551130716\n"
     ]
    },
    {
     "name": "stderr",
     "output_type": "stream",
     "text": [
      "/cluster/gjb_lab/2394007/miniconda/envs/deep_learning/lib/python3.10/site-packages/sklearn/neighbors/_classification.py:207: DataConversionWarning: A column-vector y was passed when a 1d array was expected. Please change the shape of y to (n_samples,), for example using ravel().\n",
      "  return self._fit(X, y)\n",
      "/cluster/gjb_lab/2394007/miniconda/envs/deep_learning/lib/python3.10/site-packages/sklearn/neighbors/_classification.py:207: DataConversionWarning: A column-vector y was passed when a 1d array was expected. Please change the shape of y to (n_samples,), for example using ravel().\n",
      "  return self._fit(X, y)\n"
     ]
    },
    {
     "name": "stdout",
     "output_type": "stream",
     "text": [
      "Restoring model weights from the end of the best epoch: 59.\n",
      "Epoch 159: early stopping\n",
      "Restoring model weights from the end of the best epoch: 14.\n",
      "Epoch 114: early stopping\n"
     ]
    },
    {
     "name": "stderr",
     "output_type": "stream",
     "text": [
      "/cluster/gjb_lab/2394007/miniconda/envs/deep_learning/lib/python3.10/site-packages/sklearn/neighbors/_classification.py:207: DataConversionWarning: A column-vector y was passed when a 1d array was expected. Please change the shape of y to (n_samples,), for example using ravel().\n",
      "  return self._fit(X, y)\n",
      "/cluster/gjb_lab/2394007/miniconda/envs/deep_learning/lib/python3.10/site-packages/sklearn/neighbors/_classification.py:207: DataConversionWarning: A column-vector y was passed when a 1d array was expected. Please change the shape of y to (n_samples,), for example using ravel().\n",
      "  return self._fit(X, y)\n"
     ]
    },
    {
     "name": "stdout",
     "output_type": "stream",
     "text": [
      "436783644 115573952\n",
      "Restoring model weights from the end of the best epoch: 75.\n",
      "Epoch 175: early stopping\n",
      "Restoring model weights from the end of the best epoch: 105.\n",
      "Epoch 205: early stopping\n",
      "179543305 920783149\n"
     ]
    },
    {
     "name": "stderr",
     "output_type": "stream",
     "text": [
      "/cluster/gjb_lab/2394007/miniconda/envs/deep_learning/lib/python3.10/site-packages/sklearn/neighbors/_classification.py:207: DataConversionWarning: A column-vector y was passed when a 1d array was expected. Please change the shape of y to (n_samples,), for example using ravel().\n",
      "  return self._fit(X, y)\n",
      "/cluster/gjb_lab/2394007/miniconda/envs/deep_learning/lib/python3.10/site-packages/sklearn/neighbors/_classification.py:207: DataConversionWarning: A column-vector y was passed when a 1d array was expected. Please change the shape of y to (n_samples,), for example using ravel().\n",
      "  return self._fit(X, y)\n"
     ]
    },
    {
     "name": "stdout",
     "output_type": "stream",
     "text": [
      "Restoring model weights from the end of the best epoch: 90.\n",
      "Epoch 190: early stopping\n",
      "Restoring model weights from the end of the best epoch: 148.\n",
      "Epoch 248: early stopping\n",
      "166806900 259774226\n"
     ]
    },
    {
     "name": "stderr",
     "output_type": "stream",
     "text": [
      "/cluster/gjb_lab/2394007/miniconda/envs/deep_learning/lib/python3.10/site-packages/sklearn/neighbors/_classification.py:207: DataConversionWarning: A column-vector y was passed when a 1d array was expected. Please change the shape of y to (n_samples,), for example using ravel().\n",
      "  return self._fit(X, y)\n",
      "/cluster/gjb_lab/2394007/miniconda/envs/deep_learning/lib/python3.10/site-packages/sklearn/neighbors/_classification.py:207: DataConversionWarning: A column-vector y was passed when a 1d array was expected. Please change the shape of y to (n_samples,), for example using ravel().\n",
      "  return self._fit(X, y)\n"
     ]
    },
    {
     "name": "stdout",
     "output_type": "stream",
     "text": [
      "Restoring model weights from the end of the best epoch: 114.\n",
      "Epoch 214: early stopping\n",
      "Restoring model weights from the end of the best epoch: 8.\n",
      "Epoch 108: early stopping\n"
     ]
    },
    {
     "name": "stderr",
     "output_type": "stream",
     "text": [
      "/cluster/gjb_lab/2394007/miniconda/envs/deep_learning/lib/python3.10/site-packages/sklearn/neighbors/_classification.py:207: DataConversionWarning: A column-vector y was passed when a 1d array was expected. Please change the shape of y to (n_samples,), for example using ravel().\n",
      "  return self._fit(X, y)\n",
      "/cluster/gjb_lab/2394007/miniconda/envs/deep_learning/lib/python3.10/site-packages/sklearn/neighbors/_classification.py:207: DataConversionWarning: A column-vector y was passed when a 1d array was expected. Please change the shape of y to (n_samples,), for example using ravel().\n",
      "  return self._fit(X, y)\n"
     ]
    },
    {
     "name": "stdout",
     "output_type": "stream",
     "text": [
      "23974344 38286548\n",
      "Restoring model weights from the end of the best epoch: 47.\n",
      "Epoch 147: early stopping\n",
      "Restoring model weights from the end of the best epoch: 1.\n",
      "Epoch 101: early stopping\n",
      "461211208 574281337\n"
     ]
    },
    {
     "name": "stderr",
     "output_type": "stream",
     "text": [
      "/cluster/gjb_lab/2394007/miniconda/envs/deep_learning/lib/python3.10/site-packages/sklearn/neighbors/_classification.py:207: DataConversionWarning: A column-vector y was passed when a 1d array was expected. Please change the shape of y to (n_samples,), for example using ravel().\n",
      "  return self._fit(X, y)\n",
      "/cluster/gjb_lab/2394007/miniconda/envs/deep_learning/lib/python3.10/site-packages/sklearn/neighbors/_classification.py:207: DataConversionWarning: A column-vector y was passed when a 1d array was expected. Please change the shape of y to (n_samples,), for example using ravel().\n",
      "  return self._fit(X, y)\n"
     ]
    },
    {
     "name": "stdout",
     "output_type": "stream",
     "text": [
      "Restoring model weights from the end of the best epoch: 87.\n",
      "Epoch 187: early stopping\n",
      "Restoring model weights from the end of the best epoch: 4.\n",
      "Epoch 104: early stopping\n",
      "705074550 635242243\n"
     ]
    },
    {
     "name": "stderr",
     "output_type": "stream",
     "text": [
      "/cluster/gjb_lab/2394007/miniconda/envs/deep_learning/lib/python3.10/site-packages/sklearn/neighbors/_classification.py:207: DataConversionWarning: A column-vector y was passed when a 1d array was expected. Please change the shape of y to (n_samples,), for example using ravel().\n",
      "  return self._fit(X, y)\n",
      "/cluster/gjb_lab/2394007/miniconda/envs/deep_learning/lib/python3.10/site-packages/sklearn/neighbors/_classification.py:207: DataConversionWarning: A column-vector y was passed when a 1d array was expected. Please change the shape of y to (n_samples,), for example using ravel().\n",
      "  return self._fit(X, y)\n"
     ]
    },
    {
     "name": "stdout",
     "output_type": "stream",
     "text": [
      "Restoring model weights from the end of the best epoch: 148.\n",
      "Epoch 248: early stopping\n",
      "Restoring model weights from the end of the best epoch: 2.\n",
      "Epoch 102: early stopping\n",
      "98006330 566988393\n"
     ]
    },
    {
     "name": "stderr",
     "output_type": "stream",
     "text": [
      "/cluster/gjb_lab/2394007/miniconda/envs/deep_learning/lib/python3.10/site-packages/sklearn/neighbors/_classification.py:207: DataConversionWarning: A column-vector y was passed when a 1d array was expected. Please change the shape of y to (n_samples,), for example using ravel().\n",
      "  return self._fit(X, y)\n",
      "/cluster/gjb_lab/2394007/miniconda/envs/deep_learning/lib/python3.10/site-packages/sklearn/neighbors/_classification.py:207: DataConversionWarning: A column-vector y was passed when a 1d array was expected. Please change the shape of y to (n_samples,), for example using ravel().\n",
      "  return self._fit(X, y)\n"
     ]
    },
    {
     "name": "stdout",
     "output_type": "stream",
     "text": [
      "Restoring model weights from the end of the best epoch: 71.\n",
      "Epoch 171: early stopping\n",
      "Restoring model weights from the end of the best epoch: 1.\n",
      "Epoch 101: early stopping\n",
      "657126977 772646527\n"
     ]
    },
    {
     "name": "stderr",
     "output_type": "stream",
     "text": [
      "/cluster/gjb_lab/2394007/miniconda/envs/deep_learning/lib/python3.10/site-packages/sklearn/neighbors/_classification.py:207: DataConversionWarning: A column-vector y was passed when a 1d array was expected. Please change the shape of y to (n_samples,), for example using ravel().\n",
      "  return self._fit(X, y)\n",
      "/cluster/gjb_lab/2394007/miniconda/envs/deep_learning/lib/python3.10/site-packages/sklearn/neighbors/_classification.py:207: DataConversionWarning: A column-vector y was passed when a 1d array was expected. Please change the shape of y to (n_samples,), for example using ravel().\n",
      "  return self._fit(X, y)\n"
     ]
    },
    {
     "name": "stdout",
     "output_type": "stream",
     "text": [
      "Restoring model weights from the end of the best epoch: 65.\n",
      "Epoch 165: early stopping\n",
      "Restoring model weights from the end of the best epoch: 2.\n",
      "Epoch 102: early stopping\n"
     ]
    },
    {
     "name": "stderr",
     "output_type": "stream",
     "text": [
      "/cluster/gjb_lab/2394007/miniconda/envs/deep_learning/lib/python3.10/site-packages/sklearn/neighbors/_classification.py:207: DataConversionWarning: A column-vector y was passed when a 1d array was expected. Please change the shape of y to (n_samples,), for example using ravel().\n",
      "  return self._fit(X, y)\n",
      "/cluster/gjb_lab/2394007/miniconda/envs/deep_learning/lib/python3.10/site-packages/sklearn/neighbors/_classification.py:207: DataConversionWarning: A column-vector y was passed when a 1d array was expected. Please change the shape of y to (n_samples,), for example using ravel().\n",
      "  return self._fit(X, y)\n"
     ]
    },
    {
     "name": "stdout",
     "output_type": "stream",
     "text": [
      "772798624 206257087\n",
      "Restoring model weights from the end of the best epoch: 59.\n",
      "Epoch 159: early stopping\n",
      "Restoring model weights from the end of the best epoch: 31.\n",
      "Epoch 131: early stopping\n",
      "305171099 224175748\n"
     ]
    },
    {
     "name": "stderr",
     "output_type": "stream",
     "text": [
      "/cluster/gjb_lab/2394007/miniconda/envs/deep_learning/lib/python3.10/site-packages/sklearn/neighbors/_classification.py:207: DataConversionWarning: A column-vector y was passed when a 1d array was expected. Please change the shape of y to (n_samples,), for example using ravel().\n",
      "  return self._fit(X, y)\n",
      "/cluster/gjb_lab/2394007/miniconda/envs/deep_learning/lib/python3.10/site-packages/sklearn/neighbors/_classification.py:207: DataConversionWarning: A column-vector y was passed when a 1d array was expected. Please change the shape of y to (n_samples,), for example using ravel().\n",
      "  return self._fit(X, y)\n"
     ]
    },
    {
     "name": "stdout",
     "output_type": "stream",
     "text": [
      "Restoring model weights from the end of the best epoch: 75.\n",
      "Epoch 175: early stopping\n",
      "Restoring model weights from the end of the best epoch: 107.\n",
      "Epoch 207: early stopping\n"
     ]
    },
    {
     "name": "stderr",
     "output_type": "stream",
     "text": [
      "/cluster/gjb_lab/2394007/miniconda/envs/deep_learning/lib/python3.10/site-packages/sklearn/neighbors/_classification.py:207: DataConversionWarning: A column-vector y was passed when a 1d array was expected. Please change the shape of y to (n_samples,), for example using ravel().\n",
      "  return self._fit(X, y)\n",
      "/cluster/gjb_lab/2394007/miniconda/envs/deep_learning/lib/python3.10/site-packages/sklearn/neighbors/_classification.py:207: DataConversionWarning: A column-vector y was passed when a 1d array was expected. Please change the shape of y to (n_samples,), for example using ravel().\n",
      "  return self._fit(X, y)\n"
     ]
    },
    {
     "name": "stdout",
     "output_type": "stream",
     "text": [
      "191880848 924605599\n",
      "Restoring model weights from the end of the best epoch: 68.\n",
      "Epoch 168: early stopping\n",
      "Restoring model weights from the end of the best epoch: 2.\n",
      "Epoch 102: early stopping\n",
      "152483767 666079400\n"
     ]
    },
    {
     "name": "stderr",
     "output_type": "stream",
     "text": [
      "/cluster/gjb_lab/2394007/miniconda/envs/deep_learning/lib/python3.10/site-packages/sklearn/neighbors/_classification.py:207: DataConversionWarning: A column-vector y was passed when a 1d array was expected. Please change the shape of y to (n_samples,), for example using ravel().\n",
      "  return self._fit(X, y)\n",
      "/cluster/gjb_lab/2394007/miniconda/envs/deep_learning/lib/python3.10/site-packages/sklearn/neighbors/_classification.py:207: DataConversionWarning: A column-vector y was passed when a 1d array was expected. Please change the shape of y to (n_samples,), for example using ravel().\n",
      "  return self._fit(X, y)\n"
     ]
    },
    {
     "name": "stdout",
     "output_type": "stream",
     "text": [
      "Restoring model weights from the end of the best epoch: 54.\n",
      "Epoch 154: early stopping\n",
      "Restoring model weights from the end of the best epoch: 7.\n",
      "Epoch 107: early stopping\n",
      "638811345 221137425\n"
     ]
    },
    {
     "name": "stderr",
     "output_type": "stream",
     "text": [
      "/cluster/gjb_lab/2394007/miniconda/envs/deep_learning/lib/python3.10/site-packages/sklearn/neighbors/_classification.py:207: DataConversionWarning: A column-vector y was passed when a 1d array was expected. Please change the shape of y to (n_samples,), for example using ravel().\n",
      "  return self._fit(X, y)\n",
      "/cluster/gjb_lab/2394007/miniconda/envs/deep_learning/lib/python3.10/site-packages/sklearn/neighbors/_classification.py:207: DataConversionWarning: A column-vector y was passed when a 1d array was expected. Please change the shape of y to (n_samples,), for example using ravel().\n",
      "  return self._fit(X, y)\n"
     ]
    },
    {
     "name": "stdout",
     "output_type": "stream",
     "text": [
      "Restoring model weights from the end of the best epoch: 92.\n",
      "Epoch 192: early stopping\n",
      "Restoring model weights from the end of the best epoch: 81.\n",
      "Epoch 181: early stopping\n",
      "92004554 895901251\n"
     ]
    },
    {
     "name": "stderr",
     "output_type": "stream",
     "text": [
      "/cluster/gjb_lab/2394007/miniconda/envs/deep_learning/lib/python3.10/site-packages/sklearn/neighbors/_classification.py:207: DataConversionWarning: A column-vector y was passed when a 1d array was expected. Please change the shape of y to (n_samples,), for example using ravel().\n",
      "  return self._fit(X, y)\n",
      "/cluster/gjb_lab/2394007/miniconda/envs/deep_learning/lib/python3.10/site-packages/sklearn/neighbors/_classification.py:207: DataConversionWarning: A column-vector y was passed when a 1d array was expected. Please change the shape of y to (n_samples,), for example using ravel().\n",
      "  return self._fit(X, y)\n"
     ]
    },
    {
     "name": "stdout",
     "output_type": "stream",
     "text": [
      "Restoring model weights from the end of the best epoch: 93.\n",
      "Epoch 193: early stopping\n",
      "Restoring model weights from the end of the best epoch: 1.\n",
      "Epoch 101: early stopping\n",
      "841712547 475417827\n"
     ]
    },
    {
     "name": "stderr",
     "output_type": "stream",
     "text": [
      "/cluster/gjb_lab/2394007/miniconda/envs/deep_learning/lib/python3.10/site-packages/sklearn/neighbors/_classification.py:207: DataConversionWarning: A column-vector y was passed when a 1d array was expected. Please change the shape of y to (n_samples,), for example using ravel().\n",
      "  return self._fit(X, y)\n",
      "/cluster/gjb_lab/2394007/miniconda/envs/deep_learning/lib/python3.10/site-packages/sklearn/neighbors/_classification.py:207: DataConversionWarning: A column-vector y was passed when a 1d array was expected. Please change the shape of y to (n_samples,), for example using ravel().\n",
      "  return self._fit(X, y)\n"
     ]
    },
    {
     "name": "stdout",
     "output_type": "stream",
     "text": [
      "Restoring model weights from the end of the best epoch: 26.\n",
      "Epoch 126: early stopping\n",
      "Restoring model weights from the end of the best epoch: 3.\n",
      "Epoch 103: early stopping\n",
      "720202087 105445014\n"
     ]
    },
    {
     "name": "stderr",
     "output_type": "stream",
     "text": [
      "/cluster/gjb_lab/2394007/miniconda/envs/deep_learning/lib/python3.10/site-packages/sklearn/neighbors/_classification.py:207: DataConversionWarning: A column-vector y was passed when a 1d array was expected. Please change the shape of y to (n_samples,), for example using ravel().\n",
      "  return self._fit(X, y)\n",
      "/cluster/gjb_lab/2394007/miniconda/envs/deep_learning/lib/python3.10/site-packages/sklearn/neighbors/_classification.py:207: DataConversionWarning: A column-vector y was passed when a 1d array was expected. Please change the shape of y to (n_samples,), for example using ravel().\n",
      "  return self._fit(X, y)\n"
     ]
    },
    {
     "name": "stdout",
     "output_type": "stream",
     "text": [
      "Restoring model weights from the end of the best epoch: 144.\n",
      "Epoch 244: early stopping\n",
      "Restoring model weights from the end of the best epoch: 8.\n",
      "Epoch 108: early stopping\n",
      "670514448 889576488\n"
     ]
    },
    {
     "name": "stderr",
     "output_type": "stream",
     "text": [
      "/cluster/gjb_lab/2394007/miniconda/envs/deep_learning/lib/python3.10/site-packages/sklearn/neighbors/_classification.py:207: DataConversionWarning: A column-vector y was passed when a 1d array was expected. Please change the shape of y to (n_samples,), for example using ravel().\n",
      "  return self._fit(X, y)\n",
      "/cluster/gjb_lab/2394007/miniconda/envs/deep_learning/lib/python3.10/site-packages/sklearn/neighbors/_classification.py:207: DataConversionWarning: A column-vector y was passed when a 1d array was expected. Please change the shape of y to (n_samples,), for example using ravel().\n",
      "  return self._fit(X, y)\n"
     ]
    },
    {
     "name": "stdout",
     "output_type": "stream",
     "text": [
      "Restoring model weights from the end of the best epoch: 172.\n",
      "Epoch 272: early stopping\n",
      "Restoring model weights from the end of the best epoch: 51.\n",
      "Epoch 151: early stopping\n",
      "695994523 647260342\n"
     ]
    },
    {
     "name": "stderr",
     "output_type": "stream",
     "text": [
      "/cluster/gjb_lab/2394007/miniconda/envs/deep_learning/lib/python3.10/site-packages/sklearn/neighbors/_classification.py:207: DataConversionWarning: A column-vector y was passed when a 1d array was expected. Please change the shape of y to (n_samples,), for example using ravel().\n",
      "  return self._fit(X, y)\n",
      "/cluster/gjb_lab/2394007/miniconda/envs/deep_learning/lib/python3.10/site-packages/sklearn/neighbors/_classification.py:207: DataConversionWarning: A column-vector y was passed when a 1d array was expected. Please change the shape of y to (n_samples,), for example using ravel().\n",
      "  return self._fit(X, y)\n"
     ]
    },
    {
     "name": "stdout",
     "output_type": "stream",
     "text": [
      "Restoring model weights from the end of the best epoch: 116.\n",
      "Epoch 216: early stopping\n",
      "Restoring model weights from the end of the best epoch: 19.\n",
      "Epoch 119: early stopping\n",
      "685897276 25437051\n"
     ]
    },
    {
     "name": "stderr",
     "output_type": "stream",
     "text": [
      "/cluster/gjb_lab/2394007/miniconda/envs/deep_learning/lib/python3.10/site-packages/sklearn/neighbors/_classification.py:207: DataConversionWarning: A column-vector y was passed when a 1d array was expected. Please change the shape of y to (n_samples,), for example using ravel().\n",
      "  return self._fit(X, y)\n",
      "/cluster/gjb_lab/2394007/miniconda/envs/deep_learning/lib/python3.10/site-packages/sklearn/neighbors/_classification.py:207: DataConversionWarning: A column-vector y was passed when a 1d array was expected. Please change the shape of y to (n_samples,), for example using ravel().\n",
      "  return self._fit(X, y)\n"
     ]
    },
    {
     "name": "stdout",
     "output_type": "stream",
     "text": [
      "Restoring model weights from the end of the best epoch: 88.\n",
      "Epoch 188: early stopping\n",
      "Restoring model weights from the end of the best epoch: 138.\n",
      "Epoch 238: early stopping\n"
     ]
    },
    {
     "name": "stderr",
     "output_type": "stream",
     "text": [
      "/cluster/gjb_lab/2394007/miniconda/envs/deep_learning/lib/python3.10/site-packages/sklearn/neighbors/_classification.py:207: DataConversionWarning: A column-vector y was passed when a 1d array was expected. Please change the shape of y to (n_samples,), for example using ravel().\n",
      "  return self._fit(X, y)\n",
      "/cluster/gjb_lab/2394007/miniconda/envs/deep_learning/lib/python3.10/site-packages/sklearn/neighbors/_classification.py:207: DataConversionWarning: A column-vector y was passed when a 1d array was expected. Please change the shape of y to (n_samples,), for example using ravel().\n",
      "  return self._fit(X, y)\n"
     ]
    },
    {
     "name": "stdout",
     "output_type": "stream",
     "text": [
      "13951955 582857137\n",
      "Restoring model weights from the end of the best epoch: 46.\n",
      "Epoch 146: early stopping\n",
      "Restoring model weights from the end of the best epoch: 6.\n",
      "Epoch 106: early stopping\n",
      "974081330 257642260\n"
     ]
    },
    {
     "name": "stderr",
     "output_type": "stream",
     "text": [
      "/cluster/gjb_lab/2394007/miniconda/envs/deep_learning/lib/python3.10/site-packages/sklearn/neighbors/_classification.py:207: DataConversionWarning: A column-vector y was passed when a 1d array was expected. Please change the shape of y to (n_samples,), for example using ravel().\n",
      "  return self._fit(X, y)\n",
      "/cluster/gjb_lab/2394007/miniconda/envs/deep_learning/lib/python3.10/site-packages/sklearn/neighbors/_classification.py:207: DataConversionWarning: A column-vector y was passed when a 1d array was expected. Please change the shape of y to (n_samples,), for example using ravel().\n",
      "  return self._fit(X, y)\n"
     ]
    },
    {
     "name": "stdout",
     "output_type": "stream",
     "text": [
      "Restoring model weights from the end of the best epoch: 68.\n",
      "Epoch 168: early stopping\n",
      "Restoring model weights from the end of the best epoch: 178.\n",
      "Epoch 278: early stopping\n",
      "289094777 660510189\n"
     ]
    },
    {
     "name": "stderr",
     "output_type": "stream",
     "text": [
      "/cluster/gjb_lab/2394007/miniconda/envs/deep_learning/lib/python3.10/site-packages/sklearn/neighbors/_classification.py:207: DataConversionWarning: A column-vector y was passed when a 1d array was expected. Please change the shape of y to (n_samples,), for example using ravel().\n",
      "  return self._fit(X, y)\n",
      "/cluster/gjb_lab/2394007/miniconda/envs/deep_learning/lib/python3.10/site-packages/sklearn/neighbors/_classification.py:207: DataConversionWarning: A column-vector y was passed when a 1d array was expected. Please change the shape of y to (n_samples,), for example using ravel().\n",
      "  return self._fit(X, y)\n"
     ]
    },
    {
     "name": "stdout",
     "output_type": "stream",
     "text": [
      "Restoring model weights from the end of the best epoch: 114.\n",
      "Epoch 214: early stopping\n",
      "Restoring model weights from the end of the best epoch: 3.\n",
      "Epoch 103: early stopping\n",
      "97238814 964416308\n"
     ]
    },
    {
     "name": "stderr",
     "output_type": "stream",
     "text": [
      "/cluster/gjb_lab/2394007/miniconda/envs/deep_learning/lib/python3.10/site-packages/sklearn/neighbors/_classification.py:207: DataConversionWarning: A column-vector y was passed when a 1d array was expected. Please change the shape of y to (n_samples,), for example using ravel().\n",
      "  return self._fit(X, y)\n",
      "/cluster/gjb_lab/2394007/miniconda/envs/deep_learning/lib/python3.10/site-packages/sklearn/neighbors/_classification.py:207: DataConversionWarning: A column-vector y was passed when a 1d array was expected. Please change the shape of y to (n_samples,), for example using ravel().\n",
      "  return self._fit(X, y)\n"
     ]
    },
    {
     "name": "stdout",
     "output_type": "stream",
     "text": [
      "Restoring model weights from the end of the best epoch: 65.\n",
      "Epoch 165: early stopping\n",
      "Restoring model weights from the end of the best epoch: 69.\n",
      "Epoch 169: early stopping\n",
      "516449704 897608672\n"
     ]
    },
    {
     "name": "stderr",
     "output_type": "stream",
     "text": [
      "/cluster/gjb_lab/2394007/miniconda/envs/deep_learning/lib/python3.10/site-packages/sklearn/neighbors/_classification.py:207: DataConversionWarning: A column-vector y was passed when a 1d array was expected. Please change the shape of y to (n_samples,), for example using ravel().\n",
      "  return self._fit(X, y)\n",
      "/cluster/gjb_lab/2394007/miniconda/envs/deep_learning/lib/python3.10/site-packages/sklearn/neighbors/_classification.py:207: DataConversionWarning: A column-vector y was passed when a 1d array was expected. Please change the shape of y to (n_samples,), for example using ravel().\n",
      "  return self._fit(X, y)\n"
     ]
    },
    {
     "name": "stdout",
     "output_type": "stream",
     "text": [
      "Restoring model weights from the end of the best epoch: 96.\n",
      "Epoch 196: early stopping\n",
      "Restoring model weights from the end of the best epoch: 1.\n",
      "Epoch 101: early stopping\n",
      "559185081 266899132\n"
     ]
    },
    {
     "name": "stderr",
     "output_type": "stream",
     "text": [
      "/cluster/gjb_lab/2394007/miniconda/envs/deep_learning/lib/python3.10/site-packages/sklearn/neighbors/_classification.py:207: DataConversionWarning: A column-vector y was passed when a 1d array was expected. Please change the shape of y to (n_samples,), for example using ravel().\n",
      "  return self._fit(X, y)\n",
      "/cluster/gjb_lab/2394007/miniconda/envs/deep_learning/lib/python3.10/site-packages/sklearn/neighbors/_classification.py:207: DataConversionWarning: A column-vector y was passed when a 1d array was expected. Please change the shape of y to (n_samples,), for example using ravel().\n",
      "  return self._fit(X, y)\n"
     ]
    },
    {
     "name": "stdout",
     "output_type": "stream",
     "text": [
      "Restoring model weights from the end of the best epoch: 85.\n",
      "Epoch 185: early stopping\n",
      "Restoring model weights from the end of the best epoch: 3.\n",
      "Epoch 103: early stopping\n"
     ]
    },
    {
     "name": "stderr",
     "output_type": "stream",
     "text": [
      "/cluster/gjb_lab/2394007/miniconda/envs/deep_learning/lib/python3.10/site-packages/sklearn/neighbors/_classification.py:207: DataConversionWarning: A column-vector y was passed when a 1d array was expected. Please change the shape of y to (n_samples,), for example using ravel().\n",
      "  return self._fit(X, y)\n",
      "/cluster/gjb_lab/2394007/miniconda/envs/deep_learning/lib/python3.10/site-packages/sklearn/neighbors/_classification.py:207: DataConversionWarning: A column-vector y was passed when a 1d array was expected. Please change the shape of y to (n_samples,), for example using ravel().\n",
      "  return self._fit(X, y)\n"
     ]
    },
    {
     "name": "stdout",
     "output_type": "stream",
     "text": [
      "365878947 430070588\n",
      "Restoring model weights from the end of the best epoch: 80.\n",
      "Epoch 180: early stopping\n",
      "Restoring model weights from the end of the best epoch: 2.\n",
      "Epoch 102: early stopping\n"
     ]
    },
    {
     "name": "stderr",
     "output_type": "stream",
     "text": [
      "/cluster/gjb_lab/2394007/miniconda/envs/deep_learning/lib/python3.10/site-packages/sklearn/neighbors/_classification.py:207: DataConversionWarning: A column-vector y was passed when a 1d array was expected. Please change the shape of y to (n_samples,), for example using ravel().\n",
      "  return self._fit(X, y)\n",
      "/cluster/gjb_lab/2394007/miniconda/envs/deep_learning/lib/python3.10/site-packages/sklearn/neighbors/_classification.py:207: DataConversionWarning: A column-vector y was passed when a 1d array was expected. Please change the shape of y to (n_samples,), for example using ravel().\n",
      "  return self._fit(X, y)\n"
     ]
    },
    {
     "name": "stdout",
     "output_type": "stream",
     "text": [
      "769497130 540976048\n",
      "Restoring model weights from the end of the best epoch: 145.\n",
      "Epoch 245: early stopping\n",
      "Restoring model weights from the end of the best epoch: 93.\n",
      "Epoch 193: early stopping\n",
      "735809085 255275723\n"
     ]
    },
    {
     "name": "stderr",
     "output_type": "stream",
     "text": [
      "/cluster/gjb_lab/2394007/miniconda/envs/deep_learning/lib/python3.10/site-packages/sklearn/neighbors/_classification.py:207: DataConversionWarning: A column-vector y was passed when a 1d array was expected. Please change the shape of y to (n_samples,), for example using ravel().\n",
      "  return self._fit(X, y)\n",
      "/cluster/gjb_lab/2394007/miniconda/envs/deep_learning/lib/python3.10/site-packages/sklearn/neighbors/_classification.py:207: DataConversionWarning: A column-vector y was passed when a 1d array was expected. Please change the shape of y to (n_samples,), for example using ravel().\n",
      "  return self._fit(X, y)\n"
     ]
    },
    {
     "name": "stdout",
     "output_type": "stream",
     "text": [
      "Restoring model weights from the end of the best epoch: 2.\n",
      "Epoch 102: early stopping\n",
      "503725853 244194666\n"
     ]
    },
    {
     "name": "stderr",
     "output_type": "stream",
     "text": [
      "/cluster/gjb_lab/2394007/miniconda/envs/deep_learning/lib/python3.10/site-packages/sklearn/neighbors/_classification.py:207: DataConversionWarning: A column-vector y was passed when a 1d array was expected. Please change the shape of y to (n_samples,), for example using ravel().\n",
      "  return self._fit(X, y)\n",
      "/cluster/gjb_lab/2394007/miniconda/envs/deep_learning/lib/python3.10/site-packages/sklearn/neighbors/_classification.py:207: DataConversionWarning: A column-vector y was passed when a 1d array was expected. Please change the shape of y to (n_samples,), for example using ravel().\n",
      "  return self._fit(X, y)\n"
     ]
    },
    {
     "name": "stdout",
     "output_type": "stream",
     "text": [
      "Restoring model weights from the end of the best epoch: 107.\n",
      "Epoch 207: early stopping\n",
      "Restoring model weights from the end of the best epoch: 1.\n",
      "Epoch 101: early stopping\n"
     ]
    },
    {
     "name": "stderr",
     "output_type": "stream",
     "text": [
      "/cluster/gjb_lab/2394007/miniconda/envs/deep_learning/lib/python3.10/site-packages/sklearn/neighbors/_classification.py:207: DataConversionWarning: A column-vector y was passed when a 1d array was expected. Please change the shape of y to (n_samples,), for example using ravel().\n",
      "  return self._fit(X, y)\n",
      "/cluster/gjb_lab/2394007/miniconda/envs/deep_learning/lib/python3.10/site-packages/sklearn/neighbors/_classification.py:207: DataConversionWarning: A column-vector y was passed when a 1d array was expected. Please change the shape of y to (n_samples,), for example using ravel().\n",
      "  return self._fit(X, y)\n"
     ]
    },
    {
     "name": "stdout",
     "output_type": "stream",
     "text": [
      "21376868 473839827\n",
      "Restoring model weights from the end of the best epoch: 72.\n",
      "Epoch 172: early stopping\n",
      "Restoring model weights from the end of the best epoch: 2.\n",
      "Epoch 102: early stopping\n"
     ]
    },
    {
     "name": "stderr",
     "output_type": "stream",
     "text": [
      "/cluster/gjb_lab/2394007/miniconda/envs/deep_learning/lib/python3.10/site-packages/sklearn/neighbors/_classification.py:207: DataConversionWarning: A column-vector y was passed when a 1d array was expected. Please change the shape of y to (n_samples,), for example using ravel().\n",
      "  return self._fit(X, y)\n",
      "/cluster/gjb_lab/2394007/miniconda/envs/deep_learning/lib/python3.10/site-packages/sklearn/neighbors/_classification.py:207: DataConversionWarning: A column-vector y was passed when a 1d array was expected. Please change the shape of y to (n_samples,), for example using ravel().\n",
      "  return self._fit(X, y)\n"
     ]
    },
    {
     "name": "stdout",
     "output_type": "stream",
     "text": [
      "409091984 668578824\n",
      "Restoring model weights from the end of the best epoch: 129.\n",
      "Epoch 229: early stopping\n",
      "Restoring model weights from the end of the best epoch: 19.\n",
      "Epoch 119: early stopping\n",
      "815723540 241527804\n"
     ]
    },
    {
     "name": "stderr",
     "output_type": "stream",
     "text": [
      "/cluster/gjb_lab/2394007/miniconda/envs/deep_learning/lib/python3.10/site-packages/sklearn/neighbors/_classification.py:207: DataConversionWarning: A column-vector y was passed when a 1d array was expected. Please change the shape of y to (n_samples,), for example using ravel().\n",
      "  return self._fit(X, y)\n",
      "/cluster/gjb_lab/2394007/miniconda/envs/deep_learning/lib/python3.10/site-packages/sklearn/neighbors/_classification.py:207: DataConversionWarning: A column-vector y was passed when a 1d array was expected. Please change the shape of y to (n_samples,), for example using ravel().\n",
      "  return self._fit(X, y)\n"
     ]
    },
    {
     "name": "stdout",
     "output_type": "stream",
     "text": [
      "Restoring model weights from the end of the best epoch: 32.\n",
      "Epoch 132: early stopping\n",
      "Restoring model weights from the end of the best epoch: 42.\n",
      "Epoch 142: early stopping\n"
     ]
    },
    {
     "name": "stderr",
     "output_type": "stream",
     "text": [
      "/cluster/gjb_lab/2394007/miniconda/envs/deep_learning/lib/python3.10/site-packages/sklearn/neighbors/_classification.py:207: DataConversionWarning: A column-vector y was passed when a 1d array was expected. Please change the shape of y to (n_samples,), for example using ravel().\n",
      "  return self._fit(X, y)\n",
      "/cluster/gjb_lab/2394007/miniconda/envs/deep_learning/lib/python3.10/site-packages/sklearn/neighbors/_classification.py:207: DataConversionWarning: A column-vector y was passed when a 1d array was expected. Please change the shape of y to (n_samples,), for example using ravel().\n",
      "  return self._fit(X, y)\n"
     ]
    },
    {
     "name": "stdout",
     "output_type": "stream",
     "text": [
      "922297230 535109595\n",
      "Restoring model weights from the end of the best epoch: 93.\n",
      "Epoch 193: early stopping\n",
      "Restoring model weights from the end of the best epoch: 1.\n",
      "Epoch 101: early stopping\n"
     ]
    },
    {
     "name": "stderr",
     "output_type": "stream",
     "text": [
      "/cluster/gjb_lab/2394007/miniconda/envs/deep_learning/lib/python3.10/site-packages/sklearn/neighbors/_classification.py:207: DataConversionWarning: A column-vector y was passed when a 1d array was expected. Please change the shape of y to (n_samples,), for example using ravel().\n",
      "  return self._fit(X, y)\n",
      "/cluster/gjb_lab/2394007/miniconda/envs/deep_learning/lib/python3.10/site-packages/sklearn/neighbors/_classification.py:207: DataConversionWarning: A column-vector y was passed when a 1d array was expected. Please change the shape of y to (n_samples,), for example using ravel().\n",
      "  return self._fit(X, y)\n"
     ]
    },
    {
     "name": "stdout",
     "output_type": "stream",
     "text": [
      "216196744 979247641\n",
      "Restoring model weights from the end of the best epoch: 154.\n",
      "Epoch 254: early stopping\n",
      "Restoring model weights from the end of the best epoch: 5.\n",
      "Epoch 105: early stopping\n"
     ]
    },
    {
     "name": "stderr",
     "output_type": "stream",
     "text": [
      "/cluster/gjb_lab/2394007/miniconda/envs/deep_learning/lib/python3.10/site-packages/sklearn/neighbors/_classification.py:207: DataConversionWarning: A column-vector y was passed when a 1d array was expected. Please change the shape of y to (n_samples,), for example using ravel().\n",
      "  return self._fit(X, y)\n",
      "/cluster/gjb_lab/2394007/miniconda/envs/deep_learning/lib/python3.10/site-packages/sklearn/neighbors/_classification.py:207: DataConversionWarning: A column-vector y was passed when a 1d array was expected. Please change the shape of y to (n_samples,), for example using ravel().\n",
      "  return self._fit(X, y)\n"
     ]
    },
    {
     "name": "stdout",
     "output_type": "stream",
     "text": [
      "883183581 961612304\n",
      "Restoring model weights from the end of the best epoch: 47.\n",
      "Epoch 147: early stopping\n",
      "Restoring model weights from the end of the best epoch: 22.\n",
      "Epoch 122: early stopping\n"
     ]
    },
    {
     "name": "stderr",
     "output_type": "stream",
     "text": [
      "/cluster/gjb_lab/2394007/miniconda/envs/deep_learning/lib/python3.10/site-packages/sklearn/neighbors/_classification.py:207: DataConversionWarning: A column-vector y was passed when a 1d array was expected. Please change the shape of y to (n_samples,), for example using ravel().\n",
      "  return self._fit(X, y)\n",
      "/cluster/gjb_lab/2394007/miniconda/envs/deep_learning/lib/python3.10/site-packages/sklearn/neighbors/_classification.py:207: DataConversionWarning: A column-vector y was passed when a 1d array was expected. Please change the shape of y to (n_samples,), for example using ravel().\n",
      "  return self._fit(X, y)\n"
     ]
    },
    {
     "name": "stdout",
     "output_type": "stream",
     "text": [
      "918562584 569497059\n",
      "Restoring model weights from the end of the best epoch: 51.\n",
      "Epoch 151: early stopping\n",
      "Restoring model weights from the end of the best epoch: 105.\n",
      "Epoch 205: early stopping\n"
     ]
    },
    {
     "name": "stderr",
     "output_type": "stream",
     "text": [
      "/cluster/gjb_lab/2394007/miniconda/envs/deep_learning/lib/python3.10/site-packages/sklearn/neighbors/_classification.py:207: DataConversionWarning: A column-vector y was passed when a 1d array was expected. Please change the shape of y to (n_samples,), for example using ravel().\n",
      "  return self._fit(X, y)\n",
      "/cluster/gjb_lab/2394007/miniconda/envs/deep_learning/lib/python3.10/site-packages/sklearn/neighbors/_classification.py:207: DataConversionWarning: A column-vector y was passed when a 1d array was expected. Please change the shape of y to (n_samples,), for example using ravel().\n",
      "  return self._fit(X, y)\n"
     ]
    },
    {
     "name": "stdout",
     "output_type": "stream",
     "text": [
      "525433348 467873286\n",
      "Restoring model weights from the end of the best epoch: 170.\n",
      "Epoch 270: early stopping\n",
      "Restoring model weights from the end of the best epoch: 4.\n",
      "Epoch 104: early stopping\n"
     ]
    },
    {
     "name": "stderr",
     "output_type": "stream",
     "text": [
      "/cluster/gjb_lab/2394007/miniconda/envs/deep_learning/lib/python3.10/site-packages/sklearn/neighbors/_classification.py:207: DataConversionWarning: A column-vector y was passed when a 1d array was expected. Please change the shape of y to (n_samples,), for example using ravel().\n",
      "  return self._fit(X, y)\n",
      "/cluster/gjb_lab/2394007/miniconda/envs/deep_learning/lib/python3.10/site-packages/sklearn/neighbors/_classification.py:207: DataConversionWarning: A column-vector y was passed when a 1d array was expected. Please change the shape of y to (n_samples,), for example using ravel().\n",
      "  return self._fit(X, y)\n"
     ]
    },
    {
     "name": "stdout",
     "output_type": "stream",
     "text": [
      "791746913 584833899\n",
      "Restoring model weights from the end of the best epoch: 62.\n",
      "Epoch 162: early stopping\n",
      "Restoring model weights from the end of the best epoch: 11.\n",
      "Epoch 111: early stopping\n"
     ]
    },
    {
     "name": "stderr",
     "output_type": "stream",
     "text": [
      "/cluster/gjb_lab/2394007/miniconda/envs/deep_learning/lib/python3.10/site-packages/sklearn/neighbors/_classification.py:207: DataConversionWarning: A column-vector y was passed when a 1d array was expected. Please change the shape of y to (n_samples,), for example using ravel().\n",
      "  return self._fit(X, y)\n",
      "/cluster/gjb_lab/2394007/miniconda/envs/deep_learning/lib/python3.10/site-packages/sklearn/neighbors/_classification.py:207: DataConversionWarning: A column-vector y was passed when a 1d array was expected. Please change the shape of y to (n_samples,), for example using ravel().\n",
      "  return self._fit(X, y)\n"
     ]
    },
    {
     "name": "stdout",
     "output_type": "stream",
     "text": [
      "990533760 907049581\n",
      "Restoring model weights from the end of the best epoch: 103.\n",
      "Epoch 203: early stopping\n",
      "Restoring model weights from the end of the best epoch: 124.\n",
      "Epoch 224: early stopping\n"
     ]
    },
    {
     "name": "stderr",
     "output_type": "stream",
     "text": [
      "/cluster/gjb_lab/2394007/miniconda/envs/deep_learning/lib/python3.10/site-packages/sklearn/neighbors/_classification.py:207: DataConversionWarning: A column-vector y was passed when a 1d array was expected. Please change the shape of y to (n_samples,), for example using ravel().\n",
      "  return self._fit(X, y)\n",
      "/cluster/gjb_lab/2394007/miniconda/envs/deep_learning/lib/python3.10/site-packages/sklearn/neighbors/_classification.py:207: DataConversionWarning: A column-vector y was passed when a 1d array was expected. Please change the shape of y to (n_samples,), for example using ravel().\n",
      "  return self._fit(X, y)\n"
     ]
    },
    {
     "name": "stdout",
     "output_type": "stream",
     "text": [
      "386788791 787614814\n",
      "Restoring model weights from the end of the best epoch: 192.\n",
      "Epoch 292: early stopping\n",
      "Restoring model weights from the end of the best epoch: 2.\n",
      "Epoch 102: early stopping\n"
     ]
    },
    {
     "name": "stderr",
     "output_type": "stream",
     "text": [
      "/cluster/gjb_lab/2394007/miniconda/envs/deep_learning/lib/python3.10/site-packages/sklearn/neighbors/_classification.py:207: DataConversionWarning: A column-vector y was passed when a 1d array was expected. Please change the shape of y to (n_samples,), for example using ravel().\n",
      "  return self._fit(X, y)\n",
      "/cluster/gjb_lab/2394007/miniconda/envs/deep_learning/lib/python3.10/site-packages/sklearn/neighbors/_classification.py:207: DataConversionWarning: A column-vector y was passed when a 1d array was expected. Please change the shape of y to (n_samples,), for example using ravel().\n",
      "  return self._fit(X, y)\n"
     ]
    },
    {
     "name": "stdout",
     "output_type": "stream",
     "text": [
      "309955351 546132568\n",
      "Restoring model weights from the end of the best epoch: 163.\n",
      "Epoch 263: early stopping\n",
      "Restoring model weights from the end of the best epoch: 3.\n",
      "Epoch 103: early stopping\n"
     ]
    },
    {
     "name": "stderr",
     "output_type": "stream",
     "text": [
      "/cluster/gjb_lab/2394007/miniconda/envs/deep_learning/lib/python3.10/site-packages/sklearn/neighbors/_classification.py:207: DataConversionWarning: A column-vector y was passed when a 1d array was expected. Please change the shape of y to (n_samples,), for example using ravel().\n",
      "  return self._fit(X, y)\n",
      "/cluster/gjb_lab/2394007/miniconda/envs/deep_learning/lib/python3.10/site-packages/sklearn/neighbors/_classification.py:207: DataConversionWarning: A column-vector y was passed when a 1d array was expected. Please change the shape of y to (n_samples,), for example using ravel().\n",
      "  return self._fit(X, y)\n"
     ]
    },
    {
     "name": "stdout",
     "output_type": "stream",
     "text": [
      "952177999 733912037\n",
      "Restoring model weights from the end of the best epoch: 82.\n",
      "Epoch 182: early stopping\n",
      "Restoring model weights from the end of the best epoch: 3.\n",
      "Epoch 103: early stopping\n"
     ]
    },
    {
     "name": "stderr",
     "output_type": "stream",
     "text": [
      "/cluster/gjb_lab/2394007/miniconda/envs/deep_learning/lib/python3.10/site-packages/sklearn/neighbors/_classification.py:207: DataConversionWarning: A column-vector y was passed when a 1d array was expected. Please change the shape of y to (n_samples,), for example using ravel().\n",
      "  return self._fit(X, y)\n",
      "/cluster/gjb_lab/2394007/miniconda/envs/deep_learning/lib/python3.10/site-packages/sklearn/neighbors/_classification.py:207: DataConversionWarning: A column-vector y was passed when a 1d array was expected. Please change the shape of y to (n_samples,), for example using ravel().\n",
      "  return self._fit(X, y)\n"
     ]
    },
    {
     "name": "stdout",
     "output_type": "stream",
     "text": [
      "873907817 493378079\n",
      "Restoring model weights from the end of the best epoch: 108.\n",
      "Epoch 208: early stopping\n",
      "Restoring model weights from the end of the best epoch: 3.\n",
      "Epoch 103: early stopping\n",
      "12280054 540600505\n"
     ]
    },
    {
     "name": "stderr",
     "output_type": "stream",
     "text": [
      "/cluster/gjb_lab/2394007/miniconda/envs/deep_learning/lib/python3.10/site-packages/sklearn/neighbors/_classification.py:207: DataConversionWarning: A column-vector y was passed when a 1d array was expected. Please change the shape of y to (n_samples,), for example using ravel().\n",
      "  return self._fit(X, y)\n",
      "/cluster/gjb_lab/2394007/miniconda/envs/deep_learning/lib/python3.10/site-packages/sklearn/neighbors/_classification.py:207: DataConversionWarning: A column-vector y was passed when a 1d array was expected. Please change the shape of y to (n_samples,), for example using ravel().\n",
      "  return self._fit(X, y)\n"
     ]
    },
    {
     "name": "stdout",
     "output_type": "stream",
     "text": [
      "Restoring model weights from the end of the best epoch: 40.\n",
      "Epoch 140: early stopping\n",
      "Restoring model weights from the end of the best epoch: 14.\n",
      "Epoch 114: early stopping\n",
      "723505533 978503102\n"
     ]
    },
    {
     "name": "stderr",
     "output_type": "stream",
     "text": [
      "/cluster/gjb_lab/2394007/miniconda/envs/deep_learning/lib/python3.10/site-packages/sklearn/neighbors/_classification.py:207: DataConversionWarning: A column-vector y was passed when a 1d array was expected. Please change the shape of y to (n_samples,), for example using ravel().\n",
      "  return self._fit(X, y)\n",
      "/cluster/gjb_lab/2394007/miniconda/envs/deep_learning/lib/python3.10/site-packages/sklearn/neighbors/_classification.py:207: DataConversionWarning: A column-vector y was passed when a 1d array was expected. Please change the shape of y to (n_samples,), for example using ravel().\n",
      "  return self._fit(X, y)\n"
     ]
    },
    {
     "name": "stdout",
     "output_type": "stream",
     "text": [
      "Restoring model weights from the end of the best epoch: 75.\n",
      "Epoch 175: early stopping\n",
      "Restoring model weights from the end of the best epoch: 14.\n",
      "Epoch 114: early stopping\n"
     ]
    },
    {
     "name": "stderr",
     "output_type": "stream",
     "text": [
      "/cluster/gjb_lab/2394007/miniconda/envs/deep_learning/lib/python3.10/site-packages/sklearn/neighbors/_classification.py:207: DataConversionWarning: A column-vector y was passed when a 1d array was expected. Please change the shape of y to (n_samples,), for example using ravel().\n",
      "  return self._fit(X, y)\n",
      "/cluster/gjb_lab/2394007/miniconda/envs/deep_learning/lib/python3.10/site-packages/sklearn/neighbors/_classification.py:207: DataConversionWarning: A column-vector y was passed when a 1d array was expected. Please change the shape of y to (n_samples,), for example using ravel().\n",
      "  return self._fit(X, y)\n"
     ]
    },
    {
     "name": "stdout",
     "output_type": "stream",
     "text": [
      "417719133 834019925\n",
      "Restoring model weights from the end of the best epoch: 54.\n",
      "Epoch 154: early stopping\n",
      "Restoring model weights from the end of the best epoch: 86.\n",
      "Epoch 186: early stopping\n"
     ]
    },
    {
     "name": "stderr",
     "output_type": "stream",
     "text": [
      "/cluster/gjb_lab/2394007/miniconda/envs/deep_learning/lib/python3.10/site-packages/sklearn/neighbors/_classification.py:207: DataConversionWarning: A column-vector y was passed when a 1d array was expected. Please change the shape of y to (n_samples,), for example using ravel().\n",
      "  return self._fit(X, y)\n",
      "/cluster/gjb_lab/2394007/miniconda/envs/deep_learning/lib/python3.10/site-packages/sklearn/neighbors/_classification.py:207: DataConversionWarning: A column-vector y was passed when a 1d array was expected. Please change the shape of y to (n_samples,), for example using ravel().\n",
      "  return self._fit(X, y)\n"
     ]
    },
    {
     "name": "stdout",
     "output_type": "stream",
     "text": [
      "551013027 157989905\n",
      "Restoring model weights from the end of the best epoch: 171.\n",
      "Epoch 271: early stopping\n",
      "Restoring model weights from the end of the best epoch: 149.\n",
      "Epoch 249: early stopping\n"
     ]
    },
    {
     "name": "stderr",
     "output_type": "stream",
     "text": [
      "/cluster/gjb_lab/2394007/miniconda/envs/deep_learning/lib/python3.10/site-packages/sklearn/neighbors/_classification.py:207: DataConversionWarning: A column-vector y was passed when a 1d array was expected. Please change the shape of y to (n_samples,), for example using ravel().\n",
      "  return self._fit(X, y)\n",
      "/cluster/gjb_lab/2394007/miniconda/envs/deep_learning/lib/python3.10/site-packages/sklearn/neighbors/_classification.py:207: DataConversionWarning: A column-vector y was passed when a 1d array was expected. Please change the shape of y to (n_samples,), for example using ravel().\n",
      "  return self._fit(X, y)\n"
     ]
    },
    {
     "name": "stdout",
     "output_type": "stream",
     "text": [
      "40295033 481147316\n",
      "Restoring model weights from the end of the best epoch: 71.\n",
      "Epoch 171: early stopping\n",
      "Restoring model weights from the end of the best epoch: 8.\n",
      "Epoch 108: early stopping\n"
     ]
    },
    {
     "name": "stderr",
     "output_type": "stream",
     "text": [
      "/cluster/gjb_lab/2394007/miniconda/envs/deep_learning/lib/python3.10/site-packages/sklearn/neighbors/_classification.py:207: DataConversionWarning: A column-vector y was passed when a 1d array was expected. Please change the shape of y to (n_samples,), for example using ravel().\n",
      "  return self._fit(X, y)\n",
      "/cluster/gjb_lab/2394007/miniconda/envs/deep_learning/lib/python3.10/site-packages/sklearn/neighbors/_classification.py:207: DataConversionWarning: A column-vector y was passed when a 1d array was expected. Please change the shape of y to (n_samples,), for example using ravel().\n",
      "  return self._fit(X, y)\n"
     ]
    },
    {
     "name": "stdout",
     "output_type": "stream",
     "text": [
      "923417327 710362815\n",
      "Restoring model weights from the end of the best epoch: 79.\n",
      "Epoch 179: early stopping\n",
      "Restoring model weights from the end of the best epoch: 188.\n",
      "Epoch 288: early stopping\n"
     ]
    },
    {
     "name": "stderr",
     "output_type": "stream",
     "text": [
      "/cluster/gjb_lab/2394007/miniconda/envs/deep_learning/lib/python3.10/site-packages/sklearn/neighbors/_classification.py:207: DataConversionWarning: A column-vector y was passed when a 1d array was expected. Please change the shape of y to (n_samples,), for example using ravel().\n",
      "  return self._fit(X, y)\n",
      "/cluster/gjb_lab/2394007/miniconda/envs/deep_learning/lib/python3.10/site-packages/sklearn/neighbors/_classification.py:207: DataConversionWarning: A column-vector y was passed when a 1d array was expected. Please change the shape of y to (n_samples,), for example using ravel().\n",
      "  return self._fit(X, y)\n"
     ]
    },
    {
     "name": "stdout",
     "output_type": "stream",
     "text": [
      "365135881 141918891\n",
      "Restoring model weights from the end of the best epoch: 63.\n",
      "Epoch 163: early stopping\n",
      "Restoring model weights from the end of the best epoch: 192.\n",
      "Epoch 292: early stopping\n"
     ]
    },
    {
     "name": "stderr",
     "output_type": "stream",
     "text": [
      "/cluster/gjb_lab/2394007/miniconda/envs/deep_learning/lib/python3.10/site-packages/sklearn/neighbors/_classification.py:207: DataConversionWarning: A column-vector y was passed when a 1d array was expected. Please change the shape of y to (n_samples,), for example using ravel().\n",
      "  return self._fit(X, y)\n",
      "/cluster/gjb_lab/2394007/miniconda/envs/deep_learning/lib/python3.10/site-packages/sklearn/neighbors/_classification.py:207: DataConversionWarning: A column-vector y was passed when a 1d array was expected. Please change the shape of y to (n_samples,), for example using ravel().\n",
      "  return self._fit(X, y)\n"
     ]
    }
   ],
   "source": [
    "accs_pred_ANN = [] # prediction accuracies by ANN\n",
    "accs_pred_KNN = [] # prediction accuracies by KNN\n",
    "\n",
    "accs_rand = [] # prediction accuracies at random (randomly assigning a cluster label p=0.25 each)\n",
    "\n",
    "accs_pred_ANN_rand = [] # prediction accuracies of randomly trained ANN\n",
    "accs_pred_KNN_rand = [] # prediction accuracies of randomly trained KNN\n",
    "\n",
    "knn = KNeighborsClassifier(n_neighbors=3) # starting KNN classifier\n",
    "\n",
    "ann_good_preds = [] # predictions by ANN\n",
    "ann_good_preds_round = [] # rounded predictions by ANN\n",
    "ann_real_vals = [] # real labels\n",
    "ann_rand_preds = [] # predictions by randomly trained ANN\n",
    "ann_rand_preds_round = [] # rounded predictions of randomly trained ANN\n",
    "#ann_\n",
    "\n",
    "\n",
    "cv_dir = \"./results/ANN_results/cv\"\n",
    "cv_good_dir = os.path.join(cv_dir, \"good\")\n",
    "cv_rand_dir = os.path.join(cv_dir, \"rand\")\n",
    "\n",
    "for i, (train_idx, val_idx) in enumerate(rskf.split(X_model, y_model)):\n",
    "    \n",
    "    seed = 3551\n",
    "    seed1 = random.randint(1, 1000000000)\n",
    "    seed2 = random.randint(1, 1000000000)\n",
    "    #seed1 = 426359796\n",
    "    #seed2 = 44036644\n",
    "    print(seed1, seed2)\n",
    "    \n",
    "    bs_ids_train = X_model.index[train_idx].tolist() # THESE IDS WILL SUBSET BOTH DATASETS IN THE SAME WAY (INPUT FOR KNN AND INPUT FOR ANN)\n",
    "    bs_ids_val = X_model.index[val_idx].tolist() # THESE IDS WILL SUBSET BOTH DATASETS IN THE SAME WAY (INPUT FOR KNN AND INPUT FOR ANN)\n",
    "    \n",
    "    X_train_ANN = X_model.loc[bs_ids_train, :]\n",
    "    y_train_ANN = y_model.loc[bs_ids_train, :]\n",
    "    \n",
    "    X_train_ANN_rand = randomise(X_train_ANN, seed1)     # THIS WILL BE USED TO TRAIN ANN WITH RANDOMLY SHUFFLED TRAINING DATA\n",
    "    y_train_ANN_rand = randomise(y_train_ANN, seed2)     # THIS WILL BE USED TO TRAIN ANN WITH RANDOMLY SHUFFLED TRAINING DATA\n",
    "    \n",
    "    X_val_ANN = X_model.loc[bs_ids_val, :]\n",
    "    y_val_ANN = y_model.loc[bs_ids_val, :]\n",
    "    \n",
    "    X_train_KNN = ud_mat.loc[bs_ids_train, bs_ids_train]\n",
    "    y_train_KNN = y_model.loc[bs_ids_train, :]\n",
    "    \n",
    "    X_train_KNN_rand = randomise(X_train_KNN, seed1)     # THIS WILL BE USED TO TRAIN KNN WITH RANDOMLY SHUFFLED TRAINING DATA\n",
    "    y_train_KNN_rand = randomise(y_train_KNN, seed2)     # THIS WILL BE USED TO TRAIN KNN WITH RANDOMLY SHUFFLED TRAINING DATA\n",
    "    \n",
    "    X_val_KNN = ud_mat.loc[bs_ids_val, bs_ids_train]\n",
    "    y_val_KNN = y_model.loc[bs_ids_val, :]\n",
    "    \n",
    "    #break\n",
    "    \n",
    "    ### PREDICTING WITH ANN ### well trained model\n",
    "    \n",
    "    X_model_train_ANN, X_model_val_ANN, y_model_train_ANN, y_model_val_ANN = train_test_split(\n",
    "        X_train_ANN, y_train_ANN, test_size = 0.2, random_state = 12345,\n",
    "        shuffle = True, stratify = y_train_ANN\n",
    "    )\n",
    "    \n",
    "    class_weights = class_weight.compute_class_weight(class_weight = 'balanced',\n",
    "                                                 classes = np.unique(y_train_ANN.label.tolist()),\n",
    "                                                 y = np.array(y_train_ANN.label))\n",
    "    \n",
    "    class_weights_dict = {i: class_weights[i] for i in np.unique(y_train_ANN.label.tolist())}\n",
    "    \n",
    "    cv_model = Sequential([\n",
    "        Dense(units = 10, input_shape=(11,), activation = \"relu\", kernel_initializer = initializer),\n",
    "        Dense(units = 4, activation = \"softmax\", kernel_initializer = initializer)\n",
    "    ])\n",
    "    \n",
    "    cv_model.compile(optimizer=Adam(learning_rate=0.01), loss = \"sparse_categorical_crossentropy\", metrics = [\"accuracy\"])\n",
    "    \n",
    "    hist_cv_model = cv_model.fit(\n",
    "        x = X_model_train_ANN, y = y_model_train_ANN, batch_size = 32,\n",
    "        callbacks=[callback], validation_data = (X_model_val_ANN, y_model_val_ANN),\n",
    "        epochs = 300, shuffle = True, verbose = 0, class_weight =  class_weights_dict\n",
    "    )\n",
    "    \n",
    "    predictions = cv_model.predict(x = X_val_ANN, batch_size = 32, verbose = 0)\n",
    "    rounded_predictions = np.argmax(predictions, axis = -1)\n",
    "    CalculatedAccuracy = sum(rounded_predictions == y_val_ANN.label.tolist())/len(rounded_predictions)\n",
    "    accs_pred_ANN.append(CalculatedAccuracy)\n",
    "    ann_good_preds.append(predictions)\n",
    "    ann_good_preds_round.append(rounded_predictions)\n",
    "    ann_real_vals.append(y_val_ANN)\n",
    "    \n",
    "    final_epoch_good = callback.stopped_epoch-100\n",
    "    if final_epoch_good == -100:\n",
    "        final_epoch_good = 299\n",
    "    final_acc_good = round(hist_cv_model.history[\"val_accuracy\"][final_epoch_good],2)\n",
    "        \n",
    "\n",
    "    cv_model.save(os.path.join(cv_dir, \"good\", \"mods\", \"{}_{}_good_model_epoch_{}_train_acc_{}.h5\".format(seed, i, final_epoch_good, round(final_acc_good, 2))))\n",
    "        \n",
    "    pd.DataFrame(hist_cv_model.history).to_csv(os.path.join(cv_dir, \"good\", \"hists\", \"{}_{}_good_hist_epoch_{}_train_acc_{}.csv\".format(seed, i, final_epoch_good, round(final_acc_good, 2))), index = False)\n",
    "        \n",
    "        \n",
    "        \n",
    "    ### PREDICTING WITH ANN ### RANDOMLY trained model\n",
    "    \n",
    "    X_model_train_ANN_rand, X_model_val_ANN_rand, y_model_train_ANN_rand, y_model_val_ANN_rand = train_test_split(\n",
    "        X_train_ANN_rand, y_train_ANN_rand, test_size = 0.2, random_state = 12345,\n",
    "        shuffle = True, stratify = y_train_ANN_rand\n",
    "    )\n",
    "    \n",
    "    class_weights_rand = class_weight.compute_class_weight(class_weight = 'balanced',\n",
    "                                                 classes = np.unique(y_train_ANN_rand.label.tolist()),\n",
    "                                                 y = np.array(y_train_ANN_rand.label))\n",
    "    \n",
    "    class_weights_dict_rand = {i: class_weights_rand[i] for i in np.unique(y_train_ANN_rand.label.tolist())}\n",
    "    \n",
    "    cv_model_rand = Sequential([\n",
    "        Dense(units = 10, input_shape=(11,), activation = \"relu\", kernel_initializer = initializer),\n",
    "        Dense(units = 4, activation = \"softmax\", kernel_initializer = initializer)\n",
    "    ])\n",
    "    \n",
    "    cv_model_rand.compile(optimizer=Adam(learning_rate=0.01), loss = \"sparse_categorical_crossentropy\", metrics = [\"accuracy\"])\n",
    "    \n",
    "    hist_cv_model_rand = cv_model_rand.fit(\n",
    "        x = X_model_train_ANN_rand, y = y_model_train_ANN_rand, batch_size = 32,\n",
    "        callbacks=[callback], validation_data = (X_model_val_ANN_rand, y_model_val_ANN_rand),\n",
    "        epochs = 300, shuffle = True, verbose = 0, class_weight =  class_weights_dict_rand\n",
    "    )\n",
    "    \n",
    "    predictions_rand = cv_model_rand.predict(x = X_val_ANN, batch_size = 32, verbose = 0)\n",
    "    rounded_predictions_rand = np.argmax(predictions_rand, axis = -1)\n",
    "    CalculatedAccuracy_rand = sum(rounded_predictions_rand == y_val_ANN.label.tolist())/len(rounded_predictions_rand)\n",
    "    accs_pred_ANN_rand.append(CalculatedAccuracy_rand)\n",
    "    ann_rand_preds.append(predictions_rand)\n",
    "    ann_rand_preds_round.append(rounded_predictions_rand)\n",
    "    \n",
    "    final_epoch_rand = callback.stopped_epoch-100\n",
    "    if final_epoch_rand == -100:\n",
    "        final_epoch_rand = 299\n",
    "    final_acc_rand = round(hist_cv_model_rand.history[\"val_accuracy\"][final_epoch_rand],2)\n",
    "        \n",
    "\n",
    "    cv_model_rand.save(os.path.join(cv_dir, \"rand\", \"mods\", \"{}_{}_rand_model_epoch_{}_train_acc_{}.h5\".format(seed, i, final_epoch_rand, round(final_acc_rand, 2))))\n",
    "        \n",
    "    pd.DataFrame(hist_cv_model_rand.history).to_csv(os.path.join(cv_dir, \"rand\", \"hists\", \"{}_{}_rand_hist_epoch_{}_train_acc_{}.csv\".format(seed, i, final_epoch_rand, round(final_acc_rand, 2))), index = False)\n",
    "    \n",
    "    \n",
    "    ### PREDICTING WITH KNN ### with well trained model\n",
    "    \n",
    "    knn.fit(X_train_KNN, y_train_KNN) # train the model using the real training set\n",
    "\n",
    "    y_pred_KNN = knn.predict(X_val_KNN) # predict the response for test dataset\n",
    "\n",
    "    acc_pred = metrics.accuracy_score(y_val_KNN, y_pred_KNN) # accuracies of well trained KNN prediction\n",
    "\n",
    "    accs_pred_KNN.append(acc_pred)\n",
    "    \n",
    "    ### PREDICTING WITH KNN ### with RANDOMLY trained model\n",
    "\n",
    "    knn.fit(X_train_KNN_rand, y_train_KNN_rand) # train the model using the randomised training set\n",
    "\n",
    "    y_pred_KNN_rand = knn.predict(X_val_KNN) # predict the response for test dataset\n",
    "    \n",
    "    acc_pred_rand = metrics.accuracy_score(y_val_KNN, y_pred_KNN_rand) # accuracies of randomly trained KNN prediction\n",
    "    \n",
    "    accs_pred_KNN_rand.append(acc_pred_rand)\n",
    "    \n",
    "    ### COMPLETELY RANDOM BASELINE PREDICTION ### \n",
    "    \n",
    "    y_rand = [random.randint(0, 3) for i in range(len(y_val_KNN))] # assigning random cluster labels p=0.25\n",
    "    \n",
    "    acc_rand = metrics.accuracy_score(y_val_KNN, y_rand)\n",
    "    \n",
    "    accs_rand.append(acc_rand)\n",
    "    \n",
    "    #break"
   ]
  },
  {
   "cell_type": "code",
   "execution_count": 86,
   "metadata": {},
   "outputs": [],
   "source": [
    "k_fold_n = [i for i in range(1, 11) for o in range(10)]\n",
    "rskf_df = pd.DataFrame(list(zip(k_fold_n, accs_pred_ANN, accs_pred_KNN, accs_pred_ANN_rand, accs_pred_KNN_rand, accs_rand)), columns = [\"repeat_fold\", \"ANN_pred_acc\", \"KNN_pred_acc\", \"ANN_pred_acc_rand\", \"KNN_pred_acc_rand\", \"rand_acc\"])"
   ]
  },
  {
   "cell_type": "code",
   "execution_count": 87,
   "metadata": {},
   "outputs": [],
   "source": [
    "rskf_df.to_pickle(\"./results/rskf_cv.pkl\")"
   ]
  },
  {
   "cell_type": "markdown",
   "metadata": {},
   "source": [
    "### ASSESSING ANNS CROSS-VALIDATION PERFORMANCE"
   ]
  },
  {
   "cell_type": "code",
   "execution_count": 118,
   "metadata": {},
   "outputs": [],
   "source": [
    "conf_good_df1, conf_good_df2 = get_confidences_df(ann_good_preds, ann_good_preds_round, ann_real_vals)"
   ]
  },
  {
   "cell_type": "markdown",
   "metadata": {},
   "source": [
    "#### ACCURACY AND AVERAGE CONFIDENCE FOR EACH CLUSTER LABEL"
   ]
  },
  {
   "cell_type": "code",
   "execution_count": 119,
   "metadata": {},
   "outputs": [
    {
     "name": "stdout",
     "output_type": "stream",
     "text": [
      "0 0.926 7.29\n",
      "1 0.904 6.26\n",
      "2 0.875 6.74\n",
      "3 0.946 7.95\n"
     ]
    }
   ],
   "source": [
    "for i in range(0,4):\n",
    "    df_i = conf_good_df1[conf_good_df1.val == i]\n",
    "    df_i_corr = df_i[df_i.val == df_i.pred]\n",
    "    print(i, round(len(df_i_corr)/len(df_i),3), round(df_i_corr.conf.mean(),2))"
   ]
  },
  {
   "cell_type": "code",
   "execution_count": 93,
   "metadata": {},
   "outputs": [
    {
     "data": {
      "text/html": [
       "<div>\n",
       "<style scoped>\n",
       "    .dataframe tbody tr th:only-of-type {\n",
       "        vertical-align: middle;\n",
       "    }\n",
       "\n",
       "    .dataframe tbody tr th {\n",
       "        vertical-align: top;\n",
       "    }\n",
       "\n",
       "    .dataframe thead th {\n",
       "        text-align: right;\n",
       "    }\n",
       "</style>\n",
       "<table border=\"1\" class=\"dataframe\">\n",
       "  <thead>\n",
       "    <tr style=\"text-align: right;\">\n",
       "      <th></th>\n",
       "      <th>id</th>\n",
       "      <th>conf</th>\n",
       "      <th>val</th>\n",
       "      <th>pred</th>\n",
       "    </tr>\n",
       "  </thead>\n",
       "  <tbody>\n",
       "    <tr>\n",
       "      <th>0</th>\n",
       "      <td>Q96HY7_0_BS0</td>\n",
       "      <td>5</td>\n",
       "      <td>1</td>\n",
       "      <td>1</td>\n",
       "    </tr>\n",
       "    <tr>\n",
       "      <th>1</th>\n",
       "      <td>P11838_0_BS8</td>\n",
       "      <td>4</td>\n",
       "      <td>1</td>\n",
       "      <td>1</td>\n",
       "    </tr>\n",
       "    <tr>\n",
       "      <th>2</th>\n",
       "      <td>P47811_0_BS7</td>\n",
       "      <td>9</td>\n",
       "      <td>2</td>\n",
       "      <td>2</td>\n",
       "    </tr>\n",
       "  </tbody>\n",
       "</table>\n",
       "</div>"
      ],
      "text/plain": [
       "             id  conf  val  pred\n",
       "0  Q96HY7_0_BS0     5    1     1\n",
       "1  P11838_0_BS8     4    1     1\n",
       "2  P47811_0_BS7     9    2     2"
      ]
     },
     "execution_count": 93,
     "metadata": {},
     "output_type": "execute_result"
    }
   ],
   "source": [
    "conf_good_df1.head(3)"
   ]
  },
  {
   "cell_type": "code",
   "execution_count": 136,
   "metadata": {},
   "outputs": [
    {
     "data": {
      "text/html": [
       "<div>\n",
       "<style scoped>\n",
       "    .dataframe tbody tr th:only-of-type {\n",
       "        vertical-align: middle;\n",
       "    }\n",
       "\n",
       "    .dataframe tbody tr th {\n",
       "        vertical-align: top;\n",
       "    }\n",
       "\n",
       "    .dataframe thead th {\n",
       "        text-align: right;\n",
       "    }\n",
       "</style>\n",
       "<table border=\"1\" class=\"dataframe\">\n",
       "  <thead>\n",
       "    <tr style=\"text-align: right;\">\n",
       "      <th></th>\n",
       "      <th>id</th>\n",
       "      <th>conf</th>\n",
       "      <th>val</th>\n",
       "      <th>pred</th>\n",
       "    </tr>\n",
       "  </thead>\n",
       "  <tbody>\n",
       "    <tr>\n",
       "      <th>1129</th>\n",
       "      <td>Q8WVM7_0_BS5</td>\n",
       "      <td>10</td>\n",
       "      <td>3</td>\n",
       "      <td>3</td>\n",
       "    </tr>\n",
       "  </tbody>\n",
       "</table>\n",
       "</div>"
      ],
      "text/plain": [
       "                id  conf  val  pred\n",
       "1129  Q8WVM7_0_BS5    10    3     3"
      ]
     },
     "execution_count": 136,
     "metadata": {},
     "output_type": "execute_result"
    }
   ],
   "source": [
    "conf_good_df1.query('conf == 10')"
   ]
  },
  {
   "cell_type": "code",
   "execution_count": 134,
   "metadata": {},
   "outputs": [
    {
     "data": {
      "image/png": "[encoded data removed]",
      "text/plain": [
       "<Figure size 500x500 with 2 Axes>"
      ]
     },
     "metadata": {},
     "output_type": "display_data"
    }
   ],
   "source": [
    "#plt.figure(figsize=(5, 5), dpi=150)\n",
    "plot_conf_acc_cov(conf_good_df2)"
   ]
  },
  {
   "cell_type": "code",
   "execution_count": 121,
   "metadata": {},
   "outputs": [],
   "source": [
    "conf_good_df1.to_pickle(os.path.join(results_dir, \"good_confidence_data.pkl\"))\n",
    "conf_good_df2.to_pickle(os.path.join(results_dir, \"good_confidence_data_sum.pkl\"))"
   ]
  },
  {
   "cell_type": "code",
   "execution_count": 133,
   "metadata": {},
   "outputs": [
    {
     "data": {
      "image/png": "[encoded data removed]",
      "text/plain": [
       "<Figure size 500x500 with 2 Axes>"
      ]
     },
     "metadata": {},
     "output_type": "display_data"
    }
   ],
   "source": [
    "conf_rand_df1, conf_rand_df2 = get_confidences_df(ann_rand_preds, ann_rand_preds_round, ann_real_vals)\n",
    "plot_conf_acc_cov(conf_rand_df2)"
   ]
  },
  {
   "cell_type": "code",
   "execution_count": 131,
   "metadata": {},
   "outputs": [],
   "source": [
    "conf_rand_df1.to_pickle(os.path.join(results_dir, \"rand_confidence_data.pkl\"))\n",
    "conf_rand_df2.to_pickle(os.path.join(results_dir, \"rand_confidence_data_sum.pkl\"))"
   ]
  },
  {
   "cell_type": "markdown",
   "metadata": {},
   "source": [
    "## COMPARING CV ACCURACIES ACROSS METHODS AND BASELINES"
   ]
  },
  {
   "cell_type": "code",
   "execution_count": 124,
   "metadata": {},
   "outputs": [
    {
     "name": "stdout",
     "output_type": "stream",
     "text": [
      "Average 10-repeat 10-fold cross validation for KNN prediction = 98.12%\n",
      "Average 10-repeat 10-fold cross validation for KNN random prediction = 31.45%\n",
      "Average 10-repeat 10-fold cross validation for ANN prediction = 90.27%\n",
      "Average 10-repeat 10-fold cross validation for ANN random prediction = 30.25%\n",
      "Average 10-repeat 10-fold cross validation for random prediction = 23.83%\n"
     ]
    }
   ],
   "source": [
    "print(\"Average 10-repeat 10-fold cross validation for KNN prediction = {}%\".format(round(rskf_df.KNN_pred_acc.mean()*100,2)))\n",
    "\n",
    "print(\"Average 10-repeat 10-fold cross validation for KNN random prediction = {}%\".format(round(rskf_df.KNN_pred_acc_rand.mean()*100,2)))\n",
    "\n",
    "print(\"Average 10-repeat 10-fold cross validation for ANN prediction = {}%\".format(round(rskf_df.ANN_pred_acc.mean()*100,2)))\n",
    "\n",
    "print(\"Average 10-repeat 10-fold cross validation for ANN random prediction = {}%\".format(round(rskf_df.ANN_pred_acc_rand.mean()*100,2)))\n",
    "\n",
    "print(\"Average 10-repeat 10-fold cross validation for random prediction = {}%\".format(round(rskf_df.rand_acc.mean()*100,2)))"
   ]
  },
  {
   "cell_type": "code",
   "execution_count": 156,
   "metadata": {},
   "outputs": [],
   "source": [
    "ANN_pred_acc_mean = rskf_df.ANN_pred_acc.mean()\n",
    "KNN_pred_acc_mean = rskf_df.KNN_pred_acc.mean()\n",
    "ANN_pred_acc_rand_mean = rskf_df.ANN_pred_acc_rand.mean()\n",
    "KNN_pred_acc_rand_mean = rskf_df.KNN_pred_acc_rand.mean()\n",
    "rand_acc_mean = rskf_df.rand_acc.mean()\n",
    "\n",
    "ANN_pred_acc_sem = scipy.stats.sem(rskf_df.ANN_pred_acc)\n",
    "KNN_pred_acc_sem = scipy.stats.sem(rskf_df.KNN_pred_acc)\n",
    "ANN_pred_acc_rand_sem = scipy.stats.sem(rskf_df.ANN_pred_acc_rand)\n",
    "KNN_pred_acc_rand_sem = scipy.stats.sem(rskf_df.KNN_pred_acc_rand)\n",
    "rand_acc_sem = scipy.stats.sem(rskf_df.rand_acc)"
   ]
  },
  {
   "cell_type": "code",
   "execution_count": 159,
   "metadata": {},
   "outputs": [
    {
     "name": "stdout",
     "output_type": "stream",
     "text": [
      "ANN  90.27 0.59 (89.68, 90.86)\n",
      "KNN  98.12 0.28 (97.85, 98.4)\n",
      "ANN_rand  30.25 1.07 (29.19, 31.32)\n",
      "KNN_rand  31.45 0.96 (30.49, 32.42)\n",
      "random  23.83 0.85 (22.97, 24.68)\n"
     ]
    }
   ],
   "source": [
    "print(\"ANN \", round(ANN_pred_acc_mean*100, 2), round(ANN_pred_acc_sem*100, 2), (round((ANN_pred_acc_mean-ANN_pred_acc_sem)*100, 2), round((ANN_pred_acc_mean+ANN_pred_acc_sem)*100, 2)))\n",
    "\n",
    "print(\"KNN \", round(KNN_pred_acc_mean*100, 2), round(KNN_pred_acc_sem*100, 2), (round((KNN_pred_acc_mean-KNN_pred_acc_sem)*100, 2), round((KNN_pred_acc_mean+KNN_pred_acc_sem)*100, 2)))\n",
    "\n",
    "print(\"ANN_rand \", round(ANN_pred_acc_rand_mean*100, 2), round(ANN_pred_acc_rand_sem*100, 2), (round((ANN_pred_acc_rand_mean-ANN_pred_acc_rand_sem)*100, 2), round((ANN_pred_acc_rand_mean+ANN_pred_acc_rand_sem)*100, 2)))\n",
    "KNN_pred_acc_rand_mean\n",
    "print(\"KNN_rand \", round(KNN_pred_acc_rand_mean*100, 2), round(KNN_pred_acc_rand_sem*100, 2), (round((KNN_pred_acc_rand_mean-KNN_pred_acc_rand_sem)*100, 2), round((KNN_pred_acc_rand_mean+KNN_pred_acc_rand_sem)*100, 2)))\n",
    "\n",
    "print(\"random \", round(rand_acc_mean*100, 2), round(rand_acc_sem*100, 2), (round((rand_acc_mean-rand_acc_sem)*100, 2), round((rand_acc_mean+rand_acc_sem)*100, 2)))"
   ]
  },
  {
   "cell_type": "code",
   "execution_count": 130,
   "metadata": {},
   "outputs": [
    {
     "data": {
      "image/png": "[encoded data removed]",
      "text/plain": [
       "<Figure size 750x750 with 1 Axes>"
      ]
     },
     "metadata": {},
     "output_type": "display_data"
    }
   ],
   "source": [
    "plt.figure(figsize=(5, 5), dpi=150)\n",
    "plt.ylim(-0.05, 1.05)\n",
    "ax1 = sns.boxplot(y = \"KNN_pred_acc\", x = \"repeat_fold\", data = rskf_df, color = \"firebrick\", **PROPS_pred_KNN, flierprops=flierprops_pred_KNN, saturation = 0.5)\n",
    "sns.boxplot(y = \"ANN_pred_acc\", x = \"repeat_fold\", data = rskf_df, color = \"royalblue\", **PROPS_pred_ANN, flierprops=flierprops_pred_ANN, saturation = 0.5, ax = ax1)\n",
    "sns.boxplot(y = \"KNN_pred_acc_rand\", x = \"repeat_fold\", data = rskf_df, color = \"tomato\", **PROPS_rand_KNN, flierprops=flierprops_rand_KNN, saturation = 0.5, ax = ax1)\n",
    "sns.boxplot(y = \"ANN_pred_acc_rand\", x = \"repeat_fold\", data = rskf_df, color = \"cornflowerblue\", **PROPS_rand_ANN, flierprops=flierprops_rand_ANN, saturation = 0.5, ax = ax1)\n",
    "#sns.boxplot(y = \"rand_acc\", x = \"repeat_fold\", data = rskf_df, color = \"gold\", **PROPS_rand, flierprops=flierprops_rand)\n",
    "\n",
    "#plt.axhline(y=0.96, linestyle = \"--\", linewidth = 1, color = \"firebrick\")\n",
    "#plt.axhline(y=0.86, linestyle = \"--\", linewidth = 2, color = \"royalblue\")\n",
    "#plt.axhline(y=0.35, linestyle = \"--\", linewidth = 1, color = \"tomato\")\n",
    "#plt.axhline(y=0.34, linestyle = \"--\", linewidth = 1, color = \"cornflowerblue\")\n",
    "#plt.xticks(range(1,11))\n",
    "#plt.legend()\n",
    "plt.ylabel(\"CROSS-VALIDATION ACCURACY\")\n",
    "plt.xlabel(\"REPEAT FOLD\")\n",
    "for patch in ax1.artists:\n",
    "    r, g, b, a = patch.get_facecolor()\n",
    "    patch.set_facecolor((r, g, b, 0.01))\n",
    "plt.show()"
   ]
  }
 ],
 "metadata": {
  "kernelspec": {
   "display_name": "Python [conda env:deep_learning]",
   "language": "python",
   "name": "conda-env-deep_learning-py"
  },
  "language_info": {
   "codemirror_mode": {
    "name": "ipython",
    "version": 3
   },
   "file_extension": ".py",
   "mimetype": "text/x-python",
   "name": "python",
   "nbconvert_exporter": "python",
   "pygments_lexer": "ipython3",
   "version": "3.10.8"
  }
 },
 "nbformat": 4,
 "nbformat_minor": 4
}
